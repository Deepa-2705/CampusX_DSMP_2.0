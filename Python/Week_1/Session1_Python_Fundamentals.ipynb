{
  "nbformat": 4,
  "nbformat_minor": 0,
  "metadata": {
    "colab": {
      "provenance": []
    },
    "kernelspec": {
      "name": "python3",
      "display_name": "Python 3"
    },
    "language_info": {
      "name": "python"
    }
  },
  "cells": [
    {
      "cell_type": "markdown",
      "source": [
        "# Python Fundamentals"
      ],
      "metadata": {
        "id": "vOndmcF7lXt2"
      }
    },
    {
      "cell_type": "markdown",
      "source": [
        "# Why Python\n",
        "- Design Philosophy : It structure in proper indentation that's makes is look beautiful and readability\n",
        "- Batteries Included\n",
        "- Proximities with maths\n",
        "- General Purpose : It can be use in mutliple things\n",
        "- Vast Libraries/ Supportive community"
      ],
      "metadata": {
        "id": "0chzTjDkljd9"
      }
    },
    {
      "cell_type": "markdown",
      "source": [
        "### Print"
      ],
      "metadata": {
        "id": "rSW1LF5Rv3n7"
      }
    },
    {
      "cell_type": "code",
      "execution_count": 1,
      "metadata": {
        "colab": {
          "base_uri": "https://localhost:8080/"
        },
        "id": "iaAH7-J5lVVa",
        "outputId": "8a0ad262-9582-4a14-8a96-0f67f0b0b525"
      },
      "outputs": [
        {
          "output_type": "stream",
          "name": "stdout",
          "text": [
            "Hello World\n"
          ]
        }
      ],
      "source": [
        "print(\"Hello World\") # python is a case sensitive language"
      ]
    },
    {
      "cell_type": "code",
      "source": [
        "print(\"Deepa Gupta\",7,1.1,True) # it will print multiple things separated by a space"
      ],
      "metadata": {
        "colab": {
          "base_uri": "https://localhost:8080/"
        },
        "id": "1D1VcVzFoLVs",
        "outputId": "b482f720-5abb-498b-958e-421b3a5bcefb"
      },
      "execution_count": 2,
      "outputs": [
        {
          "output_type": "stream",
          "name": "stdout",
          "text": [
            "Deepa Gupta 7 1.1 True\n"
          ]
        }
      ]
    },
    {
      "cell_type": "code",
      "source": [
        "print(\"Deepa Gupta\",7,1.1,True,sep='/')  # it will print multiple things separated by a forward slash"
      ],
      "metadata": {
        "colab": {
          "base_uri": "https://localhost:8080/"
        },
        "id": "Ay8mg_F1oLYo",
        "outputId": "3f63d6b7-5708-46ce-a6e5-26056058135a"
      },
      "execution_count": 3,
      "outputs": [
        {
          "output_type": "stream",
          "name": "stdout",
          "text": [
            "Deepa Gupta/7/1.1/True\n"
          ]
        }
      ]
    },
    {
      "cell_type": "code",
      "source": [
        "print('Hello')\n",
        "print('World') # both comes in a new line because bydefault end='\\n'"
      ],
      "metadata": {
        "colab": {
          "base_uri": "https://localhost:8080/"
        },
        "id": "m-RsSV-Tv8hV",
        "outputId": "108c3fd9-3aec-41f3-b3aa-3c4064d83c15"
      },
      "execution_count": 4,
      "outputs": [
        {
          "output_type": "stream",
          "name": "stdout",
          "text": [
            "Hello\n",
            "World\n"
          ]
        }
      ]
    },
    {
      "cell_type": "code",
      "source": [
        "print('Hello',end='-')\n",
        "print('World')"
      ],
      "metadata": {
        "colab": {
          "base_uri": "https://localhost:8080/"
        },
        "id": "B_yGznRowMdg",
        "outputId": "9052e520-4ab2-4a8b-a5cd-cb491b2e219f"
      },
      "execution_count": 5,
      "outputs": [
        {
          "output_type": "stream",
          "name": "stdout",
          "text": [
            "Hello-World\n"
          ]
        }
      ]
    },
    {
      "cell_type": "markdown",
      "source": [
        "### Data Types\n"
      ],
      "metadata": {
        "id": "7CHfqop-v5bG"
      }
    },
    {
      "cell_type": "code",
      "source": [
        "# Integer\n",
        "print(7) # integer and long int is almost same in python"
      ],
      "metadata": {
        "colab": {
          "base_uri": "https://localhost:8080/"
        },
        "id": "8ZHNULi-oLeF",
        "outputId": "02d371ca-75f3-464e-c0dc-1e8e35b92594"
      },
      "execution_count": 6,
      "outputs": [
        {
          "output_type": "stream",
          "name": "stdout",
          "text": [
            "7\n"
          ]
        }
      ]
    },
    {
      "cell_type": "code",
      "source": [
        "# Python can handle this much of large Integer number\n",
        "print(1e308)  # 1*10^308"
      ],
      "metadata": {
        "colab": {
          "base_uri": "https://localhost:8080/"
        },
        "id": "hGpM-9rsoLgu",
        "outputId": "5dcb31cb-a2f4-4925-8b04-e6ddfeb9ba64"
      },
      "execution_count": 8,
      "outputs": [
        {
          "output_type": "stream",
          "name": "stdout",
          "text": [
            "1e+308\n"
          ]
        }
      ]
    },
    {
      "cell_type": "code",
      "source": [
        "print(1e309)  # infinity"
      ],
      "metadata": {
        "colab": {
          "base_uri": "https://localhost:8080/"
        },
        "id": "1Ovytd80oLje",
        "outputId": "be35a1eb-2db7-4641-d484-419ee3cbcd2b"
      },
      "execution_count": 9,
      "outputs": [
        {
          "output_type": "stream",
          "name": "stdout",
          "text": [
            "inf\n"
          ]
        }
      ]
    },
    {
      "cell_type": "code",
      "source": [
        "# Decimal/float\n",
        "print(8.77)\n",
        "print(1.7e308) # max limit of decimal"
      ],
      "metadata": {
        "colab": {
          "base_uri": "https://localhost:8080/"
        },
        "id": "tEa2yDmjoLoz",
        "outputId": "f92279c6-3f14-47e6-bdc1-951d193bb614"
      },
      "execution_count": 10,
      "outputs": [
        {
          "output_type": "stream",
          "name": "stdout",
          "text": [
            "8.77\n",
            "1.7e+308\n"
          ]
        }
      ]
    },
    {
      "cell_type": "code",
      "source": [
        "# Boolean\n",
        "print(True)\n",
        "print(False)"
      ],
      "metadata": {
        "colab": {
          "base_uri": "https://localhost:8080/"
        },
        "id": "wJuY5rgroLrr",
        "outputId": "51be0690-f7e9-4962-a2ac-cb5a2868ddf9"
      },
      "execution_count": 11,
      "outputs": [
        {
          "output_type": "stream",
          "name": "stdout",
          "text": [
            "True\n",
            "False\n"
          ]
        }
      ]
    },
    {
      "cell_type": "code",
      "source": [
        "# Text/String\n",
        "print(\"Deepa Gupta\")  # Python does not contain char datatype"
      ],
      "metadata": {
        "id": "C3gAp6XjoLuR"
      },
      "execution_count": null,
      "outputs": []
    },
    {
      "cell_type": "code",
      "source": [],
      "metadata": {
        "id": "niSD40yAoLzn"
      },
      "execution_count": null,
      "outputs": []
    },
    {
      "cell_type": "code",
      "source": [
        "# complex\n",
        "print(5+6j)"
      ],
      "metadata": {
        "colab": {
          "base_uri": "https://localhost:8080/"
        },
        "id": "H7OOa0e8oL2i",
        "outputId": "c3e75f68-00f4-4b01-c436-8589934d00bd"
      },
      "execution_count": 12,
      "outputs": [
        {
          "output_type": "stream",
          "name": "stdout",
          "text": [
            "(5+6j)\n"
          ]
        }
      ]
    },
    {
      "cell_type": "code",
      "source": [
        "# List\n",
        "print([1,2,3,4,5,6])"
      ],
      "metadata": {
        "colab": {
          "base_uri": "https://localhost:8080/"
        },
        "id": "itIcsLcRoL78",
        "outputId": "b03f9c2f-af75-4ea8-9b97-d5fccd66b9b5"
      },
      "execution_count": 13,
      "outputs": [
        {
          "output_type": "stream",
          "name": "stdout",
          "text": [
            "[1, 2, 3, 4, 5, 6]\n"
          ]
        }
      ]
    },
    {
      "cell_type": "code",
      "source": [
        "# Tuple\n",
        "print((1,2,3,4,5,6))"
      ],
      "metadata": {
        "colab": {
          "base_uri": "https://localhost:8080/"
        },
        "id": "aMrJ6eeRoL-1",
        "outputId": "9eeed34b-da98-425b-b282-78b1eccf33f8"
      },
      "execution_count": 14,
      "outputs": [
        {
          "output_type": "stream",
          "name": "stdout",
          "text": [
            "(1, 2, 3, 4, 5, 6)\n"
          ]
        }
      ]
    },
    {
      "cell_type": "code",
      "source": [
        "# Set\n",
        "print({1,2,5,5,5,5,4,3,0})"
      ],
      "metadata": {
        "colab": {
          "base_uri": "https://localhost:8080/"
        },
        "id": "3uTE1hkRoMBt",
        "outputId": "c1ba2fe3-c7db-4306-bab0-67e2330d1a81"
      },
      "execution_count": 15,
      "outputs": [
        {
          "output_type": "stream",
          "name": "stdout",
          "text": [
            "{0, 1, 2, 3, 4, 5}\n"
          ]
        }
      ]
    },
    {
      "cell_type": "code",
      "source": [
        "# Dictionery\n",
        "print({'Name':'Deepa',\"Gender\":\"Female\"})"
      ],
      "metadata": {
        "colab": {
          "base_uri": "https://localhost:8080/"
        },
        "id": "52uvH_pJoMEM",
        "outputId": "bb081929-328e-41b4-a7c0-1c95d14e6c15"
      },
      "execution_count": 17,
      "outputs": [
        {
          "output_type": "stream",
          "name": "stdout",
          "text": [
            "{'Name': 'Deepa', 'Gender': 'Female'}\n"
          ]
        }
      ]
    },
    {
      "cell_type": "code",
      "source": [
        "# type function\n",
        "type(6)\n",
        "type(True)\n",
        "type([1,2,3,6,44])\n",
        "type(7.8)\n",
        "type((1,2,3)) # only print the last cell"
      ],
      "metadata": {
        "colab": {
          "base_uri": "https://localhost:8080/"
        },
        "id": "aCYFLsUToMJc",
        "outputId": "67031f4d-a1f0-4c64-d556-01e058990797"
      },
      "execution_count": 18,
      "outputs": [
        {
          "output_type": "execute_result",
          "data": {
            "text/plain": [
              "tuple"
            ]
          },
          "metadata": {},
          "execution_count": 18
        }
      ]
    },
    {
      "cell_type": "code",
      "source": [
        "type(6)"
      ],
      "metadata": {
        "colab": {
          "base_uri": "https://localhost:8080/"
        },
        "id": "QLKnZZT1oML6",
        "outputId": "a0ea9e27-acc8-4f9b-9924-8905052ece70"
      },
      "execution_count": 19,
      "outputs": [
        {
          "output_type": "execute_result",
          "data": {
            "text/plain": [
              "int"
            ]
          },
          "metadata": {},
          "execution_count": 19
        }
      ]
    },
    {
      "cell_type": "code",
      "source": [
        "type(True)"
      ],
      "metadata": {
        "colab": {
          "base_uri": "https://localhost:8080/"
        },
        "id": "VDKWpvERoMOf",
        "outputId": "e3dde650-9062-4ea5-98ce-94f4c5153dfc"
      },
      "execution_count": 20,
      "outputs": [
        {
          "output_type": "execute_result",
          "data": {
            "text/plain": [
              "bool"
            ]
          },
          "metadata": {},
          "execution_count": 20
        }
      ]
    },
    {
      "cell_type": "code",
      "source": [
        "type([1,2,3,6,44])"
      ],
      "metadata": {
        "colab": {
          "base_uri": "https://localhost:8080/"
        },
        "id": "0smcFI04oMRH",
        "outputId": "f191ed9a-dc08-460b-d164-947356b43a9e"
      },
      "execution_count": 21,
      "outputs": [
        {
          "output_type": "execute_result",
          "data": {
            "text/plain": [
              "list"
            ]
          },
          "metadata": {},
          "execution_count": 21
        }
      ]
    },
    {
      "cell_type": "code",
      "source": [
        "type(7.8)"
      ],
      "metadata": {
        "colab": {
          "base_uri": "https://localhost:8080/"
        },
        "id": "HWfHyOERoMWa",
        "outputId": "950c0569-f73c-4bf0-c758-2dff072f7897"
      },
      "execution_count": 22,
      "outputs": [
        {
          "output_type": "execute_result",
          "data": {
            "text/plain": [
              "float"
            ]
          },
          "metadata": {},
          "execution_count": 22
        }
      ]
    },
    {
      "cell_type": "markdown",
      "source": [
        "### variable : Container for future use"
      ],
      "metadata": {
        "id": "OLaGDO6N0rI9"
      }
    },
    {
      "cell_type": "code",
      "source": [
        "# Dynamic typing :We do not tell datatype of the variable\n",
        "val=10\n",
        "# Static typing : we have to tell datatype as well (like in C, Java)\n",
        "# int val =10"
      ],
      "metadata": {
        "id": "UXCyVtmO1XED"
      },
      "execution_count": null,
      "outputs": []
    },
    {
      "cell_type": "code",
      "source": [
        "# Dynamic Binding : we can change the datatype of the same variable later in the program\n",
        "a=10\n",
        "a=\"Deepa\"\n",
        "# Static Binding : Datatype of a variable will remain same throughout the program and we can't change it.\n",
        "# int a=10  (a can't assign to float or string later)"
      ],
      "metadata": {
        "id": "Mylg1JCd2FQ6"
      },
      "execution_count": null,
      "outputs": []
    },
    {
      "cell_type": "code",
      "source": [
        "name=\"Deepa\" # we define without mentioning data type"
      ],
      "metadata": {
        "id": "Ok6kyY2moMZQ"
      },
      "execution_count": 23,
      "outputs": []
    },
    {
      "cell_type": "code",
      "source": [
        "a=5\n",
        "b=6\n",
        "print(5+6)"
      ],
      "metadata": {
        "colab": {
          "base_uri": "https://localhost:8080/"
        },
        "id": "_12YGIYsoMeG",
        "outputId": "79d78a0e-dffb-45d6-e480-9b697ca0615a"
      },
      "execution_count": 24,
      "outputs": [
        {
          "output_type": "stream",
          "name": "stdout",
          "text": [
            "11\n"
          ]
        }
      ]
    },
    {
      "cell_type": "code",
      "source": [
        "# multiple declaration of variable\n",
        "a,b,c=10,20,30\n",
        "print(a,b,c)"
      ],
      "metadata": {
        "colab": {
          "base_uri": "https://localhost:8080/"
        },
        "id": "kn0iI0luoMgw",
        "outputId": "33908de1-6383-46cb-e8bc-60d85e0bd775"
      },
      "execution_count": 25,
      "outputs": [
        {
          "output_type": "stream",
          "name": "stdout",
          "text": [
            "10 20 30\n"
          ]
        }
      ]
    },
    {
      "cell_type": "code",
      "source": [
        "a=b=c=5 # same value assign to multiple variable\n",
        "print(a,b,c)"
      ],
      "metadata": {
        "colab": {
          "base_uri": "https://localhost:8080/"
        },
        "id": "voozV3kgoMjd",
        "outputId": "5ac25f31-e753-4846-f19b-eac4686a4e69"
      },
      "execution_count": 26,
      "outputs": [
        {
          "output_type": "stream",
          "name": "stdout",
          "text": [
            "5 5 5\n"
          ]
        }
      ]
    },
    {
      "cell_type": "markdown",
      "source": [
        "### Keywords and Identifiers\n",
        "\n",
        "![image.png](data:image/png;base64,iVBORw0KGgoAAAANSUhEUgAAAhsAAAC7CAYAAADMpFx6AAAAAXNSR0IArs4c6QAAAARnQU1BAACxjwv8YQUAAAAJcEhZcwAADsMAAA7DAcdvqGQAAL73SURBVHhe7Z0FgFXF98cHNugQAQEDBBEwEEVaBVGw62cnYndjJ3Z3gPW3UAFBxG5ROqURpEGkO3e5//M5953du4+3RWzgfJfh3Tt36s45c+bMmbkzJSpWrBg4QYkSJVx6erorW7asW7t2rVu9erX6gSDQIB4eHh4eHh4e+UbJ2K+Hh4eHh4eHxw6BVzY8PDw8PDw8dijypGzYdIqHh4dHcQAyKzdXkCisfD08igrybNnwjWTHISqItpfz8CjuSMTXeXV5QX7Cbk/kt5we/x1EeWNrXFFGnhaIRpGfxaJ5ffltXYBaWJVMubPLO6dnhryE2RHY1vreFsS/b37Lkpf6sjQtbF7zyCntnNIgHs/zUraCQn7rtSiisOpze9fd1vJVYSA/db4jy74jaF/U28T2emfeM7u0tkcdkPbWpLPD1mzsCGaJB3kURD7ZIae881Kuwip7YdZZPPJTlryGJVx+3zG38NmlaX75zc8jZxRmfW7PvLdHWqQRdVHEPzOXX2xNvK3JJztY/ltTjrxiR6W7PbA9y5ZTWtuaz7bEz7Nlw65QaKL5JdJvctKs8orcNCfST05Odps3b1ZXGKAMJUuW1F/KSzniy52UlKTPC7OcwMpIec1B77S0tIznhtzqHti7J3rnRIimHw/i2/NoWjnFSYREaRh9eE9+sytrfvPKDpYfdVtUkai+uc8PPXcUthcd4kG6uPh3K4h3ze6dcsrbyluYMiMe8e+RqC4JY7IFcG/++UFueW1vRNNPVNZE+ef3nXYUTObkp+0Sjng4QNx4Xsvt/UiDMHnNM0dlwwoCeE7WwWaCB5IBfvpIFY68ZZc/5PUlKGdew25PxOepdRRX+dHr/JSTdMD2ei8rWzxDWj6JYOEsTDRsfoVgbvlQN4SJf9/c3t/StTSAvWM0vWjd55RmTuXMDeRhQhYlMy/5FQVQ1qjSWZDlJb9onds1ZYiWIz6MPbfr3EC4RGHzEndbkF2+5pdd/uZvPM09cezaYH5RZJfmtiD+PRKVH7/8dFj2jDTiw1n6dp1feZNfRMtS3BBPg9xAGFz8gCgvcRMhr3WWVKpUqQe5ICMipaSkuE2bNrmNGzcqoxuzU7DNPE9OktRFoMt/GYWT+60sZ75h5SldurTbbbfdtAzr16/P8C8IkCeOMoiy5sqXL+8qV66sdUTdRctSrlw5V7VqVbdhwwat34w6S4Ccnm0r6FBAamqqq169uqtSpYoT2iudc2vIxgdRV6FCBX0vi59b2bN7jj+ONIEpCubwp8x2Hw9LN/qcOJbuLrvsojSinInix8PSyx+IQ/txrlKlSpJfBaW3lSEv+W5PkKfVp5UBFw/zh2+hpQ00CgrxClm8M56Nlp1rnpkf13lBNI2CRHb55uaPTKGNwke0CaMnIIy5RPc7AonStjyj9ID/kQ2UG+S1TBYummZBwPisIPPMC6wecLmBvifKKznB0oSf6JvgM+RjdMCRCBZnW5CjsmEFoFBnn322O2C//d306dPduo0bXOMDDnAXXXSRW7Z0mVu4eJFOaUAqexmcIeqXqMDR51HE3wPiU8799tvPffDBB2733Xd3P//8c4ZgMmSXZn6QKD735IWAPvzww90rr7zizjnnHHfMMce4iRMnunnz5mknTjjCnHTSSe6tt95y//77rz6397e0SQtn+Zh/zZo1XZkyZdyaNWsy/LKDPceRPo5razxck0eNGjXcXXfd5e6++2532WWXuWbNmmndkQfPo42NOIAOqFatWkpfOiL4A9445ZRTXJcuXdzkyZPdP//8E9I/QXwrU3awstFIDjnkEHfBBRe4o48+2h1xxBFu//33d8uWLXOLFi3SOjVYmvZLvjQYlCganE2Z8OzKK690p59+uhs4cGBG+eMbJGHNEYfnUb+oywru8Zc6l2ebg3R3+WWXa7sYNGigW7VqVUa9RuMmSi+7+2jdxYcxWF3EP4/6Rf2tPBaP+3vuucd16NDBDRgwICMsZbcw2xukbUrOueee60488UTXrl071759e9eyZUul+8KFCzOmSq0M/OLwgydoJ5Rx3bp1CevKXCI/nNUFLjcQJlrX0boxP97L/KJhzQ9wTb7xsHC827HHHuvuuOMON3r0aLd48eIM/re4/Fr63JuLlglEw5k/95a/PTdE76PpmX80Dbu2d4aeyJXOnTsL/w9S67jxfzwID+1QTKIyLlG5uI7+5gbCRelg4B5n6QILW61aNR3URAeuFj6Rs/c3ByxPu+eXcPFhow7Yc8Cv5W+/2dWf+dN+rr32Wjds2DBtN9H0osDP6MH1Qw895G6//XaNz6AMGWntjTQIa2nxG6VNovRzQ2atJ4AlmCqMfv1117nLr7hcRvNl1O/AAw90d95xp2vYqKHep6aW0sJQUIBQj740BQcwJOF4xovZy+Hw5z4aLzvQqcydO1cbYrQiiG8VaukarJISpW3lMVgYS9fAPY7ndLI//vijmzlzpmvTpo0SDPDM0lq6dKmbM2eOdjzxeZMOHSPKnb0/QMl47bXX3I033qjp0OFTvkSIpkdYS5N6pvHgqA+eXXzxxe7yyy93Q4cOda+//rr76aeftKEDy9sA/fCrW7eue//991X4cY81B6DkHXbYYapRA54Rh7zs/Y0uvJvdA6sHKzv+hEH5uf/++1V5O/744/X6zTffdI0aNcoQAuai8YlLJ9WzZ0/XpEkT9aMOQePGjbWclA1QL8SnnPhZnZnDnzqz9OOfAa5jWQukLDQjUTjA3lJfLVq0lPzLSpiSmgflw5Eu+dk95cDP0rf34dfekXDmZ7+ENZA+ftauovUM8OOe55aWpQ3snfbdd1/XvHlzrTfSJB58hIsvw/aA5YuSePPNN6tDwTzyyCPV7brrrvo8Wi+AshOXX3jz3Xffdf/73//0WbSdWPpW11ZPpMcz6olf7i1MTiButK4JHy0bv9ASf55H06dMVi4Lb/nZfTwYGMC31t7Im3ShB2kRz+gDjI8JwzMLA6xM/OJneVuZeGZljJbf+ABYmpZHNA3eGz/AIBA+snJbGaIgPGk/8MAD7qmnnlJrCOHwJz2rN97Nymb0zA7Ep8w4QHzzIz6Oe3s/7nlGusiwF1980V166aVaLsrOc2DlJ72oI51oGK6tvOZneRnNLDz+PI+GAdxb+fGPj5cd9tprL61zFDdAeN6LX0uTa9LEcc87jBgxQvsvZDn9ueVjZbN0KB/xqBsLszXIU8zNktlq6ZSii0Y3SUWsWr1KMo816mCzjoD32Wcft8cee2gBcRCO6Q40c7TH+vXruzp16qj5hue8+J577qnxGJlaxWcH8mc0RAf96KOPuh49PsZX15LwDP+KFSpKevVFgDZwe+9dV/OinFaJ4TtkOu4tX96hdu3a6rimAcSDsFT61KlT3eOPP+7+7//+zy1ZskTzBkZU3nv27NnuzjvvdL///rsSjrwgNOB9GzRo4Bo2bKhavgkU6pm8EcSkyb0JlUQw5icsQoqOAwYE5k98GIqR0m233eZeeOEFVThsVGFlMoR15LSTp4zQkTArVqxQf8qJFo2Vg7KiEFBeS4v8YGKED/SmHFZvBsvDQDmxYmB5wXLyzDPPqPLQqVMnoePeykOkQ/o4Gpd1SqTFO5MHz3gvrlFKUfioe3gMawnvQnjKSJ3Xq1cvgwYWn7LDZ/AOecMPpMEzEPvZAsRfK3lv2MC0TTj6Jn14gbKQH+lBI5RT/HgHym7lIg/qiTj4E452QnngGcJwTTzqn3qn/LwfygLvRVmJx3uQLr+8O22TtKweuadNAuiJH3QgffwpJ/VCO7B3356Av6iDb7/91l1yySXurLPOUsvQ8OHD1aJKHfBO8DXvh8nYeIm48BZKBqCdUEbenTpA3sC70C5Kb/ypE+Lx3NIFhIuCe6MJ5YTnoB90wZGGTXlQr9QndUb60JB6Jwxl5p5f6haZZ0I/O9j7AH5JG/rzHoB72hd1BM2gt/ER4Sk3eVB3KGaE456y4gd4H/ypT67hI9IkLdIkDd6PMPAy8XhOnRqvQQdkAHlT9wyssgPpWbskD+oCviMdrFOUm+fQA/6j7ZA/ZSFt4icC/oQB1C3l45d3NbnK+0Eb0oUm5EW+lJey85xyITvwJ02r/ygoB/VBeOjLu5MefMT7kBe0Jn/aHP7cUz7qHxpSLvibslDnJseISxr4wWfc4xK9t/khA3gH8uA9iEvaxIPfyBe6URbKhB+OwdmDDz6o1mne196VeNCG9yMP6pJ2ZvJ3qyGCKsCJdhkIUQOpCP2VR4EQSX+F8MFvv/0W9OvXLyiVmqp+J510UvDvggXBaaeeGpSScHfdeVcwduzY4K+//gpEUATnnXeehhPtPBBBEojmGHz55ZeBvFjw888/By1atNA8H3vssWDKlCnq/vjjj0BGKYEQMxDhFsiLaho4rnGU7dVXXw3GjBkTDB48WPI5X5+nppYOSpZICpo0OSTo27dfMHHi5GD8+InBjOkzg9NOO13DpKSkStopQcmSyZJWUsyV1GfCNIEoL4Foe8Gff/6p5ZRRdSBMoOWx/M3hJ41a455wwgmBKBWBjK71XogeCBMFQsxgwoQJ+t4HH3xwIIwWCFPqu11wwQWBKCCBKCzBtGnTggEDBgSiDAQHHHBAcN999wWTJk0Kvv/+++DGG28M7r3nnqBVy5aaNnmTfrQcOGEMTXPIkCGBKBTBqFGjgieffDKQRqFlueOOO9Rv5MiRwV133RXccsstWibSjL4faeMnzBocffTRwbPPPhv8888/wccffxzcdNNNgShOgTSe4IYbbghmzpwZvP3228HAgQP1ukePHoEIB40P/anLv//+W+uS/CgjdQBfkY+9h9XjZZddpukcddRRet+sWTOh4XitB9wTTzyh9ccz+OC1117Tcl1++eXBe++9F8ybN0/57NZbb9W0pJMMRKEKxo0bp2GhxaxZs4Knn35ayyINSJ/jj/v111+DY489Vp+JMhZ8/vnnwTvvvKO0wFFv5G/1Du/AQ0klU+Q+bBdPP/2stIPxUu+1gho1agXvvvt/0h6GaV2KgNH8pk+fru8JzVu3bh1IB6t0g/dJg7ShTd++ffX9X3nllUAEj77rG2+8oe3mpZdeUj5p06aN1g3hJk6cGHz44YeBCBVNB3rJyEXfBVrAZ++//34gna2UrUYgypzWDe1WlMjg66+/Vv8zzzxT2xbpwZ/Dhg3T9mplM17B4bc1zmSLdJhahm7dum0R5sQTT9Ty866DBg3SNvbFF1/o+8EjvBd+n3zySXDttdcGokQHBx10kMalLpFZlB+ZdI+0IWjH+1FHMkBQxzsie+Ah4lGu+HeEZ2mzp59+evDDDz9oerQxaAb9yBsawGO0MWhLu2nVqpWGf+SRR5RfSQvawau8L9fxbY97ynHVVVcFc+bMUXmAP20ZGovirfJaOgltV7wfeVJX7dq10zJdccUVmg7lpq1SP5SX9inKldZn7969A+lQtF4od9OmTdWPuiBdZLbRnLaMDHv55Zc1ffKkbZA273DvvfeqXEFuimKv8t/kAPVp72fv1rhxY5UHQ4cO1XJx3aVLF5WjhDn++OODX375Rdsk7Q6eRYbxLCo34uuNNsK7wc+UhbhPPfWUypdDDjkk6NOnj7aBGTNmaP2LkhA0b95c65Kw33zzTXD99dcHt99+u4anrNH87Jp3pg8iPdoJ/RbtknaNPITWyG3qBN6GbtQR/sgAZIrxoMkW5Ck8duGFFyqvw2OkR73gT1l4x+g744dDJhP23Xff1baKzKXOkH/wwDXXXKM8gj91A3+IoqjpIOepa3hElAmlF/nBb8gbkxHwxQMPPKC6AHmSrpUFZ2XJyeXJsiEJq7aDRvvMs886aTw6CikR09RPPe00GS3fqmYZ5oBWrlzphIFUy0L7xZTN6BQNVl5aR9j4n3HGGWrWZ1SDhiUvqnNPpmlLhcZKICWNaF2sM/jqq69U80NjC1FCrSuMjNq2beekQes89Esvv+xmzpiZESZMBo2whCtZArMgZqUUd/XV1zghipPG5ISRVFtHozPtPhGsTDyPhqHcaOkiGLVOpONQLRHtEcfIA5MdZX/44Yd1bvajjz7SKSERlu7kk09W7RaN+DSp2zPOONOJ0ImlnhXQBhq0bdtWLT1ouJgmmXvnfRglos2SJiM66harAQ6NHETr2d6DNEVY6nQG5eUdmNuDZmjzaP+MeI877jitM1FENSw8Qlh4hGku+EAanZOOz4nw0venzInqlHJYXUqD1jIyIhNBp1NW559/fkY9YDbkOTwlAl9NzowuWEcDD7BWhtEC5UTTp36kgTtRUnX9EbQVwaJhRWg4UWT0PZm6IQ/yZx0B7yPCQdcPiCDQd4fu0vC1HCDIaE/hD3VHPT/66CPu3HPOET7or3PY0IP1I0xLkQ/0YPpABKCWnWku8oXHoTu8YO0OyxHvxnTdoYceqiM+6Eo98y7PPfeclpN1D6zLIR1Gh9xTF9LpKX8xuqHtiULmpENT2mHlogxABI22VdKUDlPbM20Jyx0w+mwvQHPekXUaMvBQa9Z1112n7YU6gZeYVsMi9+mnnyqdqQP8oQ9hqCfoCG8yIkPeYKInXax4onRI+75ap2fID37gHal/2ijvCr1A/Lshk+BZ8qN80mFofUkHozSgnPix3gX+l05Y254obFrP8+fP17YOT8E38K0oSm7BggVqJYzyUTyQPYwmyRdeJV3aAu8pHYaawLGaImukM9P0eGdRtLVtUu6OHTtqO2bEznvDR7QF6oI6x493Jz7tUzphpTuyFd6iDfGO8B7tj3UB0hGqxRF/yoElUjok9/zzz2v7MpkEovVpcobRPPUD/yKDTj31VJVTovCo5QE5Rr60SeSiKCHKr9Qn6UblFfWHH8+oC+gqnacTpUOfkx5tlv4FvujatatadGmHyAF4h7Zm1gSm5OA36glE8wLG/9QvU7dYTXkfpgCREeTHu8B3TJ/TzuFdZDzyirjwG3WJtQB+gQ/pC2jn0AF6UqfQW5QQTRvwrtbnRIFlg/qiPPSN9KfUGe8A7akXUbBUFrPmkrJQ16TF+1Emoxf8gwzAamZrEZGPrDmEr5jqBtA4v8hak9mAQsH4NGyYEKJRGApYsaIIZXkxiE3lYr6hA6DScVQEL0BnxGI95lhRFPCHyXhGw+OFjVgwIf5GWJyVAyXgs88+00ZBx0qDij3kP10ESDgYgGumOEaPGSlCo1TGZ7vG/iWTwtc/4IADVdBDJDrF7t27O9E2NR0jQjyiz7jGGRBQvAudW69evbSh8z6A8nKNYEBIYcZFILE2gXqwTltGR+67777Tzvy4447VRmfltryidUOHS74s+hGNVJUY0WK1o0EQIIxF21dlj0ZGHggrmC2jDgW8E2mSB42+c+fObvny5VonCCjKg6BFCNIooAOCgAbMPcIDAYeiiYJAODo5TP3wDYjWVRSUhfB0ypj4UERltKV1gwLIMxaQ0ugQuCi15EsZEUzQm7IgGKGndeLwIw2OKa++fftq/jQ21qHIaEbrjMXGLPalA6Ezox6gC0Lj6aefdv3799e06MRBWO8hP2WipNso7aRChYru5Zdfcke1P8rdJMoEtKDjR6hBdxyNlQ4cYccvi4jJF+UA/kcYIjigOyZX6MV7I+DpZFGMuKe8MuJURYOO+uuvv1ZeQHChaNFeUD5RQBBsMgJXISejVeVN6pq4MprVd4I3aVekjbILH/KcukQIGc9RfsKAsC7yB4tDOtADYU9nR9lRiPCzNoNyxiBERo9KE8rPuyLUqTtkinX2LHLjGjkya9YslUdMR0A3FiBbm5XRpio1KGkIUzpQwPMof3JPGVG0SQt+YD0VnT71i1wkPHVGe6Ezk9GttkXC0z6Ij+Dml86MqUJkQzysboHli6KBsiIjTa0D6AkfUfe0L+Qu6SHvuKaT5d3JB36lrSMHqCPaFzyPP+VGNlDvtFuUKdoA9UF7o9zQA8e7URb86PyQv8gp0qFz//XXX1VxRdYiY0xBi4L34p0oA3IWHkYBnzBhgr4PHSrviAIET0NfyoPCg6KMTEFpAKRhNDIepJwMqHhP1rpBA2hKOZA7KKnwDuWAr5DJ5EkboK3JqF9lA2WhjrgmH8JG+QFwzzsOHjxYZQZyBx6FptQT9Qpfwiukc9999+mHA7wz7RfQnlAgaZvIFtbR0fbpX1EMyBv6ojwjIwB+URiv0C4pA2kh55AZ0Je0UDpQREgT+YlyhGJjg7bou9k1dUbalJkBO4o7bQ/+ou0ZqHvqIa/IUdmIZs4LwRh0AGhoVDKEQOjRkNesWasaO8KLDodGTydlBIMhqRAYnw4BwiOAeYaQoCFxj+ZMI7aKTPRLWSAC11ZGrpOTU7Wie/T4SDUyGsWX/b+UcnXQPqFEyczGDOx6991raUWiSfKuMASdozFyfkG6FheFgjIao/AMgcEoAA2cERejKxoJFh8EI+9POQiHIKCzXL9uvVqS4kHa1Ac0QPtEYbHGzj11SlmgBXnT4OmkySNesEbBMxwdI6Bc0A/BA81oVKSJ4gGoP9JESydPwtNpQGsEASMehCIgfiJQFsrKu6CB00HiqAfiQx94BYGAUILHpk6dqnHtfcgXRZaykg8NjIaGdcVA3TCaIz+EDPHIl/JR33QSvA/KMzxvcYAJC+gZ5aUQrAvYpLzTqmUrN2fuHOmU+usThDpthfJQfkaE0MnKxWJd6poRH0KJkRNKOaMi6pO2RVkQAPA2fEWZcCgE0IO0eU66OMpIO2O9EKBtoFihvBAfAYdQ4p14Z+oAIUyHhTWATg5lDN6EloC6ol6JZ3WyNTC+Iz3KiuKLQoxwhObQkfJAR+gMjMeoR2DWFvgZmhtv8n68ByM7Bg90NHSC0JM6ob0gZ+ALeBilA4EPPYkf3yYoHxY2eA0lBVAWykdYntPWSBNAC+qHtoC8o/x0YPAuI0PqlrRMNkZhPEV8aETZUdZRIsmLd6N98L50wMhNZCE0pp0gZ+nIGMjBR5SbQQu0Jj86NCyOKJcMHmgH8DxpT5kyRfMGtAXoS13zPtQ7NAJ0/nSkxjtYb8mb+oAHSWvLtpG1P6He+SUN6IaMg2bUGc9o/6QHoBP1TX3Ew/KhvUAHaEA8+BlliPqlvsiLuqP/gs9oJygj8Bf5wYfUKdfUN3WS6B0A70G9sB4PPiVtBqfkRZ7UCXKYjp1w1B28Sv6Egf/gR+qb94ffaWcoAdQjFhZ4kkETdcvAFVDGaJmgJ+C9kR2scwKkT7ooGcgd3gsZjGWDNgGvwK/AaGIgfRzlhtexfALqg/yi+fPepB2fRnbIUdkwkBgJkyEMwT1E4nf16lVuhTR2Kp2OhUaFY2TJiBrCU9lWIK6pGNKBsBCMDpcRM4IG6wfMRbz4yjVQkbj09M2aHmAKJSUlVYUr2jcNCa1s16q7KuFKC7MSh4WiGVUTu6AxkY8RD02SUR1pG8PnBN6NSqdOAHVlCMuZnvGMa/Kjk2Z0yWeejM5R4BiFAJgHWHnWS12JWqDljdYH+XJPHtQpzMziI+5hFhou/pSHNAnPL/mTtqWfCJZPfFl4T0CaOIQLwJ93g0fgBWiHuZnRA+/G6IHOk3R4hjMYbxCfuIwO4QlG1AgFGjDpM3KiPGjwdMA9e/bMKA+gPEYv+It78qE+DITHD96jrGjq1Ad5I7RpqDwjLmnY+yMESMfKCqijCDkEoSCZP2+ue/2N13W0iTmUOmKUQt4IGEbJdBRHH32UdIY3qqCdMGGijhbhB4QCbQfBiaChnNCV53RcCAyEFwKLusGKZOWl8+D9uAb4G+0QfrxHWO5MRZ0RP8oE/M77ogBRRpQa6hxLAdOmpEU9kSejTwQZsPSiLq+grKSLwsA7URfUPyAv6tzKTxsirKVPWbmnzgFhSc/kCyNxOlfkEZ0vVjLemTqgTgE0oV7sPgryITzpwyOAdLknTZRK7q1erBykSVmIAz9Th1xjWaMTZHABSJ/yJgLvTKfHoA7+wfRNfcMP1BFyDkUD2iA3oQ8KDEoCSiX0pB0RHuWGOqFe4RVkD20R3qfsKLTkgUXNQMdHmaEL70b9WL1TX7wf99DA2gidJNa5aNgozI9f6opfa48G3g3FAss5+QIsGigk0A0QDxffFo0G/FIOBm+8n/EN1ijqCqUP3kaOkDcyg/gG/Eg76hcFz8jDHOUifcLz7vAx9Yf85Rk0R7aYXKHu8Cdf3p935pd3pKzQnP4QnsWCiyUIfiBeFFZvlIF0o+0EvuSXPKEhvGDWP/oZFEeTe8SlPJSBe97P3pG4AIsjz80CCJA18JD1Abkh+95GYIWnUGiVNC46MQBRqcANUgA055o1ayjzM59Mx8Lck5m96ASjnTbMRKNgNIfgpGMhHmZRBK2NOuMZCkT9SpcupaazSy65zNXfp76UKUVNmU89+ZTOi9H4Vq1cpWUuWTJkHKtIeu5wrj0cIa1bt1YbLI0aszmmSAQ82mF8GQzGjDQ2BAHlJw0T/vaM98EfR52hyDAtwXw99cpIA0FvmjtMgpCiQcBsV115lbu4Uyept9LKYEYXQBnww6RHfBQsRsGM6JgqQIslbcJRFurCGjjMBKxOou9p19aQmGNkpES6lIt00OCtLNAX/qAjwvxPo8PKRadKeRhRo8SRL/wEyCNKT3gK3sAPBxNTZspL+rwjIzfMg3TGCEnjR2iIAsK8Io2KkRfvT16Uyd6VdKAHwpfRHlYG6IDZmX1DEPCkS10iJCgHMH63e8q8WaflWPuT2cFaO3n99dfUrApvY5rmHRg9M4eKybl582auU6eLtM2QD/zYp09faRcLRdDWct9//512FCZkCcM72+iF/Gk/lBdlmvKTFvzCVBl7ujCig3/t3aEVjlENdGBKCrMrQheepC7ppDCZ0g54F4QL8aGF0QmaIrihKXnYuxssXE6wONCDfJlvZn6bNDHb0v4oK+3KeIw41K1Zl+Br3oORKqZreBPFls4VAU49ky4OpQ8rAQKbOrG2BqBtVD7FA8GN9QgZhdCmM0AZoxx0ilYmygKoK8pNugALJrzL1JbxLc9yqifqBH5jigcrKJ0kyrdZvFBkaV+MWHl/TPWmaNI5MSqlDqkLFFzeASWB9gBvMGIlLO0NiyFWM/ioc+fO+m7UHWUlHd6NtmVKBXUFLah/OiM6RfgFixhTFpTdwiYC+dIekHEMCskTXmRaAQsBVgHaIv0IUyKkj+KNZQoYPwOrQ9oKebKuChnINAw0QHbxvvAxz+hoqTOsCbQZ0iIMMhcFkufUK3UKeM8of5Mf9/APcgVH/4YfdWn1ibIBPyOLWPdEp4xchA7Upckk0oMm8DiyzeQmgw4UZejKFBd1Fs+j9u7Ihmg7pB7gHdJk2hR+RA5hDUbewcO0c96bNIkPb1PntCPikR/9GPVAnwo/YH1hgAMoM2t7mCaChiBaT4mQ6w6i5scLwwQoFgg/pkro0Ln/Tl6IgqM1QTAaNRWJcKVQCDIqks6flyN9wmPuI320ODMxIiRoLOTBC1uFAspojgbA6Gp3KUe9evu48RPGq0mcvE8+5WRNj4rbsH6DjrBpOPaOQiZNj2vcihUrVdlg8RZlQDAwuoMBYRw6sniQFvXDe6KUQDx+aeAQBOsMQADw/ggl6ov0YDiEB4xIQ6IDIj8UEEbApEkjps6pm8PlnRYtXKSKA2sCjC6AX+qUkQ4NDtMb706ejHAQAHRYhGGejs6JMtjow9JJBJ4jEKAFZaS8MCWCiTpBmcS8i7JE42EkwXQHawN4D5QMGjRxoRdCF6ENP/GOlgcOWtMgGQ3A1PCaPeN9AcKN54xaeC9G+dYJorzSaFj8hlJEfSNQ6QgoPzzFO0MPlBUaCTxJOHiWDpR3Yn0Fc8koRvAi7we9bBEhZePdrEGylwbTW5SBqtROMqmE69nzU6UXnQo8haBkWg/BhEJA3TRrfqhb8M8C98MPP0p72OyWLV3imrdsrmuJHpROF5rTTjCFQ1/m0uFJOhpblEu6dGLwOsKEzoV3gCYo8tAFeqBcUZfUF+UH1BUKGSNdOkCbCoBepAfv0Z5oO1jfsDIBLCHwLXWOMKNMpJ0fWP0heOFLOihoQf0hW2gPyAl4AhkD3/AuhLUOm3ei3mm3CGdoxvQAZn4spvjTYdEmyAd6s46D8tMB2RRgSLvE7QD5RTmpG9oUljr8oCVtlM4RvoL34A3aF4Kf96CdIeOoH5QE6pL1HvBXtA0YrA7JDysDHRb8Z2vc6CRpyygg8AXvBo3wJw/qiV+UCuQRPAsvIItIG/kEL7PgF36iblFEeBfeA76CroxiiYOCRn3S6cC3tCF4gLoiPdoHI2fCwzMoJijDtCNGztAns52E78avOeKTJ8ogdUO4Tz75RKdQ4EvkGLRCbrB2A/lGPMJZWkY36ANd6KDhezp26hga2VoS1sdRZ5QXWjLFBb/DZ9QLedFx8px2RT9g72q/OICso5ykwTtQRspFPSGbqBfkCgMzaEn7YTqS+NAG/iQOgA9MhvMeJsOpF+QHgwrCEyb67gazLkB/2qQNaJERDAqoA8qCLEYWUU+kSX4oR9QXcZAjyErqhP6JRcCkgz/psC6O8lEO6hbLPNYsaA3/gGi54pHj2SgkSiXDMGhyXFvHxcshIAgLsYhL549ghFAwKwSksgjHNQ2GfCxNKo5fhD+NkZcnroWzio2C8DyjDFRUIEHSJG8aH+XgOZ0gDY28p02d5ubOm6t5hulRGVkFC/VD2H333UcIkaIMRPrUBYKEsseDMpAX6fJ+1AdloB4oP9eEsfe3Z5SBckIsGjGOThShROM0EA7hADEXCwPB2FiR8CdPQ7QcpE/9QweYDkFBvjwnHh0+4ciPsID7aHrxgDGJT33SCSBsoBH5Uv9Gf+4RuKRFnQFoitDlvWx+lHIQll+DlQ8eo64QQhYOUIekSV2hkDFiYW0DPMYzwpIvdYpAoeGQH8KJMvGuVibCQCsaFf7kRxlRSqABcQD+9i78kg/8QN3BD5SNalNlQ/6kFjUedZyejllynfIQUD6NpcW7QtNq1apK+aerUgUpUHaPPfY4163b6+7TTz/RkVe4UV74/hafcuFoh8bvjNR5b8LAuwgX8iYc70s84z3KTRyrK/zpcPAjH9o9NKfjh972HJoA8qDjRhAZj5EuLgrC5YSw/sJRHXVm7cOe8W7WBqlz7gnLPe2LewO8SXmRHzagIW3qBUGJ4Kf9UA+kHa3P+HLHg7RwhEPZpONA8aFDhbcoN8+oT3jKykndkxd5UzasRfAlI3j4lvC8b7SeCG+ARyknvEb6pEt+0In3x4+2Ttq0SQZa9ozOrEePHko3prMpF+9gbZl78jIepxyWPrxJvrQf3pFyENb4yGQhfjjSo7MlLfIjPeMj6sYQfTfCkB7vQLuzTo48oTVlhccoC3niT3qAOFGQP+UnDeqD96A+kBEoVUydMb1P/iiBhOPaeJr4lJPyI6+oT94bPsI/Sh9g7w0fki/1zbXJBN6ddyFd5BV9ETKFzhg/aMC7A97NwHvxnDQoO+VEbhKP9ChHorIA8jT+o0zWpigTfrwH70V9Im9QXEwWA8pP3jhrIyywpf0jhxicEI/wVg7CIj8oK5ZU5FF8+eKRJ2UD8EsYe8FowvgRloo34EeBgIXFz9Lh1yo3KjjML56pDDwzB0g63NBL4sWmStLTpBG7mOBy0shSwrmpaJmjCNMLGx3gXawM9psdeE660bStbIbos+j7Rf3JE2flJFy0zGqqF7/4slhe/BInWpdGP0uD35zKlggwLg6mNZBGNJ6liR9lsHeMloU0gJU/Ub6WjqVPA6LBMNLABIoGjrDHzM4IiDCEJU3yBFEBh5/lY2kCi2fPrUz4UU7ucdE48bTJBNeUm3Dyi/arn52H6RHWhBZCgV+rl+TkkJ6XXXaljJjbymjpAFEUluv0yvTpoQWI5+RLOlZeK5Olz3N7B8qPP36AsNzbNSAM11ZXdChWTotr8Q28v+Vh6QDigaifIZFfFPHlAuZnv+RJHvFhuTeXSH5QXvwtPP68N+9o78pvXstocQzQ0tK3MFYeE/yM9plaxeLCiBfBzXoNq8d4RNMB8e9q+VMWez+7J01GrlgmUJ7pbJhWw7pmPE14i0va0Xc3+loe3OOMD3hm5YoiWi+Et3ImChsPyhXlXeKQHi5KU0s3nicBdEBGMM2LuR+LF8oCFij6MdYAMl2Kwk+aURqSrsHKbcip/DwzuuOsbowOVt5ofwhPECdaj/YbpUP8uwP8omEMFh9Ey8O1hbeyRNO09m9hrP4JSx3znC8aUcAY1MHLVn9GA9KMxiMtu88OuU6j2DMKYC+N49qIRQEIA+EJFw0LrDAWj1/CG8gTZ+lZvESwePySluZF+vzJy6qfKBcsFsVKYRWYU5qA9FIkHulZWNLKrQIBcYlHXvHvYGXEP5o21/beXJOGlZPrsDyZz0G4RiAxiIez8ORnfoD08KM8wPxzg4UjTXP4kQ55Ae6tDqLvES0//vhZWH7jYfVnz7gmLaZOMCmi6WOiZPoAQBtLD1iZcFzzjN9oXXBt75AojqVJGEsD2PtZOiGgk/4fu5cyx+Jt3pxJy2i9ANpJqVLhVvJpohgfdFATNeEOHjTIPfvs027S5MkSR95dnkHz+Pi8A7Cycm/1zL35Uw57JwPp8AxHeOLx3MLwSxz8rT0TJ5oG+aGgWL1amvkF8XDkQVo4K7M9t/wtH+6BvQN+Rj8rjzl7P0uXzsTej3hc82sgDoj6cW3+pGflgRZ2jYvmTZ7kxTQI02VYgNgO2xb6GR3jYfmSRnya3JMuv3YPffCjIyA/LBpMHTHNyToh+5KA9yQO6eGMllyTDvdWL6RndUw5E5UlCisHceyZhc0NhCGs5Ula5ElZuDdHuOzqjGc4BsdY9BiNo2gxxUodMK1DHtSP5cWvldHqhrzJK/r++MeDcBaWX8JYeBClr6VFXlbHxOHe4kYRLYc50ktUjigIY++D4564pEWeIJQ54aDCwlnYaJ3Yc94BqyVWJe6BKWNWdns/e7fckOcj5uNhBQBcEz8e0TD2PLdwuSGal/1adH7x4TZBNrkg72XYFiR6/9yQn/rJK7Y2zfyWP7vwueWfSduwQdBYgJn5cFFeMOSUbqLwwOIkepYzKEf4mxVbCmVgZQYsWOYal5SEYAmV/M2bQ6FojTdBMnlCovwN9p6EiZYpP+8fHzY+v5zyN+Q1v2h584vc4kTLEA2bn7rICQh4GxFGBT2IzyM/7xmNa9cIf67Jz9KwDg7kJd3CRKLyRd8zJ1hc61CxdvDudIbZKSpbi+zKZGWIPje/+HeLTyNRnK1FovJZmtRNvGJA+Gg57T5ROoatKWNCZYN5M1xOmeWGrSlMdoiWIz/pZsbjd/uVpyCxtfWYiHbbkybx2BZeyQ05lTu7fPPyrsTdOn7avoiWIS957Cg6bo/3K2r1WRywveoht/cmn5zCWDkShdmaMsank1MaW0Oz+PRyKvf2eqfckJ/3yE/+eU13W9+JfKJ1Fp9eft4vHglNF5bgjiDG1oDymMsPMuNsfQUVJvL7vlHYu0fdjkSi/OLd1gI+RCPHxSM+3fzktS1l2lZYOXE5vV8UFr4oYmvKVlTfZXsCmuYmR7cXXY2PsstvW/LIT9zs3sf8E7mtgcWLpmHtyOogp/Sz898a5JRPQWJrymBlj48bz0fb+n5bWDaY/8OqwVRKdkwbj20txH8JierU11/xwfZugB4e8cir3DV4HtzxyI4m21L3/7W+IOehVByoiETOI+/w9Ve84WnnsaMRz2O5OY8dj0T1jtsWbO/0ijpyVDbQvP4rFeHh4eHh4eGxY5CrZSO/Jj0PDw8PDw8PjyjyNY3i4eHh4eHh4ZFfeGXDw8PDw8PDY4fCKxseHh4eHv8JsCxga5zHtqNIKBuJiJvIeRQfJKJfIufh4eHhsfOjWFk2fOe088HT1MPDw2PnR0Jlw3cAHh4eHh4eHtsLCZUN21PDfs3knR/n4eHh4eHh4QF2mGXDKxweHh4eHkUFvk8qXGyhbHjLhEdRgefD/yaidDd55HnBw6N4I88LRGnsdqJe1GUnBExAxIffFvgt04snjA9y45WoS05OznBRvuGZx84Dozc0TkpKyqC1+RvwN34gnD1P5Dw8EsF4DOSHT3y/s32Qp97fGjHEsmu7j0f0OYTdvHlzFpcIEDMvzqN4AtpxonB29I8CvqFDSUtLc5s2bdJf4sFrifjNo3jD5Ag0Nh7BLwr4AT94AUc4D4/8AB6Db+Af5BH8FHUeOx5JpUqVepALKhwipKSkqJDfuHFjBhGMICYQrPO3a5QKI2A0PP4NGzZ0e+21l6tRo4ber1u3Lk+djkfxhvECqFChgmvUqJHyy5o1a7JVGoxv4I/69eu7Qw891NWrV88Jj7rly5eroCAuvOaxcwCZAF/UrVvX7bvvvhl0NkBv7mvVquUOOuggt99++7kqVapoOOSUh0c8TI5EZRAyAx6iP1q1apVbv359ln7Ly5QCQMWKFQNcpUqVgvLlywfVq1fXX3kUSENXJ8QIRPAHr7/+evDhhx8Gn376adCnT5+ge/fugRBPw5YuXTqQTkEd8YknQiHo27dvMHny5OCvv/4K7rjjjkBGKVnSFeUmSE1NzXDCAJoez7i258TDj2feFX0HrYymTZo0CQYMGBBcdtll+izKK0Zz+MH8OnbsGAwZMiSYN29esHDhQuUz+JO4xh/e7RwOetPGH3nkkWDGjBlB+/bt1Z/2joPeongG3333XbBgwYJg5syZwe+//x7sscceGeFMlpiLpu/dzuWgN/wS3zfwDNrbc/z55d6eX3vttcHSpUuD008/Xe+RQ6TDc8LDiyabTCbhLD38LS3v8u9ytUtLZavWV7t2bXfuuefqCGT16tU6GtmwYUOGlcLucTzHH+vIs88+65555hlNhxGJjVosXbOimCMdYRp1XNtzM395FH1AOxCla82aNd0uu+yi/sB4hWfwijRupbU0anfDDTc4UVjdbbfd5jp37uzefPNNtYgBzwM7F+AB6C7KqJOBjBOFI/YkpDUy4IorrnANGjRwXbt2dZdeeql7/PHH3YoVK5RnPP5boB+AX+L7BvoT5I49x5/faL8xfPhw93//939OBr56D4hHGMLDi1g8+LV+LdpH4U9Yj61DCawaehHr3MuWLevWrl2rCgOEMGL873//c6+//rp76KGH3GuvveZEAwwJuTlwJZNKyn0ZNZVLekIoUTyEaNOmTXP/Llyoncx333+vAuW2W2/VNAHCAuVl77331mvSgxFmz56t91WrVnX77LOPq1y5spNRjRs/fryWzaNowpQMGmiZMmVUQcV0yZTIPffc41599VX35JNPqtK5//77K10xh0NX+I1GDS/079/fffXVV+6OO+7Q9AD8QLrmPIo3kAEI9N12200VCeiLeXvMmDFKX57DD0zBffbZZzr9ds4556jAB4Q32RQPzx87L5hqq1Spkvv333/dnnvuqbJk/vz5bty4cfq8evXq2mcwaAEzZ850C6UPOuCAA9QPPrJ+JDW1lPIY6TVufKDyGn0gsogwK1eu1Clc0mMZAHxF/zRnzpwMHvO8lg/kNo1iZiNRNtSkLaNNNSeJAqHxUlJSg2rVqgcPP/xoMHPGrGD8+AnBnFmzgz/HjAkObtJEzVH19tknGDVmdPD0s89oWsTnt0WLFsFPP/0UTJ06NRg5cmQwa9asoEuXLvpMOqNAhIw+E6VFp2EuvPBCfYaTji3j2rui4aAJ9Oa6U6dOgXQcSrtJkyYFMmII7r777kAadCAKq/pPnDgxEMUyeOqppwLpdIKTTjop+PjjjwNpzMHgwYODt99+W6dQRFBkmDQ93XcOh2ma3w4dOgSDBg1Smv/222+BKJsqc3jetGlTnbo1Xvnggw+Cd955J2OqhTCeH3Z+F5UrDz74YDB8+HCdVoMvli1bFsjgRPsveIkpNvxFWdBnXbt2DVq1aqXTuPCYKCU6rUta5cqVF15LDe699/5ghvRdQ4cOC/78c6z0RaMCGTjrlMr555+vcoylAPRP5GVLB5haoWyeB/Pm8ry8n1GING539tlnO2nwrkePHu76669Xze+cc86V6xvcd9997y7udLHr16+fqyhaogiNDHOXjHsljXAxDv5AlA1d9CUdihOiugsuuMCJ8qEaKNdt27ZVkylWFawdl1xyiatWrZrGZWTjUbRgWv5hhx3mHnjgAbd48WJ31VVX6VQao1amQo488kidHvn222+Vru+9955OlTRv3lzjYu2A/jj4hJErvIcjfT+S2DmAXAATJkxwN910k/viiy90hEm7RkZAb3igXLlyKmNwPMNZXOD54b8FeOLAAw90u+66q3vkkUfcn3/+mWFFvf/++9WSyu8111yj1g/6CxnsaF8lyqpOz8JbYOPGTcJf5d0pp5zi5s6d526+6Rbth+6++y6Ny2LSu+66Sy0jyCissocccog7/vjjNT6WNY+8I1+1BZEwMdFx4LiGeDIiddOn/+0ee/wxN2LkcDVBbRJCGjFKSDYl5E8kg6o4RmwISmdCfAhIepjDmIoR7VPnyQ4++GB36qmnqrkMEztmMoBA8ig6MHrQERx33HEqAFir8+OPP7pRo0ap2RLlgS9M6DCgI2uAMFHSofDL9Mndd9+tjRtlpFOnTu6WW25xU6ZMyeQlT/edAiYDli5d6oYNG6Y0NsUSBQIeGTJkiHYSdBZ0Kiiu8MQff/yhfBAOYjz+C7B2D28sW7ZM1++w/qJ3797u448/VsUAGcJUPwPhoUOHunnz5mkcpmrhHxRb+Mum3kpKmqQ7ffoMV69eXXdx54t1uoVw8CWyqk6dOhrmtNNOc02bNtXBEFM5yDLKglzyMilvyJeyQePGakGjx/Lw4osvupSUZF38h5Lwz/x/XFLJcK1FUnKm5SEpKUW4pIQ+S4lZOxAm3333nevSpYvOw9LJkPaVV16pIxw0VxbroHhA3L///tv17NlTGQeYsPIoemB+E4EwdepUvUdRNGsW1yiRNFKUR+iIsLBFWzYnbyNWfm0kS6M2f4+dAyaoWQOGTMB6an782mI9eMDWa8EDng/+WzCewMKFxZS1PQCF4+2331aLBjwycuRI9Wf9BQ6esoEKAyDkELwGUkululUrV7r77rtXlZYjjjhClRUsIM2aNdP1iyZ/WB/CPeHIw8ui/CPPygYVa6MOYARjagQC0olAvIMOaqKWiHQVEJkregm3YUO4QhgH4bGK9OrVS0fCaI4svLnwwgv1GYt+GOFiEkOxOfPMM9WMtWjRIk3TOiCPogAEgWn34S8NnUXDLA7GNIk5E2sYNKWhvvvuu+6iiy7SZ0yrMBIBJlSilgyufcPeOWF0ZbRJm4ZHkA8oHdAd2WKjUToOnPGIx38P8AZ8An9EwQCGfgPLA2C6H2tHdF8f4tIH2YBm06Y0Hcxixbj55ptdu3bt9AMIrOpY2/kyiqnf3377Ta2wuKuvvtr17ds3oxxeLuUdeVY2IC7mbmvoNH6uly5Z4kaPHq3z9J988ol744033N5167rK0snUqFlDw5YqVVqERoo78YQTXPfub+qqcuLeeeed7ssvv1SrBiYrlA8YgS9PSAsTFp890hnxWdxLL72kYQBCx6MoAH4w4Q87BW7UqDGiXOzmnn/ueaFjT3fyyacKvZJVAenTp49aqZ5//nn38MMP65qcTz/9VEcVALoygjDQmK1B8+s7mp0TDF5o71hL+QrJRpU4rulIUDqiAx6P/w6M5vCJ8Qag0weTJ09WheOxxx5TZYDpV8LtvvvuGX1GSnKqq1Gjpnv0kcdE9jyqikb9feu7L/p94d566y0dJGPBwALPlygoGT///LNO5b388ss6dcNXcuedd16YXsQK55E78rSDqDV4iMN8KSbvTG0xzc2fP89VrVpNP2HjeY+PP1JiMeeKtaJC+UquUuVKoglukjQq6CexzKEx2rWdInHMsb3yyitu4sSJbtasWZoGn9MyVwbDkB6fz5qi44VOUUCmshGOOpNkRDBdF3IdJCMELBmYOWfMmKlK6W+//eqmT5+unzy3bt1ahQH8xJQaa3jgP6bQCMvaH0/nnRvwDCNEpl5RKLhnD42BAwfqwAM/puXgGdZ2+Lb/34TRfI899tB+gbVgtvcOCigWMabZ+KSevomPGMaOHevmzp0rfDNcp+QrV67iypUvp+nghgwe4latXOUaNGygHyq0btXa1axV03399Vfu/fffV3lEX8Ugif6J6XymcH755ReVWcgq+BF4fswdOe6zgZ89ozLpQPi1CgYlRQvkHmWDtRbz5s0Vwq5TQsAEdD4lSnAADnt2hJoo/oC0iGNz+hCXNRkIHJ7h+A4f0xjTJ0uWLNF4HkUJmcoGjTzko02uVGoZt8eeeyg9lyxZrPQNn4WLAKEpi0QRAiiZ+BEfHmRelnt4xXgwCvjCY+eADVpo8zjoHnXGNwDewM/jvwf4hHYPP3Bt677gB+MP7hm8MHWCUsB9+Cz8EpL7ktIXSc+i4Xm2OT2Mv5sotJVlQLxu3Vo3e/Ys7dPIi1/kEWtCCIfygp/lbfB8mTvypGwAI1wQIAQyhX2oSITzqjiUDOkO5NrOUAmJXbIkv9E1HOGukQDiAe7Jx4gJsWEqwpM3zy2sR1FBSF+9ivELZki8oBXXLBYOaR4qGtCVX/gNoMQa/5AGtDce4Tceifw8iidgGcgJzY3u8ADyw+SMyQn4obDgea5wYbIFHgn5I6tswM/6B7sGhGHtIEH5IpINKM0fHktJSdU0Wcsh6qy4EiKPUvS59UNh2JD3kF12b2UChcmbxQW5KBvhHHwmrHIz587DSuYTokxlJHEcEPXPRJRoEDL6a8/s3qOoAfqENIrSEei90A3K8SS8ykrXeMTzQiK6e14o3ojSOPNaP47nJ0Nw27NMchcu3T3fFR6ykxfxyOSZKK3wyy4+/tKf8atBTOZkxo/P29KO+ntlI3eEal5ChN8gh0qEOavcaOWH4UIiJapwI1wm8eIB8czFIzt/j6KHrGQK+UH+F/4QLikZWrdCngqn5aJ0xc8sW9Ew8fC8ULwBXUFIR2jM/1g1sIDxeTTPcYgmnofhtwfywzsWll9zHkUf2dMKv3gHwl/kVBhXbwWZfGdpZp+2hI7JrHjnkYnEyobWJ5UVNnicCoMk5k/NL6zgcHoEEMnctsMTqjgiMe3R+lmrgeXM6Gq/NF67Zo0GDvMlLr6R4zyKN4yGme2bXw7Q4sC+DfIcU7konfo8GqZgQLmYCjYzPPfmPIorwgEPUyAhXU2OxMsT7rN7lhi58YXnm0wk/holja9RNuliGntmHYbcKeH4hSD476j69IQqDoBGmXTKpFnoT+fBlsDsBAuvsJI8Op8KsGbgDjjgQHfggY3dXnvtpYuy+P7d5kw9di6EfMLRBSkuTeTK3nvXdYcc0lQXgqNwYtgOkclb2wM5yZRMOReuN4NPPe8VDWxrXwAdw3VA4UL0REpFZhZ5o/m2lum/hhw+fd2kmiCLaypUKO8effRRd8wxx+pWritWLNcNUNgjgS9I+EyVtR4s9CNOuEg0BJ0GjRbHc55ZB0KehOfbafxxIVNkTsd4ghZ1QJ9MGoWWLxb1lRTahycvsgVw9+6vu42bNrhhQ4fpfi3QHQd/8IvV7LbburirrrzKnXf++bqqnG/agRf4Oy9MPlx77XXuoYcedEOHDNXNlFBC4Assp8gF+AneIrwppyHfhLuOmowBJldMpnAN4CPi4WfxkUk44qBksKtthw4d9CspPsElbFQeeRQOov0TdDP6Wp9jSgT8Ed/P4JA5HTt21C8f2cfJeCLslzJpTHdTunQp5TXikZ7lya+lS3nIx/jI+NjzSg5ggSiOU/PK26mv5Tj1tWSQmlpaf3fdtVrwyy+/BevWbQg6deqM5NfT8IRowZlnnqn3UtH6a06IsYVf1PFMiLTFiXlCvIzTPc1Fn3tX1Bz0KZnhSpRIEtpmPY3zgAMaB5MnTwy6dLlF76VhZjzDEbZ06TJBw4aNgmbNWgQ//PBj8NlnfTRcTjzkXXF3JaSth6dKt2jRKrjkksuC3arXDEqWSNbTOLcMn7uDl6RDSCg3TK7E++OMzw4//PBg+vTpwemnn6730qFonOzieVcwjvqHfome4XieSFaYrKlQoYKeKvziiy/qfaLw3EfpvDWyhzi+/0rscp5GEa0NTQ2t8IQTTnCNGjXULah//PEnGXnWUk3xm2++0YOSOA0Pawfmcr5JZn8FNl1hZ1EOyGFznvbt2+sGXYwgMJGTV7169fQk0JYtW+rGPnwjbVvMUh6Poo6slg1pbMozpUqlCE1buDatD3fNmzdzhx/exg0bNtQNHDjY7bnnHu6II9q6Nm3aKP0ZQTK9smTxEjdv3hx38sknK2+wsyjwfLDzwdp3zZq1XIejO+qGgXPmzHUzZ80UyRROYYji6eruXc8d0vQQ5ZPy5cu5Y445RjdZIjyyhnQ4PRr5wcZ/bCKHZZapOOQKZ1wgf9ggDJmELENOsVEYe/hwsjSyC377559/dGNCTgFlc0KsuIQnPT9iLTzQNwH4BZqzuRa0hnbQF1pCO6wLbL5l/RAWcyzvxGc/J3auhj/YFZT48ASbhMEn9FXIIfop7gnPkRmifKq1C5476qijlM+wZJA2ux6TJ5ZbrikH6Uc3xCxs0D6KTF+a0LIhv4w6kpPRCksEVatWD77//sdg4b+Lg7lz/wkuOP/C4OSTTg4WLPgnOOWUk2RU0jwYMmRIIEqH/s6ePTu4++67VZt8++23g4kTJwYDBgwIpk6dGixevDjo0aNHsMsuu8hItmHQr18/HUmMHDky+Pvvv4NbbrlFLR6MTqSSvGZY5B30MctGaNUoWTIpuOHG64MpUyYG06ZNC/78c2ywbv2qoEuXm4QnygUvvfSS0hxemTFjRvDKK68Eu+5aNShduqzw4S5B//5fBV980V9HlYmsX94Vf0f75vfII48Kfh8wMJg1a04wZPCwoF69+vKslMqct956Jxg/fmLw11/TRHZMC0QBCKRTCHr37h08/PDDweTJk4PvvvtO+GxKMG/evGDUqFFBq1atgj333FNlDPJm8ODBwZw5c4IPP/xQ/ZFv33//fTB69Ohg0KBBKrOkgwi6du0a3HfffcGwYcNURhHvq6++Cj766KOgcePGW5Tfu4JztH+zMjz66KPBiBEjgt9//13pj3X9iy++EPmxa3DBBRcoPXkOTyBfmjRpolYqaE6/NH78+KBPnz7BTz/9FJx66qnSf52ifCJKrKZfs2bNYODAgcFjjz2m+b7//vvBmDFj1A+ZtWTJkuC5554LzjvvPE0LPhk7dqw+o/86+uijNZ1o/1VY8iuaL2WJPisMF06wZwPTzdCK0OZGjxntJk+e5C697DLdU579OKpX383deuttrnbt2vJ7qx6uJY1YD6xB28OKwdbUaJ48++yzz3QkghbIHvNojhywxgFsw4cPd//73/9U27QNVTyKD+AXdg9lZHCb8AIWLw5ae+qpJ3VbYEaIxxx7jLvkkkvc559/7kQI6LbC/LZu3cqtX7/WbVi/QXmGDZ2im8d57FxISws3dONogsuvuELlQpmy4Xbl0J9fRpMc5Ne/f3+1MGBdwJLKdvaMPBlxIis4W4kDG7F+YJXo3LmzO/744/VcJQ5x5NwL/M866yzNk91rOaSLLdE5n4cRLvPvzOWz8yT5s1sxa0fwY6TqUbiQjlN/6YvYkpzf22+/XU9g5Zr+h8PUsF5xcjj9D7zD4WlsZc7On9AVC4YoHeoIC92xkllfk5paSq0eWLro88gXywULl2+66SY3c+ZM5U1kGTsg04+98MILehYLx280b95c0ylsUG7qBQsMjnvetTCRY29uop5GTgVzhPx7772vjRpTN4uoOF6+Xr26KgR++OEH3TOeI8Mh3oEHHqi/HJLDAlPRAtU0CdERFJi6uGZ6hcOXUEpIj8NwjLns16NoAzpj/i7hktxxxx6n/PLUU8/oaa4yKnVr1qyVxpvimh3aXJ8h7GUkqeej0LjhB0AaALLbvhw0Go+dC+GePCXcsmXLRD5M0C3r0zbFzpkQJRPZUkoEP+dQsFAY4c7hjJyPgvC0aREGKigqmMZlhKpTJpjSkTM9evTQQ/8++ugjVRyYwiUu/MchWygaMuLVw99kdKzKCYveyRsl+LrrrnNdunTRdL0cKlyYDIB2TI3ce++9SjNoyzHz9BlM3/OhAgenXXrppboYlLO3OE/r8ssvV4WDa5QGFNJff/1VFYpw2iPsCtPS2Dk0XFRKvwe/0H+h0H777bd6WjX58ox48A68gtIMD6O4AJ4XJs/wXgAljHNe6Gcpr/kXxkA+xxwzqkroTMVRgd9++40bM3q0WifKlEFjCk91XSudCWEgNoIA4cB8Fhoi6zPsaHgaMi8KUXjGTqWs0SBtOiYaPKMJ38kUL4SNVRqYKAi7VNlFOhHORAnPstlll8rCK2W1ESuvrF2r/ADzM1J49dVX3ahRo4XfSsZ4LmzsAOFiIwyPnQ9GV0ZdUJx7pTecIP+YA08TWYI8obMwIY7sYJ0PgxuAFYT5dlvvhZzBOkq6/MJz8BJxSQMFgvhYMp55JlSKAeF5TlqkgwzzKDqwPoMDPkGvXr30lFfjI+QKlgzWX7DmCwsqzxjQ0OHa6J57gJzBn71dQIUKlVRW8XUcgBexgtj5TZxq/tNPPykvYSXBH/CMdOCbogTaw5lnnqmnqxsoO+UtaOTJssFoc+MG0YpSkoWYC93HMsJYvWq1EK6UCINF6tesebhQh4bNCXo0fqZOIAAENWbgJbmmoaNUIEQ4Oh5NE1NUz549dWEO8YBXOIoHYuTVUSmHG1WrVt1VrryL2333Pdwll1wq11WE1mnaOBkt9O7d291www06ekTZ+OuvKS4lVRp4iUDCbRQ+4hC28BMz6yQ8dj4YXZED7ONDc2ffDWSNtX1+kRsmIG3DN/gCh1LA9CsLPrFUYMXgtGjM3yi0/GI5g/e4B+RLPDoTOghTKpA78CeDIfLjGuf5r3AR5RPoj9IBoBs8QF9D5w/tsVxcc801ao3AkgHNoTWO6Td+gXW6fPoKvStW3NV16tRJeYW0CEd+FheHksKv8SJpAO4pl/VbRQXwNwoYH3j069cvo4xW7oJE3iwbcmX7aICvv/raDR8xXKc8eJFevXrrKu7XXnvNPfXUU2rGYqSABsi8GYxhxIFpIBja6YcffqgN+b333lPzJWZS5r/YY4FwvoEXH4T0LaGK6cBBA5XGzz77rND0Y9euXVtlbubdmX9nLcfzzz/vXn75ZeUZRiBYyhAKhGN/Dr5U+fTTT9wVV1yhfsYPnid2Lhg1EeCYvF955WWdXitTuozKBkaZJSJCns4FmQIfMKC57bbbVG4gc1A0mM79+uuv1ZLxyCOPuMcee0xlEoMbRsFYXelwSBueRWmxDgxgomewgxKMxQNL60knnZSh+Hj+K1yEPFFGaQagJ7RBpvTp00e/OGEaH5ozrc/6DZ6jPDAdQqf79NNPK11RRsI1Opvdrbfe4j7r3cudccb/hMfCfTOgNXxH32e8gsWMa/pCwkT7NcKZZaOo8AmKhc02sPSB6UPKbvxckMhxUy/z4+ROCjhu/Dg3YcJEJRzHhi9Y8I/7/fff3cCBg1TpQOFAUWDhFUoDDIDGyLzpqFGjNB4vjpmL+TLmudgQjE9eiQsh+eSMBaY2egGFUTEeeQWNKuQTLBFo0tAUYc8anClTpkgH8orywogRI3QR8JgxY5TmjDhpsCimNAJ4CMWCDoYpGPgBE+aff/6pjcbzwc6G8BgELBplSotA3LhBZQMdwIiRI3QH44kTJ+iidBSNP/74Xc3CmNDhE9ZmMM0Cb7Bug/lz1nHAM0yTIItYG8Q1g5khQ4ZornRY8CHrOqxTMN5iEAT/Mv/P2jTWlCCr8PMoPFhfxIAFhZD1f8gYe8ZAZfz48dqpQjesE9OnT9fpA6wdPOeX+Fje6efgB9YEQfO9966j8qfbG6+7sePGurFj/1TlBOWBfgqZZX0SCgZyC/mE3IIH4Sl4lHCUA3BfWDKL9kE5WbeCBZl6wbLBYmnaGO2kwCHKQLafvrJBE5vu8CtBxbHhVop+3igEVr/k5HBzLq6FkIG8XCxs5udtYTg26knO+ISJ+HYthAuk8wlEEckIzzMhVpbPd7wrig76xDb0inz6mpyUrDSN8gC0hNZc4w+vwHf2HP6A5naPMz7B35zxhOeN4uugnSin4oRnRKaIeBSXSc/ws/vYtfBUeF0iQ0bcddddwcyZM4PmzZtnyBF4QzqHDHkkHYDyGL/cw3NRnjFewnFNPHtOHD7PtzjReN4VvLO2b/fQPCoXjAdwyBTobs+i9IOuyCX6KvzsOXwTL6uiaVpe8f0YztKIhuU+6uxZQTl7F7aX6Natm34aLIpGrG/P2jcXlMvRsqFno4jiL5XpSpcq46QDCc1J8sc8F+Zu7vlqgOfMtaJtovVJheuIA41PiJMxMsWf56bxcQ2wegDy51lhaYQe+UVo2dCrGA+JAip0TFbNH3pDUyxj8BGjA3iCsNCce0YPRnPCwBOEJy73UV6wPPi1e7v2KPrISq9M3kkReZKayrEFqSpn4ItUlSMpbnMQjiSJBl8gn9iIiy9P+DKAkSVTKqTLM34Jh2yCx+AhZBBp8oy08EMmGfA3/iMu1/Av9/bMo3BA/RugHfJE+6E4mkBjnmPFgHYmQ4yuJnfsgwSuccQx3iAOjmvC8Ix0LTxpWXqEM1j61u+BwuQZyxurDZY5LHS2jokvuuydCxIlsGrohVQklcQ0BwrD6tVrxI9FJBHBjmCQf2GFs4I3kwns0yEQX8ncG6EsLQuTkXbsOYg+4xpCexRVQL9MGobIpJ96yS0+XMfTG8d1tPHH09/uDfH3huz8PYoOoGkmuA5pnuGbQXNuMulJtNCFvMJidPbYYJqOzgOYnDA+0HQz0ssfb5iSEU0zv2l4bB9AhyigTXa0sLBGO8KhAACjpYFnhDMHCGPXlgf38flF7y0+foniFxVQLgZ29O+J3mlHIxdlI1QgrOFlQAop1cqF+OMREj+emIYscfMJ0i1qRPOIIpO2WenMNXQL/exRaK3I7ADguXjGZ+SCH5p3IvrDjzZigeeiI1QQH96j6GBLHgn9TMaEI8xoZ2J8ZLImq0wgDo57+80OiZ4RJ4qc4nsUDuJpFH+fE3Kjp6Vl4bJLO7d0iirf8D60LWRk1OqCf0GXOVdlgwLxDBqEvxSS66ydQH4KHv+i8fdRZKfAeBQtQMPYVdxvJgizeXNW0x0NwQAPWMMAmC+B8QDxeW4r0Q34bS0vehQ8MnklRMgX1s5DGmeSkLDcmAtBGIuXV3p7viieiOcXm76IlwOJsCNo7vlo65CDsrFaGzSNuUKFirFPeghKA89cfwHB+awsCp6RXm5EyUsYnucWxqNoIFMo8Bu7Dlkmg9aHH36Yq1OnTuxLk1m6epuV0mbq5OsEjvhmzQefMsJf1hHBn1g9OGiJrwyYd2S7YlaUE9/CeX4pHoAnoBvWDHb35IAtaLnwXzYAFH6JKBchI20bXT1fFE9kypUQRkdTOO0+eg22J70972w7clQ2WLS1aeMm3SfhgQcecOXLVxDhH55oxwZNhGXTFM4lIK6NMow5ECIIE+7NJM49zjoRRq90IIDnhCMtYxxzHkUfRne5UqXBaG18sXHjBvfEE0/quRV8+jp40CB36WWXuuXLl4niEH6fzkK/Xr16usqVK+lGTXzmaLwAr7AN8V133aX8SdrsHsgZCTyDb4Dnl+IDBjHQ7aGHHnIXX3yxO/fc89xvvw3Qz+2he1JyOF0mVBWeCvmA8MiJ7ODpv/MBxQIwwOCcGwYr7KkCjCeQAfCM9R8mewD38IzJItIjvPllB89L2w85KxuiBKAUsIIVwY9g4FhfRiBsnML38Hy7zKY6rADOCRAekAcgPwhu91EQ1ojMryd48YCNNJh+YwfQRKhZY3dXtlxZPdOC1dvnnHOu8NoKx5cIGzeu1zBHtmvvSpcppd+ww3+ki/WDTeT4bp7vxC+77DLdkhiTKt/dIzTIG3h+KR6I0mu//fbTA7Z++eVXt2TJUpeakqr7bjhdG5YV1vFkR2dP/50PphhA+++++06/QOKQRwAf0WfkpIAC4sIb8WGjA5UoPB9tX2SrbLDC24hjz/hl50d2YTvuuOPctGnT1I/Nc1BCOLuAExVRTpha+fHHH/XzNDoKOg4UEg5fQ1nhUBvyady4sW7Ow65+bCfMgUp0HuRNnkZwT/iiDfgAR8Pls+maNWu5Dkd3cHvVri1KwXIdhfw97e+YaXyze++9D/T0Tnb8Q7FFaeDERKZHJBk984JNnKKLRdlllEOXOJiLg5jgD0Y40dEL8LxS9IHAh35swMTJz9zzeR7tf/XqtUJD5+qL7GjRsqWbMGG8HvZYt+7e+vUJsoTzlpARiUalnv47H6A1MoL+hcEt25OzyytABtDH0Adx8ir9EIeA0qcgR+ARBsrwFgNk0mK3WuQJm4PZ+TrxfOP5aDsDZQO35aZemRupiMBXx0Yob7zxhm6mI6OQjM1NOMN/3LhxgRAtmDNnTiBaZyAKg575//XXXwfvv/9+Rpq33HJLMGnSpGCvvfYKGjVqFPzxxx/BggULgmHDhunvww8/rOnKqDdjs5SoIw3vip4z+pRig7ZdqwWvv/aG8MCiYNSoMcGiRUuCPn0+D/bas47wUamgbNnywSef9Ay+/eZ74b3KEi9J4pUJ7rjjLuGjCcGKFSuDXr16BSJcMjYBu+SSS4KJEycGImSCqVOnBmPGjAlEYQ1EsdXn8Iznj+LjoC2/MnAJhgwZojJj9OjRQcOGjeRZaaFlcnDWWecEM2bMFrpPDubP/0f4aaHKntNOO03jIpO8XNi5HbSlH+D6jDPOCIYPHx7IoFT4Yb7yzdixY0Vu3KFhXn/9de13xo8fr/2QDJiDTz/9NHjppZfU//jjj9d06LO6du0azJo1KxCFI8PPeMnz1I5xmZ8C5AJGIYwuTduze7RGTN2iTGScVcCoE1O3bdQljJARD+2UezRNzr3ACsKcOyNcFocxn89Ws1hBCOdRfACNGWEcc+wx7rzzz3fvvfe+Hjf/wvMv6KjjyPZHZvAMDisHB7exZwv4v3f/T+nPdvds7iQNXtNk1MvWw4xoASfFsj01Z2AwGgaEMx7zKPpAZgCOJzjxxBNd9+7d9R65gmwqKbTnuny5cioLZODizj33HLWcsTmRx38H1q7Zhh4LqW1Jz/bbnOrKUQj0K8gW1oKJAqLngHA2F8AayvEHHM6G5R6rBus+eM5RCEznetmx45Hv3pwOAESJwzX+EJVDtVg0yoJSiI7CQMdi8RAyOJiCOVriXnDBBXp+BnvWY1rn9EaP4gWjL9MeTQ5qogpC8+bNXLfu3dyJJ52ojZw1F/BDJg/Jf+Gl8Ejglixd4ubMmaVKatjphOkiSNgFj4PdUC5QRh5++GE9LZiTg0nTwnsUD5j8YCoV0zYdCDREVsAU6ZvDgU365nQ9rO/XX39xM2bM1LAcxGYwXvLYOQEP4JAn7HzJxwgsGqdv4bwb7tlFFr5B9jAo4RC20aNHu3feece9//77ei4XC8kPO+ww3XmWaXtkEQMWpmDgIXMeOw7bZDqAODACvygQEBpw8NpHH32kHQEMELVQcMAR9yZsEB58vghzsOj0iSee0EWnIBQ8HsUJ0KxkUklVGMaOHefGjxuvigIneaIkmGKAciGiRO6TpGtJckniz/b4JUsmu5RkeCaTt4wPsJzBT1jRGOFyDYyXPIof6ESA0TJURrkKaZ+2KU1lBMCfzoEvEoCn+38P8At8Ab8wCEEW8AuQCSwaN2snVg/WdwFOhGWdB6cDn3XWWdrf0O8ALCLA89OOxVYrGxDGOgNzJgRgBKZJID6oWLGinrbHotLTTjtN47GAFOJjwkLDvOeee/QLBTompmC8olG8YA0VRQJlsXTpUnpi57333e3uFdr2lcaOEsrzMGzIP3qOSmpK6C9/0J2zMOAh+Am+MmWVa+IgHGw6xvLlmUfxQ5RvoDMygy9RUDpDmoafKQLuee5p/d+F8QDWb37hG6zh8IgOdGI8BJAf9C8oI+PGjVPFgz18mjVrpl+0MLUCiEc6HjsWeVI2TCAAiG3apYHn1jEACMc8K0oDx4qz2rx3797umWeeUaWD+HQWb775po6A33vvPdetWzedj+OYaJiHtCw90jfnUTQBbYw3Pvust678fuyxR9yHH37kPurxkTZ0zJjsIBp2JiV1NTgry++/7361hgCUDPiHL1MwfV5++eXKK6TNM+IZH3iFtPjDaAld2eztzTe7uwcevN+VLcuhViVcailGrSGdoTcdiQ1qojB5YTLDY+eCtXVkA1+QtGrVSvsPpu3ZowWegDesbwHEweKOssE1g1r6Gwa59DWEMyXF882ORw6nvoYLNK0BW2eCPwtyUCIgHGEgGqZO/PjsKNohML8GMQnTq1cv16NHDz3vn4U5U6dOVY0TJmEelk9f2UcBExdl8ChegD+gJabM4cOH6WLROnVqK5/0/7K/+/XX39yyZcs1LEJjyuQp7q+/propUybrFBwbyCEs1m9YLzw22c2YMV15zabV4ClGIwgbFoh5FF/AKwaTLdAZPpg4caKbMGGCyoz58+e5IUOGuEWLFilvYSKH/jZla3LGY+cG/IFsgN58qsrWDNWrV9fP5n/44QftR+AX+IZdiW0tBuGRQ/RBTLnwIQLbLvTs2VP7OuJ4FAwS7rMBIW2fjSggnDVuwttz4hlgCNMUTREBCIooYe25xWXahU7JwHODFyjFB9A0nu7QOJNvEBiMUrLSlKPE8QqnUrIKANIw/oS3gPFZFJ5Pij6i7dqAXzwt4aGon9HbaJyI/gbPBzsfrL8A1mfAA3bN8yjd7Z5+pW7dutqv3XLLLbqv04UXXqiLRrF45DSo9Xy0fbGFsgFxbFMv/OKB4IfoEMmIwb11KvHEhyHs2piFeyMy8XiG4OA5z+iouLf8PdGLF6Cb8YnxAwtB09P55BVahluPwxsAP3YcVXrL46RkTnXNFCymuBifwRvGIx7FB9aeEwFeYKQJjL6Exz8qDwhjz7ODlxc7H6K8gxyAL6z9cw8/4Me1WeWRHWwCxtcpnKdEv/bcc8/p1C39D2nmxCuej7Yv8q1s5BfRNIx48UROFIZf8/dEL16I0jOThiIUSogCEaN9IjpnAr/YVQ6093xRvLAlnTPBM1w8TbeGxp4vdj4k4h3zS0Rv4yWsFywIrV27tk7JMsXCM1NU4tPND+94PssfclQ20A53VIUaM+QFnqjFD/GNWO+FjFCS67Cxo1RgwVBfcSHCqPyXle7xfOD5onghnifiwXNclK5bQ2PPFzsf6IsMUfoaT1lfZS7Ka1HFAuWDfg4/7u13a3hma+L8l5FJwQSAgDiIESXe1sKIGmWI3NL1BC1+SERTpaN4s15j82amVmxazejLrznSyEwnNx7x2DmA4KcjAJ7mHvGAJ8zF3yNfTImI9hk8Y+qV6TeuWSwanXIhrMWJxssJ+QnrkYlsv0axOa0ouI/3yysgLETldMejjz5aD1tjJbHNwXvsXIjyiSmtCAMO8TvppJP0oCR2keWrEvxDxcNjZ0e8/LC5dz6PZ9tyNgJkDx4PjygS9UXA5ApfpnAyOfe2q7CBsCgYTZs21W3v6Xs4yA9/FoyeeeaZOtXCNuZ8FotlPzt55JWMrUeOEj6qwUEYFAO+Z2ajFH5xEAWBYfes+mUqBnMVz3Bc4wfYa4GtplkhDIibHTxhix9MCEBXozv8Au8AtgqmcbOj6MUXX6w8A4xXojyEI56lyTVp2TPS55k99yh+gIbQ/JhjjtGN/TglmnYPL0BXky3QHb7gOhG9TVZ5mbFzAppDe/jFZAvywPqPBg0a6BEZbNrFMwbNJncsDAotYTh5HAUXJYVTh0899VR3ww03KP9xgjlIxH/8moXEYyvAmg2cnfparVo1Pd1VKjTjVFdzEnwLJ0RJ6I8jvhAni9/pp58eTJkyJWjdurXeCxGzPDdH/on8vSv6LnvalQiqVq0a1KhRM+jTp0/Qv3//oGzZcvpMea1kYh4zXszuWdQlCuNd0XFRWkVlhygZegIs/IG/uWhcc/osRmtP9/+ei8oC6z+aNWump45fe+21Gc/MWXhRJPTk1912201PHU5OTgkqV64cVKhQIbjrrrv0BNkmTZooP+XU53m3dS7bBaJRU5IQSzXBvfeuq1MgnG/CCGLRwoXu2+++c40aNXSipLiFcs/ObqTFCa7sIkncvfbayx155JFuzz33dA0bNtSTXq+66ioNg8bIBiwexR/QXRqomiyhORYMLFiYNb/66mtdDc5naenpaa5Hj4/1s7QzzjhDeG2NjEZKadzDDzvMtTuyXcYIlg2dRCnRPViYemEahkOU2NyLTeLY4MdGs35kWzwQ5RPkASNL7jnNl039mF4lDPIHSxijVRkMQWAnAxXdkGnZ8uV6ns7mBPT2PLDzAB6g70EesCEXU2xs6sb1tGnT3O+//67HYCATLr3kEj2UDR5p2bKlmz59hvvgg/edDGjcaf/7n/Y1bApHGDaQJE2WCyCPbrj+Bnel9Ennn3++frFiz2rUqKEnyO6zTz2VXZwUS55cw6Oe1/KBRJYNfnX0EHNohvXq7RP8/NMvwYrlK4NBg4YEf/89I5g/f0HQ/sijgm7dugeinATSqQQTJkzQ31GjRqkmuffeewd//PFHIJ2D/o4bNy6YPn160LZtW6iUrWXDu+LnpPGpJYvRqXQIwezZs9V6MWvWrOC33wYEDRs2ClKSSwnNywaffNIz+Oab74Jy5SoEyUmpwmfJQauWbYLx4ycKf8wIPv30U+GzQcHLL7+sPFKnTp1AGnkwY8aM4KuvvhLem69pizDQvOFR8o8vk3dFz0EnRpZcyyAk+OGHH5SeWDxF+QhE0Ouosnr16sH3338fSMcQ9Pzk0+DXn38OevfsFey5+x4aN1V4DQsH6UVdNC/vireDD/jF2i6D06BHjx5Bu3btAlFIRYZ8EjRu3Fhky296PWLEiOBf6Xtm/D09GD92bLB29ZrgumuuDQ4+qEnQr98Xwdy586VvWhg0bdosTLNseZVFXN96a5dg4sTJwYEHHiT3JYIyZcoFlStXCV566WWJ86/Iqm8DUULUekL+xIFP+fUuby7HNRvScDPmti4RrbHxQY3d7bffoesunn/+BdXu1sqIc9WqlaoJsvc8Fgw734T5L862YB72jjvucO3bt3dvvPGGaoPE9dh5AK9AV0YDxx9/vC4C5eTfa665xr3yyitqzTqszWFuU1pId8ISBzbkXBR2Dd21alUdSUgH42677TbXsWNHPfcAyxcLu1jgBW/BUx988IGen4K1AzAy9ig+wKoB2MmRwxk5Rp6zlMwfmYM1gzl1jjd44IH71QLC6HXx4kW62IwTYZFiHjsvzHJAf8FW5CwqZ+0FoF/B6kXbZ7vyXSrvolaxm268UWTHMW7y5MmuVauW+nvKKae6Rx55VJ/zRQrAKhboJoNhPkl6AjVrwMKNwbDSn376mXrMwi233KwnksvAXPMEKr888oyEyoYpGQYI3KZNazdk8BDX+7Pe2jGsW8c0C7uDhqfr8VXBq6++qlMpmKoQGmyk0qZNGzd06FA97hcCQmyAecxj5wO8wxdHdBZHHXWUnoXD9sCpqSmqTNCQ4a2YDHElSoYrxVNTS+upsAMGDFAT6ZdffuXuvPNOPTOHRVn777+//nI8NEoMXy5wD29G4QVA8YApm0yPIRNQKOk04BsUVmQKcuTHH390LVu0cP2++MK99OJLrkHDhiJHNmmnIF1FLDWPnRHwB46+Ap7g3C2m4hnszp8/X6f8GcDCS3xFwqf1TLH1+7K/TrNynk75cuWFr1icvtmtXLkig+8AcogTpgHyCH5CHpEQSsjee+/tKlaoIPKskXuz+5u63TmLlE0mRftIj9yxRY8PIUybNKLQ8KnkBf8ucCuWr1A/5uJTUthqHMUhya1YsVzXeQAjAswAo7BBGIoG6REPP69s7Jww4UDnwcmKnOjbvXt3d9111+uxzsnJsePkpZHToLXBi/JKvL//nuauvfZad/ddd7sFC/5x119/vXv99de10cOTKLL9+vVzH374oVo4rrjiClVkgY2IPYoXWNMFTCaYzAEc7njXXXe5Sy+91E0YP8GdcOIJeirs4Ycf5oSDVOBnhs5ENA2P4gmjIe3e+grWZ9EPMZhhy3EO7mNAg1KKYkFntDx20CN9EwoKCmxScmj1pB9jF+NY96Z58AcCkUPIJYBPqISU0EMhf/n5F/fe+++7d955R+UTgx3iemUjf8hTj6/Kh/w7+OBDXP1967v/nXaGTqtwpkXp0nwOxKYp4aeuAEJAZCMGnyWxqPTcc8/VDkIZQBywOB47B6A5C7fKlSvnli1d5t566y339tvvuLFjx6pQ2LQpVDpp9DR+TOWVKu6iPNa8eQtdWPre++/pwlGm3DBlMprhJGDSxIL29ttv69HSLARDkQWmIHsUH8AHRje7rlKliqtYsZJaLxo2bOQOPbSZ+/HHn9z5F1ygU7i1a9fR6TSLI//ptcfOC6WzAOsF/QZ9BhYvTgdGhuDPFFyqXFu/gqKRYp+9xqZKUE6xsFYoX176rbIuOSnZlYj0P/RhFStUdFV2raJTKlOn/qVTLskSD+WmW7dubtCgQarYIOe8zMkftujpqcCwDtHcIHSSW7p0uev3RX8dYTId8tjjj4vQn6MdB6uACYvlAgIDs2LAAKz8rVOnjsa79957dXSK6dQI5Qm2cwA6IgQYqX72WR9pnD3dQ10fdr/88pv75ptvXd++n6v5U1q+hmEUcWDjA13v3p+5e++7V7+Nb9Giudz3VgvIO++8q3svjBgxQhUMLCQDBw50L7zwgj5H2CAAGOUAGyF7fio+CGVNSC9kB7IEgc7ceOXKu7hGjfYThbOb++mnn937MrK8/vrr3Ly5c92ff/6pcTani4Dy9N4pAV+YkmHgqzY25Jo+fbqu4xk+fLgONphSWS19DUoFBzoqhC02i4xJT2O30LCbWydhy5Yp6155+WXXXfiMKdiNGzdI75Wk8oPpkeeff9793//9n9ur9l46pYs1g0EyX1Yid/iCks3DsKSivHjkHQl3EGXh1SapTPz4o1Ezn840ClodQp7G/+eYP93oMaPdjBnTVQCwSAdFAxM6o84//vhDR6QrVqxQJmFRH45FYYx0badAb47aeUCjXbNmrRs5cqQKAUYI8M7HH3+sjXfVqtUqCOCJkaNGKi+MGjlKw8Ajs2bOEj7kBOASmsbLIhjgJRRUpkywjqDUsOgLc+awYcMypu+AVzaKD1S+iKP9M4JkpDpq1GiRI+PdX39NFf75x02b9rdbvWa1Ky3K6NSpU1237t1F6fwjY2CTHbXjOyqP4gvaNG0ems+ZM8f9+uuvyivsAorSwaeo80TWzJ412w0ZMtgtFDkC/VcsX64yBB5COdi4YaObNHmSG639zzi5nix8t1EtIPRZEyZOUHlCnzVp0mT98GHSxElurPRrcBr58REE08O2A6nvu/KOjH02ABXHt8jr1q0XAb4unN+SPxSOdK1UgmZfuVQ+TGFzXwAzFv4wTNQf8MyI5TuJ4g+jPwuyOE4+PX2T3LNHi62nYHqNdT6s1ci6xiIazg5nM55AgTFhY4LH+MbyjDZ6z0tFF9DLYNf8xssGRpvCJXIV0rJUSqrQf6P6JBl/6P8FB89XBYtEvGLt3PoOo0lJeW57rqSIjOF+Q8zKkSqyRRJwm4THQp4KUbKEhEsqqf3bJg275TPSR47BkZSBgRCI9l3A80buSLCpV2lRNKLKBgi0cnEGKpeFoWlpsTl4GYli1cCfzgELiY0+LJ51CtZxkJ8RyROr+CIqFKAtDROlAsehazRm5kYxcUJz7uEPGjPAcgY/EJfFXGyyA8+FaYWLP42v8OOaPHE8g6d8wy8eiPKK0dBoG5qlQ0vqRuEHnrGg2LGYGGsXUYW0WF1N6Cei9I6ivuergkWUVwBtn+lWYPJCLfHwg7T/VLlGvqSlIWMCuU+VX+c2bNykigj9VYrEx497eAyaQtVkkTsh/4V0xtLGL3F4RvooKuRJfvHKseeN3JEHZSNzhEknwb+sFct14oo2ZrFfi8cvftF7j+KLqFDgmj/sYYARhnJILjQmtI1MYl+fZcSJ8k80r/g0uc8tH4/CRZR+wBRKg5EvCAiXSX/lIn2YM30zn4bxuc+aYyYsLOnnhW88bxUsoryS3bWCe6EN27kpr+hteA8gW2yNaCYkkHpJ2Az667/4gCFIE5iSGw/PG7kja0uPIY6UGYgqHpkgdOIYhMXZyBNn8T1xdl7EKKyOT8jCBhre42Lqh/qbCz81szghzxj/mAPx9/EIhU1WR4eGdS3q51HwSFTv+JlVg99oEKGU/mbQXP9ygDwkBiPa0qVkBKzsJP+pC59FQfrGG8YfHkUT2bV3hT0T8rFPBtYIs8rrE8gqDlpnfH0CP8XiER7aZ3KXxcx0Yf8VWuITOY/ckVDZsKrb3lXoG/POj7Dh5eKUDRL4Z3GZiG/M8FHUmV88os9U0ETCJArvsWORSDhjksZkzQK9cE0OvjG66r+QTltyRQLESMoXCKSJVY3zU1gDlMELERfLLAsI53mj6MJoE+Ulczzjly9M4CsUDwYxZjFF0cigLWFjHGVKREh7fIzb4p3HtiDB1yjJOuelc2IxwtDg7Q+NMSRajHAxQpow5xfn8d9BRgOOwPjA+ALwa+t34DVDlF+iPBSNby56b2ngZ7A4gOcmRMjX5lktvkfhAXowWmzXrp1uP88xB3zGPHnylLCjiNEnpFUmX6i/kD2UQzzDL3Q6mt0cuCPbH+lOOP4EN2v2LLdm9RqdyyevDEj8ZOScdDLs4cKeQYBPrC0P+9X8BFF+9SgYWN0bou3aro1WJWPtu+0RR+ghn0uXLtOv4SSEhnOBhIvQkvCbgzS3774NlP7sYrvgn3/UwkYwT+/tj0wpnROgkTgW79FIERTJ6ljlGwZRv+Rwr4NoI41nGI+dD4kaJnSHJ/iFL6K8gb8Jc64tnN0T1vyTYvHIw/wsPRaLITQAcREUPOfanoO2bdu6Rx99NLbrbUq4k2BMWHkUDqz+2eyvdevWuolbp04XuUqVKobiBn6QPxYZpySnqLyBtizw45f4LB7FcsF9qVKp4UhWNIkjpMO5+pqrJe3dNQ/lK+GHME9JVX5tMSCnVV9+xeVaBgDPwDuExRk/eRQ+oIPRB7rgUBz5RaGEXo0bN9YdZw84YH+RGeFOosiO8hXKuy633+7OOftsElIZAHYXHrnmmmvdoU0PVf+onPHYvsizxGW/hNDkud5t3LjObdi4XkcL2uCTws9dec5v/JcmHjs/orS2hgo/2GZvIa+EWwjbyNUaPH4AYUG4kM82hG79euUl0jTewuROGMLCwHRExCU8+WFGB/gDjjHv3Lmzbtpj+8AA34kUHozm/fp9oQf3hVtAh5vCGSep8iA05usTvhyAvuwBRA8D7ZQ/NvEFXPg1U8ahWvKLooJ/OmuBJKx+4SSPw0ESfBHSfqOkUbpUac0XkC5pRflWEvK8UsigfSNjaPdcQw9VDGQAzLQJvJCelu769Onrzj77HPfN19/ELBmhAgodzxSFtlXrVsITaRkyAN4gVLi2LJQzJsvIx2P7IeHXKOvWbdCNmTBLAjU5bU7Xw7D+d9r/3D7191HisQnTW2+9qdvFnnPO2TqCZJ8O0KtXL938i0ZM2JwUj5yeeRQfwEM0VgQCp7F26tRJT+1k87Z3333XDR482F155ZW6JTm79LEhDyc4MqrlzBN26dttt93cBeef71q0aKlCfumypbqB3CCJ26Z1G3f++edJ/Npu3ry5eubK5EmTXaeLO2nnQlh2HYWf+vbt63766SdXtWo1d9lll7qLpCxdunTRzefgR0ys7D5oQsujMFBCz0/iUMcuXW6XTuJs4YUzdeOmUDFNc3vssbueCnvIIQerNYKdIr/79lsZkdZyZcuVVV7ggC02futwdAf3088/uX333dedeOJJ7oknHtft7tn5GH5AJq1etdrV2j08OmE/kWfkD8907drVPfPss65hgwZ6YjGnFFM+Tpj98MOP3J9jQ77xKDjQNunw6ZcYmITTI0t1J0/OTZo4cYLuUN2588XCL6nS1qu73artpucqvflmNzdn7hy1eJQvz2Fq+7tnnn7GTRY+eVhovUuVKu6vqVPdIU2b6pEKH334oUsThbRZs6YqI5At8+bNU9lgzmMbgbKBq1SpUlC+fPmgWrWq8lshKFEiKUhKSgmEiIF0IUGTJocEvw8YGMyePTfo89nnevb/smUrgmbNWgQdOx4TzJ07Nxg6dGgghAsGDhwY3HHHHYEwip75z68wTrZOiuFdMXfQETqLshHUrVs3EIEQzJw5M/jggw8C6QiCUaNGBY0aNQquvvrqQIR2IMpH0KJFi+CPP/4Ixo0bF4hwDypXrhx069Yt+HfBguCr/v2D9yTMYOGlM08/PThwv/2D4cJfUyZOCnp92jOYM2tW8P233wUH7n9A0Ltnz2DdmjXBbMlv2JChweKFC4OxY/7UeB9/1CNYKOmtWrFSeHZiMGHChOCbb74JROHRckuntsW7eFdQrkRQunRZve7S5Y5g5MjRQZ06dVXmlEotE1SpUlX44c1g6dLlwS+//Br8+OOPwaaNm4Jnnnoq+OmHH4KN6zcEC+bND9auXh3MnD49WLNyVfD7bwOCl55/IVgwf37w99SpweiRI4OZf08PlixaHJx95plB1SpVgo+EJ5fK/Q/CP999/Y3G73LrrcGeu+8RfPF5P437zVdfB8OFl3j2v9NOiyu3dwXhkCnWPmUQG8jgIRCFMejQoUOwadOm4Msv+wdNmx4cjBgxNOjevVvw6itvBJMmTA0W/7s0aNOqtcaT4XLQudPFwcTxE4NF/y4WWbAoGDVidPDX5GnBJZ0vD9q0PiKYN2+B9F/zgtGjRwe//fZbsHbt2uDGG2/U+OSPXLMyebf1Lkc7kRBbNToOorngggvc3nX31sOQ/nf6qe7FF19yy5cvV/MVe8xLR6Ejyfvuu0/PwGCPebRSNW/mohWST9R5FE+YBatjx47u0EMPVdO4KJ3utddekxHqHq5NmzY6iuDEVk5r5ERXDmIjDFYOjos+7dRT1erB+QMXd+7sTpV7RjKnnHqKa9CgoW5fft111+m298zL7lu/vow+l7jSMkLFknb88cfJiPZJV014smbNWu7FF15Q0yqj53ffeUf581kZwTJCAoyaPAoOmW08UTvHPhWOZpEbrVu3UfpjFTv++BPcTTfd7MZPGO9Wr16j29f/OWaM6/pwV7d2zVr3808/uze6dRMeTNfN4mTg5MaNHadWEUbBmNQ5SLJ9+6PcySef7F5/43V33PHHuwcfekgXE4IT5L5N69buSeEf4j3yyCNuwT8LtCwehQPkCfyCtXTSpEk6FdqsWTOdBqlefTe1XEHzz/r0cdded7W0/afckiVLdUoFYA0bMmSIe/SRR92SxYvdsKFD3UNC84ceelDPOWEahjAzZ85yF198sS4W5ewVLLLA8vfYduSobNDoEcYs2mrVspV2CD/++IM+g8CYIFmAw/7zmMgxc7FvPAcpMU8OSCO/8MQtfjCaQW8aKkdBo3RwOisNmHumSBDcHKbG2SYHH3ywHqiGMgEvHXTQQZoGPLRBwpUtXUbP4tmwfoPbf7/91ZTK1Mynn36iUy90KJV3qezKSdp/jh6jh3YtFiXi72nTtMNhV9shw4e5UaNGilK80X0t6fYRoUSerD6nzLkpwh47BvFNXNUM8UtJZTFouPC8uXQqrJ2Ah9atWyO0CvfQIEyp1FJu6LCh2gFt2LjB9fuin1u2bKlO47JvwuJFi1WZnTl7tk7zrly1SgZEldzhMhBiKqXPZ330a5RNkj4dGbx1RNsjdGq47+d93XpJkw6NzohFqB6FA9onMgUacTYOU7DIlWlTp+mULYojv3xJxACaNs9J5NAzSRiKNj5pymTXs1dPt3jJEj2DqV//z91HH3/oZswM02A9T8+ePXX6ZLEoJMgGTpi2/H1/tH2Qh1YUuDIi9OkMmOfmAC1Qf5/6OpJl4egUIeZFF12kI07mTtEQn3rqKV1pTpitVTg8kYsfoDeOE3+xbPAVCPPhp59+us6ZQ1M+caxRo4au5WjRooXOjzNSxUrGlwKMXgCKLrPknHGQJtfLRJF46+23dO717rvv0YVggwcNVqVj0eJFbs0aUSAkfO06tTX+woWL9JcFgDxAKUG4GLyiUXTAngfwjZ7LJIoFXx1UqFhBRqNLRFlYoGFYi7HLLlX0QC3OakIZYIE6fIMSi5zhFx6jw1gek1XVRcmtUKG8Kh08W7V6lVuzdo0+a9CwgfBPORk0pWoHM2/+PLdURsag8UGNVfZRLo/CAzQDM2fOVCVin332UeUBWrVu3cotWbJYD10DhGUgvFbkSTrtW/4RG5kCf9jXaxXKVtRflFz4aV3sMEesHCqHYnl6bD/koAVAKIRxSbd+AwJgrY48MY9f0vky10kUChp7mbJlMszmLNZB4fj+++91geCuu+7qG+p/BNERwJgxY/SXY8I5ofHnn3+RToAvTDa6Ro0a6TQHUx8PPPCg22OPPdVczTTcb7/9pg392muvdY2Ff6rX2E3N2jWq7+aGDh2S8dnjDz/+oCd/8qUK4dNFuGA5QaCceMKJ7pprrlHLyfDhw7Qc64R/K1asqEoO+RxyyCGqCCN8WIjoUXjgixEALbCSNmiwr2vYsJHy07Jly13denW1QznyyKPcvffeqwt+hdOE1xBdoWWKe/gLcYU/fqnSKVWqWMk1a3qou/322/X4hR9//MmtEAW3Ro2arkmTg90xHTrqM/gGPiI/eOSwww9zp596mrvhhhvUQmafyXoUPKIDAhYO6wBE+hSsoSNHjhAFsaIuFseqRV+1ka8khafq1a3r6tauo8oJKXAyNIooikqN6jV0QFJ/nwbKc3xNabKLM1BgJFM1+PWKx/ZBAmWDig0JDNGSSpbQOVEUCawZjE5vve1WN23aNP3ErHbt2u6II9rq6l3mwHjORj10HLNmzVJhHmUYj50TRmOUAT5n/PjjT0VY3+gGDx7qfvj+B13R37ZtO1EkrtfR6dNPP6Prfrp166ZfpISryyfqfYMGDXT9RU/hpQ8/+sh16NjBfdqzpwiYb90Tjz/hBg0arOuD3njjDemM6uko9oD9D3DvvvOue+mll9w6UUKefe45N2PmLC0Tx0ZPkLQf6tpV+ZM8GCUjtOjkECZeoBQ8olXOOvEaolw+//xzOqdeuVIlUVJ/cgsW/Cs0fdm9+eabOrhhPr02nUjp0qJkiqIhyoX+itxKS9/sSpTkU8hNymNPPvWUe+ftd1zduvXcs88+J8rnCPfLz7+qovv662+4V155Ra0YCxculLTXuc/79lV+ePfd/3NPPPmE++uvv9yqlatczZo1Y6X0KAwgW2ifTHHgmAphSoU1OUuXLXIL/v3X8QWl9FjapkuVKq1rcZ57/nkZZFTSNNauW+/6f/WlO6TpIa73Z31cr9693dVXXx1OkYno2hxb48EhgDhb88EzVUA8thkJPn3lU7R1+lkgDS9UPkqoKZpFU3z+OmjwIJ0uYf5sxozpOp/Wpk1rtWZgiqTT+Oqrr3TahTR4vjXwSkrxAjzEfDlzoKVLl9WpExaFIsyHDRuufNGoYUOdihs+YoSMNDaopeFwGUky8hg4cKCmwaZMOEaUdC4osfDbrjICZeHogQc21gWerBMaN26sKC5Pu4YNGurnjcuWL3e//PqLmzR5svIP/McvvMliQ0axo0aNct9++62uB7HnwPPbjke8Ukf9I3fq16+vsoWRKAs2URBRItu0OcydfNLJ7u/pf7sffvhBp9+Ig1ILX8EH0Hbs2LGuQoWKrlbNGjrdxsAIRZSOYtCgQW6opAc2B+nuqPZHu2M6dnQTJox3v//xu9t77zpu3tx5opzO0M9gDz/8CF2fhlWuvoyE58yd6/6a+pfE9fxRkIjyCvRmao11XlihRoj8qFatqtw3ERnxtwx+Z4jikOL22rO28NF+rnz5svqZ9O9//KHbOKRt3iSKR2Vd49GkSRNd0/OryBUGxKQ5ReQF0zSpqSnu0EObug0bN7qRkkfMtKHTdh7bhhyVjUxihwpHOCVilY4islmYIDw8yRQKBIGNGHH4xwuYvCA7wZ8oLd9JFA1AGxwKB1av9M3wBHOk0EdGnSWwcoV8kpISbuiFYsIcK8AKRnxb/c+10ZYFgSzmY4MeM8fxpLT4Y60oVbqUKsPwLqNcFvbBhzgEFemE/JvJL/BnIt7x/LTjkKj9gvg6h2ZhWOQOtEsTv3Db8TAso91QxqSns07DNmMSPhMOkRgkk4HU5FIqxbDWIuc0XZfukoVXWSjKYkLWbSCvSIdwfMGi8/4amv/Csnv+2PGI5xO7tzZMvwMPhLQMZYcL4AGRKaJYwAfqX5LFxkJreQBPWT/FBl4gSf7S5U84SRcm6wZxKrfo4bB6kgsupLmn/dYjwTRKCCo1q7PGy5Ka8FS95CS2gw47hCgz2DWMEM80eQXxErlEyOmZR8EBPtBf6RyEIMIjoUAAJaXRQyJ+GYHAGyF/hJ0+Dt7Bj2tgfMX9prRwASCdgsHOOmAUioMn9cTHkqHiTN5cWwdlDqFDWlbeeHheKngYnaFNdB1NqIxaByG0E/qG9AsVU/xKCj9lxJfrJGST8B4dCX/J4odCC0/Am1AdZYTOBN5IjiktWEEydh2NgWfKcxGeIC9zHgUDa6vQydpuELCJIDtYoyRAC+EF+UkR3kiRvik12j/JVXp6SFdojEIKX5AWvKIDJB4KTVFQQj+UDXGxP/3nab/VyNGykRVWwRCPe/7Djw6B+xCECRkhdIWBwsr3vw5rgLp4T9kj7AAMShf9l6mchkps9D7z2nhJIT9yB8dxEUEJXRzK3Ouq1as1P0ye5EHUMClLO1SEcaaAZAfPQzsGRttEMNpEYXQIf5T6igz6EAdfHogXP2ESsbDyXxiU/zL5iTDhdeg0lVj++KvTZyEsZCJEy2xxPbYN8XwA7RhcRGsWhcHuCa405C9CW36MjkrlWDj8SshDrvG03DLTz6Sj/b9Z/ixkxrPYr0fuyFbZsH0IsoL7eD9AEgVb6daJQexEBPdMUPDI5JeQT8yCEHbsoa82fPnHKn+AAhAqHCGya8TGefE8ifmcxMkn3FZfRILcaz76HAHDSChULhjh4sd1fnkkv+E9tkQ8/axOzT+kV6ZSkFnnWeOBWAz9i6aD4gk/4BPynji53pJ+dDaxePIX/sPknsmPBo0fXm4B5T3yk/SjzrBlvh65ISufcB3yRQjqM/Qz8IjnaofgRupcaR8Lyy/UDhEqGfhCN6xlBrV+8SfRwrghNHYsD72PpW/XHrljOygbVtFFq8I9AxQOwoYuDVkacdgY+aIpRQU4NMFEzrwp4Wze1Mzm1nhBPP1CzosJkgxeC311fYiaxcOug/T4JY3QdBrmAxAupBHNK6/wPLXt2FKmbIlomJzqPOwwQh6QgCFtS5ZwG9M2ZjxPKhnjrZjCEQXcErpIfpH/o8Bni/hSTuMlymnltl8ru+ebrUMmH/CbSaNEUIVPBhWbURbghRhtVHGIhYlSAZqTIoMPLBbml8EvGpoQFitc/wVIV9P29M0X8qVsqN4YE9YGiKXElUae1T9sgMAEvCH6DH+ec2/Owpo/MD+Lq8wljntjgigsnkfBQqdQBOz0WKFiJXfxxZ1c8+bNXfly5d2IkSPds888o4L/2muv09XkTzzxmH4VwlcI8B+AntAbZ/SG+jhGIcoL8g8Sp6aWcldecaXu30H8n3/5WT9rw8rBZl/sXsqntOuFp9n99rvvv9U9GeAdQNrxPMZv1N8Qf++Rf1gdG7iP+kXr3uobC5khgx8knB4UKUHoJKIyhIXCHTp00JNiJ0+a5N57/33dyIt5eXgvjEssIHFiacY8MtOOwabl5IE+izoUZ/YW4osGdjvlyxc2syM9+JEwmrZHvkHdxa7UhW2W+ozRS+/kT/oeBhibNm5yxx57jB4W+oHQfMAfA3T9BSFxhIOu0BI5sn7DWte+3VHuvPPOU/kwd948pR1fUepgSfIB7MMBylco5zpf3NnNnTtXdxwlz+z6H48tkdGicmsQEN5M3zQiKtg6ByMG9+z0SAOMpsc1fjiLgx/MYw3W0uQex7WlY9d2j/A5//zz3YMPPuCqVKmi6fmNdwofIe1iNyIEOI3xlltuUUUCYV8qNUUbPPTcZ5+6urlWhQoVNDR0NR6AL5SXhN7A+EQXccFL8kx+xIVfmqAg80krn8UeddTRIiTSVZgQjxMfd999d3f6Gae79kcdJemHHZI54zdzVg5+PXYsqGPoHa1r7oHRHPpa2+eZTc0BrFYWl6kz+ALwOXXFSpXcMcd01G3tbWMn0oMvUYhRINgMjjS1E4qlaflyAigOXgijhYxNfpSFL6ZMHrFFOvx3wgknCI+113CWXvTdPLYFwivsgSE0CxHSErpQx7jNQZqrKgMYzk7haIRozUM+wrDQXGkqNAcVRf6wszADIuRVlSq7aDjCm0wIv4ZK1+0fQhlzlNLXaOyRN2xh2aDhsHlOdIGoNVIqnE8QOZiNkQGaH9o8G6AkpyRro8aMRcOnESMMSBN/hASdAwTCchLehw2X76ejQgVwb1vHck0YNMkVK1ZqOi+88KI78sh2eqw9B8KZkDBhRdoeBQtrgNCwQvmKehYJowQO8WNPjZTkFN0FFJ5gjxboxT4a8JXRGMAf0Bq+gb9wyTH+SElK1jTgAdJjIye2Ji4jguDzfv30XJSrr7ta+LQMLCv8s046gl3dV199qftrXHfdtZovacNfpA3PwC+Ui8WmQPla7qN85Hlq2xHKkkwY3alvAF2gs20/zjXKJPFw7MeCP7RDoWSraXmiB/GlxRQAlARM4y8+/5Jr2rSp7q2wdPkS6SzKqJKBjEotJTJHZYbw25q12jExaNok8UH5cuWE3nIh/7F7cpLwI8oMeSMj4RmumcLbuGmjjpg/+fRT3duh8yWd9Zl9wu2xdYjyCtMbWCupZ2iMdQLAO7RLo8cuomjWrFHTzZ41S49DwL9EjK7JyUnCX8gfGbzCX5IW/LdOZMQN193orrziCrVy/Dl+rIQNB6+hbNis562wI3aPHj3cuHHj3E033aTloyyE8cgdGcoGoNKi0ygQD1hDb9mihTvrrLPdnnvsoaOCObPnuFdffdUt+HeBu/zyy90R0vGnb0rTPQ/Ype2DDz4UDbOau/jizrqdOazD/gec2MkGTIxq0RLPPPNMbcAzZsxwH374oR7s1rp1a3f22WcrYdlCmBM/OWyHXSPpiG67rYtr1Kih7jbIVrUwFp8/WgP3HUPBAx6BZ6pVq66bed1999262x+7P9KoORCN3ULPOussVWbZuAl604FAU/iA6RDozMnBdPxs6IVpc8XyFa6Z8NA5whN716vn1ksHsGjRYvf2W++4sSIcqletLjzX202YMNFddc2VIoRKa5k2btwgo5Vd3Zdf9ndjxozWrcxB48aN1fz9+eef69bH5E9++C1ZssS99957GR2bCRPPU9sO60Cob9oqI0o2f4NPOCOnTp06qhRy8i+KKnzAuUucDszAA/M1h+kdeeSRai6fNHGS7h67x557qtxAPvy7aIEqIK+8/Ko76KDG7sQTT3LLVy7Xjgl6MsVy7rnnujIic1asWK4HvbEjLcolm4ZhNW3WrLkoNMm6IRQ7zg74fYBuBkVZ9pS8KMua1WvcG6+/4f4cO9ZVrFjBffSh8OnKFRoGM/wmUUI8th4mT7AsyJ3Q5QK1hr700ou6AZf0WK5Fi5YqT8aNG6/04WiD2bNnue7duuuGXcTfmLbJ7VW7tgx6oOuhynffffut9kFr14RnMt1y8y2qJJ53bqhslBL5wQF/WEjOOON03XgQRRirCTIDiy3wykbekdAOhFA1BcOEA5X83HPPuaNFOWDOqtquVd0555yjZqjDpGO55eab9VMi9qvn8KSyZcoKEdKESG11i+r169a70WPGqCKDhkjD5kwVDupibp3dJdm978Ybb1QlhCPJGRFzHgInyHJi45FHtneHNm2mxwWzJTpnHNxzz716ZPlll1+mCouV16PgAd9AVyxO999/nzTU6tqZPPPM0+6BB+53e++9t9KfTpxO5Pjjj1dhAKAbZ+9wLgo0t7NO7rrrLlU269ffx73++ms6Sv1n/jxXvXp1d5YoJ0yjMcqx+VUphf6vfKCX4aiHdRqh0ArBLqYILs6/YMt9BA6jYDoKdsFlpI2C5BWMHQOjO+2ck3w5Hwc6Y1VlG+mjjz5aFUK2FGdnUXYIRfDT1lE0mBq74sor3D333iN8VVdpjNUKuWAI15NxFeiGTXT+7dsfqXKsZs0aelx9A5EtL0sehwjty4kcekTkEQon034cyVC6TGlXZdcqeqYGO9WyCy3KKDLstFNPkzLVEN5LV+WG6ZnN6XCjl0HbA7Q9HLzCYnL2XLnwwgt0EEr7ZmCMInDiiSeITFntVkqbVrkgyseuVau6TZs3qQioWKGiu0/4hPVbKLUoGwyEjj3m2FBZkD/kVigvUGvCJQNMx90s/Rrn55AXg1r4zJxH/pDjpBMEhdiMQiAg5xV06dLFXX/jDTra5DwBtD8aXuVKld1ff03NOFL8nXfe0TQwa2G+mvLXXzqK5dn777+vcU466SQdbWDpID0WV7HQCgFEh4Tj2F+sJox00GbHjR/n7rjjTvf777/rwkLWbXC0/VtvvqWCyncOhQf4BV7hCHcUBs4x4MA0hDeNFssVVoRLL71U6RcdFRAXaxqdfK9evdTKwTkngEbPfc2atYT2d7hrJD2sJWxNjgkbQPZwPYbehshG5lNGRj1YL7CksDU6oINbtmyZjngQSKGQ8/y0I0Ebp66HDx+ufMGIkdNZOSiPwQcWDWj+wAMPuFtvvVUtYlgemEbh3JLffv3NnXf+eRpm6ZJlGeeYhAootAs7LByDkVNOOUXlFkrtfffdp3yKP7KoZcuWavX4QOQUFrDbRNYhrzhYkrl6lKH7779f5c3zzz2vJw1nrCFQ/mMKebNXNbYjrP2xXuvLL7/SM7dOPPFEtUDVqrW7DlqQKX369HX3P3Cf6/5md51qhyAoDZvSNqp1i4Etlk3aPP0Ngwus6igRAPkD4eAbpudYbAo/wC+ff97Pdbqokx4ciQzTsBbHI8/YQtmICleELZ0BlgamQcZPmCAKwUB9RjhGfhzBPHToMNenbx933nnnasNEmcCMnpyc6gYM+N398suv7pLOnfUwt9dffz3jDBVGKuTB6BLzJyNLFAbSBQghlJd58+bpWStYTzhR9M+xo1VDZa3GkCFD9IwMplCs44q+g0fBggaIEogygRWDjoNr6ITyYbRFyaTTp9Pgl5EFfowaoTk0RPEgjXr16rmWrVrp6PZXETYAQVI2JigA86qA/EuWCHeZzMrL4QJm8sIBzPGcJIkijWBhxPzzzz/rOhKEEMqQx44FNKfNQ3MUQNrwqlWrVNmoW7eu0oKpVPgEXoJeKBTQB/6AhstWyIhTaIsSweBGOCCWugyW5H+mbukXzGKK7CAvwACGa/LDkgKP0KFRJpu6AVjBiEfHBuAh42FAPvCkrktiPYnwn1lvPLYetGG+FmIr+VWrlrsePT5WC2n4xdHR2ocwrZGWFk6fs7aL8034Gk63H5e/atWquRTxwzr18ssvq+JK/2PyAJjiAO1wKI377be/To99/fVXbvmK5RoWmhLWnEfekW1riApqpjmYr+J4ZgQBaCzaIgtsSghxp03/291w/Q2q/X3R7wtVNCAoDXvS5IkyirjaXXrZZaqIMIrkGQ0ZYbFgwQIdLTDyxZx6mYTDfInQwREG/PvvQjdx0gT1Yz6ehaoQO9wjP1xvQpk9AxQNVKxYMUMg4+Aha9imCEBbRqr8Gr8h3KEloLPnGXFRLFauXOGWL1umz/bbfz9dqGxhFbE0MWszMmE0lAmEQ5gmHQllgve+/PJLtW4wwoXHmbs3Xoq2AY8dh2i75VpN2gLoxHQali0GHoRBycAfEC7NTuuUzoGzeJJTRKSVCOlGeBaE6kFc6SHd4S/Sg9YAPkAJgS9Y90V+TNEAZB1x6GAIw9QbAxyABZayGI+g7BCOMq1bv1birfP8s51ALYZ1WUIGLgPcpEmTta9gLSCDTA5phI4AGcOi3TVr17hN6aECAk1QIFj/xenSOCxZzzzzTEb/Qhg+dFgt8mjdhrXqh9KStinkG8AaQdbrEBZaG33hs6jzSIxslY1opWHqXCUNsfEBB7pjOh7j7uxyu4wGz1ZCMbVy2imnuNP+d5qb9vc0nWNlFMtIocouVdzZZ5/jOnY8Vo8E5hj6ESNG6r4HpPnHH3/oVwmENfMUo1g0UjokPnXSczYEKXRcKeFeDAielatWarwWLZrrnC2jUqZm6Cg80QsD1HdmnWunL7QwhQFnjRMacs2aDCwKjDi4N7rxHBAXPkDocyx4ExHwHY7p6K6+6io1pfOceXbAgjw6Fnii6SGHutp1aqvyoWWSH9IM+aWFrtGwjgFlgzVImFQRXCwypAyk7bHjAd3hE1MaoQm02ShKwZ9jxri9RLifd+65bs899tSpjH3r7+tGDB/hNqzfoOGMTox+5VYVTeMzTOhly5bRRckHiOyi04C+nDDLJ7HM7/PLoIhpHOQRCijTtscee6xaM5jKwcKCtY61Y5jVr7zySndRp4v0Czw+hwR8SgmPo5S0atVGlOH9Q38vh7YLsFzwhciiRf+6np9+qguJ6fixlv/7778ZAxlkAF+tHHRQE9fkoINd6dQyapGfPn2GToPBZ1izatSs6fbYc48MXoFOfNjQpMnBrmnTZqqMInfKCz0ZIPNZM2s3kFmm+OIsvkfuSKhsWCVCGIQ9Fg02SsIc9eZbb+kiumHDhylhq1Wt6hof2Ng99dRT7uuvv5ZwvbQD+fGnH930GdO1wbKo67PPPtN1HKwG/uabb5RB8KORExc/Vpozl1q2XFmRGowWmP8MiyiklfKEi4UoE+sCli5dotrpxx9/rIyAsqFhPRMUMEKBSpVbtRv/QK8oPcwPwczCP8yajFIIgx/guYFrFNNPPv1ELRnvvvuuu/qaa9yYsWPdeglvo1DKsFZGky1attBNnFhcTLHUuiG/jGhbtWrl3hL+NUUFgcKoiOPmsbBgeePIcvK0zs9jxwLlYgvFTngFjvrxhx/c11995a6Qzv/zvn3dPXfd4wb+Mch98P4HMuJMdyUCpsxC3lPLhoxM4SMQ8s0a6ZD2cM+/8Jy77bZbVRH45JNP3OjRo13Xrl21o8KSyi+OaRIGS1jl4Eumg5n2ZeEypnp4mOcsYJ04YaJbumSp26v2XpofFlam/LB4vI2MvPAiDY+s8tg2UI84JsWYTvnu++8ypsKY8tJnMbqjCKSK0nDXPXe7rg8/7KqJQjnt76m6uBflhPVYX/Tvr2sAscAjF+hbiF+uXHldkP7M08/IwGR39/1337uhQ4fq+h36MCxkf/31l1pRyCear0fu2OLTVxZLQQC0OhoslUmlIpjbtW3r6ssolNEBnydileCXeKzDYNRRsXIlN3nSZPf7HwPdwkWLXS3RIGms+9TfR4hZVkaP43QOn8WAAE2RRT777ruvfupG2lP/muoqVayseU2fMUO02YWq1SJQpCgZx4fv12g/d9jhh0k5S7gJE8ar4kKDt5GxR0GBBhc2Ohpu4ML9WhhJsOCSkQS8BB8ZT2HN4EsS7lmnwdw8wgB+QAGAPxD6WLqYq2fEyQgD5ZVPDceJQyBg8YBvyI/RDtNzjHJQZhnNwDDh/GsjTY/PGUlr8uTJWl74mvVC8B+fYC5cuFD9KWs8Evl55A8mnKE77ZQBApYGpk6ZF0+Vdg4t2NERa2gV4Yd2R7YXPtjHzZ83X6e55i2Y7/astYfKn6kSb9HihboxE2bupcuWqsygU+I5Cwkxh69cuUppjnxg0ITFAosG+aJkMkVC2eAdptVQTOEl69BYb8Tn+CgTrCFh7diee+zlloiMmz1vtitXppzw3946RZNSKlXCLxI+nqyKlOeb7YuDDz5EBpg9dKHnY489pm2feqZPqFq1mqtdu476YcniU3i+VKGP4NNqZAhtHivmBHEL/12kMqtGzRq6AF03HRR6oVQwZcb6kHbt2oo8WuUGDhyoMgS+RdkhPy8n8o4Sou1rzdDQTNmASLbPBhVnHUQ6DYew4pKEKGlYGuSa52kSN4rkpBQ1Z4Wj1azP0PYz0hTCJVIOSsofnyTBCEklksJ5u/CR/IYaJeWNpo0f8MQuaITKBn8Zt0IXowP0tmujUTzNCWONlzDwR7QxM+fKaMJAeEuDhcggLXYmRibChYGUi90Fo+BTbqZUUIQxkd5zzz1qNUEQmYUlHp6vth1Gf0NmO7b5dtZehF90sNiSLzyisoWjw3m2MT1mBeNP5ZTEE6d+Ipv0M9QI/wDCkUe8zIG3KAd+PGewFQXP8I/yH1O9rAMBJYXPsLCkxfEY8TzPbBtMDrA+5rjjjlMFkqkvlEas4CgFtFmUDeo7XMMToTlHxSeF9GPPHeM1gFzgS8lwh1DhlUg8LFWWN5/cgig9TV4lgqd5YuSobOBnz7jilr00uNEKDf+Jf6g4KGJ+odHL4nId+oaImcV4ZvEESvAYoRAiTKFovJhfQL56BcIyhYvBYs8lnCd0YQBKGC1xNMJM+uaFJhYmPnz0Pkw/BH56L0xhoUM+i4B4GoVyqId2RAgm5v9ZqMy0CbsC4phK8UJkxyJKwyjMn/9xWtdUt9yELT108bygd0pn+CF8xjKv8CozHEjER4nAc+MBrnEWl1/1i/2RUfgo9A9lVNh56UOPbYINKlgkzocEfPY6YcIE9+yzz+qmgFsC2malefilWuagGRhNzSlNY88AftFfEL32yD+yKBsQ1VZ7b6Fs4LTxiNN/4W/4HPuGhYUoPMoknMJu5aHGjcEIaHkp4eVPv3SRP0zgGpx0ea6hMhFGCxlGr2K/HgWJkHYhH4BMShnvGKL03hqaRfnE8uU3uzQy87Z8Q6UWcyifzbEehGkVBBH8n1NZ8lNOj8SI8oIhygtyofdZQ3FnDkTpgB/3OEanAEll/tkjKy/lE7EoDIg0lVjR8FYJF7OyeGwfYJlg+gulg8W6Ng0ftVBlECHjN0QmLWLcEaF7lB+ND+L5gvut4hGPLMiTsgEQxhAro9IjdR8NZ4gXF4AoUUUjEZQB5Jf48UTmyZaxw1QNnikKC1mVCi5Dngm/KrFn5qd0jqdvgutEvBWPvJM877yRKF/PW9uOvNDTVNZMmPKQFcgI5SfpTHRQEptSTSQnsqNdfHnyS+N4OZebfPPYPsiZj7akKcF9+y1cbNmuEwDC4likCb10p0bxj3dQVH8V8U/NZTIKxI9nAISHuiTmV1nJnRkve5Delml5FCSMTpn0QsmAJuxdYHu1RM3TUXrlLDxyQ3ze2blMwGPM1TNiSpS38WbUeRQMstR0xo3QQP/PdCzkYy+FNHbxjIWzZ3nFttKYUkX/PHYcmFKhzfKbs7wwLgjdNokWj+2GbC0bNn9Nh4EfZ5YQ5vnnn9cFdAhpngEEN8/oSPjVe0mVxV6MOHRKRPxC0scW48QaNuFxdk26LP455aSTXOtWrd2zzz3rFi5e7EqlpLr0mJJjHVYmsi4E8ygcGB0NmD1ZxMVCTOEzN2LECN0iGv4hrPFBdPrC0uCeaxzX5hIhO3+Pood4HonKDh1kGL3ZY0eeE1yn52JTtYTLkCnyrHRMgWXxn83NB5oG+WTyhecRD4/CRULLhjVMEwwoAGwlzgp+tnmlcdNBRDsDW6nNNZ0JZ1agGpgw4RAkHEf7co+/aaikZWniwD7167v27dvrqBgQPpovggeoYPKCpNAR0iQrz3CGBHuy8Hk0GybxC62gITzCqn9TPHDQ2HiBe35RaM3PY+eD0RhZwPVGkQ/cq+JRUgYfScm6OycbdOFA+Kykfir93HPPu5NOPEnjsimTyZQYG3p4eBQR5GkaRYWAdAoIAa4xiVetWlU3N6Fh07HwvTz3OK53rbKrS5HrpOQUFQwVKlTURXnsyGafmvF5EXoCJ8SSJnss8G074DkKDCOYZHFhGuVdaREo4a6ipmR4RaMoAWEPXaAxh1qxRTA7LnJQFivIURwIg6UDWqO8QlvjCfYpwA+egh+wjmBZ89g5Ad3hA2jPl3DQH3qz34HtrVNa7iuUF9lRvoLu2gm/bErj89QSrmXLFq7yLpV0aejadetFRjFY8ZqGh0dRQ1KpUqUe5ILGbp0ESoV29NKoUS4QAhztjSBAKeBkRj4dpOPgMyQ25eFERjZg4nROduVr3/4o3RCHQ9TOPe98d/vtd7hzzz3PHXb44boJ07x583UOn22B6Yh4xn4HjRsf5IYOGeqaNGmiO5P2+PgTtZKwa98ll17q/pG4s+fM0s6IsnkUPuCdKPgWHlqykyxfe8BPbPDFZ6ZcwyPs+HreeefpSatM2bFdPYoFvMCBWPhDczZfsk2/4E940qP4wngFOYP8YPMsDmJkk7cLL7xQrWH777e/bra1ctUq11HozynP7DLL8e4MUCZOnOAaNtzPHd2+vcqJ9RvW65Tt/sJj8BIbdKHQenh4FB0kVDZQNHBm2mQqA6WA7V3ZHprd1zgvgJEr5nEsFhykxvkS7LTH7qNtWh/mfvzpZ9ewUSP34IMPur+mTnUDBgzQqRGUCLY2P+LwI3SrcvLgtM199qmnZxj06tnTHSRKR6P9Gukpi3Q6HFP+8y8/u/5f9nfrZASDidUrG0UD8I7xDw4+YI2PWSaaN2+uU3Ds8AoPwQ/sDsmW8+zIiOI6atQojcshSWzeA21RVjnzhu2leW55RUEcj+KDqLKB4smmatC8Xbt2Sm+USviB3UI5D+mll1/WzbNo9zVq1JRByTny7B/lqYsvvthVqbKL271mTdf00KauZYuWbsqUv/RgSLOweXh4FA3keRqFxstUSrdu3VSx4MwAtptmRGJbhLMA8KabbnLvvPOuGz1mjFu7Zq12HEx7oGigmIwbN163jW3WrLke3sZoF6vIM888JYrF9/rJLfkhiEqVKu2uufoatapwrsoTTzyp4ZOSMg9g8igaQLDTkdCJoEhi/cIiwdb0l1xyibviiit0t7/jjz9eLVsPPfSQbhP+6KOP6rRJ27ZtlabwER3ObbfdpufeoKCgwCaC70yKP5ApDGwYbEDzxx9/XNf27FZjN9dOFE14is3XXn31Vde160N6dMGJJ56gZ5zcf/99asXo8XEPd3Gni90NN96g/JIUs8h6eHgUHeRL2eBsAUajAOsFQoI1Gkxp8JwDrdggadKkiaJA3OKmTpuqazs4y+TCCy7Uw40OOqixmzFzuqspo5EGDRrqCbGY0MuUKefKlyuv5xiE0zfpesgbysq8ufPc22+/rUoNUzqUJ36E61F4iHb60IWvmVAsoBNnozDVBu/wDGsH9EaBgGdsgx74BLrDS7/++qvw0CR9xnQL52EQF+cVjJ0LNh36ww8/KL2RJyggrPvCiorigUMhZYqEE3qrVa+q5+WMHTtWFdSlS5e5GbNn6dQLckkYxfOJh0cRQ56VDbBy5UodSQBO7GQUiumT5zg7U4Bws2fN1l/858yZ4+5/4H79MoFR7jXXXCuCYaorVSpF0lsuAmKFrgfBpLppU7ou+UwSIcRhWoyS6+xdx13UqZMuDqUjo5PyKFqIF+4sAEV5wNLB2hzW+hAGHrHFxPAPz5imo4PhHn5BqQT4YeWw3QI9dh4YvzBgoU3bPcoDPAAvsN4HuQB/oGigbLKYFP5gGrVSpYoaVrwVfBq/KT3c28Urph4eRQt5Xm1Hw6WTYEFW586ddTEXx+8yuqDzp9HjDKwaX7NmlRs08A8ZodRyhx7aVDqeZB2tMA+PMGFEcuSR7d1pp53u7rzzTtfmsMNcsqRVpnRpHfEwV/vmW2+qNeWqq69yl19+eegvAskvFCwqQNJnOpPvrKvhOj0dJRRFIrRyMNXGqZrnnnuuTsGdffbZqpiwLgPlAl4yZRJ+QinxtN65QZs2xQCah5bNzcor1atX1wEKi9A5gIsTYbGGrl+/zq0VpYNwyI0D9tvPdezYwbVq2VLTASgcHh4eRQN5kuIIf6wTtWrV0gWdrNn4888/dX4V6wXgaG5GKABFQtQTFRrvvf+e++mnH3Vzp48++tC99NKLugZj6dIl7tNPP9UFhM8+86we5fvFF/3cmrVr9FO3latW6pHTiyXck08/6b766it3lnRMfKUAvCApSsiqcAB2mV20aLFbvXqN8EHmYr2PP/5YlcdLL71U592ZJuOTWOgLv2DNMusZcVAs/Qh15wW0ZfrE5Aj3KKVYwDj6nQPyTjnlFPf+++8rz3z++ec6pQqYUunzeV93yCGHuO5vveUe6trVHSzXpqx6GeHhUXSQcAdRzJc4s1gwukQpYJ0Fi0IxazMPz3n/ANMmighCAz8EBunhMJPytUrTpoe43XarodaMiRMn6Zwr39Ef2rSpq1mrphs5cqTGJR+ESJmyfHNfyf0z/x8VPOTBKIeOiHUhpE3ZPAobmQoGgC7s5Aht2XRp7dp1bsmSxeJPRxKax6ElX6fUqFHDzZw5U09vxJ8pFXiMjgdeCtPKXtHwSkjxAzS1X9ov0yS0eRYTs96CaTcOyKPNo3hyf+ihh6plgylbrKlMqZhsYnqO6Vcspnxmz1of5EhUNng+8fAofOSqbJjiAEKLRQg6BsDIE1jjjpq8iUsaxMdEHiLczCvcwlzipcvoNT3cQZC4aZvSdEMfia0OP0vT0uCetL0QKQqAViF/RAHNw+2jw03fAIt+dVdIuYeW8Ay0ZNEvvIWDn4iLf7TDSARP/+IHkyVRmJwweWMyBT7JKjuyyh2TDTw3XiCNeL7xfOLhUfjIk7IBaNRRQUGDtmf447hP1LB5RvzwmaQRyKhGrkkuPq5dl+BwFYEJjmi4aN4ehQ14YssOBFpl8IyQSqgrviHdjI48B9DT/ADX8R1GIngeKH5QfoiAe6M9Dplj98YX0TgWDkSf4ReNF4WF9/DwKDxsoWwwymS1d7xlI2yw0rjl//imy2g12qBzbtwxwWFBYsJCImVchz9ZlY/4NHPOw6PgALFiNIwh7ABwZpmy55mjVqMtsN+oX17o63mg+MHomx2iz7mO54novSH+eRTx9x4eHoWDPC0QDRts2KA5loTbsA3HRiXiaY06XhAYTBBgWldnf9F7NbvjwrQ8ih8y6R/uRstBWnyJwpkV4Ug1fKp8E+MZ443463jYs5zCeBRvROlq1/ANzu6N/jjjo+hzDw+Pooc8KRtbInMkwfHPZcuV1UWgOCwjCIDslI5MIBgSOY/iiaw0x6KBpYxPoFnYW6tWTT2MD36x6ZPcecTjv4y88IcpHYnglQ8Pj6KDHKdRrFMIwRRKCVcyiXn4cC6ew484xbVLl1tdw4YNNVT//v3du+++q6NaM5mTDuFNeCAE4heBGShDqMRE5vxj4JnNx3pBUlQAfbIqGvAJp3XWqbO3u+mmG12jho30+O9Ro0a6++67V79Qgn7Qkqk6wDX0hebmB4xP8LPwNoolLM89LxQfRPnEgB90tWcmA4DxgtEbROVAdvA84eFRtJCjZYMGm6XRiizYtGmj27hxvduwYZ3buGmDCPtN7s8/x+pGO2zSxCdqUcFgAoQOhlXjOK5JC0ES9cchSEzAJHrmUbTBV0abg5CGl3Tu7Doc3UF5o2/fvm7s2D+1k4CWKAnQ02hrSkPUDweIAy/YM4uLn+9Uij+gYbStQ1vkh/njoHn0OXIlkeICPE94eBQ95GrZoOHyjM6DuffSpUqrNYNnfO++ceMGUTzCzbzYmGnMmDHunnvu0XAICUujTNkyLjUlPEeF+1WrV2l+7BZapmxZDUd48uUXsL8HZyLYM77D5/t7yuMFSlEBQj9TZ01ORoHcqGfdfPHFF3omyvXXXxt7yqeL0LS80h6aQl8+Z4S27N8Crdk7AT82iWPPDXiSLavhDeFX7XDgUfbr4DnXnieKB6IKgskVlEnoi+PaNnXjOfyBH7zBnhzwAnIHfsE/Ec09H3h4FD3kSdlAQeDZYYcd7q644nK3++57yLMSuhHPc889p6e5IgjYHZJtp++++25XtnRZVQyYTrngggvcqaeeqp/Vkg+b8zzw4AOaF6fE7ttg34yO5//+7//0hFdOhuXoaXYWJW/SZ6fJ3r17a3kY6XgUBYTKhk2dwDMcsMfW0WeffY6bO3eOG/DbAOkY0t3n/foq/e+44w7lDQ5lY/tp+A26f/PNN+6aa67RI+pNGenevbubMmWKngwML+2xxx56PD3pNG7cWE8f/uCDD/SZKakeRRfQDcAnKAsMKJANyAiuadvsHMopr4Rh4ILyCW3ZCA551KtXLz3UkefwSTy8suHhUfSQ4zQKsAaNYO/atavu8Mi246zL4OwCzr0AdP4IjyzCRBr9Mcce4265+RY9br7HRz30tM8mBx+sX7C0aN7CnXD88W7woEF63Phnn32mu4eCww47zLVr104VGbYn7tOnj+4cCrwwKYKIDVihzb771tcOpFq1qq5evXru9DPOcKeexn017VA4X+e8887Te46gr127tp67c/7557urrrrKTZw4URVO0rrvvvvcEUcc4fbbbz/XtGlTHdWecMIJrk6dOtoxNW/ePMzYo1gBiwb0pZ1zhDyyA5pz1hJnoXBmDtatunXr6pkoDD7Y5p4BC7sVm6wxeePh4VG0kaOyYQ0ZocDhaTVr1lBLxltvvaUj0ccee8yNGTNaFQtGHtb4k0oy5ZLuypYu4848/Uw3c9ZMd9c9d7u3/+9tPUqakSzCAnM7CkllGeEuXbpUFRiOEweWHqMazmXp1q2bKh74eWWj6AGSYOHAwsBJvSiYbDX/22+/uQsvvMBdccUVusU9vIJiOm7cOLVqvfbaa0pXztah4yHMww8/rOemcA4PtEbZIA4jWhRSTOrEGzx4sD4nTc8TxQtGr9atW6sVFVnCWUmPPvqoWq46dOigU2ZMk82fP18tHE888YQqHFi6AGl4unt4FA/katlAKaAD4bwCFAIaOsKdz1wZpVqDV0uGhOWaESfXu1atqudjTJgw0S1atFBN7czLosKwZfmAAb/r1Eub1m10VPPhhx+6Y445RuP/+uuvuqiQg9cwkxMO8zrpo3CQn0dRAkI/5IVNmza42bNnu42iMGKJmDt3tiiMc1VhMNoNGjTIzZgxQ+feOfEXKxk8BX8RhxEs03TM3zPdQrqcewFfcVAXa0HgE1M++fUofoDmKJqcg8I0KoMMzsVBTsAnWDewdMEfrOFB4ejZs2eGvPHw8CgeyLXHNmGO0OcQNj5xpZEz4mChXrQDwZaOQNjAolHpcBAU7LOwbt1aPcV1t+q7uRYtWopASZOOIsktWPCve7jrw+6ss8/SUSydCiZUFBsOVXrwwQfdOeec41588UU1nV555ZVq6cBq4pWNog1ozwZt0CklpZQrrfeMRtngK/zyBL6Bh1Bi4S/oinJKXKxfTK2wVgdLBnF4jvmd9R7ch+n50W1xhCmH0JapWdo+SiYDGOiOHIHeAHkD3QF8Qhzg6e7hUXyQY49tHQL4+eefZaS51N16623uoos6ubPOOlsX8zVpcrAKA44RBwce2Nh1vriza9Wila6xYI1Gh44d3TVXXqPKQ8uWLVXRqLFbDYl/tbvn3nvdXnvtpSNVRjiMaFg4ypH0LApkXp/j7PUk2NgCU+AFTdFG+mYO1wsP3GO6LD02CoVsdChYy0xRwEKBhQNrFmszWLeBef2yyy5TxYKpGMIQB9hCQn6tEzIYf3gUD2DhQn6wGLxt27bu8ssv1zU8TKea8mF8AlBe42keD3jA84GHR9FCkowiH+SCxmmCn1FjdGU/jRsrBNaM/fbbX6c2WrVq5erX31c/df3772miCJR1LZo3c3vssZcuAFyxYqX7feAAl74p3TVv1twdfsThOlr94/fftdPgSPm9au+lCwlZD3LssceqPwtBOXKc+Xt7xvQJo12mWTCnehQlZBXsXPPlSenSZZRH/v77bzdkyCDdtpzTfek8+KoA5RJawm90NjjW5jDCZQEoHQ9WLNYHDRw4UOOwXwejXSxfrAvhSxZGuiwytXR8J1O0YfQJ+WSzDjD4Rbmkre+///7uyy+/dO+9957KC+jOtBmDHRBVPHIDeSRyHh4eBY+MT18BjT766Wt8w8R6UaNGTf0clfbOZ40IC9v7okqVXURhSHXpoqxsWL8+w9zZsEFDV6lyZTdr5kydTqlQvoJ2EgiNmrVqqmNnUiwhzPWj6KBcsM01nzoymmFOd9q0aRnmc4+iAgR4poFM7li5ITQr4XbdtarSi84iPIwtXNuDQgF/wR8ostZ58ItlCyWC6ZN//vkn4zNXTOsou8QnDFMvzPcTZ/ny5Vl4Na+dkUfBY0uZEloq+LqItg5dUVCxdKFAYtmEh1i/A7YHbT1/eHgUPPKkbIQ/4bqM9HRGFvZtO35sM0wDDuMzTx+ihEsqET7bvDkQ33S5TxbBImmkpbsSsZNA02UUTOdkiJpIbc7WwDPy8MKiKCGrsgFM4QgP1pP7jOfQDf+Qfok6HhClO36Ej6c5cbNLB3geKZpIRCvadXQQgZIBoKHxQqJ4WwvPGx4eBY98WTZEtVAlgT9AxAyBj9POQu7x4x9HxEoaJGNpEZ7rjAYfG/EaTJkgjHU+hqiikRFfkJ0giobx2FHYUtkIAf3CK5TNEPxmfqqaiD5RukfDRHmGa3jBwnEdj0RpexQ+ErVV/Mzf6Ga/OdF4a0HaUX7y8PDY8chF2YjvREKBgLIREwn6f1SAhO1XGrP8n+kbi5fpkQXSpcSutoQJhahg0PDRKNmkGw8vXHYErKPIjQjUfeaCY0MimiQKY375oWE0nsHzQOEinh7xSESzHQXPCx4eBYeSNLjsGx2NPupChMpB1jj2FDmBsFCBkeF4EB8jBCOXlOSUME6CPxYVYiHhqwbzK8mf3Ksf6ecRBSXE/lswXjDqRqnMNSPSzOcotFEHTeABpX/MAeNL400LDyycxYvCnpmLpmNpxYcx51H4KEg6eJp7eBQcSpQvX14lMA0PYZ5p2eBwK9ZPhAJaQoiz66zIS6O1EPobSSYtiB0hLn+6joNnsaxKJiW56tWruVUrV+lncEy5BOkxcyp50oGUEJdNubKDdToe2wch/c1Z3dp1eG88wqJOFv9yb3tscI3iEKVL9JrnxGNun0WizOPjZ2GiYc3sDgjDYW32mS08hMUORONEkZ2/x/YBNClq8DT38NjxSEpNTc3m01c26zLBLQKCBik/CHzCINRxOh8vz1j4mVRS/OV5KFDCqRS2LtcOQPyS5Zpwmpw4wtWoXsPtXmt3t1YUnPT0NI1P55AebNYzNjh8rWaNmm7w0CGqaKCQ6CJSLUu4kh0/FA4Zn+p9tMNJdG8OfxM0lKUoCsLigLDezIXAz+hDPRtf3XzzzbpNOTvFspkTn06jdBAOWljYMH64IBg/4vAJNFuUEx6FhfBR+hGPOPwCFJRbbrlF9+047rjj1J+zNyxNj8JBtJ1Bh6gz2kNXfo0PzBHG4nONrCAOLv5ZfBzjFQ8Pj4JHviRuSWmwaWkbRdivF2Vkg7qwg8A/zW3ctF6erVN/On4UkU1pYbi0tE1ugzxfL3H5GoW0NqVvcscdf5x7/PHHXdVdd9W0UmLCJk2eLV2yVPdj4JPYDEEhsmSjlIHn/LJTKZ/KbhZFhE6EcuDCcoXncOA0qpY/3EMEZ/6E89i+oP6jdc3n0YBzUDj3BJ5p0KBBRucAjD6EJQ5KBelA19133103/CIM91jfCMtz/Pi1fHhGXK45S6Nfv366+y2f1Npi1Wi+HgUHoxUOYKWCjuagG79R+nBv/MAvcWizpAGN2W0UZ/xiPBKNQxqWp4eHR8EjT5aN0GIgIwV5xj4btWvXcdWqVXeVKlbWNRWEr1Spsqtbt57brXoNV6p0abdRhADWhlq1dtdnCIfae9VRSwZWi40b2FUy3R3W+jDXokUL17NXT7di1QrNjQ6herXd9CCmcePHuTF/jnFr16zR/JOkTLX3qu3Kly2vaz3Y86NqtXA/B8C3+kwFmbmcDaCqVq2q00JsNoVZnTiMqnlXwpmAAlEh55E3hHVm9cZolJGkUx5hd1j2yGA6DAWD802wZjRr1tyVK1fW9e/fXzsDG31yPgZx2LacTb2Y+oA+WEKwZrC5EzQlTLRjIj5x2NYeepMntEVZZQda4rOb7c8/hwf9WWflUbCw9mX1z54rNWrUUB5gTw3aLxu/QTvC4AjDrqLsuwNtSQOFEssVbRma84wdhomHMkI7Jy3aOeliAWFfF9Lz8PAoeOS6ZkO7EWmf6embdZdPtpBGkGNJ4AyURx55RLcSx8zNMfQIfxwHq33z9TfuzrvuVCVkyZLF7iB5Xr5sOT1grVfv3u7www5zHTt2dPX22cd99dVXmu/8+fN0q+JLLr3EtTuiXZjWu++4nr17inKR6sqVKesefOhBV046IsrQ+KAD3dp1a/WwNjoitkRnB1KOrAc333yrjIgbSfluVKF2ww03aDkROmwgxrkr7GSJMDKFBfiOKO8IOxCbhoKP0tyR7dq7yy6/zO2+ey0V/iir3bq/4Xr36uPKlC7vHn/icVEmyuqW9dAdczedAufftG/fXv2I99FHH6klhOk06DZ06FDdmRQ+5QThF154QTeIO/PMM12nTp1UgSQea0E4QZTTZVFOunfv5saL4nrvvfcJbcPpNPg9Hp7uOxbwCHVMe0PBOPnkk93555+vh61BXxQHFNLnn39eaXf44YfrFuYoFSiXxOfEX3YZvfHGG3V6DKsGSiqK5R133KHtmDicHAuNUVaQCV27dtXNwYxHDJ7mHh47Hluo+dGGR9+BooGloWnTpu7227toJ/3iCy+651943vUWhQGlhOPDGTn26tVLj6CnsV9/3XXugAP3V+tE69atdNT5wYcfuMlTJrsOHTvoyBThwpblqSJ4Gh94oDu0WVPXqFEj+iv3048/ub6f93WVdqmswkLLI65kcpKeJtuh49G6Y+nrr7+uI5bjjz9ew5Euox9QsmS4AyGjm4oVK0lndLEKL7Y950hrTPMXX3yxCj7emw4IeOGTP2TWl1BILvfdt6EqmdR99+7d3RdffCG0quR2rVJFO5gNGzYqT8X2/NIOhA6ATuf0009XJYKpNbYv54wctrKGxnQ4bIXPCcDjx49XBYOpFc7b4RwddrN96aWX3KhRo3RHSiwhILResd6H0bR6eRQyQsXUqfUKOXDaaae50aNH60AEerNlPdNet912m1o1GDygeNK2kSm0aejPgIGTYFEkvv32W1U8aNccdcDpsSic8NL333+vcsmUHQ8Pj4JFjjZFlQfSLjF/tz2irStXtrx76cWX3Of9+sjIor9755233FIZKbRo3sL9/NNP7t1335VG/a17+6231fJw0EFN3KaNm9zMmTN1ZPrOO2+7X375RRNm+/FbRZB83vdz3Zr43vvudZ0u7KTKyrIly9zgoYNdHxE8SxYvyRiF8KkrYIrmr8l/uaeefMq9/8H7bsjgIWpCZRtrRsShhYIRdroKH0zx1apW03MW6LQQcAgkOj7OYsAEa3l4QbR1gFewaGwO0l3HDh1V0Xj66adcjx493HfffeeWLgtPdQXUsE7RSSR+8WdkCn1QIhi5widvv/22KiFt2rRRSwadB5YM63igK8oGiibWjSeffFLXZ3C4F3P5UVrSyVgH51F0AA2xWHz22Wd68jNn4bBFPRYOFgRjlXrllVeU3qy/QW5AV+JAcxRQlBWsq6SBYok1g3bOAOeAAw5wU6ZMUcsp4bOzaHl4eOxYZFE2tuxopcMWP7Yk36XKLm7d+nXa2LmvUKGifn1SoWIFV7pMaffPgn90tFq2bDnpWJZJo1/jKsoIxM48mTxpsqa4QTp41l6ULlvGpQdpmuZmGXWuXLnKrd2wVoVFUnKSbnVeTpQHFB3WZoiPpiWF1BHrtL//VrMp2Lgp/JqBDolfs1DQkZVKLaWdWarE4RRS1p8wEqaD4jNKplC8orH9QJ3X2r2WW7p0ifvrr7/Ur3LlXVxqamg9UsgPe6dwz/w8CgW043revHnaUXBPR4RjJItFbdasWTr6BdAYhYJnWDHoUBjlAs5VIc145QJllROHjT88Ch/QmTbPYXooEPAAgwB4A2UB+rPmBkBraIolEj7BYgHNmXrD2oV1g4EDZ6uglPKMk6k//fRTd/fdd6s1BEXDr9vw8Ch45NLqMr80YVTJaLXxQY2lwaarNYJjxBktpIlw2HffBtqhoGQgJFgUyqFrzNXTuFNLpWqKNHZt8IxsBWVKl5HnSaIUhM/pj9LS0lUBSRMlgE9nN0r66fKHEBJpo50VP8mpmWcomBChk8ER6MADD1TFgucILTqnWTEBdMYZZ7iLLrpIRt9P60Felo7H1iLs2KFlakqp2L4YfH6Y7I7peIyrsksVUerCNTEsHKbTgGYrVixX/qLDwSpVr149VRawSNFxkA7KB7SFPvgDTgWGzoyCeUanRXw6FEbE0Q4lVDpKalx4y5RLj8IHtKFdG10PPvhgnQpFYYCeKBYGTpvGIkk7ZsDBKcCszWA6hTUcZ511lvIFyiQnBXfu3NldcMEF7rfffnNnn322Ts/Ac17Z9PAoeOTwNcom9QtdSe2sW7Zs4Vq0aKlTFo0bH+Q6dOiolg6sBVyjMNQQYX/JJZe4FdKBv/X2W7qYr3z5cu7rr7/SNDBrNm/e3P3w4w8yOpnr6tar69q1a6v5sObi6A5H6dTMoiWi3FSt5k486STpfJjv39WtX7feLV+2zJ10ykkubWOamlXXb1iv6TEdwgLR+vXru4YNG0paVdx5513gDjhwP7fw34WuV6/ebpcqlXVBakpKsk65nCRpI9w47t4Wn3mFY2tBh461wrmGjRq4tm2PcKVKpypfHHfcsa5EycANHzHcjRwx2iUnpbhjxY9PX/kihQXHWEGgP4tDmZdnhEtnQafC9BzTJdCYDgga0nlAb9bfoFTyRRPxTjnlFKUpPMxomSk8aI0/ygt5MI3GqNcUVI+CB3IGpY+22q5dO1UgWK919dVXu/nz57tXX31Vp9ZYlA7NUBSgIcon1kgUUtbpcM+AByWTts/icpQVFoLzuTNKLF+l1K1bV6fmsIBBc2jv4eFRcMhF2QgX1CXL6JRjwjnyu1atmq5Vy9au8YGNdWpl+PBh7pdff1XB0Lbt4SLoD1ET+ptvdXcjR42UDmVf/TKAdRWMXvh0tmLFCjoqYUHfyhUrXfkK5V3TQ5u65tJhMBpm5Tj5lY19BrmLCJa99tzLTft7mlomOLKeaZuhw4ZLOTfqaIcOBeUDwcMiwkaN9tMNnMaNG+8WLV6kgmb69L+l8yqtyg1KEPHojIYPH66Czysa2wLqjo67hJsze66rUAF+OEKUg/Uyyhzs6u9TVzuJUaPGiLKXKvTc01WqXFH4obrGZnpk+vTpOpLFGsWCZGjCHP6vwl9Yy1AW6FDoPAYMGKBrOuiYUGJZRIjCwZQdCwWhJV81zJgxQ0eyWEzofEiHLxLIz5Rpg6d/wQGaQF8URawRKA/QCIsGNGftDtZTPmE99NBD1XKF9YLPl5FDKIus8UEJQUGF/vDJ559/rooq7ZtBCIoMNP/666917RBpAk9rD4+CRZZPX2n8NGqUAkYEoek6NI3r87R06SAq6aItOoyFCxe45ctXuI0bN0m8Um7PPfbU+Av+/UcVDoASQLobpNPBfM5z1k/QQdDgecZIkw6EPOg8EAiWd7ky5VzJpBLhp7brN7hNm9Nc+XLl1Ry+fv1aHVAz+qWTosykgULDFy7zRSiRB0oTlgu+SEDI1a69l3SG5d2//y7UjkenZwSUxWPrQL1Dr9SU0qoopJZKcosWUb/L9AuTSy+92HXpcqv7+ecB0hmUUf5JTg4X8VL/RgPoTseB8krHgvJA2tAYixoOZRhFldEpdIduWDVQJuiI4C3iM1qG7oB70iEufkbraKfjO6CCAwoBdGA6E2sGi0D5rJkpM+QP9MGxTgNlgcEHNEd+QEfaOtcsJDXrBlZWkyv4Me2LbMGPBaRmvYy3ani6e3jseOSobOAXPgtNzeEvCoLtR8F6DDb8ChdeslDTOTr0ZJcsnQabdgFNRXIJ5CLarENFIBxd0gkAOhvuCRfLXRyR9YZChL/qFfqrV8ybuAgTFqsmxw54M+GCosE1u6ACnplJVfOU8njBs3WwekxOLu3uvvsud/TR7d2oUSNF6FdyBx3U2P3y6y/u6aeeFAVksdAhNYMm8IsBGuBM8YBeNgI22DUWOKOt5c0zwtu90ZJwIHpvtMbZvUfBAeURZfC8885z119/vU6J8BUR/tDD5AGArvhZ+zWa2TPAPXS3axCVKRYXZ/A09/AoOCRUNpgXx1mjDRF2BHiZ8qHCWjr18IsVnkXOIDBFA3/C8vUBvxo/6+giTDd0xI0+MwECSBZHXgCFQnxieWd2GFhiKC+j5hDyLJYmRScs0PLHnCF67ZEfhPSHXnvuuZc78si2rmHDBiLw092IEcPdwIF/uCVLlmpI+MysZSEyaYAfafBrHQuOe3OANMwf2LNoeLsGWfko099+PQoWpkSylwbrNpjKxJIVrwwkomv0GbBf4xcAvY3mFjc+bQ8Pj4JDPpSNEGEb5T+e2W8mMgSAPgtRInaplg0afnibZ4RJWmeRNT/KsGUxEU6xS0W0nOGDEpwWm6AgXghtPUIllLpHqGetx1D4w2OZAj+KRLyWG6AV8baGZp7OhY942tl9VEkAiWicG/2y46fc4nl4eOwY5Khs0OhpnLk30C0VgCiydvP5w5ZCI+e8MpFI2OBH+OxL4oXRtiI8RwfFI1Q6QhpGR51FAZ7ORQM27YXsgUeyUxKiyI12lgbhoul5mnt4FB4ybcvbBBpx1GVFYt+tRTSfnFKND2fOY8ciXPTLKb/8htdpRUrZ8J1O0QH8wRodm+LIjTb5oV1eFBcPD4+CwXZSNooDtn3E5LHtoI7z4jw84uH5wsOj+GKnUDbiO6rEztYRbCmwLIxH0UFW2m0fZ+l6FG3E082ch4dHcYVz/w8fzabapm2ihwAAAABJRU5ErkJggg==)\n",
        "\n",
        "#### Identifiers: Name we provide to a variable in a program"
      ],
      "metadata": {
        "id": "hIQ5R1IN4nFj"
      }
    },
    {
      "cell_type": "code",
      "source": [
        "# Rules of Identifiers\n",
        "# 1) we can't start by a digit\n",
        "# 1name=\"Deepa\""
      ],
      "metadata": {
        "id": "u4dl4m8CoMmI"
      },
      "execution_count": 29,
      "outputs": []
    },
    {
      "cell_type": "code",
      "source": [
        "# 2) we can only use _ as a special characters\n",
        "# first-name=\"Deepa\""
      ],
      "metadata": {
        "id": "4GXr4hzAoMrG"
      },
      "execution_count": 31,
      "outputs": []
    },
    {
      "cell_type": "code",
      "source": [
        "# only _ is also allowed\n",
        "_=\"Deepa\"\n",
        "print(_)"
      ],
      "metadata": {
        "colab": {
          "base_uri": "https://localhost:8080/"
        },
        "id": "I1LYvtkF68pi",
        "outputId": "752846e5-bdbe-4daa-f81c-3d4198d3d6f0"
      },
      "execution_count": 32,
      "outputs": [
        {
          "output_type": "stream",
          "name": "stdout",
          "text": [
            "Deepa\n"
          ]
        }
      ]
    },
    {
      "cell_type": "code",
      "source": [
        "# 3) Identifiers cannot be reserved word"
      ],
      "metadata": {
        "id": "2GbnK2fd68fU"
      },
      "execution_count": null,
      "outputs": []
    },
    {
      "cell_type": "markdown",
      "source": [
        "### User Input"
      ],
      "metadata": {
        "id": "Vuww3UPp7ULn"
      }
    },
    {
      "cell_type": "markdown",
      "source": [
        "#### Static software : They dont interacts with users. for ex: Calender\n",
        "#### Dynamic software: They interacts with users. For ex: Youtube"
      ],
      "metadata": {
        "id": "qDsPvz2q7Z1n"
      }
    },
    {
      "cell_type": "code",
      "source": [
        "input()"
      ],
      "metadata": {
        "colab": {
          "base_uri": "https://localhost:8080/",
          "height": 53
        },
        "id": "MT9bn02968b0",
        "outputId": "475b385f-f9d3-47f4-e325-991f34088259"
      },
      "execution_count": 33,
      "outputs": [
        {
          "name": "stdout",
          "output_type": "stream",
          "text": [
            "Have a good day.\n"
          ]
        },
        {
          "output_type": "execute_result",
          "data": {
            "text/plain": [
              "'Have a good day.'"
            ],
            "application/vnd.google.colaboratory.intrinsic+json": {
              "type": "string"
            }
          },
          "metadata": {},
          "execution_count": 33
        }
      ]
    },
    {
      "cell_type": "code",
      "source": [
        "# message inside input\n",
        "input(\"Enter your name here:\")"
      ],
      "metadata": {
        "colab": {
          "base_uri": "https://localhost:8080/",
          "height": 53
        },
        "id": "AiMBiRJo690S",
        "outputId": "4dcc1d40-3cbf-4431-940f-4bdece32eaf5"
      },
      "execution_count": 35,
      "outputs": [
        {
          "name": "stdout",
          "output_type": "stream",
          "text": [
            "Enter your name here:Deepa Gupta\n"
          ]
        },
        {
          "output_type": "execute_result",
          "data": {
            "text/plain": [
              "'Deepa Gupta'"
            ],
            "application/vnd.google.colaboratory.intrinsic+json": {
              "type": "string"
            }
          },
          "metadata": {},
          "execution_count": 35
        }
      ]
    },
    {
      "cell_type": "code",
      "source": [
        "# Write a function to add 2 numbers\n",
        "a=input(\"Enter first number:\")\n",
        "b=input(\"Enter second number:\")\n",
        "sum=a+b\n",
        "print(sum)"
      ],
      "metadata": {
        "colab": {
          "base_uri": "https://localhost:8080/"
        },
        "id": "EzpisYV569wt",
        "outputId": "732c437d-7b60-4221-952d-0982885c6aeb"
      },
      "execution_count": 37,
      "outputs": [
        {
          "output_type": "stream",
          "name": "stdout",
          "text": [
            "Enter first number:56\n",
            "Enter second number:67\n",
            "5667\n"
          ]
        }
      ]
    },
    {
      "cell_type": "code",
      "source": [
        "# Write a function to add 2 numbers\n",
        "a=input(\"Enter first number:\")\n",
        "b=input(\"Enter second number:\")\n",
        "sum=int(a)+int(b)\n",
        "print(sum)\n",
        "print(type(sum))\n",
        "print(type(a),type(b))  # we observe here a and b are remain string only\n",
        "# because python create a new object type casting of int datatype"
      ],
      "metadata": {
        "colab": {
          "base_uri": "https://localhost:8080/"
        },
        "id": "RMRe7y3UBWGi",
        "outputId": "a4c547a7-5145-4df1-e9c9-252dbf2ee761"
      },
      "execution_count": 45,
      "outputs": [
        {
          "output_type": "stream",
          "name": "stdout",
          "text": [
            "Enter first number:56\n",
            "Enter second number:78\n",
            "134\n",
            "<class 'int'>\n",
            "<class 'str'> <class 'str'>\n"
          ]
        }
      ]
    },
    {
      "cell_type": "code",
      "source": [
        "# Write a function to add 2 numbers\n",
        "a=int(input(\"Enter first number:\"))  # input function always return strings because string is a universal format means we can store any datatype in a string\n",
        "b=int(input(\"Enter second number:\"))\n",
        "sum=a+b\n",
        "print(sum)"
      ],
      "metadata": {
        "colab": {
          "base_uri": "https://localhost:8080/"
        },
        "id": "9RxVdnm969uC",
        "outputId": "b9e88660-cf39-49e1-84cb-42b740c22922"
      },
      "execution_count": 38,
      "outputs": [
        {
          "output_type": "stream",
          "name": "stdout",
          "text": [
            "Enter first number:56\n",
            "Enter second number:78\n",
            "134\n"
          ]
        }
      ]
    },
    {
      "cell_type": "markdown",
      "source": [
        "### Type Conversion\n",
        "\n",
        "1) Implicit : Interpreter do the type conversion automatically internally without programmer interaction.\n",
        "\n",
        "2) Explicit: Type conversion is done by programmers"
      ],
      "metadata": {
        "id": "2NhZDzi6-Jkp"
      }
    },
    {
      "cell_type": "code",
      "source": [
        "# Implicit\n",
        "result=5+5.7\n",
        "print(result)\n",
        "print(type(5),type(5.7))\n",
        "print(type(result))"
      ],
      "metadata": {
        "colab": {
          "base_uri": "https://localhost:8080/"
        },
        "id": "z1J-2eH669ri",
        "outputId": "741ef232-d190-4e06-a4c5-cd44dabe2112"
      },
      "execution_count": 42,
      "outputs": [
        {
          "output_type": "stream",
          "name": "stdout",
          "text": [
            "10.7\n",
            "<class 'int'> <class 'float'>\n",
            "<class 'float'>\n"
          ]
        }
      ]
    },
    {
      "cell_type": "code",
      "source": [
        "# print(4+'4')  # This can't be handled implicitly\n",
        "\n",
        "# So explicit\n",
        "type(int('4'))  # str-->int\n",
        "print(4+ int('4'))  # we cannot convert complex datatype into integer"
      ],
      "metadata": {
        "colab": {
          "base_uri": "https://localhost:8080/"
        },
        "id": "721IC5vK69pW",
        "outputId": "0790fffa-ca65-4112-db06-9daa26f2dad8"
      },
      "execution_count": 44,
      "outputs": [
        {
          "output_type": "stream",
          "name": "stdout",
          "text": [
            "8\n"
          ]
        }
      ]
    },
    {
      "cell_type": "markdown",
      "source": [
        "### Literals\n",
        "The value we are storing in a variable"
      ],
      "metadata": {
        "id": "vgmRlQg1Cws8"
      }
    },
    {
      "cell_type": "code",
      "source": [
        "a=0b1010 # binary literals (0b tell python that it is a binary literal)\n",
        "b=100    # decimal literals\n",
        "c=0o310  # octal literals\n",
        "d=0x12c  # Hexadecimal literals\n",
        "\n",
        "# float literals\n",
        "float1=1.5e3  # 1.5*10^3\n",
        "float2=5.6\n",
        "float3=1.5e-3 # 1.5*10^-3\n",
        "\n",
        "# complex literal\n",
        "x=3.14j\n",
        "\n",
        "print(a,b,c,d)\n",
        "print(float1,float2,float3)\n",
        "print(x.real,x.imag)"
      ],
      "metadata": {
        "colab": {
          "base_uri": "https://localhost:8080/"
        },
        "id": "ADKjLGUT69m0",
        "outputId": "8f27bb03-a668-4d1d-957f-eb1b3767384b"
      },
      "execution_count": 48,
      "outputs": [
        {
          "output_type": "stream",
          "name": "stdout",
          "text": [
            "10 100 200 300\n",
            "1500.0 5.6 0.0015\n",
            "0.0 3.14\n"
          ]
        }
      ]
    },
    {
      "cell_type": "code",
      "source": [
        "string = 'This is Python'\n",
        "strings = \"This is Python\"\n",
        "char = \"C\"\n",
        "multiline_str = \"\"\"This is a multiline string with more than one line code.\"\"\"\n",
        "unicode = u\"\\U0001f600\\U0001F606\\U0001F923\"\n",
        "raw_str = r\"raw \\n string\"\n",
        "\n",
        "print(string)\n",
        "print(strings)\n",
        "print(char)\n",
        "print(multiline_str)\n",
        "print(unicode)\n",
        "print(raw_str)"
      ],
      "metadata": {
        "colab": {
          "base_uri": "https://localhost:8080/"
        },
        "id": "GbRvIM7y69kN",
        "outputId": "02945df6-4a17-4e1d-eb80-23a682a89c99"
      },
      "execution_count": 49,
      "outputs": [
        {
          "output_type": "stream",
          "name": "stdout",
          "text": [
            "This is Python\n",
            "This is Python\n",
            "C\n",
            "This is a multiline string with more than one line code.\n",
            "😀😆🤣\n",
            "raw \\n string\n"
          ]
        }
      ]
    },
    {
      "cell_type": "code",
      "source": [
        "a=True+12\n",
        "b=False+5\n",
        "print(a,b)"
      ],
      "metadata": {
        "colab": {
          "base_uri": "https://localhost:8080/"
        },
        "id": "bvwHhV0q69hw",
        "outputId": "c2dfe618-bdc7-46c3-b929-93da8eca31be"
      },
      "execution_count": 52,
      "outputs": [
        {
          "output_type": "stream",
          "name": "stdout",
          "text": [
            "13 5\n"
          ]
        }
      ]
    },
    {
      "cell_type": "code",
      "source": [
        "a=None\n",
        "print(a)"
      ],
      "metadata": {
        "colab": {
          "base_uri": "https://localhost:8080/"
        },
        "id": "YNC_ee9R68uu",
        "outputId": "eb2c3fb9-274d-4eaf-c9bc-0023273b9a15"
      },
      "execution_count": 53,
      "outputs": [
        {
          "output_type": "stream",
          "name": "stdout",
          "text": [
            "None\n"
          ]
        }
      ]
    },
    {
      "cell_type": "code",
      "source": [
        "# k   # it will through error as we cannot declare a variable without literals\n",
        "k=None # to resolve this we use none so that we can use this variable later\n",
        "a=10\n",
        "b=3\n",
        "print(\"Program Execution\")"
      ],
      "metadata": {
        "colab": {
          "base_uri": "https://localhost:8080/"
        },
        "id": "ZfaaOvqJGFlZ",
        "outputId": "fe23cec9-450e-425b-f4ed-a7280f2b9f45"
      },
      "execution_count": 55,
      "outputs": [
        {
          "output_type": "stream",
          "name": "stdout",
          "text": [
            "Program Execution\n"
          ]
        }
      ]
    }
  ]
}