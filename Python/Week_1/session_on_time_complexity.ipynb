{
  "nbformat": 4,
  "nbformat_minor": 0,
  "metadata": {
    "colab": {
      "provenance": []
    },
    "kernelspec": {
      "name": "python3",
      "display_name": "Python 3"
    },
    "language_info": {
      "name": "python"
    }
  },
  "cells": [
    {
      "cell_type": "code",
      "source": [
        "import time\n",
        "start=time.time()\n",
        "for i in range(10):\n",
        "  print(i)\n",
        "end=time.time()\n",
        "print(end-start)"
      ],
      "metadata": {
        "id": "O6nExlR8CF06",
        "outputId": "28bb0419-7613-4dc4-8ddd-02bc24f460c5",
        "colab": {
          "base_uri": "https://localhost:8080/"
        }
      },
      "execution_count": 3,
      "outputs": [
        {
          "output_type": "stream",
          "name": "stdout",
          "text": [
            "0\n",
            "1\n",
            "2\n",
            "3\n",
            "4\n",
            "5\n",
            "6\n",
            "7\n",
            "8\n",
            "9\n",
            "0.002895355224609375\n"
          ]
        }
      ]
    },
    {
      "cell_type": "code",
      "source": [
        "import time\n",
        "start=time.time()\n",
        "for i in range(100):\n",
        "  print(i)\n",
        "end=time.time()\n",
        "print(end-start)"
      ],
      "metadata": {
        "id": "76_YV9u2CFxh",
        "outputId": "b0eea567-c453-4237-a171-7e1718f45eef",
        "colab": {
          "base_uri": "https://localhost:8080/"
        }
      },
      "execution_count": 5,
      "outputs": [
        {
          "output_type": "stream",
          "name": "stdout",
          "text": [
            "0\n",
            "1\n",
            "2\n",
            "3\n",
            "4\n",
            "5\n",
            "6\n",
            "7\n",
            "8\n",
            "9\n",
            "10\n",
            "11\n",
            "12\n",
            "13\n",
            "14\n",
            "15\n",
            "16\n",
            "17\n",
            "18\n",
            "19\n",
            "20\n",
            "21\n",
            "22\n",
            "23\n",
            "24\n",
            "25\n",
            "26\n",
            "27\n",
            "28\n",
            "29\n",
            "30\n",
            "31\n",
            "32\n",
            "33\n",
            "34\n",
            "35\n",
            "36\n",
            "37\n",
            "38\n",
            "39\n",
            "40\n",
            "41\n",
            "42\n",
            "43\n",
            "44\n",
            "45\n",
            "46\n",
            "47\n",
            "48\n",
            "49\n",
            "50\n",
            "51\n",
            "52\n",
            "53\n",
            "54\n",
            "55\n",
            "56\n",
            "57\n",
            "58\n",
            "59\n",
            "60\n",
            "61\n",
            "62\n",
            "63\n",
            "64\n",
            "65\n",
            "66\n",
            "67\n",
            "68\n",
            "69\n",
            "70\n",
            "71\n",
            "72\n",
            "73\n",
            "74\n",
            "75\n",
            "76\n",
            "77\n",
            "78\n",
            "79\n",
            "80\n",
            "81\n",
            "82\n",
            "83\n",
            "84\n",
            "85\n",
            "86\n",
            "87\n",
            "88\n",
            "89\n",
            "90\n",
            "91\n",
            "92\n",
            "93\n",
            "94\n",
            "95\n",
            "96\n",
            "97\n",
            "98\n",
            "99\n",
            "0.047441959381103516\n"
          ]
        }
      ]
    },
    {
      "cell_type": "code",
      "source": [
        "# disadvantage\n",
        "start=time.time()\n",
        "i=1\n",
        "while i!=100:\n",
        "  print(i)\n",
        "  i=i+1\n",
        "end=time.time()\n",
        "print(end-start)"
      ],
      "metadata": {
        "id": "ii55rJaPCFtz",
        "outputId": "c2b55093-3011-4336-e4e2-a7550166c5fc",
        "colab": {
          "base_uri": "https://localhost:8080/"
        }
      },
      "execution_count": 6,
      "outputs": [
        {
          "output_type": "stream",
          "name": "stdout",
          "text": [
            "1\n",
            "2\n",
            "3\n",
            "4\n",
            "5\n",
            "6\n",
            "7\n",
            "8\n",
            "9\n",
            "10\n",
            "11\n",
            "12\n",
            "13\n",
            "14\n",
            "15\n",
            "16\n",
            "17\n",
            "18\n",
            "19\n",
            "20\n",
            "21\n",
            "22\n",
            "23\n",
            "24\n",
            "25\n",
            "26\n",
            "27\n",
            "28\n",
            "29\n",
            "30\n",
            "31\n",
            "32\n",
            "33\n",
            "34\n",
            "35\n",
            "36\n",
            "37\n",
            "38\n",
            "39\n",
            "40\n",
            "41\n",
            "42\n",
            "43\n",
            "44\n",
            "45\n",
            "46\n",
            "47\n",
            "48\n",
            "49\n",
            "50\n",
            "51\n",
            "52\n",
            "53\n",
            "54\n",
            "55\n",
            "56\n",
            "57\n",
            "58\n",
            "59\n",
            "60\n",
            "61\n",
            "62\n",
            "63\n",
            "64\n",
            "65\n",
            "66\n",
            "67\n",
            "68\n",
            "69\n",
            "70\n",
            "71\n",
            "72\n",
            "73\n",
            "74\n",
            "75\n",
            "76\n",
            "77\n",
            "78\n",
            "79\n",
            "80\n",
            "81\n",
            "82\n",
            "83\n",
            "84\n",
            "85\n",
            "86\n",
            "87\n",
            "88\n",
            "89\n",
            "90\n",
            "91\n",
            "92\n",
            "93\n",
            "94\n",
            "95\n",
            "96\n",
            "97\n",
            "98\n",
            "99\n",
            "0.06029653549194336\n"
          ]
        }
      ]
    },
    {
      "cell_type": "markdown",
      "source": [
        "### Time Complexity\n",
        "\n",
        "1) Constant: There is no effect on time even after changing input size. For ex: indexing (random access) in array.\n",
        "\n",
        "2) Linear: If we double the input the time complexity will also get double. For ex: searching in array\n",
        "\n",
        "3) Quadratic: If we double the input the time complexity will increase by 4 times. For ex: Nested Loops\n",
        "\n",
        "4) Logarithmic: If we change the input size then time complexity increases very slowly. For ex: Binary search\n",
        "\n",
        "5) log linear: If we change the input size then time complexity increases more times as input. For ex: sorting algorithms\n",
        "\n",
        "6) Exponential: If we change our input by small number then our time complexity will increase drastically. For ex: Hard Problems"
      ],
      "metadata": {
        "id": "OgHdsKBQeLnc"
      }
    },
    {
      "cell_type": "code",
      "execution_count": 7,
      "metadata": {
        "id": "pad9C0PIzlhV",
        "outputId": "95894506-0c11-4209-9427-f831b8214f6d",
        "colab": {
          "base_uri": "https://localhost:8080/"
        }
      },
      "outputs": [
        {
          "output_type": "stream",
          "name": "stdout",
          "text": [
            "enter the number345\n",
            "345\n"
          ]
        }
      ],
      "source": [
        "number = int(input('enter the number'))\n",
        "\n",
        "digits = '0123456789'\n",
        "result = ''\n",
        "while number != 0:\n",
        "  result = digits[number % 10] + result\n",
        "  number = number//10\n",
        "\n",
        "print(result)"
      ]
    },
    {
      "cell_type": "markdown",
      "source": [
        "# Time complexity\n",
        "\n",
        "we are divide the number by 10 in every iteration.\n",
        "\n",
        "if we increase the input 10 times (3450) then time complexity increase by 1 more step. This properties is show by logarithmic complexity.\n",
        "\n",
        "So, time complexity= O(log n)"
      ],
      "metadata": {
        "id": "IMfPXlgTjUnR"
      }
    },
    {
      "cell_type": "code",
      "source": [
        "L = [1,2,3,4]\n",
        "\n",
        "sum = 0\n",
        "for i in L:\n",
        "  sum = sum + i\n",
        "\n",
        "product = 1\n",
        "for i in L:\n",
        "  product = product*i\n",
        "\n",
        "print(sum,product)"
      ],
      "metadata": {
        "id": "i2SciiMj1UdY",
        "outputId": "fd3c46fa-2d5d-4de9-c1af-ced9b0e4f29a",
        "colab": {
          "base_uri": "https://localhost:8080/"
        }
      },
      "execution_count": 8,
      "outputs": [
        {
          "output_type": "stream",
          "name": "stdout",
          "text": [
            "10 24\n"
          ]
        }
      ]
    },
    {
      "cell_type": "markdown",
      "source": [
        "# Time complexity\n",
        "\n",
        "Here 2 loops are running individually. So O(n) +O(n) =O(n)\n",
        "\n",
        "So, time complexity= O(n)"
      ],
      "metadata": {
        "id": "qHtPBdrJkZdU"
      }
    },
    {
      "cell_type": "code",
      "source": [
        "A = [1,2,3,4]\n",
        "B = [5,6,7,8]\n",
        "for i in A:\n",
        "  for j in B:\n",
        "    print(i,j)"
      ],
      "metadata": {
        "id": "8DR6LXFi126j",
        "outputId": "486e73aa-df3a-4d3c-9a77-099574a07f54",
        "colab": {
          "base_uri": "https://localhost:8080/"
        }
      },
      "execution_count": 9,
      "outputs": [
        {
          "output_type": "stream",
          "name": "stdout",
          "text": [
            "1 5\n",
            "1 6\n",
            "1 7\n",
            "1 8\n",
            "2 5\n",
            "2 6\n",
            "2 7\n",
            "2 8\n",
            "3 5\n",
            "3 6\n",
            "3 7\n",
            "3 8\n",
            "4 5\n",
            "4 6\n",
            "4 7\n",
            "4 8\n"
          ]
        }
      ]
    },
    {
      "cell_type": "markdown",
      "source": [
        "Here, nested loops are running. So O(n*n) =O(n^2)\n",
        "\n",
        "So, time complexity= O(n^2)"
      ],
      "metadata": {
        "id": "9VgXjA2hk0U2"
      }
    },
    {
      "cell_type": "code",
      "source": [
        "A = [1,2,3,4]\n",
        "B = [5,6,7,8]\n",
        "\n",
        "for i in A:\n",
        "  for j in B:\n",
        "    for k in range(10):\n",
        "      print(i,j)"
      ],
      "metadata": {
        "id": "12rGkf232Fla",
        "outputId": "af4fb785-2b02-4394-9a1d-93d648430f3e",
        "colab": {
          "base_uri": "https://localhost:8080/"
        }
      },
      "execution_count": 11,
      "outputs": [
        {
          "output_type": "stream",
          "name": "stdout",
          "text": [
            "1 5\n",
            "1 5\n",
            "1 5\n",
            "1 5\n",
            "1 5\n",
            "1 5\n",
            "1 5\n",
            "1 5\n",
            "1 5\n",
            "1 5\n",
            "1 6\n",
            "1 6\n",
            "1 6\n",
            "1 6\n",
            "1 6\n",
            "1 6\n",
            "1 6\n",
            "1 6\n",
            "1 6\n",
            "1 6\n",
            "1 7\n",
            "1 7\n",
            "1 7\n",
            "1 7\n",
            "1 7\n",
            "1 7\n",
            "1 7\n",
            "1 7\n",
            "1 7\n",
            "1 7\n",
            "1 8\n",
            "1 8\n",
            "1 8\n",
            "1 8\n",
            "1 8\n",
            "1 8\n",
            "1 8\n",
            "1 8\n",
            "1 8\n",
            "1 8\n",
            "2 5\n",
            "2 5\n",
            "2 5\n",
            "2 5\n",
            "2 5\n",
            "2 5\n",
            "2 5\n",
            "2 5\n",
            "2 5\n",
            "2 5\n",
            "2 6\n",
            "2 6\n",
            "2 6\n",
            "2 6\n",
            "2 6\n",
            "2 6\n",
            "2 6\n",
            "2 6\n",
            "2 6\n",
            "2 6\n",
            "2 7\n",
            "2 7\n",
            "2 7\n",
            "2 7\n",
            "2 7\n",
            "2 7\n",
            "2 7\n",
            "2 7\n",
            "2 7\n",
            "2 7\n",
            "2 8\n",
            "2 8\n",
            "2 8\n",
            "2 8\n",
            "2 8\n",
            "2 8\n",
            "2 8\n",
            "2 8\n",
            "2 8\n",
            "2 8\n",
            "3 5\n",
            "3 5\n",
            "3 5\n",
            "3 5\n",
            "3 5\n",
            "3 5\n",
            "3 5\n",
            "3 5\n",
            "3 5\n",
            "3 5\n",
            "3 6\n",
            "3 6\n",
            "3 6\n",
            "3 6\n",
            "3 6\n",
            "3 6\n",
            "3 6\n",
            "3 6\n",
            "3 6\n",
            "3 6\n",
            "3 7\n",
            "3 7\n",
            "3 7\n",
            "3 7\n",
            "3 7\n",
            "3 7\n",
            "3 7\n",
            "3 7\n",
            "3 7\n",
            "3 7\n",
            "3 8\n",
            "3 8\n",
            "3 8\n",
            "3 8\n",
            "3 8\n",
            "3 8\n",
            "3 8\n",
            "3 8\n",
            "3 8\n",
            "3 8\n",
            "4 5\n",
            "4 5\n",
            "4 5\n",
            "4 5\n",
            "4 5\n",
            "4 5\n",
            "4 5\n",
            "4 5\n",
            "4 5\n",
            "4 5\n",
            "4 6\n",
            "4 6\n",
            "4 6\n",
            "4 6\n",
            "4 6\n",
            "4 6\n",
            "4 6\n",
            "4 6\n",
            "4 6\n",
            "4 6\n",
            "4 7\n",
            "4 7\n",
            "4 7\n",
            "4 7\n",
            "4 7\n",
            "4 7\n",
            "4 7\n",
            "4 7\n",
            "4 7\n",
            "4 7\n",
            "4 8\n",
            "4 8\n",
            "4 8\n",
            "4 8\n",
            "4 8\n",
            "4 8\n",
            "4 8\n",
            "4 8\n",
            "4 8\n",
            "4 8\n"
          ]
        }
      ]
    },
    {
      "cell_type": "markdown",
      "source": [
        "# Time Complexity\n",
        "Here 3 loops are running nestedly. So O(n)*O(n)*O(10) =O(10n^2)\n",
        "\n",
        "So, time complexity= O(n^2)"
      ],
      "metadata": {
        "id": "L15oRUgelGiK"
      }
    },
    {
      "cell_type": "code",
      "source": [
        "L = [1,2,3,4,5]\n",
        "\n",
        "for i in range(0,len(L)//2):\n",
        "  other = len(L) - i -1\n",
        "  temp = L[i]\n",
        "  L[i] = L[other]\n",
        "  L[other] = temp\n",
        "\n",
        "print(L)"
      ],
      "metadata": {
        "colab": {
          "base_uri": "https://localhost:8080/"
        },
        "id": "tuUyS_c92-u2",
        "outputId": "11e55c74-c926-482d-cf68-ff7b1198a012"
      },
      "execution_count": 12,
      "outputs": [
        {
          "output_type": "stream",
          "name": "stdout",
          "text": [
            "[5, 4, 3, 2, 1]\n"
          ]
        }
      ]
    },
    {
      "cell_type": "markdown",
      "source": [
        "# Time Complexity\n",
        "Loop is running for half size of list (n/2). We are performing 4 operation in the loop. So 4*(n/2)\n",
        "\n",
        "After ignoring all constants. Time= O(n)\n"
      ],
      "metadata": {
        "id": "I8e1b_dWmEG9"
      }
    },
    {
      "cell_type": "code",
      "source": [
        "n = 10\n",
        "k = 0;\n",
        "for i in range(n//2,n):\n",
        "  for j in range(2,n,pow(2,j)):\n",
        "        k = k + n / 2;\n",
        "\n",
        "print(k)"
      ],
      "metadata": {
        "colab": {
          "base_uri": "https://localhost:8080/"
        },
        "id": "vw0XKpB-7mdy",
        "outputId": "b494c1b4-d5d7-4450-8d49-4e6c94397eb6"
      },
      "execution_count": null,
      "outputs": [
        {
          "output_type": "stream",
          "name": "stdout",
          "text": [
            "40.0\n"
          ]
        }
      ]
    },
    {
      "cell_type": "markdown",
      "source": [
        "# Time Complexity\n",
        "Outer loop is running for half size of list (n/2). Inner loop is running for 2 to n but its taking factor of 2 steps after every iteration.\n",
        "\n",
        "So, time complexity= O(n log n)\n"
      ],
      "metadata": {
        "id": "cjcngOF_nD4j"
      }
    },
    {
      "cell_type": "code",
      "source": [
        "a = 10\n",
        "b = 3\n",
        "\n",
        "if b <= 0:\n",
        "  print(-1)\n",
        "div = a//b\n",
        "\n",
        "print(a-div-b)"
      ],
      "metadata": {
        "colab": {
          "base_uri": "https://localhost:8080/"
        },
        "id": "BkTcJ7NO3PJF",
        "outputId": "47ea246b-c322-4dbf-d311-3c5d52ddba1a"
      },
      "execution_count": null,
      "outputs": [
        {
          "output_type": "stream",
          "name": "stdout",
          "text": [
            "4\n"
          ]
        }
      ]
    },
    {
      "cell_type": "markdown",
      "source": [
        "# Time Complexity\n",
        "No Loops or recursion. So, O(1)"
      ],
      "metadata": {
        "id": "u8pRljYq9uxy"
      }
    },
    {
      "cell_type": "code",
      "source": [
        "n = 345\n",
        "\n",
        "sum = 0\n",
        "while n>0:\n",
        "  sum = sum + n%10\n",
        "  n = n // 10\n",
        "\n",
        "print(sum)"
      ],
      "metadata": {
        "colab": {
          "base_uri": "https://localhost:8080/"
        },
        "id": "L7SO19UD33hw",
        "outputId": "14c120e1-01c4-47d7-ead4-68b67f5165d0"
      },
      "execution_count": null,
      "outputs": [
        {
          "output_type": "stream",
          "name": "stdout",
          "text": [
            "12\n"
          ]
        }
      ]
    },
    {
      "cell_type": "markdown",
      "source": [
        "# Time Complexity\n",
        "we are divide the number by 10 in every iteration.\n",
        "\n",
        "if we increase the input 10 times (3450) then time complexity increase by 1 more step. This properties is show by logarithmic complexity.\n",
        "\n",
        "So, time complexity= O(log n)"
      ],
      "metadata": {
        "id": "e4sZXa7t93Il"
      }
    },
    {
      "cell_type": "code",
      "source": [
        "def fib(n):\n",
        "  if n == 1 or n == 0:\n",
        "    return 1\n",
        "  else:\n",
        "    return fib(n-1) + fib(n-2)"
      ],
      "metadata": {
        "id": "5y6iC_sC7Cnm"
      },
      "execution_count": null,
      "outputs": []
    },
    {
      "cell_type": "markdown",
      "source": [
        "# Time Complexity\n",
        "In recursion problem , we count the no of recursive function calls to impute the time complexity\n",
        "\n",
        "Here, we can see that for n=3 we calls 8 recursive function and for n=5 we calls 15 recursive function\n",
        "\n",
        "So, it has exponential time complexity\n",
        "\n",
        "Time complexity = O(2^n)"
      ],
      "metadata": {
        "id": "CPgAmezJ-0su"
      }
    },
    {
      "cell_type": "code",
      "source": [
        "# Subset Algo"
      ],
      "metadata": {
        "id": "HigXvR954r3F"
      },
      "execution_count": null,
      "outputs": []
    },
    {
      "cell_type": "markdown",
      "source": [
        "# Time Complexity\n",
        "When factor gets reduced then it becomes the case of log\n",
        "\n",
        "When factor gets increased then it becomes the case of exponential\n",
        "\n",
        "So, time complexity= O(2^n)"
      ],
      "metadata": {
        "id": "alGZ3eXRA0A_"
      }
    },
    {
      "cell_type": "markdown",
      "source": [
        "           {3T(n-1) if n>0\n",
        "    T(n) = {1, otherwise"
      ],
      "metadata": {
        "id": "V59AbfcF5FUm"
      }
    },
    {
      "cell_type": "markdown",
      "source": [
        "           {2T(n-1)-1 if n>0\n",
        "    T(n) = {1, otherwise"
      ],
      "metadata": {
        "id": "fskRhpXk5dSn"
      }
    }
  ]
}