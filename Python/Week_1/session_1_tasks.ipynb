{
  "cells": [
    {
      "cell_type": "markdown",
      "metadata": {
        "id": "A05OG15VqOPF"
      },
      "source": [
        "# Task : Session 1\n",
        "Solve these questions own your own and try to test yourself what you have learned in the session.\n",
        "\n",
        "Happy Learning!"
      ]
    },
    {
      "cell_type": "markdown",
      "metadata": {
        "id": "2doIXf8bqe9_"
      },
      "source": [
        "### Q1 :- Print the given strings as per stated format.\n",
        "\n",
        "**Given strings**:\n",
        "```\n",
        "\"Data\" \"Science\" \"Mentorship\" \"Program\"\n",
        "\"By\" \"CampusX\"\n",
        "```\n",
        "**Output**:\n",
        "```\n",
        "Data-Science-Mentorship-Program-started-By-CampusX\n",
        "```\n",
        "\n",
        "Concept- [Seperator and End]"
      ]
    },
    {
      "cell_type": "code",
      "execution_count": 1,
      "metadata": {
        "colab": {
          "base_uri": "https://localhost:8080/"
        },
        "id": "-em6d3KErDtp",
        "outputId": "3433cf6c-3880-45c7-e4c4-788781688c06"
      },
      "outputs": [
        {
          "name": "stdout",
          "output_type": "stream",
          "text": [
            "DataScienceMentorshipProgram-started-ByCampusX\n"
          ]
        }
      ],
      "source": [
        "# Write your code here\n",
        "print(\"Data\" \"Science\" \"Mentorship\" \"Program\",sep='-',end=\"-started-\")\n",
        "print(\"By\" \"CampusX\",sep='-')"
      ]
    },
    {
      "cell_type": "markdown",
      "metadata": {
        "id": "1KUpN7ZTrC3_"
      },
      "source": [
        "### Q2:- Write a program that will convert celsius value to fahrenheit."
      ]
    },
    {
      "cell_type": "code",
      "execution_count": 5,
      "metadata": {
        "colab": {
          "base_uri": "https://localhost:8080/"
        },
        "id": "yxKYhYQiqWfj",
        "outputId": "23f4161c-c2e0-4200-cfe6-51be4d2774dc"
      },
      "outputs": [
        {
          "name": "stdout",
          "output_type": "stream",
          "text": [
            "Enter a temperature value in Celsius: 0\n",
            "32.0\n"
          ]
        }
      ],
      "source": [
        "# Write your code here\n",
        "celsius=float(input(\"Enter a temperature value in degree Celsius: \"))\n",
        "fahrenheit=(9/5)*celsius+32\n",
        "print(fahrenheit)"
      ]
    },
    {
      "cell_type": "markdown",
      "metadata": {
        "id": "RLrOBBJurLB2"
      },
      "source": [
        "### Q3:- Take 2 numbers as input from the user.Write a program to swap the numbers without using any special python syntax."
      ]
    },
    {
      "cell_type": "code",
      "execution_count": 7,
      "metadata": {
        "colab": {
          "base_uri": "https://localhost:8080/"
        },
        "id": "yPn7if0TrJ4F",
        "outputId": "430aaf65-af77-4994-fe8c-f78a54e5755f"
      },
      "outputs": [
        {
          "name": "stdout",
          "output_type": "stream",
          "text": [
            "Enter first number: 5\n",
            "Enter second number: 8\n",
            "First number: 8 Second number: 5\n"
          ]
        }
      ],
      "source": [
        "# Write your code here\n",
        "a=int(input(\"Enter first number: \"))\n",
        "b=int(input(\"Enter second number: \"))\n",
        "# a,b==b,a\n",
        "temp=a\n",
        "a=b\n",
        "b=temp\n",
        "print(\"First number:\",a,\"Second number:\",b)"
      ]
    },
    {
      "cell_type": "markdown",
      "metadata": {
        "id": "waLCP1bjr7ML"
      },
      "source": [
        "### Q4:- Write a program to find the euclidean distance between two coordinates.Take both the coordinates from the user as input."
      ]
    },
    {
      "cell_type": "code",
      "execution_count": 4,
      "metadata": {
        "colab": {
          "base_uri": "https://localhost:8080/"
        },
        "id": "Pl1Sv-xnrxnH",
        "outputId": "2c6805ce-7194-476b-d7fd-7d896b2ce0da"
      },
      "outputs": [
        {
          "name": "stdout",
          "output_type": "stream",
          "text": [
            "5.62\n"
          ]
        }
      ],
      "source": [
        "# Write your code here\n",
        "x1=float(input(\"Enter ordinate of first coordinate: \"))\n",
        "y1=float(input(\"Enter abscissa of first coordinate: \"))\n",
        "x2=float(input(\"Enter ordinate of second coordinate: \"))\n",
        "y2=float(input(\"Enter abscissa of second coordinate: \"))\n",
        "euclidean_distance=((x1-x2)**2+(y1-y2)**2)**0.5\n",
        "print(round(euclidean_distance,2))"
      ]
    },
    {
      "cell_type": "markdown",
      "metadata": {
        "id": "VLrhg-FRsHjR"
      },
      "source": [
        "### Q5:- Write a program to find the simple interest when the value of principle,rate of interest and time period is provided by the user.\n"
      ]
    },
    {
      "cell_type": "code",
      "execution_count": 21,
      "metadata": {
        "colab": {
          "base_uri": "https://localhost:8080/"
        },
        "id": "s40DlReZsTmY",
        "outputId": "051ebde1-8900-41b7-8efd-d12ae549f1ce"
      },
      "outputs": [
        {
          "name": "stdout",
          "output_type": "stream",
          "text": [
            "Enter the principal amount: 46533.34\n",
            "Enter the time period: 3\n",
            "Enter the rate of interest: 10\n",
            "13960.002\n"
          ]
        }
      ],
      "source": [
        "# Write your code here\n",
        "p=float(input(\"Enter the principal amount: \"))\n",
        "t=int(input(\"Enter the time period: \"))\n",
        "r=int(input(\"Enter the rate of interest: \"))\n",
        "SI=(p*r*t)/100\n",
        "print(SI)"
      ]
    },
    {
      "cell_type": "markdown",
      "metadata": {
        "id": "LMy0BTUktYKa"
      },
      "source": [
        "### Q6:- Write a program that will tell the number of dogs and chicken are there when the user will provide the value of total heads and legs.\n",
        "\n",
        "For example:\n",
        "Input:\n",
        "heads -> 4\n",
        "legs -> 12\n",
        "<br>\n",
        "Output:\n",
        "dogs -> 2\n",
        "chicken -> 2\n",
        "\n",
        "\n",
        "\n"
      ]
    },
    {
      "cell_type": "code",
      "execution_count": 24,
      "metadata": {
        "colab": {
          "base_uri": "https://localhost:8080/"
        },
        "id": "XSBvJoA4tXaG",
        "outputId": "cacb0319-f461-43e6-db49-b5919ebd9ed6"
      },
      "outputs": [
        {
          "name": "stdout",
          "output_type": "stream",
          "text": [
            "Enter the total no of heads: 4\n",
            "Enter the total no of legs: 12\n",
            "Total_dogs:  2.0 Total_chickens:  2.0\n"
          ]
        }
      ],
      "source": [
        "# Write your code here\n",
        "heads=int(input(\"Enter the total no of heads: \"))\n",
        "legs=int(input(\"Enter the total no of legs: \"))\n",
        "total_chickens=(2*heads)-(0.5*legs)\n",
        "total_dogs=heads-total_chickens\n",
        "print(\"Total_dogs: \",total_dogs,\"Total_chickens: \",total_chickens)"
      ]
    },
    {
      "cell_type": "markdown",
      "metadata": {
        "id": "gJ7C5kZYt4BP"
      },
      "source": [
        "### Q7:- Write a program to find the sum of squares of first n natural numbers where n will be provided by the user."
      ]
    },
    {
      "cell_type": "code",
      "execution_count": 6,
      "metadata": {
        "colab": {
          "base_uri": "https://localhost:8080/"
        },
        "id": "_tHsmEHzt2nX",
        "outputId": "0e83df3b-a76a-4a7e-f00c-24d22b50dc87"
      },
      "outputs": [
        {
          "name": "stdout",
          "output_type": "stream",
          "text": [
            "55.0\n"
          ]
        }
      ],
      "source": [
        "# Write your code here\n",
        "n=int(input(\"Enter a number: \"))\n",
        "sum=(n*(n+1)*(2*n+1))/6\n",
        "print(sum)"
      ]
    },
    {
      "cell_type": "markdown",
      "metadata": {
        "id": "FHrMM7g-yG1h"
      },
      "source": [
        "### Q8:- Given the first 2 terms of an Arithmetic Series.Find the Nth term of the series. Assume all inputs are provided by the user."
      ]
    },
    {
      "cell_type": "code",
      "execution_count": 29,
      "metadata": {
        "colab": {
          "base_uri": "https://localhost:8080/"
        },
        "id": "go4_kmZmyVSx",
        "outputId": "d22db734-c82e-42f1-92b8-9da53cb40aa2"
      },
      "outputs": [
        {
          "name": "stdout",
          "output_type": "stream",
          "text": [
            "Enter the first term: 3\n",
            "Enter the Second term: 8\n",
            "Enter the number till you want Arithmeric series: 46\n",
            "228\n"
          ]
        }
      ],
      "source": [
        "# Write your code here\n",
        "a1=int(input(\"Enter the first term: \"))\n",
        "a2=int(input(\"Enter the Second term: \"))\n",
        "n=int(input(\"Enter the number till you want Arithmeric series: \"))\n",
        "d=a2-a1\n",
        "an=a1+((n-1)*d)\n",
        "print(an)"
      ]
    },
    {
      "cell_type": "markdown",
      "metadata": {
        "id": "QgyRX_es1oum"
      },
      "source": [
        "### Q9:- Given 2 fractions, find the sum of those 2 fractions.Take the numerator and denominator values of the fractions from the user."
      ]
    },
    {
      "cell_type": "code",
      "execution_count": 10,
      "metadata": {
        "colab": {
          "base_uri": "https://localhost:8080/"
        },
        "id": "X05xqFS1yW16",
        "outputId": "4cb4789d-37a3-4db2-e868-45e8e55f578c"
      },
      "outputs": [
        {
          "name": "stdout",
          "output_type": "stream",
          "text": [
            "47.0/77.0\n"
          ]
        }
      ],
      "source": [
        "# Write your code here\n",
        "num1=float(input(\"Enter the numerator of fraction1: \"))\n",
        "deno1=float(input(\"Enter the denominator of fraction1: \"))\n",
        "num2=float(input(\"Enter the numerator of fraction2: \"))\n",
        "deno2=float(input(\"Enter the denominator of fraction2: \"))\n",
        "rn=num1*deno2+num2*deno1\n",
        "rd=deno1*deno2\n",
        "print('{}/{}'.format(rn,rd))"
      ]
    },
    {
      "cell_type": "markdown",
      "metadata": {
        "id": "eaql38ln13u7"
      },
      "source": [
        "### Q10:- Given the height, width and breadth of a milk tank, you have to find out how many glasses of milk can be obtained? Assume all the inputs are provided by the user.\n",
        "\n",
        "\n",
        "\n",
        "Input:<br>\n",
        "Dimensions of the milk tank<br>\n",
        "H = 20cm, L = 20cm, B = 20cm\n",
        "<br><br>\n",
        "Dimensions of the glass<br>\n",
        "h = 3cm, r = 1cm"
      ]
    },
    {
      "cell_type": "code",
      "execution_count": 31,
      "metadata": {
        "colab": {
          "base_uri": "https://localhost:8080/"
        },
        "id": "FePZqno74eWv",
        "outputId": "fe6cc77c-e70e-4bc9-ceea-be70db6ae165"
      },
      "outputs": [
        {
          "name": "stdout",
          "output_type": "stream",
          "text": [
            "Enter height of tank: 20\n",
            "Enter width of tank: 20\n",
            "Enter breadth of tank: 20\n",
            "Enter height of glass: 3\n",
            "Enter radius of glass: 1\n",
            "No. of glasses:  849\n"
          ]
        }
      ],
      "source": [
        "# Write your code here\n",
        "import math\n",
        "h=float(input(\"Enter height of tank: \"))\n",
        "w=float(input(\"Enter width of tank: \"))\n",
        "b=float(input(\"Enter breadth of tank: \"))\n",
        "\n",
        "height=float(input(\"Enter height of glass: \"))\n",
        "radius=float(input(\"Enter radius of glass: \"))\n",
        "\n",
        "volumn_tank=h*w*b\n",
        "volumn_glass=3.14*radius*radius*height\n",
        "print(\"No. of glasses: \",math.floor(volumn_tank/volumn_glass))"
      ]
    }
  ],
  "metadata": {
    "colab": {
      "provenance": []
    },
    "kernelspec": {
      "display_name": "Python 3",
      "name": "python3"
    },
    "language_info": {
      "codemirror_mode": {
        "name": "ipython",
        "version": 3
      },
      "file_extension": ".py",
      "mimetype": "text/x-python",
      "name": "python",
      "nbconvert_exporter": "python",
      "pygments_lexer": "ipython3",
      "version": "3.8.0"
    }
  },
  "nbformat": 4,
  "nbformat_minor": 0
}
