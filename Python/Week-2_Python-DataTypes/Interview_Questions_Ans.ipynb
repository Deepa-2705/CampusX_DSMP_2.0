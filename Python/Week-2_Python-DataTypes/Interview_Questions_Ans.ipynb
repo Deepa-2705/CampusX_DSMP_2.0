{
  "nbformat": 4,
  "nbformat_minor": 0,
  "metadata": {
    "colab": {
      "provenance": []
    },
    "kernelspec": {
      "name": "python3",
      "display_name": "Python 3"
    },
    "language_info": {
      "name": "python"
    }
  },
  "cells": [
    {
      "cell_type": "markdown",
      "source": [
        "| Question No. | Question |\n",
        "| :--: | :-- |\n",
        "| 1 | What is aliasing?  |\n",
        "| 2 | What is garbage collection?  |\n",
        "| 3 | What is mutability and why is it dangerous in certain scenarios? |\n",
        "| 4 | What is cloning? |\n",
        "| 5 | Differentiate between deep and shallow copies |\n",
        "| 6 | How nested lists are stored in memory? |\n",
        "| 7 | How strings are stored in memory |\n",
        "| 8 | Why tuples take less memory than lists? |\n",
        "| 9 | How set index position is decided? |\n",
        "| 10 | Why mutable types are not allowed in sets/dicts |"
      ],
      "metadata": {
        "id": "4-D6SfjrHAKw"
      }
    },
    {
      "cell_type": "markdown",
      "source": [
        "# Aliasing\n",
        "\n",
        "while a program is executing all data get loads into RAM.\n",
        "\n",
        "Ram is a register that has 2 parts. One stores the address and second stores the value. Address gets stored in hexadecimal value and content gets stored in form of binary pattern.\n",
        "\n",
        "for ex:  4 in ram stored as (0100)\n",
        "\n",
        "0x100 -> 0\n",
        "\n",
        "0x101 -> 1\n",
        "\n",
        "0x102 -> 0\n",
        "\n",
        "0x103 -> 0\n",
        "\n",
        "when we declare a=4 then python considers a as a name and a will point to the memory address where binary pattern of 4 is stored (a will point to 0x100)."
      ],
      "metadata": {
        "id": "Q--McE1IbzYa"
      }
    },
    {
      "cell_type": "code",
      "source": [
        "a = 4"
      ],
      "metadata": {
        "id": "WX2sFkyxlt1D"
      },
      "execution_count": null,
      "outputs": []
    },
    {
      "cell_type": "code",
      "source": [
        "id(a)"
      ],
      "metadata": {
        "colab": {
          "base_uri": "https://localhost:8080/"
        },
        "id": "HWiio_s6U4Ln",
        "outputId": "c463554f-8ff9-4e43-a09e-a25c093382c1"
      },
      "execution_count": null,
      "outputs": [
        {
          "output_type": "execute_result",
          "data": {
            "text/plain": [
              "11126784"
            ]
          },
          "metadata": {},
          "execution_count": 14
        }
      ]
    },
    {
      "cell_type": "code",
      "source": [
        "id(4)"
      ],
      "metadata": {
        "colab": {
          "base_uri": "https://localhost:8080/"
        },
        "id": "5qygxCagVJf_",
        "outputId": "7806a8d8-f114-4bdf-f0c9-f6b737f56132"
      },
      "execution_count": null,
      "outputs": [
        {
          "output_type": "execute_result",
          "data": {
            "text/plain": [
              "11126784"
            ]
          },
          "metadata": {},
          "execution_count": 15
        }
      ]
    },
    {
      "cell_type": "code",
      "source": [
        "hex(11126784) # real memory address"
      ],
      "metadata": {
        "colab": {
          "base_uri": "https://localhost:8080/",
          "height": 36
        },
        "id": "oI-j2mJ7VNT_",
        "outputId": "945a3d64-1bcc-4d9a-8348-110a8e426781"
      },
      "execution_count": null,
      "outputs": [
        {
          "output_type": "execute_result",
          "data": {
            "text/plain": [
              "'0xa9c800'"
            ],
            "application/vnd.google.colaboratory.intrinsic+json": {
              "type": "string"
            }
          },
          "metadata": {},
          "execution_count": 16
        }
      ]
    },
    {
      "cell_type": "code",
      "source": [
        "a = 4  # aliasing reduces memory wastage\n",
        "b = a  # if we assign a value of variable to another variable then both variable will point to same memory address. This is known as aliasing."
      ],
      "metadata": {
        "id": "uQJAXjl2VT9Y"
      },
      "execution_count": null,
      "outputs": []
    },
    {
      "cell_type": "code",
      "source": [
        "print(id(a))\n",
        "print(id(b))"
      ],
      "metadata": {
        "colab": {
          "base_uri": "https://localhost:8080/"
        },
        "id": "TvMESuXVVlJO",
        "outputId": "03a4cb36-5ce7-4759-f3dc-a99455b81a21"
      },
      "execution_count": null,
      "outputs": [
        {
          "output_type": "stream",
          "name": "stdout",
          "text": [
            "11126784\n",
            "11126784\n"
          ]
        }
      ]
    },
    {
      "cell_type": "code",
      "source": [
        "c = b"
      ],
      "metadata": {
        "id": "v2AmxMDgVnbX"
      },
      "execution_count": null,
      "outputs": []
    },
    {
      "cell_type": "code",
      "source": [
        "print(id(c))"
      ],
      "metadata": {
        "colab": {
          "base_uri": "https://localhost:8080/"
        },
        "id": "l2uFTClXVtXP",
        "outputId": "1d48fac5-8017-476a-cb7c-117fdc44fb91"
      },
      "execution_count": null,
      "outputs": [
        {
          "output_type": "stream",
          "name": "stdout",
          "text": [
            "11126784\n"
          ]
        }
      ]
    },
    {
      "cell_type": "code",
      "source": [
        "del a  # deletion of a varible does not delete the stored value instead it delete the reference pointer."
      ],
      "metadata": {
        "id": "bE-sdPx7VuZr"
      },
      "execution_count": null,
      "outputs": []
    },
    {
      "cell_type": "code",
      "source": [
        "a"
      ],
      "metadata": {
        "colab": {
          "base_uri": "https://localhost:8080/",
          "height": 169
        },
        "id": "5_swNhajWHAZ",
        "outputId": "184e3506-9503-4b96-fc47-8288ee0f2667"
      },
      "execution_count": null,
      "outputs": [
        {
          "output_type": "error",
          "ename": "NameError",
          "evalue": "ignored",
          "traceback": [
            "\u001b[0;31m---------------------------------------------------------------------------\u001b[0m",
            "\u001b[0;31mNameError\u001b[0m                                 Traceback (most recent call last)",
            "\u001b[0;32m<ipython-input-23-3f786850e387>\u001b[0m in \u001b[0;36m<module>\u001b[0;34m\u001b[0m\n\u001b[0;32m----> 1\u001b[0;31m \u001b[0ma\u001b[0m\u001b[0;34m\u001b[0m\u001b[0;34m\u001b[0m\u001b[0m\n\u001b[0m",
            "\u001b[0;31mNameError\u001b[0m: name 'a' is not defined"
          ]
        }
      ]
    },
    {
      "cell_type": "code",
      "source": [
        "print(b)"
      ],
      "metadata": {
        "colab": {
          "base_uri": "https://localhost:8080/"
        },
        "id": "QDe9T_1YWHv3",
        "outputId": "e47cc2d9-587a-49b8-8bb3-482c33d14eec"
      },
      "execution_count": null,
      "outputs": [
        {
          "output_type": "stream",
          "name": "stdout",
          "text": [
            "4\n"
          ]
        }
      ]
    },
    {
      "cell_type": "code",
      "source": [
        "del b\n",
        "print(c)"
      ],
      "metadata": {
        "colab": {
          "base_uri": "https://localhost:8080/"
        },
        "id": "6xgF66uQWQnq",
        "outputId": "b1cc783e-6cd9-454e-cc42-4f205850ab42"
      },
      "execution_count": null,
      "outputs": [
        {
          "output_type": "stream",
          "name": "stdout",
          "text": [
            "4\n"
          ]
        }
      ]
    },
    {
      "cell_type": "markdown",
      "source": [
        "# Garbage Collection\n",
        "\n",
        "When something is present in memory and no reference variable is using it. Then it is a memory wastage.\n",
        "\n",
        "garbage collection is a internal python program that remove the unreference contents from the memory periodically.\n",
        "\n",
        "Garbage collector performs this work itself but program cannot control this procedure."
      ],
      "metadata": {
        "id": "C5lVw1mvgKYG"
      }
    },
    {
      "cell_type": "code",
      "source": [
        "a = 'DSMP 2022-23'\n",
        "b = a\n",
        "c = b"
      ],
      "metadata": {
        "id": "Cc9yfxBRWiWu"
      },
      "execution_count": null,
      "outputs": []
    },
    {
      "cell_type": "code",
      "source": [
        "import sys\n",
        "sys.getrefcount('DSMP 2022-23') # no of variable pointing to this value"
      ],
      "metadata": {
        "colab": {
          "base_uri": "https://localhost:8080/"
        },
        "id": "iXxpHxNcXD2r",
        "outputId": "15402061-1e3c-4c50-a6ee-323283ca61d9"
      },
      "execution_count": null,
      "outputs": [
        {
          "output_type": "execute_result",
          "data": {
            "text/plain": [
              "3"
            ]
          },
          "metadata": {},
          "execution_count": 29
        }
      ]
    },
    {
      "cell_type": "markdown",
      "source": [
        "# Mutability\n",
        "\n",
        "The ability of a datatype to be change on its memory level is called mutability.\n",
        "\n",
        "Mutable datatype\n",
        "\n",
        "1) list\n",
        "\n",
        "2) set\n",
        "\n",
        "3) dictionary\n",
        "\n",
        "Mutable datatype\n",
        "\n",
        "1) int\n",
        "\n",
        "2) float\n",
        "\n",
        "3) String\n",
        "\n",
        "4) boolean\n",
        "\n",
        "5) complex\n",
        "\n",
        "6) tuple\n"
      ],
      "metadata": {
        "id": "sjHzLcY6h4_W"
      }
    },
    {
      "cell_type": "code",
      "source": [
        "L = [1,2,3]\n",
        "print(id(L))\n",
        "\n",
        "L.append(4)\n",
        "print(L)\n",
        "print(id(L))"
      ],
      "metadata": {
        "colab": {
          "base_uri": "https://localhost:8080/"
        },
        "id": "oDdEA7PMXObC",
        "outputId": "bf390387-e8e5-4046-d227-4b0d1c32345e"
      },
      "execution_count": null,
      "outputs": [
        {
          "output_type": "stream",
          "name": "stdout",
          "text": [
            "139652074757168\n",
            "[1, 2, 3, 4]\n",
            "139652074757168\n"
          ]
        }
      ]
    },
    {
      "cell_type": "code",
      "source": [
        "T = (1,2,3)\n",
        "print(id(T))\n",
        "\n",
        "T = T + (4,)\n",
        "\n",
        "print(T)\n",
        "print(id(T))"
      ],
      "metadata": {
        "colab": {
          "base_uri": "https://localhost:8080/"
        },
        "id": "cclpQY2qZmYY",
        "outputId": "5178fa40-d382-4a9e-8f02-b310363e1ef6"
      },
      "execution_count": null,
      "outputs": [
        {
          "output_type": "stream",
          "name": "stdout",
          "text": [
            "139652076050304\n",
            "(1, 2, 3, 4)\n",
            "139652075362160\n"
          ]
        }
      ]
    },
    {
      "cell_type": "code",
      "source": [
        "# risky scenerio\n",
        "a = [1,2,3]\n",
        "b = a\n",
        "\n",
        "b.append(4)\n",
        "print(b)"
      ],
      "metadata": {
        "colab": {
          "base_uri": "https://localhost:8080/"
        },
        "id": "B8OfnvEBaYrS",
        "outputId": "c590565b-6fa4-441d-c33f-e7a5bb59708e"
      },
      "execution_count": null,
      "outputs": [
        {
          "output_type": "stream",
          "name": "stdout",
          "text": [
            "[1, 2, 3, 4]\n"
          ]
        }
      ]
    },
    {
      "cell_type": "code",
      "source": [
        "print(a)"
      ],
      "metadata": {
        "colab": {
          "base_uri": "https://localhost:8080/"
        },
        "id": "TKYJM-Bla_hl",
        "outputId": "1b41dc21-5954-4aef-9eb0-a8f72db9c226"
      },
      "execution_count": null,
      "outputs": [
        {
          "output_type": "stream",
          "name": "stdout",
          "text": [
            "[1, 2, 3, 4]\n"
          ]
        }
      ]
    },
    {
      "cell_type": "code",
      "source": [
        "# risky scenerio\n",
        "def func(data):\n",
        "  data.append(4)\n",
        "\n",
        "a = [1,2,3]\n",
        "func(a)  # global variable gets changed inside a function\n",
        "print(a)"
      ],
      "metadata": {
        "colab": {
          "base_uri": "https://localhost:8080/"
        },
        "id": "XxGAq_nLbAx_",
        "outputId": "670a21c0-f897-4636-9c4c-679be6e41a45"
      },
      "execution_count": 1,
      "outputs": [
        {
          "output_type": "stream",
          "name": "stdout",
          "text": [
            "[1, 2, 3, 4]\n"
          ]
        }
      ]
    },
    {
      "cell_type": "code",
      "source": [
        "# prevention\n",
        "def func(data):\n",
        "  data=data+(4,)\n",
        "\n",
        "a = (1,2,3)\n",
        "func(a)\n",
        "print(a)"
      ],
      "metadata": {
        "id": "rRVjt_4drNLs",
        "outputId": "549b8245-3023-4bd3-cc1e-fc727a8db658",
        "colab": {
          "base_uri": "https://localhost:8080/"
        }
      },
      "execution_count": 3,
      "outputs": [
        {
          "output_type": "stream",
          "name": "stdout",
          "text": [
            "(1, 2, 3)\n"
          ]
        }
      ]
    },
    {
      "cell_type": "markdown",
      "source": [
        "# Cloning"
      ],
      "metadata": {
        "id": "KqbxFJkgsG_L"
      }
    },
    {
      "cell_type": "code",
      "source": [
        "def func(data):\n",
        "  data.append(4)\n",
        "\n",
        "a = [1,2,3]\n",
        "func(a[:])\n",
        "print(a)"
      ],
      "metadata": {
        "id": "4FdN3aFVqkc2",
        "outputId": "6def3076-54d1-4ca0-8b6d-5031290efc12",
        "colab": {
          "base_uri": "https://localhost:8080/"
        }
      },
      "execution_count": 2,
      "outputs": [
        {
          "output_type": "stream",
          "name": "stdout",
          "text": [
            "[1, 2, 3]\n"
          ]
        }
      ]
    },
    {
      "cell_type": "code",
      "source": [
        "a = [1,2,3]\n",
        "# cloning\n",
        "b = a[:]"
      ],
      "metadata": {
        "id": "Ek1_pIqJbg17"
      },
      "execution_count": null,
      "outputs": []
    },
    {
      "cell_type": "code",
      "source": [
        "id(a)"
      ],
      "metadata": {
        "colab": {
          "base_uri": "https://localhost:8080/"
        },
        "id": "8F2gdB3OdLjD",
        "outputId": "11736066-c3fe-4da1-e971-252aa7fc38ab"
      },
      "execution_count": null,
      "outputs": [
        {
          "output_type": "execute_result",
          "data": {
            "text/plain": [
              "139652074408688"
            ]
          },
          "metadata": {},
          "execution_count": 38
        }
      ]
    },
    {
      "cell_type": "code",
      "source": [
        "id(b)"
      ],
      "metadata": {
        "colab": {
          "base_uri": "https://localhost:8080/"
        },
        "id": "pKiRpTlxdNF6",
        "outputId": "27d559c8-4c64-4306-9165-070774b6af55"
      },
      "execution_count": null,
      "outputs": [
        {
          "output_type": "execute_result",
          "data": {
            "text/plain": [
              "139652074409728"
            ]
          },
          "metadata": {},
          "execution_count": 39
        }
      ]
    },
    {
      "cell_type": "code",
      "source": [
        "b.append(4)\n",
        "b"
      ],
      "metadata": {
        "colab": {
          "base_uri": "https://localhost:8080/"
        },
        "id": "WtORN19xdOX4",
        "outputId": "bbf7c783-30e3-47dc-cba7-b91681cb5372"
      },
      "execution_count": null,
      "outputs": [
        {
          "output_type": "execute_result",
          "data": {
            "text/plain": [
              "[1, 2, 3, 4]"
            ]
          },
          "metadata": {},
          "execution_count": 43
        }
      ]
    },
    {
      "cell_type": "code",
      "source": [
        "a"
      ],
      "metadata": {
        "colab": {
          "base_uri": "https://localhost:8080/"
        },
        "id": "h669pb8gdQte",
        "outputId": "210b528e-edc6-4f62-ed82-26de02a6b4b2"
      },
      "execution_count": null,
      "outputs": [
        {
          "output_type": "execute_result",
          "data": {
            "text/plain": [
              "[1, 2, 3]"
            ]
          },
          "metadata": {},
          "execution_count": 44
        }
      ]
    },
    {
      "cell_type": "code",
      "source": [
        "a = {'name':'nitish','age':33}\n",
        "# aliasing (not prefer)->cloning (prefer)\n",
        "b = a.copy()\n",
        "\n",
        "b['gender'] = 'male'\n",
        "\n",
        "print(b)\n",
        "print(a)"
      ],
      "metadata": {
        "colab": {
          "base_uri": "https://localhost:8080/"
        },
        "id": "xdt-p00MdWGa",
        "outputId": "37f8e349-c292-4888-ba81-cd882ae01a10"
      },
      "execution_count": null,
      "outputs": [
        {
          "output_type": "stream",
          "name": "stdout",
          "text": [
            "{'name': 'nitish', 'age': 33, 'gender': 'male'}\n",
            "{'name': 'nitish', 'age': 33}\n"
          ]
        }
      ]
    },
    {
      "cell_type": "markdown",
      "source": [
        "# Deep Copy / Shallow copy"
      ],
      "metadata": {
        "id": "-nf8c7BqtgDL"
      }
    },
    {
      "cell_type": "code",
      "source": [
        "a = [1,2,3]\n",
        "# shallow\n",
        "b = a.copy()\n",
        "\n",
        "b.append(4)\n",
        "\n",
        "print(a)\n",
        "print(b)"
      ],
      "metadata": {
        "colab": {
          "base_uri": "https://localhost:8080/"
        },
        "id": "Y4Q8UF2_eeIx",
        "outputId": "03a5ff0d-5755-4abb-e1e5-0113d5563581"
      },
      "execution_count": null,
      "outputs": [
        {
          "output_type": "stream",
          "name": "stdout",
          "text": [
            "[1, 2, 3]\n",
            "[1, 2, 3, 4]\n"
          ]
        }
      ]
    },
    {
      "cell_type": "code",
      "source": [
        "# Problem in shallow copy\n",
        "a = [1,2,3,[4,5]]\n",
        "b=a.copy()  # copy function works well in 1-d list but gives incorrect result in 2-d list\n",
        "a[-1][0]=100\n",
        "print(a)\n",
        "print(b)"
      ],
      "metadata": {
        "colab": {
          "base_uri": "https://localhost:8080/"
        },
        "id": "Y92fFI-Me-Pt",
        "outputId": "45a3a402-09e8-4fd2-94a8-887232109143"
      },
      "execution_count": 4,
      "outputs": [
        {
          "output_type": "stream",
          "name": "stdout",
          "text": [
            "[1, 2, 3, [100, 5]]\n",
            "[1, 2, 3, [100, 5]]\n"
          ]
        }
      ]
    },
    {
      "cell_type": "code",
      "source": [
        "# because the inner content of 2-d list will have same memory address\n",
        "print(id(a[-1]))\n",
        "print(id(b[-1]))"
      ],
      "metadata": {
        "colab": {
          "base_uri": "https://localhost:8080/"
        },
        "id": "VJlWEzy9ftIs",
        "outputId": "24c6813b-4217-43b5-ab65-b81fad52bbe0"
      },
      "execution_count": null,
      "outputs": [
        {
          "output_type": "stream",
          "name": "stdout",
          "text": [
            "139652074560480\n",
            "139652074560480\n"
          ]
        }
      ]
    },
    {
      "cell_type": "markdown",
      "source": [
        "The prevention of this is deep copy"
      ],
      "metadata": {
        "id": "0WstTK3Mu54A"
      }
    },
    {
      "cell_type": "code",
      "source": [
        "import copy\n",
        "\n",
        "a = [1,2,3,[4,5]]\n",
        "b = copy.deepcopy(a)\n",
        "a[-1][0]=100\n",
        "print(a)\n",
        "print(b)"
      ],
      "metadata": {
        "colab": {
          "base_uri": "https://localhost:8080/"
        },
        "id": "1JxShZ_lfLUT",
        "outputId": "819f0f2f-76ab-4453-a9c4-6b565d5f36ad"
      },
      "execution_count": 5,
      "outputs": [
        {
          "output_type": "stream",
          "name": "stdout",
          "text": [
            "[1, 2, 3, [100, 5]]\n",
            "[1, 2, 3, [4, 5]]\n"
          ]
        }
      ]
    },
    {
      "cell_type": "code",
      "source": [
        "print(id(a[-1]))\n",
        "print(id(b[-1]))"
      ],
      "metadata": {
        "colab": {
          "base_uri": "https://localhost:8080/"
        },
        "id": "i6c_KmtNflFc",
        "outputId": "47b3542b-0c71-4ae0-e4ab-2ef3b8dd6a98"
      },
      "execution_count": 6,
      "outputs": [
        {
          "output_type": "stream",
          "name": "stdout",
          "text": [
            "135627640237952\n",
            "135627640241600\n"
          ]
        }
      ]
    },
    {
      "cell_type": "code",
      "source": [
        "b[-1][0] = 400\n",
        "print(a)\n",
        "print(b)"
      ],
      "metadata": {
        "colab": {
          "base_uri": "https://localhost:8080/"
        },
        "id": "pGW751pyfOVD",
        "outputId": "5d6c441e-b65a-4dee-fb08-908d1348cda2"
      },
      "execution_count": 7,
      "outputs": [
        {
          "output_type": "stream",
          "name": "stdout",
          "text": [
            "[1, 2, 3, [100, 5]]\n",
            "[1, 2, 3, [400, 5]]\n"
          ]
        }
      ]
    },
    {
      "cell_type": "markdown",
      "source": [
        "# How nested list gets stored in memory?\n",
        "\n",
        "- How 1-d list stored in memory?\n",
        "\n",
        "Python list is a referential array (it stores items anywhere in memory and store their memory address in a list and that list itself has a address)\n",
        "\n",
        "The advantage of using this approach is that we can store different kinds of datatype in a list.\n",
        "\n",
        "- How 2-d list stored in memory?\n",
        "\n",
        "![image.png](data:image/png;base64,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)\n",
        "\n",
        "Here, we store the 1,2,3,4,5 randomly anywhere in memory. Then store the address of 1,2,3 in the list which itself contains its address. The address of inner list(4,5) gets stored in a separate list in the memory that itself contains its address.\n",
        "\n",
        "Finally the address of this small list gets stored in the main list."
      ],
      "metadata": {
        "id": "hcu69YpBwJHz"
      }
    },
    {
      "cell_type": "markdown",
      "source": [
        "# How strings are stored in memory\n",
        "Python list is a referential array and dynamic array(whenever list gets full it double the size of list and copy all item in newly created list).\n",
        "\n",
        "Python String are referential arrays but not the dynamic array.\n",
        "\n",
        "We stores character of string into multiple memory location and store their address into a list."
      ],
      "metadata": {
        "id": "Iw7ec-OSzit6"
      }
    },
    {
      "cell_type": "code",
      "source": [
        "s = 'hello'\n",
        "\n",
        "id(s)"
      ],
      "metadata": {
        "colab": {
          "base_uri": "https://localhost:8080/"
        },
        "id": "zy6J4OSykDg9",
        "outputId": "41face7b-707a-47ac-e32b-16e7abe3b73a"
      },
      "execution_count": null,
      "outputs": [
        {
          "output_type": "execute_result",
          "data": {
            "text/plain": [
              "139652297075120"
            ]
          },
          "metadata": {},
          "execution_count": 74
        }
      ]
    },
    {
      "cell_type": "code",
      "source": [
        "id(s[0])"
      ],
      "metadata": {
        "colab": {
          "base_uri": "https://localhost:8080/"
        },
        "id": "lzCZx0pPkFdF",
        "outputId": "e91e140d-f8de-4984-de53-556dc9a99ce1"
      },
      "execution_count": null,
      "outputs": [
        {
          "output_type": "execute_result",
          "data": {
            "text/plain": [
              "139652626357424"
            ]
          },
          "metadata": {},
          "execution_count": 75
        }
      ]
    },
    {
      "cell_type": "code",
      "source": [
        "id('h')"
      ],
      "metadata": {
        "colab": {
          "base_uri": "https://localhost:8080/"
        },
        "id": "V2sBOBaRkIos",
        "outputId": "0a4180f8-3753-463d-ebc4-37041dd41566"
      },
      "execution_count": null,
      "outputs": [
        {
          "output_type": "execute_result",
          "data": {
            "text/plain": [
              "139652626357424"
            ]
          },
          "metadata": {},
          "execution_count": 76
        }
      ]
    },
    {
      "cell_type": "markdown",
      "source": [
        "# Why tuples take less memory than lists?\n",
        "\n",
        "Tuple is a static array and list is a dynamic array. Thatswhy list takes more memory as it double the array when it gets filled."
      ],
      "metadata": {
        "id": "zK0RFAG41OGI"
      }
    },
    {
      "cell_type": "markdown",
      "source": [
        "Quesion 9,10 --> next week"
      ],
      "metadata": {
        "id": "wvLqwFmI2RpF"
      }
    }
  ]
}