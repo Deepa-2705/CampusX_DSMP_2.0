{
  "nbformat": 4,
  "nbformat_minor": 0,
  "metadata": {
    "colab": {
      "provenance": []
    },
    "kernelspec": {
      "name": "python3",
      "display_name": "Python 3"
    },
    "language_info": {
      "name": "python"
    }
  },
  "cells": [
    {
      "cell_type": "markdown",
      "source": [
        "### Namespaces\n",
        "\n",
        "A namespace is a space that holds names(identifiers).Programmatically speaking, namespaces are dictionary of identifiers(keys) and their objects(values)\n",
        "\n",
        "There are 4 types of namespaces:\n",
        "- Builtin Namespace\n",
        "- Global Namespace\n",
        "- Enclosing Namespace\n",
        "- Local Namespace"
      ],
      "metadata": {
        "id": "Xk9kpQFIwb4q"
      }
    },
    {
      "cell_type": "markdown",
      "source": [
        "### Scope and LEGB Rule (Local,enclosing,global,build-in)\n",
        "\n",
        "A scope is a textual region of a Python program where a namespace is directly accessible.\n",
        "\n",
        "The interpreter searches for a name from the inside out, looking in the local, enclosing, global, and finally the built-in scope. If the interpreter doesn’t find the name in any of these locations, then Python raises a NameError exception."
      ],
      "metadata": {
        "id": "gwHLayLAz07u"
      }
    },
    {
      "cell_type": "code",
      "source": [
        "# local and global\n",
        "# global var\n",
        "a = 2\n",
        "\n",
        "def temp():\n",
        "  # local var\n",
        "  b = 3\n",
        "  print(b)\n",
        "\n",
        "temp()\n",
        "print(a)"
      ],
      "metadata": {
        "colab": {
          "base_uri": "https://localhost:8080/"
        },
        "id": "je-pFfh12wH_",
        "outputId": "07ad3dca-cf87-4bf1-ce0a-5ec58cb17390"
      },
      "execution_count": null,
      "outputs": [
        {
          "output_type": "stream",
          "name": "stdout",
          "text": [
            "3\n",
            "2\n"
          ]
        }
      ]
    },
    {
      "cell_type": "code",
      "source": [
        "# local and global -> same name\n",
        "a = 2\n",
        "\n",
        "def temp():\n",
        "  # local var\n",
        "  a = 3   # one a is a namespace inside global scope and other namespace is in local scope\n",
        "  print(b)\n",
        "\n",
        "temp()\n",
        "print(a)"
      ],
      "metadata": {
        "id": "j8yQ5lUr2yCq"
      },
      "execution_count": null,
      "outputs": []
    },
    {
      "cell_type": "code",
      "source": [
        "# local and global -> local does not have but global has\n",
        "a = 2\n",
        "\n",
        "def temp():\n",
        "  # local var\n",
        "  print(a)\n",
        "\n",
        "temp()\n",
        "print(a)\n"
      ],
      "metadata": {
        "colab": {
          "base_uri": "https://localhost:8080/"
        },
        "id": "KGxD7YQS3We_",
        "outputId": "8e329d2f-7a9b-4516-d43e-02d293e882b9"
      },
      "execution_count": null,
      "outputs": [
        {
          "output_type": "stream",
          "name": "stdout",
          "text": [
            "2\n",
            "2\n"
          ]
        }
      ]
    },
    {
      "cell_type": "code",
      "source": [
        "# local and global -> editing global\n",
        "a = 2\n",
        "\n",
        "def temp():\n",
        "  # local var\n",
        "  a += 1  # we cannot edit global variable inside a local scope\n",
        "  print(a)\n",
        "\n",
        "temp()\n",
        "print(a)"
      ],
      "metadata": {
        "colab": {
          "base_uri": "https://localhost:8080/",
          "height": 348
        },
        "id": "ey9-FHzM21P_",
        "outputId": "fee2d260-f6e5-4db1-f7d7-52c829a41e4a"
      },
      "execution_count": null,
      "outputs": [
        {
          "output_type": "error",
          "ename": "UnboundLocalError",
          "evalue": "ignored",
          "traceback": [
            "\u001b[0;31m---------------------------------------------------------------------------\u001b[0m",
            "\u001b[0;31mUnboundLocalError\u001b[0m                         Traceback (most recent call last)",
            "\u001b[0;32m<ipython-input-49-0bff4ae6448f>\u001b[0m in \u001b[0;36m<module>\u001b[0;34m\u001b[0m\n\u001b[1;32m      7\u001b[0m   \u001b[0mprint\u001b[0m\u001b[0;34m(\u001b[0m\u001b[0ma\u001b[0m\u001b[0;34m)\u001b[0m\u001b[0;34m\u001b[0m\u001b[0;34m\u001b[0m\u001b[0m\n\u001b[1;32m      8\u001b[0m \u001b[0;34m\u001b[0m\u001b[0m\n\u001b[0;32m----> 9\u001b[0;31m \u001b[0mtemp\u001b[0m\u001b[0;34m(\u001b[0m\u001b[0;34m)\u001b[0m\u001b[0;34m\u001b[0m\u001b[0;34m\u001b[0m\u001b[0m\n\u001b[0m\u001b[1;32m     10\u001b[0m \u001b[0mprint\u001b[0m\u001b[0;34m(\u001b[0m\u001b[0ma\u001b[0m\u001b[0;34m)\u001b[0m\u001b[0;34m\u001b[0m\u001b[0;34m\u001b[0m\u001b[0m\n",
            "\u001b[0;32m<ipython-input-49-0bff4ae6448f>\u001b[0m in \u001b[0;36mtemp\u001b[0;34m()\u001b[0m\n\u001b[1;32m      4\u001b[0m \u001b[0;32mdef\u001b[0m \u001b[0mtemp\u001b[0m\u001b[0;34m(\u001b[0m\u001b[0;34m)\u001b[0m\u001b[0;34m:\u001b[0m\u001b[0;34m\u001b[0m\u001b[0;34m\u001b[0m\u001b[0m\n\u001b[1;32m      5\u001b[0m   \u001b[0;31m# local var\u001b[0m\u001b[0;34m\u001b[0m\u001b[0;34m\u001b[0m\u001b[0;34m\u001b[0m\u001b[0m\n\u001b[0;32m----> 6\u001b[0;31m   \u001b[0ma\u001b[0m \u001b[0;34m+=\u001b[0m \u001b[0;36m1\u001b[0m\u001b[0;34m\u001b[0m\u001b[0;34m\u001b[0m\u001b[0m\n\u001b[0m\u001b[1;32m      7\u001b[0m   \u001b[0mprint\u001b[0m\u001b[0;34m(\u001b[0m\u001b[0ma\u001b[0m\u001b[0;34m)\u001b[0m\u001b[0;34m\u001b[0m\u001b[0;34m\u001b[0m\u001b[0m\n\u001b[1;32m      8\u001b[0m \u001b[0;34m\u001b[0m\u001b[0m\n",
            "\u001b[0;31mUnboundLocalError\u001b[0m: local variable 'a' referenced before assignment"
          ]
        }
      ]
    },
    {
      "cell_type": "code",
      "source": [
        "a = 2\n",
        "\n",
        "def temp():\n",
        "  # local var\n",
        "  global a\n",
        "  a += 1 # using global keyword, we can change a global variable inside local scope\n",
        "  print(a)\n",
        "\n",
        "temp()\n",
        "print(a)"
      ],
      "metadata": {
        "colab": {
          "base_uri": "https://localhost:8080/"
        },
        "id": "F1FtV8ZLBNvy",
        "outputId": "4dd8a6e7-8cda-4652-c34c-f1b3b3b99f3b"
      },
      "execution_count": null,
      "outputs": [
        {
          "output_type": "stream",
          "name": "stdout",
          "text": [
            "3\n",
            "3\n"
          ]
        }
      ]
    },
    {
      "cell_type": "code",
      "source": [
        "# local and global -> global created inside local\n",
        "def temp():\n",
        "  # local var\n",
        "  global a  # we can create a global variable inside a local scope\n",
        "  a = 1\n",
        "  print(a)\n",
        "\n",
        "temp()\n",
        "print(a)"
      ],
      "metadata": {
        "id": "yDkgBLQu3JIw",
        "outputId": "a538729c-4309-4180-cfb0-376d84b5fc8f",
        "colab": {
          "base_uri": "https://localhost:8080/"
        }
      },
      "execution_count": 1,
      "outputs": [
        {
          "output_type": "stream",
          "name": "stdout",
          "text": [
            "1\n",
            "1\n"
          ]
        }
      ]
    },
    {
      "cell_type": "code",
      "source": [
        "# local and global -> function parameter is local\n",
        "def temp(z): # parameter of a function is always a local variable\n",
        "  # local var\n",
        "  print(z)\n",
        "\n",
        "a = 5\n",
        "temp(5)\n",
        "print(a)"
      ],
      "metadata": {
        "id": "WTofGNWEQS6N",
        "outputId": "c6ea9c5e-97d1-4d69-fffe-2c815a596722",
        "colab": {
          "base_uri": "https://localhost:8080/"
        }
      },
      "execution_count": 2,
      "outputs": [
        {
          "output_type": "stream",
          "name": "stdout",
          "text": [
            "5\n",
            "5\n"
          ]
        }
      ]
    },
    {
      "cell_type": "code",
      "source": [
        "# local and global -> function parameter is local\n",
        "def temp(z): # parameter of a function is always a local variable\n",
        "  # local var\n",
        "  print(z)\n",
        "\n",
        "a = 5\n",
        "temp(5)\n",
        "print(a)\n",
        "print(z) # z is outside its local scope"
      ],
      "metadata": {
        "colab": {
          "base_uri": "https://localhost:8080/",
          "height": 241
        },
        "id": "gWLr0xi024Or",
        "outputId": "744dd057-68f4-46f1-8f44-522eb5cf3521"
      },
      "execution_count": null,
      "outputs": [
        {
          "output_type": "stream",
          "name": "stdout",
          "text": [
            "5\n",
            "5\n"
          ]
        },
        {
          "output_type": "error",
          "ename": "NameError",
          "evalue": "ignored",
          "traceback": [
            "\u001b[0;31m---------------------------------------------------------------------------\u001b[0m",
            "\u001b[0;31mNameError\u001b[0m                                 Traceback (most recent call last)",
            "\u001b[0;32m<ipython-input-51-aac3f4d9657f>\u001b[0m in \u001b[0;36m<module>\u001b[0;34m\u001b[0m\n\u001b[1;32m      7\u001b[0m \u001b[0mtemp\u001b[0m\u001b[0;34m(\u001b[0m\u001b[0;36m5\u001b[0m\u001b[0;34m)\u001b[0m\u001b[0;34m\u001b[0m\u001b[0;34m\u001b[0m\u001b[0m\n\u001b[1;32m      8\u001b[0m \u001b[0mprint\u001b[0m\u001b[0;34m(\u001b[0m\u001b[0ma\u001b[0m\u001b[0;34m)\u001b[0m\u001b[0;34m\u001b[0m\u001b[0;34m\u001b[0m\u001b[0m\n\u001b[0;32m----> 9\u001b[0;31m \u001b[0mprint\u001b[0m\u001b[0;34m(\u001b[0m\u001b[0mz\u001b[0m\u001b[0;34m)\u001b[0m\u001b[0;34m\u001b[0m\u001b[0;34m\u001b[0m\u001b[0m\n\u001b[0m",
            "\u001b[0;31mNameError\u001b[0m: name 'z' is not defined"
          ]
        }
      ]
    },
    {
      "cell_type": "markdown",
      "source": [
        "# built-in scope"
      ],
      "metadata": {
        "id": "iP_Nw0jQSe-1"
      }
    },
    {
      "cell_type": "markdown",
      "source": [
        "When python got turned on then it will load some variable in built-in scope which we can use without any issue.\n",
        "\n",
        "It is above global scope. Some examples are shown above."
      ],
      "metadata": {
        "id": "V7UG6FmeRpJ1"
      }
    },
    {
      "cell_type": "code",
      "source": [
        "# how to see all the built-ins\n",
        "import builtins\n",
        "print(dir(builtins))"
      ],
      "metadata": {
        "id": "F769q7Nj33tX",
        "outputId": "cdafbc46-fb31-4eef-c0d2-7636b0af565e",
        "colab": {
          "base_uri": "https://localhost:8080/"
        }
      },
      "execution_count": 3,
      "outputs": [
        {
          "output_type": "stream",
          "name": "stdout",
          "text": [
            "['ArithmeticError', 'AssertionError', 'AttributeError', 'BaseException', 'BlockingIOError', 'BrokenPipeError', 'BufferError', 'BytesWarning', 'ChildProcessError', 'ConnectionAbortedError', 'ConnectionError', 'ConnectionRefusedError', 'ConnectionResetError', 'DeprecationWarning', 'EOFError', 'Ellipsis', 'EncodingWarning', 'EnvironmentError', 'Exception', 'False', 'FileExistsError', 'FileNotFoundError', 'FloatingPointError', 'FutureWarning', 'GeneratorExit', 'IOError', 'ImportError', 'ImportWarning', 'IndentationError', 'IndexError', 'InterruptedError', 'IsADirectoryError', 'KeyError', 'KeyboardInterrupt', 'LookupError', 'MemoryError', 'ModuleNotFoundError', 'NameError', 'None', 'NotADirectoryError', 'NotImplemented', 'NotImplementedError', 'OSError', 'OverflowError', 'PendingDeprecationWarning', 'PermissionError', 'ProcessLookupError', 'RecursionError', 'ReferenceError', 'ResourceWarning', 'RuntimeError', 'RuntimeWarning', 'StopAsyncIteration', 'StopIteration', 'SyntaxError', 'SyntaxWarning', 'SystemError', 'SystemExit', 'TabError', 'TimeoutError', 'True', 'TypeError', 'UnboundLocalError', 'UnicodeDecodeError', 'UnicodeEncodeError', 'UnicodeError', 'UnicodeTranslateError', 'UnicodeWarning', 'UserWarning', 'ValueError', 'Warning', 'ZeroDivisionError', '__IPYTHON__', '__build_class__', '__debug__', '__doc__', '__import__', '__loader__', '__name__', '__package__', '__spec__', 'abs', 'aiter', 'all', 'anext', 'any', 'ascii', 'bin', 'bool', 'breakpoint', 'bytearray', 'bytes', 'callable', 'chr', 'classmethod', 'compile', 'complex', 'copyright', 'credits', 'delattr', 'dict', 'dir', 'display', 'divmod', 'enumerate', 'eval', 'exec', 'execfile', 'filter', 'float', 'format', 'frozenset', 'get_ipython', 'getattr', 'globals', 'hasattr', 'hash', 'help', 'hex', 'id', 'input', 'int', 'isinstance', 'issubclass', 'iter', 'len', 'license', 'list', 'locals', 'map', 'max', 'memoryview', 'min', 'next', 'object', 'oct', 'open', 'ord', 'pow', 'print', 'property', 'range', 'repr', 'reversed', 'round', 'runfile', 'set', 'setattr', 'slice', 'sorted', 'staticmethod', 'str', 'sum', 'super', 'tuple', 'type', 'vars', 'zip']\n"
          ]
        }
      ]
    },
    {
      "cell_type": "code",
      "source": [
        "# renaming built-ins\n",
        "L = [1,2,3] # part of global scope\n",
        "max(L) # part of built-in scope"
      ],
      "metadata": {
        "id": "M169ZuWTS3e9",
        "outputId": "bacf456f-2be5-4f31-f8eb-8ec20662a427",
        "colab": {
          "base_uri": "https://localhost:8080/"
        }
      },
      "execution_count": 4,
      "outputs": [
        {
          "output_type": "execute_result",
          "data": {
            "text/plain": [
              "3"
            ]
          },
          "metadata": {},
          "execution_count": 4
        }
      ]
    },
    {
      "cell_type": "code",
      "source": [
        "# renaming built-ins\n",
        "L = [1,2,3]\n",
        "print(max())\n",
        "def max():  # if max function is present in global then we don't go to built-in function\n",
        "  print('hello')"
      ],
      "metadata": {
        "id": "zVAUpKglVxHj",
        "outputId": "eb941b21-1e6e-46ec-b32a-2497ca96a358",
        "colab": {
          "base_uri": "https://localhost:8080/"
        }
      },
      "execution_count": 7,
      "outputs": [
        {
          "output_type": "stream",
          "name": "stdout",
          "text": [
            "hello\n",
            "None\n"
          ]
        }
      ]
    },
    {
      "cell_type": "code",
      "source": [
        "# renaming built-ins\n",
        "L = [1,2,3]\n",
        "print(max(L))\n",
        "def max():  # if max function is present in global then we don't go to built-in function\n",
        "  print('hello')\n",
        "\n",
        "print(max(L))"
      ],
      "metadata": {
        "colab": {
          "base_uri": "https://localhost:8080/",
          "height": 241
        },
        "id": "Qd3fM_Ha3ruR",
        "outputId": "fb8b79d9-8b3a-483f-b1aa-b642832c1edd"
      },
      "execution_count": null,
      "outputs": [
        {
          "output_type": "error",
          "ename": "TypeError",
          "evalue": "ignored",
          "traceback": [
            "\u001b[0;31m---------------------------------------------------------------------------\u001b[0m",
            "\u001b[0;31mTypeError\u001b[0m                                 Traceback (most recent call last)",
            "\u001b[0;32m<ipython-input-68-c19f3451a38f>\u001b[0m in \u001b[0;36m<module>\u001b[0;34m\u001b[0m\n\u001b[1;32m      1\u001b[0m \u001b[0;31m# renaming built-ins\u001b[0m\u001b[0;34m\u001b[0m\u001b[0;34m\u001b[0m\u001b[0;34m\u001b[0m\u001b[0m\n\u001b[1;32m      2\u001b[0m \u001b[0mL\u001b[0m \u001b[0;34m=\u001b[0m \u001b[0;34m[\u001b[0m\u001b[0;36m1\u001b[0m\u001b[0;34m,\u001b[0m\u001b[0;36m2\u001b[0m\u001b[0;34m,\u001b[0m\u001b[0;36m3\u001b[0m\u001b[0;34m]\u001b[0m\u001b[0;34m\u001b[0m\u001b[0;34m\u001b[0m\u001b[0m\n\u001b[0;32m----> 3\u001b[0;31m \u001b[0mprint\u001b[0m\u001b[0;34m(\u001b[0m\u001b[0mmax\u001b[0m\u001b[0;34m(\u001b[0m\u001b[0mL\u001b[0m\u001b[0;34m)\u001b[0m\u001b[0;34m)\u001b[0m\u001b[0;34m\u001b[0m\u001b[0;34m\u001b[0m\u001b[0m\n\u001b[0m\u001b[1;32m      4\u001b[0m \u001b[0;32mdef\u001b[0m \u001b[0mmax\u001b[0m\u001b[0;34m(\u001b[0m\u001b[0;34m)\u001b[0m\u001b[0;34m:\u001b[0m\u001b[0;34m\u001b[0m\u001b[0;34m\u001b[0m\u001b[0m\n\u001b[1;32m      5\u001b[0m   \u001b[0mprint\u001b[0m\u001b[0;34m(\u001b[0m\u001b[0;34m'hello'\u001b[0m\u001b[0;34m)\u001b[0m\u001b[0;34m\u001b[0m\u001b[0;34m\u001b[0m\u001b[0m\n",
            "\u001b[0;31mTypeError\u001b[0m: max() takes 0 positional arguments but 1 was given"
          ]
        }
      ]
    },
    {
      "cell_type": "markdown",
      "source": [
        "## In above code, first built-in max function will work as no max function in local scope is present.\n",
        "## Then max function in local scope will get created and it will give result.\n",
        "## After that built-in max function will not work as max function of local scope will get execute.\n",
        "\n",
        "So, order matters here."
      ],
      "metadata": {
        "id": "0KTpRZ8bcq77"
      }
    },
    {
      "cell_type": "markdown",
      "source": [
        "# Enclosing scope (non-local scope)\n",
        "Enclosing scope can be seen in nested function"
      ],
      "metadata": {
        "id": "gMo5_C_CWtjZ"
      }
    },
    {
      "cell_type": "code",
      "source": [
        "def outer():\n",
        "  def inner():\n",
        "    print('inner function')\n",
        "  inner()\n",
        "  print('outer function')\n",
        "\n",
        "outer()\n",
        "print('main program')"
      ],
      "metadata": {
        "colab": {
          "base_uri": "https://localhost:8080/"
        },
        "id": "JORTYJik4LKH",
        "outputId": "d963c3ba-7929-4e01-abf6-7027bfbab66b"
      },
      "execution_count": 8,
      "outputs": [
        {
          "output_type": "stream",
          "name": "stdout",
          "text": [
            "inner function\n",
            "outer function\n",
            "main program\n"
          ]
        }
      ]
    },
    {
      "cell_type": "markdown",
      "source": [
        "![image.png](data:image/png;base64,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)\n",
        "\n",
        "- The top-most is global scope consists main function\n",
        "- The middle is enclosing scope consists outer function\n",
        "- THe bottom-most is local scope consists of inner function"
      ],
      "metadata": {
        "id": "tw15IcrPXuzb"
      }
    },
    {
      "cell_type": "code",
      "source": [
        "def outer():\n",
        "  a=3\n",
        "  def inner():\n",
        "    a=4\n",
        "    print(a) # a is present in the local scope so 4 will print\n",
        "  inner()\n",
        "  print('outer function')\n",
        "\n",
        "a=1\n",
        "outer()\n",
        "print('main program')"
      ],
      "metadata": {
        "id": "42rm6z89Yp_x",
        "outputId": "7e246fce-f03c-4368-9f22-c351b203f193",
        "colab": {
          "base_uri": "https://localhost:8080/"
        }
      },
      "execution_count": 9,
      "outputs": [
        {
          "output_type": "stream",
          "name": "stdout",
          "text": [
            "4\n",
            "outer function\n",
            "main program\n"
          ]
        }
      ]
    },
    {
      "cell_type": "code",
      "source": [
        "def outer():\n",
        "  a=3\n",
        "  def inner():\n",
        "    print(a) # a is present in the enclosing scope so 3 will print\n",
        "  inner()\n",
        "  print('outer function')\n",
        "\n",
        "a=1\n",
        "outer()\n",
        "print('main program')"
      ],
      "metadata": {
        "id": "3LEYQRjuZCTW",
        "outputId": "2bbf4b23-12b6-4d1b-a447-c59186dd534c",
        "colab": {
          "base_uri": "https://localhost:8080/"
        }
      },
      "execution_count": 10,
      "outputs": [
        {
          "output_type": "stream",
          "name": "stdout",
          "text": [
            "3\n",
            "outer function\n",
            "main program\n"
          ]
        }
      ]
    },
    {
      "cell_type": "code",
      "source": [
        "def outer():\n",
        "  def inner():\n",
        "    print(a) # a is present in the global scope so 1 will print\n",
        "  inner()\n",
        "  print('outer function')\n",
        "\n",
        "a=1\n",
        "outer()\n",
        "print('main program')"
      ],
      "metadata": {
        "id": "j5o1CaN5ZPC7",
        "outputId": "d71d2456-72d4-487a-f0a7-0652b934be78",
        "colab": {
          "base_uri": "https://localhost:8080/"
        }
      },
      "execution_count": 11,
      "outputs": [
        {
          "output_type": "stream",
          "name": "stdout",
          "text": [
            "1\n",
            "outer function\n",
            "main program\n"
          ]
        }
      ]
    },
    {
      "cell_type": "code",
      "source": [
        "def outer():\n",
        "  def inner():\n",
        "    print(a) # a is not present in this code. So python will search a in built-in scope (it is not present in built-in so it will show an error)\n",
        "  inner() # and this will throw an error like a is not defined (not showing in google collab as all cells are connected and printing previous defined value)\n",
        "  print('outer function')\n",
        "\n",
        "outer()\n",
        "print('main program')"
      ],
      "metadata": {
        "id": "M58Ai9nXZlSM",
        "outputId": "99915dec-5684-4249-9e9f-da0aff311d71",
        "colab": {
          "base_uri": "https://localhost:8080/"
        }
      },
      "execution_count": 12,
      "outputs": [
        {
          "output_type": "stream",
          "name": "stdout",
          "text": [
            "1\n",
            "outer function\n",
            "main program\n"
          ]
        }
      ]
    },
    {
      "cell_type": "code",
      "source": [
        "# nonlocal keyword\n",
        "def outer():\n",
        "  a = 1\n",
        "  def inner():\n",
        "    a += 1  # we cannot directly change a variable present in enclosing scope using local scope\n",
        "    print('inner',a)\n",
        "  inner()\n",
        "  print('outer',a)\n",
        "\n",
        "\n",
        "outer()\n",
        "print('main program')"
      ],
      "metadata": {
        "colab": {
          "base_uri": "https://localhost:8080/",
          "height": 339
        },
        "id": "mG6ONk3I4lFX",
        "outputId": "2d3f46ad-69cf-4797-d9b1-19eb7ffdf891"
      },
      "execution_count": 13,
      "outputs": [
        {
          "output_type": "error",
          "ename": "UnboundLocalError",
          "evalue": "local variable 'a' referenced before assignment",
          "traceback": [
            "\u001b[0;31m---------------------------------------------------------------------------\u001b[0m",
            "\u001b[0;31mUnboundLocalError\u001b[0m                         Traceback (most recent call last)",
            "\u001b[0;32m<ipython-input-13-0d71b4b544f2>\u001b[0m in \u001b[0;36m<cell line: 11>\u001b[0;34m()\u001b[0m\n\u001b[1;32m      9\u001b[0m \u001b[0;34m\u001b[0m\u001b[0m\n\u001b[1;32m     10\u001b[0m \u001b[0;34m\u001b[0m\u001b[0m\n\u001b[0;32m---> 11\u001b[0;31m \u001b[0mouter\u001b[0m\u001b[0;34m(\u001b[0m\u001b[0;34m)\u001b[0m\u001b[0;34m\u001b[0m\u001b[0;34m\u001b[0m\u001b[0m\n\u001b[0m\u001b[1;32m     12\u001b[0m \u001b[0mprint\u001b[0m\u001b[0;34m(\u001b[0m\u001b[0;34m'main program'\u001b[0m\u001b[0;34m)\u001b[0m\u001b[0;34m\u001b[0m\u001b[0;34m\u001b[0m\u001b[0m\n",
            "\u001b[0;32m<ipython-input-13-0d71b4b544f2>\u001b[0m in \u001b[0;36mouter\u001b[0;34m()\u001b[0m\n\u001b[1;32m      5\u001b[0m     \u001b[0ma\u001b[0m \u001b[0;34m+=\u001b[0m \u001b[0;36m1\u001b[0m\u001b[0;34m\u001b[0m\u001b[0;34m\u001b[0m\u001b[0m\n\u001b[1;32m      6\u001b[0m     \u001b[0mprint\u001b[0m\u001b[0;34m(\u001b[0m\u001b[0;34m'inner'\u001b[0m\u001b[0;34m,\u001b[0m\u001b[0ma\u001b[0m\u001b[0;34m)\u001b[0m\u001b[0;34m\u001b[0m\u001b[0;34m\u001b[0m\u001b[0m\n\u001b[0;32m----> 7\u001b[0;31m   \u001b[0minner\u001b[0m\u001b[0;34m(\u001b[0m\u001b[0;34m)\u001b[0m\u001b[0;34m\u001b[0m\u001b[0;34m\u001b[0m\u001b[0m\n\u001b[0m\u001b[1;32m      8\u001b[0m   \u001b[0mprint\u001b[0m\u001b[0;34m(\u001b[0m\u001b[0;34m'outer'\u001b[0m\u001b[0;34m,\u001b[0m\u001b[0ma\u001b[0m\u001b[0;34m)\u001b[0m\u001b[0;34m\u001b[0m\u001b[0;34m\u001b[0m\u001b[0m\n\u001b[1;32m      9\u001b[0m \u001b[0;34m\u001b[0m\u001b[0m\n",
            "\u001b[0;32m<ipython-input-13-0d71b4b544f2>\u001b[0m in \u001b[0;36minner\u001b[0;34m()\u001b[0m\n\u001b[1;32m      3\u001b[0m   \u001b[0ma\u001b[0m \u001b[0;34m=\u001b[0m \u001b[0;36m1\u001b[0m\u001b[0;34m\u001b[0m\u001b[0;34m\u001b[0m\u001b[0m\n\u001b[1;32m      4\u001b[0m   \u001b[0;32mdef\u001b[0m \u001b[0minner\u001b[0m\u001b[0;34m(\u001b[0m\u001b[0;34m)\u001b[0m\u001b[0;34m:\u001b[0m\u001b[0;34m\u001b[0m\u001b[0;34m\u001b[0m\u001b[0m\n\u001b[0;32m----> 5\u001b[0;31m     \u001b[0ma\u001b[0m \u001b[0;34m+=\u001b[0m \u001b[0;36m1\u001b[0m\u001b[0;34m\u001b[0m\u001b[0;34m\u001b[0m\u001b[0m\n\u001b[0m\u001b[1;32m      6\u001b[0m     \u001b[0mprint\u001b[0m\u001b[0;34m(\u001b[0m\u001b[0;34m'inner'\u001b[0m\u001b[0;34m,\u001b[0m\u001b[0ma\u001b[0m\u001b[0;34m)\u001b[0m\u001b[0;34m\u001b[0m\u001b[0;34m\u001b[0m\u001b[0m\n\u001b[1;32m      7\u001b[0m   \u001b[0minner\u001b[0m\u001b[0;34m(\u001b[0m\u001b[0;34m)\u001b[0m\u001b[0;34m\u001b[0m\u001b[0;34m\u001b[0m\u001b[0m\n",
            "\u001b[0;31mUnboundLocalError\u001b[0m: local variable 'a' referenced before assignment"
          ]
        }
      ]
    },
    {
      "cell_type": "code",
      "source": [
        "# nonlocal keyword\n",
        "def outer():\n",
        "  a = 1\n",
        "  def inner():\n",
        "    nonlocal a  # we can change a variable present in enclosing scope using local scope using nonlocal keyword\n",
        "    a += 1\n",
        "    print('inner',a)\n",
        "  inner()\n",
        "  print('outer',a)\n",
        "\n",
        "\n",
        "outer()\n",
        "print('main program')"
      ],
      "metadata": {
        "id": "os8aAsKQbC7g",
        "outputId": "0e836656-856c-4e27-cb50-287c08c92945",
        "colab": {
          "base_uri": "https://localhost:8080/"
        }
      },
      "execution_count": 14,
      "outputs": [
        {
          "output_type": "stream",
          "name": "stdout",
          "text": [
            "inner 2\n",
            "outer 2\n",
            "main program\n"
          ]
        }
      ]
    },
    {
      "cell_type": "markdown",
      "source": [
        "### Decorators\n",
        "\n",
        "A decorator in python is a function that receives another function as input and adds some functionality(decoration) to and it and returns it.\n",
        "\n",
        "This can happen only because python functions are 1st class citizens. First class citizens are those objects on which we can perform all functionality.\n",
        "\n",
        "There are 2 types of decorators available in python\n",
        "- `Built in decorators` like `@staticmethod`, `@classmethod`, `@abstractmethod` and `@property` etc\n",
        "- `User defined decorators` that we programmers can create according to our needs"
      ],
      "metadata": {
        "id": "v2I4_MetLUYb"
      }
    },
    {
      "cell_type": "code",
      "source": [
        "# Python are 1st class function\n",
        "\n",
        "def func():\n",
        "  print(\"Hello\")\n",
        "\n",
        "a=func\n",
        "a()"
      ],
      "metadata": {
        "id": "hPczeVEdfBIy",
        "outputId": "36288844-a97b-4177-ca0f-c6c688aa398e",
        "colab": {
          "base_uri": "https://localhost:8080/"
        }
      },
      "execution_count": 15,
      "outputs": [
        {
          "output_type": "stream",
          "name": "stdout",
          "text": [
            "Hello\n"
          ]
        }
      ]
    },
    {
      "cell_type": "code",
      "source": [
        "# Python are 1st class function\n",
        "\n",
        "def func():\n",
        "  print(\"Hello\")\n",
        "\n",
        "del func\n",
        "func()"
      ],
      "metadata": {
        "id": "JyMruQXTfIdK",
        "outputId": "2c05db7a-ce63-4a42-9ab7-38b32e3a565e",
        "colab": {
          "base_uri": "https://localhost:8080/",
          "height": 176
        }
      },
      "execution_count": 16,
      "outputs": [
        {
          "output_type": "error",
          "ename": "NameError",
          "evalue": "name 'func' is not defined",
          "traceback": [
            "\u001b[0;31m---------------------------------------------------------------------------\u001b[0m",
            "\u001b[0;31mNameError\u001b[0m                                 Traceback (most recent call last)",
            "\u001b[0;32m<ipython-input-16-c10f73f7f3b7>\u001b[0m in \u001b[0;36m<cell line: 7>\u001b[0;34m()\u001b[0m\n\u001b[1;32m      5\u001b[0m \u001b[0;34m\u001b[0m\u001b[0m\n\u001b[1;32m      6\u001b[0m \u001b[0;32mdel\u001b[0m \u001b[0mfunc\u001b[0m\u001b[0;34m\u001b[0m\u001b[0;34m\u001b[0m\u001b[0m\n\u001b[0;32m----> 7\u001b[0;31m \u001b[0mfunc\u001b[0m\u001b[0;34m(\u001b[0m\u001b[0;34m)\u001b[0m\u001b[0;34m\u001b[0m\u001b[0;34m\u001b[0m\u001b[0m\n\u001b[0m",
            "\u001b[0;31mNameError\u001b[0m: name 'func' is not defined"
          ]
        }
      ]
    },
    {
      "cell_type": "code",
      "source": [
        "# Python are 1st class function\n",
        "\n",
        "def modify(func,num): # we can give one function as argument to another function in python\n",
        "  return func(num)\n",
        "\n",
        "def square(num):\n",
        "  return num**2\n",
        "\n",
        "modify(square,2)"
      ],
      "metadata": {
        "colab": {
          "base_uri": "https://localhost:8080/"
        },
        "id": "PLEnpaeHUvAk",
        "outputId": "86fe9ab7-3533-4ed2-cd65-f96e8941df74"
      },
      "execution_count": null,
      "outputs": [
        {
          "output_type": "execute_result",
          "data": {
            "text/plain": [
              "4"
            ]
          },
          "metadata": {},
          "execution_count": 71
        }
      ]
    },
    {
      "cell_type": "code",
      "source": [
        "# simple example\n",
        "\n",
        "def my_decorator(func): # my_decorator function will receive an function\n",
        "  def wrapper():\n",
        "    print('***********************')\n",
        "    func()  # function will remain in memory while wrapper started its execution\n",
        "    print('***********************')\n",
        "  return wrapper\n",
        "\n",
        "def hello():\n",
        "  print('hello')\n",
        "\n",
        "def display():\n",
        "  print('hello nitish')\n",
        "\n",
        "a = my_decorator(hello) # my_decorator function will return wrapper function\n",
        "a() # we are calling inner wrapper function here\n",
        "\n",
        "b = my_decorator(display) # we can decorate any function using my_decorator\n",
        "b() # we are calling inner wrapper function here"
      ],
      "metadata": {
        "colab": {
          "base_uri": "https://localhost:8080/"
        },
        "id": "fsyP9F9z5OSe",
        "outputId": "ec17ff47-2eaa-46e4-a6c7-0eb131ff488c"
      },
      "execution_count": null,
      "outputs": [
        {
          "output_type": "stream",
          "name": "stdout",
          "text": [
            "***********************\n",
            "hello\n",
            "***********************\n",
            "***********************\n",
            "hello nitish\n",
            "***********************\n"
          ]
        }
      ]
    },
    {
      "cell_type": "markdown",
      "source": [
        "The catch here is wrapper function is able to access func() from the memory even after the execution of my_decorator function."
      ],
      "metadata": {
        "id": "odzG75IPiKwz"
      }
    },
    {
      "cell_type": "code",
      "source": [
        "# more functions\n",
        "def outer():\n",
        "  a=5\n",
        "  def inner():\n",
        "    print(a)\n",
        "  return inner\n",
        "\n",
        "b=outer()\n",
        "b()"
      ],
      "metadata": {
        "id": "3wh7a0paP4wv",
        "outputId": "b550ca33-1019-4169-b0b4-8e3180552d71",
        "colab": {
          "base_uri": "https://localhost:8080/"
        }
      },
      "execution_count": 17,
      "outputs": [
        {
          "output_type": "stream",
          "name": "stdout",
          "text": [
            "5\n"
          ]
        }
      ]
    },
    {
      "cell_type": "markdown",
      "source": [
        "When a function removes from memory after its complete execution then all its variable also gets removed from memory.\n",
        "\n",
        "In above code, this is a special case. When a function returns its inner function then its variable and the function itself remains in the memory. As returned inner function might use its variable in future.\n",
        "\n",
        "The above code is showing the same thing (a is still accessible inside inner class).\n",
        "\n",
        "This property is known as __CLOSURE__ .\n",
        "\n",
        "In closure property, inner function can still access the variables of its parent function even after its complete execution."
      ],
      "metadata": {
        "id": "N_iiajw4i1tr"
      }
    },
    {
      "cell_type": "code",
      "source": [
        "# Better syntax?\n",
        "# simple example\n",
        "\n",
        "def my_decorator(func):\n",
        "  def wrapper():\n",
        "    print('***********************')\n",
        "    func()\n",
        "    print('***********************')\n",
        "  return wrapper\n",
        "\n",
        "@my_decorator\n",
        "def hello():\n",
        "  print('hello')\n",
        "\n",
        "hello()"
      ],
      "metadata": {
        "colab": {
          "base_uri": "https://localhost:8080/"
        },
        "id": "6xenz10AVfTp",
        "outputId": "cb2e3d25-d951-49d5-ae36-62fff01bae68"
      },
      "execution_count": null,
      "outputs": [
        {
          "output_type": "stream",
          "name": "stdout",
          "text": [
            "***********************\n",
            "hello\n",
            "***********************\n"
          ]
        }
      ]
    },
    {
      "cell_type": "code",
      "source": [
        "# anything meaningful?\n",
        "import time\n",
        "\n",
        "def timer(func):\n",
        "  def wrapper(*args):\n",
        "    start = time.time()\n",
        "    func()\n",
        "    print('time taken by',func.__name__,time.time()-start,'secs')\n",
        "  return wrapper\n",
        "\n",
        "@timer\n",
        "def hello():\n",
        "  print('hello world')\n",
        "  time.sleep(2)\n",
        "\n",
        "@timer\n",
        "def square(num):\n",
        "  time.sleep(1)\n",
        "  print(num**2)\n",
        "\n",
        "square(2)"
      ],
      "metadata": {
        "id": "lsvNmBompKHZ",
        "outputId": "a9d9a1a9-d711-45c9-ab13-eb8b0860a3f8",
        "colab": {
          "base_uri": "https://localhost:8080/",
          "height": 297
        }
      },
      "execution_count": 19,
      "outputs": [
        {
          "output_type": "error",
          "ename": "TypeError",
          "evalue": "square() missing 1 required positional argument: 'num'",
          "traceback": [
            "\u001b[0;31m---------------------------------------------------------------------------\u001b[0m",
            "\u001b[0;31mTypeError\u001b[0m                                 Traceback (most recent call last)",
            "\u001b[0;32m<ipython-input-19-bfd45b75558e>\u001b[0m in \u001b[0;36m<cell line: 21>\u001b[0;34m()\u001b[0m\n\u001b[1;32m     19\u001b[0m   \u001b[0mprint\u001b[0m\u001b[0;34m(\u001b[0m\u001b[0mnum\u001b[0m\u001b[0;34m**\u001b[0m\u001b[0;36m2\u001b[0m\u001b[0;34m)\u001b[0m\u001b[0;34m\u001b[0m\u001b[0;34m\u001b[0m\u001b[0m\n\u001b[1;32m     20\u001b[0m \u001b[0;34m\u001b[0m\u001b[0m\n\u001b[0;32m---> 21\u001b[0;31m \u001b[0msquare\u001b[0m\u001b[0;34m(\u001b[0m\u001b[0;36m2\u001b[0m\u001b[0;34m)\u001b[0m\u001b[0;34m\u001b[0m\u001b[0;34m\u001b[0m\u001b[0m\n\u001b[0m",
            "\u001b[0;32m<ipython-input-19-bfd45b75558e>\u001b[0m in \u001b[0;36mwrapper\u001b[0;34m(*args)\u001b[0m\n\u001b[1;32m      5\u001b[0m   \u001b[0;32mdef\u001b[0m \u001b[0mwrapper\u001b[0m\u001b[0;34m(\u001b[0m\u001b[0;34m*\u001b[0m\u001b[0margs\u001b[0m\u001b[0;34m)\u001b[0m\u001b[0;34m:\u001b[0m\u001b[0;34m\u001b[0m\u001b[0;34m\u001b[0m\u001b[0m\n\u001b[1;32m      6\u001b[0m     \u001b[0mstart\u001b[0m \u001b[0;34m=\u001b[0m \u001b[0mtime\u001b[0m\u001b[0;34m.\u001b[0m\u001b[0mtime\u001b[0m\u001b[0;34m(\u001b[0m\u001b[0;34m)\u001b[0m\u001b[0;34m\u001b[0m\u001b[0;34m\u001b[0m\u001b[0m\n\u001b[0;32m----> 7\u001b[0;31m     \u001b[0mfunc\u001b[0m\u001b[0;34m(\u001b[0m\u001b[0;34m)\u001b[0m\u001b[0;34m\u001b[0m\u001b[0;34m\u001b[0m\u001b[0m\n\u001b[0m\u001b[1;32m      8\u001b[0m     \u001b[0mprint\u001b[0m\u001b[0;34m(\u001b[0m\u001b[0;34m'time taken by'\u001b[0m\u001b[0;34m,\u001b[0m\u001b[0mfunc\u001b[0m\u001b[0;34m.\u001b[0m\u001b[0m__name__\u001b[0m\u001b[0;34m,\u001b[0m\u001b[0mtime\u001b[0m\u001b[0;34m.\u001b[0m\u001b[0mtime\u001b[0m\u001b[0;34m(\u001b[0m\u001b[0;34m)\u001b[0m\u001b[0;34m-\u001b[0m\u001b[0mstart\u001b[0m\u001b[0;34m,\u001b[0m\u001b[0;34m'secs'\u001b[0m\u001b[0;34m)\u001b[0m\u001b[0;34m\u001b[0m\u001b[0;34m\u001b[0m\u001b[0m\n\u001b[1;32m      9\u001b[0m   \u001b[0;32mreturn\u001b[0m \u001b[0mwrapper\u001b[0m\u001b[0;34m\u001b[0m\u001b[0;34m\u001b[0m\u001b[0m\n",
            "\u001b[0;31mTypeError\u001b[0m: square() missing 1 required positional argument: 'num'"
          ]
        }
      ]
    },
    {
      "cell_type": "code",
      "source": [
        "# anything meaningful?\n",
        "import time\n",
        "\n",
        "def timer(func):\n",
        "  def wrapper(*args):\n",
        "    start = time.time()\n",
        "    func(*args)\n",
        "    print('time taken by',func.__name__,time.time()-start,'secs')\n",
        "  return wrapper\n",
        "\n",
        "@timer\n",
        "def hello(): # we are sending hello function to timer decorator\n",
        "  print('hello world')\n",
        "  time.sleep(2)\n",
        "\n",
        "@timer\n",
        "def square(num):\n",
        "  time.sleep(1)\n",
        "  print(num**2)\n",
        "\n",
        "@timer\n",
        "def power(a,b):\n",
        "  print(a**b)\n",
        "\n",
        "hello()\n",
        "square(2)\n",
        "power(2,3)\n"
      ],
      "metadata": {
        "colab": {
          "base_uri": "https://localhost:8080/"
        },
        "id": "JGXuT9XSP3ue",
        "outputId": "9b7d2750-f969-48d1-b43d-3c5eeec0b695"
      },
      "execution_count": 18,
      "outputs": [
        {
          "output_type": "stream",
          "name": "stdout",
          "text": [
            "hello world\n",
            "time taken by hello 2.0013527870178223 secs\n",
            "4\n",
            "time taken by square 1.0012319087982178 secs\n",
            "8\n",
            "time taken by power 3.4809112548828125e-05 secs\n"
          ]
        }
      ]
    },
    {
      "cell_type": "markdown",
      "source": [
        "## func.__ name__  : This is how we print a function actual name"
      ],
      "metadata": {
        "id": "CzDhAMd1oEk_"
      }
    },
    {
      "cell_type": "code",
      "source": [
        "# One last example -> decorators with arguments"
      ],
      "metadata": {
        "id": "WDb2Cn_PQAA9"
      },
      "execution_count": null,
      "outputs": []
    },
    {
      "cell_type": "code",
      "source": [
        "def sanity_check(data_type):\n",
        "  def outer_wrapper(func):\n",
        "    def inner_wrapper(*args):\n",
        "      if type(*args) == data_type:\n",
        "        func(*args)\n",
        "      else:\n",
        "        raise TypeError('This datatype will not work.')\n",
        "    return inner_wrapper\n",
        "  return outer_wrapper\n",
        "\n",
        "@sanity_check(int)\n",
        "def square(num):\n",
        "  print(num**2)\n",
        "\n",
        "square(\"Hello\")"
      ],
      "metadata": {
        "colab": {
          "base_uri": "https://localhost:8080/",
          "height": 297
        },
        "id": "hjjt65fYSri2",
        "outputId": "def72dd2-a4ed-4e7f-8ddf-164f309f6b5e"
      },
      "execution_count": 20,
      "outputs": [
        {
          "output_type": "error",
          "ename": "TypeError",
          "evalue": "This datatype will not work.",
          "traceback": [
            "\u001b[0;31m---------------------------------------------------------------------------\u001b[0m",
            "\u001b[0;31mTypeError\u001b[0m                                 Traceback (most recent call last)",
            "\u001b[0;32m<ipython-input-20-a90476888109>\u001b[0m in \u001b[0;36m<cell line: 15>\u001b[0;34m()\u001b[0m\n\u001b[1;32m     13\u001b[0m   \u001b[0mprint\u001b[0m\u001b[0;34m(\u001b[0m\u001b[0mnum\u001b[0m\u001b[0;34m**\u001b[0m\u001b[0;36m2\u001b[0m\u001b[0;34m)\u001b[0m\u001b[0;34m\u001b[0m\u001b[0;34m\u001b[0m\u001b[0m\n\u001b[1;32m     14\u001b[0m \u001b[0;34m\u001b[0m\u001b[0m\n\u001b[0;32m---> 15\u001b[0;31m \u001b[0msquare\u001b[0m\u001b[0;34m(\u001b[0m\u001b[0;34m\"Hello\"\u001b[0m\u001b[0;34m)\u001b[0m\u001b[0;34m\u001b[0m\u001b[0;34m\u001b[0m\u001b[0m\n\u001b[0m",
            "\u001b[0;32m<ipython-input-20-a90476888109>\u001b[0m in \u001b[0;36minner_wrapper\u001b[0;34m(*args)\u001b[0m\n\u001b[1;32m      5\u001b[0m         \u001b[0mfunc\u001b[0m\u001b[0;34m(\u001b[0m\u001b[0;34m*\u001b[0m\u001b[0margs\u001b[0m\u001b[0;34m)\u001b[0m\u001b[0;34m\u001b[0m\u001b[0;34m\u001b[0m\u001b[0m\n\u001b[1;32m      6\u001b[0m       \u001b[0;32melse\u001b[0m\u001b[0;34m:\u001b[0m\u001b[0;34m\u001b[0m\u001b[0;34m\u001b[0m\u001b[0m\n\u001b[0;32m----> 7\u001b[0;31m         \u001b[0;32mraise\u001b[0m \u001b[0mTypeError\u001b[0m\u001b[0;34m(\u001b[0m\u001b[0;34m'This datatype will not work.'\u001b[0m\u001b[0;34m)\u001b[0m\u001b[0;34m\u001b[0m\u001b[0;34m\u001b[0m\u001b[0m\n\u001b[0m\u001b[1;32m      8\u001b[0m     \u001b[0;32mreturn\u001b[0m \u001b[0minner_wrapper\u001b[0m\u001b[0;34m\u001b[0m\u001b[0;34m\u001b[0m\u001b[0m\n\u001b[1;32m      9\u001b[0m   \u001b[0;32mreturn\u001b[0m \u001b[0mouter_wrapper\u001b[0m\u001b[0;34m\u001b[0m\u001b[0;34m\u001b[0m\u001b[0m\n",
            "\u001b[0;31mTypeError\u001b[0m: This datatype will not work."
          ]
        }
      ]
    },
    {
      "cell_type": "code",
      "source": [
        "def sanity_check(data_type):\n",
        "  def outer_wrapper(func):\n",
        "    def inner_wrapper(*args):\n",
        "      if type(*args) == data_type:\n",
        "        func(*args)\n",
        "      else:\n",
        "        raise TypeError('This datatype will not work.')\n",
        "    return inner_wrapper\n",
        "  return outer_wrapper\n",
        "\n",
        "@sanity_check(int)\n",
        "def square(num):\n",
        "  print(num**2)\n",
        "\n",
        "square(2)"
      ],
      "metadata": {
        "id": "SVSY1urVsW33",
        "outputId": "19844310-d581-4e18-e695-36e0c12d3b8b",
        "colab": {
          "base_uri": "https://localhost:8080/"
        }
      },
      "execution_count": 21,
      "outputs": [
        {
          "output_type": "stream",
          "name": "stdout",
          "text": [
            "4\n"
          ]
        }
      ]
    },
    {
      "cell_type": "code",
      "source": [
        "def sanity_check(data_type):\n",
        "  def outer_wrapper(func):\n",
        "    def inner_wrapper(*args):\n",
        "      if type(*args) == data_type:\n",
        "        func(*args)\n",
        "      else:\n",
        "        raise TypeError('This datatype will not work.')\n",
        "    return inner_wrapper\n",
        "  return outer_wrapper\n",
        "\n",
        "@sanity_check(int)\n",
        "def square(num):\n",
        "  print(num**2)\n",
        "\n",
        "@sanity_check(str)\n",
        "def greet(name):\n",
        "  print('Hello',name)\n",
        "\n",
        "greet('Deepa Gupta')"
      ],
      "metadata": {
        "id": "HOj99VmFsNGR",
        "outputId": "7ce49e77-c9e3-4f8b-bc6b-a36f902d3841",
        "colab": {
          "base_uri": "https://localhost:8080/"
        }
      },
      "execution_count": 23,
      "outputs": [
        {
          "output_type": "stream",
          "name": "stdout",
          "text": [
            "Hello Deepa Gupta\n"
          ]
        }
      ]
    }
  ]
}