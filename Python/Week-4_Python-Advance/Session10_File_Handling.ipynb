{
  "nbformat": 4,
  "nbformat_minor": 0,
  "metadata": {
    "colab": {
      "provenance": []
    },
    "kernelspec": {
      "name": "python3",
      "display_name": "Python 3"
    },
    "language_info": {
      "name": "python"
    }
  },
  "cells": [
    {
      "cell_type": "markdown",
      "source": [
        "### Some Theory\n",
        "\n",
        "##### Types of data used for I/O:\n",
        "- Text - '12345' as a sequence of unicode chars\n",
        "- Binary - 12345 as a sequence of bytes of its binary equivalent\n",
        "\n",
        "##### Hence there are 2 file types to deal with\n",
        "- Text files - All program files are text files\n",
        "- Binary Files - Images,music,video,exe files"
      ],
      "metadata": {
        "id": "lSNbVZA81hp2"
      }
    },
    {
      "cell_type": "markdown",
      "source": [
        "### How File I/O is done in most programming languages\n",
        "\n",
        "- Open a file\n",
        "- Read/Write data\n",
        "- Close the file"
      ],
      "metadata": {
        "id": "lYCpq5aK2Hic"
      }
    },
    {
      "cell_type": "markdown",
      "source": [
        "### Writing to a file"
      ],
      "metadata": {
        "id": "xvnsasXQ2phi"
      }
    },
    {
      "cell_type": "code",
      "source": [
        "# case 1 - if the file is not present\n",
        "f = open('sample.txt','w')\n",
        "f.write('Hello world')\n",
        "f.close()"
      ],
      "metadata": {
        "id": "sEk5qT2xCfaF"
      },
      "execution_count": 39,
      "outputs": []
    },
    {
      "cell_type": "markdown",
      "source": [
        "![image.png](data:image/png;base64,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)"
      ],
      "metadata": {
        "id": "2uI5-bGI3cH7"
      }
    },
    {
      "cell_type": "markdown",
      "source": [
        "We can specify a path where we want to create our sample.txt file. In above code sample.txt file will be created in the current directory in which this coding file is present."
      ],
      "metadata": {
        "id": "vvAY8oqpCixC"
      }
    },
    {
      "cell_type": "code",
      "source": [
        "# case 1 - if the file is not present\n",
        "f = open('sample.txt','w')\n",
        "f.write('Hello world')\n",
        "f.close()\n",
        "# since file is closed hence this will not work\n",
        "f.write('hello')"
      ],
      "metadata": {
        "colab": {
          "base_uri": "https://localhost:8080/",
          "height": 176
        },
        "id": "lZTUPJ_K2DEv",
        "outputId": "ee62406e-3b44-4087-c4b1-aeae4722357f"
      },
      "execution_count": 40,
      "outputs": [
        {
          "output_type": "error",
          "ename": "ValueError",
          "evalue": "I/O operation on closed file.",
          "traceback": [
            "\u001b[0;31m---------------------------------------------------------------------------\u001b[0m",
            "\u001b[0;31mValueError\u001b[0m                                Traceback (most recent call last)",
            "\u001b[0;32m<ipython-input-40-d0dbc132c7dd>\u001b[0m in \u001b[0;36m<cell line: 6>\u001b[0;34m()\u001b[0m\n\u001b[1;32m      4\u001b[0m \u001b[0mf\u001b[0m\u001b[0;34m.\u001b[0m\u001b[0mclose\u001b[0m\u001b[0;34m(\u001b[0m\u001b[0;34m)\u001b[0m\u001b[0;34m\u001b[0m\u001b[0;34m\u001b[0m\u001b[0m\n\u001b[1;32m      5\u001b[0m \u001b[0;31m# since file is closed hence this will not work\u001b[0m\u001b[0;34m\u001b[0m\u001b[0;34m\u001b[0m\u001b[0m\n\u001b[0;32m----> 6\u001b[0;31m \u001b[0mf\u001b[0m\u001b[0;34m.\u001b[0m\u001b[0mwrite\u001b[0m\u001b[0;34m(\u001b[0m\u001b[0;34m'hello'\u001b[0m\u001b[0;34m)\u001b[0m\u001b[0;34m\u001b[0m\u001b[0;34m\u001b[0m\u001b[0m\n\u001b[0m",
            "\u001b[0;31mValueError\u001b[0m: I/O operation on closed file."
          ]
        }
      ]
    },
    {
      "cell_type": "code",
      "source": [
        "# write multiline strings\n",
        "f = open('sample1.txt','w')\n",
        "f.write('hello world')\n",
        "f.write('\\nhow are you?')\n",
        "f.close()"
      ],
      "metadata": {
        "id": "vFnaFPjR3fH9"
      },
      "execution_count": 41,
      "outputs": []
    },
    {
      "cell_type": "markdown",
      "source": [
        "![image.png](data:image/png;base64,iVBORw0KGgoAAAANSUhEUgAAAIEAAABNCAYAAACBigefAAAAAXNSR0IArs4c6QAAAARnQU1BAACxjwv8YQUAAAAJcEhZcwAADsMAAA7DAcdvqGQAAAxfSURBVHhe7ZxrbBRVG8f/gIpVFG+wSL2MAvqCRali6w27oX5QP1ipEYpEWhUTjMFKRAia1E0/2PBGg1g1EDUpIW9oMVLX+4XCVkBcIhShpMp1vYAUMIIIJXjhPf9nz2xnt93dKd2ubTk/MtmZMzNnz5zzP8/znNmn9DmpgOG0pq/+NJzGGBEYjAgMRgQGhRGBoWeK4P3338eTTz6JXbt26RJDZzgtLMGRI0ewYcMGvPbaa3j22WcTiofnKDAKzQ2s99FHH5XPjsLV+V9//aWP2ofnu3oV3+tF8Ntvv6G8vBxvvvkmvvvuOxw7dkyf+Xf5559/8MEHH6CsrAz79u3TpdGwnOd5Ha/vKly/LOJl69atw7Jly/D777/jwgsvxAMPPIBbb70Vffr0kQ6uqanBjz/+iDPPPBNerxeFhYU466yzsHDhQmzbtg033nij1PHnn39i/PjxGDVqFKqrq9Hc3Iyrr74a06dPx8UXXyyzivfccccdaGhowB9//IEbbrgBDz/8MC644AKZpZ999hmeeeYZuY+z5dNPP8Xnn3+Oo0ePwrIsPPbYYxg6dChOnDiBQ4cO4ZJLLsGHH34YdV8srPe9997TR8CIESPw4IMPigUZNmwYnnjiCanrpZdeknacd955URYgJydHnsEtHORXXnlF9p9++mkMGTJE9kmic6mmn0+h9xOyfft2LFq0CNnZ2dLB+/fvx4oVK3DNNdfg77//xquvvoqMjAwxpQMGDMAXX3yBc889Vzrvm2++ETPr8Xhw11134ddff8XGjRuxY8cOOb700kuxadMmHD9+HGPGjMEvv/yCYDAos/aee+6RDuAxB4Dn2ZadO3fitttuEzHW1dXB7/dj3LhxuPPOO+U8rx87dqy0gRuF+v3330fdF8sVV1whA79582Zp15QpU+S7KVqKd/jw4VIvBV9cXIy8vDwMHjwY3377rRyzrRS9W9hPWVlZ+Prrr2XjPsvSKQDi2h3Qr3LG3XTTTdJZU6dOFV/I2XD++efj+eefx6xZs2SG0QoMHDhQOtyGM4eWgwNw7733imXJz8+Xzi4oKMCVV16JvXv3oqWlRd8BsSQ8z9nIDqI1OXz4sD4bhjN/7dq1YlV4HYVw3333iXXpaOBIEfN5yNlnny37FA8H+6KLLsLbb7+N+vp6sWgUP8XFQSP85HFH4QBzoAkHnpMhnQIgrkVAE8sG0TRWVFTI7ObAcBb3798fP/zwg/heWgmaW852J3379pXNCU20Tew5csYZZ8hnv3795PtpGWgNnNDnc2PnPf744yLMN954Q3xoqvwoBX333XfLd9PVcZ9tShVOIdCiknQJgLgWAX01Z/u0adOkA+jLn3vuOfz888/YvXs33nrrLVx11VWorKzEyy+/LNenA1onDnZubq58r3MbPXq0vqrz0FURugZuvQnXIli5ciVqa2ulY2fPno3S0lIx3fSHnIncp6s455xzUjYL7eUTY45QKCR10604oZmmO6L5p0Wir+c1FGpH/HMiDh48KHHH5ZdfLm346KOPIm1LBc4Y4KmnnpJPHrM8HbgWAf3dqlWrJABj4MbB50BnZmaK/6TpDgQCWL16NaqqqkQYyUj2kOxs1vfOO++gsbFRBBgb0FEAXKFwVcLA9auvvhLf/cILL+Cnn37SV8WHbuvFF1+U1QWx3Rbjma1bt8pgf/zxxxKLPPTQQxKjbNmyRdyPfT3jBgaTDEg7SmwQyMDXGSOkQwiuRXDzzTdLBLx+/XpxC4xmGehdf/31kaCMgdiSJUtkoBg82hYiHpzhibjsssvw7rvvyiqES0QGiuzwWOij77///ohb4mAUFRXJ/cmgmedMt0XLe2jRKIBPPvlEglGuCBgMcqVzyy23YNCgQSJQLl2vvfZaef41a9bgyy+/lDrcEisAOwZwxghpEQLfE3Q3VNB58pFHHpHP3oqaACeVVT05d+7ck8qy6tJoWM7zvI7XdxXdMrOIL2Bef/11eefAWdlbYdfTGtqroPagO2J8054FTBWu3YEh9XBgEwmA8HxXCoCYHEODsQQGIwKDwojAYERgMCIwKIwIDEYEhjjvCXbvP4FVW49g3faj2LDrGPYd6l0/nfYmRgzpD2twf4z7zwBMG39qP9/HfVk0dPoWvWfoKexdeGr5E8YdGNBn27Zt5rXxaU6flpYWI4LTHOMODEYEBiMCgyLFImhGzZQMzFuvDztMEPMyMuSPQDIyilCzRxdrmpcV6XNqqwjq0h7AnhoURZ5rnnrKxAQrMlC0rFkfdT1JRdBUU4ayskrUH9AFXUou5rS0oKUlgPb+Ns4zsVoSV0OLC3RJDyFzEqr5XDuq0B1bnkAETVhaVoZNnnwM0iWG3klcETTVrMDQGeWYfJ0u6BBOsx5r/pznUmz2osyu2ty6jPXzkDGlRjmzaMT9ROqIbnfU9fK9fE7HNe3UF5+wG7Xr9pbr4jQRVwQjJ81A3imaAF/efFg7aNZDqCr0YX5koPmwXjQsDolZp9nPLrY6EUM4UQMwvATZ9axXu5RyrzuRZVooWB5CSB+2Jbbd6rlQAitKZD54M+znVt+9vARVLp8rWGGhJCug625BoEyfSBMpDgzD+OqrMSmTex54Cwrg36m7d08Atar7Fkz0hI9VDFCi/LuvzuWMTUDzsvnwFaqhydEFjC/qffD7A8lnpBJBtt51WoXQTj8KhlmqTNW73IeZkXZ7MOm/yr+XB5T0Wml97lx41UA2hFwIUFmR+eU+BObm6oL00yUiiMueEPxqhli2yVSbVezXJ1NAlqWG51SwYBU2IKRWI8E6NZhZrVYh29I1FqprwntxUJYgIkAlg7ktqI6IpnuTXhEQNVtD2uxFtlTNgsZQ1KxvDjXovWR4YGX5lQiCCDQq05wPBNY3I9RYAEtmtiLWXVDQerenk14R5HjFV5Z2wRrYc/sE5dedfjiIKmVlfKWT3FuHkBrmAi88yj001CmxLs8Oi4DtVv+iYpsFPhQsLlGGv5OIK1LuQLebwWi3CQwPBCrlP00qq6zDAfWvrjIV7wv4HiAcDNrugFskMKQ/ljJ2uh8lw7lvvzRqjaDFhaigT661gzOuxdU6vCEvfA3rYCA3x2GiE2ENU7FJcS2s25VkMr2Y0KiGPeICYtsdDuTcmvvISy4VuCpZqgCSddirpnDs4tPttnbOTPt7EPMrouFfiAkM3Q4jAoMRgcGIwKAwIjAYERiMCAwKIwJDqkUQfquXmp+GDREceRJd0bcJRHAA9fKqWG81TbrckHYc6Wl8LZ7q/MO4IjgQqMbm0TPkP60uL5+MkVuXojKQlkRDQzwoBuZIFFdF5TF0lrgiGOSdgRleO7VoJMZcp4TRfFAfJyNBelm8FLBIilYMcVK/2icmBcyZ+eMiBSwqm7m9trRL2AVGz862Zcwgbq3bmUnd1oVGp7XFwCwohHMfUkWXBIbx08sSpIDJT6qde7hgRQDeSJ5CuO5oH5ogBUyJzSrORkDfH1rcAK8r8ensKWcGEzOolhdgAn+RVMjPw42teRShxUDJcLcii0HyGPRP3CnCnQialmLp1kHIHz9SFyQmXnpZ4hQwZvfoYodVkMQQlxlDuXPnOH7fbz/FK14KWLDOp8613u+ZOFOJpBYBF6KMvbZ5bS38ZTP197TNa/BMXCCTw84hcIX9M3tedDtTQXIRHKhH5dImjJx86omnUcQdUDu7h50YQrYaINsqSJ6fGyL5COGtbXJGvBQwZhHRgrXeG85pcAsF5UftWgqqGQE/UDXVOUyODKXOUBZORnWbI+GWxCKgACrrgPEzMNmdEUhOghQwJnY0hILSid6pFkKqU5nsGcnzSwSth8wS2x10PGvXeW94s61GcnLztUWTZNoJ8EbdFxZ3KyGElutdt+TMSV0aXgzxReAQQGuA2DncpYCpDsryIlfFCPBXIeDM80uK41plFdynaYXdli/vFP00yVHPhRKUzq5FdtTzhN2Ob0FrfNHWLTrclsQmbbMXw4FlJ9qXgLgiaFrJtDKlhZU6zUy2TqaXJUkB81jZavlTAuRT8arzstTMtvP8kqHqnqlMcjglTW0LLFR1wBLwT9wkGIy4A7V16A9IdPyj2ut0OYRuJ5DVmmUtAej/bKGE09dhp66pdgdMelnPhasA5gh2ldnuKtytDgzJUTFJaXFsQNgzMCLoLLKcVWZc3n+4DyS7E8YdGIwlMBgRGBRGBAYjAoMRgUFhRGAwIjAYERgA/B/UxwC7+PyNgwAAAABJRU5ErkJggg==)"
      ],
      "metadata": {
        "id": "ZpSUUyiK3mnu"
      }
    },
    {
      "cell_type": "code",
      "source": [
        "# case 2 - if the file is already present\n",
        "f = open('sample.txt','w')\n",
        "f.write('salman khan') # now the previous content will get replaced with new content.\n",
        "f.close()"
      ],
      "metadata": {
        "id": "bGSwQIAk24Le"
      },
      "execution_count": 42,
      "outputs": []
    },
    {
      "cell_type": "markdown",
      "source": [
        "![image.png](data:image/png;base64,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)"
      ],
      "metadata": {
        "id": "VP1KH2ot3tuH"
      }
    },
    {
      "cell_type": "markdown",
      "source": [
        "### how exactly open() works?\n",
        "\n",
        "All files exists in harddrive of the computer. Python loads the file from harddrive to buffer memory. In buffer memory, files reads character by character from starting. Then we perform some desired operation. After that, we close the file which means file gets removed from the buffer memory and store back to harddisk."
      ],
      "metadata": {
        "id": "PSTNM0kNEA9J"
      }
    },
    {
      "cell_type": "code",
      "source": [
        "# Problem with w mode\n",
        "# The previous content will get replaced with new content.\n",
        "# introducing append mode\n",
        "f = open('/content/sample1.txt','a')\n",
        "f.write('\\nI am fine')\n",
        "f.close()"
      ],
      "metadata": {
        "id": "KZViVfpm4D8F"
      },
      "execution_count": 43,
      "outputs": []
    },
    {
      "cell_type": "markdown",
      "source": [
        "![image.png](data:image/png;base64,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)"
      ],
      "metadata": {
        "id": "XUN4SWQ-32K3"
      }
    },
    {
      "cell_type": "code",
      "source": [
        "# write lines\n",
        "L = ['hello\\n','hi\\n','how are you\\n','I am fine']\n",
        "\n",
        "f = open('/content/sample.txt','w')\n",
        "f.writelines(L)  # writing multiple lines\n",
        "f.close()"
      ],
      "metadata": {
        "id": "JDseN1dP4SXR"
      },
      "execution_count": 44,
      "outputs": []
    },
    {
      "cell_type": "markdown",
      "source": [
        "![image.png](data:image/png;base64,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)"
      ],
      "metadata": {
        "id": "T-14NuCq4Byx"
      }
    },
    {
      "cell_type": "markdown",
      "source": [
        "### Advantage of closing file everytime.\n",
        "\n",
        "1) Using file.close() we remove file from the buffer memory so that it will takr unrecessarry step.\n",
        "\n",
        "2) If file is in ram then one can access it or hack it and he will change the file."
      ],
      "metadata": {
        "id": "RMRMJsBhGWIY"
      }
    },
    {
      "cell_type": "code",
      "source": [
        "# reading from files\n",
        "# -> using read()\n",
        "f = open('/content/sample.txt','r')\n",
        "s = f.read()\n",
        "print(s)\n",
        "f.close()"
      ],
      "metadata": {
        "colab": {
          "base_uri": "https://localhost:8080/"
        },
        "id": "yRu-TvOL6SFu",
        "outputId": "4b58fcc3-6cd5-4821-c048-67b5fa1f5353"
      },
      "execution_count": 45,
      "outputs": [
        {
          "output_type": "stream",
          "name": "stdout",
          "text": [
            "hello\n",
            "hi\n",
            "how are you\n",
            "I am fine\n"
          ]
        }
      ]
    },
    {
      "cell_type": "markdown",
      "source": [
        "## Text files only understands texual(string) data, they dont understand any other data type.\n",
        "\n",
        "Read function will return a string. We will either print it or save it in a variable."
      ],
      "metadata": {
        "id": "WuJd38rJbNMi"
      }
    },
    {
      "cell_type": "code",
      "source": [
        "# reading upto n chars\n",
        "f = open('/content/sample.txt','r')\n",
        "s = f.read(10)\n",
        "print(s)\n",
        "f.close()"
      ],
      "metadata": {
        "colab": {
          "base_uri": "https://localhost:8080/"
        },
        "id": "lDqYZe_46thB",
        "outputId": "b5a98147-2ade-4bc0-dcee-4bc1ed16ade8"
      },
      "execution_count": 46,
      "outputs": [
        {
          "output_type": "stream",
          "name": "stdout",
          "text": [
            "hello\n",
            "hi\n",
            "h\n"
          ]
        }
      ]
    },
    {
      "cell_type": "code",
      "source": [
        "# readline() -> to read line by line\n",
        "f = open('/content/sample.txt','r')\n",
        "print(f.readline()) # here we see 2 line gap between the 2 sentence.\n",
        "print(f.readline()) # because one /n will apply by readline() and another /n will apply by print()\n",
        "f.close()"
      ],
      "metadata": {
        "colab": {
          "base_uri": "https://localhost:8080/"
        },
        "id": "3OrGQIzfcEHL",
        "outputId": "39cebf58-e632-42fe-d70a-cd1c1240b3f6"
      },
      "execution_count": 47,
      "outputs": [
        {
          "output_type": "stream",
          "name": "stdout",
          "text": [
            "hello\n",
            "\n",
            "hi\n",
            "\n"
          ]
        }
      ]
    },
    {
      "cell_type": "code",
      "source": [
        "# readline() -> to read line by line\n",
        "f = open('/content/sample.txt','r')\n",
        "print(f.readline(),end='')\n",
        "print(f.readline(),end='')\n",
        "f.close()"
      ],
      "metadata": {
        "colab": {
          "base_uri": "https://localhost:8080/"
        },
        "id": "no-ZCUat62-x",
        "outputId": "36a39f3e-0bb3-4d07-ebb5-001a20a38316"
      },
      "execution_count": 48,
      "outputs": [
        {
          "output_type": "stream",
          "name": "stdout",
          "text": [
            "hello\n",
            "hi\n"
          ]
        }
      ]
    },
    {
      "cell_type": "markdown",
      "source": [
        "### we generally use readline when we have very large dataset. So that we dont have to upload all data in memory at once.\n",
        "\n",
        "### when we have small dataset then we will use read funtion"
      ],
      "metadata": {
        "id": "n6pERovldQTS"
      }
    },
    {
      "cell_type": "code",
      "source": [
        "# reading entire using readline\n",
        "f = open('/content/sample.txt','r')\n",
        "\n",
        "while True:\n",
        "\n",
        "  data = f.readline()\n",
        "\n",
        "  if data == '':\n",
        "    break\n",
        "  else:\n",
        "    print(data,end='')\n",
        "\n",
        "f.close()"
      ],
      "metadata": {
        "colab": {
          "base_uri": "https://localhost:8080/"
        },
        "id": "CsuRSq9m7NJF",
        "outputId": "6e6501d5-2784-4f4e-f344-60649026f488"
      },
      "execution_count": 49,
      "outputs": [
        {
          "output_type": "stream",
          "name": "stdout",
          "text": [
            "hello\n",
            "hi\n",
            "how are you\n",
            "I am fine"
          ]
        }
      ]
    },
    {
      "cell_type": "markdown",
      "source": [
        "### Using Context Manager (With)\n",
        "\n",
        "- It's a good idea to close a file after usage as it will free up the resources\n",
        "- If we dont close it, garbage collector would close it\n",
        "- with keyword closes the file as soon as the usage is over\n",
        "- with is replacement of file.close()"
      ],
      "metadata": {
        "id": "VoRlMzQq78in"
      }
    },
    {
      "cell_type": "code",
      "source": [
        "# with\n",
        "with open('/content/sample1.txt','w') as f:\n",
        "  f.write('Deepa Gupta')  # it will close the file automatically"
      ],
      "metadata": {
        "id": "xwAf8ljv7eop"
      },
      "execution_count": 50,
      "outputs": []
    },
    {
      "cell_type": "markdown",
      "source": [
        "![image.png](data:image/png;base64,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)"
      ],
      "metadata": {
        "id": "nJIYPL454TXc"
      }
    },
    {
      "cell_type": "code",
      "source": [
        "f.write('hello')"
      ],
      "metadata": {
        "colab": {
          "base_uri": "https://localhost:8080/",
          "height": 141
        },
        "id": "M2kGnEjwzuzA",
        "outputId": "13541def-c3d4-434a-d343-b157bbf146df"
      },
      "execution_count": 51,
      "outputs": [
        {
          "output_type": "error",
          "ename": "ValueError",
          "evalue": "I/O operation on closed file.",
          "traceback": [
            "\u001b[0;31m---------------------------------------------------------------------------\u001b[0m",
            "\u001b[0;31mValueError\u001b[0m                                Traceback (most recent call last)",
            "\u001b[0;32m<ipython-input-51-00cba062fa3d>\u001b[0m in \u001b[0;36m<cell line: 1>\u001b[0;34m()\u001b[0m\n\u001b[0;32m----> 1\u001b[0;31m \u001b[0mf\u001b[0m\u001b[0;34m.\u001b[0m\u001b[0mwrite\u001b[0m\u001b[0;34m(\u001b[0m\u001b[0;34m'hello'\u001b[0m\u001b[0;34m)\u001b[0m\u001b[0;34m\u001b[0m\u001b[0;34m\u001b[0m\u001b[0m\n\u001b[0m",
            "\u001b[0;31mValueError\u001b[0m: I/O operation on closed file."
          ]
        }
      ]
    },
    {
      "cell_type": "code",
      "source": [
        "# try f.read() now\n",
        "with open('/content/sample.txt','r') as f:\n",
        "  print(f.readline())"
      ],
      "metadata": {
        "colab": {
          "base_uri": "https://localhost:8080/"
        },
        "id": "woeWzxAA8Yr7",
        "outputId": "a9d5639f-d106-431e-8eb7-c8ea78b63765"
      },
      "execution_count": 52,
      "outputs": [
        {
          "output_type": "stream",
          "name": "stdout",
          "text": [
            "hello\n",
            "\n"
          ]
        }
      ]
    },
    {
      "cell_type": "code",
      "source": [
        "# moving within a file -> 10 char then 10 char\n",
        "with open('sample.txt','r') as f:\n",
        "  print(f.read(10))\n",
        "  print(f.read(10)) # next 10 characters\n",
        "  print(f.read(10)) # next 10 characters\n",
        "  print(f.read(10)) # next 10 characters"
      ],
      "metadata": {
        "colab": {
          "base_uri": "https://localhost:8080/"
        },
        "id": "NEWlmJK78a34",
        "outputId": "ff0fa7ba-5741-4381-f72d-818938e51f64"
      },
      "execution_count": 53,
      "outputs": [
        {
          "output_type": "stream",
          "name": "stdout",
          "text": [
            "hello\n",
            "hi\n",
            "h\n",
            "ow are you\n",
            "\n",
            "I am fine\n",
            "\n"
          ]
        }
      ]
    },
    {
      "cell_type": "code",
      "source": [
        "# benefit? -> to load a big file in memory\n",
        "big_L = ['hello world ' for i in range(1000)]\n",
        "\n",
        "with open('big.txt','w') as f:\n",
        "  f.writelines(big_L)\n"
      ],
      "metadata": {
        "id": "iZi3IxvQ9AxV"
      },
      "execution_count": 54,
      "outputs": []
    },
    {
      "cell_type": "code",
      "source": [
        "# incorrect code\n",
        "with open('big.txt','r') as f:\n",
        "\n",
        "  chunk_size = 10\n",
        "\n",
        "  while len(f.read(chunk_size)) > 0:\n",
        "    print(f.read(chunk_size),end='***') # print the current chunk size chars\n",
        "    f.read(chunk_size) # load the next chunk size chars otherwise it will infinitely print the current chunk only"
      ],
      "metadata": {
        "colab": {
          "base_uri": "https://localhost:8080/"
        },
        "id": "5pznOzzleILp",
        "outputId": "02c8a1bf-6a0f-4a76-da56-12933265d396"
      },
      "execution_count": 55,
      "outputs": [
        {
          "output_type": "stream",
          "name": "stdout",
          "text": [
            "d hello wo***o world he***d hello wo***o world he***d hello wo***o world he***d hello wo***o world he***d hello wo***o world he***d hello wo***o world he***d hello wo***o world he***d hello wo***o world he***d hello wo***o world he***d hello wo***o world he***d hello wo***o world he***d hello wo***o world he***d hello wo***o world he***d hello wo***o world he***d hello wo***o world he***d hello wo***o world he***d hello wo***o world he***d hello wo***o world he***d hello wo***o world he***d hello wo***o world he***d hello wo***o world he***d hello wo***o world he***d hello wo***o world he***d hello wo***o world he***d hello wo***o world he***d hello wo***o world he***d hello wo***o world he***d hello wo***o world he***d hello wo***o world he***d hello wo***o world he***d hello wo***o world he***d hello wo***o world he***d hello wo***o world he***d hello wo***o world he***d hello wo***o world he***d hello wo***o world he***d hello wo***o world he***d hello wo***o world he***d hello wo***o world he***d hello wo***o world he***d hello wo***o world he***d hello wo***o world he***d hello wo***o world he***d hello wo***o world he***d hello wo***o world he***d hello wo***o world he***d hello wo***o world he***d hello wo***o world he***d hello wo***o world he***d hello wo***o world he***d hello wo***o world he***d hello wo***o world he***d hello wo***o world he***d hello wo***o world he***d hello wo***o world he***d hello wo***o world he***d hello wo***o world he***d hello wo***o world he***d hello wo***o world he***d hello wo***o world he***d hello wo***o world he***d hello wo***o world he***d hello wo***o world he***d hello wo***o world he***d hello wo***o world he***d hello wo***o world he***d hello wo***o world he***d hello wo***o world he***d hello wo***o world he***d hello wo***o world he***d hello wo***o world he***d hello wo***o world he***d hello wo***o world he***d hello wo***o world he***d hello wo***o world he***d hello wo***o world he***d hello wo***o world he***d hello wo***o world he***d hello wo***o world he***d hello wo***o world he***d hello wo***o world he***d hello wo***o world he***d hello wo***o world he***d hello wo***o world he***d hello wo***o world he***d hello wo***o world he***d hello wo***o world he***d hello wo***o world he***d hello wo***o world he***d hello wo***o world he***d hello wo***o world he***d hello wo***o world he***d hello wo***o world he***d hello wo***o world he***d hello wo***o world he***d hello wo***o world he***d hello wo***o world he***d hello wo***o world he***d hello wo***o world he***d hello wo***o world he***d hello wo***o world he***d hello wo***o world he***d hello wo***o world he***d hello wo***o world he***d hello wo***o world he***d hello wo***o world he***d hello wo***o world he***d hello wo***o world he***d hello wo***o world he***d hello wo***o world he***d hello wo***o world he***d hello wo***o world he***d hello wo***o world he***d hello wo***o world he***d hello wo***o world he***d hello wo***o world he***d hello wo***o world he***d hello wo***o world he***d hello wo***o world he***d hello wo***o world he***d hello wo***o world he***d hello wo***o world he***d hello wo***o world he***d hello wo***o world he***d hello wo***o world he***d hello wo***o world he***d hello wo***o world he***d hello wo***o world he***d hello wo***o world he***d hello wo***o world he***d hello wo***o world he***d hello wo***o world he***d hello wo***o world he***d hello wo***o world he***d hello wo***o world he***d hello wo***o world he***d hello wo***o world he***d hello wo***o world he***d hello wo***o world he***d hello wo***o world he***d hello wo***o world he***d hello wo***o world he***d hello wo***o world he***d hello wo***o world he***d hello wo***o world he***d hello wo***o world he***d hello wo***o world he***d hello wo***o world he***d hello wo***o world he***d hello wo***o world he***d hello wo***o world he***d hello wo***o world he***d hello wo***o world he***d hello wo***o world he***d hello wo***o world he***d hello wo***o world he***d hello wo***o world he***d hello wo***o world he***d hello wo***o world he***d hello wo***o world he***d hello wo***o world he***d hello wo***o world he***d hello wo***o world he***d hello wo***o world he***d hello wo***o world he***d hello wo***o world he***d hello wo***o world he***d hello wo***o world he***d hello wo***o world he***d hello wo***o world he***d hello wo***o world he***d hello wo***o world he***d hello wo***o world he***d hello wo***o world he***d hello wo***o world he***d hello wo***o world he***d hello wo***o world he***d hello wo***o world he***d hello wo***o world he***d hello wo***o world he***d hello wo***o world he***d hello wo***o world he***d hello wo***o world he***d hello wo***o world he***d hello wo***o world he***d hello wo***o world he***d hello wo***o world he***d hello wo***o world he***d hello wo***o world he***d hello wo***o world he***d hello wo***o world he***d hello wo***o world he***d hello wo***o world he***d hello wo***o world he***d hello wo***o world he***d hello wo***o world he***d hello wo***o world he***d hello wo***o world he***d hello wo***o world he***d hello wo***o world he***"
          ]
        }
      ]
    },
    {
      "cell_type": "code",
      "source": [
        "# correct code\n",
        "with open('big.txt','r') as f:\n",
        "\n",
        "  chunk_size = 10\n",
        "  data=f.read(chunk_size)\n",
        "  while len(data)>0:\n",
        "    print(f.read(chunk_size),end='***')\n",
        "    data=f.read(chunk_size)\n"
      ],
      "metadata": {
        "id": "0UGc0W6bj_rS",
        "outputId": "f2656b03-22d6-4a64-a71e-b2cfc2122179",
        "colab": {
          "base_uri": "https://localhost:8080/"
        }
      },
      "execution_count": 56,
      "outputs": [
        {
          "output_type": "stream",
          "name": "stdout",
          "text": [
            "d hello wo***world hell***llo world ***d hello wo***world hell***llo world ***d hello wo***world hell***llo world ***d hello wo***world hell***llo world ***d hello wo***world hell***llo world ***d hello wo***world hell***llo world ***d hello wo***world hell***llo world ***d hello wo***world hell***llo world ***d hello wo***world hell***llo world ***d hello wo***world hell***llo world ***d hello wo***world hell***llo world ***d hello wo***world hell***llo world ***d hello wo***world hell***llo world ***d hello wo***world hell***llo world ***d hello wo***world hell***llo world ***d hello wo***world hell***llo world ***d hello wo***world hell***llo world ***d hello wo***world hell***llo world ***d hello wo***world hell***llo world ***d hello wo***world hell***llo world ***d hello wo***world hell***llo world ***d hello wo***world hell***llo world ***d hello wo***world hell***llo world ***d hello wo***world hell***llo world ***d hello wo***world hell***llo world ***d hello wo***world hell***llo world ***d hello wo***world hell***llo world ***d hello wo***world hell***llo world ***d hello wo***world hell***llo world ***d hello wo***world hell***llo world ***d hello wo***world hell***llo world ***d hello wo***world hell***llo world ***d hello wo***world hell***llo world ***d hello wo***world hell***llo world ***d hello wo***world hell***llo world ***d hello wo***world hell***llo world ***d hello wo***world hell***llo world ***d hello wo***world hell***llo world ***d hello wo***world hell***llo world ***d hello wo***world hell***llo world ***d hello wo***world hell***llo world ***d hello wo***world hell***llo world ***d hello wo***world hell***llo world ***d hello wo***world hell***llo world ***d hello wo***world hell***llo world ***d hello wo***world hell***llo world ***d hello wo***world hell***llo world ***d hello wo***world hell***llo world ***d hello wo***world hell***llo world ***d hello wo***world hell***llo world ***d hello wo***world hell***llo world ***d hello wo***world hell***llo world ***d hello wo***world hell***llo world ***d hello wo***world hell***llo world ***d hello wo***world hell***llo world ***d hello wo***world hell***llo world ***d hello wo***world hell***llo world ***d hello wo***world hell***llo world ***d hello wo***world hell***llo world ***d hello wo***world hell***llo world ***d hello wo***world hell***llo world ***d hello wo***world hell***llo world ***d hello wo***world hell***llo world ***d hello wo***world hell***llo world ***d hello wo***world hell***llo world ***d hello wo***world hell***llo world ***d hello wo***world hell***llo world ***d hello wo***world hell***llo world ***d hello wo***world hell***llo world ***d hello wo***world hell***llo world ***d hello wo***world hell***llo world ***d hello wo***world hell***llo world ***d hello wo***world hell***llo world ***d hello wo***world hell***llo world ***d hello wo***world hell***llo world ***d hello wo***world hell***llo world ***d hello wo***world hell***llo world ***d hello wo***world hell***llo world ***d hello wo***world hell***llo world ***d hello wo***world hell***llo world ***d hello wo***world hell***llo world ***d hello wo***world hell***llo world ***d hello wo***world hell***llo world ***d hello wo***world hell***llo world ***d hello wo***world hell***llo world ***d hello wo***world hell***llo world ***d hello wo***world hell***llo world ***d hello wo***world hell***llo world ***d hello wo***world hell***llo world ***d hello wo***world hell***llo world ***d hello wo***world hell***llo world ***d hello wo***world hell***llo world ***d hello wo***world hell***llo world ***d hello wo***world hell***llo world ***d hello wo***world hell***llo world ***d hello wo***world hell***llo world ***d hello wo***world hell***llo world ***d hello wo***world hell***llo world ***d hello wo***world hell***llo world ***d hello wo***world hell***llo world ***d hello wo***world hell***llo world ***d hello wo***world hell***llo world ***d hello wo***world hell***llo world ***d hello wo***world hell***llo world ***d hello wo***world hell***llo world ***d hello wo***world hell***llo world ***d hello wo***world hell***llo world ***d hello wo***world hell***llo world ***d hello wo***world hell***llo world ***d hello wo***world hell***llo world ***d hello wo***world hell***llo world ***d hello wo***world hell***llo world ***d hello wo***world hell***llo world ***d hello wo***world hell***llo world ***d hello wo***world hell***llo world ***d hello wo***world hell***llo world ***d hello wo***world hell***llo world ***d hello wo***world hell***llo world ***d hello wo***world hell***llo world ***d hello wo***world hell***llo world ***d hello wo***world hell***llo world ***d hello wo***world hell***llo world ***d hello wo***world hell***llo world ***d hello wo***world hell***llo world ***d hello wo***world hell***llo world ***d hello wo***world hell***llo world ***d hello wo***world hell***llo world ***d hello wo***world hell***llo world ***d hello wo***world hell***llo world ***d hello wo***world hell***llo world ***d hello wo***world hell***llo world ***d hello wo***world hell***llo world ***d hello wo***world hell***llo world ***d hello wo***world hell***llo world ***d hello wo***world hell***llo world ***d hello wo***world hell***llo world ***d hello wo***world hell***llo world ***d hello wo***world hell***llo world ***d hello wo***world hell***llo world ***d hello wo***world hell***llo world ***d hello wo***world hell***llo world ***d hello wo***world hell***llo world ***d hello wo***world hell***llo world ***d hello wo***world hell***llo world ***d hello wo***world hell***llo world ***d hello wo***world hell***llo world ***d hello wo***world hell***llo world ***d hello wo***world hell***llo world ***d hello wo***world hell***llo world ***d hello wo***world hell***llo world ***d hello wo***world hell***llo world ***d hello wo***world hell***llo world ***d hello wo***world hell***llo world ***d hello wo***world hell***llo world ***d hello wo***world hell***llo world ***d hello wo***world hell***llo world ***d hello wo***world hell***llo world ***d hello wo***world hell***llo world ***d hello wo***world hell***llo world ***d hello wo***world hell***llo world ***d hello wo***world hell***llo world ***d hello wo***world hell***llo world ***d hello wo***world hell***llo world ***d hello wo***world hell***llo world ***d hello wo***world hell***llo world ***d hello wo***world hell***llo world ***d hello wo***world hell***llo world ***d hello wo***world hell***llo world ***d hello wo***world hell***llo world ***d hello wo***world hell***llo world ***d hello wo***world hell***llo world ***d hello wo***world hell***llo world ***d hello wo***world hell***llo world ***d hello wo***world hell***llo world ***d hello wo***world hell***llo world ***d hello wo***world hell***llo world ***d hello wo***world hell***llo world ***d hello wo***world hell***llo world ***d hello wo***world hell***llo world ***d hello wo***world hell***llo world ***d hello wo***world hell***llo world ***d hello wo***world hell***llo world ***d hello wo***world hell***llo world ***d hello wo***world hell***llo world ***d hello wo***world hell***llo world ***d hello wo***world hell***llo world ***d hello wo***world hell***llo world ***d hello wo***world hell***llo world ***d hello wo***world hell***llo world ***d hello wo***world hell***llo world ***d hello wo***world hell***llo world ***d hello wo***world hell***llo world ***d hello wo***world hell***llo world ***d hello wo***world hell***llo world ***d hello wo***world hell***llo world ***d hello wo***world hell***llo world ***d hello wo***world hell***llo world ***d hello wo***world hell***llo world ***d hello wo***world hell***llo world ***d hello wo***world hell***llo world ***"
          ]
        }
      ]
    },
    {
      "cell_type": "markdown",
      "source": [
        "### Tell function will return the index which is going to print next and also how much data is printed till now."
      ],
      "metadata": {
        "id": "Xub9y_v1iTgH"
      }
    },
    {
      "cell_type": "code",
      "source": [
        "# seek and tell function\n",
        "with open('sample.txt','r') as f:\n",
        "  print(f.read(10))\n",
        "  print(f.tell())\n",
        "  f.seek(0) # put the cursor at first character\n",
        "  print(f.read(10))\n",
        "  print(f.tell()) # we are at index 10 again"
      ],
      "metadata": {
        "id": "AxnAEe_0i8UX",
        "outputId": "df2c2a77-d929-48d8-9e51-4b19eeddb4ce",
        "colab": {
          "base_uri": "https://localhost:8080/"
        }
      },
      "execution_count": 57,
      "outputs": [
        {
          "output_type": "stream",
          "name": "stdout",
          "text": [
            "hello\n",
            "hi\n",
            "h\n",
            "10\n",
            "hello\n",
            "hi\n",
            "h\n",
            "10\n"
          ]
        }
      ]
    },
    {
      "cell_type": "code",
      "source": [
        "# seek and tell function\n",
        "with open('sample.txt','r') as f:\n",
        "  f.seek(15) # start from 15 index\n",
        "  print(f.read(10))\n",
        "  print(f.tell()) # It tells what we are doing to print next. It will return the index we are at\n",
        "\n",
        "  print(f.read(10))\n",
        "  print(f.tell()) # file contain only 30 characters"
      ],
      "metadata": {
        "colab": {
          "base_uri": "https://localhost:8080/"
        },
        "id": "4POGK5dI9LmT",
        "outputId": "23170bfc-f39d-4659-8549-1f275db38b36"
      },
      "execution_count": 58,
      "outputs": [
        {
          "output_type": "stream",
          "name": "stdout",
          "text": [
            "e you\n",
            "I am\n",
            "25\n",
            " fine\n",
            "30\n"
          ]
        }
      ]
    },
    {
      "cell_type": "code",
      "source": [
        "# seek during write\n",
        "with open('sample.txt','w') as f:\n",
        "  f.write('Hello')\n",
        "  f.seek(0)\n",
        "  f.write('Xa')"
      ],
      "metadata": {
        "id": "oFqebRKuhXZA"
      },
      "execution_count": 59,
      "outputs": []
    },
    {
      "cell_type": "markdown",
      "source": [
        "![image.png](data:image/png;base64,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)"
      ],
      "metadata": {
        "id": "bN6Eowgl4jJg"
      }
    },
    {
      "cell_type": "markdown",
      "source": [
        "### Problems with working in text mode\n",
        "\n",
        "- can't work with binary files like images\n",
        "- not good for other data types like int/float/list/tuples"
      ],
      "metadata": {
        "id": "LFkBD4di9gQW"
      }
    },
    {
      "cell_type": "markdown",
      "source": [
        "## working with binary file"
      ],
      "metadata": {
        "id": "g9lb2AuGr7S3"
      }
    },
    {
      "cell_type": "code",
      "source": [
        "with open('Screenshot-1.png','r') as f:\n",
        "  f.read()  # here read function search for unicode characters and we are sending a binary data(image) as byte"
      ],
      "metadata": {
        "colab": {
          "base_uri": "https://localhost:8080/",
          "height": 297
        },
        "id": "MQyYgkBA_9yj",
        "outputId": "6f6458df-4214-4496-b6bd-66653ae847ce"
      },
      "execution_count": 23,
      "outputs": [
        {
          "output_type": "error",
          "ename": "UnicodeDecodeError",
          "evalue": "'utf-8' codec can't decode byte 0x89 in position 0: invalid start byte",
          "traceback": [
            "\u001b[0;31m---------------------------------------------------------------------------\u001b[0m",
            "\u001b[0;31mUnicodeDecodeError\u001b[0m                        Traceback (most recent call last)",
            "\u001b[0;32m<ipython-input-23-33237d15f074>\u001b[0m in \u001b[0;36m<cell line: 2>\u001b[0;34m()\u001b[0m\n\u001b[1;32m      1\u001b[0m \u001b[0;31m# working with binary file\u001b[0m\u001b[0;34m\u001b[0m\u001b[0;34m\u001b[0m\u001b[0m\n\u001b[1;32m      2\u001b[0m \u001b[0;32mwith\u001b[0m \u001b[0mopen\u001b[0m\u001b[0;34m(\u001b[0m\u001b[0;34m'Screenshot-1.png'\u001b[0m\u001b[0;34m,\u001b[0m\u001b[0;34m'r'\u001b[0m\u001b[0;34m)\u001b[0m \u001b[0;32mas\u001b[0m \u001b[0mf\u001b[0m\u001b[0;34m:\u001b[0m\u001b[0;34m\u001b[0m\u001b[0;34m\u001b[0m\u001b[0m\n\u001b[0;32m----> 3\u001b[0;31m   \u001b[0mf\u001b[0m\u001b[0;34m.\u001b[0m\u001b[0mread\u001b[0m\u001b[0;34m(\u001b[0m\u001b[0;34m)\u001b[0m  \u001b[0;31m# here read function search for unicode characters and we are sending a binary data(image) as byte\u001b[0m\u001b[0;34m\u001b[0m\u001b[0;34m\u001b[0m\u001b[0m\n\u001b[0m",
            "\u001b[0;32m/usr/lib/python3.10/codecs.py\u001b[0m in \u001b[0;36mdecode\u001b[0;34m(self, input, final)\u001b[0m\n\u001b[1;32m    320\u001b[0m         \u001b[0;31m# decode input (taking the buffer into account)\u001b[0m\u001b[0;34m\u001b[0m\u001b[0;34m\u001b[0m\u001b[0m\n\u001b[1;32m    321\u001b[0m         \u001b[0mdata\u001b[0m \u001b[0;34m=\u001b[0m \u001b[0mself\u001b[0m\u001b[0;34m.\u001b[0m\u001b[0mbuffer\u001b[0m \u001b[0;34m+\u001b[0m \u001b[0minput\u001b[0m\u001b[0;34m\u001b[0m\u001b[0;34m\u001b[0m\u001b[0m\n\u001b[0;32m--> 322\u001b[0;31m         \u001b[0;34m(\u001b[0m\u001b[0mresult\u001b[0m\u001b[0;34m,\u001b[0m \u001b[0mconsumed\u001b[0m\u001b[0;34m)\u001b[0m \u001b[0;34m=\u001b[0m \u001b[0mself\u001b[0m\u001b[0;34m.\u001b[0m\u001b[0m_buffer_decode\u001b[0m\u001b[0;34m(\u001b[0m\u001b[0mdata\u001b[0m\u001b[0;34m,\u001b[0m \u001b[0mself\u001b[0m\u001b[0;34m.\u001b[0m\u001b[0merrors\u001b[0m\u001b[0;34m,\u001b[0m \u001b[0mfinal\u001b[0m\u001b[0;34m)\u001b[0m\u001b[0;34m\u001b[0m\u001b[0;34m\u001b[0m\u001b[0m\n\u001b[0m\u001b[1;32m    323\u001b[0m         \u001b[0;31m# keep undecoded input until the next call\u001b[0m\u001b[0;34m\u001b[0m\u001b[0;34m\u001b[0m\u001b[0m\n\u001b[1;32m    324\u001b[0m         \u001b[0mself\u001b[0m\u001b[0;34m.\u001b[0m\u001b[0mbuffer\u001b[0m \u001b[0;34m=\u001b[0m \u001b[0mdata\u001b[0m\u001b[0;34m[\u001b[0m\u001b[0mconsumed\u001b[0m\u001b[0;34m:\u001b[0m\u001b[0;34m]\u001b[0m\u001b[0;34m\u001b[0m\u001b[0;34m\u001b[0m\u001b[0m\n",
            "\u001b[0;31mUnicodeDecodeError\u001b[0m: 'utf-8' codec can't decode byte 0x89 in position 0: invalid start byte"
          ]
        }
      ]
    },
    {
      "cell_type": "code",
      "source": [
        "# working with binary file\n",
        "with open('Screenshot-1.png','rb') as f:  # read-binary mode\n",
        "  with open('screenshot_copy.png','wb') as wf: # write-binary\n",
        "    wf.write(f.read())"
      ],
      "metadata": {
        "id": "TvYT7bVTACMw"
      },
      "execution_count": 60,
      "outputs": []
    },
    {
      "cell_type": "markdown",
      "source": [
        "![image.png](data:image/png;base64,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)"
      ],
      "metadata": {
        "id": "Gu9vcCnG4wa4"
      }
    },
    {
      "cell_type": "code",
      "source": [
        "# working with a big binary file"
      ],
      "metadata": {
        "id": "FyWcVm-8AFqZ"
      },
      "execution_count": null,
      "outputs": []
    },
    {
      "cell_type": "markdown",
      "source": [
        "## working with other data types"
      ],
      "metadata": {
        "id": "ICwZuorhsAf8"
      }
    },
    {
      "cell_type": "code",
      "source": [
        "with open('sample.txt','w') as f:\n",
        "  f.write(5)"
      ],
      "metadata": {
        "colab": {
          "base_uri": "https://localhost:8080/",
          "height": 159
        },
        "id": "2DFUFXIJ9fW0",
        "outputId": "4c29b512-8b8c-4ca4-cbf2-e0356edfcea1"
      },
      "execution_count": 61,
      "outputs": [
        {
          "output_type": "error",
          "ename": "TypeError",
          "evalue": "write() argument must be str, not int",
          "traceback": [
            "\u001b[0;31m---------------------------------------------------------------------------\u001b[0m",
            "\u001b[0;31mTypeError\u001b[0m                                 Traceback (most recent call last)",
            "\u001b[0;32m<ipython-input-61-22673d1107f4>\u001b[0m in \u001b[0;36m<cell line: 1>\u001b[0;34m()\u001b[0m\n\u001b[1;32m      1\u001b[0m \u001b[0;32mwith\u001b[0m \u001b[0mopen\u001b[0m\u001b[0;34m(\u001b[0m\u001b[0;34m'sample.txt'\u001b[0m\u001b[0;34m,\u001b[0m\u001b[0;34m'w'\u001b[0m\u001b[0;34m)\u001b[0m \u001b[0;32mas\u001b[0m \u001b[0mf\u001b[0m\u001b[0;34m:\u001b[0m\u001b[0;34m\u001b[0m\u001b[0;34m\u001b[0m\u001b[0m\n\u001b[0;32m----> 2\u001b[0;31m   \u001b[0mf\u001b[0m\u001b[0;34m.\u001b[0m\u001b[0mwrite\u001b[0m\u001b[0;34m(\u001b[0m\u001b[0;36m5\u001b[0m\u001b[0;34m)\u001b[0m\u001b[0;34m\u001b[0m\u001b[0;34m\u001b[0m\u001b[0m\n\u001b[0m",
            "\u001b[0;31mTypeError\u001b[0m: write() argument must be str, not int"
          ]
        }
      ]
    },
    {
      "cell_type": "code",
      "source": [
        "with open('sample.txt','w') as f:\n",
        "  f.write('5')"
      ],
      "metadata": {
        "id": "z2TfIqNj93Eh"
      },
      "execution_count": 62,
      "outputs": []
    },
    {
      "cell_type": "markdown",
      "source": [
        "![image.png](data:image/png;base64,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)"
      ],
      "metadata": {
        "id": "uGWv6ID95Aof"
      }
    },
    {
      "cell_type": "code",
      "source": [
        "with open('sample.txt','r') as f:\n",
        "  print(f.read() + 5)"
      ],
      "metadata": {
        "colab": {
          "base_uri": "https://localhost:8080/",
          "height": 159
        },
        "id": "ZY2EcrdY97D5",
        "outputId": "1d27d3cb-f813-46be-bb76-bf90fe59029c"
      },
      "execution_count": 27,
      "outputs": [
        {
          "output_type": "error",
          "ename": "TypeError",
          "evalue": "can only concatenate str (not \"int\") to str",
          "traceback": [
            "\u001b[0;31m---------------------------------------------------------------------------\u001b[0m",
            "\u001b[0;31mTypeError\u001b[0m                                 Traceback (most recent call last)",
            "\u001b[0;32m<ipython-input-27-6d6a05f94ee4>\u001b[0m in \u001b[0;36m<cell line: 1>\u001b[0;34m()\u001b[0m\n\u001b[1;32m      1\u001b[0m \u001b[0;32mwith\u001b[0m \u001b[0mopen\u001b[0m\u001b[0;34m(\u001b[0m\u001b[0;34m'sample.txt'\u001b[0m\u001b[0;34m,\u001b[0m\u001b[0;34m'r'\u001b[0m\u001b[0;34m)\u001b[0m \u001b[0;32mas\u001b[0m \u001b[0mf\u001b[0m\u001b[0;34m:\u001b[0m\u001b[0;34m\u001b[0m\u001b[0;34m\u001b[0m\u001b[0m\n\u001b[0;32m----> 2\u001b[0;31m   \u001b[0mprint\u001b[0m\u001b[0;34m(\u001b[0m\u001b[0mf\u001b[0m\u001b[0;34m.\u001b[0m\u001b[0mread\u001b[0m\u001b[0;34m(\u001b[0m\u001b[0;34m)\u001b[0m \u001b[0;34m+\u001b[0m \u001b[0;36m5\u001b[0m\u001b[0;34m)\u001b[0m\u001b[0;34m\u001b[0m\u001b[0;34m\u001b[0m\u001b[0m\n\u001b[0m",
            "\u001b[0;31mTypeError\u001b[0m: can only concatenate str (not \"int\") to str"
          ]
        }
      ]
    },
    {
      "cell_type": "code",
      "source": [
        "with open('sample.txt','r') as f:\n",
        "  print(int(f.read()) + 5)"
      ],
      "metadata": {
        "id": "SOGPdoCWshgx",
        "outputId": "b7522fd6-d99d-48ab-f4fd-9c3f61f60bcc",
        "colab": {
          "base_uri": "https://localhost:8080/"
        }
      },
      "execution_count": 28,
      "outputs": [
        {
          "output_type": "stream",
          "name": "stdout",
          "text": [
            "10\n"
          ]
        }
      ]
    },
    {
      "cell_type": "code",
      "source": [
        "# more complex data\n",
        "d = {\n",
        "    'name':'nitish',\n",
        "     'age':33,\n",
        "     'gender':'male'\n",
        "}\n",
        "\n",
        "with open('sample.txt','w') as f:\n",
        "  f.write(str(d))"
      ],
      "metadata": {
        "id": "uUw_EYLs-OHF"
      },
      "execution_count": 63,
      "outputs": []
    },
    {
      "cell_type": "markdown",
      "source": [
        "![image.png](data:image/png;base64,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)"
      ],
      "metadata": {
        "id": "iwBr50lP5LaI"
      }
    },
    {
      "cell_type": "code",
      "source": [
        "with open('sample.txt','r') as f:\n",
        "  print(f.read())\n",
        "  print(type(f.read()))"
      ],
      "metadata": {
        "id": "2MZzrshAtHtM",
        "outputId": "ec4a8026-a473-4490-c044-40a89aa9261c",
        "colab": {
          "base_uri": "https://localhost:8080/"
        }
      },
      "execution_count": 64,
      "outputs": [
        {
          "output_type": "stream",
          "name": "stdout",
          "text": [
            "{'name': 'nitish', 'age': 33, 'gender': 'male'}\n",
            "<class 'str'>\n"
          ]
        }
      ]
    },
    {
      "cell_type": "code",
      "source": [
        "with open('sample.txt','r') as f:\n",
        "  print(dict(f.read()))"
      ],
      "metadata": {
        "colab": {
          "base_uri": "https://localhost:8080/",
          "height": 187
        },
        "id": "KtKxeG8_7JVB",
        "outputId": "e64366d5-7b6a-4f51-ed13-4154331340f6"
      },
      "execution_count": null,
      "outputs": [
        {
          "output_type": "error",
          "ename": "ValueError",
          "evalue": "ignored",
          "traceback": [
            "\u001b[0;31m---------------------------------------------------------------------------\u001b[0m",
            "\u001b[0;31mValueError\u001b[0m                                Traceback (most recent call last)",
            "\u001b[0;32m<ipython-input-34-949b64f1fbe0>\u001b[0m in \u001b[0;36m<module>\u001b[0;34m\u001b[0m\n\u001b[1;32m      1\u001b[0m \u001b[0;32mwith\u001b[0m \u001b[0mopen\u001b[0m\u001b[0;34m(\u001b[0m\u001b[0;34m'sample.txt'\u001b[0m\u001b[0;34m,\u001b[0m\u001b[0;34m'r'\u001b[0m\u001b[0;34m)\u001b[0m \u001b[0;32mas\u001b[0m \u001b[0mf\u001b[0m\u001b[0;34m:\u001b[0m\u001b[0;34m\u001b[0m\u001b[0;34m\u001b[0m\u001b[0m\n\u001b[0;32m----> 2\u001b[0;31m   \u001b[0mprint\u001b[0m\u001b[0;34m(\u001b[0m\u001b[0mdict\u001b[0m\u001b[0;34m(\u001b[0m\u001b[0mf\u001b[0m\u001b[0;34m.\u001b[0m\u001b[0mread\u001b[0m\u001b[0;34m(\u001b[0m\u001b[0;34m)\u001b[0m\u001b[0;34m)\u001b[0m\u001b[0;34m)\u001b[0m\u001b[0;34m\u001b[0m\u001b[0;34m\u001b[0m\u001b[0m\n\u001b[0m",
            "\u001b[0;31mValueError\u001b[0m: dictionary update sequence element #0 has length 1; 2 is required"
          ]
        }
      ]
    },
    {
      "cell_type": "markdown",
      "source": [
        "## if make a dictionary in a file we cannot get a dictionary ever it will convert into string . To solve this issue serialization and deserialization is used."
      ],
      "metadata": {
        "id": "2x_cNSGkt-zR"
      }
    },
    {
      "cell_type": "markdown",
      "source": [
        "### Serialization and Deserialization\n",
        "\n",
        "- **Serialization** - process of converting python data types to JSON format\n",
        "- **Deserialization** - process of converting JSON to python data types\n",
        "\n",
        "#### What is JSON? (JavaScript On Notation)\n",
        "\n",
        "It is a universal data format that is understood by every programming language.\n",
        "\n",
        "Nowadays, every api is using json format.\n",
        "\n",
        "\n",
        "![image.png](data:image/png;base64,iVBORw0KGgoAAAANSUhEUgAAAfMAAADzCAIAAAAdGmioAAAgAElEQVR4nOy9eZxkZXX//3mWu1dVrzPdMzAIo6yio+wywyYIAQHF/RsV4zcucUmMxphIEpIY841i/GlijIpbEklQE4NKMAoaxSUwLgiicQEJiDgzPb3Vdtdn+f1xqmpqenoGqqluB7nvV736VXXr1nOXqj733HPO8znMWotBMMZwzntPlFLGGNd1BxrkQcnz3HVdY0ye577vZ1k29E2UlJSU/KrCBrXsALTWSinOueM4K97wku32Xhpj6JohpexfwRiz4m2VlJSUPKqQd91110AfMMYwxjzP45wnSWKtlVJqrRljA43juq7t0r+cXnLOrbVFUVhr8zyvVqsDDV5SUlLyaEaOjY0N9AGyuY7jGGOEEEII13WVUoNa9omJiSWWnTHGGNNa062AUorc9mazWa1WtdYDjV9SUlLyqEUOapGFEHmeNxoNrbWU0nVdIcQKLDvZ8WWXd/ZMyjiOwzCsVqsUdh9o/JKSkpJHLXLQOHuj0RgfH4+iKM9zzrnWOo5jcuQHGofW39e4W2sZY/V6vVqtCiHQzaauIB9QUlJS8uhkYJ+dLG+z2Wy1WuPj44yxoiiCIFiBz75kCeVOb7zxxqc//emu6y4uLgZBsLi4ODo6uuz6JSUlJSXLwnbv3j3QBzzPm5ubu/nmmxuNxjnnnLN58+ZWqyWEGNSnnpiY6DfWVG+jtY6i6K677jrkkENc12WMUWHlkjqZkpKSkpIDwAf9wJ133nnTTTfFcayUGh8fj+PYdV2qjTHGUJ6TYuhUucgYk1IKIYwxlHqVUlLdCw24uLhoraVg/czMzGWXXfa4xz2O4jCcc2MMrT/cwy4pKSn5FWZgy/7jH//4/PPPP//884uiWFxczPM8SZIgCLIsY4xRQpWccaVUu92mv0VRhGHoOA6FcSj1GscxgNHRUcZYmqZRFO3atWtubi6OY8dxyLjT1aIsZi8pKSl56Awc5TjrrLMqlcoDDzyQ5zmAWq1mra3X67Vard1uCyGCILjvvvu2b9++a9euKIqUUmmarl+//sQTT9y0aRM5+EKI2dnZycnJVqtVqVTo2pDn+cTExObNm8MwBKCUyrIsiiIAaZqSoS8pKSkpeVAG9tk3bdqU53mr1fI8TwjRbDaLoqhUKgCUUkVRMMbIPV9YWPjxj3985513zszM0PwmIYTv+1LKLMsmJyeNMUEQACCX33Xdb33rW47j1Ot1AFJKkjHQWvu+P+wDLykpKfmVZWDLfu+9905OTpKjXa1WXdddWFjgnMdxTHWK8/Pzo6OjF1988QUXXDA+Pj45Obl169anPe1pmzZtyrIsyzIhBK3PORdCNBqNoii+/vWvU0T+Xe9618jIyPz8PJXcAKCbg5KSkpKSh8jAln1sbCyO4yRJqN7R87xqtdpqtay1rut6nmeMSZJECHHYYYeddNJJT3jCE4455ph169ZprZMkAUBTTMlqA6jVao7jnHvuuXEcF0Vx5ZVXFkUxOjrqOI61VmtNnntJSUlJyUNkYKNZrVbn5uZc1123bt3s7OyuXbsqlUq1WmWMUb6UPPdGoxFF0bZt284666wNGzYURaG19jzPdd2iKOjCAOAXv/gFDZvneRAET3ziE3/wgx84jsM5L4qCHHzP80q3vaSkpOShM7Blr9frlBdtNpsTExNU+BjHMYXCkySJ45gxFkWRlLLdblcqFTLlUkrHcbIsU0pRXrQoio0bN1LdC1Wsk/UHkKap4zi+75NNX3VpAbvP4wBv7bvO8stKSkpKfjkMXBvzmc98ptlsZlnGOf/EJz4RhuHRRx993HHHUbEjmWASaATgeR7p/aIrw9tLilJte29YirzTW2makqHvPcmyjCz+MNhTQGkBtszizvXOAgBnPZtNqy6ZCcs6a5ruEBy8nCxbUlLyy2Vgy37ZZZeRsSaJxyzLfN8fHR1dWFgYaJzeBFSajkRq7+Pj471KGOq5AcBaOzSz3nOqWeepXWKr+16TqRds75WWfqCkpKTkoGPgaAzNLCU5AXqepunOnTtXsO3ezFJ64jjOunXrvvSlL915551ZlvWmnmqt5+bmVjD+g6K7D8sAAfDug3XcdA1oBtv/Ft9rNYIts6ykpKTkl8ZKLDtJBVDE3HXdKIp6hS4D0ZtZ2pOK9H3/U5/61JOe9KQoin72s58xxhqNhpRyYmJiBeMvTzccbrqPjnFH10KzTnTFdI17ASgGxaDpsVxInVmw0qyXlJQcHAysCFYUheM41CIDXaOc5/mgAZPJycmiKKi2vX85zVBN05RCMUqpXvBnoPGXpxsRB+/YaHpFRll0L3S0UO8VvKEP7XnJ+5Z31+sOXRr4kpKSXyoDx9lJ0YWi5KToyzn3fX8Fol37CvOSrGOvjwe9HLLQYze+Lhh03zLWNfu8z4LTumbvW5vSbpeUlBzkDGw0hRBUnA6gJ+joOM4KSs45572ymZ7nTq2apJRFUZBNp7uEQQdfHtsNslgAEBzoK4phvUA5vcu6H1kyBuusvJTS5JeUlBwcrMQdJledZB1pPlGWZYMaX0rA0vPeRFO6G6CADCkAr2D3HgSzx0Xv1xgTgMDetY9k03uOfbfqkTEsrYAsbXpJScnBxMAZ1Ha7PTY25rpus9n0PK/ZbDLGPM/TWlNzas55nueO49AcJbLaZKYpaI6uBe+N2bsq0EKSdeytsDKHPU1TAFmWAbDWkrCBSVJYILPIAdVJj7oWyIwwQNZNmGpAAYlBASigpVF0lyem5/VnSQ7AAspoCxgcKCBFevT1ep1mYN1www0oJXFKSkpWh4EtexiGb3/729/3vvdde+2111xzzaZNm6gIMooiar7h+z71upubm3Mcx3VdY0yapiQyU6lUhBA0KWlVoQQs5XXjOPY8L03Tf/7na7c9fgsc9rH3/v1TtpwAA8GQNTNXcGiAAYm+6d8/+763/X8oAM4X7/vFGUcdf++3v9v+6f1nHbvlm//5JTgcFnkzBuD5LpVjKmMyVViwwur97Y/jOEqp5zznOR/+8IfTND333HOxBnNrS0pKHpUMbNk/97nPnX766a94xSte/epXz87OfuhDHyJnnJz3JElI+pG6YAsh8jw3xgghhBBa6yzLrLWkwL6qtNvtVquVJAk1bKI0bxzH551/PjSUsWdtOxMWRSP1Ag8GSAzaGlJMVsdMrqlQphpVfeFA6cgPHS6sNrBQjZYbhQDSJJuYmLCwjnTIJT9whxAhxPbt288++2wAeZ6naUrpipKSkpLhMnCc/elPf7rWulqtzs7OHnHEEVRvTvWLlUpFKUWhGOq1JKX0fV8pJYSgOaukCrkGeuskTUOQvliSJNOHbNxx98/g4Jjjjp1ZnI9n6+HkCNoKvoTsSArM7ZoZq9YoFt9ut6Na1TKG6QnH9yam1oNBRhGMgeAUfkmSJAzCKAgYrGTLXCmpaohuaEhsp9ls1mq11T4DJSUlj1oGrmdXSiVJMjY2Zq299dZb77nnnksuuSQMQ4qhU9uNmZmZr3/96/fff//09PTs7GxRFNPT0yeccMLmzZtplpPjOCMjI6t0SESSJCQpvFfRZGFRMAiAoRN+4UAOaPzRa37nzu/eUa/Xxycnnv6MS1/2+6+DC1gg0dAGoQOGvNFyxytFljmhp4z94Ac/+JrXvuq2227b8sQtDIDVWmsh9wqwWGvJslPaOQzD++67b2pqKo7jfqWdkpKSkiGykjj7hg0bhBBzc3N33HHH+Pj4yMiIMWZ0dDQMQ9d1yWpPTU0ZY26//faZmRnGGKlC9iYf9dpbrx6UyyXxA1qitYZk8GAKCw6tupGT3Lztij959jMu++wtN9/8ndve/OY3F1pBwFIGNRCoOrCA1u5ExTIkRmkGCLZ7fs4ao7WmQsm0HQvGl6mStJaiND/96U+zLJuamgIQBIHneaX0fElJyWowsGUxxszMzGRZdsstt/i+f8kllzSbTWtto9Gg8piFhQUhxKmnnnrGGWdQA40jjzxyy5YtY2NjSZIUReG67ho4qj1XXUpJhpUxprQBBw+ZZbAup7LH2R27/vM/v3DCmWcDgMNdL2DCAQfzOQJYBkjEJkMo5lotLeBXo8waA1xxxZuVsSc86clZksLCDyKAL1sgY62dnp5+y1veQoH1er1OyYnVPgklJSWPTgaOsxdFUa1Wb7zxxh07djzzmc+k2kfP81qtlpSSpNuVUr7vH3vssdba2dnZk08+efPmzZTSDIKAc95qtdYg0NxsNqvVKqUBqCKTcWgNCFgF6UDFkAKzs7PnnnsuIoamRlWkaZpkKQAUAANzkGR5UPEUMDJSya2RjFM83QIqz3zX83w/rjfCagVGQyw9pRSNuf/++3c88IsoCOfn50dqI7Cw2jgruMItUTzY9112wLX6rztsmWUHGLukpOSRwsCW3fO8G264odFoPPWpTx0bG6OedmTf0a0fZ4yRuu8JJ5xAnyKNX9d1ya9fm+BytVqlJ3sJwQvkGbTS0hfShW2r8fHRXGUAUBNoZEElqEQBVHdCqkXgu0BnWlOwd47UdI1iUK2A8yRNg8jpt6qMMSkkAEc6RxyxmVveWGgEQQjA4Y7JNXf750v1sT/D3ROLZ3ub754qMQDWqbnv7fbe+jZ9o3Xlz/o+CjzYrVxp90tKDnIGjsZ84xvfaLfbhx122GGHHeZ5XpZljLHVTocOkayA9BCGHXvKIplk6W133D7705+B4fbbvvOq17zaGAOOzpymLmzvR5amf/ee94Rh+MMf/rBQBRO8UEUQhbBg3Ue/JqQqNBiSIlPWgKFeb0Cy/Zp19FnqA/ZyMvt+pO8ts6TPSO+J3TP+shoKZsnIJSUljygG9tnvvffe2dnZ+fn5u+66q16vh2G4ZcuWI488sr/K8GCG3PcsMxzM4QwMj3nCkX/xV39x4aUXHbJh41PPO/ej1/zD52/8ApSFxw7QH4luOyiy5DgOyd3ErXYYRnt5v90BpCsswB1uJJp5Eo3VZhbnR6o1T8j9Ntnb33K2x9fuqZgxdFXNAFjwrkfPOx58990l1wYGAGIv7bMDXexLb72k5BHBwFWPNPOoWq16ntdoNJRSlUqFZAYGGmdycnKg9YeCBYquRK8rAYO8kbhRQO9lCw1vrKZbiagGYEBm4HI4y9sz24W0EFqtVqVS2WNu+806AxgKrbiQju/u2rVrZGRMw1BfPQdgD6qSuVQMvmPZdfcV7w3Si7N3lSwFDOsfp9+y9+1e33ZKy15S8ohHvOlNbxroA2EYMsaKokjTlHqZWmvjOB60gG8NpqEuS14UjhRSgJEomBSwzKQp41JWPDBw30mbsQwdZQz39iu2TsplVFWZZVmlUsnzvNlo+KEHZsG7ERneictwzhrtRr1Rb7Waj3/8sdpqyXkzbgSOy1hfBGdJKMf2/e0L9FhYAwtYA0sNoPoatlowy5i1sKwjTNl3EPtY8/6LEOtTPFv2UVJS8ohgYJ+dvNSedBfpf6VpOmhS9Jfls3e7YyDPCsG4lKLzBpA1214YQHKrjBEsy7Ig9Pdnzqy1lCUGYIzpdW3ty6p2oCjIYn1xdGS00WyMjo5JKf7jP/7jjDPO8PxOL6rl9d/7k6L9b3cd9t6xsJ5QZV8Ixu6tLL902CXsafTK0Wv9WjZ9LSl5ZLISFV/OOakIUOc8PKKUrSxsnueB67mewwCVFxzgnIMxbyQCkGaptdZxfS/094Sw94ExRuWMJB9Pxelxmkjf64928O7fsZFRa4wnHas0tAHntiiYhd47roL+bk3LbxjYJ73ZqcHsO0gAjIH3rfkgw+59jpa/qOy9DyUlJQctK5mpRE9ICobkecm+PyIQfWapKArpOtx1IIXSGgxKK8vgBgHAmll84AA4HTXnnKIxAAJ/Tz/YJdbPWss4d7ggu2mSlElH5zn27sjac8b39Op7sIDIMs743mnSXnbU7InX7FtlQ/ClZn0/65WUlBzMrKTDNU2X930/TdPFxUXSYSfRGK11FEXUOqPXFMkYQ6opAIqiKIriwJqIQ6E3p18pRRGn7pxP47kOGTrpCAtDD+kKCyMkdz3XwhiY0PPNAWv/6E5FCNHrAcsAxzIP3AN3wV1wKCPAGTiDgOUGHIyDcyMEOBeeXxhjwQsYC27BFZBqZcELYwy4BrfgSZZb8CwrAJ60U1iulWbgHJyDA7zIFSwHODSQKVgOZWE5A1eFYuC2+2jGiQEvjM2UNuBpXti+d/M8t8r0rLktNJ0AWxhYJM0YQJErWOxfrngppEGvlKKfwQq+ypKSkkFZiW4JxWHyPA/DcHJystVqaa2DIHBdlwI16HbC01pTRz3OObn2QRBEUbQG6VPaLgASEKYnB4gi9BzbfgY+OxZMs06/jqRApqXhvYh4u9UCZ5Yh1QXzvcyowhrJpYF2IJUpsiLl4JLxrMgkl9roNEsN4Hp+rpXreUVRBGEIwBUOJU6zLIU1ruPCWligJ1xDFTuNpue4SdwWwM6dOxjgum6SZoILRzppljquZ6wBoI1WyriOy0jzMlOwYFKAI260aKHjOLBwXKkKzTi0tlm2X/2fJdoJUkrSeR70jJaUlKyAgW2X4ziMsSAIsixbXFzUWidJUq1WW60W6aHHcUweOsk6gqLYgNa6KApS9200GsM/lH0gD9EYQ7vRu1F40GNm3T7XA9shA8QGbYOFFLGBFjAcqYYCLKJKBdLJAbheBsxliWYcQDzfVEkWcifkngOgsKHj5UkGjdDzObAwt+AKqZRxHAepggGUTZqJBIs8X4Bn7RRgSHIAcF3kGpkq4qxSqcKg4kfM4NCpDSa3vnQi37Paqtx40oOBYFzlVnKhC2NyCwOkGlK25xqUhA2cABYqUdJzAKhUW8sAGGU9d7/trsiyW2vpZo4xtm7duptvvnnQM1pSUrICBrbsX/jCFz784Q+/613vuu6662655ZZ2uz06OkqB5kqlUqvVPM+jPkrWWoq9kAwWRS3CLqtwLHvRL5/be4IHM9a8+6C2qAMbd4sPv/0dr7joErj+P//te89/4kloxOAC2tpYwUIA1hgGtPNkJKwyQFpMjI6GrqfiHLnRSeE7DjPglrtStOqxVXakMsIAR3CbG5MbaCA3URTCoNVo2wJe4MPgfe9971knnnbmCSf//bvfA0c6vlfEhW5kaBbQgEbRiKGhYi0Nk+CSMShAwZGsOd/yPclpZpYj/v5df/vsy54Fjb/6s7du27oVFtKXSSMBID1Bl2rH5YsL9f2dCaoUajabrVaLTv7CwsLpp58+0OksKSlZGQPXxlx00UV5ngshkiT51Kc+9bWvfe3MM89Et88nReGpy4TjOFT8rpTSWpP71gt/j46ODv1g+iE/EXtHYwDgAPNKl9A/lfQhM7Vh4/i69SjskUcdc9ZZZyMKYQHGmCPzeuLWAp9zaxAq4btoLbahuVcN0C6ciOqLRDrX9kcj33GgUY1CFJY7XMdaZYVX9ZnvdtKsmVWFqkQRLHQ7F0y+6vWvf9XLX/2vn/zEztlZZBq+cDwHEjD46r99/r9u/q8/e/dVaBvHF9AQAtAQpiNVX61WkIAk6Yt6+zGHbjryyCNhceyxx6ZpitzA4UE1sAp5nnuRm8S567qjY/tVldBap2laq9WMMZxzY8wjZZZyScmvAAP77M1mk6Lno6Ojvu8HQTAyMuK6bhiG5JUTeZ7TbFVrbZ7nlE31PE9K6bouVZKsNsv67Acq9lhWoWWgnB8HQm/ssEMQsowj1gVy06lpsXDDAApogxWIpFvsbI4EkRcGdqYJz9E76+RZ+9yBhlmIoYAUEAyxFo5wuEBsYNH++W54AoLJwKF6F8EEBAeAyHNdTxcKngCQzDaQAApTldFssY22heR7SnAKwCLd3dKLGQyQFFCAgTMStVqtjVPTSPMoCJvNJtzOjC1dKM9zYRGErpB9Gvf7QK1xi6KYm5ujiz2F6QY5myUlJStk4JlKNE0pTdM0Tb/4xS8efvjhRx11FJn4xcVF13WLomi329/5zndmZ2cp12qMmZqaOu6446anpwFwziuVSk+IcZWgmwPK4s7Pz69fv56a9rEDOOHLSSEONvnSAho6AweY2708FIDAe//8qgsvuGBm564//L3fr1Yqf/DG39/2/GeirRDJ/7r2U29729uk5yZZ+rnPfS54zBQywMN/f+6Lr3/j70WVilLqRZe/+BW/91oUuONrt7zjHe+45uPXYtRDgave9vYNGza8+OWXwwA5YHH9pz511z0/fcOVbwIDDL5//dff/Prf88PwgR2/OOq4Y3fNz+7aPXPbPT+BByT47vbtb33rW3ft2tVqta74wz983isvBwABZAq+RKoQSDBAARILswtj68YW5haPOOKIZz/72R/+xw9pZYSzvHPQbrfJshtjqHqqI8BQUlKy+gwcjWm1Wt/73vfuuOMOKeX09PTWrVvjOEbXIw7D0HEc3/ettTMzM/Pz8wBc163VapVKZWJiIkmSNE3XoOlEr8q+N52K6nNWtTqb2nQw0ZXVJe9YAEAYhr/1ipe/7tW/85Uf3dH4n3v+zwued8OznglH3vSef8xzdeM3voUQd37xG895xrNvuO3rcLD7znve+sd/vn37dyGAkMMCsUHARyvVe39yNyoe2gYhH6vWuOkelAAEOOdad+9OChx/zrbrv7f9js/e9I1bbnn1n18JD5Cda9j8zp2/+9rf/vx/3BBsWgcG1PM9c6UCCQCehNJwBAR0rsfWjwFI07gVtybWTwAQcr/3fFEU5Xnuuu6OHTuUUpSJSdN0DVrglpSUDGzZR0ZGTj311FNPPRXAdddd9/GPf/y8884bGxtrt9vVarUoijiOXdc999xzx8fHb7nllsXFxTPPPPOUU07xfX9xcdHzvCAI4jgeGxtbhcPZC6UUTaTK87xXUD+AA75UcuUhf471xeipzsbCQD//8l9/+itehELXnrg5jeT9//vjTUcfffVV7/3XL3yF2rE+4eyt1sjWT2crGyerIuSJqf/wnpHHP46CJJAcFo4RE+EIFgxGODTSejxWm+hsWAIKzTgZH5uEBWIgAAQQIxwfn11YhAvI7nduESslrYh314P166CBmgsLuF3tx466QGcOmpBCFYV0nA2bNhaqMNAHPjNZlkkpqRk6AOpvXpr1kpK1YSU+u+u6IyMjs7OzF1544cc+9rF2u0132b36Qs55tVo9+uijXddtNBpHHXVUtVqlJCrJzqyNGgGVcJDz/pAqqVez2LqRtJ7ylKfAAoEAw03//VUeuvk9s6O1sZeefyFGwrmijZFQVKKf7dx53GMn/SOnr/nnf37NK1+52FhIrP7X6z89ftwm5MiSXFiBCocBMoRuUPFDxAAHHEDAGma1hukcjmppWRXzrYZhgAQygMG6YByHHH7op6+77vkXP9MWanJ66p3v/7v1W47o1AMtd1UrtGKCU+MUlSkhxJ7r5T7Q7C1jzAMPPIBuQntxcXG1M+clJSVYgWX3fT/P8/vvv398fPwnP/kJFTKSn94TtqU6mdHR0WOPPZbCrDSzyRjTK3Me/qHsA8XZsfck2LWmu82pDdNZkXfsZpxz10Fh3E2TWcDe9/cfiU5/LBRQBQxajRwcKDB6wuHXbP8CgPvu/PGLX/Oyf/jkteumxpUprNXIAAF4gFaL87Pw+6ywKrJ2u+N9W8iaAKCtMsKCAQGyVHmBtAVYgOrjpj/3/Vthseu2/3n2c5/1lW//t+gTSOiH4uYAhBBKKc/zaKbxAQ69Xq9Xq9Xp6WnqseV5XmnWS0rWhoFrY4qiWLduned5nPPt27ePj48zxnzfp0pHdDtKx3Gc57mUMggCrXWWZdZaKSXZfapwX216M5V6l5w12OiebkRsL+d3oVGfry9SwASRC5dRwclZTzvny7d+DRyIAA6lUFnvwgFCwMLOtgBsOnzT7Hwn0X3YEYdpq+zsHIDrPvixT/zbJ3raBraRwcL3nJCCHl1lS93KjzzumNu+d1v8wBwYpCfBoAGTmo4aZKzXHzrtRaGy+81/RFFEEvw///nPHcd53ete96BXypGREap5tdZ6nkdt0Fd+ZktKSh4yA/vs//iP/+i6bqvV8jzv5JNPfvzjH1+r1eI4pqJ1zrmUklw5xpjjONQZlXNOzUgpJrM27nN/BnVQ+fiHiWVgPQlcDlgUSm064nAwwEXeTNxqQGb3N9/6B//2lr+76PFPMZHT0JkW2P797VD4r0/dcNVb3zoxOlaorN5uffraj69bNw4Lb+P63/ytlz3nBc9daC3+0Z9c+YY3vt4wjnYG13vmZZfufGDX9NS6LM4++pGrTzv5tKv+4X2wEDV3bN34y1/1igsvvahg2h0dueGL/xmF7le+dPMVv/1GR+uRaCRX2T9d+y/exNAKlshJpys6Bd/iOF6DtuYlJSVYQdWj4zhxHFcqlUajQTUwZNPDMCyKghxzkgYja06CUBRmtdZSLbyUcg0yqL1wwa5du6amplZ7c+h6yba/z5HtE6OxSOqtYLQCdN15Bcwa+BwC0EBIyvGAAxQAA1KDIoPnIhDgQG7AOSyQKIQScQ4ORC6pF5gs4VGAVgoN1HxYQFm4DLIrE4zOtNp2mulC12phJzerOpefLG1749GyN3K9aAy6qekHjcbQVbzZbI6Pj9OEBlI8Hs65Likp2T8De7JSyizLZmdnDznkkGaz6bpuFEX070rKXxRM11qThnvPpiulyPQDWJtoTE8uhlizgMxSOMBhshwcwVgljWNwtOO4Y/6rHD6gFaqAC+ui8AEXoL8eMBGgIrRK4AA+t2kMAfgSAqi5nXpzF/DAfQccqPgY8ZEkKAw8BmvBgFyR7bZFAQE/cGujYdJqQ1sIgFlIwIU3Eu0vjRxFUZIkWmsKsmVZRhnUAx869ZyqVCr0XTyC1J5LSh7RDGzZ5+bmDj30UOrsXKvVWq1Wu90mR578dAp99AIg/UZcCOE4Tk8pbLXpRWN6YpNrnUTtC7XzwDVKg8FxXTBE1TDLC9huEnQAACAASURBVAggADgwKrWDpjY5YCQy2MwoSCDgkLDc8EqQW20l2EgIATgALDjgcAioIoe18Lv1jALwHAQcHHAZtIHLIaBtwXwnS3MhGCyCagSPFXEMj+kkAdu3H9ReUJyNRIFIn/kA55MkKADEcUw/FcbYN7/5zSGe3ZKSkv2xkm55VCEehmGSJL7vF0VBBTMDjbMG3fIoaABgZmZm/fr16O78sMbv3QRwzilYsaTBdUdQbEm3oyUFhRYANOvMaurVwYtuSIcwMJ0S81xLx9F5LlwXgFZKSAm2z1Zs3xza/s0tWbP/I6avC1RJSckjmYF9dqWU4zikDBMEgVIqDMNHZ80DScDTpaL/1qTfMC6Vl+yzs7b3LtujLkkTiUSfjWUAg+lpTwrXyXURG6UZcqvhSM0Q55lm0NTQuqdBLPpa5DFY1unMt/cxdD8ykIhCSUnJwc3AtTEUY0nTlLomaa3XJmh+kEO1fYyx5S+V+zGaHY/edltUL70moJN+td2VOQyzrTSpVWoWKLQCZxzcdb2lnUMY0NE16AzQ64gtsOfWoNeCVTCUXTFKSn5lWEkGtSgKxli1WlVKVSoV0hVYjZ07mOmlCshnp25wWJkkQc9ltntHZHqPvnmhFqxSqSVZEqex53g0KSzNUxppWbVK9DVWtb31zJ7l9Ch99pKSXxkGtuxU0Tg2NjYzM1Ov16kYZjX27BHEkplQ5IkviXDsKx7MAA3kzGTM5MwoZjQHPRRDzpAxZIzTI+dcca4YT4uMAxzs3nv+1/e9iufPzOwKXJ/tfS3YY6X7pIs79rxPoNju7c6XlJT8ajBwNIbmmi4uLn7+858Pw9AYMzExkWXZGk8FOqhgXYA++/0QGndwUCX6Xkv6yt/3gqaLCsYFYLXecvzxP/j+D4477jilVBbHYRjavVdme7803fGXjKmX21ZJSckjmoEtO1W8bd++fXZ2tiiKzZs3T0xMPAo7Fy+5kvVSqUvpFsMs854FYyBpNIZuVY2F6HO8ewa3swIghQOL733r9pe/5GVHbz4KhZVCSl/SXUJvS73UaX9IfYkjf4C9LSkpeUQzsKOdJEkQBHffffcpp5wyPj4+NjamtX40TyzsFT6u5PLWDdr0zDot7D1Y97HHkzeAwfT09P333y9cCcGyOO18qjsmevbZ7jH0oq9YZk+VfbcOp/+qsEyc/leeBztSu8/fhz9mScnqsV+fnVSc8jxP05SaVud5nmVZtVq9/vrr161bd9RRR915551Uxk5rKqVqtZrWul6vX3/99bOzs+vXr7fW7ty5c+PGjaeffvr09LS1doVGcKXQVFiaCj/E7RpjKAJDT6hMSFJpOR6a89tZgXeeL7v+Pgu1VowxJpn0ZFHkjusaZpbN27K+JaKvxL5biLPc8n3ZNzmw9zuPeBff7vNkn2NENxTW/xfLrL6ftlwlJWvOfn12alxpjAnDEEAcx9T79O677965c+fWrVvTNDXGUJ+8HTt2+L7POU/TNM9z3/cPO+wwz/N+9KMf/eAHP7DWTkxMkDyk4zg9ybBVhQwuACnlyMgIbXGIyd7e9Ylm29Jx7Xl70P/nfROgS2x9d4lwZK6KL9/8lUMP2+R4bl7kQRTmRb7fLTKAdYy56Jl7ttzyfkp/sw+z3N+H+ksqz2TJL4P9WnYqepFSUqTFdV0p5eLi4u23375+/frR0dEoitrtNoAkSTZu3NjfTjoIgic84QnHH398pVJxHOe44447/vjjR0dHe8Iya1ACzzknsZp2u7179+6e5OSwxidtHBIlpm5wJEA/rPH3x4033jg1NeV53rve9S4AWZZlWTa0TiZsnye9l/vcVZRzm0pKDlr2a+lItVEIkWWZ1rpSqSilvv/97+d5ftlllwkh5ufnoyiy1qZp2m63SfyLZGFIw/3JT37ytm3bTj/99FNPPfXwww+n1hxaa+p6vAbHRqKSURSNjIz0RMyHBZ0cOmS6/jmOswYFQlu3bl1cXDTGvPGNbwRQrVY9z6NWtMOhZ7DZ3i9LVkZ59kp+Gew3zk6eNVF0yfN8dnb2b/7mb4wxURQFQfDZz3728MMP37ZtG0Vj6LOtVosxVqlUjjnmmCzLSMQ1TVPHcSg2vVfgomQQoiian58/8cQTv/SlL917772bNm0SQlDEbFhYgDqBM7Zs8PlRx6O3nrfkEct+LSzNNbXWkgh7u90WQhx//PFnnXVWHMejo6Pf+c53vv3tb5933nmHHHLI6OhoHMfkv7uuS0FtpVQURdQBNU1TUllBN06yBsdG0Zgsy+r1eqVSGa7brpSiI6IndOWTUq6B2z4+Pr5jx44dO3Ycfvjh6JOhHworKQIpKSk5yDhQBrUXvXVdl8IO09PTAKy1WZZt2LCBGimQFDsJK1LekmppqBqSVqC2eej2Jl2DaAztCUVjqL0fhppBXRKNoUNem+laxphms0ny6KSTTlmEh4/t5gb7H723fjUN/QGy1vtPbO9n9Qd9u6RkjdivJUrTlPrmNBoNrbXv+8aYer2e5zl1ShofH3/JS14yNTU1NTU1Pz9vjAmCgNKt1HyDzA1VHFICNsuyNXNse3cGSql6vU452yFul1p5ANBaG2MojzqswQ8AifaMjo5SaIs60g09i1BSUvKIZmB9doq/SynJ7lOTDVI6HGicNdBnp/sDAPPz8+Pj46u6rYWFheH2/+uXkqcinF6DOpLF9zzv1ltvPeGEE4a4UXQd8yzPAHhu54KR5ZnvPjIuHkVRcM7pRFGQiho0DnpRpyovzjndmJKbQldQUmHrzc6jRJRPXcWXg5qQ9OpuaU+omoASTvS/Q93AyxRUyVAY+GcUhiGlVansD0CvrHv4e/fwoAuPMYamU/X+f4YyeEfZkTH6X6WzMcSTQPaoZ5J6J1kpFQRBURRf/vKXTzzxRAA7d+6s1WoU7Hr4MKAoip4dbzab1WpV7Eec+CCEDC717aKk/cq+FDr5cRzTgGTT8zx3XZeW5HleFAW9PMAmqCa196uj3A9jTAjRM+ukiU33tSvY1ZKSfRn4l9RoNBzHIY+SkqvkeqxNLGIgem7acG06QaOxvRni+P3t/foNBy1pNptbt27thZuGaRGMdaQDi0a9XhsZcYSEBS0BHgFzUIuioHsa13V7v0/s3/PY906z/4gcIR3pWG1mZ2cnJiZcx03jxPM8xrnkwvEl45w2SuZ+39Go4Tuts2SOXm/H6KqcJElv+khJycNkYF+MkqIAKGtKkgN0f3qwQf9RFC9ajcF7xr3/5bBYosFgjKEpwXQs4+PjzWYzyzKaTTa0mV8WACuabVjUaiMolO95AFr1+jIrHpQ4jhNFUe+iTmdsBT8AujF1XDeJY8b5uvXruRBaKT8IyJpzEquwlgJl+xuHNp1lGbnq6N7tFUVBb9F0PwCe55VmvWRYDGzZSSSg998ipQzD8ABBxl8iS+xdz30bCj1BdkqlGmOGW/DT21ua2NWz7HQRLYqiWq06jpMkCYYbCjNwPB/KwABCAhy5qtRG9tq3oW1s+FBQm24iKcrxoB8xy6kFCCEoiOf7vlUK1hbURyxNizQF/ZAYy/N83+a6SwY0xjiOQ445VRZQ2RjZ9CiKAMzPz7darYd99CUlHQa27I1GY3FxkSQE0DVACwsLq7BvQ6MXqh6iW93vs1M0fJUKfmhwKSX5ho7jNBoNOu2c8yiKsiwb4hzUvNEAF2AcWYa8gAWE3EuHsssA2ilrCJXqkkdMDkeWZftL7x/4EhUEgSoKxjmTkow4GHN83+nzY9wDVtPSUsrEonuRDoKALhtRFDHGms0mgPHx8VqtNvjhlpQsz8DGaGJiggpjGGNJklhrK5XKwemzL4mzY6hVjz1WKRqzbzkHufCNRqNWq7muS1dTSuINcQ6qW61BaVhkzTakA6V0HGNNZpYNBbqJcRyHbm6ocGUFX02vZre+uAggbbejWg3GpBQ8EQJaF3mOhyDg3LP7PYWfmZmZiy++uFarve1tb6Ouk4uLiwAOcg+p5BHEwJbupptuuvbaa6+++ur3v//9H/3oR7/61a/Ozc2tzZzSQelVmpNW13ADJhSHpcp9+ttrhTosegFZdOPsWutarUZRgsnJySzLegV5w8ECyoKLv3nLX150wUWweOf/e/t5T31ap3NHt+k2gwEMh+F7f1T3PZaf2dSVfbfddfYs7IwNGEABqtPEz+5nwGU05C1gcOGZ5915620wsBo6VYKLSqVilO2M3OsZqIACrADTEHZPoxLWHdBlHgzCSjQyNgqtzzjt9Kvf/R7k+sxTT7/63e9JFxtgwpEOtIZdmpznfQ8AveICMuuLi4uf+cxntmzZsnPnziuuuGJubk5KOTo6uri4ONzC2ZJHMwPXVAghpqenzzjjjImJiXa7TQIyrVaL8njW2p4MOnmdVAtImog0r5Wer8KxLIWmRHHOKTcw3MF7AVwame5jhjg+nTe6eaetjI2N0UZ7c4OpFG/IN0ycwWBq3aFbTz8bFodv2rz1tK02zlhEdZCdGAwDOjbQcACW77G/6JpIDkggjTPHcYTkqiiMUq7nAaatleP6AmBaq6TwQh8MWaI8R0Lh6j+/6jGPecwFlz8fxiQe4PA0zSq+pzLDrPU9oTVyDddDnBRR4HBAF2DaCMHtrtbjaodAwdEO9xhypMr4HkfR2TNrwRSueff7DplYf85ll6LqQBoLbYUEZ7AoFFyS2VeYi9uVWuRxcdapp2+ojoCJ808/c9yP/KiGVlIY5dSqeZK4YQAgyVLP8xgYrGWM6UIJKY01vZ+K67pZlo2Ojt55552XXnppGIbWWmppIISoVCrD/B5LHt0MbO+klNVqNQiCXbt2kU2ZnZ2tVqtZlpHh7ll2UtClv0VRhGHoOE6z2aTLwPAPZR8ofNFLRVKec1iD9zKodD0jF35Yg2PvpCjdbaRpugbqx+3ZBhik6y006gCqIzUIzsJ9pymRDd9zPnvPSPOd5ZAaaGpfeEJztCC147IAiiNFRfqehV2MhRKe8NE20PCkhAFiVFgQpBw5wHgouM31uOe5CiHnAResgEwRArJAzXFECpZBWgjGEePQ6mQ224QGdxntk+/yoq6ggBRgYBxgaM8sopHBcRBnyAouHclZtpijgEvdadtAjIlaJDkaM4ue46g8Rzt5/NHHcG1RbyIInEoVReEGHbPuez4Dy4ucoWPWARilXddN05SmBHqep5QiWVCastArhx/u77PkUc7Ac1BvvPFG3/fPP//8NE2DIAjD8P777w+CwPO8drvteV4QBPfdd9/27dt37doVRRGVKKxfv/7EE0/ctGkT9R6KomgN8kW9qUO7d+9et27dKm2FSiPm5ubGx8eH27OJpln17jZmZ2dXfeKuATSKRu5UXLroqziToaeKXAYuALCOz76nmN1KAJZ1Qh0CYLYTTsnv3X35c57/zr94+xte+zsvfMELz9i27eJnX/qX73nn2S95Liyw0H7mGU8t2kkQRG+48orTf/0SeLjqz9/xxeuuj9oWcWa1qUyNHXnalj9971/Tjv37337og+/7AMAnJiau/tAHw8MPgQfEatddd73kRS9MWu1Dpqabs/Xrv3ozpkfA0No9f84559TWjXNtX3Dhpb/5x2+AxPvf84GP/PXfTnjRhF9ZjBeKCNsuedqf/PVVcTsLHe+z//Bv73jHO6XGVFD7m/f93dSJRyLs6wKuFSDAGBiQpZAcjvivm7/ytAvOf//VH3jxS15CX5UrHGsM47zIc8d14ySmREhvMupv//Zvv+AFL3jSk54UBMGSb7mkZCgM7DtPTU1t3779Rz/6EemwP+95zzv88MMp86OU4pyHYUju+cLCws9//vM4jkdGRiYnJ2neHclXDTM0vH/WpiffKmVQe51MekvWYpYvg8qVU3N7alay4lltpE9mHXSTt3cAXaETe+EAZ7YTH4eBY7huFnff+eOPf+Tal7748sdMbvrGF2/59Ze9+OxnPBdpcvmlz/r4B/7J33I0Ujzn7DODDVNPPvuUN/3J77/pD37/H/70XY8//HEn/59LkAGjgAFiM/ODH116/oXPeuXLAHzrE9c/9+Jn3PCjbyPHA7f/4PVveN3nv3cbLNDSLzj9zHx+0d04Agef/vgnv/WjO8CBFC868/wtxz7+pOdf8Fuve+VvveTln/7AR9aPjJ1++bPhAcizVIWBd/fXv3fCkcd+7b9vgcQ9n775D1/1Ox/9zn+a2DJrmCfALByJNAdFw0IfDEYXuSq4FOOTk5xzhwtjDYA0TYMwdFy3yPP+TL4Qot1uf+ADH3j961/vui7ZdGpDtupfbsmjiYEt+1Oe8pSjjz66VqvFcfz5z3/+xhtvfNaznuW6bhzHlOWfn58fHR29+OKLN27c+JWvfCUMw1NOOeWkk06q1Wpk0CnsvgrHshSlFP3zUMAEffVnD5+eugDdGVA0ZogtXsmO02gUhEmShHpUDWX85WGQkYSFVuACWZZ7nstE1zB1Vuo/gQaWMpKcMd15lwMW4GCTE7uS+LQLf81YsUurLZc/Y+67d0vlwOAXP/zfC37tUv+EowHAxR+95S3fuGX7k885hT6YM1YELjwgAgB4gMPXn3oc2oADJHjStqe4E6OIFUbkZ776xTe+9U8hoecWxdhoppXr+ODQO1oveu1voQDm2piMLjnvovZsveN9uzzJciYd7K5j04gx8AIJjccd8ThUQmigjc2PPfaBH96FBNxl8AU4tLHcaua7UBoM0BaOVMZc8Gu/tthoABBcAOCMW22klFYpJqXjuibPAJBw2yWXXPK5z31Oa91sNntfZf+8qtJ5LxkKA1t2ivaSjT755JM/+clP1uv1iYkJay0F2dM0JRt02GGHnXTSSfV6/Zhjjlm3bl0cx0mSkB4kVXesNksEAPadUTLEwYcuMNC/t72S+TVw25XR1louJBg83wWQ5UoIIcQ+x2YB8G6oArBsT3dvAAmg9NTUVCtuj9UmRibHsSs2lnHD4OD227/3Tx//+HWf+WyStCcmJv535wPPfOkLdQ4BgMOrhC2b6dTwKi84XI60nnkKl1146fzO2bHKiJSy3mioOJZjtZ/c89OnXvQ0SIjpUSgwV1pYVkCsr/z3tTdc9ba3J3k2UR2R7fzVr39dZ98KcCF27J7B1AgYuOfGrTz0XXDnOVtO14naUBtXc41jHnskFhMcEkDBSHCHA1wnmQCD6+oiFwzCkQbwPR9Aq93yXdd1XMa547o6z3WWFUURRCH9d+R5fv3111NG6u67765Wq/Qt99JOpWUvGRYrsey+71OrjVarFQQB/TSNMe12m/KrRVE0Go0oirZt29ZqtaIoovA6iZiTssdqHMwSehOU+kW1hkVvtNWYBoXutHi61aBNrE03PsGFgrKwudaSc6WU12uy2rvR6s1aYujGnWnHeGe5AVygzdpzC+NeZJpNN9dYH+qftIsshcaTTz3519VLX/Ka/wu/87mibUQEZEAOw+1c3BATXAtIA2j4Fe8PXv66l7/kpU+//AUwWLzj7st/86VyrIYWjth0WKveQA64QA7pOnGeRQ7uuvV7f/THf/zl79yGKsNMcv0HPuK6LiyQARGsJx3Xh4VeaImJShi50HjrFVdc+Wd/+sQzzkUg8T/3v/BFzwNnAOAgyxVjwhgV+p1ksvBcC0AIADNzu9dNTFaiijU6TuLA8RhjwnUFTWViHWEZSqX6vv/Sl7703nvvPfTQQ/uVZA6sUlBSMhADW4ogCKy1rVYrjuOvfe1rj33sY6enp9vtNgUKkySJ45gxFkWRlLLdblcqFTLlNH+SBDRoRvVqQ0GMXjRmuPXsNBpVxfQGH2KUaUk0hu6T1qBaNMsTCS5gjcoF45ILo3THWNtOinXPXwOAg0kLrsE1YKnakQEWOmkJX7BIJjqBb+0vdo9tHFcegw/rsn/62EfQzJADKQA4NQ4OeECIai28/2f3IANSywHkQIbv3vrNQybXIwEMvvyFm6QBFlrwsfmwTT+58wcAYPDUk05MVcE8Bwzz7abwXVQZDJCm11z7L7kqoIAAUOC+++P77gGHGKvAIGllAL7+zVtjqzAp4eMrN38xZloJAwkLBIF0JBPCyQtVqAIMhVYGMNbc+KWbjjjiiI997GPGGsFFGIRcCKphN1oDqNfrHb0waz3PS5JkYmKCHJ1eVQz2EcMoKXk4DOwjXHfddYuLi2marlu37rTTTtu8eTNjLAxDEjyiUmtrLcVbqMaLPE2yqvR8bX7E5AFxzklGdeiKXf1bWSLj9/DpV3CkkaMoGm6QvT/g05Mj912PDHbguYARnMHyjk0HkBkIDg6Ybsl6d1JR75rGORwHjEONyN083s2azsZwh9NuTdqFmVZSBRg2nrT5huv+/Zlnne0CbuAvqvjN77lq6/lnQQAGz/n1577nL//q7GOe6Fb8k8/Y9pfvfCcM+5ePfPQVL3ypitPRaOTKK68MpUSawVQu+Y0X/snLX3vp1jOttZ/8+Cc++PcfatssdHDqeVtP2Xba0087M82zp515zu+88Xe1tCCHO8DzfvPFf/TGN533lDOzvH3BJU//479+SxGrd3/g7373la/N/99bql5w1ZVvzUKeeZwJZLHxPS44kjj1fIcJZgEmhIXljLcazSLLx8fH5+fn109M0tl0XBcA57zI85GRjuoOTRgOgiBJkv5fI+e81WqRD1SKgpUMhYGrHhljNN+yV+vSMwoDjbMGnTfo/8QYMzMzMz09var67LOzs+Pj40OPg9PgdCHctWvX+vXrh3XDvuRs9Fn5Pj0Ysumdv4AyEBwWSBR8CQBNhZrcMzGpd2rpSpBpuAKFslqz0CuyxPECtBQ8iVjDF0iBWCGUyDNMepBQhZaMo2Cot8E5KgGsgiehgZYCJASQWPiss0Xet916C6MVKEACDJAAZXM0qc4DhcUYSzV8+pZyquuByWI+GRoNboGWQiSRAwxo53a929CmIrlOjOtxAOBoJ7EfhABa7Zbruq7jZnlmrfU9nwNUDCNF92tie75H+pskyRVXXPGsZz1ry5Yt1O2AZpyRm18GZEqGwsDRGCo4GR0dJfUSsggHp6Oxrz770BXBVil9ir1Fpih3Otxprksc9r3f5LDdR/8vhM5nYRFIAFBAINEC6kADaACtzgQfpEAOcAENSM4CB0wpnVqToCohoSMLrhACbgEPGPXATaqLQucwBXSGkQA1DzxHRRYO4CNhGWpAAIwzuECIXCUIABfwkeoEUxU4gAtYWA/1NKPn8AD6eVZYYZFL0851mubwgABwwEdCMBQc2liMSLhABHBg3G1oU3BoAGyPPgHnvMgzDtSiiu+4HAhcL/R8Dqii6LTUYMiLnMw6uUE970cIsXXr1muvvbZWq/UaGyRJ0muxVFLy8FnJLynLsjRNKTNJP1lqUTb0nXuYsFXWZ+9/sqr17GwVulYtseZLd551E6Tdte75nx/939/4jZ2/2LV58+Y8yZIkSeNkfXU8aFqpmeIohDXcaAbDjGVGSFx99fsPO+lEKI2sDU8ElQo4krjlhxXlSAUgSb2JAFmqioIFEYdwpIABVA5u4PDFZssPRgDBAH8iMplmGpYzHnIAturF1rgOByCrgQVazUY1qMFBweBVPFgkReI7gc0L7jkQyIUVgnsS0ojOoSkDyS0DE9DKCs5ywBTad0TSaLOJyAGyQlc9AQ2T5QU3fuADsLBWGxJtj9PEdz2Ssuh1xev1RSENfUrGUGzwoosuuuaaaxhjb3/729/0pjdlWUbpK+pgNcRvueRRy8DRmCAIlFKUyiPLTinKgzYaA2BmZmb9+vX0rzUs+9izuXTsqxqNIf+dojHD2kRvgm7/xWOvhn/9lTC270mhoQFPdIItpi8U0x+NUegUtjMDBuSJ1kpUI3Ce6GIBuS8iAeuBcWMFF7EtOOOuZTYrXMvgiFQKDUgYWJ3HSTWs6TwXjgsAHIUFY52NpHE7CjydF67jwXCjVMtFYc2IcAVgANFRGdN1zxghQnCvlxC2gDEtx2jYinCoilMArAAKFYeyAHzAA+LFVlirWGt6Bf4wNslS3/WY4DCWCmmMMeTuWAbOuDWGJiiRbJyUsigKyj/1PPTh1uOWlGAF0ZjZ2dl2u02/Rfqxok+j6uDkkajPviQaQxLtQ7xy7BthN8YkSdJTYbT9lpoBDLMzMwDgiixLwQBfgAHSascqqXOhM2EzYRWzhmk4BgJF0rR5Bs4RRKI2AghY7ginIiIGWKhcFzAGgMMcBmEZd3wPngshGmlqAAF4jFWjCkX/8zShwhzLoIFcZ3HWisJAMLicAQZGcU9KLl3hNvO4lSU5jOYdfTIpHEEGmCFrNmENGCCYFNIRDoAkjq1W0AZ5AUda6Hq7zoBCmbBWAcA414VK2jEswFjgB0mS5GkGxuj6R8p3nHPOuDZ7WsCTt97LmkgpaVJIo9Ggc7xjx45hfbklJQNHY4IgIBNDvXqp2m8FPvsa8IjWZ19tdYF9T45SKk6ToFLpFcJwAAx0WM16a3LDenLbvfEIADJluWUOE8x25cEswI0AIABrtXXGqsaisABHKysCzzFxGoa+D8Bo13hQAANya0NG3UO0sgFjMBgxngvAGG0KwYRWSri+YJJ2L9e5FK4rPC4cAEZrzkVnv42C4BYIXJ91RIANzzMjGMAUlFLGFa5XiQCAITNFS2sAgQjCwAcAbcEFjPHAJqMRABYanMettud5QspAShijlRKuG0YRgCJNHd+n9kmds0GlsOgonvY89CAI6N6I2hvUajVrbZIkGzZsGOL3W/IoZyWWPc9zauLjuq7neT3P/WCDtPS01qTPTguHZdzJ8+qpC1C90BA99/56dqWUtbbdbkdRRHUUw6L/ymGMWTI32HQDKgCqIxUAaZJJKaUUAOBJxgDkFsYCAGewZNwtrAWDQCvNfN8DQ6KM5zkMCEOfWWStdjWKUKBTheIwaQClhSukZGoxl6HrOQwGSmvpOACECRZ7eAAAIABJREFU8LVSQspCFZDCEa6GUVAuZBy3RsMQFjAWUihoALktXOZZWIDltnCDQAAWyoMIpdupx88ySO75Ll29rC4YOBjraH7lqfB8AcPBhHSyLAujCMyoIpNwIbgQLoV0VAEHPhS45ACsRpGDce5IXmRwPQjuwSKOc993OWeci6IoRkcrAKzVxiAIAtNJzwLA/8/ed8dZUpVpPydUvqHTzDCJHAdGQEEkg4CElVVRPkFQTKso6JJBUBBBYFEEBcWIK4quoCKCAVYWhXUUUJCgwCKODMOEjjdVPOH9/qjbPd0T0NEeZNd+fvdX3bfurfecOlX3rXPe8LxdEuHSlW3GfR6TcgXGvzMRyCSBtYqO2/GtnJpZNhVThHCAT7G8TRji+Jog10l3x3jTayYC41zJZaNd4Wb8VsIkKeMNTQgrT7BLOSehJ521KCWXQsSaY5mdIopNdMBZc//aqScyJY5rQmvxKf2ZPPiYNGgT5rsJId1eiu431x7YqZhy1brU/Wtan/gOW/f761wONum1rpDx9xuHiSI1lUolyzLOudb6xSCr2kgQUZm06ThOpVIpFe40ztnLiM/SSFJuy3+mS/7kkP8yyWva1TrGSdxK/e77fq1SHf/prIknnGyV8UNPumLKXiYZXA5XQEpIF8KFkGDl4ZHvCcABKpJ7gAewrq1HgIBEd/WUAXLUpPAMhIIM3Al1ZqTMgMxaA64sEXhZ34SAzBQCbkLKC6sFuGFcMyRWG+4QmMMcAAxMAC5z0lSDUDHSzzg0kAMEOB5IIDOugpsUnBxA5GkGzuFyVEKAS3AJxgie64FZolxbBcF0qUMMsjaggByUAgZkwDK4CrIAJXAJKEAa7ZYOA5csQGCA1gWglEmUzoQQWWo4g9GAQXOsVCGq2RqGBaVAgnQUKJCn3Z+3NQBAKIDMUALYuKNhoQuAYIwCjKXcUFYupdLOlAomnTZAIFtawlShW7nqdIkiCHmC8qGbt0AxkCIe7SoxpfLyFACb5i1AWQNoZDEAC8RACiijuzooy9tAmpuRwowAMZAbmwFGl4V2DYwCDKCQtWEUANvqDJapwp1BIIXNQRbtZBXQKcwY0M2b0wXKI5PYWD2h9VIgLs+iq+U1GquB8TE0MaCgsrKgTVboFpAbWwBQOWCRdutO5oDKs3KPBmAtYKE60DFQIOsABEOZQadQMSxMAVh0WqDxZwlZAGi3m4BVBZEZd7uTIqI8T4Fc2073AVleU0KelSMJrbpjaDSsAgrEI0DWzdPuPlNgy3je7oJ50sNyozVROUtdsmTJFVdccfvtt990003TSIM1jSi7pJRqt9vNZlMpNb00ZOUk3RhTbpVSJYPCdMmfnHSulMrzvNPpTCMrQ9lVx3FKO5JSqtPprFixgq01IVgvpnyj+xRga15Y9yXKKHNCkShYVKv+dVdf/9rDj0Aj/eaVVx+9xz5dBpqJGVY5iyJIJtrNtsddAfjSYwQX0gN3AI+JuNOOShpGY7M4l9wJpKuy3AOLwFutTifOytmVG8o40SAIzh78z/v2XbzbyoefePCHd75u3/2XP/b7ruVeGyjl+b6xhjiIAeuQWzImfS9ESStAuOgjXzv00PdLhisuHdlpu4u7E1mDbbb88A7bn7L33qe/bPG/bLPNa++//4lqVXZiVZb+ABAEklA4wroOiOD7otVKy+DhapV1Ookh43p8xYrkZbuctdXmFx2076cffwSeB22Kdps4Awh5nreTMcF4khRRWGbMlZ1kSitrLYNDxAB4PsChDcAwOtYqi3xYApHRNnUl9xyZ5Unp3/FcgHDhBT/df5+P7r77R3fY/uzXHHLhU79HkcIRnspLDSUCL8pVwoSCgB9AKWNsQLaWJ4EAOm0UOflemOa5J0JXVAgyyTLBGaClRF4ADMbg2aVm113ed9ONjxKBYGuVWprgYxf/7NUHXb1o+0suv+Q+BoRhJcmMK6pZXtKrQUhoUxBUGAkuJ9+vE2V7vfJaHHX4RVss/MCee378Va/60OLFJ99665OOA8cRaZ660gUkg5tn1nGRFwgCJEmmKU/ztucBhMCXxhDn+u67Hzxg/9NetcdHd97+7BXPAgZGcwHHdWShUSjkBSpVALAWRQ7GMNZYVa3K8oowjiQhxgRnXp4ZzwvywihlASRJVhTExn9b1vKiKMBAQKPRKlMDP3rhD4464tLRIXz4Q/ftsug9k/T4RLWwKdhoa0ye59/4xje22mqriy66aNWqVZ7nOY5TkgdsrKhNitJI4jiO4zjlnLd0CUzXtHqtBNFyHKZFcomJ2ImJdIHe3t6yvtK0oOz2RLhqOVBbbbXVdMnfENzASTtZUPdr9UrfQC/6goHN5uy+5x5giBudqKdiO/lNX7xhzpw5rznhGKbBQbMqvd1FdjtH5MnMwjBBiHzHY0x2b2zpCYmxjAV+xXgokHXS2T0Vw9HoFFHkSgZbcpZlVPHDkMu58xYW7fbQ0NCCHbYHA4ggBbgAAxmNSWvmNSCuFUmHAxgcTOfMDnbdbacnn1iaF9hm2/499ng5CIwhSRFW1W0//uzcBQAhiACO0cZovccX3BJ5ljRnuUXcaI321+YRRYwhqshc5YJ5UqISVQxlgeebHv7b331SJdh154tdB+AQLI2qLoBWK63Vqz4EIFTOCwalrZDWD2Saxq7rShGSAeOwLOWOylSHOywu8r7+Aa0gJYS0QKHJGjBQGaZpuOS6QJEh8KunnPruE9+xgHHcc5c6/JB3/ujOG7bcBmEVRkMp5oee5+Qag1LIQjuS96HAD7/fuvun91597WsrASBZmiAIZ5VqKIkRVSuELEmbrut6ga8NcwN/rDmYxvCcPukAMEAl8HHhJQeddtpB3/lWunLwSbIQvB46HAa+h+GRlQP9A2U1LwYAjUwnvlMBHKC2xmphumuCTjx2973XLtgc0gUxOB6IUVGkgdejlNVKWMOjCNpqx4PSMgx9wEiPqwKOgCrgeCxXzUNes/t+/71newQHvOqqtAEouG6YJIkXGNfrwLOGCEwycKOF67rGoLdHaDQEhVICLA8rsNrjDL4n0xhBUANDHKdRFBgNxtHpqErkABDcFVJbUj09tTRG4GL2nJ7Nt5jVN4D5C/sOfvXe44+xSUYY9rfN2X/1q19tvfXWBx544NDQUG9vbxRFjUbjJVjoq/TxWmvzPG82m39douwLYC3emOmdsGOqv7Tkjel0OtPozyhFlZEb5VgZY4aHh6dL/gbbTYqg4gPgkm+7/bYozPwtNyfJAUR9FTAwgsmLPE6QlIYLBg20FQrA95ADjgPiKAg5pJR6OOmuR5s5HB+DLTDAwHcDKGDM9nuubyBSVH2Rj2bwWBx3/EqAyPV7qjzwOo1RMMB3y4X0WGPM0AYJhvi4xXnO3AAMK1Y9G0TWCyH8tHd2oQlKw/egC+lI+B4CDzBIE/T19AkKbeExBW4kTM1k8/oru5DuIwVoCOt43IMCNDotCOYDTqXqCw+NNhi8PEWegUFzrgFU/UDFvNOs2CKoB67LEVW4H0gYRF5dcK/IwTRGV4EjaHVi3+l1+UDkbUmmQgWKGFnCjQ4k+rjpFbYWyJ72mAMNKRAG6O3ZrNXqGAbu4pDDnc9c+6mr/u3mUAIK3MKXgEKR1rido0i5knMCN2BFbXRln04BjaSNwHdAaLcobcIkQA6mfUFzHNFLEFLINMZuu8z93SPXn3j8gjyDoQKwpaG+1osoDNIYaQJreacNWJDGQM9cWGdshFMRwVZGRku1jq5Vvbxy41N4zpAljAO+BykgJcBhDHET6cRB7gVCRhI6ARWSW+lwQEOnEVRQPmiGVgEWnuOleYM4hIQrBgK3azkJ/VCgAqqMjTKBeqvhWh1I7iYdCAZgVtKqM2LtJlTuGeUZDa1ABnELUDApIieAhmDQCkXmwKAzBmExslpyCpqNrJzOWcSzNgtaMRZu0atte9KCWo5nXU9ZZW+0plu2bNmCBQvyPO/r6yOiRqPR39/f6XQ2Vs4M/jEhIxfGFkofd8JxF151ORjtfNB+l1x7TckBcPnFVxx+6OE3fe2m6z756YN32/OYg4742JkXoMDyp5cesGh3DHXAgAxI6OKzPvTjm74Lg5/9+KffvOYLd3/z1qMPOOTAHXe752f3ggEJQcP8cfTwxa86YutXHb7lXj++/psYIS/0kWGPww68/YH7lNBzdtvxv594rDJvLorM5hkEt9a+75T3RxtKF2Kay7QVLwdSMBsnOPUDx/77Nz4WKxzzluDaL73RsNxxwQlxozdvgWVACmTwBdImvva5obu+gw+8/aGtBi763S9x4O6f3HO7qwefgSjwvnfcctf38C/H3fPqV312/sDbly8lWGSpBCFO4YcIg/6BHngOxlodADrH83/Anjtes//uH9lt+/M+fMaTRRuw+NIXvvH/Xn8ZCmSpdh0MPYdD97n8Vz9vujS3aAU3XPfkTgtOfdXOly/e+mLVgs8gDHQbv74Xu2137hazTj54r48s+S+MrgYshlblvtvvCBhCZrHjLj0P/+bpPz6JpAmmccapP5zb+869F19y5ntvc+wC2J47bv3TDtuce+EFX3/st8/tudt1O25z1vZbH5XGyPKkWmEP/QpvOurbW866cIf55z92P1qDIOXCyH1ecdLi7S/YddGX7vwhPBdpFgMtwzqWECfodNJZA3PCAJxbv6LBEY/h4vPu2XXb0/d+2Wmv3OWcO24Z6q/MI10D1UDeGgcj1+AtOGAMkuaX5veigbyFuAkJ/p2vD9/5XZz+nl8t7PvQ/zyCfXb7zPZzLxj6E2yC9739lgfuxgff/tCWs8/YdcczkmbpgPB9L/QDgEFKWRQwgBtA5UCBR3+F1+zz8d22OXeXrU7+3Ccfz5vghFtv/v0bD/90jVdQwBfIx/DKxR/49QPLpIQtcO9PV+6x+MK5ve9ZtPWZoyuhMkiGviru/lH+ip3P3mOnf9tn13N/uwT1yC8dTqd+8Mirrn6bH+G1r5v36Ws/2H10EQAx7hqbOhsZ2khceumlP/rRj6699tpLLrnk3HPPvffee4eHh4eHhzdWDm1ilPEkJZIkofFSpZuoubGxsekVWDoGJne41WpNbxNEVBRF6TAo32ZZNu1NTIElinPSlBU5EZEiyogSopzIUJ5ZUkQJffmsT97z6VuoQbTKUJMoJWrRBW874/E7HqQ20bO5faZ1wFZ7UUw0RN/65Fff+IqjfvLZW6hBtJoOXLjnn372O1phaYyO3fZgeqxJQ0RD9IYt9vnt1++iJqXPDJbNdcfWUDw8RobIEllK0/TwfzoKDJpId/eN/7FEpAo1QjRW6NE4aZCl8kClVJZqIspVwxaUPk97b/Od7QYu3LL3gy/f+uPbznnf0HOUN+j6S7PFs2968uf02Yto0exrVz5KJxzy1M9vps5zdPLxP1k8/98e+xnFy+m5x2nbuW978hHT7YGh5iraunrNY/dQ2iKirN3Uzz9DC6Nzn7iP7ChlK+ncd6z62tW0+jlKWvSyLT788M+INI0N0X98jq46v6GaRAl96/r88jNHi+VkVtC3rqE9t/piMkimRQ/eRdv0XKZXEQ3RU7+gLWpnjS4n6tAF73viG9cqmxIZylLdHqXFCy9a8Shlz9OJR911y+eJhohW07+e+OhlF9xjYqIOpavo29fSqcc+215GzRVEKemcjFGtUbrhqnb2LNmV9NjdtG3v5cseJ5sRFZSNEo3S6ccP3fYVSptE1CEaI2oSGZ3Qjdfoy85eOraaiqIgMqRpyV10wlF30DDRMNEoNZdT3px0qcrLZsp7a5CI2ito8dzrdpnz+cVzP7PdrHMP2/f8ZUtbaZOuuXB0Uf+NT/03XXnO2A79n2z9kS74l+Hvfp7MCP3LsT/ebcFnf3UH2RH63RLaad65f/odNUZzosQaWv0n2r73umfuJ1JEZKig3y6hfXe5/IE7icaIxui9x9737S/mlNKKZ+hl8z/17MM0toIopZu/aC4583c6pqJDN3z6T+ef/HixgmiQ7rqJtuk/h1IaWk73/oj22v5TyXNEg/SnB2iuf8ZjDxZFSp3yHFX3ZdX4adqJn5YZf3Wx0XP2np6ehx9++C1vecupp5563HHH3X///YODg3Ecb6ycTY3SwlB6UIeGhkpFOY3WmAkPammHKSl2p9EgMzlBsfSgjo2NbQoPammNKT2oS5cunS75G4QnAes6Ulul0wQcMNqmBXEIj9kCSG3o+xIMFgg53K4t8bVveuNXvvF1MKDPve3OO8+/6CLTUojQP2ezvfff//CT3oQC8HDlhZf8z/2PwGH/8+Mlrzn0NZhbQwwIXPmZq3/x6wcg4M+bZdopZYqDqSID2bC3DoYkTZI8dXz/Bz/4gbIbcLaTdGRPXkhH+GHgWwuty0kc93wGWFdWx0bg+xhrLf3ObRcvXfnpex86/+nnP8c97XrYbJ533AlHLtwaw+1HzzjvmM0WoN7j/uEPiEIw0fnkde/aaheEA5g1Hwfs+8+UcxDyQhUFjMGsgTmMwfcA8pgWX/3yf1159Rk77gYWwKvhrW+fc9Unr5k9AJPhlPdc8st79arl6Klhyf13L3pZXXrIc3z8om+89tBeh4EMjnszOp1k+XOwGj+5Y/SLn/tQkQPA9tvjlFM+cMcdT1pCT2+Vcw4LlcNzRNxBJ/vTaANJG79eMvim16M5iiLDhecvvuXGp3UHYCAOx4XwRitzUJtrh9ojhiznUnC8/Z0V7oBJ7LIYEpuNDcJoaAsvhGFIsjGl4PsAvFWrO0lqgI6yaLZGo7DWU4cjHFieJxgeLB64/+FmA8bAWNR64IbQSMEaYJ2uDYIAK4EaDCoh+ga8r9383kf/+IGnnr/iW98/d+GWrh+ir6/3Xe8+ccvtEPSsPOO8NylgeOwPwgFnkG5+0RVv2OvVYAF2WIR/Ovzto6tQr7oAGO/4FbieIQAM7c4oLG793l2nfOCde+6D0QRwcdZZ+519xkVaIwxxwlve+dP/tD0DgIN7fv6jQw9dJDhUik9c+oNz/nXnTgNZjIP2Qz3a5sknMNCPX9679PQPnh4E0AazZ+Hcsy9a9uxKx0FUARiUBQRybc26wZHdOfsaOr+NdnuOjo6+7W1vy7JMa73zzjvfeuutzz333Cte8Qp6UQrg/eUo+1M6Bsv8kektDD+hecvQoLKhaZQ/keg/4UGtVCqbwoNankjZ/3nz5k2X/PWDWQB52paVKuNCVBykBTyXc6TKOg4XDsC5YNwq3Q0fzoAIcLDn3nufdebZzz/53PydFl71qat/+l93ix4HQLsT1/p6YQAfyDE2OExKQ2NkcOjOO++840c/JM4gWDPvHH70kSBQmot6AAEw67iuUsZxHKVUEIYW6MQdx3NdvuEoXsut9uBaY0lwcF56wBxjC4CT8ft6UTTg+TaoIDOI6qmF6ptVSxoYHh1mIg2qvX6l6Yayk80z1Nl2W2gNgo6z56Oe/jyH5yP0Zj31BLZ7GRxHcELbYHj0Wb+0t2pEHmqVzbRtQ862HGThhdC28dxzWLgA2+2Af/3gZ953+hm/vC8n1j7iaGQa2iCJ9dve+otm+li933TiESbbrQ6kxPPLh08++fu1gbFG+09hUC1042OXnZrnqNUqo6PDjM3WCo5AuwXHK7baFr+4B77v7rb71+J0aPZm0cpVy323J06gHYRVVGoYGVumsBuwbNasOQDXCmGAU979/Xv/63GttWBVIWa327AWrgujoIGwoqUDENrtfLM5CwCl7Kgf1Co1Z+Xzo0r1AXAceB6Ofp0r+If32Ov8KIoK3X7w4SuiAFQGd8LpRs939btXxoz8cenTm82HAhwH/QNOVrR97lmDTtx0g552+qdZ0by+gS2UTjwPZGGpCOvtzM71HAgHq1YOPv/cjrsbFFYIxygN6arhUWzDUK3UkYFBRFUOgb7ZgIG1qFZ7x8YwaxYOO7x+/PEfO/G9Fz79TFu62Z57o92Bw+E59cWLv9YzK3E9k3Rg2ODI6CjQ9+hvn7n5m/dd+LEnPV+avCa95LTzDjVmcyFBDI5rszy2RJ5T6UbQT5A7MawVHrPRmr23t3fp0qW77LJLuZYveWVd131xilb/5SjZhku1VfatDNye9gBNGidamN5SZ5P7WTYxvelg5eBIKSc43YhobGysVqtNYyvrhRdFpkxuYoDnlvelcLgBYCEZclUURoMBGih9YwRGuPiijz715JOrV60655xzvAEfKRDAcRyt1DhHDZpJe6C3Dw7CevX4t514zL+8CwEg14ToM9+DgIHVZAQTwpEEgDMDYmC+768h4F0vCEHgAFrwbgxGFAaAEtwCZAmwcD2kWauMtdGGSeGBEIYII1noJpMLlR0ZayaV2iJL6fAIpIQq0FObG7cQRYDBT37y07eedIC1sEo5zOMCfrUtAygFLgBCYzTXJgWBM5BAotDOn1i4BcDx8v2w/6ELn3ocTz1WvPkth8OFL3MtPMdv3/KDfbdZvC9cACiK7ojNntP/6eveeeSxSDVcB0LAaAjCH//4x5123hoCgQuT4Wd3P/La1/6TH2HBVtDi6YcfOV/6UAy5QsUHGFKTQ3rKIIoiEMiEWeH6LtIYt39/iR/Qgw992A8AwrZbXO74cAMQK5h0vRCGrwqrO6UpokpkreZcO7xiFcBjiLbjAg7ArBWcBI56A456/WVG4atfXvHRi27/xLVHcx4CSGMv4MgzeBGaHdR7utGAWpkiByuVPgtISwgACAIPDMZmnAMEKaLSO54mVhXW9xF3ELl47Pe/eFftAKPh+m6RuypDnA5vuTXiDqKqoxRcTzaaqzvxQKUHIKxcCSFo1iyAY4fFOPDVe674I35xd/OEt75OBKhWoDOQGP7ZkjO2XAQDOAJpCu4AhO233+n44w79p2OhCZJDKThBSWMEwACF7zECUzpxZOWFEtD+Cg/q5ptv/uijj5YZ0j//+c+Loli8ePFL0Bozg78ENE4HVtZy2+Rqfdz6t2Z2MX5TEjDcbEoXYBjYbNb/LH0asYELdAACNHiFbbPFll/5whceuv/BVx9wAHLAByyyOFZJBgAWraXPf+Eb//7q44+Bgy132u6rN91om43yZzwpF5EMQTNoJgpYC6a0AucMrFCFFPKYNx4jOZvSwcm/nA2mcaZJPsaFzXKAw/MdXUACknwYL0lMqw1isevrvADntlL1wJCr0TIfzGi2crmKXMDglpv/eOTRe75yHzgOPOkxA1cgy7JWC4wgGAzh2ON2v/HGG0eHETeQxfjCl75wzXXnl460Wj9e+7p9bv3u0KUXf2bf/YMkVyNjQ9LBCScd8Y3/eBoShYEhuD4yDUjstV//medcBELgQTCoHEJAG8ye0+e5YdIBNO64bfDTV3/+bScdx13M3Rxwnv/pPUmh4bgIK9AMcBAEOTiqPXjk0YeYAdezfSHGhlGt4OmnnzLG+AHaMX76X0VQTYgjScDgoswk1nrlijRwwC2MlkCgsogbGM2ztChtDEna5sKWWQfEICR22GHeyMgIAME9IjfwcdnH/3OPV7z3gfuH6zWQgVLQwFbbzlI5uMXYauQxAt/RBp1kOKzqQiMIHC6oUOgfqI01kOXoqfeZogqNKMAPbn9qr/0WHHQYjEZrBC6hvw5rsHo1Ig/tBhwXh7xmj09d/Yk8AynA4qtfv/nq6841BGUQ1vCmY4/85tc6n7nq23vt42RGGxjp4Zg3v/IrN97LBaSDdgdBBC8ABPbce/7Z510EwBiAwfHQiaEUiABmLTRgGSAk61pdpmSdTLk1N3rOfvDBB3/nO9+59tpre3t7G43GCSecUKlUZmJj/tdhcv7BRLmrF6PWVTe5CRZrFH15T/bX6wZgmT7yLf/vmgs/etw/H9XKk/0POfRDH7sIDpBjy223O2y//f/w9NNRfy/G2W3qvv+V226787bvJ40Oj9y7f3t/WXWvvnjhNdd/5sh/OsKXjrY2rESnn3/2Pq8/DILFRcZ8VwEpJf2sIhiTjAPI09R33LjdxqRc+Mk9HP9n0pq/u19ldkxTAfT6YTSyHHmen3TCxcMjK6V0pd+4/obTDjr45UMjzxDjngchPMfxwdA3SwZVJAWq1drlH/2P889syWDo2LcccM31by4sUGDJvatPOPZDkbd5JVj4/vd+btXIw7f/+Evb7ohtFuETV33s1Qee78sFhWpe9ql3HHH0ZkUBYxH4OPSw+Wec/G9nnPkBMISh4/sLGqP4yMU7X3bpwztu++5KNRwdUkmxfFXj9iTLjnqjH+en7rLNZc0x6zjOwGb02Rves+eefYwXHzr30k9cWV2x6plZsyuP/e76TAMCPbPx699+dvut3l0N57U7Y70DdNJ7Dnjne4+s1zkY9j8YR7/usF13/IDr8U4nefA3XwLw/lPe8fojL9hum1/We8Vb3/bmvfbZptaLwMMjD4699bhzmNnM5H2P/mb1xR996tQzjjn9vN1Vgn1eft7IKjln9ubGJt+/7ZZXHTDvmutPAfHLL/nePf/522XLljHm+F71sd99qtNBpQeMGaUl8RHhxCtWLlfFgOPC8QAHq0d/c+ThH9xi4Y7DIysLevZjVx73utcdNWt+/OsHfu36RxibdeIR18dIY2m1Z0e/gk7cPP+sL57xgabwB/c/eNGXv/Zho+EK/Ozu4vRTL5O8niXyrSdcATl4w9cve8Xe/o6Lo2uu+eSrD/zXPEW17n7ko6fsewhEAGYAjcMOw6nv+o8zzzljrIXeWR3AAUXnXrjftVf/fL9XXja4MpXSlcHqR5+5bqS5+shj5mh8cMv5p9Uqc4xNNFb88qGvSI8cXlpbuIXlYLzU22wtA8zUG3ZjWXxL9hLOeavVqtfrUsqxsbGenp61KEf+LF4EFt8Ja0zJ4gtsErrUyTWVpjdefqIKT9ntibOYRpSSjTFlQ4ODg5uWl4oAsuDdYkcujdN6COQMBUhqBIyhACzQjFGNusUaHg0mAAAgAElEQVSyGzmqHizOPvFd7z/llK32eTlYmQGvfnDzze2x5gmnvb+7LPUACeSAnFysFTBl1K/V3NhAaHANy4AAXADaaK21YNxxXbbBBe74KTAAOcBB454VpoAGAELETIgCMCCCVhAM3IESAIfDkKfwPAwOobcPjoTOEbdR78FJJ37zpOPfsvc+COqAC8UwNLx83uwF0N1qhFpBaQRVZBp+DdYCBShH3kFh0LMZNCBFl9vk+WX45yMvueW7H9l6Z8R52xFVVyJP4MnuF7IUfgUJOo4fO2wOciDrEpBkBn4fsgKUI5BdRhfDkGlEdYAhy8AJLroJ7pogI8CBocQoXxguCCBoDSkBgWaKeg3tYVQjKAunJMhgyHL4HqwCs4hbiEIwDkjAAwhpA4FEoRAn6B1AYeFWYSyEwcggohB+aQIqEFTL9FpNVjiC6QJyPCXVWAgOq8ANihSuB0VwqjBW2cxx5DiBhi1JQlFm9r7n3d8/5nWvP+JIwAUcZKbwPdfm4AYjq9Hf2z0qThD1gFwwBuTdLIRKffwOhCYjmcLwChx+8Odv/t7J2+yG1DxvjYyCfqOkMBh+HgO9MBbcB4vQyVZU/HklU4UpwCUgkVn4FTBmAUuwDCUvE9gU/pzyLlxD34O/whrT29tbFrP2fd913eHh4TAMZ+bs/+sw2Z9cJuuW203eMONrbN4TIORaCTAhGTiyxhgEUA+7ZY8YUPfQyR748V3zt1yw1csWlblCEEDdsR5vqwTKICsggFyBAAd5EsMFAiACKkAdiICQy8BxibM48fO8ChRJwgDJReD5ruMODQ6CQNauMxsaT+furhUcYBJbk3WytM/oWUaFhcJoRyMAQjg1wAVxOA6IAAnuAw5mz4MTQDPICPUBDI/A87liCHoAB8+tSBwX8+bNgUArs0qCQsgqgl5YB34VYOAc3AU8hAPomYvUWOkCFu1RtIdx8zefPO3sY+dsAUhVmEHXzzWsVwFckEAB+D2AhzBkDneUSRJNqKDw0eFwegDH+lHq1okidCwQQIRgLrXTMfBc244bgFykQLOAGleODKHrcuGBXMQGsgrrQgFlbkBQBVw4ERRDOycN+AHiDDxCyxSV2WAhrItYdZkogl4YD24VvXMAF8IDACJYB/3z4VcBB43UBnXECbSC5NJxGITWLINAoWF4hzkxGLgD40DWgRAyQla0hdBOCCugqEsHnVuwEPDQ6cD3aq1kDC5aCcDhOi4A5gA++jeHCYAAbYWwD3BgSjYYINeo9EELdPKGNnEaS6bRGsFXvvzE+844YJtdAIbAneO5NUAaDWUwMB/aRe6AhQBQCTbLVZyTMj4oAosAD0FXrYOIgZxuhTCSa5aMa9T6lN/URmv2ZrNZFEWj0ejt7VVKhWEYhuGL4HabwSbFRD7tpm2GAZMY69a8IThSAkhVkRXKH+iFQKFTSJQusO9961uvff2R519y0WlXXoxAwgGMKV2jbZvaQKIqUHchgUCA2cbYoFePLIfhyAgpMNSJNQMx5Glh8yLwQld4+VgrDEIQVF4UWQ5g9qzZADgbDzz4M9ATp+C7ggFSwPXRN4sM72SqAQHuQQPgcDyAa+FoZVBogNtWPAhhC8LAHNT71VDzNySRGyzcIkzSZjseAxBVyfEbcNqtVEGW5QttmrXTLAaH8AEPY3EzCG2aagDnnfeVAw86O06HTzxpx6ACoOit9QBKmza4HW3GlsMN0E6JOAwRIB1JYaWIi4Zb0ZU+a0XajgcBJUSsbDuoE0lkOgkrRbXiAjqMXAuriYIa6gPdKXM5DoXSECCBqG4hLCS4Ay7Qjkl6yA0g4XiqWje5TsERVaFso95bwEEjtgUQ9QA8bSWrISF8wIEVgETJqsm44rxT2Gaq0MlQ69PKJFEFUnbZeAiZ7xswuD44yzkUGJIUwgVxlamMCet7PoERK7jUTilWwAvBeIsEVerI9fObLbRwEFQADmuQpjZXmWFZTo2cxuCg2gfmICu0dDA2ljEOLwQcxHm7EnEpwBg+dN6/77LLu/oG3Le+a5FisIQsZVIEjUbL9eD4SDRkhLCe57qlFGnFPTciZMKJ4bYVUiYtmAKMtdYYonLKTuhSGgFAWVNmPVF/G22N8X0/z3PG2KpVq3baaadly5ZFUfRX1Fyfscb8JWI3tTVmooJ2WW2qLAU+vU2sCxrn7nXtOPugQCEwmrZ6gpoD6HYMo72eeqaVJx2yFpZxzpqrhuv9vZACZCBFUuSu6wHQufJdp9NoV3qquU6E42rSDnMBbpRxHZGmeeB7sFBZ7jgOOIPWkBOEvQzocjgI182TxPM8lOwO44+iCTAA0OOksrJLOwWAIS9yMMW4cqXQRkgWTSo41dJIJSqAZ5QUAsooxwHBWCPIOFKgUHBdgDA43Jw9RwLc6oALpOYPgQxg54OgyUqpABsneRT25HnOROJKF4jWsEIRsgzWIIyQ5CaMSJkOY0Ly6sRDNU0QhABDkrU8H4IJIEoTFQROeYZZVvieC4LScBxom0rBm60O57xaqSZpEgYVgFsDVQDMeh4HQ17EnktpnukiqFYiANpYpdIgCErTQZzElopqxQc4yCOCtRACWUZCMMcFoZMUKyK3nmV13/VByAt4HrS1hR4J/UBbkjwa59e1q1evnjNrrjEQAnlhHU9xhnZbW6vr9bIckJdn8FwOgjZdQ4022lrtuj4IWkE6AIOllIgL8gCkubWUR5HTbufVMAJKJuEUSAiSUT3PoI2OKtJQUzBf556UUNY4TpGpplasEs6Jm4g8xAmiXoDlraap1cIkzcLQBwCodrKqGka5gufUQLLVVLWaA3T5gZUyjiMMZYIJwLOGk+3elURga4iIafwm+9tYfNM0VUq5rjt//vxnn3121qxZWutpjLOewYuDMiqmtMmUdhjO+Yu29mKTzYEMAJKk0xPULEyapV4l8OpVgmUCrTQmzjU0OOpzB+AKA6M5FEi6XkelBiCPG4aot2qYZY5rAM4kAXmWuo4AIfA8KgwsOb4HwcEZXAewRhdULlOIIIRw3SLPvTDEBlmpbdfs3e06uiQnDEobzxNg2pUOAClcEIxBoUorvJLdwEyuDSxBCJEXOQMTwhJPlc1dXxe6AMPs2fXyh2oMlEIgIwMqR6m8XgSKwkBr7XnClcKW/WFox5myBtL6FYQVAAgDoQrhiIBBJGUEEUOa2SAEAFUgDGqCOaV0xkqNAhA814VFlsGRMJakkIUq6rV+R0YAD4MQsMYoxuD5ENJa6tZWs9C+51WrUbOZEYFzBIGb5bGlnJjyfb9aqeeF0rYAs9qYkrpWSua4yIuYAZEbKVK+7+fdKCMQIKUN/aAwmeQ+wK2FsZSm6Zw5c8HAGPIcnsc5c5S2lUpYr9cBL8tNoTLP5wDiGFJAaxQFpJCu65up9ECddi64KEwGoYNQeYEmFNVqYCzUmnhjRqC8UJ6HIJBEhjPkqlPGdDGuDCnfqVTCWpYlURWQiOpotocBXauHaWqlcAGbFx0gr4ZupmPP8YiYNrZWd6gbpgmASykJRFQSn4JzMAZj8Bem5Wxwzj4RD7fWznJ+5ziO53lloa+BgYFGo7GxXI+bes7eTbHlXGs9NjZWPoGmkZByYnz+l9ZB/bOYiNPnnBdFMb0FEbuOn0mTYWJrHEBs3C808fm666zyo8k+o/FIATvO0TgpdPGF7SoTPtN1t+uBnbRda6I04a6lKdUYmB2vCCGmRqNN/o3yrqmUJuZiHMTBAJSJx8H4R3aSUbUbpL2eILcpYzfFt7bOp6Xe2igJ6whcs3/d/qx1mhOnsN5qIeVYccCbegkmuGrFetpdW8g6/Vxn2TXl2Cmt8KmXWE4SPs46D2fSUap7voTxsiGYciCwppzIlDGx41OESXfFlBPB1Gu9nsXjpObWHpMX0nTrqnUAYRiWk/Rms1mv19vtdrvdnt70zmnBRPm6Mnse011tbmJwJoRvCp07uWDI9NZB3RDK3Ncsy8onVrkam/Y6t2zKn+6/Yu2PNxygMv6RWM/O9eWP/lkLHNvAdj3gk7brfjRpP5u8f70lU/h63naPkpP+H18Qs3VbWXsNvr7W19fbvyT0+YUkbGitv97+rHfPlIDXqfvlhj/aADbY1fW28mePnXqJ13xh0kCt2elM2vMCN8C6A8jXM/Jr93NDAtfq8HqwwQ/YJGB8CkxEJSNuu90WQhhjfN/Psqy3t3dDcv6OmDA4lA+e6X38lKMxIXailelC6cwsty8mc4MQot1uv+c976lUKjfccMOL1u4MZjCDacQG5+zr9TQS0W233aaUKqmpHMfRWh9wwAFhGG7CPv5VKDVvmTpP61SLnhb5kxuawHR5aCf3eeIRsik8wGshz/Nqtfr5z3/+xhtvZIxtu+22hx9+eJqmM66UGczgfxE22u78pje9Kc/zOXPmdDqd1atX33HHHZtvvnmj0ajX65uif381NrU1ZiIMpmQEm3ZrTOkSKLcTNpkXoSphufIIw9Bae8UVVxRFMTo62tfXt6nbncEMZjCN2KA1Zr0zXMaY67o9PT3Dw8OO4zz00EMDAwO1Wu1FCJX7KzAx4d0Uc/YNtbKJhG+6JtZCEASdTqcoCs6567qrV6/u6+t7MVgHZjCDGUwfXkizTwCTzO5pmpa29TiOh4eH99hjj3a7/RJkBCOi0nxhrS0VU/l2uuRPVMub2E6v/JLZca1SIdMl/AVgjKlUKlmWYdIq4aVG0TyDGczghfFC8exr/Z7LH7nv+0mS9Pf3L1mypLe3d2BgoKen50WwEmwsSgsJY6ws9YnptmZwzifsMGUr0yu/FFU+TUvJJePudMnfEMonSq1W63Q6CxYseOSRR7Ise6mVL5/BDGbwwvgzsTHr7hRCpGlKRMuWLdtpp5045+12e2PpwF4clEqKMVYUxbT7HtfyoJal+KZR/kTZDYyvD4qieBGsIp7nWWvjOK5UKocddtjJJ588a9asyy67DEDJ4Q5g4nLPWGlmMIOXJjZ6LtZqtQYGBpYsWWKMmTdvXpmm1NfXNzY2tin697egdDxOTKunV/iEwAn35v+NePaxsbHe3t4oigDcddddv/zlL4eGhnzfLwOiarVaHMee55W5Sy9a2tQMZjCDjcJGswtUKpU4jh955JEtttgiDMNmszk6Ojo8PLwpOvc3YiLAfHot4CUmBE62s0+j/L9XPPtEakJRFM8+++yiRYt83y8dqrVajYiEEGUVrWksyjqDGcxgerHRmt3zvPvvv19rffDBB1cqFcbYwoULX4Lx7JgaBj7tHsjJITebSD6mRsVsiufTuihNMUmSlLp7okqqEEJr3W63jTGMsaOPPjoIghnlPoMZvDSx0daYkZGRpUuXLliwIAiCwcFBrbXrup1O58Wg9t5ITDhOhRDTyMJYYkLgJmIX+HvFs3POoygqPQdlTe3SPmOMyfO8pAx7wxvecOutt5aUn5u6PzOYwQz+Cmy0vhsYGHjNa15z5JFHEpGUslarFUXx0rS3TnZybupW/s/EszcaDaBbH1wIURLxdzodIUQURaXR6cADD3Rdd3BwsKzBMoMZzOClhr+m8sbcuXNd1200GtZaz/PKafum6NzfiMmMLhM2mWkUPmHtmdzEdMn/e8Wz9/T0AEiSxPO8s846a88992w2m5Mj3IuiOO2009773vcuXLjwJeg2n8EMZoC/QrOXcSZxHFerVSHEpiDbmi5MWGMmgs2nN559gr1gwuDzfyCenYia7dbb3/kOx3Mv+filu+++exiGFuR4LgFf/dq/V2rVf/vElZ/+zGc6SdzT2ztRzMGgW7NTj5fTWCMTMOOvtaspjTOm0qSvTRRdWlN9ibo1yTRQlLSzNM7qOr6zW8pu42DHy2hM9N2O78y71Ls08U01TsaLNYS9NLmXE6LW6v1adaQmc71OOoQmtzVJePc7kz9d9yzspJ5PPpFJmMk2+0fCRtdUchxnZGSkXq8bY6SU5TbLspmaSv8bayqtC0MajMdZEvphXmSh6wNIVe46QUkU3Ww3e6p1AlpppxZUpAWoW11Tj6sWD3ABMc60btiachVu17dj1+gpxgnWgFsgM8oTnrbG4wIGTCBTeeg4LNeQMoXSwlGABGqWI84ReHEeF5HPISqAsATGClVMdnuUvMQbOF1NyNg4o3ej1e6p9RVKuw40OhJBkddcCWJgXAMtgAM1gGsTA1zyABadNsIIyuaeZwmFJQhWB0HlcFyAwRgIIE4QVQFmlU4cWRa0RK5GPMfRlunC8x03SRBWykodFvBKqnPDmpa0LXo9l4OXpN6OteP088waWwguLGnOOGAJxNYUiuVr2MknKMVnnCP/ANhoTcQ5nzt3bhmq4TiOtXZ6K1rM4O8LzrghE/g+A0q1DiBwAq0VrGFAT7WujU6ypBJU8rzoziY1YCABZ1ynT5EJiPEXunPHtQpWoBU3AHjC02Q5gQGSAxqe4xlroAwsmLEWmoELcJOksBZah1EkIGLVEQAKbbQuA+2ttWVqlbU2z/MNnS+DA4i8sIDTUxvoxKnrBJa4hANwKQBAawBcW2GIt9spCFK4Qohmq50VVKmBC3iekxUZAxNMNJrDSpHjdotz5nmhDaIKtLGAIeKAUDotVNtzxGhzWHLf99wsRxghjnNtTDlU5eGCScml5/M00yCeZyLpEGfj9fnAyco0LThz8kIBPC8mTnZyZZO1d8zg/zY2WrMvW7aszIecSI8EUKlUpr9rM/h7gCxcOI6VwnIoawqTxZlV1ueOazhSJQjQ5HPXJQQQ4AQGbsjLjafga0QFPNsNuiIGYmAEaa2n4RmICZvMpDoSDLw36hEAjA4ZD7hgKSEhYdDpxJI7gIDlvhF1cv2siADhB4gCuNICjjG1QkABzNHj+bFaa8dxGGNl/a8NnK4EeaCIUw3Wg3UEq8FyjgCoAT4XsICxBYhzWxe2Vo0iAFnKGGS9Lr2gBd4YaT4LGEdUCiUAp6fuWzYGrpRNwPIwMtLLwdMkXw5oyUKtpCON46QaeV99DsghghvkmR6LKp7kPkhqBSZVWrSaTc1Q7aTLg1A1RuFxHrpsZIgA5XmWLCSXjohAkowPeL5bJ8hyydQ9Szb1NYN/AGy0Zt98883LRJUywLmMkGu325uiczN48VFkOQwhN9CwSS6lEwShEBwasEwYoZqZJOFKaVuKMwHBwADBumU+LUAGtmtBHzf0WhBAXQvM+P6JGmAcAANnFu2Rps0sFDhnUAxATxSBAOli9Si4iwIBc5EDhSmyTHMYICBRcQKkGoa8IASQZVlpgSGiF6a+IAIIjgQs4jYCl8ed0qgkk7bUGgB814VB1kJrGDqDyuG7ssi5MsqQAtDfO7vZUII5HBHgtOPEc2pZ4rg8TGJpjIzTBiGpRTVrPW4hDKArnVaPRD8QtJoGBM644H6ewOTIYhQ5ATbww3qlXiS84i8ABb6LLAOA/j4WtxxTBCqD1ZAcZOA6ssgA4kaLNcNbDvaMWv8Hw0ZrdmPM0qVLy0z3VqtV2mRm4pr/j4Dg+wEKCyuQGOFH0GiOtmCBrKxPyZ3ALxU9z4F2gTQHs5DWugTXkmuNS1paAwtYDsvKGtBlrUcJM7U5EO9uLbjlA339Nim6vtRUd6f3BaCAeh9GYmggBdoGEG7o6/IObhbIASbBWGtoGJNYj7TWL+z8YBxJWiRZQUDkI08QhgBBJwg4pABjgEZnBCFHzYckJC3AwJVweE2yAdgemKAehjCQAiDuydl5R4ocSBByIciJgllxYq2tccuzNlgGtODlLuXSal6rCbKAcRwKPAAFfBdhwJoNo3MJBR1DNVE04XvwI0AizxFxiAwuAyeQASNkCYocIKRJMVWzT3arzuAfAhut2bXW991331e/+tXrr7/+9ttv//Wvf/3i5EbO4MUBaQtHfPczn3v9XvuY4dYnLr38xBNPRAEwPPGje64+68M0NM7YnOrjj/rnTqOtC2PBCiAHz8EVExYC4AKcEUf5AifGJwr6iomQEhqf6ecaAAocddiRBy/ea//td3/joUcetGivSy+8HALpM8+/8+AjDnzlvkfsvtcxu+9122e/WMbiaCDN1JuPeu0NH74Eo+3X7Xfwj398Z6fTKYNxichxnBd2AsVxHEYyjCRjeOJxHLDvqbd8+74/PEX77/WJ7307JwvG8JsH1B67/+t++109a9a75i94/SGHHP/IIyOwSNqgHL97GDtvd8K119wHizxDEsOVWLEcr9zzrG22On3XRef84DvLVcorwSyV8TzBt7+1fNfFn9ht8Zdf+fJP5x1wi/LZZwrcecfQy3Y6f8l9ANCJUa+GVuPKK+7ee68zXr7rWbvveorVUAWSLPE8XHn5/8yfcy4sPvzhry3e5Z/TBGGASoSxUVOt+FNN6pMHeka5/0Ngoz2fZRGl3XffXSn1+9//fsmSJZtvvvnChQtfghTtM9hoMDCHJysbm/XPOXDfA0Vvbcuttn6+OWqUERmnVKtOznoiAEgA5q5e+nzeyZx6RbgOuNTdFX+31u8aNVJGajDwMlpmrVe53nNk0UzdavCfd94F37nxE9fvusOiXY8+EAGGlw/3M7cxNPaz+/6bza4gweXv/+Djp5x5wZeucgEDvtvOL1u03Y7oqe68eJc4jks6s9KJWq4pX6DaXxQFlnSjMVbx52y5EDrrnT/n5dWADT7Pe2te2TXXdfpnhT/8yen1XkACHGQBC4/huqt+327ipOM/Mnd2X56CSYQ+rMGrD93n8ceWRB5+/zDe9P/ZO+8wy6oq7b87nHhTxY7QNrlJIqFBEZCgBAVBRQFRCc6gGFDHkXF0RHFmQNRRcBBxmHFMCIgoo2B/JAOgIiLQIkFU1IaG7qrqqptO3On7Y9+6XR2qoZqqooDze+5zn1u3T51Up9fZ591rvevET86b9y8vP8hhBNd8764Hfr/mV7/5SC7wrW898qFzrv/KV0+AA0Kw1x5vveiCK4zyHReaICgpgP3k1ker1erK338BFB/72JXvf+/XL/7S6WElzBJss6T2llNe22xhv/32efyJx4IAUYRSGZXKZhOB7F9imiuxC+YsW1OpZOtWarXannvuaf2hioqVFwzaIBzsacdRlmWI83mLF8a5YCUGn3ieRwhDU8AAPtCO+qsDkMQ1DlHwNUoaoUIg4WoQm+fYzbHOQTKQbDzdXY3/aze+53CrAWKFsoMMhFKltA1HA4sGRDOihpLAAwc8/PMVX/rN7b/4w8/vUbEMPJYrORa3QbHjsl1K1Uq3uoIxZpNxt9DEVQhFCe/r7XM9jIzBkJYQyfwFKPeIai+0ghbwOcZGVBgCBDDIUwBQBvf8Nluy7fYf+6fdsoQ36rHnwfVgAMLwl1W/ZL4Bx2674eX7H/HQA6ttVvpn/v3yvzvrhLCCnj6cccayFTf8+s+PQil87X9X/PBH3znm6JLDq+0mKANlmVI4+pidzzp7ORgygbe85cQ7fvZA3ETchucjzv8W53+p9sDzEZYcUIQlSAXuTNbknhZC+4uHp+mptOmXixcvvu+++1qt1sjIyIoVK+bPn1+pVOZy+2MpZdfZfBrnA7oaVLdt0/SWa03cVbt+pZQtTJ05rOINiqPe+Y6PfuUSVNxXvfqQS79ysR2Kj4zVHddHzQFsjCNKKCMIcRnauPLfLj9qyQHH7/KqVy3e+74f/AIpoIAIK39638E7HPDanQ9++0uPefLWBxB3JN/DX/ryZNXQN79w2SEvXX7Qy/ZfvWoVNBCyvJ4igGbEMNpJk5Rw/XLUjEzgKAp4AMPfn3bGqt//ITAMGp/80sXHvPsMcJz5wfeddOop9tTZTMdf/epXhJCrrrpqskN2uANjHyj0tjvh3ocvPvTIAbhY+aeP7ncwlEJrHQKKtLGNo4EMWR2ugZJgDvZ9uXf8m/0oQ7nKGIfSyBUIzwxrgSauZ5IUQqNv0BEyg8ZD98Gj2y/bFRpI2/j+VRjs3fmuuyLCcea7jnnJDqAcUUsO9MFoEEjmABw5jGHwXAw9JUw+AAWiAeDMd+//1a+frhmOft2eX/nqv4CCMDAHSkNKgCDPUwBpmttHqVyICeJ7wQucLU4ubRgHbSA78cQTt99++xUrVnz3u9+dP3/+iSee2G63hRCTrOM5Q2tt959zXqvVbKbENAbfjWpQn1bPnSoTm1rYuptyuTwLdQOdfMTxMhc7wWnzXgYXL0xk3hmDG8ALOHfr9QYM7rvlzrG/rbnp7l//3x0///mD9+39ylfCAE2MPlX/2Ec+fsfvf/3je+741pf/9wPvOCt/bAgpoEGEOvlNb959t91uv/s3n7vooosuusiOKd1eH5GWSjXith0jgwJxsnTp0uHRMeFAG4DCYbyxZhiMwAAO4AC8IwY1Gg0hhPUfbTabACZ1v1hf9kmBDDQCE/bwc+Rw4DioVbBuGD21+Xu89F+W7fbuV77yE8uWnUkIDDrTwqUqWtGTUuaMgVIYKAq1bmxYKxp4+POf8X//d/0+++4CAinw0t0P0gp5hpe//DzKcOihhw4MlEBgEINCaRCEUNAKucqzPAGFHxhCkEV4+Hf1ww47rFJFEHb+RmkOwkDY+HCcgFAwDu7AmE59lud5UmqAu05YhPUXD5NGiom1+BN9S2677baVK1e+/vWv933/a1/72urVq9/2trclSTLXDAYopVJKKWWWZcPDw67rep43jTWiUkpb928/ZFmW5znnfLo20Q3ixhgppdZ6bGyMcz7Tj0caAAV4J6Ta24sBSK4zaqIstRVHalSyPt5oNXdctgw52lH8k9tvf19iUCG2fNIGzWuu+u55H/sEnhLod7Dbgr9751mPPvzIHjvOQyNTQn784x/f99WHgmK77ZY+8sgjUEjjzC97qNAoTQbnzzOjuelxaQKUwjVDQ/MW9j7VyOfVXCTYZsm2Dz7we+Sw+oxRgAFxoJWyFvNSyna7fdRRR21pen/Cc9F4uaZjJSDXcdtRHDgho+gdwNrR+/277y0AACAASURBVFePXSgJOEWSQAOMgHNAAwzlmg5CJ2qh1AOYECTsrfZQhdEhnP62y9511jl7vAxxDr+EMCzf+RN8/LxPff9Hnx7ox/C64K9/XW3MYq0oZwBD4A5GLaQxSr0VMAqgWVdVj972I3zxM//3s7vfKzlchjiOQy/0XRvQpenckdcfDyGUECKl5pwzRvNcui5P09z356LFU8G0s6XIvumXxphf/epXhx566IIFC7IsO/vss6+++uqHHnpom222mYN2j7abkh2zT16rspV0I69Vch3Hmd7sz25NvK21AWA9dadr/ZNhs9IJGx8sWwhQoX998glm44ICK3M8kfT09zz80IO7HrjHwSceSQhe+5pDiDa51Lc89EtQwMPYyLpPfOITVTdAlLNcaaLes+QcaKDqMYfuuvtu0FDN1oKdt7v5llvA4Fc9K767jIssJ70ucQEGlSaZEnEjH5zvUgMAv1l537bbLIIDaBgXksIhgIEyut2MwjBkjPX09HRrUCdtIdD5i4nx4D7uRSNRLodKIInhemBcSw0eIollUOEgkFIqJbQMPIZme02pVCqVtxMSnEJpMAAC//yPNy1dus0//tNihADAHNxy64+TbOTWWz/llQGg3vrrLnu81BgYY0CRCYyMPu55KAXQ2snyKPCcsu/c8yv84z/87/e+/96lO2Jd1O4vO2Horhsy/X02mAuy/k9Fu0dFCJFSWLshpRTMbPTkKpgjTHmA2dfX57puN9zEcRxFUZH1+AJCa2hQbWsYSdf+hWLvA5YTSuVQ3M2oq7eau+6xDBRQ5qATj/zxg3fc+MidZ3zkPZ849+NQgIMg8D75yU98784ffe/+m665/9ZrH/zpYSe9AQ5AkBuVSgEOylk3eSZtJgBMI+cwRgjEnRtMYmRQKYfc5W2QFPlo+/qbbtj+pbuCQRHdyFJDOjvlOE61WrXhzJYpMcYm7wxjpaUESDoZ+0RaGUrkgAFzwF20Wthzt1dEDUAi8LmQotl+kvK65yXci0HR31/zfAgFxwdhgnMQhX//xOpf3fHY1d9//UgboGi1sMsucH3xvg++1g3RbgMGN9929Q67hNwB5yoV67wSSj1jmgJAu2kCr6IFHv8T3n7Kpy66+Iz9DsZoC/0DHpABWf8giTO1/mkDFKAGUFoLoewf0vf9ZrMNIAg8EEx7l4KCOcuWZlA3/ZIQkqbpvffeq5SqVqv333//woULPc/rtlibU1gdI4qiRqOxBeeQrUNKaS12hRBSSiGEEGIaJanu8MpuIsuydrs9Cz2MrGYLClAraHdmMUWU8cD52R0/GxsdRQqMqTt/8pPT33kGqlymOQJi0hQUkDj80IPTtA0PiPXhRx124ecv6GTCOIACShCNFjh65w80kzYoSE+YtyO4FIAfBJAgVTdwPaYMfEBAt3TQV8t03nhsFQig8OpDDjnmxOOXLt8bRlOHBp5vYAhgtJa5sAm4tnnIXXfdRQi54YYbJjncbky0Ir0GhBWsg8AOfJvUgQHuvff+WhkQiBtwiFMtL6IoASWHhnETUSNk6HcYoBG1jcjwpYvv/N+vXf27lWeDYGAQcYRKGaD44D/83SX/+Z+EoBzi61+///BXH7DTLshzEJR93i9SuL4xgJaohmxsGEkLr1j+gYs+86kjjgQY+vrQauVC6UxkIHAcaowZNxIgADOaaEW1BiHsDW94E4BqtWwMWq1ICMVYkRvzYmFSr8dNbRFtrC+VSpdddlmr1fI8Tyl17LHHvuQlL9kK9/CZ9nq0uSs2PrZarUqlgnEDxZnY3OjoaF9f3zSu0PqsTdzh7lHMJJ0U9HHTLkowwS9XAw116PIDQ+r2liqvOfyI0z/1YZQBpi/+5L/fdv2NspFopYQ2P/njgxAKIYuG23ff+cvPf+qCquFOLNoq/e8V3+vbbVvTzg455JBrrrlm0U5L1xe+S4NM7bf7XiFxF1b71q0eqvT3HnvG2975D2etuvvhc9/3Ac/QVav+Wh3o+5cLz19+3GvgoBG3g2oZgJSprwklFNwB6WhZcRzffPPNZ5111nnnnfe+971v80fczaknGmgDDLoEg1xJ1001RikWPfEIf91rPpfLuuOSntrAbx/4ye8e/OH2O+LO21f/y0cvaY3Mi1o8y1t9g2Sv5X3/+433PPooTnvbP9SHw2plYF39j5rUKzXcceeVnCEM8JUvP/DlL381juM3vPHoz37hLZSDUNz4owc/8U//I5JqKZj3l7/8uX8e++T5H3n98YNfvfyB7139k9HRputn1V78ddXvL/zch04941VAFrVRKnnAhNkCA2OgNYzBEUccsfJ39/3+97+vVCrVatn+X47jeG42tiyYdrYU2bG59BgbMT3PE0LYxHbOeRRFc9bFV0q5Zs2ahQsXTq/IaHNvrIJJCBkeHu7v75/G3BV7Z7WR3ebJDA0NDQ4OznB6jDbQ6MSK9aYuMMhz5ToMsQElnWgoAR9wTaM1Viv1QAKtHL4PbeAScJhcEp8jUWCsY07AgWCC6yOBTnPqu4BRec48D7bYSdhVudAANEIKDTQFXKdzD6CAB0U0HCq0ZIQSozgcnaRwGHUcA9Nut+2NcHhstLe3r+NQZjfbcbVZr6rbnQGJDChMAANDFUUEtIC+rBF4FACUhJJwfSgKxgGNpI2AI0vgBcgkvBJAISUYhbYL20lOhkzA82ErVz0HjAMUUYZSBVEbJR8mQ57CukIKCUrBOJIEMLDTK1GMsATiQFEYknAWjB/PZkwcL7nkyx/80DlDQ0ODg/0AhBCc22yuQpB5UTBlf3abgZckied5aZrmed7f3x/H8VQnD2chsncHvNM+oN4U2yx0Gle46Zi90WjUarVp3MSmGEBAMwBJRg1I6Nlvs1zA86J2u88rQwEMJlckYBuYTJlxF0cCMEglAcoZVVIzTjv/mip4bH10thDYB4UsSz3fhzEwBJoizeG66xfTEzZExuf+yYS4Zu83QoHRzCjGGKfEELShAFIGCJADcdzu8cvQ2uYYSjBCmdSaMcKY0oDSnBBQAgoBSAIHim9Uky8kHAewvvIEQkAqBGFntqDRULUq61ioaxiAcBiCLFW+y6CQ52AOGEeawQ8gBTjvvAsBx4HWsH92kWODIdP6UyfHzyDtXiRWC6QUUmrHcT772c+8//3vLzoavjiZ8g08z/M0Te3TbqlUsv69tpXaXMMOda3nMCapvdpquu3xrNpuZffpWjkm5N4AsGVKURTNdKWSFV1yJZjrEdeDgXXxJIxKICyXQQCRgWoRIKfISSeYS0DZaOtAcUgCcE44lUZRh9bzuC7iBDkqrNsNohOhxi9AleeOwwy0NDIRMbiUXIFKQNmFDbQiumMA70xwLpzY1YgALgMnzOWaEZHkWhkKRkGNUlGjCSAMyzrPAWgp4XDuMMbhuZRQk2ZSacJop6mFhgMEBryjw3OAo5014cDxIQ3AQF1oDqeEoAbjiChrKGS1XpKK1HoPj7WEJgDNCGn7gbQp8G4A5gIMhCUgmrtotpvMy9vpOsdPNIuok4EJaXInADjaadyxVGPdM0atdJYkkQ3r7XabUlCKK664wvfd//qvy0855RTf9+31iQ0rJApe8GzNmB2AEIJSmiSJMcY2tp9q0JmFMbu9/Wit165du3DhwuldeVeteiH1VFJADsNAXIms0fD6akmaBH5gCJ6Mmv2lqm+lFQ5DkQFSyYBxOj6eZuMrAaCNZoRQEDPBskQpY8fR3W86Or7FKFCSiZxSyhm3mXxaKsoYSGdG1N7wNt8bywAEiVLtNHFCPyDc04BBwhQ18BST7TbrKSsAueAOE1obQojSaZz4vu94LgANo7XWAKMM3RTC9YqNBsRYY11vrRegBkZr5LlwXZdRCuhcpi73AQeGZilg4PkAgdRJlrfCIJRK5ykrhSVjQCiStEkpCGGuU7InRRmT57HrupR2miOOjTV6ezd9Vus+RNDu2RBC2K6KmPDA2m2Mk+f53OxXXDATTFm0tbaoQRDY2ks7nLSX1Ezs37PB7pJtUjpDK+9+mN4mqxi/c0yc7ZidZGQCkiSR65S8as1I6XkBDBrNVk+tqmAgjZ0azTPpBJyzzvUz8YZmPzPS+W503TorhREQGKPI+jjZkbpJJ74rZWDgOT6APM+Nghe4oMTYETQhjHMFwGhljEOYHh+40vFd1wBlzC+VNMafzrRxGaMEMOClstZaGBU4TpamLPAJwAlzQmpga31gtOaMmfHdQyczvCv4UG1Yb20QkBq51ppTN/CDLBOaaUK0y5nUKYFhxCeA61mnesmoWwr6gMxhlAQCJDFgSunADwAdJ7HrlPLMZueQwC8BkBKUgjL09ta64swmpxkY91Hwfd9xHFvUZv9j2nthEc1fnEx5jMk5T5Kk2Ww2m02bLGzrPGdi554lGz1+2gt9ulbe1XasJmPFmelaOcbjeLdxldWUZuGBmgCBF9qBN2GcEkCgp1ohQKvegstBGDRcwpnuKCXYsKkDMSAGMldWJOnv6yeGEE1gQDd0pDLjTaNzoJmlyjYvNYAGU8RjLjQIpUmepSK3Y38FrQFKWTdbp2tNqzsye+6COKAKUqQ5WOehQbZjAIRSIRQMqKFaGKKhsxyEEcohpEhTO1S3bGCgNa785AmHdvLckYJxWooinSbMcwKHBXlm7CKMqla7xRhAQFmk0CBgMDyKdJzGnCZAnZJUqkRICTDfL+W5lBKOA89FGiNqgTNIiTzTgHWA6R7lBmitfd+3YnqapraZu+1LzBizYd0mzhZlSi8qphzZXdcNw7C/vz8IAutUZYyxvqlzFvtYOr3D6u7a7Af7P2q6Vo4NLW7sym23k2ncxKZQoBW1HUpAgUQgM7DZ0gYASm7Q0dRzEAoocDOuVBiMj3o7nzlnELo52ujMnWpAglLCsF4xJuMavQC474MSKSBbOdqKEQcGupUTA8/1OOfEJvUpTcl4b+cJ7xYGlKnrGVApAjDHdwHEUgiABi4YFFDyfWg4jksTwTQocwEgF6DM8XzYrlLGTHah+D7SBCJXruMC3PdKvkN0DkiEXrnZ1Eb5USxdXmFA0gYQaOkoCaPgsErozQMWtlu9UbPqs16GIE0YJW6W6tCHzKElfA++Bxi4DoTQ45YA3bA+fmEYwIBSmmWZ1UJ937cX4cRZ066VMWOskNpfPEw5GLXb7UajEcexEMLamFiteSZ27lnSDbXdidOZSGafBTXGMjtjrt5SmQhAQbUScIIMaAsoqFhVfAdjWeeSaWi0O8GFTOjoYEettuIHlFZ7ap1OPrECgFxBa6I1lCadKlfbQgOJDfGZ4L4LzmwfJeq6Ub1FAU6sZqxcypjB+hfWz8hSK4PXM6TwjUMTBQ1lTKRVDmifp0J1jOsSE/91iHMXORBlMIDjIBcwgFRKCDKuwWwAASiEgiGiVNYaSZqmjKA5CqKgU4ytRTWourTi0ZpLAQFuICLq0SojSGO4FEihmyhrv6SBGDqFzAg0KiV3bAQcIAbNOhhFmkArlEJuNBl33DMbhHUAQJrmnudZJb3Vatkl83Fsbm73si8i+4uHKUc6Qsjdd9992WWXXXLJJbfddtu6deusFjETO/cssc66Qgh7iU+vYGInGLTWVtm07mPTXoPabfkmhIiiaKZVLwJAGRBc+ukLX3fU0dD4jws+c+Rhr4FBxWdZI3/9YUe+eb9XvXrZ/sccdNh/X/xliPEQozshnnRb9xCgnT/26GMH7LPfIbvv/cbXHPW3Bx4BZ52lx7UV13RcGgPABQLXgcT9N/z0bUe89uAddztin/0fWvlAY2SdXTOV2k6/miRbL07oznaJARTeePDha355LwSQa6SaEVJ1fRvPPI8xIG6m9/z8jlPfcGL74VV3Xb/i6MMOf+iee2AnQ7McjAWlslZq0wxxC+cIQgbodjv2Pf+zF37nwP3fTSQu/NcHDj/kw1BIY3COs8++YJdlb91n73ftt9e7f3TdapUj8ACNb3/zjwe94rM77/DpnXf89M47/sMlF99ULkEriAyHH3rWp8+/lQAHHnjsZy/6ju+j3QaAINiSjajvu1mW2QujUqnYshKrw7iuax1Ju1dmobm/eJj0itFad51v7W3f5vbdfPPNAM4555w0TW+++eYbbrjh7W9/uw1ts7fXzwzrvEgpnV6XR0t3BG3XzDmfdhff7ibsmsvl8rT7mm2MASMEGosG5x9y4Cuhsf2Slxx8wCvQ1qhQL3SRqmuvuha7LATBMfsc1NfX98b3npK1cs9zAcRJHpZdaCDRAEHgbr/99r++7x481Tzy8CNKQQkACDVSEs2gNSSBS1wDagOOBBL87qbb//2T51974w3oL8PFN7/2teUHHCCbCfcDylxrVEAkgVGgFErCc2wOOxiBBklVSFwowHBQCgnmIgCyZlYqezLVFddfOLCgPdYqz1uwuDGaJMluu+8Om2/juq2xsUpvr9aaTvKElKYiCB3AY4SqHIvm77H/vmUobLdkz12X7Q3ADyEUvvCfHwk9J4tgUhz0ygt8731HHFmlDNVe/dbTDn7fe18BiiRDUAYI8hi+g332PmC7pTvA4KCDDqpWqwAqFRgDQiCEcN1Jr65Nr4qNHu+mWkVY8AJg0nhnQ3m3v4Q1zGu324899thhhx3mum673T7++OOFEE888cSW28M/V9hnz+7E6fQ+W3RnULtJCNP7qDvxP6d92rBlBNO4ic0yNrwOgOs4zXoDQK1SZYQi6JRrDvT0GiHRAtYmnzz34+11DUh4votIopWFJTdu54gEHAqHdOR1ANpQZThlECZWuXZcGNPpdxGBaqAJtIAYWBt/7IMfvujfL0CtDB9geMdZZ4IzbqswG6kcGoMBHBeUgRAwRwyPgTEQAg3kEJmoVnugAUoRARK+gi9R8jwIhC4FQxRFzHNF1BxcvND1vcf+/GcQUNcFQaW3V2Qpd5zJug8FvjO6Lmo226VSQBmUafYNIpUIq8mibb04Awi4gzB02m14DrIIL19+zLx5VcqQCzguwjAQEiAIQiiNOIbvo15HX38pTtc1W9hll50WLZ4fxwBACIwpxtoFU2ZLLr7dUNjN0JBSep4XhmG9Xq/VaiMjI1LKNE0ZY3PQ7rE7cTpDM6jdrczQDGp3hfaDnQSbxk1slt55/Wqsdezpbz/29LcDOPzIVx9+3OuQGvgEKdasWUMcFwFQCi789L996gsXdlQLl1/x2Usvu/bbicwXuZUfXHVNbfttOsklBhCGSDAwQ4jhbgaE2sR/XHX2KWfGrXhtvf4fF1+8/HVHwkH62BM17m9/2IFwMdxq9A7UeA5EAr6TDY1+/7vfu/666/7y578Eof+D71/ft+1igDg9vffccvs5HzwHICF3S66nKacZ4AJPjhx2xKv6d1jyxJOrP/Ghj7zu5JNRc8Cw8/57/78Hfw0K02jf8ptf2SCuRM6cAASvPfbYW39ym71vb5zKY2A0+npKYBqIwPVpZx2QxMz3cMKpwQlvezOollIzwqFQdmEypBG+f931F//X3mBwKIzmAd/B0WivQ7kHmUBYgTHoGcAFF53sOADBO05/UxiOt9cgaDZbtZrNUJhQubs5R4GCgi5bUmMmxkSraRhjwjD8xS9+sc8++/T19d11111DQ0NRFCml5qBB6Oyk2L+gZlAJsiT1yqVOaSkFyh5yICRggEapVDrt5JNTo+M0+eLFX9rxtS/XzZxS/PDr33EMue9394Dir7955C1vPPH/3fhjsm0fOCABEEpInufERWJESJyhx5/84DvO+NolX/FfujMojtvjgC8G1R2XL//zo3/c52UvAwCG6kAtBzgBfAcG3/nmt13iXHP9DxF6T973wN+f/nfXfPcqvs38B3/2y49++J9++bv7bTb4oTvsowmnHrC68c5T3vHTn/4CS3qg8PYDD99+myW7HvsqUKg4Yr2lsXqjd7AGBRXHrBSyMABBnmVhueSHwebDJoHS0BrEZIwLqROXiiD00jz3XE+q3AGVWnGnN4nwofdfftMNv2Nqu5tvPZ87EBJZBsrFJz557qfO6/cDl/DGPSv/Awbr1smBQe6EiGOEAfoHAGtg4AKd+/qmBQObzvAWFKxnSy6+tnOFNb3SWnPOwzA8/PDDH3rooSuvvPKLX/xiuVzu6enZZptt5qaQZ6X/bmrm9KoxXXcBKWVXjZnGB5eJM6h25UmSzHRXQgPwwIUD6BzEWHtZuABFK87hYqRZ/8ZVV15z788PPOTgbbdfihy06o6sGfnPz19y+pln2VUsXbbszSeceN9v77eDSp0aeKHv+EmSQaNMHG4w/Lcn3/6WU/3dd8ZwCop//fzn7rjnN+hjgwsWVHt6umk2kUjtHOlTD/3le9d+/y1vORklDxKLXrrniW988x23/wLA/feu/OhHPgoDNCUMBufNj9MMBvf/duURhx6OeT0YyUDxjx/+8IO/ewAKop2yvhI4KvNqLSUM0awcgkKIPM8y1/euu+4666mgJw6Lxz9xV7u+lDKjCFw6EMe+FCXf6dUqcFi50Wr5LgFpCzJ8+dff/Zc1lz34p4+848x/vuKK2x0H5QqOet2yPz3+lT/87d9++8B5b33b6/d52elQ6OvlcSJSORKWm5nMlAEotNFKAQTlsh2wdzOACgqeni1N+o3bDHXaN9sov9NOO5155pn2xziOf/nLX2ZZ1mg0rIHMnGLiaNqKS9OuxpBNmK71T9zbbsr8LAzbcyhqjMcpqIHngkCnmnIaVF0Zo1QrZ1p6FO/5wPs/9W//euGVX4ZG0mpvO28BeoJOHwuO0PeHn1qDHPAASuA6DuN2ksADSGL+vPLhr37hS1df/i1J6RqVqtA94ogjAKwaG/75L+/8+0QgcIxSVceHAJr5/Pnzx8YaTrUKK7OkaDQaOy/bBY380Uf/dNhrjgQBShwE69aOlIIyDJ5avebGG1dcd/0PepYsHB4dKTG26167w4UT+iDIshyBS7ntkAcpBGHU4dwAjHMFs4H/2AR3gXWjQ/19vZ4XNptpKayGvgPAaDBKxsYavb19GhmFLFdYkg2rbKAcks989vzbfnYtNHIF7gIcykAovPWtr/rKZV97cCV23wth4LSzWCLxvAE7O+H5VGsNUEIgpeZ8o5i+3l1gpi+JgucjT6Ozdz/bpHVjzPDwcBAESinHce68885ddtnFWrLMwSbXm+rs07jyiTo7ZkCNsfdO+yfo6uwzLXlpaAKiqQE3kFJxnksZBK6tJ/ICaIdy30ND1vZc+se//ump3/154R47bLto8ROrHse6BGEACgg8/rdVr1h+gF0n9YC6NFIFng8JIgBDdhzY5uwzzjr2nPegAoQw1kRMYcfleyVE66G1tGebwFCZK4CB8ZGhkVK5Ctt9SQM+Gq22MQQ113H9ZitaJAEHyDBY7U9H26Vta0uWLH3zKW894YPvhBDod6AACmOgCRiBF7hjaVTyS41mo6da465jgEzk3HFzkQNwnc1NWhra3zcPoBSoVlw7kI8TFYYsTtq9vTXAwDCliTEk8LgC6sNgxB16KjfW0ZdKQHHX4wZJhIGeZf01iBQOQzlYBMRCZUqlBMx1fYBqbe0xKDZW/VEE94ItsKVrwgoOtjGeDSta6yAI8jz3ff+OO+5YvXr10qVLrW/MrO3xM6fr9Wh1kunNZ9/I67H743Stf1M1JsuyWTjPmc4oKBgRWlJCGWNK2RQgQ4DhxrAOCAY4CN734fffesdt8IFy6Y2nnnzjddcCAMOq+x/+6c9/tt0rltsmpQAQRYnMK2GpM6hPsXT77a674YfNPz8GjqyNVMFQ5Ao9Oy886vhj33TKSYhzOdbmhP3gW9cCet5Oi/Z62Z63/PAGuADDo7+692d33L7fkYeBYI+99vjtb39rg+yrDzg4J1I5AMX2y3a8/Fv/k60dQb/TuR9QEAeMIGnFMldVv6REXqvWkiRRRgNwHVcqefLJJ4e+jw06ik48Q1TkNlusM8PpesRAhaFvDDHa0cJlcDh42gIUPB/vfs87z/nAGUoCBnnGtHbsZOwJb3jvGWeeumARuAMAaaoNOGOO7/qe6xGsrzAipFDVC6bGlL0er7/++pGRESHEdtttt3z58qVLlwoh1q1bN1WDgcKf/WnpuvQBMGZ9K4mZwwAaGta10Yy7vJj1/3bI3suv/vaVi3beGUD9b6tPfuspn/3CxS/dfx8An/7QR2+6/adpmm7TP+//brvFasI//cGNX7r4ktbakXIQRlmqHXrF//zP9vvtCYPosTVvPPFNmVGpll61fOGFFx544CusXeRPr/3h577wuVTLdhx942vf3PWAl8FAjrYvuuCiu+765eOPr168eOGNP/0pPCDSKNHzPvDRm25esWD+ossvv/zSSy8999yP1ub1w8Pq+x9917velSphjAlD/30fOOeoU44HgWhnTskDh5DGcUm305BSqh1HZ5111nevuUbrSQwGJnbqWG9XQwAeRyr0GTSeWo0jX30qZ6V6fZ0bJL+++8c9NUQxSiV87nNXXXLJf/b3zee0+tnPfv6IIwZzabunQpqUMzLB4BhPNxjXz2CZghcpU47sNlxulBO5FULELER2IYTjOFrroaGhBQsWbLZL1FbTPfaJLr7Tq4NPlNqzLGs2m9VqdaaLlbo+5+t/wAQP9DSF70MqMAZtXWVIR/vuLh8pBAyxQsCggChH2QUAK5hQayOgEVI1GrO+0E6VgjKE1NRT0uPDQIxFTm+p0yzDBTLA64j4nUBq32ONkCIF/PHPBKDQkaIuA4UeS2gpgAO0BUpOZw5SAbwTQjWQJFGpVErTVEpZLpfb7bbneZMmBWzg6KvGgzvPMu05npYQGTwHI0MY6AcIBIHjdc6eEhA5fA8ARkfR1w9QpDn8AKAQMnY4Gz9HBQXPiq3xenRd1176XYl5btrIbeQbMxOOYDM0fWqxNw+78/a0z0IO0qTP/VrJJEbgqzgGoxA5KAEjIEhVZjRA3PtwpAAAHbJJREFUoVIBaVBhJs1RHm+yUXPBgFwhS9d3ky5TMLCBsJMG4xL7Dan41gvG6S+BQMSprVfq9NjTyuQSUoNCJxkAlClsI2wGlCkItDYyV7TMtJSgoL1BZ6NVBwRQxnbaA4NQEBqUwj5u+r5vR+5Pf57HXYgmnCrteQwEysDxAIqB+QBDvQXHRRybekOCgDmgDKCIU/QNALTTU8kO/4XIDKZNzSt4kTPlyG5lgXXr1rXbbUKIHULGtmBujkFm2J+9mx6D6b5tYEOvRwCMMWuWMI2bmAIE4IyXwiyOWDkEJTZtJo9jUPhVTxEYAlZyMpWDglRckytoAz4e/coMPb61jRRKdJ4AaKcNEylxkeRKKHQfSDjA4dR8I7TIBChggJCREkdAwUCrXmd06xNwJFECA3BQj2hOQEFL472QKJBLSAMH8AkMhISkoC4oh5A6TdMoigB0W50841rfiZmIJhepgaa80+g11+jph9IISyQMuQFs6E8yhGUoA6nhBQCBVFrILAgCUqjpBdPElK1OrEGKGUdK2Y3vc42N6qesfDRdUX6jnkp2BnUabyET/fnsVvI855zPgnXM5r/WmgBeuQSg3WyUa7U0ivxqKRfScXmuBXIdBJ5X9eIodzh1ynz9qkRHRcnixCsHju9YOZ8SgENkmrvUqbpWY0nSjBHuukxLgICGlIMajVbarlbKShvGSJJmge8JqUQmvcBljAQ9AQzSLHd8Fw6JM8EZIYY6DoUHEN5RbwgyJcG4jaAKxufU4T7GXSiyLHv6GaP14Xdik1btugTQaZoaQ4IgcOyYXhshNeOdTiTWOyfPxztfW53GCMdxACWV5nPx6bfg+ceUx4BJkqRpKoTo1ubMWTWmy/PRn31i11ZCiFVjnkP/EEKpNBoE2uhyTw0EfrlkCByXC228wHEDrxnFiZCGg3vcEGRSpkKkQkQyyaUEg1cJ4jRTgKEwFPYz4USTTtaMIXADz/GZAsAgYXKphDFgcMNAA60ktsvkUlGHBWUPjORSKUAo7fhuM4pAiRs4zOWGmnYcg0JKlaRpkmVSG+5ye7UqQGs9Vh/rtsnlnNuwPhV/HmqNhIVUUklAUaaCAEBCaJJkdcaU4zDGIaSqN5pSa1AQptI8b7VbQgpCtBV/tCFaF2pMwfQw5WBULpdd17VxhzFm7fyTJJmJnXuWPK/92bsVrfa2QQixVvjTuIlnCgEIWu0W4zyXglBqgHqzoYBWHGkgTWO7lO+7rsN9z9WANBoMjuc4nuOXAubyXCsFeIFngDhLNYwbuAYgjGQyt5koQqtciXYSt+K2JoZSQjjRUBrgnBmCcrmkgUzmzGHSqHYSGwAMGgYMBh3RPE5jAI7DyuUQBNxlQckPAo8xAkAoEaWRhnQo6+3ptffLia52W+rYTjadi6AAc7gP0DRLtZGAjrOGQR74vN6o24Uch/T0lDnXUqWOY3yfViqB4xC76TjOtaKuExbTpwXTwtZ03pBS2iaoNlWcMTY3eyo9r/3Zuw8B3d1+bg01S5WyBoRSNmqXqzUDhGEJQCUsKSm0ki7jSiv7AsAYB5DJXBplAEOgoAForXzPpyDGmDzPAHjcBUAAKaXLnDAIy2GJgABGa22FDAJoo7VWBsbjrjaaExYGIWAYZRSEEprL3BgFaE4ZALsbVkM3qtuzQrvMqfolD1wpobRqt9sYv+vb0foWr+dNutYZADSOc84C3yv5bghQh3tWNO+p9XR1S6UFYAjRgMpFYn8zyzLX9cMw5Izb3ngFBc8eOvGpv4v9pt1uc85937c9420Soeu6tv2p9ZX1fT+O4zlozm6Msdk7juOUy2X7/3Yax+z2ecU2sbPv0zvD2V1VNwep2wLtqKOOCsPwc5/7HMZHl7PQh9bGKd/zDUDI+sOk0ATa5cxhlEA7lNgXJyDQFNrjnBNCoDkhDKDQDiUUmkJzgsB17Gf76v7IYOy7yygn6C7vUGL/qful/bHz65y7hDAgcB0GzSkBdKkUAJpQAJpAMwIGbV8+Y5wya4xhR+5PpyvaTEeFrkPxeLJ/GPgw6MwIw3FYaD8AnIAQQjh3bZNV+96tcbU9xO3LdYsBe8H0wLFJircN647jzJ8///Of/3wYhmeccUaWZb7vt1qtSqVyzz33rFy50vd9z/OOP/74vr4+Qshca3JtM+6FEGmaNhqNMAynV4qxN7PuDKoQQggxO9YuN910k/1zHHDAAYcccohS6jmZwdYb9YAGsOGPE0tuNrvADLHxH8Bs+GE8F35r90RPOPTxg9tgaERBbFLOBqEfBAAd/90JC09cwwbVBAUFWw8799xzJ6Zjd4fwt99++4oVKw444AA7Mt12223tyPSHP/zhH/7wh3/+53/eZZddnnzyyTvvvHO33XazbTqmtGGbOzxz2MQYxpjneTYBHxvW/jxL6Dj2/EgpS6XSLGQl2gcmSqnv+8aYvfbaa2xsbGZP5vgJ2yjskE5s2zAJu1tDNL4k2fC1fl1kZt4nw0zyeWox3kwoOn1a58VNagMImXA3JOM9XJ/mlwoKtgK62UhnjBkbG3vnO985NjY2Nja27777rlq1yvbMHRkZOemkk1atWuV53q677lqtVvM8n4P57NZOy7aCajQa9o41jZF3I98Ymyw0XSvfAl1Zyd6usizr7++3rrMzysRI1g3TtPtveMbxyGw4Pp3e98l2feKru/zW56FsEtM3OvanWXO3XouuX3jibbCg4FkzaaR761vfasehIyMja9asmTdvnjHmb3/7W57nlNJtttlGSvn44483Go37779/pgfgBV0mOskkSWJFoZl9VhiPU2RCfKfrB590Sy+zyWvLyz/Ll6EANVj/vpkXmfDamkQUtoEUs9EjzGYyZzbLhO2STT4UFDxrNq+iEELWrl3LGHMcp1areZ6X57md3+ecb7fddnmef/nLX1ZKLV68OIqiacwJmS5sgY9tBVWr1bpGxNO1fivFkPHmJLPTys5iczkGBgZWrlxpszhmPDdpwjWyUfjqTP6Rjd83WHojyAy+m/FZzolzncru1WbD7tTiKR1PYOfro/OWY/ozCfdTuCUUFDwjqJkAsN4OxXXdgYGBer2utXYcxyYO5nne29t78803X3TRRSeddNLhhx8+Ojra398/ByO7VWOEEK1Wa3h4WAgxvWqMTXO0DsZdi93ZEWTK5XKapqeffvppp51GCLnkkktmIyHSbO61SbJI97XBUhvGPvvNDL2rp3ttvD9Txj4ZTMQesey8iB5/PcP1d39XAGKDfMqCgq2FY5N5RZtV4nneyMgIANd1W61WGIaO43DO16xZk2XZueeeW6/XHccZHBzM8/y5qaDZIt0MH2v3aN+ncf1dVcSO3O2GpnH9k2H/WL7vf/Ob37z33nvtLXkOnv+JTFSSZ05jN884KD6rDJQNcl266E0+0w2/nGxIMbF3U0HBtEE3WzxJCInjOAgCK6A7jpMkiVJqp512ArDPPvvEcWwD/apVq3bYYYe52d66O4K2GZlbkcCzBWa6UmkyCCGNRgNAvV5/2cteZr+Z1g1M5TWuTbBx+XmiBL9ZlWJKq5/qy+6Ms7kXmyCQPyvZYzO//0zmACaDTlB42OazZQoKps6kl9HChQtHR0fr9brNVQ/DsFartdvtZcuW3XXXXaVSiTH2gx/8YPHixYODg3Ozp9KMMtOVSlugVquNjo6GYZjn+VNPPYXx5PrnhMlj/hzamZnfsWceyp/21wsKpoFJvR7PO++8crlcqVSiKPr2t79NKT322GNrtdpxxx136aWXfuc732k0Goyx0047rVKpjI6OzuZOzymsGDJrqoi9ifb19Y2Oju6+++62CW1XGiooKCjAFiL7+eefX6/XMW4UHkXRkiVLGo3G0NDQaaedJqUUQti0k5GRkdmRmOcU3QlnG9On3cV3Mjq+gFprrVevXm2TUKWUXe+BgoKCgkmf/tasWWPzSazhl+u69XrdGFOr1YIgsF86jrN27VrP8+am1+OM0p2fsDOo0+7iOxn2VFNKP/axj+27776u61pvn1nYdEFBwfOFSYNRpVIpl8s2cdCaaiVJkmVZHMdPPfWU53k2ldt6hM10/+g5SDdPtPs+jdOzWyAIgmOOOYYQcsEFF+y7776NRmN2Ui0LCgqeR0yqxkRRZF0GlVJjY2N2ktBxHBvTbYiv1WqMsXq97rruHEyPmVG6cXyjgoBZ4MYbb7Rn2/4JAKxdu3b+/Pmzs/WCgoK5z6Th2HVdpZTrur7v22G77/tSylarZbtt9Pf32/5Kg4ODc7BSaabZqAaVcz47NajW6UxKmaapTY+RUhZhvaCgYCKUTADoNAu1ydoAkiRxXbdSqdgpU2OMzZYhhERR5Ps+Y8yO6J/rA9mYbsWp7dQ68cNM0NvbO3HT9oNNRpzelER7/+hq61Znn8b1FxQUvACgGykJ3a6eWuv58+e32+21a9dal3NrLvjUU09tu+22pVIpSZKuscwcDC72KDCeeI6nb6owbdgc0DiO7WnhnG+p+1pBQUHBdEOtFS0meAx0fWOeeOKJBQsW9PX1UUqr1Wocx61Wa+HChX/4wx9sW84sy5IkGR4enoORHeNj5263udmRjFasWLHDDjsQQvr6+h599FEAeZ4XuSsFBQWzyQb+7BNnBW1Picsuu+zKK6/M83x0dNR13Z6enjzP58+ff8011/z3f/93lmXlcnlwcNBmvs8pJuauTEximWmOPvrodevWDQ0NAWg2mxhvw1ZQUFAwa2xQED8xzeO2224bHh62U3NJkixatKjVarVarbVr1957772cc8/zRkdHPc9rt9t9fX1zTXDozhzMshojhHBd1xqlVatVO9VpO20WFBQUzA6bcQTrtrc+4YQT5s2bZyPU2NiY7/vVavW22257wxvesN9++wHwfT/LsiAI5qa7wHMyZndd154NY0y73aaUlsvlIuW8oKBgNlmvs3exsf6EE07QWhNCRkdHW61Wf39/mqZPPvnku971LmttaB3JbeLdHHQXsEk+3VQfAJse6Qxh5ZdqtRoEgRX3Z8M/vaCgoGAc2o2Adga1Wyif53kQBFZJ6OvrW7NmTZ7n2223Xb1eD8MwTVPGWE9PT7vdzvN8DnbL62aa2wkDjNsAzPR2hRBWe2k2m1prO7ccBMFMb7egoKCgywZqzMQhbRiGURRZkbrdbvu+Xy6XR0ZGOOdKqXK5HMexlNJxnGq1OtdEdotNJCeE2FZ/s9Oewj6+2KeESqViGy3NzfNTUFDwQmXSCqM0TTnntqFEGIae51lDwXK5nOd5lmWVSoVzHkWRHZzO5k4/Q+zkcHfwPjuR3aYJ2aeEJ554wm69yHosKCiYTSaN7FrrMAxd17Vj3jiO4zj2fX90dNSKDISQVqvl+35fX591L5lrdO83s6awA+jp6QGQJAkhZMGCBQBsC6SCgoKCWWNLXo9RFDUaDWNMmqbWCyyKosWLFxNC7MhUKeV5Xp7nw8PDs7jPz5RupdJsOnbZHPYgCIwx1s9gbt72CgoKXsCQyYLy5z//+f7+fsdxsizzPC8Mw+XLly9ZsuQb3/iGbRgdx3FfX1+z2dx1113333//qVrHDAwMTMf+bwmttd2roaGhefPmzfTmuqRp6vu+67oPPPDAtttuayecC0GmoKBg1pg0stvEGACEkHa7bW1koiiyue15ntvmG41Gw3Xd3t7eVqs1pQ3PQmRXSlm9ezZNbvM8d103z3PP8/74xz8uWbKkWypVUFBQMDtM6vfSaDS6GXthGAohrLYwOjrq+75NY0/TtFqtUkqnGtZnB9u+To/TdcWZ0Y3ak6a1LpVKWZa5rjs3p5cLCgpewEwqoXTTYOI49jzPyi82PSbLMltdaTsuZVk2a/OTU6Kbxt71Up+F9Ji7776bEFKtVqMoiuPYOvBkWTbT2y0oKCjo0vGN2WiC0TZu1lrbWVM7ZrellUmSUErtZ9/3jTFKqTkY2e3+25KrKIowbvrIOU+SxHYRcRxnon3xtGz35S9/+aZnw/O8aVl5QUFBwTNhY3/2LpzzNWvWWA3d+gcYYzzP832/VqvZxI80TRuNRlfomFN07dFd191+++0BtNttzrl9J4Q4jiOltJkzc3D/CwoKCraazcyg2jAnhAiCwM4HAmi32zay27nBRqNRLpd7enqEEJTSOI6nuuFZmEG19Z9KKetMab9xHGejTJUsy2at111BQUHBLMDtaH1Tl3ZjjE19sdYx1WqVECKltLVLg4ODWZbZbHcrvs9BQcYW+tvu22NjY6VSyXXdLMtsWI+iyHaG8jxvDnb7KygoKNhqNoho3Vaoxhjf9x9++OElS5bUajWbJzM2NhZFkRBiaGjIusekaVoqlSilczBZ2/oiOI5DKRVC9Pb2KqWOP/74crn8pS99yc5tAojj2Grxz/X+FhQUFEwbZGhoqJsOOLHzRrlcppSef/75lUrl4x//+Jo1awC4riulvPbaa0dHR40xO+2001FHHWUtw6Y6STgLaozNx7c3IXuvAhDHca1Wu+222w455BCb8B7H8Rz0qiwoKCjYati5556LCWpM19R3xYoVt95664EHHkgIqVQqtklQuVz+8Y9/vGjRouOPP37vvfd++OGHH3nkEdsr1RorPnNmIZjaqQI7Zrc+usYY13VtMv6OO+7o+77VZGZ6TwoKCgpmk44b4kZevjZd5NRTT2WMPfHEE4sWLUqShDFWr9ePPvro5cuX2zlJQkiWZYODg0mSPKdHsRniOLbmLe1224b1er1OCBFCGGM45+VyWQhhw3pRTFRQUPBCopPMbnO9AVBKHcdxXfe4447jnGdZViqVhBBJktgBb7vd7unpaTQaeZ7XarU0TdM0nYMzkPaZgBDS7UFqXRjttKoV2YUQAKSUc3D/CwoKCraaSSOare7hnLuua40ebX8i3/dbrVYYhj09PQ8++KB1vNqKrMfnCinl/Pnz77vvPgBhGNpi2ud6pwoKCgqmk0mDWrlc5pw3m816vZ5lGWNMCGEN2W3DvCuuuIIQctBBB61du/Z5ZFTLOX/HO95x0kknEUIuv/zycrk8B6WkgoKCgmfDpI5g9Xq9VCpVq1Ub++xova+vb2xsrFKp3HLLLe12+5RTTgnD0ObG2IKmuU+apldfffXKlSuNMfa5pJhBLSgoeIEx6Zg9CAIppRDC931rFJPn+dq1ax3Hueuuux5++OHXve51pVLJ9kq1dfzPC3zfHxsb22effbp2N1mWTTWxp6CgoGAuM2lktz1OrWOMreupVqs9PT0PPfTQPffcc+SRR77kJS+xra67GSbPC4wxSZJYOwE7uep53vPozlRQUFDwtEwa0S699NJSqaSUarfb1113ned5++6779KlS++///4wDO+6666rrrpqwYIFUspXv/rV5XJ5FiqPpgV7i7LOw61Wy3GcIAisn8xzvWsFBQUF08Okkf3ss88WQth8GEJIFEU2dr/lLW+RUlrHdsdxoiiKomjBggXtdnsWd/tZkSRJb2+vdVEHYE0InuudKigoKJg2Ju2WZ6P54OCgEMKaB+R5TgjhnNtiH5v2DkAIsRVjXnuf6HpJWrIss+uZmIm4dU1ErTl71zmgW2tqTc0eeOCB3XfffaNlCgoKCl4YbKmnku/77Xa70WjY/kqO49hUyCAIuh4sURRprbci8tpcQxvWtdbW48XaLhJClFJ5ntviqa2zG7P3Bhuy7UzA8PDwcccd5zjOxRdfvPvuu4+MjHSXeR7l4xcUFBQ8LZOO2ZVSjuPYmGtnGhuNRqVSiaLI6jAArMOM7UU31QL9gYGB7q9sWitks1ZsI1MAUsqpTnJa1/U8z63HgLWV7x5almU26CdJYr0HCgoKCl4wTBouu42HGGPWBjIIAq11pVLBuNGKjbbWe2Cq8dF2YiKEaK3zPKeU2vBtt2U3yhizdoxbcWA2jtvGeFZEshk+9kHEllZZp7A0Te1hbsVWCgoKCuYgk47ZHcdpNpuEEM/zrDYdBEGz2ewOom03JaufbEXDPGuYPll9U/dWYSO7FcSneGjraTQaYRhOnAloNpvdrBiM38a2ev0FBQUFc4pJx+y2rNR1Xc/zms1mHMc2pmutbZTM87ybPEMpVUpNacNWT8e4NhIEQavV8jxPKdVdv+3fZJeZamS3OhJjzPO8Wq22kXBfrVallFmW5XleqVS2Qu0pKCgomLNMGi4ZYz09Pa1Wa3R0tFKp2JJUm15i++Q1m03bikhKuRUpj4SQdrttHWnCMBweHv7gBz8YBMFXv/rVVqtlK4msCSXGZfcpIaUMw9DzvHXr1tnDIYTYaWE7W6uU8jyvUqk0m80irBcUFLyQmFSNAZBl2fe//31jzJve9CbbM8/3/RUrVoyNjY2NjXmet2zZsj333LO/v99qGlOiv7/fzmraoiHf921LUs/zbrjhhqOOOgqAUsraG2zdsXXTJa1YZCd7MWE+tpsK+SzVnoKCgoI5xQb68sRueT/+8Y+r1artI2oH79af/eijj1ZKSSlrtdo3v/nNer1+6qmnrl27dqrd8qyCj/GpTgBWWL/wwgvr9boNvkqpbmjeisjbvSXY3+0eaXeE3jVFKMJ6QUHBC4lJI9rAwMAee+yxZMmSZrO5bt26arVaq9XGxsaUUoSQefPmRVFUqVQ452vWrJnGSh+llNZaSqm1dl3XyuVF5C0oKCh45mw+YhJCrMxiu+JxzpMkybLM87z+/v7R0VFbwRRF0c4779zT0zONXol2eG5TFQFQSq2aX1Dw/9s7Y5ZmtiAMb3Y3Z89mk5g1wSQWQoiiGC3iDxCs/AXWtvaCv8VGbMResLUQwU7EQsFGNAqJYIwm5iS7Z7P7Fe+9i/DdlcQbLpfPeapwILuTZpi8Z+YdgiCGRIX28vkIKRVuXx8fH5xz0zSFEEKIZDJ5e3v7+Pi4v79/dHTEGJubm+t2u2PM7OVy+fz8PAzD87x0Oj1q4w1BEMRPRtvZ2cEnZNJQjIZ/b71ebzQaCwsL6ER0HCeXy01MTFSr1aWlpbu7u+vr63K5nEwmR02+UQJOpVIpFovFYjGfzy8uLvq+H4/HMUz0L34mQRDED0IPggDZ/HPlHovFXNe1LEvXdZwzxtAA7nkeNufpur6+vn54eIg5oHEFdHBwcHl5GQRB2NnSarVs2x7X8wmCIP54VOW3bnEkes65lBKNiYyxXq/X7/dh3us4DjzCHh4eer2eZVkvLy/jCqhWq1Wr1TCMfr9v23an0xnX8wmCIP54vuo5wXApjASUv1sDX19f8/m867qtVuvm5mZmZiaRSBQKhXEFlEqlGGO4rXVdl3PebDZhVkMQBEEMwz/7pcRisd3dXfR9u667t7c3PT29vLw8Ozt7fHzc6XQcx8lms5VKZX5+HtNG33s9+taDIEAqj8Vi8BczDAPWBYqiZLNZmiQiCIIYnsip+q2tLTgguq7b6/V830f748bGRhAEg8EAXl3YfA3ZfaQXQ9/HtzD3j3MhRKlUajQa+B/gOI7v+2S0SxAEMTyR7gIomTVNQ7GM5kiM6XPOGWOfPbaU0a1dstlsv983TROG74wxrGqybfvs7GxlZUVRlLe3t0wmo/y2eokgCIL4gkiJwzRNXdc9z0P61jRN13Xs4hBCtFqtdruNXIwSftQXwyRSURTLshhjT09Pm5ubhmFsb2/jBlX5ZANA5ukEQRDD89Ue1HCICdW653mDwSCXy0kpMZoEJ17f97/hz25ZlpQynU6/v7+rqppKpT6L6UKIcHNT2JdJEARBDEOkOB6qMciquq5zzjVNa7fbqqpCgoc1GFYvjTqGapom1PNEIoGSXEoJ+V5VVcuysOIOFu3f3qxEEATxA4nM7JxzyCxSSpTkqKBx1YmMj8yO0n7UsloIwRiDwoOT0PQR/umKojDGEAP5pxMEQQxPZMbEQiLswwuvT6WUhmEIIaSUuPY0DCN0Px/pxRhbxXPwQdd1CDuccyg/6IOkfkeCIIiRiEyaQRBMTk5ivRE8ddFyjvWnpmnG4/HBYIAs/20dPCzY4/E4xB+cwGPyrxApsxMEQYxCZM2eyWQuLi6urq5UVV1bWysUCpzzbrfr+75t2/f396enp0EQrK6ulkolrFj6L+MmCIIgoojM7CcnJ7VabWpqqtlsJhKJdrsNbR1D/8/Pz/V6XVGUTqfjeR41mxMEQfx/+AUwBydvDNxMtQAAAABJRU5ErkJggg==)"
      ],
      "metadata": {
        "id": "5EZ6TUtWBfVk"
      }
    },
    {
      "cell_type": "code",
      "source": [
        "# serialization using json module\n",
        "# list\n",
        "import json\n",
        "\n",
        "L = [1,2,3,4]\n",
        "\n",
        "with open('demo.json','w') as f:\n",
        "  json.dump(L,f) # dump fucntion needs 2 things \"what are going to dump and a file handler\"\n"
      ],
      "metadata": {
        "id": "eXEXak4X_cTK"
      },
      "execution_count": 65,
      "outputs": []
    },
    {
      "cell_type": "markdown",
      "source": [
        "![image.png](data:image/png;base64,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)"
      ],
      "metadata": {
        "id": "4mlzaOBR5YPO"
      }
    },
    {
      "cell_type": "code",
      "source": [
        "# dict\n",
        "d = {\n",
        "    'name':'nitish',\n",
        "     'age':33,\n",
        "     'gender':'male'\n",
        "}\n",
        "\n",
        "with open('demo.json','w') as f:\n",
        "  json.dump(d,f,indent=4) # using indent to show correctly"
      ],
      "metadata": {
        "id": "wNKgzvhk_mTJ"
      },
      "execution_count": 66,
      "outputs": []
    },
    {
      "cell_type": "markdown",
      "source": [
        "![image.png](data:image/png;base64,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)"
      ],
      "metadata": {
        "id": "YTgQGTft5eWg"
      }
    },
    {
      "cell_type": "code",
      "source": [
        "# deserialization\n",
        "import json\n",
        "\n",
        "with open('demo.json','r') as f:\n",
        "  d = json.load(f) # load function takes object handler\n",
        "  print(d)\n",
        "  print(type(d))"
      ],
      "metadata": {
        "colab": {
          "base_uri": "https://localhost:8080/"
        },
        "id": "5GfinF74Cyro",
        "outputId": "a3894386-fdde-491d-81f4-02dd3876dc8b"
      },
      "execution_count": 67,
      "outputs": [
        {
          "output_type": "stream",
          "name": "stdout",
          "text": [
            "{'name': 'nitish', 'age': 33, 'gender': 'male'}\n",
            "<class 'dict'>\n"
          ]
        }
      ]
    },
    {
      "cell_type": "code",
      "source": [
        "# serialize and deserialize tuple\n",
        "import json\n",
        "\n",
        "t = (1,2,3,4,5)\n",
        "\n",
        "with open('demo.json','w') as f:\n",
        "  json.dump(t,f)"
      ],
      "metadata": {
        "id": "sF29FCvtDOaA"
      },
      "execution_count": 68,
      "outputs": []
    },
    {
      "cell_type": "markdown",
      "source": [
        "![image.png](data:image/png;base64,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)"
      ],
      "metadata": {
        "id": "bjpKT0UT5mC0"
      }
    },
    {
      "cell_type": "markdown",
      "source": [
        "## One problem with serializing and deserializing a tuple is it will store the tuple as a list inside the file and on deserializing it will print list instead of tuple.\n",
        "\n",
        "Later we can convert it into a tuple using type conversion."
      ],
      "metadata": {
        "id": "LjMhstYpw5ed"
      }
    },
    {
      "cell_type": "code",
      "source": [
        "# serialize and deserialize a nested dict\n",
        "\n",
        "d = {\n",
        "    'student':'nitish',\n",
        "     'marks':[23,14,34,45,56]\n",
        "}\n",
        "\n",
        "with open('demo.json','w') as f:\n",
        "  json.dump(d,f)"
      ],
      "metadata": {
        "id": "IDx9yh5WECvq"
      },
      "execution_count": 69,
      "outputs": []
    },
    {
      "cell_type": "markdown",
      "source": [
        "![image.png](data:image/png;base64,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)"
      ],
      "metadata": {
        "id": "MOM8mrQE5vxD"
      }
    },
    {
      "cell_type": "markdown",
      "source": [
        "### Serializing and Deserializing custom objects"
      ],
      "metadata": {
        "id": "bwXefjbgHEMl"
      }
    },
    {
      "cell_type": "code",
      "source": [
        "class Person:\n",
        "\n",
        "  def __init__(self,fname,lname,age,gender):\n",
        "    self.fname = fname\n",
        "    self.lname = lname\n",
        "    self.age = age\n",
        "    self.gender = gender\n",
        "\n",
        "# format to printed in\n",
        "# -> Nitish Singh age -> 33 gender -> male"
      ],
      "metadata": {
        "id": "YMIu87osHDDZ"
      },
      "execution_count": 36,
      "outputs": []
    },
    {
      "cell_type": "code",
      "source": [
        "person = Person('Nitish','Singh',33,'male')"
      ],
      "metadata": {
        "id": "pzsTh4TlHp7I"
      },
      "execution_count": 37,
      "outputs": []
    },
    {
      "cell_type": "code",
      "source": [
        "# We cannot serializa a object like this\n",
        "with open('demo.json','w') as f:\n",
        "  json.dump(person,f)"
      ],
      "metadata": {
        "id": "wPnkKoUByTsg",
        "outputId": "fe45720c-66fa-44a1-f989-6f98ea915f2f",
        "colab": {
          "base_uri": "https://localhost:8080/",
          "height": 304
        }
      },
      "execution_count": 38,
      "outputs": [
        {
          "output_type": "error",
          "ename": "TypeError",
          "evalue": "Object of type Person is not JSON serializable",
          "traceback": [
            "\u001b[0;31m---------------------------------------------------------------------------\u001b[0m",
            "\u001b[0;31mTypeError\u001b[0m                                 Traceback (most recent call last)",
            "\u001b[0;32m<ipython-input-38-227902a001d3>\u001b[0m in \u001b[0;36m<cell line: 1>\u001b[0;34m()\u001b[0m\n\u001b[1;32m      1\u001b[0m \u001b[0;32mwith\u001b[0m \u001b[0mopen\u001b[0m\u001b[0;34m(\u001b[0m\u001b[0;34m'demo.json'\u001b[0m\u001b[0;34m,\u001b[0m\u001b[0;34m'w'\u001b[0m\u001b[0;34m)\u001b[0m \u001b[0;32mas\u001b[0m \u001b[0mf\u001b[0m\u001b[0;34m:\u001b[0m\u001b[0;34m\u001b[0m\u001b[0;34m\u001b[0m\u001b[0m\n\u001b[0;32m----> 2\u001b[0;31m   \u001b[0mjson\u001b[0m\u001b[0;34m.\u001b[0m\u001b[0mdump\u001b[0m\u001b[0;34m(\u001b[0m\u001b[0mperson\u001b[0m\u001b[0;34m,\u001b[0m\u001b[0mf\u001b[0m\u001b[0;34m)\u001b[0m\u001b[0;34m\u001b[0m\u001b[0;34m\u001b[0m\u001b[0m\n\u001b[0m",
            "\u001b[0;32m/usr/lib/python3.10/json/__init__.py\u001b[0m in \u001b[0;36mdump\u001b[0;34m(obj, fp, skipkeys, ensure_ascii, check_circular, allow_nan, cls, indent, separators, default, sort_keys, **kw)\u001b[0m\n\u001b[1;32m    177\u001b[0m     \u001b[0;31m# could accelerate with writelines in some versions of Python, at\u001b[0m\u001b[0;34m\u001b[0m\u001b[0;34m\u001b[0m\u001b[0m\n\u001b[1;32m    178\u001b[0m     \u001b[0;31m# a debuggability cost\u001b[0m\u001b[0;34m\u001b[0m\u001b[0;34m\u001b[0m\u001b[0m\n\u001b[0;32m--> 179\u001b[0;31m     \u001b[0;32mfor\u001b[0m \u001b[0mchunk\u001b[0m \u001b[0;32min\u001b[0m \u001b[0miterable\u001b[0m\u001b[0;34m:\u001b[0m\u001b[0;34m\u001b[0m\u001b[0;34m\u001b[0m\u001b[0m\n\u001b[0m\u001b[1;32m    180\u001b[0m         \u001b[0mfp\u001b[0m\u001b[0;34m.\u001b[0m\u001b[0mwrite\u001b[0m\u001b[0;34m(\u001b[0m\u001b[0mchunk\u001b[0m\u001b[0;34m)\u001b[0m\u001b[0;34m\u001b[0m\u001b[0;34m\u001b[0m\u001b[0m\n\u001b[1;32m    181\u001b[0m \u001b[0;34m\u001b[0m\u001b[0m\n",
            "\u001b[0;32m/usr/lib/python3.10/json/encoder.py\u001b[0m in \u001b[0;36m_iterencode\u001b[0;34m(o, _current_indent_level)\u001b[0m\n\u001b[1;32m    436\u001b[0m                     \u001b[0;32mraise\u001b[0m \u001b[0mValueError\u001b[0m\u001b[0;34m(\u001b[0m\u001b[0;34m\"Circular reference detected\"\u001b[0m\u001b[0;34m)\u001b[0m\u001b[0;34m\u001b[0m\u001b[0;34m\u001b[0m\u001b[0m\n\u001b[1;32m    437\u001b[0m                 \u001b[0mmarkers\u001b[0m\u001b[0;34m[\u001b[0m\u001b[0mmarkerid\u001b[0m\u001b[0;34m]\u001b[0m \u001b[0;34m=\u001b[0m \u001b[0mo\u001b[0m\u001b[0;34m\u001b[0m\u001b[0;34m\u001b[0m\u001b[0m\n\u001b[0;32m--> 438\u001b[0;31m             \u001b[0mo\u001b[0m \u001b[0;34m=\u001b[0m \u001b[0m_default\u001b[0m\u001b[0;34m(\u001b[0m\u001b[0mo\u001b[0m\u001b[0;34m)\u001b[0m\u001b[0;34m\u001b[0m\u001b[0;34m\u001b[0m\u001b[0m\n\u001b[0m\u001b[1;32m    439\u001b[0m             \u001b[0;32myield\u001b[0m \u001b[0;32mfrom\u001b[0m \u001b[0m_iterencode\u001b[0m\u001b[0;34m(\u001b[0m\u001b[0mo\u001b[0m\u001b[0;34m,\u001b[0m \u001b[0m_current_indent_level\u001b[0m\u001b[0;34m)\u001b[0m\u001b[0;34m\u001b[0m\u001b[0;34m\u001b[0m\u001b[0m\n\u001b[1;32m    440\u001b[0m             \u001b[0;32mif\u001b[0m \u001b[0mmarkers\u001b[0m \u001b[0;32mis\u001b[0m \u001b[0;32mnot\u001b[0m \u001b[0;32mNone\u001b[0m\u001b[0;34m:\u001b[0m\u001b[0;34m\u001b[0m\u001b[0;34m\u001b[0m\u001b[0m\n",
            "\u001b[0;32m/usr/lib/python3.10/json/encoder.py\u001b[0m in \u001b[0;36mdefault\u001b[0;34m(self, o)\u001b[0m\n\u001b[1;32m    177\u001b[0m \u001b[0;34m\u001b[0m\u001b[0m\n\u001b[1;32m    178\u001b[0m         \"\"\"\n\u001b[0;32m--> 179\u001b[0;31m         raise TypeError(f'Object of type {o.__class__.__name__} '\n\u001b[0m\u001b[1;32m    180\u001b[0m                         f'is not JSON serializable')\n\u001b[1;32m    181\u001b[0m \u001b[0;34m\u001b[0m\u001b[0m\n",
            "\u001b[0;31mTypeError\u001b[0m: Object of type Person is not JSON serializable"
          ]
        }
      ]
    },
    {
      "cell_type": "code",
      "source": [
        "# As a string\n",
        "import json\n",
        "\n",
        "def show_object(person):\n",
        "  if isinstance(person,Person):\n",
        "    return \"{} {} age -> {} gender -> {}\".format(person.fname,person.lname,person.age,person.gender)\n",
        "\n",
        "with open('demo.json','w') as f:\n",
        "  json.dump(person,f,default=show_object)"
      ],
      "metadata": {
        "id": "IJdrxFTYH6o3"
      },
      "execution_count": 72,
      "outputs": []
    },
    {
      "cell_type": "markdown",
      "source": [
        "![image.png](data:image/png;base64,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)"
      ],
      "metadata": {
        "id": "nEC-3CCY5_vB"
      }
    },
    {
      "cell_type": "code",
      "source": [
        "# As a dict\n",
        "import json\n",
        "\n",
        "def show_object(person):\n",
        "  if isinstance(person,Person):\n",
        "    return {'name':person.fname + ' ' + person.lname,'age':person.age,'gender':person.gender}\n",
        "\n",
        "with open('demo.json','w') as f:\n",
        "  json.dump(person,f,default=show_object,indent=4)"
      ],
      "metadata": {
        "id": "3iJ8vjupJA5i"
      },
      "execution_count": 73,
      "outputs": []
    },
    {
      "cell_type": "markdown",
      "source": [
        "![image.png](data:image/png;base64,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)"
      ],
      "metadata": {
        "id": "opk_2cXR6EjT"
      }
    },
    {
      "cell_type": "code",
      "source": [
        "# deserializing\n",
        "import json\n",
        "\n",
        "with open('demo.json','r') as f:\n",
        "  d = json.load(f)\n",
        "  print(d)\n",
        "  print(type(d))"
      ],
      "metadata": {
        "colab": {
          "base_uri": "https://localhost:8080/"
        },
        "id": "y9k8e2ENJ_GM",
        "outputId": "353b6c36-e555-4286-8244-c641ae0933d1"
      },
      "execution_count": null,
      "outputs": [
        {
          "output_type": "stream",
          "name": "stdout",
          "text": [
            "{'name': 'Nitish Singh', 'age': 33, 'gender': 'male'}\n",
            "<class 'dict'>\n"
          ]
        }
      ]
    },
    {
      "cell_type": "markdown",
      "source": [
        "## Here we are printing our custom object as a dictionary or string. But we want to serialize our object and deserialize it to get to object itself.\n",
        "\n",
        "Idea: We will create a class and then its object.\n",
        "\n",
        "Then we will use this object in some other file, same as it will work in its file.\n",
        "\n",
        "Implementation: We will do this work by using binary not by using text.\n",
        "\n",
        "We will convert object into binary format and then it become transferable.\n",
        "\n",
        "Now the object will do all works as it is in some other file which it can do in original file."
      ],
      "metadata": {
        "id": "s2tgqG1gzm_v"
      }
    },
    {
      "cell_type": "markdown",
      "source": [
        "### Pickling\n",
        "`Pickling` is the process whereby a Python object hierarchy is converted into a byte stream, and `unpickling` is the inverse operation, whereby a byte stream (from a binary file or bytes-like object) is converted back into an object hierarchy."
      ],
      "metadata": {
        "id": "8JHA4j2NLD-0"
      }
    },
    {
      "cell_type": "code",
      "source": [
        "class Person:\n",
        "\n",
        "  def __init__(self,name,age):\n",
        "    self.name = name\n",
        "    self.age = age\n",
        "\n",
        "  def display_info(self):\n",
        "    print('Hi my name is',self.name,'and I am ',self.age,'years old')"
      ],
      "metadata": {
        "id": "hg3cGP4CLC9t"
      },
      "execution_count": 74,
      "outputs": []
    },
    {
      "cell_type": "code",
      "source": [
        "p = Person('nitish',33)"
      ],
      "metadata": {
        "id": "ixYOzU0yKOcg"
      },
      "execution_count": 75,
      "outputs": []
    },
    {
      "cell_type": "code",
      "source": [
        "# pickle dump\n",
        "import pickle\n",
        "with open('person.pkl','wb') as f: # open in write binary mode while pickling\n",
        "  pickle.dump(p,f)"
      ],
      "metadata": {
        "id": "GYQNrY33Mg6U"
      },
      "execution_count": 76,
      "outputs": []
    },
    {
      "cell_type": "markdown",
      "source": [
        "![image.png](data:image/png;base64,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)"
      ],
      "metadata": {
        "id": "e8NVdgZe6YVe"
      }
    },
    {
      "cell_type": "code",
      "source": [
        "# pickle load\n",
        "import pickle\n",
        "with open('person.pkl','rb') as f:\n",
        "  p = pickle.load(f)\n",
        "\n",
        "p.display_info()"
      ],
      "metadata": {
        "colab": {
          "base_uri": "https://localhost:8080/"
        },
        "id": "TMWLxIzOMpz4",
        "outputId": "a620c115-16c5-44c4-d036-59ef97ae77ec"
      },
      "execution_count": 77,
      "outputs": [
        {
          "output_type": "stream",
          "name": "stdout",
          "text": [
            "Hi my name is nitish and I am  33 years old\n"
          ]
        }
      ]
    },
    {
      "cell_type": "markdown",
      "source": [
        "### Pickle Vs Json\n",
        "\n",
        "- Pickle lets the user to store data in binary format. JSON lets the user store data in a human-readable text format."
      ],
      "metadata": {
        "id": "fclATrAsNP_i"
      }
    }
  ]
}