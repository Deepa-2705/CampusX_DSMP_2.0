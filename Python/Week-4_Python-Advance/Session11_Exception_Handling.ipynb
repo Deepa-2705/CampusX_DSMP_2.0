{
  "nbformat": 4,
  "nbformat_minor": 0,
  "metadata": {
    "colab": {
      "provenance": []
    },
    "kernelspec": {
      "name": "python3",
      "display_name": "Python 3"
    },
    "language_info": {
      "name": "python"
    }
  },
  "cells": [
    {
      "cell_type": "markdown",
      "source": [
        "There are 2 stages where error may happen in a program\n",
        "\n",
        "- During compilation -> Syntax Error\n",
        "- During execution -> Exceptions"
      ],
      "metadata": {
        "id": "xh7vgT_4-gdB"
      }
    },
    {
      "cell_type": "markdown",
      "source": [
        "### Syntax Error\n",
        "\n",
        "- Something in the program is not written according to the program grammar.\n",
        "- Error is raised by the interpreter/compiler\n",
        "- You can solve it by rectifying the program\n"
      ],
      "metadata": {
        "id": "U9R2vn5c-2RE"
      }
    },
    {
      "cell_type": "code",
      "source": [
        "# Examples of syntax error\n",
        "print 'hello world'"
      ],
      "metadata": {
        "colab": {
          "base_uri": "https://localhost:8080/",
          "height": 133
        },
        "id": "sgsgNEc--1ux",
        "outputId": "f973a81c-d579-4259-dcea-19d380fbaaa8"
      },
      "execution_count": null,
      "outputs": [
        {
          "output_type": "error",
          "ename": "SyntaxError",
          "evalue": "ignored",
          "traceback": [
            "\u001b[0;36m  File \u001b[0;32m\"<ipython-input-3-4655b84ba7b7>\"\u001b[0;36m, line \u001b[0;32m2\u001b[0m\n\u001b[0;31m    print 'hello world'\u001b[0m\n\u001b[0m                      ^\u001b[0m\n\u001b[0;31mSyntaxError\u001b[0m\u001b[0;31m:\u001b[0m Missing parentheses in call to 'print'. Did you mean print('hello world')?\n"
          ]
        }
      ]
    },
    {
      "cell_type": "markdown",
      "source": [
        "### Other examples of syntax error\n",
        "\n",
        "- Leaving symbols like colon,brackets\n",
        "- Misspelling a keyword\n",
        "- Incorrect indentation\n",
        "- empty if/else/loops/class/functions"
      ],
      "metadata": {
        "id": "502wvB8BGO0K"
      }
    },
    {
      "cell_type": "code",
      "source": [
        "a = 5\n",
        "if a==3\n",
        "  print('hello')"
      ],
      "metadata": {
        "colab": {
          "base_uri": "https://localhost:8080/",
          "height": 133
        },
        "id": "gd_SjrGDGTcU",
        "outputId": "5623d424-d264-45ec-cbc9-6ad6834f89ea"
      },
      "execution_count": null,
      "outputs": [
        {
          "output_type": "error",
          "ename": "SyntaxError",
          "evalue": "ignored",
          "traceback": [
            "\u001b[0;36m  File \u001b[0;32m\"<ipython-input-68-efc58c10458d>\"\u001b[0;36m, line \u001b[0;32m2\u001b[0m\n\u001b[0;31m    if a==3\u001b[0m\n\u001b[0m           ^\u001b[0m\n\u001b[0;31mSyntaxError\u001b[0m\u001b[0;31m:\u001b[0m invalid syntax\n"
          ]
        }
      ]
    },
    {
      "cell_type": "code",
      "source": [
        "a = 5\n",
        "iff a==3:\n",
        "  print('hello')"
      ],
      "metadata": {
        "colab": {
          "base_uri": "https://localhost:8080/",
          "height": 133
        },
        "id": "eq0Y-v_MGTmR",
        "outputId": "9ccfb071-fc71-4540-fda7-05542f9b26d3"
      },
      "execution_count": null,
      "outputs": [
        {
          "output_type": "error",
          "ename": "SyntaxError",
          "evalue": "ignored",
          "traceback": [
            "\u001b[0;36m  File \u001b[0;32m\"<ipython-input-69-d1e6fae154d5>\"\u001b[0;36m, line \u001b[0;32m2\u001b[0m\n\u001b[0;31m    iff a==3:\u001b[0m\n\u001b[0m        ^\u001b[0m\n\u001b[0;31mSyntaxError\u001b[0m\u001b[0;31m:\u001b[0m invalid syntax\n"
          ]
        }
      ]
    },
    {
      "cell_type": "code",
      "source": [
        "a = 5\n",
        "if a==3:\n",
        "print('hello')"
      ],
      "metadata": {
        "colab": {
          "base_uri": "https://localhost:8080/",
          "height": 133
        },
        "id": "Llm9KioiGTwe",
        "outputId": "04702c51-21de-4138-9402-4d8ef3a59c8f"
      },
      "execution_count": null,
      "outputs": [
        {
          "output_type": "error",
          "ename": "IndentationError",
          "evalue": "ignored",
          "traceback": [
            "\u001b[0;36m  File \u001b[0;32m\"<ipython-input-70-ccc702dc036c>\"\u001b[0;36m, line \u001b[0;32m3\u001b[0m\n\u001b[0;31m    print('hello')\u001b[0m\n\u001b[0m        ^\u001b[0m\n\u001b[0;31mIndentationError\u001b[0m\u001b[0;31m:\u001b[0m expected an indented block\n"
          ]
        }
      ]
    },
    {
      "cell_type": "code",
      "source": [
        "# IndexError\n",
        "# The IndexError is thrown when trying to access an item at an invalid index.\n",
        "L = [1,2,3]\n",
        "L[100]"
      ],
      "metadata": {
        "colab": {
          "base_uri": "https://localhost:8080/",
          "height": 205
        },
        "id": "KZQFu9zdEuFC",
        "outputId": "546e9247-b4a2-4c14-b822-4c6c00264f30"
      },
      "execution_count": null,
      "outputs": [
        {
          "output_type": "error",
          "ename": "IndexError",
          "evalue": "ignored",
          "traceback": [
            "\u001b[0;31m---------------------------------------------------------------------------\u001b[0m",
            "\u001b[0;31mIndexError\u001b[0m                                Traceback (most recent call last)",
            "\u001b[0;32m<ipython-input-71-c90668d2b194>\u001b[0m in \u001b[0;36m<module>\u001b[0;34m\u001b[0m\n\u001b[1;32m      2\u001b[0m \u001b[0;31m# The IndexError is thrown when trying to access an item at an invalid index.\u001b[0m\u001b[0;34m\u001b[0m\u001b[0;34m\u001b[0m\u001b[0;34m\u001b[0m\u001b[0m\n\u001b[1;32m      3\u001b[0m \u001b[0mL\u001b[0m \u001b[0;34m=\u001b[0m \u001b[0;34m[\u001b[0m\u001b[0;36m1\u001b[0m\u001b[0;34m,\u001b[0m\u001b[0;36m2\u001b[0m\u001b[0;34m,\u001b[0m\u001b[0;36m3\u001b[0m\u001b[0;34m]\u001b[0m\u001b[0;34m\u001b[0m\u001b[0;34m\u001b[0m\u001b[0m\n\u001b[0;32m----> 4\u001b[0;31m \u001b[0mL\u001b[0m\u001b[0;34m[\u001b[0m\u001b[0;36m100\u001b[0m\u001b[0;34m]\u001b[0m\u001b[0;34m\u001b[0m\u001b[0;34m\u001b[0m\u001b[0m\n\u001b[0m",
            "\u001b[0;31mIndexError\u001b[0m: list index out of range"
          ]
        }
      ]
    },
    {
      "cell_type": "markdown",
      "source": [
        "### Indentation error is also a type of syntax error."
      ],
      "metadata": {
        "id": "55q19CbEei1n"
      }
    },
    {
      "cell_type": "code",
      "source": [
        "# ModuleNotFoundError\n",
        "# The ModuleNotFoundError is thrown when a module could not be found.\n",
        "import mathi\n",
        "math.floor(5.3)"
      ],
      "metadata": {
        "colab": {
          "base_uri": "https://localhost:8080/",
          "height": 366
        },
        "id": "FfoXlpAGE1rW",
        "outputId": "b5800421-3a3d-4293-fad6-fb49227da0e6"
      },
      "execution_count": null,
      "outputs": [
        {
          "output_type": "error",
          "ename": "ModuleNotFoundError",
          "evalue": "ignored",
          "traceback": [
            "\u001b[0;31m---------------------------------------------------------------------------\u001b[0m",
            "\u001b[0;31mModuleNotFoundError\u001b[0m                       Traceback (most recent call last)",
            "\u001b[0;32m<ipython-input-73-cbdaf00191df>\u001b[0m in \u001b[0;36m<module>\u001b[0;34m\u001b[0m\n\u001b[1;32m      1\u001b[0m \u001b[0;31m# ModuleNotFoundError\u001b[0m\u001b[0;34m\u001b[0m\u001b[0;34m\u001b[0m\u001b[0;34m\u001b[0m\u001b[0m\n\u001b[1;32m      2\u001b[0m \u001b[0;31m# The ModuleNotFoundError is thrown when a module could not be found.\u001b[0m\u001b[0;34m\u001b[0m\u001b[0;34m\u001b[0m\u001b[0;34m\u001b[0m\u001b[0m\n\u001b[0;32m----> 3\u001b[0;31m \u001b[0;32mimport\u001b[0m \u001b[0mmathi\u001b[0m\u001b[0;34m\u001b[0m\u001b[0;34m\u001b[0m\u001b[0m\n\u001b[0m\u001b[1;32m      4\u001b[0m \u001b[0mmath\u001b[0m\u001b[0;34m.\u001b[0m\u001b[0mfloor\u001b[0m\u001b[0;34m(\u001b[0m\u001b[0;36m5.3\u001b[0m\u001b[0;34m)\u001b[0m\u001b[0;34m\u001b[0m\u001b[0;34m\u001b[0m\u001b[0m\n",
            "\u001b[0;31mModuleNotFoundError\u001b[0m: No module named 'mathi'",
            "",
            "\u001b[0;31m---------------------------------------------------------------------------\u001b[0;32m\nNOTE: If your import is failing due to a missing package, you can\nmanually install dependencies using either !pip or !apt.\n\nTo view examples of installing some common dependencies, click the\n\"Open Examples\" button below.\n\u001b[0;31m---------------------------------------------------------------------------\u001b[0m\n"
          ],
          "errorDetails": {
            "actions": [
              {
                "action": "open_url",
                "actionText": "Open Examples",
                "url": "/notebooks/snippets/importing_libraries.ipynb"
              }
            ]
          }
        }
      ]
    },
    {
      "cell_type": "code",
      "source": [
        "# KeyError\n",
        "# The KeyError is thrown when a key is not found\n",
        "\n",
        "d = {'name':'nitish'}\n",
        "d['age']"
      ],
      "metadata": {
        "colab": {
          "base_uri": "https://localhost:8080/",
          "height": 205
        },
        "id": "IP2CycVwE66e",
        "outputId": "430034d1-08f0-4e37-baeb-486eeb121b43"
      },
      "execution_count": null,
      "outputs": [
        {
          "output_type": "error",
          "ename": "KeyError",
          "evalue": "ignored",
          "traceback": [
            "\u001b[0;31m---------------------------------------------------------------------------\u001b[0m",
            "\u001b[0;31mKeyError\u001b[0m                                  Traceback (most recent call last)",
            "\u001b[0;32m<ipython-input-74-453afa1c9765>\u001b[0m in \u001b[0;36m<module>\u001b[0;34m\u001b[0m\n\u001b[1;32m      3\u001b[0m \u001b[0;34m\u001b[0m\u001b[0m\n\u001b[1;32m      4\u001b[0m \u001b[0md\u001b[0m \u001b[0;34m=\u001b[0m \u001b[0;34m{\u001b[0m\u001b[0;34m'name'\u001b[0m\u001b[0;34m:\u001b[0m\u001b[0;34m'nitish'\u001b[0m\u001b[0;34m}\u001b[0m\u001b[0;34m\u001b[0m\u001b[0;34m\u001b[0m\u001b[0m\n\u001b[0;32m----> 5\u001b[0;31m \u001b[0md\u001b[0m\u001b[0;34m[\u001b[0m\u001b[0;34m'age'\u001b[0m\u001b[0;34m]\u001b[0m\u001b[0;34m\u001b[0m\u001b[0;34m\u001b[0m\u001b[0m\n\u001b[0m",
            "\u001b[0;31mKeyError\u001b[0m: 'age'"
          ]
        }
      ]
    },
    {
      "cell_type": "code",
      "source": [
        "# TypeError\n",
        "# The TypeError is thrown when an operation or function is applied to an object of an inappropriate type.\n",
        "1 + 'a'"
      ],
      "metadata": {
        "colab": {
          "base_uri": "https://localhost:8080/",
          "height": 205
        },
        "id": "meGU1o_VE-Y5",
        "outputId": "e8b62d30-5c0e-411e-cd60-4cd7fa42ecfd"
      },
      "execution_count": null,
      "outputs": [
        {
          "output_type": "error",
          "ename": "TypeError",
          "evalue": "ignored",
          "traceback": [
            "\u001b[0;31m---------------------------------------------------------------------------\u001b[0m",
            "\u001b[0;31mTypeError\u001b[0m                                 Traceback (most recent call last)",
            "\u001b[0;32m<ipython-input-78-2a3eb3f5bb0a>\u001b[0m in \u001b[0;36m<module>\u001b[0;34m\u001b[0m\n\u001b[1;32m      1\u001b[0m \u001b[0;31m# TypeError\u001b[0m\u001b[0;34m\u001b[0m\u001b[0;34m\u001b[0m\u001b[0;34m\u001b[0m\u001b[0m\n\u001b[1;32m      2\u001b[0m \u001b[0;31m# The TypeError is thrown when an operation or function is applied to an object of an inappropriate type.\u001b[0m\u001b[0;34m\u001b[0m\u001b[0;34m\u001b[0m\u001b[0;34m\u001b[0m\u001b[0m\n\u001b[0;32m----> 3\u001b[0;31m \u001b[0;36m1\u001b[0m \u001b[0;34m+\u001b[0m \u001b[0;34m'a'\u001b[0m\u001b[0;34m\u001b[0m\u001b[0;34m\u001b[0m\u001b[0m\n\u001b[0m",
            "\u001b[0;31mTypeError\u001b[0m: unsupported operand type(s) for +: 'int' and 'str'"
          ]
        }
      ]
    },
    {
      "cell_type": "code",
      "source": [
        "# ValueError\n",
        "# The ValueError is thrown when a function's argument is of an inappropriate type.\n",
        "int('a')"
      ],
      "metadata": {
        "colab": {
          "base_uri": "https://localhost:8080/",
          "height": 205
        },
        "id": "ZE_r2WsaFF6f",
        "outputId": "a8f34b54-b1e3-47d9-cd32-7eeee19b4d47"
      },
      "execution_count": null,
      "outputs": [
        {
          "output_type": "error",
          "ename": "ValueError",
          "evalue": "ignored",
          "traceback": [
            "\u001b[0;31m---------------------------------------------------------------------------\u001b[0m",
            "\u001b[0;31mValueError\u001b[0m                                Traceback (most recent call last)",
            "\u001b[0;32m<ipython-input-76-e419d2a084b4>\u001b[0m in \u001b[0;36m<module>\u001b[0;34m\u001b[0m\n\u001b[1;32m      1\u001b[0m \u001b[0;31m# ValueError\u001b[0m\u001b[0;34m\u001b[0m\u001b[0;34m\u001b[0m\u001b[0;34m\u001b[0m\u001b[0m\n\u001b[1;32m      2\u001b[0m \u001b[0;31m# The ValueError is thrown when a function's argument is of an inappropriate type.\u001b[0m\u001b[0;34m\u001b[0m\u001b[0;34m\u001b[0m\u001b[0;34m\u001b[0m\u001b[0m\n\u001b[0;32m----> 3\u001b[0;31m \u001b[0mint\u001b[0m\u001b[0;34m(\u001b[0m\u001b[0;34m'a'\u001b[0m\u001b[0;34m)\u001b[0m\u001b[0;34m\u001b[0m\u001b[0;34m\u001b[0m\u001b[0m\n\u001b[0m",
            "\u001b[0;31mValueError\u001b[0m: invalid literal for int() with base 10: 'a'"
          ]
        }
      ]
    },
    {
      "cell_type": "code",
      "source": [
        "# NameError\n",
        "# The NameError is thrown when an object could not be found.\n",
        "print(k)"
      ],
      "metadata": {
        "colab": {
          "base_uri": "https://localhost:8080/",
          "height": 205
        },
        "id": "yr7eRF2xFPo7",
        "outputId": "617b5a0c-2e8d-4e9d-e441-aa14c013bfa5"
      },
      "execution_count": null,
      "outputs": [
        {
          "output_type": "error",
          "ename": "NameError",
          "evalue": "ignored",
          "traceback": [
            "\u001b[0;31m---------------------------------------------------------------------------\u001b[0m",
            "\u001b[0;31mNameError\u001b[0m                                 Traceback (most recent call last)",
            "\u001b[0;32m<ipython-input-79-e3e8aaa4ec45>\u001b[0m in \u001b[0;36m<module>\u001b[0;34m\u001b[0m\n\u001b[1;32m      1\u001b[0m \u001b[0;31m# NameError\u001b[0m\u001b[0;34m\u001b[0m\u001b[0;34m\u001b[0m\u001b[0;34m\u001b[0m\u001b[0m\n\u001b[1;32m      2\u001b[0m \u001b[0;31m# The NameError is thrown when an object could not be found.\u001b[0m\u001b[0;34m\u001b[0m\u001b[0;34m\u001b[0m\u001b[0;34m\u001b[0m\u001b[0m\n\u001b[0;32m----> 3\u001b[0;31m \u001b[0mprint\u001b[0m\u001b[0;34m(\u001b[0m\u001b[0mk\u001b[0m\u001b[0;34m)\u001b[0m\u001b[0;34m\u001b[0m\u001b[0;34m\u001b[0m\u001b[0m\n\u001b[0m",
            "\u001b[0;31mNameError\u001b[0m: name 'k' is not defined"
          ]
        }
      ]
    },
    {
      "cell_type": "code",
      "source": [
        "# AttributeError\n",
        "L = [1,2,3]\n",
        "L.upper()"
      ],
      "metadata": {
        "colab": {
          "base_uri": "https://localhost:8080/",
          "height": 205
        },
        "id": "VHVKtWwWFUhK",
        "outputId": "6d84d92c-f2c1-4abc-f4ed-6cf8ebd0cb1e"
      },
      "execution_count": null,
      "outputs": [
        {
          "output_type": "error",
          "ename": "AttributeError",
          "evalue": "ignored",
          "traceback": [
            "\u001b[0;31m---------------------------------------------------------------------------\u001b[0m",
            "\u001b[0;31mAttributeError\u001b[0m                            Traceback (most recent call last)",
            "\u001b[0;32m<ipython-input-80-dd5a29625ddc>\u001b[0m in \u001b[0;36m<module>\u001b[0;34m\u001b[0m\n\u001b[1;32m      1\u001b[0m \u001b[0;31m# AttributeError\u001b[0m\u001b[0;34m\u001b[0m\u001b[0;34m\u001b[0m\u001b[0;34m\u001b[0m\u001b[0m\n\u001b[1;32m      2\u001b[0m \u001b[0mL\u001b[0m \u001b[0;34m=\u001b[0m \u001b[0;34m[\u001b[0m\u001b[0;36m1\u001b[0m\u001b[0;34m,\u001b[0m\u001b[0;36m2\u001b[0m\u001b[0;34m,\u001b[0m\u001b[0;36m3\u001b[0m\u001b[0;34m]\u001b[0m\u001b[0;34m\u001b[0m\u001b[0;34m\u001b[0m\u001b[0m\n\u001b[0;32m----> 3\u001b[0;31m \u001b[0mL\u001b[0m\u001b[0;34m.\u001b[0m\u001b[0mupper\u001b[0m\u001b[0;34m(\u001b[0m\u001b[0;34m)\u001b[0m\u001b[0;34m\u001b[0m\u001b[0;34m\u001b[0m\u001b[0m\n\u001b[0m",
            "\u001b[0;31mAttributeError\u001b[0m: 'list' object has no attribute 'upper'"
          ]
        }
      ]
    },
    {
      "cell_type": "markdown",
      "source": [
        "\n",
        "\n",
        "## Stacktrace\n",
        "\n",
        "These messages which are printed on console by python while an error occured is called Stacktrace."
      ],
      "metadata": {
        "id": "IlqgVZzbgUiX"
      }
    },
    {
      "cell_type": "markdown",
      "source": [
        "### Exceptions\n",
        "\n",
        "If things go wrong during the execution of the program(runtime). It generally happens when something unforeseen has happened.\n",
        "\n",
        "- Exceptions are raised by python runtime\n",
        "- You have to takle is on the fly\n",
        "\n",
        "#### **Examples**\n",
        "\n",
        "- Memory overflow\n",
        "- Divide by 0 -> logical error\n",
        "- Database error"
      ],
      "metadata": {
        "id": "l6JrgCrHA2Tq"
      }
    },
    {
      "cell_type": "markdown",
      "source": [
        "## Why is it important to handle exceptions?\n",
        "\n",
        "1) Bad User Experience: These error message should not visible to the users or client as these are in technical language and users are not familiar with this.\n",
        "\n",
        "2) Security Purpose: These error message is showing us the line no of code at which error occured and also a code snippets. So for security reasons we should do exception handling."
      ],
      "metadata": {
        "id": "xrba6tMcg9Tm"
      }
    },
    {
      "cell_type": "code",
      "source": [
        "# how to handle exceptions\n",
        "# -> Try except block"
      ],
      "metadata": {
        "id": "rfzG2r9DAfDf"
      },
      "execution_count": null,
      "outputs": []
    },
    {
      "cell_type": "code",
      "source": [
        "# let's create a file\n",
        "with open('sample.txt','w') as f:\n",
        "  f.write('hello world')"
      ],
      "metadata": {
        "id": "S_VIvkx9Hnxb"
      },
      "execution_count": 4,
      "outputs": []
    },
    {
      "cell_type": "markdown",
      "source": [
        "## Whenever we do some external tasks(reading a file, opening a bluetooth connecction or database connection ) inside our code, we always use try except block."
      ],
      "metadata": {
        "id": "l11HT2njijZN"
      }
    },
    {
      "cell_type": "code",
      "source": [
        "with open('sample1.txt','r') as f:\n",
        "    print(f.read())"
      ],
      "metadata": {
        "id": "A9qE4u3SjGkP",
        "outputId": "46c0c4bb-8b5b-4a2d-cce8-3ef9206b31aa",
        "colab": {
          "base_uri": "https://localhost:8080/",
          "height": 159
        }
      },
      "execution_count": 1,
      "outputs": [
        {
          "output_type": "error",
          "ename": "FileNotFoundError",
          "evalue": "[Errno 2] No such file or directory: 'sample1.txt'",
          "traceback": [
            "\u001b[0;31m---------------------------------------------------------------------------\u001b[0m",
            "\u001b[0;31mFileNotFoundError\u001b[0m                         Traceback (most recent call last)",
            "\u001b[0;32m<ipython-input-1-8f4de0a4ff05>\u001b[0m in \u001b[0;36m<cell line: 1>\u001b[0;34m()\u001b[0m\n\u001b[0;32m----> 1\u001b[0;31m \u001b[0;32mwith\u001b[0m \u001b[0mopen\u001b[0m\u001b[0;34m(\u001b[0m\u001b[0;34m'sample1.txt'\u001b[0m\u001b[0;34m,\u001b[0m\u001b[0;34m'r'\u001b[0m\u001b[0;34m)\u001b[0m \u001b[0;32mas\u001b[0m \u001b[0mf\u001b[0m\u001b[0;34m:\u001b[0m\u001b[0;34m\u001b[0m\u001b[0;34m\u001b[0m\u001b[0m\n\u001b[0m\u001b[1;32m      2\u001b[0m     \u001b[0mprint\u001b[0m\u001b[0;34m(\u001b[0m\u001b[0mf\u001b[0m\u001b[0;34m.\u001b[0m\u001b[0mread\u001b[0m\u001b[0;34m(\u001b[0m\u001b[0;34m)\u001b[0m\u001b[0;34m)\u001b[0m\u001b[0;34m\u001b[0m\u001b[0;34m\u001b[0m\u001b[0m\n",
            "\u001b[0;31mFileNotFoundError\u001b[0m: [Errno 2] No such file or directory: 'sample1.txt'"
          ]
        }
      ]
    },
    {
      "cell_type": "code",
      "source": [
        "# try catch demo\n",
        "try:\n",
        "  with open('sample1.txt','r') as f:\n",
        "    print(f.read())\n",
        "except:\n",
        "  print('sorry file not found')"
      ],
      "metadata": {
        "colab": {
          "base_uri": "https://localhost:8080/"
        },
        "id": "9WItdkURHtvM",
        "outputId": "b14ed0bd-1d46-426b-ab81-42e24608ec4e"
      },
      "execution_count": null,
      "outputs": [
        {
          "output_type": "stream",
          "name": "stdout",
          "text": [
            "sorry file not found\n"
          ]
        }
      ]
    },
    {
      "cell_type": "code",
      "source": [
        "# catching specific exception\n",
        "try:\n",
        "  f = open('sample1.txt','r')\n",
        "  print(f.read())\n",
        "  print(m)\n",
        "\n",
        "except Exception as e:\n",
        "  print(e)"
      ],
      "metadata": {
        "id": "eRTwV_JGkAtw",
        "outputId": "8a833184-11fe-4c2d-b554-3b052420365e",
        "colab": {
          "base_uri": "https://localhost:8080/"
        }
      },
      "execution_count": 2,
      "outputs": [
        {
          "output_type": "stream",
          "name": "stdout",
          "text": [
            "[Errno 2] No such file or directory: 'sample1.txt'\n"
          ]
        }
      ]
    },
    {
      "cell_type": "code",
      "source": [
        "try:\n",
        "  f = open('sample.txt','r')\n",
        "  print(f.read())\n",
        "  print(m)\n",
        "\n",
        "except Exception as e:\n",
        "  print(e.with_tracebacks)"
      ],
      "metadata": {
        "id": "zRLQ5mPgkRqX",
        "outputId": "3cdb9736-7d51-4787-853e-1959fc6d7753",
        "colab": {
          "base_uri": "https://localhost:8080/",
          "height": 367
        }
      },
      "execution_count": 6,
      "outputs": [
        {
          "output_type": "stream",
          "name": "stdout",
          "text": [
            "hello world\n"
          ]
        },
        {
          "output_type": "error",
          "ename": "AttributeError",
          "evalue": "'NameError' object has no attribute 'with_tracebacks'",
          "traceback": [
            "\u001b[0;31m---------------------------------------------------------------------------\u001b[0m",
            "\u001b[0;31mNameError\u001b[0m                                 Traceback (most recent call last)",
            "\u001b[0;32m<ipython-input-6-86c3917ce3b0>\u001b[0m in \u001b[0;36m<cell line: 1>\u001b[0;34m()\u001b[0m\n\u001b[1;32m      3\u001b[0m   \u001b[0mprint\u001b[0m\u001b[0;34m(\u001b[0m\u001b[0mf\u001b[0m\u001b[0;34m.\u001b[0m\u001b[0mread\u001b[0m\u001b[0;34m(\u001b[0m\u001b[0;34m)\u001b[0m\u001b[0;34m)\u001b[0m\u001b[0;34m\u001b[0m\u001b[0;34m\u001b[0m\u001b[0m\n\u001b[0;32m----> 4\u001b[0;31m   \u001b[0mprint\u001b[0m\u001b[0;34m(\u001b[0m\u001b[0mm\u001b[0m\u001b[0;34m)\u001b[0m\u001b[0;34m\u001b[0m\u001b[0;34m\u001b[0m\u001b[0m\n\u001b[0m\u001b[1;32m      5\u001b[0m \u001b[0;34m\u001b[0m\u001b[0m\n",
            "\u001b[0;31mNameError\u001b[0m: name 'm' is not defined",
            "\nDuring handling of the above exception, another exception occurred:\n",
            "\u001b[0;31mAttributeError\u001b[0m                            Traceback (most recent call last)",
            "\u001b[0;32m<ipython-input-6-86c3917ce3b0>\u001b[0m in \u001b[0;36m<cell line: 1>\u001b[0;34m()\u001b[0m\n\u001b[1;32m      5\u001b[0m \u001b[0;34m\u001b[0m\u001b[0m\n\u001b[1;32m      6\u001b[0m \u001b[0;32mexcept\u001b[0m \u001b[0mException\u001b[0m \u001b[0;32mas\u001b[0m \u001b[0me\u001b[0m\u001b[0;34m:\u001b[0m\u001b[0;34m\u001b[0m\u001b[0;34m\u001b[0m\u001b[0m\n\u001b[0;32m----> 7\u001b[0;31m   \u001b[0mprint\u001b[0m\u001b[0;34m(\u001b[0m\u001b[0me\u001b[0m\u001b[0;34m.\u001b[0m\u001b[0mwith_tracebacks\u001b[0m\u001b[0;34m)\u001b[0m\u001b[0;34m\u001b[0m\u001b[0;34m\u001b[0m\u001b[0m\n\u001b[0m",
            "\u001b[0;31mAttributeError\u001b[0m: 'NameError' object has no attribute 'with_tracebacks'"
          ]
        }
      ]
    },
    {
      "cell_type": "code",
      "source": [
        "try:\n",
        "  m=5\n",
        "  f = open('sample.txt','r')\n",
        "  print(f.read())\n",
        "  print(m)\n",
        "  print(5/0)\n",
        "except FileNotFoundError:\n",
        "  print('file not found')\n",
        "except NameError:\n",
        "  print('variable not defined')\n",
        "except ZeroDivisionError:\n",
        "  print(\"can't divide by 0\")"
      ],
      "metadata": {
        "id": "qy7Rnb_0tWjK",
        "outputId": "a92b8677-e629-4823-de99-8a9df2c62d46",
        "colab": {
          "base_uri": "https://localhost:8080/"
        }
      },
      "execution_count": 8,
      "outputs": [
        {
          "output_type": "stream",
          "name": "stdout",
          "text": [
            "hello world\n",
            "5\n",
            "can't divide by 0\n"
          ]
        }
      ]
    },
    {
      "cell_type": "code",
      "source": [
        "# catching specific exception\n",
        "try:\n",
        "  m=5\n",
        "  f = open('sample.txt','r')\n",
        "  print(f.read())\n",
        "  print(m)\n",
        "  print(5/2)\n",
        "  L = [1,2,3]\n",
        "  L[100]\n",
        "except FileNotFoundError:\n",
        "  print('file not found')\n",
        "except NameError:\n",
        "  print('variable not defined')\n",
        "except ZeroDivisionError:\n",
        "  print(\"can't divide by 0\")\n",
        "except Exception as e: # we should add a generic exception in the end to handle anything mishap remain\n",
        "  print(e)"
      ],
      "metadata": {
        "colab": {
          "base_uri": "https://localhost:8080/"
        },
        "id": "px7mJhmvH0pd",
        "outputId": "43ba286e-3e9b-42bb-c0ef-1c0c903398a6"
      },
      "execution_count": 7,
      "outputs": [
        {
          "output_type": "stream",
          "name": "stdout",
          "text": [
            "hello world\n",
            "5\n",
            "2.5\n",
            "list index out of range\n"
          ]
        }
      ]
    },
    {
      "cell_type": "code",
      "source": [
        "# else\n",
        "try:\n",
        "  f = open('sample.txt','r')\n",
        "except FileNotFoundError:\n",
        "  print('file is not present in directory')\n",
        "except Exception:\n",
        "  print('Something is wrong')\n",
        "else:    # we write that code in else block we want to execute after success of try block\n",
        "  print(f.read())"
      ],
      "metadata": {
        "colab": {
          "base_uri": "https://localhost:8080/"
        },
        "id": "nn-_EK1TKvno",
        "outputId": "e4f354f6-f2dd-410b-f32e-6a435c8163e8"
      },
      "execution_count": 15,
      "outputs": [
        {
          "output_type": "stream",
          "name": "stdout",
          "text": [
            "hello world\n"
          ]
        }
      ]
    },
    {
      "cell_type": "code",
      "source": [
        "# else\n",
        "try:\n",
        "  f = open('sample1.txt','r')\n",
        "except FileNotFoundError:\n",
        "  print('file is not present in directory')\n",
        "except Exception:\n",
        "  print('Something is wrong')\n",
        "else:    # If any except block will execute then else will not execute\n",
        "  print(f.read())\n"
      ],
      "metadata": {
        "id": "xJMdVSCLvUtt",
        "outputId": "4903a35e-66e6-4845-e4cb-e009db48262e",
        "colab": {
          "base_uri": "https://localhost:8080/"
        }
      },
      "execution_count": 16,
      "outputs": [
        {
          "output_type": "stream",
          "name": "stdout",
          "text": [
            "file is not present in directory\n"
          ]
        }
      ]
    },
    {
      "cell_type": "code",
      "source": [
        "# finally\n",
        "# else\n",
        "try:\n",
        "  f = open('sample.txt','r')\n",
        "except FileNotFoundError:\n",
        "  print('file is not present in directory')\n",
        "except Exception:\n",
        "  print('Something is wrong')\n",
        "else:\n",
        "  print(f.read())\n",
        "finally:  # finally will execute always\n",
        "  print('It will print always')"
      ],
      "metadata": {
        "id": "g3Ckgos2v8Eh",
        "outputId": "7ecb4573-ff8d-490f-fe78-e81733095498",
        "colab": {
          "base_uri": "https://localhost:8080/"
        }
      },
      "execution_count": 17,
      "outputs": [
        {
          "output_type": "stream",
          "name": "stdout",
          "text": [
            "hello world\n",
            "It will print always\n"
          ]
        }
      ]
    },
    {
      "cell_type": "code",
      "source": [
        "# finally\n",
        "# else\n",
        "try:\n",
        "  f = open('sample1.txt','r')\n",
        "except FileNotFoundError:\n",
        "  print('file is not present in directory')\n",
        "except Exception:\n",
        "  print('Something is wrong')\n",
        "else:\n",
        "  print(f.read())\n",
        "finally:  # finally will execute always\n",
        "  print('It will print always')"
      ],
      "metadata": {
        "colab": {
          "base_uri": "https://localhost:8080/"
        },
        "id": "VKzyyGTUKwm5",
        "outputId": "3783fdda-7015-40df-d00f-586d5d4a4187"
      },
      "execution_count": 18,
      "outputs": [
        {
          "output_type": "stream",
          "name": "stdout",
          "text": [
            "file is not present in directory\n",
            "It will print always\n"
          ]
        }
      ]
    },
    {
      "cell_type": "markdown",
      "source": [
        "### In finally block we generally close a database connection, close a file, close a socket connection and any necessary task that needs to be executed anyhow."
      ],
      "metadata": {
        "id": "9LU6vlXWwHF0"
      }
    },
    {
      "cell_type": "markdown",
      "source": [
        "![image.png](data:image/png;base64,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)"
      ],
      "metadata": {
        "id": "65cbM2D4wyE1"
      }
    },
    {
      "cell_type": "code",
      "source": [
        "# raise Exception\n",
        "# In Python programming, exceptions are raised when errors occur at runtime.\n",
        "# We can also manually raise exceptions using the raise keyword.\n",
        "\n",
        "# We can optionally pass values to the exception to clarify why that exception was raised"
      ],
      "metadata": {
        "id": "weTHAgttKxaJ"
      },
      "execution_count": null,
      "outputs": []
    },
    {
      "cell_type": "code",
      "source": [
        "raise ZeroDivisionError('Just trying things')  # we can throw any error using raise\n",
        "# Java\n",
        "# try -> try\n",
        "# except -> catch\n",
        "# raise -> throw"
      ],
      "metadata": {
        "colab": {
          "base_uri": "https://localhost:8080/",
          "height": 211
        },
        "id": "IH51eIy5K9Yc",
        "outputId": "08c14126-2294-4ef9-bbb8-1029e9a13f73"
      },
      "execution_count": 14,
      "outputs": [
        {
          "output_type": "error",
          "ename": "ZeroDivisionError",
          "evalue": "Just trying things",
          "traceback": [
            "\u001b[0;31m---------------------------------------------------------------------------\u001b[0m",
            "\u001b[0;31mZeroDivisionError\u001b[0m                         Traceback (most recent call last)",
            "\u001b[0;32m<ipython-input-14-c82b66de37d3>\u001b[0m in \u001b[0;36m<cell line: 1>\u001b[0;34m()\u001b[0m\n\u001b[0;32m----> 1\u001b[0;31m \u001b[0;32mraise\u001b[0m \u001b[0mZeroDivisionError\u001b[0m\u001b[0;34m(\u001b[0m\u001b[0;34m'Just trying things'\u001b[0m\u001b[0;34m)\u001b[0m  \u001b[0;31m# we can throw any error using raise\u001b[0m\u001b[0;34m\u001b[0m\u001b[0;34m\u001b[0m\u001b[0m\n\u001b[0m\u001b[1;32m      2\u001b[0m \u001b[0;31m# Java\u001b[0m\u001b[0;34m\u001b[0m\u001b[0;34m\u001b[0m\u001b[0m\n\u001b[1;32m      3\u001b[0m \u001b[0;31m# try -> try\u001b[0m\u001b[0;34m\u001b[0m\u001b[0;34m\u001b[0m\u001b[0m\n\u001b[1;32m      4\u001b[0m \u001b[0;31m# except -> catch\u001b[0m\u001b[0;34m\u001b[0m\u001b[0;34m\u001b[0m\u001b[0m\n\u001b[1;32m      5\u001b[0m \u001b[0;31m# raise -> throw\u001b[0m\u001b[0;34m\u001b[0m\u001b[0;34m\u001b[0m\u001b[0m\n",
            "\u001b[0;31mZeroDivisionError\u001b[0m: Just trying things"
          ]
        }
      ]
    },
    {
      "cell_type": "code",
      "source": [
        "class Bank:\n",
        "\n",
        "  def __init__(self,balance):\n",
        "    self.balance = balance\n",
        "\n",
        "  def withdraw(self,amount):\n",
        "    if amount < 0:\n",
        "      raise Exception('amount cannot be -ve')  # <--\n",
        "    if self.balance < amount:\n",
        "      raise Exception('Insufficient Amount') # <--\n",
        "    self.balance = self.balance - amount\n",
        "\n",
        "obj = Bank(10000)\n",
        "try:\n",
        "  obj.withdraw(15000)\n",
        "except Exception as e:  # except will receive the error object of Exception class (in raise line)\n",
        "  print(e)  # we are not writing multiple exception here because of raise\n",
        "else:\n",
        "  print(obj.balance)"
      ],
      "metadata": {
        "colab": {
          "base_uri": "https://localhost:8080/"
        },
        "id": "0qLD1KYj_LPm",
        "outputId": "64f8e974-65c8-4c0f-fd22-502b19593d62"
      },
      "execution_count": 19,
      "outputs": [
        {
          "output_type": "stream",
          "name": "stdout",
          "text": [
            "Insufficient Amount\n"
          ]
        }
      ]
    },
    {
      "cell_type": "markdown",
      "source": [
        "![image.png](data:image/png;base64,iVBORw0KGgoAAAANSUhEUgAAAkUAAAG3CAYAAAC6zCFOAAAAAXNSR0IArs4c6QAAAARnQU1BAACxjwv8YQUAAAAJcEhZcwAADsMAAA7DAcdvqGQAAN3TSURBVHhe7N0HnGVFlT/wgpkBERVUgoACCpJzBgkDEiWpKGkxICDgimHXyLr/3f0Aoog5oBIEEQQkSzKAiEgSDGQFRJAkiJKWkTC8f39LDvt4vO7pmenXL/T5fT7V/e69detWnTrn1K/CrTtHYwglkUgkEolEYoJjzmf/JxKJRCKRSExoJClKJBKJRCKRGEKSokQikUgkEokhzPGPJ54cdk3RpDnnKHPOOWeZY445nj3TWdTlTZ41jsucxqtsgW4s4epGGT1zPMs67mV89v946irbGM9STpQyet5A6+p41l8TxrucMMj1GBjv+hzUevSM6c88M/T/2RPPYo5HHvvfYZ8+ZfKkMteUKZUYdRrdMlwYr0rPMnYW41bG+qdL5Rwq43iUMsvYWYxnQ5N+p3PIehxbjGcZn356ennqqafK9JZnzvHwo48Nm4spUyZXUjRpHEhRIpFIJBKJxHgAIXoSKXpmFknR01ddXZ686OLSeOCB0mhJJJFIJBKJRKJXMXnF5cuUrbYokxZbtJQhTjPbpOjJU88o0759dJl++5/KUCrPxkgkEolEIpHobcz1xqnlRR/41zJ5heVKmTRpWFI0+nmxZ4aI0NNPl6FUhkjR9DrnnyFDhgwZMmTI0IuhWDk4fYi3DJGfBv7SmPGAzuhHik45rUz75pFl+m23l7m23bpM2WTjMsf8LxvXhWaJRCKRSCQSo8H0O/9cnhjiLtP/cGuZsunGZZ4PH1Amr7jCiCNFs0SK5jlg/zL3HruVORdeaCiFJEWJRCKRSCR6C09ff2OZdtCh5amrri5Tpm40KlKUr5UlEolEIpFIDCFJUSKRSCQSicQQkhQlEgMIm6A988wzdYg4Q28H9dTNjfkSicT/IdcUJRIDCA3t3//+93LXXXeV//3f/332bKLXMPfcc5dFF120LLDAAkP+dsqzZxOJxFhgVtYUJSlKJAYQSNGvfvWrctppp5U77rijHid6DwsuuGDZcccdy3rrrVde9rJ8mzeRGEskKUokEhXTp08v5513Xvnc5z5Xrr/++nqcDW7vIKbLXvOa15QPfehD5c1vfnN55StfmXWUSIwhkhQlEomKp59+uvzwhz8sBx98cCVF8847b5l//vnrFE02vN3F448/Xh588MEybdq0ssQSS5SPfvSj5W1ve1sdNcq6SSTGDkmKEolERTMpuuWWW8qqq65aNthggxyN6AH88Y9/LBdeeGH505/+VBZbbLEkRYlEh5CkKJFIVDSTIo2v6Zl3vOMddWRiziF7TnQHsdbrK1/5SrnmmmvKq171qiRFiUSHkKQokUhUNJOiO++8s+y+++7lfe97X3nd616XpKiLQIouvfTSWi+XX355WXjhhZMUJRIdwqyQovSOicSAQ0MrIEPCpCGHkKF7QR0k+UkkehNJihKJRCKRSCSGkKQokUgkEolEYghJihKJxISEvYLahUQiMXGRpCiRmOBABCwAfvLJJ+snQR599NEa7KNj08exIgrSkd4//vGP8thjjz33HPv2WPTYDUKizPfcc099Q++hhx6q+UskEhMXSYoSiUQlKjZ5POuss8oJJ5xQTjzxxPLjH/+4koUnnnhiTAiLNB5++OH61tUpp5xSjj/++PqsCy644LnndBqe8Ze//KXcf//9tcz+K/PRRx9dfvvb31aC1g1ylkgkegNJihKJRB0Vsn/OGWecUX7xi1+UK6+8snz/+98v559/frnvvvvqK/5Gc8QTkIsYRXLNsfNGXow6xXnEI86Lbyfniy66qH6TzfNuv/32mr4RI3EjXc/y2/84jrT89gznpeuca57nvP/Ox7W4R/x77723kiCfQPnzn/9cz73oRS8qL37xi0vs9u1clKc1XefjWqSbJCqRGBxM+uSBB/73s79fgEmT/vn67pwcxQ03laev/nVp/P2hMmXdtcvkVVYuc7xk3tynKJHoQWjE//CHP5RLLrmkPPLII2XllVcu66yzTnn5y1/edp8i01lXXHFF3W1Z3GWWWabccMMNlQAsv/zyZZ555qkflr3pppvKbbfdVv72t79V3wBGXpx3r5EW5AIhQXhuvPHGGl8enDdFhXT5gv/GG29cNtpoo7LccsuVl7zkJXUaC0GS9wceeKCOHgUhQWCkFSNKvi5v1EkZb7755novgqJs7pXXu+++u+bBb+QGefn1r39dTj311JonaXiu9JEiG1s6dv/vf//7GqSrLJMnT66jSnYHd066yosYuXeuueYa1Wv28mDfKPWiTJ73hje8oaywwgr1Uyz5qn4iMXZ45v4HytOXXFqeufueMmnJJcqU9dctcy60YBlyFNXupw+F1j5NkqJEYgAxs6QImTF9pLG3iSC7v/XWW8tCCy1UVl999UoMfvnLX5arr766XHfddZUwgFEV02E///nPK2FAPhAo6fzoRz+qJMS0HIKFFEn3d7/7XSVVSMgCCyxQvw6P/CBll112WfnrX/9a7/EMhAMZMZUnrbvuuqs+A6G59tpr66iT/wiT+zxDPn7605/WNPy2czQi4x5peobnv/SlL61ERN4QHHmRts0VlRXZUlbkymiSe22IKV3xjabJD3n5fIpnzwhJihKJ8cPIpKjxLCl6PisaefosR4UTiQkDzsGIEYKBaBgFiamkGIWZb775auOPFATpCEKiUdfII2GIxVVXXfXcKAtygUQYhUGAkJLf/OY3lXwgG0hcjEade+65lWSJ515kDZFadNFFy3rrrVcWX3zx+jzPMOIjX57pGfKDqDiP4Lz2ta+txMr9RqGkgehJY4011iiLLLJIzQsSh/zIk2k95ASRRJzIwv3SVFbPWnrppWu6riGfZNXqXBOJRA9jmP7HjNcUpZ0nEhMCiABio8Fff/31y7LLLltHMxAgozWIiOkvZAN5MgWGkPhUBYJgOss5cU1z+Y3YGGUxCmOkBvnxHKNDps2MQvn0CKKCwHg+8iEN6TpGpNyz0kor1VGVVVZZpZI1efNMZCQImZEozzCdteSSS5Y111yzPkd8xOUVr3hFmX/++evzPDdGxdzjzTtrjvw3imVkzdShZ1sL5bxnvfrVry5rrbVWlY/ykQnSmEgk+geVE7UhRjMmRTmam0hMCGj8jdYgE6uttlolBogEMmSKyUiMUSOEBulANBARUz8IAnJgqgohcp8RJaQDsZg6dWolQKbvjP5I4/Wvf30djUEyxJU20oFEAeKFgDkXI1aOYwRLOkZyXvOa19RRH6NI8u5+JCcWWrtH2TxDQIKQmRgBixEecQTHzptSdC+4DwF0LxkpNyLonGcJkU4ikehfjEyKkhAlEhMCyACSoXE3AoMEIUNGVOJDpUgEMqHxD4IRxMO9CII4RoRMTxmRQV4QDGQCiUAoECr3mbIyNeZZ1i+ZhgKjMO6XDyM0MZoj7sUXX1z/O0ampClPgAwJ8mFUJ9YPWRuEhBl5kifEDOFy3ZQayDOCtdhii9X/iF3caxQK8XKf54nrGcrveUGYyCiRSPQ3cqF1IjGAQG5mZqE1YmFtjZER1xEZBMaIkSko007IUJAbC4uN9CARSJFnIAtGjMRHamLEx32IUBALhEX+PCdGfaTrPAKEFCEwiBbi4z7EQ54EpMWIEIIT6UvLsXwhOqbg3C8P8rvqqqvW0STXpaG8yqdcyIx8mZaTb+VwHXFzL9mRg/OgjKbeXJd303Om/jxrRsRIXnOhdSIxPhjd22fPH+Gd4+FHHxt2zHfKlMllriFnNGkogSdPOa1M++aRZfptt5d5Dti/zL3HbmXOhRdKUpRI9CA06t6UOvjgg2vju/vuu5d//dd/rY05AtIKDbz1NAiF3xpnhMBIEeKASLhuDQ8CgnBo0BEUoy6mzjgZ5AKx4WisBbKuyHkN/qte9apKLKRjFMp5eXFNOgiZdIM4eZbfrksHaZMvxCbeFLP2yPORJnGRrwsvvLAu1F5qqaUqmRHfs5VFPFsICJ6tbLGjNiKGKCmL/MWol2dJ215Knod8KWPEk760PXtGUGZbEhx00EF1JMozP/rRj5a3ve1tz43IJRKJscHT199Yph10aHnqqqvLlKkblXk+fECZvOIKRnyqj3xiyO6nT3/m2dj/RJKiRGIAMbOkCIkx6uE+vwXxYlosrgsa7giu1R7X0HmI+K41pyctwXnnXHMexBcg0ozn+e0+z3AfRFoQabnPOSNP3mjztpi1TDHKhbDEPeILEGl7XuQ9nuW/4zgf9zXnybHfgjzMCO5JUpRIjA9mhRTNeKF1IpEYeGiMNf6mgIyWxNqZaOwRgVhD4zyS4dj1OC80k6Lm9IKUuOZ3PEMQx7nmNN3rOY7dE2kJca45rTjvNzK0xRZb1CkzozjOuV+eIl/SFvyWRnNZ/Xfsvubz7fIUabieSCT6H0mKEonEwABBsc5pxRVXrP+RliQsiURitEhSlEgkBgYIkJGc5hGlRCKRGC3SYyQSiUQikUgMIRdaJxIDCIsIY6G1T2fstNNOZc8996yvsufoSfdgQbdvvH3hC1+on0HxVlwutE4kOoN8+yyRSFQ0kyL7FflExtprr/3cvjyJ7gFJtWWA/Yrsw5SkKJHoDJIUJRKJimZS5PMcFhzbV8hC5ER3YR8om13aB8mnVJIUJRKdQZKiRCJRweB9bf7QQw+tpMhxvza4ppya9y0S+p08KA8gRf/2b/9WpzdtEpmkKJEYOyQpSiQSFQiEtSvf//7363e8HPcrEAgjK6abfMMsdsYeBNi80SjRhhtuWOabb74kRYnEGCJJUSKRqEAkfCbDZzt8DiNGJvoN8s15+QjsaaedVr+3tvXWW5dFFllkIBaM2zjSJ0J8RiSnNhOJsUWSokQiMVBAinxz7PTTTy9HH310XTD+3ve+t27OiFAkEonEcJgVUpTv5iYSiZ4FUuTDq96gu+eee8of//jH+kFZi5T7dfQrkUj0LpIUJRKJnoUPqJoCRIaQo7vuuqt+4NaX7ZMUJRKJsUaSokQi0bN46qmn6kJxZMgX8B944IG6z48ptSRFiURirJGkKJFI9CSQnscee6yOEiFDCJLjW265pfz1r3/t6zfqEolEbyJJUSKR6EkgRQ8++GAdKfImnak0Gx8iSabQ+vmtukQi0ZtIUpRIJHoS3g5BfprXECFGf/nLX+rCa2uMHCcSicRYIUlRIpHoOSBA1hDF1FlMldmbyPmbb765voVmSi2RSCTGCkmKEolEz8EI0N/+9rc6SmQ/IjtZ29zwxS9+cd3o8P77788ptEQiMeZIUpRIJHoKSI6RIfsS+W+jRl+TR47mn3/+ssYaa9RdoJEmC69zCi2RSIwVkhQlEomeg/VEXrtfaqmlytprr12/ID9p0qQyzzzzlJVXXrlssMEG9beptCRFiURirJCkKJFI9BwQHUTIqNCSSy5ZCZCPpSJGvia/1lprlaWXXrqOHuX0WSKRGCskKUokEj2HKVOmlNe+9rV1pOilL33pc1+P9x8R8kHYZZZZprziFa+oRCmRSCTGAkmKEolETyGIj/VDFlY7jtEgv72BNvfcc5f55puvzDvvvEmKEonEmCFJUSKR6DkE+fG/Fc4JyJA4iUQiMbOo3aw2M+/pURKJRCKRSEws1NHnF7KiJEWJRCKRSCQSQ0hSlEgkEolEIjGEJEWJWYKFrxkydDqMhHbxM2QYTUgkhsMcDz/62LAaMmXK5DLXlCll0pxzlidPOa1M++aRZfptt5d5Dti/zL3HbmXOhRey6vHZ2ImJAA7Fhnl2ErbBXiLRSdjR+rrrritf//rXyy9+8Yuy6KKLlv32269svvnm9XMf7RZiJxIjweL8F73oRfXNRp+OycX6g4unr7+xTDvo0PLUVVeXKVM3KvN8+IAyecUVSpk0qX438cmhMP2Z51OgJEWJmYJG6je/+U1toHyoM3cTTnQSSPh9991XrrjiinLHHXfUPYvWWWedunGjDR0TiZkBEk1vVlhhhbpTuv2ubP+QGEwkKUp0HBTpjDPOKEcccUS55ZZbniNF2dvqLJqH/uOV9IkwSqK8RiSNTD755JP1NXx7E9mnaKx1rlXGkHo9GIh6BftfbbXVVuVf/uVf6nf1jBpNBFuaiEhSlOg4KNIpp5xSDj/88HLDDTfURoqT0VBlA9IZIJ6PP/54eeihhyox4MRtXKjHmzIfG2gwn3jiiSpjsrajti/z02tTLIn+hbpFrB9++OFKrvmrHXfcsey1115llVVWee4TMonBQ5KiRMfBuVxwwQXls5/9bLnmmmvquo6NNtqofo5BY50YeyBCt956a51Cuv/+++u3wEwhxZfjE7MP08L33ntvufLKK8ttt91WSeeaa65Zll122fKSl7wkG80+BlLk48Ls5/rrr6/1udNOO5V3vetdZfnll0+/NcBIUpToOIxa/PKXvyyHHnpo/b/44ouXfffdt2y44YbV2STGHha2W8N13HHH1SlLhMjQ/6qrrloXiyZmH8i+kc/vfe97Va+tNdl5553LpptuWj9AmyNy/QukyLq0448/vpx77rl1ZGjXXXetNqQzlx2LwUWSokTHgRRdddVV5dOf/nRtqF/3uteVj33sY/VtIL3rxNjDkP9Pf/rT8tWvfrXceOONdWRu//33r+TI9E5i9sFBeoHgG9/4RrnwwgvLa17zmvKe97ynbLvttmXhhRdOUtTnuOuuu+objKb+rUfbfffdy2677Vb9l6nSxGBiVkhRWnpipqHnJYDGwroi6y7if4axDfGNr+bFv85FaHdPhpkP5Bt67XfKeDBC1GErsc0p0UQ7JClKzBQ0GkaLmhuP7EUnBgHNZJ9eZ6OZSEw8ZGuWmCVE4wHZgCQGDUH2U68TiYmFJEWJ2UI2GolEIpEYFCQpSiQSicRAo3lqFLIzlxgOSYoSiUQiMfBoJUaJRDskKUokEonEwKP5k0Q5UpQYDkmKEolEIjHwyJdDEqNBkqJEIpFIJBKJISQpSiT6ANHLzd5tIpFIdA5JihKJPkEQo1wTkUgkEp1BkqJEog9gkWgsFI31EEmMEolEYmyRpCiR6APkq8SJRCLReSQpSiQSiUQikRjCyKQoO6eJRGKCIEfjEokJhLr84IVLEGY8UpR+ItGCaDyyEUkMCuhyBMj1WonEYKNaeBsznyEpSt+QaEXrot98GyrRjGaC0a+heSF7u+uDEBKJxAsxx8OPPjasdUyZMrnMPWVKbfSePOW0Mu2bR5bpt91e5jlg/zL3HruVORdeKFnTOAABefrpp58jIt3E9OnTy+WXX14OO+ywcuWVV5bllluufOxjHysbb7xxeclLXtIz5IjOTp48uf4PaAjkX+inRuHRRx8tP/7xj8sRRxxRfv/735epU6eWffbZp6y55prlxS9+cddlPmnSpCpr+SBXevrYY4+Vxx9/vOptP+DJJ58sv/vd78qxxx5brrjiirLEEkuU3XbbrWy66ablFa94xfP0qN+hvl760pdW3fE76oxd9IKPGWso35///Ofyta99rZxxxhm13Or2bW97W63nKUNt3EQEm1X/veKzO4Gnr7+xTDvo0PLUVVeXKVM3KvN8+IAyecUVGEH1TU889dSQ3j9f52dIiuYaUphJSYq6ir/97W/lj3/8Y3nooYe67rQ4mOuvv76cdNJJ5aabbiqLL7542XXXXcuqq65a5plnnmdjdRcMXUP22te+trzsZS+rDZp8/+Mf/6jO8S9/+Uv97Vw/YNq0aeXqq68uZ555Zs3/aqutVrbbbruyzDLLlBe96EXPxuoONCivetWrymte85oy77zz1nP/+7//WwnztddeW8lRPzS0HOQ999xTrrrqqvKnP/2p6s8aa6xRXv/61/cE8RxLqKcNNtigrLzyyrUjww7uv//+Wm4EvF/sYrRQngceeKDazyWXXFLmnnvu8sY3vrF2LhZeeOHqLyYa2C2bXWyxxaoPGVRilKRoQPHb3/62nHzyyXWU4KmhSuwmOBgk7dZbby1///vfa49z6aWXLq985Strz6MXwOARh7e//e21UZOvcPznn39++cUvflH++te/9k2vmPFGo4VkkLUe7vzzz991mWtgNS5vetObqoNFQB988ME64nLWWWdVAmoEotdBP5544ony8MMPV8JMh5pHUwYJCyywQB1p3HHHHetv+mV07Ac/+EG54447Bm60SN2qUx3Le++9t9oMXV100UUHjvCOFnR7m222KVtuuWVZcMEFB2oktBlJigYUF110Ufnc5z5XfvWrX1XH3W1o5Ew3cJ6MSQPSS8OweoKmPf793/+99vbnmmuu6hiNshx11FHl1FNPraMC/dBYg7zLK0JM5mRN5mTfbZnPN998Zeedd66NLAIqbwjcV7/61XLiiSeWu+++u45GIHLqpZedLzlHgMhrvzeaymMqUycmSPVHPvKRsvvuu5eFFlqo6tbZZ59dPv/5z5cbb7yxb+xiZsBu2I+GUH0iRsKgkoEZwUjoXnvtVd71rnfVEaNBlUOSogHFT37yk3LwwQdXUkR5NUQa+onYwxkOnJ6hf0HDbHj8wAMPLGuttdZzpEgv2Loco25GMEytmfKbqI5xVqFxeeSRR+o0mR6nxvV973tfWXbZZZ8jRV/+8pfLCSecUO67776yyiqrlM0337z2zF1PjC84/9tvv71OHRltNrr30Y9+tOyxxx7PkaLTTz+9fOYznyk33HBDtQm2gTSkjxkc6MhagoEgI0X77bdf2XvvvesSiCRF/4ckRX0ApOiQQw4p11xzTZ2q2nrrrevwbzYw/wcjaJdeeml1/HrDm2222YikSHxTPiuttFLX1+X0E8jR+gxypo8azZFIEfJJzvvvv39dlN/t6b6JCI2hNWnHHXdcnTo2YmekqB0pMi2+zjrr1BcnTKskKRocmDo877zzKvE1ervvvvsmKUpS1J8IUvSb3/ymOqsPfvCDZcUVV6xTKIl/NtSI0Pe+971yzDHH1IZ4RqSI7PSWt9hii556a67XYUTO2qbvfOc7deEqculNnpFI0Vvf+tbaCCOgSYrGH0iRN0bp/k9/+tNqD8ORIjZiOvQ973lPXbeWHa/BwR/+8Idy+OGHlwsvvLDqQJKi9qSoIEXDhcf/8Y/G09OnD7UnjcYTJ5/aeGjTrRoPLr5M4/HPfbEx/d77Go1nnqnXEp3Fj3/848Ymm2zSmG+++Ro77bRT46qrrmoMNUZD4n8mw7Ph4YcfbgwZfGOppZZqvPjFL25su+22jV/+8pdVTiDO7bff3vjYxz7WGHL2jWWWWaZx4okn1vuGGoUXpJehfRhyJI0h59r48Ic/3Fh00UUbL3/5yxtDhKhx/fXXN5566qka57777mt88pOfbAw528bcc8/dGCJNjSFCX68nxh9s4OKLL268/e1vr/W18MILNz73uc817r333qr7Q6SpcdJJJzVWW221xite8YrGUKer8fvf/77WdWv9Z+jfcMMNNzR23XXX2o4suOCCjf/4j/+oPpEODCqeuu6GxiM779F4cMnlGo+8e5/GU7+7tjGk2P+8NuSPHnv88RfwnlxM0UeI0Qz/M7QPM4N292cYXUgMLtrVd4bBCYmRkaQokUgkEolEYghJihLjgkZj2KVriXFEr9eD/DWHQUJr2UYqn2vPPPPPz+mMFG+Q0I1yThTZJkaPJEUDiHCoFlBG6KZz9Wybpwny0k+OSF5DnvG7VxD5Gk09O+d61INFhr1Wlsif1/3tqWMjRa/92wKgm3n17MjfrOTDPeStLMpl81PBywHOt0J8u5jb4+nOO++s8hBvpPodT3i+0JyX1uOZgXssBlf341XXnuFZnunZ8h75H4/nJ3oXSYoGDAyaQ7U/jDdJvCnEsdpleDwcjvQ5cG8l+c/RcOpeA7UxXC98qmS0UBblsPu1BsqGj/ZBateQDQdpaMw4XvIfq7JLVyPrNdvmepZXz2qtZ8dkf91119XPb2iUxVO+XiAd8kJn7d7+s5/9rPzoRz+qb8l47V+ZQubiRgg0n2u9Fmh3vjl+87XWY3VGXuRLhuqzGa3xIc4J7reNgV2j7ajutWjfsvv1r39diV+zTogvfWW+7LLLysUXX1zrlv2q66i31ueNF6I87ECZ2Lb8OPamIfnMjH0A/VNGb9eyM+l1Esogj/TN9+5id34yVyb7+LTWcSDqRx6l0a16gF7KyyAhSdGAgWHcdddd1en6+CEH7DVcpIQDY0ScmnjNIe5tvhZoPh+IOK1B+pyNxpeji5107ZPC6XHqzc8YKd12eRkveCbSgciR37nnnltlilBw/M0EJ/IY+fS/Oe8avptvvrncdtttNc129wntzjWn0xw4QWRInrxOLX9IhPx6Xms9O9aw2gBUXWhgkTx6IR2jFpGv8USUxW7jdm6nr/KooVIWjRZ9Im/x9OzllV5pDKJR0BEQyDeuRfn9ds594oRsEELHrvkvnnMR13/PlSayxp6i/uVFOpGfSDvON6ftfoRK+dSRbwYqr/oQR5COe+UhRi8cR5m9Tm1rDt+UQz6kr2zdgPzQZ+SV/tAl5FX+5FN5Qu+G01+I39LjG9S9OidLMox4EHGb02s9H9eazw8XyJeOsR/bFdxyyy2VtNrHSd2Qb7u8y5d6swkm/xb2HNeHy99Yheb06QbboE9suNm3JGYdkz554IH//ezvF2DSpDnrPhVzzjFHmX7DTeXpq39dGn9/qExZd+0yeZWVyxwvmTf3KRoH+GYPY+UMX/e615UNN9ywfoSz3R4ijIVj0dNGQF7+8pfXXYdtxOY/J82Y7EsRzj/gN4fvPEif89DIIjYchfu8wcAA9Q6d89+9nu1eH9XkbNxj923x9cB8Z8ieGPYF4jhdl3Zzus5LSzpIHIfpvLyM9OaEfOp5a1Dd72OwG2200fN2UfYshIAjt1+OT4H4qKo9O1rTVhbkkqPWMMufvY3s9muzRzIURzp+NxMl8vAseXKOA1UfdhW2U7AdhUP+ZCC+++RTWupNuck4euLO+x1yFl89a4g4ad9Bk7ZvWcljNEzKJX1peZ56sHmfHW01BEYi9JDViTCjXYylKc/kTI7y5cOia6+9dn22cnmWxhsx9nv55Zcvb3jDG+qeOK63guzojJERMrAHl0+G+FinfKpDMpN3skQuNcSeLT124ZxRBo2Daxov9USOzmmsyV/eo77do2FEWKRND/13XlxyBf+RGbKWbtSh+nC/oCElZ/mXjgZTOtL2TARUw++5Pp68wgorlCWXXLLWhfx5LvgvrjpXh9Kjd2T585//vNYVO2LXyhe6PRLkmS6rM77EPT4Ia6dx5VCnGlabn9Jb+VOfZN9OF9Sp+kIi3Kv+3Gt/KnbHN9FPaYV9Q/iKqDf/6bM46h7h9Exlk2eI8rnXcwR1CtIQTxphR5G258un4DpZguueR44+bM0f0Hm6j/iqr/CVnum+sDtpOnYfgouQkJ8QdiZtzyQX+Ygyu08a/IHfkTdlkSfnBOlEmVzzm93Gdek7L5448s+G+Qx5Vg760q7elNmmq+yeXNdcc836GaTw0YOIZ+5/oDx9yaXlmbvvKZOWXKJMWX/dMudCC1KeWp/Th4K6akaSoj7AzJAiFU3pOS3OJb70bQdsjtZ56TAC8ThvToHhc0ocAycN0vdsZIMjEBc4cj3FGO7mUDVWjFw68spQOSoGx1A5EM+RD47Bs6QrHY4IGLPGKIa0peuY0jL44YwdxpoUkaNnn3POOdURayhsPrjIIovUcpGH8nKIGk0kQNldkw+EhRPiFJUVKSJXDRmZcGzikLdycmrkKu+//OUvn2uY5ZV81BlZictJiqs+1AFCpJ6VRf7kRz3Lt3LIq4bWb+n4TyZ69+pKQ0y+SIu6aqdXAXWhjGNFiqRHNzSq5BX6Ko/uFV+65EinpKvcZCG+eqR7Ri3IjIyVlxyView0BGTtuvvcQ37SQ97lU1rygjzQPWkKdFVdkbN6REjYnvvJT125R10hXuRBFzXyMZKiUZR/cTRy5BAEVjmNVNAD5ZVPZZAX/8NW2aFr0kYW2VF8imNG8MyxJEX0jyzIWUMtTTqE6K2++uqVlJNh2Bofofz0xnPoJTug864jU2QtHc9jR36TuzpUB2QbdqX+XeMP5Fca8uOafKgbZYrzkQfn2EGkE7JWH+qCfni2b4FJ333yQWcE1+iV+qI76ibsWT7Iw/OkIx6/Ij/h55RRPKSdzimTeiFP/+VRmcI3iKe+5YGv9j/ypE7Jkf3SbzbPdhE6ddrOhpMUJSkaGDCCmRkpEp8hMhwGomFBkCg+Y0Y6OCROnSNmTIyUsXNcHB3HwoD1iFwLQ2bkHIhGQoPCGBknh8CoPYOj4RQ1IBpq/4M0cOaM0pSUtDgEDsNvDtBvjYmGkhFzohwDcsN425UZxpoUQThxThvIUh4ck6P8+bimOEYRQNnUlXtBA0F25KPBlC8khoPkoDSUnLw05EPjYadoeeQcyVE9kQc5S9/z5cMzxJNu9BA1lOQsP9KUR2XmADhwZIms5YEjlp7nLrXUUjVv7h9OxkC/PHesSJF8kY8yggaZ7ik3wkGXyVgcX90nBzJlC84pt3J4Fj3zDHpIVuqLriszW/AsDVEQLfruujSM2mhQ6L48K6M8uEea9NxzNCQCouMjquzIyJY8yQPdUw8aR3UsD2xWmTSW8kXXyFG52KVRppjC8VvdICTyqv6MrsqHevPbLu3qKmx7RhhrUkRGGu2wefXg80O+N2gXbOesnUL01FOUO8gU/fVcfkKe6Ll47MDzlInspEs+6oJPIA/yRXSDQKgrcnOv655Fz+m08vAzrsszXeUj1JNySoN8kSCdCbLnR8iYnnkmuck3XXdduogV3SBH5VUW8gjCLg/i0kfl4ic9129+h81LWxnlyzl5VzfKKw/y7tlkQY50mK4JdJY+Kr+05EWZ6Rk95kfb2bCyJimaMSnKNUUDCo6Qw2A8DInj0eAxfoZrBIShM1yGyWjF86mG9dZbr5KJcFqMGTg2jRdj5aA5FcaoUZA245QGI+PYGajGltPg2ORFMOwuDYSEc2bEHKx8cZieo8GQF8bqvOfpMbYqcKfguYjn1KlTaw+Yg77gggvqFAYnibwgcBys8nCinJS8yyvHpiEkF0RQI/zqV7+6psWxcnTKrI44a7LmrJSfbKTD4bqHM1N/Gh7pcMpkLw8MW35Cts5pxAX5U8/SJk91JS3x1DtdkJ4G1ugMhzwSIeoUyFoI4kJ/NFQaQI21sgZ5JC8NhTj0BshPvsmKLio7nVYnGij6Sy7qgxz8p0fuUz/03edzlF9jSfbk7fnkFc+jx+pEo4kUaficX2211Z4jGGQrDbrqWeuvv34NdIn8yZve0235dL/0lJ1OBBGQL3l0XroIG5JCl8jG9W7UVTPoOHtHwpHCqA96pxGny2RMnoiMOlG/9JHusx22ghSwHfVCvhpro2HqXP2TizTJSiNOb9kIIiFtaaoj+QmSIF+er+7JnszpDiJCbkZ9+SZ20EoIpKdM9EeekH6yVwY64fnSZDeIiLrmS5EaZfQcv8VXPnWqHuVB3dFF5+lD2LR7nPOfPftNl+iZcgh8spE4+SU/19xLN/jabtrwICFJ0YCCo2FEDFpgOHrEDJqBMlpGxbk6ZoCMlKMQn/NlnBw8x8AJOM+Zh/OLZzjnOgcoLY5G0Ch4LocJnA2nwUlwYhyKUQR5cl5+pOFezpETkUZMYbh/PEFeeuU77LBDHemQN86I89UAc2B6h0bNOCMOjtMmJ9CIa1TJT8MmDjlxWpy2cpE/56pRJXOESWPo2dIjB/Lg/MjZc8lY3ciPOiA/Tl7Q0IorrWgkPMc56Uhb8DsaejJ2n3PqZTzhecoqDxoceqmu5Ufe5F2IupdHZSMvjWfITKMqHWUSR8PhHoG8yZ5uGwGhc0Eq/EdK1IsGFjGVD2lIl4yBnOWV7OWHDKXtOjkLrkkzQhAeNiJv0lNO+dCA6TjIp/IC+5MmW4hnuO7Z7pWm657jf7chv8pHt5AUdUeGiIhOUPgNekuXNdx0nazYTIyOhu7xE0iD+vFfGdmJ9MiInkvLNXJxDcFCTskr5MePRIdBHSCliK868Gz59XFituVcq85H3Tofz6Rnzrmm3uhN+Dfn+ElAnpRV+q6rM2VU50b4lU1Z6bYO0rrrrlvlIo56Df0Sop4FZQt/SZf5HtflX1CmbtnwoCGlN6BgjJwM42WA4Xz1fqIhdU4PhANxjjN2HMPKjFFj435OQaOLJHAE0udg9Gg4RKTKOc+LRonhclDiQTh4+Yp7jXpwbhyo+1z3THE4Ar+B4xHGC8ou7/ImXxwxZ8gRySvnhBzq7ZIpR0imGkANtrgaCb1WcicbctZoKDsnKB1OlMN0jzQ4OHGbZSCu3+rBf5AP8mhXz3q5iGc0OJ4rj+oDxOE4XfcfwXKPfI2njEFeOHkNBMeuJ29q0pocOqhMGrZoUKN8ZBq6RI7K4lh5yM6x+9yjcVI29amxaZarewVyVOdkhBSRCUhLuupTXpAmjbk05Il+mC6VX2lraD1P+oK03S99eRff/UZmjX4YTZCmetdo0iH2pL7kx72C6/LCNt1HNp7XLSgLeRiZQzTJ1uiQvKsDZWcf7Ebdshd1QcfdF9NjQSzISXnJh09QProorhDX3MPXhA6LixSB55FVkAlx2C5i5hlsxHX64z5ki88LnZeeAO4N2wp9ievqwXU6otyeRZc8i70hvDpGyu6ca+zc6Jc8OJamstN5descO5UvRE9Zo37lz7PohPr3TPkhF//lhd4qlzTG24YHDUmKBhAMhaHprZnDN73D8Rq54IQ586233rr2PMThKDgtjkkjbz5bPA5aj4dzQJaQmHAKoKExPWHNCiPWuBvdkT5ywHgZOIPlsDRSGkBDwH7HsxAFjtN9nIc4nAZHwYlokOQtHNZ4IJywHq0GT0PE+XDqGj7ykl/OSp7Jiczdozwg78rpOlLJWSNJHBfHSUbuJ1uyCifMWbpHmTk+jlNa5O7YNc/y23+9VLI0amVKQV41TmS61VZbVWfM2XqGdMg3HLgGw3m6Id/KPd5QDoTbVCX50it6qRG17ktPHWl805veVOOF/tEpuiGedTBGLZSNHmqUone+ySab1HJqLMiUDNyrDk19aTDJQ30afTIaR2bS8Dx2IK603BujFmQrjtEiuqnDYDpY3bpPUJfRKEpDPtiDxk29x6iUkYxtt922bLbZZlVX5I8skA55kTejkOrM8zSY3Wr8lDX0kuyNotJ/ZAVpidFj9sJnqEt6pZyukYH8q0dlJSP1pi6lwZ/QX/UpXXLzGykI4kX+MYIjL+qE3pCbOuID2Z60g9ioV/klf+ty5FWexIv/8uA3uwrCIp/+q0PpS1M9SIefZLd8qfvZIkLHxvnVsNfwYdKKNPx37HnK4T87NLoLyuEeoCdh42RHL8LP0l/PdV+3bHiQkAut+wBGHEa70JojYjSuMTqGxvAYpv8aZo0lB8uYBGlq6KOxZNx6ORyI5zBOxs2woydsDp0RupdxOq/HyFhd50TE57w4F06KY9NgOBeOi7NyvwbFfw2I+6QbeeaANHDOczTtwCGO5UJrDQ45SovM5DUaJo0V2eqhIoXKbJGpcsXUh/Jx6AggZ+yYTMiGHMg3HKPzyih98ZTZMzh99UFGjt3nmnvIh1yjvtRPyA44Uw28Rp8c1TNZSN+9yh1O3zn1LEhnJPJJLhq5sVpoDWRPvu7XOJAXfUIqmsmO/PntmjIICIPykadrZOpYGoIyS9N18qVH4imzeM6JRw7k6hnSJx/5Vofuj7y5V5CuIF0hRgfonbyKL21xog7jnDju8dywQfcrj/jOR3nEdU5eyc95+fNbmiPVVYD+IhJjtdBafPVOhuREN8WVFhkph/yRZ/gN59UVu0MINf7KyUaVx3lpiBf2wCfQAXUSxEWZyUPe1Y94QWbEI1/+jezE9Ux2JG3HYW/qyPPlXTp+yysbJvNIU/mcI2flpQ/qIPTF8z0r8iiNsCdpyrNzZOI+dqk+xI206b4Qttysg/LAz+q4yKtr0jLt5rpnKVfcJ3heO71A1nKh9YwXWs/hU/nP/n4BpkyZXOYacsKThhJ48pTTyrRvHlmm33Z7meeA/cvce+xW5lx4oSRF4wBvEh1yyCG1d6Px/cQnPlEdlwayHTREGi69J6DwDJjjcY0RCX4jEwzcNQQgpnrEZ6iOGWQQLUbIqI899tj6BoXerQaP8bomLcpmKBdBCIP3LIbKAEGankchXXev8hg58UyG7ThIieviDdcISO/II48s3/jGN2oPEOE58MADq2NFFjzHqNURRxxRTj755Oqc/ud//qfmX57bkSKy0UjIk2P3kAvZOS8db+dtscUWZfvtt6+Nm3IqexAp+Q65y2PINs5F2hEXjDaJx3FLx7M8Wz71QEOuIE3ngGzITXpk6Dnukx914p6oX/UgPvnKRzzf/5EcpHQ0rOSs/PKy2267lfe973218ZG2EZAvf/nL5YQTTqhE/q1vfWv52Mc+Vhs45W4HeRaUV/Ac+ZOeIE/OaYz9dxzX4h5pu0ccabnm2LXmc+K5P87FfX5H+gHxIs/xHHHpZmt88aTvvHgQeYi8CyBd5113LX7HM1wPRH6br0Wem+MNB3rs7bavf/3r9W0s9vCRj3yk7LHHHrVRl6YNQD/zmc/UkY93vvOdtT4RSM9ohfj0Tt2HL/HbOfoTeuqY3/A858Sj2xb/e2EBsXnzm99cSYX72QK4B+hj2CY9FSK98E/k2WwD4iIXrklTfHbkWL6lIT6Zkze4xk7CFt0vXfcHqQlb9Vt8x0J0UsCxe8B98i4d58N3yF/4RmmJQ8bs0nl1FTKXNls65ZRTKpG0thGBcx/ZRD6bfe1INoz4HnTQQXXvNTJ873vfW/bee+8q/3b1PAh4+voby7SDDi1PXXV1mTJ1ozLPhw8ok1dcgWFW2T0xpB/Tpz9/ZG0wJTHBwVj0QPSaBL0OPWjEJXqd4ui5iseQGBoHqTcjjkaTcfnvmOHo+UiDc9MAemNHQ+cZeniuMWQOwPOc8wyGL22kwbW4Hr3h6N0wVM8TN5yeeO7zzPE0XE5FfuRfPgX5VJZwpo5NzURvS0Plv3KLr5dKztIhG/Ijb2UL+UfaEVcgb8fKTy6eo87CsZKPOhPEjXomS2mSlzQ1Bu6XludKw3/3k6f0nJMv9wznTMcDnqt+6Y98kIP/jp13ndzlWd6br8U9QRTIW7w4dt090nReOs3xHMfznZNWhLguuBZyE7c5P0LkJ+IKkXbEjTpuLp/zrWVxLoJ7W69Fut2AZ9O90EPlDF1kr/LY7DfonGP5d69jHSmjHfTO/a7TcyFsgv665r7wXZGe55EDOcoHHRbYHp2m9/ISdkRWYZ/SCVsUxGfX8iKwMc+Tl8h35C+eK2+e5dmeJYTdSZsd0onwfeEb5SHSllboqLjiSTPyJQ3BCKTF4nwuX+6aPLpXXsTpBRseFCQpGkCEE2Y0EcKxxn9xhjsWwrCa04rzDA8RMDqi58IxuR73QHParc8R/I68tZ6P57Qejzean9+cT1Bmw8/bbLNNnfoIZyS0xm9OR4jz7dKO+4Xm4+Z7mkPcHyHubb6n+Th+R9pxLuImOouQe7+jVW9ajwXHoZNxTmNuStfoqg5VjJTE/c1B/EC79OJ8672RhzjfLp0ZxY/frddajyN+8zl5bHdfoN251jTjOgJlvZkZAsSnmWi33ud/nE/MOpIUJWYaDFAPLNYScAITCRwPEqTHqeemx0cmiURieITd8B3sxmiL0ZNEe4S8jAwZgTIa1UykEp1BSjgxS0CEWnstEwnKzKEL6agSidEh7WbmkPIaf8xQyjkYl0gkZhcWtsZC4QzjG8heSCQsJE80oY04Zvj22dzPMtR8+6x7iLfPbHdvL5d/+7d/q29uTLRpq5HgrZLvfOc75aijjqpvn9nvZaS3z5z7j//4j7rXjHUNidGBHL0i7E2/0047rb41M9LbZ/aW8dr1LrvsUl91nqgji92EN7Bsn+CberatsB5uuLfP2Mjuu+9e30yyeD9HJwYHNsxUx9oT/m+iv33GLp709tkz+Up+3yFIke+O2aPCojtvKeQ6lv+DxtkmlT4i6hXYGZEi8REiC8W9wZEN9ehAjjbYs6eNjS05U43ocKTIppHejuF4kU9yTlmPL5Ae2zrYq8gr8dYBfvSjH21Liuxhw2bshebtrayrwYEOio/TejWfLe67775JipIU9SeQooMPPrju5kp5vR6qoU/8HzTW9h8RjKAhjiORIg7CAmmvwqbjnznE3jDIp7eJWkmRXYztYxT7q4DzOerQPcT0pf9e3f7gBz9Ydt1110qK1GeQIiNKbCJe+U4MDpAA5NieRha577fffkmKkhT1J2wQeNhhh9XdmGOTsm6BU6VMjCicZq+RCiTI5o2mCGwdEKTIDtSmfU499dQ6gpHrLGYfiKWpsX322aduTYD8cLwXXHBBHbWziajGONE70Knabrvt6miQ30jRD3/4w3L44YeXG2+8MetrAgApQoje9a531TfbkhT9H5IU9QHsZK0h910rO552E9buGGLnTL2S7pXRXoM3Nay5etvb3la3DUDekCIjGBprUz+mEdL5zz68JmwTT9/SiyldzoasydjvRG+BPRghMo3GVpAin2WxRsyO1mkXgw8jgZYP2C/KyOGgjpYnKRpQaFxM/cTnGroFxOL6668vP/jBD+onABiUPUf0MnrJqORFT8heKMhb5M06ItM5Pj3R7RG3QQESRAdsLGcBb8iantKXRG9CPcXogLpCYhEinZ7E4AMxjt2zY+PZQUSSogGFnpveXLeneyiRdSLf+ta36tbz5qR9IFFvs9fA4bfu7aGRJkfyzAZ77MDB5pqh/kav+JjE+AAJYrNsd1AJESQpSnQMSISvLH/+858vJ554Yn0L7lOf+lT9hpGFmYlEIpFI9BJmhRRl1y4xKuhBWqhsXZOFtL6Ubrjdmww56pJIJBKJQUCSosSoYIG3zb8QI2tzvFXkTRV71uTCzEQikUgMApIUJUYFi7xvvvnmuiDT2gMLla+77ro6WuR3jhYlEolEot+RpCgxQyA8Nju87bbbKjlybHTI5x6cs4lfkqJEIpFI9DuSFCVmCCNDtgTwmYAYFbLGyNQZUpQb9CUSiURiEJCkKDFDGAmysNp+SchQvM5p9b7zvnXld44WJRKJRKKfkaQoMUMYEfJZjPnnn79uimhvCx8U9BXtxx9/PDdDTCQSicRAIElRYkQY/TESZNfTddddt34nBynyeYepU6fW710ZScpX8xOJRCLR70hSlBgRpsW8gr/SSitVUvTKV76yTp3ZLdq5TTbZpH5Hx0hRritKJBKJRD8jSVFiRCA6Phi42mqr1e9bzT333HVNkeAL6auuumr9DprzOVKUSCQSiX5GkqLEiDAiZMqs9YOfYMTIl7atLfLhVceJRCKRSPQrkhQlRgSiY1G1NUWtH/xEkGLRte+f5QdBE4lEItHPyFYsMSLi9fuRCI9rQvMoUiKRSCQS/YYkRYlEIpFIJBJDSFKUSCQSiUQiMYQkRYmZgjfMhJwqSyQSicSgYcKQomjMM8x68Hq+z3z43brGqDVuht4Ns4t2aQqJwUW7+o6QSAwS5nj40ceG1eopUyaXuaZMKZOGGsAnTzmtTPvmkWX6bbeXeQ7Yv8y9x25lzoUXshL32di9C4bro6Y2IfQ/DXnWcMMNN5RPf/rT5ZJLLikLL7xw+a//+q/yxje+sb6qn+gPGOGb3VE+9mNTz9is0xuIM1qMn+hvBAGKeqdDWe+Dj6hn+9Cp636bIXj6+hvLtIMOLU9ddXWZMnWjMs+HDyiTV1zBa9VVl5+kz888nw+MTIqGhDHXXP1PihixT1XceOON9TtdTz755LNXEjODO++8s5x++unlpptuqt9B23nnncvKK688pCNzPRsj0asIZ+b/7Do2o4U6GGFHHKaQjeNggx+NelfXtulg+/3WUCZGD/W72GKL1c85+ZoBgtRPGJEUPf30kC4jRc88G/ufmDEpMlI0qb9JESO+9tpry8knn1x++9vf1o+Y5mjRzIPcEKOHH364GssSSyxRyVE2hr2PZlI0u4gRA6OuYINPzjIbx8GGeudL1Tubj3pPDC7MAmywwQZlxx13LMsvv3wlwv2EkUgRPX6ijnzOJCmae64p1QD6mRTp3Vx++eXla1/7WvnFL35RG3fGLGSDPnroKfr4K8eoAfRRWOQoZTjYaO1AGClCigTXNI4TXQ9CJhwt2xg0oqielbGZFKnziTh9RhYCOajzqO9BkUXUtbIZAd50003L3nvvXdZff/36nct+0umxJ0VThkjRUGWr6H4fKbriiivKV77ylXLRRRfVSvW9Lp+vsBPzoDiuTuPRRx8tv/vd78rdd99ddWKttdZ67qv5icFENACcZECn4vbbby9/+tOfKlE2Yvi6172u7mw+UW3J6Klp5fvuu6/6lKWXXrpOO/Rbz3o40IG///3v5bbbbiv33HPPc2VcZJFFahknUr2TBV9IFnfddVclQz51tPjii9eOYr/Lgq3/7W9/K7feemt58MEHy9prr1323Xffstlmm9XPOvUT8esIKRqEhdYYr2kzI0UXXHBB/U7XdtttVzbeeOOywAILTLiezqyCAzjqqKPKZZddVnuJH/jAB8qGG26YC60HGEGKhDh+4IEHqh0JOhxbbLFFedOb3lQWXXTR2kBMNCCGd9xxRznppJPKlVdeWT+gvMMOO5SNNtqoTi8PAmFQRo3k2WefXUfdrS9RRlMrL3/5yyeUDyWLP//5z+Wcc86pL50YTdlqq63qiMqrXvWqvrcBZOH3v/99OfPMM8s111xTlltuufLe9763bLnlllW3kxQNAClS+Ouuu658/etfL+edd14lQnvuuWclRno6E9GRzwr0jA4++OBy/vnn197hZz7zmSpDIwSJiQGkyEjhCSecUE488cQ6arTrrruWd77zneW1r33thBw15F9uvvnm8uUvf7n8+Mc/riNEphu23XbbvmtEhoOOJR+qU6SMGv+99tqrbLPNNrWME8mHqu9bbrmlHHvssZUkGjXbbbfdyk477fTcyHk/E2F1/etf/7p8+9vfrjMrZlWQoq233npCkKKCFA0XHv/HPxpPT58+5AcbjSdOPrXx0KZbNR5cfJnG45/7YmP6vfc1Gs88U6/1OoYqufGb3/ymMeSoGkMkqLHqqqs2vvrVrzbuvPPOxpBgno2VmBH+8Ic/NIaMv/Gyl72ssfDCCzeOP/74xiOPPDKkBv2hB4nZh7pmN0PkuLHMMss0Xv3qVzc+/vGPN4Z6ltXOJiKU+9prr20MEcPGQgst1FhjjTUa3/rWtxr33XdfY/qz/rPf8eSTTzZ+9atfVR86RPoaa621VmOo0Wzcc889E86Hqu8bbrih8W//9m+NJZdcsrH88ss3Pv3pTzduvfXWKqd+94dPPPFE47LLLmu84x3vaAyR38YGG2zQGCKAfanPT113Q+ORnfdoPLjkco1H3r1P46nfXdsYUth/Xhuqx8cef/wFvCfnjRKzhYm6hmQio7XOHaceDD7a1Xvi+RgEW5jo9ZqkKJFIJBKJRGIISYoSiUQikZgJNBr/90ZmjA5N9BGWQUGSokQikUgkZgJBivxHhvIN5sFB1mQikUiMEXK0YOIAIYJBHCVStigfTCS9TlKUSCRmCq0OM/FPmdi/xn+jBsIgNpaJwQcdjlEwmGh6nKQokUjMNDhMIRv9fyLkAUmGEoOAVn2eKDqdpCiRSMwUOMvm9RQ27ptITnM4RCMCE10WicFA2PVE0ucJQ4o4rGanlUgkZh1hT9n4JxKJQcKEIEWct55t69sC6dBnDym/RGLiIIhwMxlOH5AYNEyo6TPGDEmIZh/klzJMJCYOomMJfGh+MzIxiJiwa4qyUZ95tDrFlF8iMbEQHUsIH5p+IDFIyIXWiVEjhs4BKUokEhMPzcQokRg0ZMuWmGVkDzGRSCQSg4QkRYlEIpFIJBJDSFKUSCQSiUQiMYQkRYlEYqZgPdmLX/ziMv/889fgd76JNPiYPHlymXfeecvLX/7yMt9885W555471xYmBg5zPPzoY8OumpsyZXKZa8qUMmlI8Z885bQy7ZtHlum33V7mOWD/Mvceu5U5F17IwpJnY//z7aQHH3yw/PnPfy7/+7//+7yFud2EbxLddttt5YwzzihXXXVVeeUrX1m22267ssEGG5RXvOIV42rYnqUhWXzxxctLX/rS555NTmR31113lccee6zKstcWNN55553lmGOOqTLkHPfff/8qwxe96EXPxug9TBnS34UWWqgsssgiZZ555ilPP/10ufvuu8tf/vKX8uSTT/b9olENVZQPOQl9euKJJ8qf/vSn8te//vW5b3KNFf72t7+VK6+8svzqV7+qerr22muXddddd9xtyZo2uveqV72qLLzwwmWuueYqjz/+eLn33nvLAw88UJ566qlxqV/yJesTTzyxXHPNNTU/O+ywQ7UN5GE8196FPiy66KJVH5T/73//e9X5Rx55ZJb9ivv49V/84hfl5ptvrnX9hje8oaywwgrlJS95ybiWkU0vuOCCVc78ULPOqQt+VHn5UWUdax3wDL7whz/8YfnlL39Z5bzllluWqVOnVtmPdQeBbJVzySWXrIS01caUj73fd9995f7776+/Z6fc7Oamm24qZ511VvnNb35TFltssarP7PxlL3vZuNp4O9DxBRZYoPo8ujdSfp6+/sYy7aBDy1NXXV2mTN2ozPPhA8rkFVcoQ5VU24Inhso6ffo/36gOjCkpIszLL7+8nH766ZWEOO4FUI5HH320KjJnqYfzmte8piowRzreBr3qqquW3XbbrSyzzDL1GOSRgSFut956a0822BqcP/zhD7Whle9ll122OqdeHSVQrxolzmrrrbeuxq0Mp556avnZz35WG3fOvl+hfBzypptuWrbZZptKtEOf1NGxxx5b7VGZx1KX2LWG9uGHH67pxogRWxpPcIZsWN2+8Y1vrA3GPffcU84999zaeMvjeNiQZ2iA//jHP1adQr75F7YxnjKJxpO+b7/99uXVr351bcA1bPwKMhMN5qxg2rRptXzKqlzkrVHSSI0XwqYRTjqPKITOwz/+8Y9K2JW3U21Q1LcOLBLC//EtSBqSPtbtCT1fYoklyrvf/e6y2mqr1farGfIjHz/60Y+qX/Nbvc8q+ES2jQQjmHwM34KINMu6W6Dj66+/ftl2223L6173uhfIoxldJ0Uacuz5K1/5Srn22mvrca9ARRMCZaG0DJkyj7UCzwicyUYbbVQ+8YlPlLXWWus5p0mxMfOvfe1r1Ykx7l4DGXIy/pMbA2Gw4y3DmQFD3nnnncu73vWu8vrXv76S4y9+8Yvl5JNPrqNF/UyKwGjjLrvsUt7znveU5ZZb7jkHgRz813/9VznnnHPqCMFYgq4KIbvQgfHWA89DPvbcc8/aydAo6VAcddRR5cwzz6z1K5+dRsijF/wLwkDf99tvv7L00kvXPGkov/rVr9YRXsRmVhF17n/Ud4TxgmcZpdpxxx1rva+44orPaxTNUJx33nnVj3aqDWqu77ABda3OOyELaS6//PLlf/7nf2oHCOluhjwgMMcdd1w56aSTKlmbHVLUXL5u63M7IOJGrvbZZ5+y8sorv0AezegJUsQZff7zn68KiWFy1Ia2e4FhdhN6aMiOHvyGG25YPvWpT9Uph2ZSZITtS1/6Uh2CZ+hkx9GPZ29zEMCQNYh6xgwZadhrr73qyBaC8LnPfa5OdRhBMVpnGLZfZExPELvbb7+9OkLO6l/+5V+qgzCVEQ2E6YMDDzywEm0EW09PIzneUx2dAGKO9N1yyy2VBKjbd7zjHc+RoiOOOKKOFJDVUkstVUdsyGlQYdTi97//fW0MNRAI4vvf//6q2xz/T3/609oRMIJCz8nE9Bpd6RddYNNG+dm0PCNFdH6llVZ63vQ9UqRjrry/+93vahlXWWWV2gbxBf0C9caGjT4+9NBD1Xd9+tOfLptvvnlbUnTHHXfUpQ38Gh/32te+9rk6HgSo1/B5OmHq3/INsy59Q4quu+666oT33nvvOtRlyKvfnfHswFA+pb700ksrGRqOFDHmX//617UHTHZGlczjTmTZzSwQ0Msuu6x8+9vfro70bW97W1tShLST8SabbFJHXPpBxvTE+hVTgIbLOYvdd999RFIEelYaS+SIU+lXKL8yG/0wPcjnGDFoJUXKbcphjz32KGuuuWat60G1IQ3F0UcfXckP+ey6665tSZE1YPyK66bYxnsN2OxAPcs/m6bb1oSOhhQhBh/5yEdqG9RPJBDR/fnPf15Hfm688cZKZA855JCyxRZbjEiKvv/979frOoJRx4Og9wi/js75559fp/ZMDxsNNZ041qSoIEXDhcf/8Y/G09OnD9lZo/HEyac2Htp0q8aDiy/TePxzX2xMv/e+RuOZZ+q1wFBj1Dj55JMb66yzTmMoo4211167MdTQN4YKMRT1+XEnGoYa58ZQo9R4+ctf3thyyy0bl1xySZVXgHyGGrrGG97whiq7lVdeuXHCCSc0/va3v0142c0spk2b1jj77LMb6623XmOxxRZrfOADH2gMOcjGP4b0+f7772989KMfreeHHGrj+OOPbwwR1r6RsXwO9ZYbQ46+MdToN+aff/7GUI+pMUSka/kCQ06k8c53vrNeH3KMjQ9+8IONP/zhD40hR/BsjP6E8vMn3/ve9xqrr756Y6ixaBx88MGNoUah2tMNN9zQGCIEjSHy19hqq60a5557bmOICA+0Dd12222Nfffdt7HgggtW/0IfyOGpp56qtjBEEhqbbbZZY6hz1VhjjTUaRx55ZOO+++5rTH/Wt/cD1O1QJ6Ax1IGptvve9763MUSSavmaMUQmGkPEoLZBQ2SpMdQRquVvjdfroONDHbfGUKe4Me+881ZfNUT0G48//vizMf4P6vGPf/xjY6ijXe1hrbXWahx11FGNv/zlLwOj98r3//7f/2sMEf3qz/i2oY5vW3k046nrbmg8svMejQeXXK7xyLv3aTz1u2sbQ07wn9eG7OOxoftbec8Muwk5PpFIJBKJRGIioH/H0ROJRCKRSCRmAXXdUOOFq4dmSIo6/+5GIpFIJBKJxDiiDSGCHClKJBKJRCKRGELPkKLGEGuLMLuQhjeQvHLt9V3B/hzeYHjm2X0lBgnNshtJfq6RAVmQSXNcv7326vVtwe+R0horeIa6kifP7DXI33AhMNrzzaEX0S5/7c4NEsayfNIYJF/TLJsIzRjpWr+gtQytYVDRroztzrWCTmsf6Li3t0aK26/oCVJEsF5Z96qx/UdiB14hGmoNp98qhcNxbrhKEcfOy/b78bqqYN8k+xyozNFWZChAkIRehDzat8Yri2TnVU5yaQdxycAr/7aEJ1NlCwfuVccbbrihvgKqPsa6zOQub82Nht/qyuuzvbbDtPzKp9f66aY9QwR7IMk3+fhv7ymvxJKtOvDav8Yx6ob+2V3XvX6T83B11A1EvZC//NkRl17IP32iK8rRqzYwq1BuNqB+BWUerW9oBzL0iRHbkdCXmfE1vQR5pr/0VHmUhV7Y3Tj0XllDN3wpwH/H/aQjysm+lYv9slFbOvivzOzB9X6sw5Gg7uJTKHyVY2VkC87zZ8PprraZv77++utr3EHzCdATpIgzsrGYXYbtL6JxCWWMhlpFqEAVR4Gd0zgx3lZw5jZ2s1kismBjswsvvLASI2mMtuG154XNwoSZuW+8QD7yqFz2cDj77LNrXiluu7w6R3a//e1vqxNDfMiRI+DQNAz2URI4Q8Yy1uBo1ItnMjx1r640JL1Iihi+PY/sffLjH/+47h0ir2RnUzWyt1/QT37yk6pjPjEhjoaCTBGhCy64oO4s7bq9VugkPW7ndLoFeZU3+x/Jr/zLo3pSNjY0u6Sh10DX6Lz69TkUZHBWdZ5cyIsu20OJXiCSveYzZoQoB1LgUyn2hVH/dMJ//oLuk5VOpz2QhEsuuaSSieF8T69Cfum4TyzZY8++QGxd2dludNAHCexYJ5Sv0hbQU+2oNoEd2Pl8OFvQDvIT6lsHsBNtRLfRdVJE4ZAbQmZcjDAcikaToTnnGuVVESrOVu5GPDg1xEkDpcL8V+k2a7Pbrc0RXY9euvgaX8qO5YrrvugBOS8Nx5i0hpBDQMpCedwjjeZ0ugGy02gjlByWQNmVN8rmt3xzZI5tdBWbQXJ85HjxxRfX33oICKnAKJTPvRRfeuQkaEA9128O1LH0/RdXvsRH2MQjTyTX88kRgdNwaHjJ08aeUVfhlN3TC/KVDzLVMyILO7PLp3IiCnRT46CsQM+QU041etmcjP/K4d5OfQ5gdiD/HCRHaRNRZVZe5YkGIkisumZH6l/9CepeCF3zP3RDPUpf+dvphnjdaEg9U96uvvrqWof03zl5FOis/DWXNa77HdfYWMhBmcgqRgwjKK94/osXciQf5Y94jp33WzzPGk94HjnoGCHxYaPKhTxedNFFtePFHvz2X57pRjdtdVbBDtmjMvoIqrZFp0U9K0vUnd/i0Gvn4r+yq1e6EG1I6IfzZNmtuhwOUcc6b1dccUWtW3nn9/mqILfO0UVxlVcZ6C35iKt8yq/szvOJ7nPeMVmEL/cMcXtJDsOh66SIkPSujGBorCmg3ogGhcPhnLF4FchQVSLjRKKcQ6CQI6RJb1xwv4pQCRybZ1BMDTICII40PcOzpauBU5kMg7EjYNIWzz0aBvdTBoajMdSjkA+OgxKMd2UrFwXV4NrCnhJzyAiNcvvNsSnvaaedVqfFwsjJ1oiNsisvuSKNlB8ZZBwaSKRQOgxDuYN8afj1rJAb9ztWB/JCjuTnmmeTk4aHjKXrma5JT14ZkqA8jEdcRFRQt57djR5JODcyYeA+FeD7aXYFdo1u0gk7Kdud3FfDV1999ed6XOqGvJXNxzPtvivEp1t6iRiRr3oT6LN6ioY9SIG6oTPqX736r4HUqSELdUoH1Lfr7JNuGP01mkY3yJI+hW4g5XqentGNOg7iw/n7HY0hnaN79J8d0EX+IBw8+fAByuAauZAdfdEQsDE2QAbIJj9DJ8jJ/WRBNq6xNx0bsgvZei7Z8mHyNF5QB3yxsvNp9JVe+0K6zgsfItB7Qf7YhW9z2T2aXvcL2J/Os4/K+qSST+Cwa5/9UW47YCPLgjrjq/hJ9Ug+2gX1pf7piDrUptAdo8nhe+k+mY13XQ4HHTsfUqbnCBB/FXavk6DjTIfpe7Sr/tNhZXCNrfhPx2OUkA0pp/Y5OgbsImyIzQfh6mVi1FVSRDCcDBLj9zrrrFMbHIJjmITHMDkYwW9B4+84rjNOjtfQvwZX5SI3MU3EUbmH83aNE1bJ4lBeleU3xdDzoejIDwWIZ3sWhaH4lIRTZCDh1BkNJRsvkJd8ySfl9IkHslNe5EbeyVFeyYUDdt45jpnxuj/KSD7yzylSbo6a/DRwQZjIFrlSXsqPFDnmNBCZGDXhzBkCGTMs8mUUZKy+Q6ZRlwyI3OWJLpA/Y0IqlEcex1O2zSBnMpFvspbXaET9dt3nQ3xSwRebfYvHJ0OUhb7QPUEZ3Oe/Y/f1Il75ylfWRo5NqRNkiOwF9qExJwfX1DGdoFN0QuPgv7pjj0YE6RCdoCdshmOlFxoK8XQ22BB9ohPdaDQ8U31EnbB1fkE+/eeLIp90W4NIn+k2u9BxcqxsdFr9qn+NJ3n4TZfFIwsEkAylLy22Ro46FuJ7JtmyG9fGkyxG3hEADSe/oiOA9PjqPnul1xpWjSf7lF9y4Ieg10ZBR4JyGKX2fTykCBFyrOzKoX6QG3rPJhAA/lPd02F1xBa0C+qMTruHLahvsuHPXKMD3SD+rVBmbYXP4PBj8qVtRGKMmum0sXe6R0+jrHRT3Ye9KAuZkIEOr7T4b7rsP1mQHdnQe3LQlnSrAzRadJ0UMSoC9Y0W7BxrJzQMlPD1PlzzX+MTPRJK7NtqvuUkHUZptIQRO8d4GTZHq4IpQvQA3O8aRecAVL4KjV6jc+6P51ASz+YEGABHT4kQIUohuG88G26yoaActrJplMlOOcjOfwEJZNwa63Bqyu6bR459Rd5/5VNWPb3555+/pkeOej2cvToJwkUerscogmNpyI+45KMR0YA4R1YIkbrgbIwISltd+h3piCseIyV736ySL06q2x9zVLdBcBi0BkB5OBEkyPeXyE556Ik4MfJA5uqJk6A/ytqrxMiIlu8J0Sn1qC4ir8qi0Tfao67omfqiF3SKvoU+IVCOOV/HbArx4Sz1JJt1w2+22As9SM+nj+pJ2fkMo39GSchDeXUA5JcOr7XWWrXOww/QCSHKGo0Me2NLAhkix2TCh/hNDmFLbIvukIuGiq6Nl1w8Rz2ocyRBoNt0Or4fJ/gWl28Galg1nEihxlD56Em/QFnUTYQ4Vm/q1X/tE30Q1Ac7Z9/qznWkUWeCvohDPxAINq9d4DORI3bivm7ruPKxU75VeXVq+G3509by0coVeqpO2bo4ze2ccvAF7mMz9NR1x9pU+o9AkgtZkYc02P14tpUzi66SIoavt83BcKAEpgI4BwIlaA0Ow9RQcxgaS7+d16NVuRw4UE5DvQwW42ecKk7FM2z3GiZlyM6pcBVPUcUV/BZcpyAMQ6McX1KXT5UvT9JBsjh+TsM94wVOi4FySBwqGVJG5zhkSqlslM8IBgfmvzIoJ/kwZHL0X/n8JkvlJkMkyzEnr8zkgpwoN0KqoXCPLzKLK211Jg/yRPbqisxXXHHFeh+D41yD6PotnnzSB/J1rCFFcOWZ/Blyt6DM8o1YagSVQ/0rrzyTTehaNIruIWP5Fo+euk+5yMz18dSX0YKd0GnEiDPTIMToFp2iW9EYKLP61ojSDXWJKCin3wgWPRLIwX2IAPsO+6JHnseW6Vq3ZaIO1Wc07mw7OgwaAOeVwTV67xrbIR8NAn0gC6RQUCb1HfKKQN/F89sz/edDpEkm7qFHZC/eeIH86av64j+US96UC7mXV3VLj31w1MeW11tvvVq3RgPIxj2DgNBfcohRPvVIv9UPOWmTtDt8GTmRAz+s7tk/veHHEF1tCbl2W8c9n++Wb74V4TG6Jc/s0DX1iOQjMHyVeqeL4esCftNP+ixO6DVdcS/fQK/ZSLS99Keb/nxG6GrOGD1SRIiULSpAg4Ndc8quqUSKScCELq4KcCwNcdyngjXwrUIXN5wWhdWrdY8GQFzpu4ZgaNBVKHiOwCFwiP47VsmMYJVVVqmNJMOJhm48oDwx+oBEeG7kmSFqvJAksgHyZJyUPeQSzs+9FD0IorQ5cmUkH9edi+C4+ZrnkaFz0hSHjJxHiDh5MlpjjTWqzKKBkF8NKpm6B+TNs9VVjCJohNRzxOkGlEu+lFm5lJuD02DKv9EDvS36Y3iYLiEHiBQZkw3SaMQBAVAX0utFqAMETudCGdlh1FPolTJxnsqlXtgkqFcyEpSvWTeky4GK4346STeQL4Es3UfW4w1loPsaNIQtSG2zHmowlEW+5ZPNiBsjZKETyiae+teo8jf8GPkBWTo2gsunRAPjPxvUGLnH79A5aY8X1E+M5son3dZoGunwX9n4WOUhMz4XQZJP8gpdGATQW8SBPZhCMnLnNz+mnpU/SDLdoUd8bOi8uMgQ/6dD5Xg863IkqGc6qu7ootEt+Vc2ehd6yIblW3noaGv9ius+5ZeO+8glfDlZ8BVmBfg/xIhd9Ioc2qGrpCh6U3pbW2yxRdl8883LDjvsUH8zSs6G8mHjHBUD5YgIVWVhsnqyKkF8CqmyVYjfzjFWFSq419C9dDTYWGv09FSoa5TcvdLnACkNB2AYUGPHSORHPE6C4iBYnjmeDl2ZyUdeNttss7LllltW2b3xjW+s5ZZXCuy3clBQ+SMHjoxcEBRGIB3l4/yVO3pBfsf98TtkL8SInbTFd905MmUAnsGxIgyeARxuTJHqeTEmeXKvfHEi/nNC1nCYjxaXjLsB+qSsGsdYQyZPGkVET1npoTU0P/jBD+o6Ej199aChJzsyMyoikJf06EsvgZOSV7Kn/+rB4nEELnRAOfzWmKs3snFe/fmvbOpckE7oRuiK+xEhnQlx2BzdkBaH2w2ZNNcv+7f2A/Fj96GHziE/8o3UmtbVUMQLAcgieXH8CAOZrbzyylU/NBg6fsqnceDvrK3yDM8la7IXj43QLaMS9F0Dsthii1XbGi/for6MzlpY7ZkWE1uTaD0IP6jsrpOHReTKTw7KESN+ZNpPUE55pq/qnD7TRefogZEeZVeH2gx2rM74YLZPRtoCvi30Qzvhuo6Sutax85zxqscZQT7oKv/FdhFauoYohS8mB+ScziqvOma3YeuO+Th1rvzRfrovCKG2lb8gB21BEKZekUM7TPrkgQf+97O/X4BJk+aswphzqADTb7ipPH31r0vj7w+VKeuuXSavsnKZ4yXzku6zsf+57gKb1jAwGkqy0UYbVSPiAFoFQVEoGmcSIy4aaZUVowwaUMcqifApafRkxCF0zpYjMkXjumep5GCoKogiq3BpIRLRa/e8cODSlQeVyamJRwEE98mPskjX8wWKFHkM4tEOymohMuVxz8Ybb1zzSr4BZE3Di23L74YbbliNiyK2pstIBc/mwCi39NwXspN/ZYqpK8rK2corh+u6cgtk5Nj97iUH5cb0NfLOMQIyJBsy4zTIQx7FdV1cMo+esvP+ez4D8ux4przJs2eoR86HbOTfOfJVP4K0m2U1EpRRQ2Rdk565dDVQyojMMF49X/IgY/XdTsZAP0E55FkDpTyRL2VwzXnpKac0jX4oBwfgPvJUNs+Z3cYfiTDcbSpLedQHR8wGokHiiCxy1GlQLj1VLzLIe7vna5TFUybykJb8q2fH0qcD6s958WLqy/+QiXL6TRZ+h+07Vg90kR7QM3IJu3ROfY+mQaX3GiN+RvnZsvKpB+RGI63cyoDYqZPhiEXUr3IqFz1jB/KubuXbOTpumigcfZTRM8WNa/RWWuyLTZIXvZMH9ymjc2Fj5CcN5MvoKdsR13l5Z9+e0y7vAWQKkeI/lMe96tpzHLMFfsUoOHmHv1Cu1nQd01H3iuvZjsmCTruXzdIh9RAdL4RRfsP/jpTfWYHnIBdsWh2HTspXs87w+3RDeXXy1KkOIz2ckW7JM99ONupKOfgc9qZ+XNPZUcYg9M11qQ0jB/pM98iFjNW/57OPGdVlgF5bTkKXtQf0zbM9RzvTDLaLuMSaRc+Ql+HqOKBs7CJ0WP3R88g3+6TLzbauHM7zZeK6Jo5z6kI6nisuuSi7awL50WeymVmir5NvTZ/yaUvVvzKy1VZ5NOOZ+4c61JdcWp65+54yacklypT11y1zLrSgIfFqG9OHwpD4noc5Hn70sWHnJaZMmVzmGnrgJAZwymll2jePLNNvu73Mc8D+Ze49ditzLrzQ80gRI/FG0uc///na6BDMJz/5yVqZhNIqBKwRE1U5KiEKp9AxfKyCKXoMaUclO3aewYK0OCTXxaMk8uNcXKc8jMt/5wVpeZ7A0AXCoijSdp+GFSKPznFg4onjPAMaqbHDoD/wgQ/UnhXH8qlPfaoqIeUAebI/zBe/+MXa4FHCT3ziE2Wbbbapht0qO2VvzlcomXxpEMnAMeNqlotrcU6exSdLeZdGjHq5Lk9RP8pJRuEEQ8aeQVbiSofjca90xPesSE8e/JamIK57xZGu3865T1qg/kPurTIYDupHz/bTn/50nf7Zaaedyl577VWNlcw+97nPlRNPPLE6mo9//ONlu+22q4bdmr4y0SEykyfHIE/0WZ5cl1fPBDKV32a9dC/ZRh2MthztIA+c/lFHHVVHptTBbrvtVvbZZ59KOjwfjF4ceOCB9Y0mMn/HO95R/vVf/7U6NXlohjTVlzqh0/Ipv3RM+q5FeemLAMrhnLKSg3vVs/PS8lx16n4yDBmoazIhG3Fmpo7lVVreiuRn1Oeee+5Zy8dB6nQcccQRtdwIBpvTMZOP1rSjfpVRXhyTjfyE35FP+Y169V85Q0fjmvTlny6Tj9902XH4Cem75tg195IJsvLtb3+7Nva77LJL9ZvSE6RNRiMB6TnssMOq/yDrXXfdtbz//e+vDYdjb7nxKxpYfmX//fcv22+/fW2c2qUtn1F2+ZUGuahbwe9mvSfXqEPlmVEdzgo8z4gMm1bH2267bdV5sgpbA3miG8qLyCCYhx9+eJ2FaI7XCmWks56jLMpJNvRLet///vcr8d59990rEdDh4GP4FGur6J76Cv0nN/KTXvi5SHM08vFci9fpsvYAwTjkkEPqLIr8NYM+WUpxzDHH1Hzya/vtt99zdTzc89Sz+vMs5ZdHdRj1G/UP0qCLQui0uMpG5uIqm3vFJWs2EP4vdN09rok3MzDSdOyxx9bNNbWlfLYyIuqt8mjG09ffWKYddGh56qqry5SpG5V5PnxAmbziChhh1fEnh8L0Z55PgWavyzqbIGBMW6MfxiRQHqxT5RIgh0zpVLBrhICBRo9NcF3DpiJUjjSlEc5FfPeL5z5xPVN8jbzz4ovnv+eoOJXomiAfni1taWDL8u9cO+fSSci3npwQjrNZdtHTa5WLspKDcjkXsnWPcim/+8hducR1LF3XsH3nPdM15yKu39JwLeJzICFvzyNTeXA+5Kz+Ip2oD/cIzbox3vBMzyZLvUOjGYJyyyuHEOWmC+KEbJVTCDkok/jdKMeMIE/yRtZR93Ql6ph+sCHnQ/cF58lGedVh2IJ4yiwt8iMDeiNO6Ia4ZNbNOo76VcaoX3op38oRfkE+lUe+1WmzjrrmftecJwtx6bvf0nJMfmyNzkvTOTIJmRvJjJHheJ48jLdfgZCLMkT5lTV8JhnIW9QhmUXd9qJ+jwb0X/nUpbpSRkAc1JGRfeSaHOi30SCjcYgS4kVOdIIOSEsa6pp8XIs0e0k+8qIs8qkOm32Uumy1dXVMz8PW3au85CYOfaa34ROk0WxDYSch215FV0kR4UdoRvP50YYgBYHW6+1CoN01IdB6rvk4znUDw+Wh+fxIcmk9npkw0r3N1+L5cR7iuF1od72biDwoR4TmfDVfbz4fiHOt53sNw+XTcZQtjmcnBIY7P96I57er39bQjDjXLBuI8zMTNDKbbrpp2WqrrWrj0SvkOfLXLJNmxLl21/oR7cqC/BmNePOb31yn6zTyGnsjbmZATJc5N5weDCe7XkHkrV0eW6+1CyPFG+5ar6OrpCiRSCQmMjQSetzIkJEqPWwNaaL7UDdGxoyCWCtjFARhNdKByKovoyJGS/qhsU+MDml9iUQi0UVoUDW2QhKi3oK6QYKiboL8+B0EKQnRYKHvLNAcb7uQmDHayU1IDI928hIGEe3KKQwy2pVXmMhoJw9hUNGurMIgo115hUSfkSIr3q1096qlPQ+8WeQtG2+PWEmelToyvAlgXyWvkwpk6I2XeJsg8XzQJ29hkBE9o2+Ctx/ibaVBgHJ4+8Rrr1FO+uGtKPY2qLoR9as+w58I9sUapPqdGYRMyCD0gGy8ls5PDJpMlEddt+qA40EsLyiT9lKdNpfZNjrs3ZtiExl9RYpUpNdPvQoZX5K2b4X9Irz2x3mr8JECtDsHw50fFGjw7JVk2wSy83FDe914JXO0soMZnWu91q9QBnvA2POEvpGdV3FtdOk8ItFa3ubjkc7BcOe7Aa8je2Xbq+zxVWz7ANkjhd3NSD8C7c5B8/nWa92CMmn8fLPL5pvq18ctvcqNCI+2fmFG51qv9SrkkUz4BjLxIVCbNNpipZ3OtwuBGZ1rvdYNIAA6itoRr97bMiV0QHldb5fn5gDtzsFw57sJ+dABsreVtsCGtMpsnyPEKAYYRgqBGZ1rvdYP6DtSFJ9SsFcLVhsCd82IkYABa+g5esd++484iadnQOH1hiiHHgHll554rnGKsafIoAApovwcXLPsODoyUm4hZBdyc47sxCM7sjFa57xj58kq7ifTQZAd+SgPZ2H3bY1FOMnQFzJSXjIJ/XEsuEa36Jy9degb3RTP/XrkzrvH/X6TZTcgT/EhX71HeQNlVcdRJkHcsK04p76V0zVyEqI8ytp8P7lIP/SvW6Cf6sMO04L6kVdorV9ldRxloBfOKYcgXtRvs604H3Jyf7fqd2ag7vhYJFm+1ZN1M/LeKpPQAyFkQg/IxO9WmbCH0PlmmXRLF9QzUqS8OjvsMPyW//IXeRWivOHnlEWZhCivNJrLS16Ce9zfbR0ga3m3e7pyI0Kh98os71HeKGNzGfxXv+38mrKFPcT9yixut+19tOgrUkSoBC/YGyF2zrTHiMrRszUCgvH7Tcn1cpzT8zUqYjhYA6cHpFds1MlOsCpPfPFsmoU920FVZQ4KKDuH5zVTG7vZCdmmYMqoUdBTVnaGooHUgyYn5+IL0QiC3lT0rMmMUdhB2CgKuZGp3Vg1lP1iCO0g7+HcwX4k9iWxl4zXcpWZfkWZYzd3MiMj8osvQ9t4jhwFzogjJk9ydy+dpZee1Q0yyZlxeHTEviV2nmZb9tBBptWt+mZLNpMTLrroolr2+MyBEVu9T+fYlvPKr5Gwi7j7XfObzoQj7iY0WmyfzNUvm/C6tQW0/IIyqEtkUX2HTRhNc46PUO/kE6OJvpCubpWdLZGZe+Ij171Q7uFA50Mmftvs02vn/ASQiY4VmdB99k8myqhu6b+ykxX9CJnQ7Zi6JxP3k4kOWrd0PhCdZIun7bgcOmAhNb+nHMrgv/zSX3l3zu/QgbDxKK+Oo/KyCe2Ke4xAaau6WV71yuezS/5N+6nM4dfYsrIqi//Kol7Dvyuz6TZ+jS7wXYLzyuua31HH2hLP6mW9b0bfkSKBEnOqnI7/jJgCMsxTTjmlVgRjVRmc82mnnfbcVFEYpF5QKLKK5dBV5Mknn1yHFDk8RtzNXsxYI4wBqyc7jR1ZUlgKb4dkBk12AqOwSy7D4Aw14I45fcrPKXJ6HAVZkxtZc5KuS7vfQWZ0QGNGXkZRkHLkgYyUmY7RHc6EntEhToKcohGhT0Y3yQkJQi41HHSWzDhN+ijtbukbR+359D7IDKepXMroG1gx0siOlF05/XaOnigbO3NMN+iI0V3ls9sup0oGGqFecZLN9atB17PVcKmjM84447m6JAfls6uucmgsNJrqUP1qJJBFcfgXMuBrpEE2rtObXvcn4SeQFQ0cuZAJGSmfDpG65Q+UX92G73Ad+XMOGSAzciQT1+iG32QSflfa3SYJdAARZN/hF+VLGZWN/vsdbQab5R/pBX12TmeHjTun3vkHsiAXtsPHxlKPXtABMqfnyque1bcy01v1o575NcfKF1Nt6lG9K5c6DL9GHhFfG0xG6prMuk0EZwZ9RYoC4cQQIo4bKeLMVaxK1bvRs+F0rYmggHoA9gPRSGmw7eDp2ylGTVQqtq8h8N9mXJizHvOgvXJJFmREdkaNjOYwUoahoYrv0yizBsJ/I3JGDIIs6VnY3ZV8yFPgTATyIn97e9jjYxDAmMmIvMiNgXOayCUZ2bPEyIodYMWhc37b9VZcjpEcjTLZ70QaCBF50Tf6q5dGbnZ87aa+aQzpgSF1/+WNrbEt1+RRvdMh5VdO58hDL5gd+rwG+4lGlL2xLWTLrrZ64bHhXS9A/UZ9qj9lc0wGOlvyqox2JXbsPP1WDg2p+uVH7EpttImsyCL8CWLJH9nXptv1O1qQCd8QOh8yISN6Qefpsn2VQlfsXEzn6TU/oaw2PFRu/oWcXGMzQCbii9dtXWi2ceWhx3Tfb3nn//hBu5Irq3q3b5Eykw+yQxY2eqQbdB4ZCMJBdnRIeelKL+iAtiDqlF6zV3WuPOpIe6mO6L8y82X201IG8ZE/afj2IP/lPoRIJ0iZyZAs1D/b6RV7nxFGzmWPdmgYkYrRyPjwIoUlcBWkwbY7LMJjio0CctIbbLBBJUIqnkJq+A0LqzSKwegZgYZcJdut1DMGpWEPGBKm2GQXxM85stNgrb/++tW5kymjIDvf9iGvIKCcIeP3n8PnIEJ2HMcb3vCG2mD0ivHPLhA9DhDxITc6RjZkxtht90/nnBcXUaB/AtlytmTr22TkQk7hgKTBWW6yySZVphxQN2XG6XNwdMB/5QPlcIwMq2PlpyPK6Bt+7mND8h/T2tGAcKY6MhpSshLIQ5q9AHVmE74gc+pRHakb5eEPfPCV/5BnusBOlCPqlx+hH+oSNDTkobFlJz4TETLph8ZBudSRPPOTfAaZ0M2o92aZNPsOvkDZyYTOk4n76AJZ2eyQLvETrvPT3ZYJHYhpYzaO7IQOsAE6TveV13lx4zMf7uUH3aM8iLH7+EU27jq750dDB3rBL8oDm6T3fE8QVHn3nyy0m8rD3tWnOmMP9NrIknoXz3IMU2/KjAxJg86QG5vyHHLoKdQ6eGE9zFgTe5AYES5nxTn5zyhVsOBY5TFclSRwePGdIceMVoXqBfgvPYrOMF2PHsAg7i6rPIxcGcmIgwKyc56Sh+zIxG+yIDskJ+ai9agEcF4dSIvycxgM37lBAJlxCsoWsgmn5rzy0i+OhC6RBzkKdIiDQAzILaakpEFeZCTdkHG3d8f1fPmQd/oQeYl8KmfUbXM52Z2yc4jKGL1t5SQj8cmCrOK7Sd0sZzOiftVt1G/AeeVjL8qrjMoR33lS59FAxAhCNCrsR7nJk0/S+He7fkcLMlFedaXelSUQ9dgsk/AdzrlOJoh/6LxRe3GlI5AJGdKbXpBJlDd0IMorX3RAXpW5WQdCl5t1QFnpgPK6TzrK10s2HoiyyVvocuSLDShbnJdndk8Oziu/uOpYByD8WnOZxSej0J9eKHMzam7aZGmGLX4vlYNQQ1kNTZuztobDXL0KYZiCCqG4KlbFqED3qWBM3rlYQGfIDxPGkl1XgZTA/b1WibMLMqC0hkbN/ZonJgeNF7lxUGTGQfjvmOxCwfUmsH9DpOaWrRcwvKrXx5Ew+Ig/KLLTqJEF47c2gs6YEtIAkicZkSl9ETfkyHk6b+iYftEz62vMvZOlniOHQWbukRa5d0tu4eg5c9OhdMM6GcP/8hW6oIwCG1EOZRSMrtADPWOLMtmmNPUSEQLlDP3qJduK+kVa1a81EupXwxY2EA1hc/26ps6UWx2bFnKvKSKNBj+jEUSEwibIsR8QMtHImyKhC6bDHKvrqHfxwjcI7iErekDnTSGxF+uIyMQIIp0nk/DT3dT5gHwoj4bdOjHlDR1wXn79pwPiqs+QgXJoO5AFOsDGtUeOyUGb0lzeXtB7eVAWNmzkTt3SXevg+KmoU3Xpd5RZGaKOjf6pT4Qo5OU6vTeaxt6l0W2/NisY2Up7rBwqR2UYkjMkTSkxdD0zvRTDk4Z1VQiDNeXjy9MqT6UiPIYDt9566zrcR3Gltdlmm9VGynDwFltsUQ1aZQ4aEBplNdxJsclOIBdDw2TDkSs7R++YnBgP+TneZZddqjwZgPUC22+/fR1CFqTNKMTvJyMYDoyZbEwJGDKmV3SNzDgHQ+GGk8mVvpGRIXV66BwZc5h0au211646Ss/ISZrkSO69MKQu78rIXjg1ZUeQ/GdHppMRHPUuLh1iO0iBcvqvnKYBkSDl3mabbWpZ2arz5EK/yKoXQN4aa3XGb6hrUL/KSKfVL1tQ38gQ+cR6uvBHb3rTm+r9OgYaQnLgS8hLmUNu/WAT6ltDLv/sm16Gj/WbrtJl+k0m5MAviM+fOkevyYQ+kYnjzTffvN5nqobe+N9tnQfkgE7Kk05fs43Ta2UInaa3dEQ5lNc5ZVA+0+fqmY2zDR/3da9yho33ig6oY+VUZuVgAxBl5sPpLV/Fl9MHusBn+S2OdmGHHXaoU6Z0gI1rV9kHOZguZhPSJuN+wqRPHnjgfz/7+wWYNGnOWqA5hypy+g03laev/nVp/P2hMmXdtcvkVVYuc7xk3ucNJXGiFpfpKRo+JywKwXEwltlVCJVJCTlczkeQNqVWWZwXB67COSxOjLPm5Dk5jb37KbMRDpVuTZL7sHkKLT3xVbznjRUwcqv1ja5wKJRG3poVRg/dmzwW6nImFEwZkb+xMCYKTnbKHLKTF+UmAzIhR88jr5AdYyZP/8Un45CdNDgK+XXePeJ10xCsX7HJp5EOIzyMPAza1Gm8IaGOyZiBt5Ox43D85CWecpMhY9cIKLPr7icjsiRH15yjc57rHrKSBgfiHP0kTzLzm9MdTT3rnemZ6YErDyfEaXl2EA4jH952saBbmhp4jb+6atVr190nT8rJySuncoRtKafOAvshE/VNZzyTHJUzzkU5peP+sDlpktXs+gKjwl6O4GeUX+OjfPROb1+PV7nljeOPTk7rMx2rI3mL/KqbKJfz6k2elVG+1WvUnzTdL65nOC8d5XedrKWlfsmgUzZh1NLIHP+hYdMAq2s66pgt8CtGiNWRRl1Z2Xg7mSgnu1eW0FdlUE71qUzKp+zk4hz98LyQCZk1yyR8Cz8rbYFMRqvz2haL1tm0OpYmnfec0HkwvU83lNdiYG3BlltuWeukOV7As5VBfui+EDogv9FWhI0LdEDZmmVANs02Hjrg+dJi5zOjA/TaiBNd1h7QJR0TeeNnmoHEGcUz0mnkX34QkpHqWD0ph7yG3oeuK7P6JBP3S895ZaA/rXWsrNIgO2kqM32RXsQfTR2PBKN2RtmVT1sq38pI91rl0Yxn7n+gPH3JpeWZu+8pk5ZcokxZf90y50ILIhPVNqYPBfJrRn+M5z6LIEXRMAsUjsKE46WIKoHycZIqiSESnIph8IxXGirN9Wj0nacIjseSEPUKkCLKysjJTvmVmezIIQxf2cnAcbPsyJWsQ+HJ271kyhAcByEdFChbGD+Z+e+YfMjOb3IlM+WOxjTOccTiMl4yo3dkKF1x3O94LBzH7EDe2U6UU4jGPBoy+RRP8FtZOU3lZG9RHuWMRoVDVTblFxx3s5zNCH9A96PM8q4Myh31G2VU7rAT5Yj6RWjVuXvJiQ2wo7CrkFu/QN6D6IRM1HXIRL2qa3Ue9uF6+I7hZCIuWxDXcbd1HjxfXSpv6H7oQNi4a2HPyiD/QuiAuh2pvNLqNR0ge/lSXu2BsisnW48yR0dNvapz55Up6ridXxOXvUg74veKvY8WfdfyE7BKYZCC387F+eYKaHcO4nyEuD5c/EFBlK9ZdlHe5t/NcVtl0Rx3NPEHAVG20eic49ZzEa/1Wrv7u4nIz2jKOdK5CI4jNJ/rJUTeosyjrd9mRLwIEb/d/f2AyHezPKIcrWWK4+Zz0Hy+XfzmuN1G5KmdDrTmH9qVoTlu87V2cXsF8tWuzO3yPNK5CHGt+Xxz/H7B4A2HJBKJRCKRSMwCOkqKzNmZ47UGwBzpRA5kYF58tDDPSXbt0sow40B2rXPFrXBdnbS7v5dD6NKMyheIcrpvEGxRGawb41+GgzKH/2mXxiCFmfEtZEJ2/agHM6rzdqAH/agD6ke+Z7a8oMz9WsfDBbJQptH6vNnBHA8/+tiwT5kyZXKZa8qUMmnOOcuTp5xWpn3zyDL9ttvLPAfsX+beY7cy58ILGSt7NvY/F0DaCvzzn/983dHVmoSddtqpLoLspbUE3YAFv0ceeWRdLGbF/qc+9am6CNTcLqhsn9D44he/WBfRmpMlOwuE2y2WSwwPekjOtpkn97e//e1lr732qosBHX/uc58rJ554Yp0Xf+tb31oXbPaLjOmJBbM+LWHBuLLuvvvuZZ999qkLys3hg1fpDzzwwLpVvwbT2zHeBrMGwLB2v0L5vfbvVXFlg/e85z3lHe94Ry2bFxmOOOKI6ofYkLegyGWQ/Y+dwvkOn5lQxt122628//3vr4tRNSQ+ucGvkJm1IWRisbU1I/2iCxpF2x34XIYXDbz1SuctKreOJWB7EZ9lUV6vmivvu971rvpmmTU9/aIDoeM+F2KhvJcUDjnkkPpmI11uBuJki5pjjjmmfkrHVJh4Ftur40HQe4vmvThiob3NltX/fvvtV+u1VR7NePr6G8u0gw4tT111dZkydaMyz4cPKJNXXMFbZNU2nhjSq+nTn088O0aKKCQltADL4i0VNZGhAmx/bqdXb57NiBRRZLKzYE/jnRg9OAlvYyAGDMY2AnvvvfcLSJE3GiyOtECwn2TMYXIS3sKhP3vssceIpEhDoXFQ1uYGpF+B5Hnjyls5FrwivK2kCCHmPC101jAMsv9RTkSZPiD3w5EipAnIxFtB/bT4m38Mm6bDb37zm0dFipA+C4H50X7qDISOs3NvW3nTdzSk6IQTTqikkb33Wx2PBKNF3mi3YTCfp/77hhT5cF4oJHZPEfu5ZzqWoOiUFCn65Cc/WZl8MylCKL/yla9UUsTRjVZ20nU/cP6D2iOeGXAUZOINCKTIaIJXRpGiL3zhC7VHxeFAv+mnckX5vAFipAgxsCdKMyn6f//v/1VS5PV8OqGcg6IbUX5vuSn7v/zLvzxHir71rW/VDoaN6KBd/Q6SzTTrAwK46667lve9731V3zl+PWx+BSlCqEfrV8YK8iZA6OCsyDvKqLHXKKp3ewK1kiIfJv3yl7/c921Qs9x0eA466KD6Wn47UmSjzO985zv1Y8W+O0ZO/Vjm4RA6LvB56v+9733vc7NQw6HrpIgC2tETW7VXhOPE84EEmRLTSDPoYPIq3a6iGmt7PWHGM4J7OAHD5xo+zsGUQbxKOSgN4OxAD9FGajvuuGPtMZLX8ccfX4el9ajIsJ9hZMCmaZyEV2uDZCME3/jGN6o9Gp0cRNBvox7qdtttt629Y40DQoQIGDlprV/Het5GVtgMEikNejIIHQoNBn3feeedq74jf8iQxtLeXDpb4wWy5sfoorrQSMcIBj2dVVmrK5sLvuUtb6n764TOA9JnioUfHaQ2SDkRXdOeraO95GzU1IAEv6Y9CDI1iLA9gvq3vMRoaHQE26HrpEhFGMYz92vob5ArZlbBMejR+sgiBxHD+hSbQ7chn8aaM5sRxDEl55MbHIDpEWtHYvfUQeopzCoYjM3F9JqRRU7SBmDm6TnQfgdSjQxxDtGwg4bfiCOdGuTOCQep7BoNv40E2rjRRn/tCACb4aPOOeec2vnQibC5H3schLV7CAJ9MN1i2QIfjADa2NH0w2j8yljBs013+NTHVVddVRtzm/lq2BGjWfVPbBrhMx3erPOgoTNSwo8iYoPSBimnzjQf3zrVr+3Q8TFKyq/p+Dk3qODzov7pUXP9t6LrpAj0DDQ2jG+QK2ZWwemqVEN+raM5ph/JTmWNRnYM3i6mhsbt7qtxePe7312JkXUySYr+SUI5UQ7Zb3IlY3o6CA6T/kT5mkc6lI1zpFODbIfKrOxkoH7ZDjKk3O3q1znTKl/60pfqQnWb1u277771MxQann4nRWSAGPEvZKPukeKZ8StjBc9CQE3rGMWI9U5G9jTuIzVmIyHK2Krz4Jnqng6Md3k7CW0F0q/taKej2tvQ+/Ekvt2A8kf9z2hGpCdIEQyKInYSw1XkzMiO8tsG/rDDDqsfxtU7tPhMz9daGs4j8UJZD6J+ttOniWKHM1O/bMYI2qGHHlqnFo0wfeADH6hvZOlIjORg+wm9oPMIqJFsC9+9NWZHbJ02b4N6iWRWSVFgpLqaKDbejIli74HR2OqskKKOtJoym2HkMBzaxR0pNCOOW+NM9NCKdnH6PbRDu3iDGFrRLk5raEa76/0eWtEuzniE4dAu7syGkdAufr+HGaHdPYMcOoUcSkjMFPRGMoxvSPQ/2tXrIIReRLt8Zuhu6Cd0ZPosMT4wFWCDr5g+80q29RHePunU9BkFt1+IN0rMYfebwvcT9Iasw7Aw3xqRTvaOJgpi+uzTn/70c9NnH/zgBzs6fWaYns14+SRspt/txpoOi1ytwxpunYvpMwt/202f2dh3dqfP2sEzydrLKoMi634FnbDuh554yYWejDd6Zk1RYnzQDVIU65jOP//8+lZLu8WsibGBRYQaba8ee6OoE43IREM3SJE3g9jppZdeWm2GM+53kNUmm2xSN6Ad7k2ybpAiL1DYzd6GlXfddddAyLpfoX516OzL5805b0OOd8cuSdEEQzdIkTdZvEny1a9+tb76LA+JzkDPygafNvrkVFpfxU3MPLpBiuycfsYZZ9T929jMILwRaKG0z2f4TM5wi6a7QYpsRfGjH/2obuBp6w3+KkeKugP+y1Yodpvfbrvt6u7z4/3yT5KiCYZukSIO7rOf/Wzd+8RroksuueRzvcXx7gkMIhgr2ZoGWG+99epOtnrkSYpmH90gRfbLOfnkk8vRRx9d988xFcpmPG+8G4lZBWJhDyijL/Ye8kq9N13tnm1X8V4hRbah8JkPWy7YesEzNMwz2s8mMXZA+n0twCaStrzwORbk2SapSYoSHUW3SNEPfvCDSor0ek3r2HvEduvmj5MUzT44dp8puOaaa8paa61VDj744CRFY4RukqKjjjqqkiKNtE+z2GR1uPU4vQYNyC233FIJB59DVnwN2+9FUhSfmjI6oVFeffXV6zqo9E+dRZBnX2ewxMKaM59jQYpMpSUpSnQU3SZFdtG2E/BHP/rROm88CDsC9wI4lQMOOKB+Cd+0WZKisUO3SZERwDXXXLN8/OMfL+uvv37fdCTYvY1ijzzyyDo9Zcf8XidF1157bc2but5ss83qBp/pnzoLpMgi91NOOaVu2omI9hspGt8cJgYOlJzimxIwlZZh9kPsRpwYTLAZDXS7uu/VQCdHs4NwK8QVNJYCouT/eCFknf5p/AI96ZcR0HZIUpQYE2QPLNEviMY50A3djWf2i90053Nm8iwuYuL/eBOigGdHSCRmhCRFiURiwiBGLKJx1mALic4iCUmiX5DeIJFITCg0k6JsrBOJRDOSFCU6imiADJ03h2iUxgqtz4jnxrW6qO6JJ+qCUddbEfG9TiqeBblxf6A5Hf9brycSY4XQx5nVMbpNx4fT88QLEXIO3yE45gP4A4G9k+lwviHQnFZznDjffG60iPRa89dJRF6b/Z3nTgQkKUp0FByIzxvYyffPf/5zufPOO+t/e52M1SZ2jNWuwfbFkLZgn4xHH320GrM8eL63UTx/2rRpbZ/r/K233lquu+66+hkT9zbDsXRc91/+E4mxBn2mi97i8Saixng0diKOt6+88XXbbbfVeydKQzarIDONPn909913V9/hvzcGBVsoeMtWXfzpT38qN998c/3Np7QDH2GzTv7Hf3UnLv/kPptLjlQn8iMNQTxBnd5///11jyj543vU7XB5GCvwb2ShzJ5JTqPRw37HDElRDi4nZgecu/2MLr744nLBBReUs846q5x00knll7/8ZXU64SAYWzuDa3e+9RwH4hnnnHNOOfPMM+t/r+XapuD222+vDgnZ8Qq2V6Idt3NMnI/Xtd3HAUVjFIFT0OD84he/qHu2NH9bKUIzmo9bryUS7UBP6DP981kQe+3YxHO0dqLhdR8d1TBHw9l6T2s6rccTBeSqM0VmdurnO3wiBBniOy6//PL6WSP1YfsT15yPDl2r3HTExOd/pCltRIh/4n/c20wumu/3n7/0LAQMqXIvgmt7Dr7zvPPOq76UHxrJ/zT/huGut55vhmfrSHq2/8rWzm/2NdoUPUeKEh0HQ0IwwsgYttEWJITT9p8D0Pth6M75j7wwRMGxNDiN+Lim6xoQDorTYbz+axiQn3PPPbdceOGFtbcDXhf1qqi0PItzkrc4ln68Ku3V4+jheV7k1XnXbUNgga7nuyY/4cTEc97vKEOk4fxwTiiRADpiRACx8R0v+kx3mnXJf/pKf5ttyAinkQ2kXTy2wWbod+in+8K+wq6cl4bfE0k/ye7ee+8tl112WSUzRmTCL9gWw6v8gmNkhX/RmSMn8UKuITu/peOzLgJ/FyNOQWbcp47JX3z1RP7Oy4t6txfUDTfc8Fx9ulca4afUkTw154FOqG9lcl6e4ll0wHXHUfehT+533X3N/pDexeiYfDk/SLrxz6K8sDwzJEXpvhOzA3tWLL300mWDDTYoyy23XDVasOW7a4Zlr7rqqmr0gu8VcQSM0WjSRRddVHtYnLyGIkZynNcTu+OOO55z+oiJ7zD5UKXnIS42nONUPNcxo2fknKD0OAlpO5YXjlC+GD8neMUVV9R8hcO0MJeTRK6k6fkRR570JvXQ5YVDVAb5tMOrXqc0PTOJUWI40A2NJDtonsaho3SJntEruicevb3yyiurndB3xxpE+qlh0wHR0LrOfnQS3EunNfJ00n2eoZGcSLqprBp7pEJnx2a0fMcyyyxTd2OOfXfYfRChID/kpT7Ild2TazPRIduQtzo0auS6OuPfmv0e+asTvoqf4C/UsRFu/kR6Nj/02R/5symlfEcexKcffFmQGc+2XIBvlK7n8Xmu8Vni0wv65Pmhb9J0Xj7c5xxdGjy9aF+eHClKdBRGVhZYYIG6wzbj4nRtub/aaqvVngljNq3GgJt7SKYNTIXZPVscZAkZEtdvDsc28kaH9GL0hjgu2/pzaJyHzyhwHJw+58Lw9dSkbbQqenGcgrRcE0/6hqzlx3mf23CN05CW/HF0HIx7OTX3KYPeIWdimNx5ZeCAOCTP1Hh5JnKWSIwEOkKvEexm/UFm6KXf9FGj7Bq91igi7xoxtuac0VKNtjRM/zhHPzWK7E1gV+4dtNGA0UB5Q9YCv8SXIDD8DNv2O+RCRjpW5Mq2yZYf4CcQEvf6NtzLXvay6kf4DkTIM2JkSj24ny/hN37yk5/U+xHaIFUxghR5ivxJR/0iL+6jD/ITBEeaRhj9dl6epK2e1bH7TBWG3+VXTRvyj3yiNJ0LP4dgTyR/laQo0VFwEJwJAsF4OQojOa973euqA+AYkBCOgDPnsPVOxI+5+0UXXbSmw2AREx/TXHnllauj4gj0sPTexDHSYxRHLw9BcmwkSdrS8xznPJvDEDQWHAdI37P1zjgzgVMwrYbgcVR6X+JxMJwNh7HiiivW78DphWls5MnzOBWEUF785pCQIk4ukRgNNML0lY76FAl7oEPshH4aUaCPPr7psyU+wQF0XeMo0H/3mFamt2ySbSHw1qrQVfcZBZ2I+zYhG2SM4CA67BgZRTqbp44EfofPYvsxCkSmZGvBNn+gjvgE6SJGYfNkrs48h1/yHTyj2+FvyN7Ha42kq0vX1EmMaKtr90oToUHY+Bej8PyTPCBy4X/kB7EySiV9+XDO/cq0+OKL15Ew99ETxMj9fCh/Jh8T7fMoSYoSHQUnwhARD47Zt7wMUc8333zVOBEQpCNGlHwTKZw6Y1x22WXrcDHjFM9wNmN1PtJAVFpJBucjvvPSBsQJIXI/x8Px6WVzhoajPT/icRTi6fFJn0PhuDgy1wXP5jjdJz8cnPSVUy9dHGXQWAny4bw0JlLPKzF7oCuCbwvSU3rJDug3okQvNZymqY2S0sfmzgD9ZYc6JKZgECv6L7BNjSA7cRxTRZ1CEIteAzJiep3vEdgthK1Hnv0nVzJHOtWL+PwTubJx8lNXRqp14PgX5Cqm3sJv6LjxGerTs6Xrv3pyTV2pEwRFfapj34/zPPWl7j2fz1TvOl6eob6lxQfG6JLfrrkvgvzSGc9xXb6Qa/Gck6a06dpEIspJihIdBWPTq0KKOFxOguNgtDGyw+gYny/tI01+i8sx6QVxOJwE56DXw+g5BARDPIHRchB6cRoCIzKey4kttNBCzxm2oHfEGXFsSBGngdQ0f0TXs8Qzzede6RlVMj/vOZF36csHJydPHIr48i4t6XBmzXkUerFhSPQuQpdC34Po00PX2BMdpNN0VKMXOio+G6Dj7MsIhPuRKo23zgW7cj/9pZ9jCfkAOj/WaY8VyMnojo/1+vgyP8VuI+/NCLkiMAgoX2JJABKBaLgmGOXRAeRfjNrwE0D25OAYKRX4SelF3ao/dWI0R1z+JNZmrrXWWjWv4iJZ/KE0pCdvzkvLfepUx5NPVLfhd8QTRxmDAILz8kuHEKRO6UQvI0nRAIHiUmhKzJgEv8c6NPecZgQGa0rMcC3SYHjW66rW2zDeFVZYoRqi4V4jN+I3NwD+cxIIix4VYzXlZk6cwXJGRmEYt/IbAj799NPrlIAemmFlAamK9Pw2tO25HIbetwZDD4yjEDgp9xse1yNUZo7O/a5zJEgTx2cIW37ky3l5QuTCOYWT9Nv9fie6j2ik1W07PR/LMDM2A2EDof/xu1mXBHahMWYX1pCYXqGv4tJz09T0OqZPjAbwC0YuNHrsYNNNN61pGjHSuI5lA8jGlMX/ZlmPh38arbzlj92Sl5FhhMNoTciYLMVRD46RSKRJfPJEeMgXkRFXWoI0+DdxXQMdJn6Dz1EH1vWoM1BXnq1OEVa+TJ0gvHwJAsbfGMVBcsWXL2vLrCmTD/lH0vhEhNe0mCUGpgDFDf2Rv+ZyOTYKJV/0Je7j28L3TRRM+uSBB/73s79fgEmT/inEOYcUevoNN5Wnr/51afx9yODWXbtMXmXlMsdL5qX1z8ZOjDcYvYabUTEIdcV4OEjH1hzEupmxDOa0ER2jMoxwo402em4ImPNrht4Ox8HwDO9yCvLNYPVYOQG/kRrGaJSIQTNScRk4J8LBiOe8Z3gWIjN16tTnnI7zDFscjovDX3/99etzPJNsll9++epMpMdJG57ebLPNag/a8zgg56TtGRyCuNJCdvQEHSNaem4cI+fi2Z6pp6k3x4HJE/lwjPIujrJpxNw3nKPh2C185JDcL3/kwoElZg/qnM3EWjQyVTd62UiDRqidzs9OsGA1FsMi/erSujp6TXdaIY90QN7YlYaKTiPadJn+gXTos/OusyG/6Rj9pLP0J+yGfmtQpcce6De9F4/t0W330uNWXZMnDaty0Ev5NmJhbV+7+OAZfJG1L0ZtkSB5YFPW5XXCPxnRlUfrD5FDZdpyyy2rzfNBrZBHHSBQH/yNe8R1XiAvcidD18hLXL6GT1Emvk1dxWhz1JX/MRrDX6y99to1Hvt3LznyNzFKHiNAnq9O1Jf6JmN1qn48z3XpihskR56kTyf4n3iu9JEp+YmlC+6THt8pv46Vq7kDqaxxn6lA6UuzXV03g89X3+pd3pRLnpSntX3oNJ65/4Hy9CWXlmfuvqdMWnKJMmX9dcucCy2ICVednj4UhlTgeZjj4UcfG5ZOT5kyxIyHKm3SUAJPnnJamfbNI8v0224v8xywf5l7j93KnAsvlKSoi9DoIiiHHXZY7SUycEYYRt0JBaRISI4RFM4NCfjkJz9ZG+5o+JvBERq6Narj3rjOoXAkzumdMiQGxAEI7tNQSZORKo9zMUzsPmlwQgxf+nq+nFg4CcYfjst1wTEnYURN747Tlg9OBKThOfJAvq6Ly6Clp7FCBv12DomSJ/89V16FkJP/8qhuxFMOz+fYhqsfDee+++5b3zDiUA4++OA6pO/exOxBXWo0DznkkDp1ChqeTtoMO6EL7ICevOENbyj/+Z//Wf9rZFpB72JqhR7TFSMHdIleapTocuibMolLb8UHhMc15UEO6DEdpLPSoMfywh6U2/3ADsRpbfiUwcLiI444ouqlPNHR3XbbrZIGeWmF/CI/Rx55ZDnxxBNr+cPW5LMTsiY7I9IIHJ+C5Bx++OFl8803r36gFfJItsqvDGxTncib8/wBWbD3mM4iV2SGTAXPJA865Dz7BfHUA39hWpP8jfDwadJWh9Ijf+kLfnuOMqhX9eM+51yPZzvnXmm05kH67o1ryhWydl1ceQyfJi9xHLrmPlB290b+PHukepMvMvv+979f6138vfbaq7z1rW+tdjYjQjXWePr6G8u0gw4tT111dZkydaMyz4cPKJNXXMGIT9XpJ4fC9GeeT4GSFPUxKHeQIlM3lJnStXNQYwnPZXQMeEakiJGIy/k0Qzz3g2txXd6VIc75HYYpLec8vzkuxHlxIOTgPsG15vQg8iUfcS7SaD6GSEv8uC74Hfe4HvHifNwLjpvjDIckRZ2DOg9SZAo3yHjUUacQukYvjKyORIog9JmOhd5Bs16GLjXrYFyHKFOkBaF7kZeI03y9OY3A7JKiE044oXakPDvK1CkoS8jDqOxIpAhCPiHPyJv71VvkuVlmzjXL1fUoV6QVxxHPvWzYOb/jnONIM655bqTrWGh+BjjXmodIp/lapBFxwLVIz+84br4X4rg5fyNB3CRFMxBSonOg8EGK7OVDcQ3N6o3oocxIgWcFjIVzM/Stp6LRHokUJWYeSYo6h2ZSZKSITE1rsJkZ9YJnFUYvrR8xXWcEaEYjRb2IsRgpMhpjyk+I0Zixlrf6NQJsis9oh7qdESlKjB2SFCUp6iqaSREHzzm95S1vqQ1oDLOPNTgdU3XHH398XaRsnU2SorFFkqLOoZkUWVdkzcSuu+5aN/s0fdAJ/dU426zPYnwvE6jLiUaKNJL81dZbb1222mqrOs3f7p7ZhSlBOzz7vqJ9fawlSlI0fhgEUjS+OUx0DJw5UmLhnMWPyIqgUR3LIE3PiJ5eItGv4KCbbaadvo9FsIgWcUAkxrtR6CVYR2Qhcby00An/ZAsN9aleJ7KsE7OO1JoBAieg92XqTOCE4vdYhpgXTyT6HWyGPrfT87EKestpM//nn8iDXDrln2IaNH1UYlaQpGhAMWgOwbCsqQ8LY73NEcFbNLEoMJEYBISumwoaNF0PsjKI/sn0oHWWXniJOnPsvOuJ/kCSokRfgGOx95KPFfrIqnDuuefWTcY0Hul0EoOAIEReZvDyhA8M03Wb/NkbzGvWbCHRW0BWbTngu4c2jlVv9hqzk781Nlln/YMkRYm+gIbCxmynnXZaXbRqczYb7XE43u5xvTlwQvHbgrrorflfF9g9ew9nFueb48f5RGK8Qf9sJGnndzsVWxhO171VpQPgeuip/826G8f0VxAnQjtdF8ZL1z0jwqCBHL144kv0QYZ02Lx1aOQo6iqCOmiuhxnVmf8R13nxB1GOvYAkRYm+AKfgrSyboNkAzk7VdrO2ORvn4DMidlGNrfG9/mwnYcd62I5toOc/QuVNGtfjm0AaHKTruuuuq8Ex55NIjDfos6kXr7BbMGxB8oYbblh3WbcmB2Giw/FFc42xBpje0ncjqkaUNMh03M7CrolnI0ejUGEb0um0rsd0WTTug9iYKxPyE7v32wHaflR2kLbA3lt4ZE3m/JQ6UI9+80/q0YaT6ogfijpzn20cpKuOpRH+LEfIO4MkRYm+AYeqh4TEWFvk2Gu2Xnk2lXb00UeX733ve3UkyadPbBj37W9/u/73+vUVV1xRe3GmIvTofvCDH9QpCo0CJ+TeY445pg59c0DWA6TTSXQDQSBC15EWC5U1jkaP6Ppxxx1Xp5N9++rkk0+uukvXL7nkkkqY6LltALxCT6fdp1EN2xCfDXRyCrp5DVGUyf9BtSvlMwqtzmJ3fWTJRqHk/Z3vfKdOr+mU8UHHHnts3d5E3dhKQF2pM8ennnpq9WtIEjJlr6fY88lWLDqJnpcYWyQpSvQVDB/rZelh6V3pUXM6Mcrjuv1m9K70qOxVwgFrXDgSDYDrvuODDCFFetR6aIiRc3p2E/316UT3oVE1kknPbZbq0w9Geugw/afTtsag68iO0VKjFPTddZ0AadgTSCNN/8XzjTC2Qde9raVj0UldR4iaMaiECPgf9RTfdTOyrdOmbsgckeFbkNz41h7/pbMnPrKkM2YzUf/VGb9m9A/RtSklomUEMd9o7AzS6yf6ChyBfUh8XiQ+RgmcEefvi98+yBrfG7M/jI0l7fTNWXH+PtBqAz2OBxky1aDxcM1UxRZbbFGn5TQW6XQS3QLCYl8fem46hn7Tf6MDvh9mSs0GkL6HRddtVEh3fdRT46uxZSvxEVIkykgTEqVhZQfsxa7PqetjA/WjntSXqTObg6pH/gkZWmeddcob3/jGWq/8jaUA/JW9rBAjI3Y6bOKpT2QWsdL5U8fqkT+zH5MNerPOxh5JihJ9BU6HQ+HQEZfYhVjwsUONgOt60PYr8YFHjkQjoiGI4WYOhhNyjnNyv4YBiZJGfCA0kegW6C/ibi2Rb3iFTtJXnQFfTA9dd96OwfGZH3pNv2O6ym//3SvQdfE1wKnrYwdy53PUF3KqLpAiQIr4FzLnt9QvQhv16Lo6UmeCOgNp8k/iI1H8U6SbpGjskaQo0TfgAAw7G2Y27WU9hakEvSngPDiOcCKC3xw+x88ZiWt9kbl603CIVRAmjYW40fAkEt2EkR3TJtYA0XeLo02faTDpJ51t1nW6r6H0ZXWNL+JjysY6FXZiZEHjq0GOe5vtJTH7MCJkOv7yyy+vH+k2JW+EOjpg5B3+JfyTc+rGqJINLU2XqTP1jfwGiXJf6/2JsUd6/kRfgPPg0A0zcwrevjBv75V8DYHh6uWXX/45h68nZdt/vWzz73pvhqkNO3NcGhfXTDf4QKXemmuLLLJIdTyJRLegwTMiQJ+NJJg+sZbEf7pulNSnMmKEB6lnF0aJjBppYOONNY2qaTSjQo7puPtd19jmtNnYQJ3xMTE65M1B64gQJKM/Ro7IXr3yL4irDhkfpB7Vszr0Vq1jnTfpxBtsSy21VK0z/40oZZ11DkmKEn0BjoQzf/vb31522mmnsuWWW5ZNNtmkOglkyUcmzbWH09FA7LjjjmXjjTeuzoojcb8PUm677bZlm222qdett7D+iMNyzEnpraXTSXQD9I7+Wk+yww47lJ133rnqKj1Gkug7XQ8yjyTR9e23376stdZatbGlv+5nI9Kg7/6zFw2x9SpvetOb6lol8VPXZx/IqfpQV7vsskuVufVaiI4Ol9/OqRd1hshaD6ZOjBDpuKlH643U1XbbbVf9kW1HTJchweoYaUKgkLBEZ5CSTfQFOAE9J07GF80tlEZoTBNwEpy9BoNzMVKECCFBHA1CxGnpQYuDAFmojQCJpxHRk9bLi6m0RKJboH+IutFPui7QV7psEa9RB4uj6TO9NrKAMGmUjfy4nx2wDaMM7mULRkFjmoauO84OwNiAfzIqp274JXXmv2N+CxlSR/yNOuOTkCXnox6jzpBVdab+Y7qTX3K/0b38GHdnMTIpyi1aEj0EPWgOgfPgKPzn1DkU/wXOicNwTgMR58B/vTQOSXBNAxK9c/H9T4eT6CZCf1t1PfST3gb5adZ1uh26GzotDbruunhsIHW9M4h6GE2d+e9csw+Kuok681+arjXXcfizxGyi6v4L9X9E6TawoiRGiR4CB9EcAs2/A+3OQeu9geHiJxLdQOhpq76209N256D13kRnEfJulfvM1EHrvYGZSSMxY1RpthHpiKRI/KyHRCKRSMwuLDgWEolexhwPP/rYsFo6ZcrkMveUKXW47slTTivTvnlkmX7b7WWeA/Yvc++xW5lz4YWSNXURXvO04+lhhx1Wt/Y357zvvvvWhZjWJHRimNUr8T4N8NnPfra+Gm8tzzve8Y76ppfh3ezNzD5s1Hb44YfXzzdYPHvwwQfXNVSG0BOzB28e+sDqIYccUl91t+bjgx/8YLUZa3M6ob/eRPIZjqOOOqq+Gu+Z73rXu+raEdMn/WAz7N7bnr7Yb6ds62f4mt12262ugzEF1ApbB9gcNT4/AuK/853vrOujOqHP3rTzId0vfvGLdTsCa7De9773VTtqnl5MdAZIr41DfWpJPVgvtddee5W3vvWtdd3meE/9PX39jWXaQYeWp666ukyZulGZ58MHlMkrrmDhXvUFTwzp9fTpz/9UygxJ0VxDpGhSkqKeRLdJkU9rmPvm4Cx2zkZ7bMBYEU7OxYLNJEVjh26TIjaj8xA20y/rQxAcO2F7xdy+OxZp77fffjMkReL73pfvCjreddddKyG0wHg8SJF86bhZ4Nwvsu53aCN8QsYWEhaT77PPPkmKEuODbpMim4txdBxPOpyxBYPVaNhbKUnR2KHbpIjNsKFYXNtPMArA57B5b0GNhhTZIDVIEdmLP56kKD7Kmv5pfEFPyFyblKQoMW7oFinidL7yla/UjxnKQ6IzMNzvtd5PfvKTdXoySdHsoxukyLf1TDuZQmIzdqrud3j9H7nR2HltfDSkiK/o9EiRTQ99ff5b3/pW/SguUpToDtSvUTrTpfZdsodckqJER9ENUsTR+fSAXlh8ciDRGWho7HFiPUQ3HMogohukyNfOfRHdmhw2w277fcGxV875G+TG73Zy6wYpUr92uzciZ5pPHnJxd3fAX1l7Rk9sQGmLgfEeHU1SNMHQDVLEwVRlGurtJiHqPBCj2N8kMfvoBiliM0ZYhUFppPkWe+oIw/mZbpCi8E9GiJIQdR90w4h3t/bESlI0wdANUpRI9DO6QYomKrpBihKJZswKKcpWM5FIJBKJRGIISYoSiUQikUgkhpCkKJFIJBKJRGIISYoSMwULFwXrBawRyNDdEItJc0Fp7yLqp1399Wvo5UXM8pX+qTdCL+vJcMiF1n0MSteNV/Lvv//+cuedd9aN0vpN4QcNFqv6lIG9YnyVOxfXj4xuLLT21pndfe+55566jw4b6nd4I5LO2ZBvuE+VKGfr5o0WWr/73e/u2EJrPvGvf/1r/byIz+UMgqz7FXSCT6InthShJ+ONfPtsgqEbpIgiXXbZZeW0006rxCidTnfhMyubbLJJ2XLLLevOwl59TQyPbpAijTP7/MlPflIbaySp37HAAguUbbbZpmy88cb1dztf00qKlDtI0VJLLdURUmRPKD7x7LPPrvupDYKs+xW2EbHJJ9taf/31u/J2Z5KiCYZukCJOxu68X/rSl+rHLeUh0T289KUvLTvvvHNtaJZddtmu9Mb6Cd0gRXa01ok4/vjjq80Myo7WPvT5tre9rSy22GK1AWyFUWSk6Ljjjivf/e53a7l32WWX8p73vKdjpMjo9fnnn1++8Y1vlOuuuy53tO4i1C+fxDftsMMOdSPa8R7JTlI0wdAtUnTqqafWb59x8HYsXWmlleoweiecXOL50ND4MOctt9xSR+o0Rrvvvnv9vtAKK6yQpGgG6AYpim+fHX300fWDsL4c7gv5Gol+2ZTTqI9y+EyJaUBTtr59ZuRnuG+f0VVxgxQZxRkPUtT87TPTfKuvvvqwnyJJjC3UOfL7pz/9qe7ijjzvvffeZaeddqo6k6Qo0VF0ixTFB2E5SI3KnnvuWb/R1Y1t3CcaOB2fMTjjjDPKT3/60zJt2rQkRTOBbpIiH4TVkWCnGopVV1112PU4vQZ2L+86ROSmM8TXjPRB2F4gRTprH/rQh+oHle2snP6ps1DnRkYvuOCCctZZZ9VPwBhRzA/CJsYF3SZFvuXEsX/sYx8rU6dOrYvq0ul0FpyOUSKjDqeffnp55JFHasOUpGh06AVS5Ft2PvK7wQYb1JGMfiFFv/71r+uHVjV4GrteJ0XXXnttWWKJJcqhhx5aNttss76RdT9DnVvoTt+POeaYusax30jR+OYwMXDgZDg3vbAM4xM4Go1QOvj+RL/aTL/qnXy3K0+GzoTQk35FkqJEog+RhKi/EfXXj/XYr3lOm0mMBkmKEolEIpFIJIaQpCjRVZiDHiQMWnkSiURiIiFJUaLjQBS80mtheATnLHSzw69XOMdiE0hpSlt6FnX6PStoza/fMyI7rluMOpblSUxchA763y4kxg7k2SzrQYey8o/eXOWDU5+ejyRFiY7DGyF28r311lvrG2u33XZbfUPBPjveALJ3izizYpwM3AZtCInf9vC5/vrry29+85v6jJklRvLAWdh0Tn4FeX/44YerAxkOnn3vvfeWyy+/vD7fLsbDlcf5+ubDEHlKp5RoBV1iD/fdd1958MEHq57QJ/pFpx2nzowNyFFHxmdYZiRb5/mT8DfdrAPP5jvkRZ5mJi/8m+0KrrzyyqpjI/m1iYgkRYmOw3b7dsH2Wu4pp5xS969AHLwy67VyxAjpYNjNoRWt5/32SjoDt2cSQiQd6V5zzTXlgQceeI4UzSjNCOIjQfIovyeeeGINF110Ubnrrrue2yG3+R7QkLn+i1/8ou6kG6SoNZ7/HK+NzX77299W8pWN3PhCXQlk3msLcOVJg0s/fvSjH1WSTR/p+HnnnVf1mo5H/iPEvfE70O5ct9BLeQmwd3Z74YUX1s8X+a5jdFSaA5A54mRrgptvvrn6G+egNW6g+Xy70Byn9TfEcXMAedSppBfIMp0JNMdrRpznm/gzn0LRQeXT2sWfqEhSlOg4GK39lBAA3+qys6nN3xgno3QdMWDYHA0ywzlx/gyWA9Cbs99L9Oj0dtxj5MmeGOecc04d1WHc9sPw6QHPct9DDz1UNxSTrjRiak3aniFNeRD0zOXTXjacpXjSjQZJOtL0333iO/ZcZbIvit1zvXKNsDU/22/Plv+f//zn5aSTTqokSjrNTi3RWQShAPumCL1EjOic/X305I14aoQ12joSoWt0nz6xk9BBukXXwm7oFBujh4671fCFbD2f7INI9ALImm2SMfmSZdit4FrI1+jdDTfcUDtJCAXi6ry6CL/Ftsmc7NWHNPgc59WLoI4iREfOM8WXVhzzca0+xH/PdE5nku9DnPkQ97sn8u25jpUxfKt8uCbvfK+4rif+D0mKEh0Hh8xgfdbAztcbbbRR/Uq2PS0YpMAZGFGyCaUeMhKCODjHkE2xuea7Rq7pIelBazSuuOKKcumll1bnIK60OAHOw2Z5ekV2f3avtPXyOJvm5xmxEjhHzkQayJWdcJdccsna+HAinimO9GxiJ00Eyj0xnO3ZnJdGzUdAxZVn+TCiJR2jRPKNFDnH4fZSYzHICHIQjXUvESKQP3qkwaIrdJuuIvrsxh4wzofu0kM6qaGjT0Y8NJIaP0SermnYu9H4kW0z6QzZd4ugtQNZsz/+gl8w0ouECmSrw0WGbB9x0sFju3yP0RqdJgTlxz/+cQ1kroPlUxd82LnnnltHnsVRN+rMOX5BuvyEoDMm+M2nqGPP+tnPflYDXyM/8sdnqHP54Pf4R/lD2i6++OIaj++RXz7RLvh0w3n6JC7C1NxBSPwTSYoS4wIOWQ9ID5jhN68hYpiceBAIBswhcDDRIHA+Rm44GobNsThGXpCRCHppSI8pNM/hODgT/40qISackzQ5CenLE5LFmfgtHXnT+DRvWMd5IlmeLX1EidPy6QPH8u3Y82MqLRwq5yTfMUQvLc9BoNIxJdpBR4LO0k2jnquttlodhWQr7IR+2d2cTiHddExjGuTbNfrtfPNUTzfQa8SzFeyPfPgl8uYzkBNyRI74IvatTths2C7yox6QFj7APeIjJ/wAm7d0QB05RmB0vqTPLyBUzqkn6fNZjvkR9cdXSUPa4qp39ctPNfs++eLTXJMfZUDIxEfenOO3kCe+FOF2X+KFGJkUpZ9OjBE4EMZ41VVXVaNHGhADzghhco1D0XtZZZVV6gcz/eZIYnpJPP/dq7fkuumqBRZYoH5qwD0+tsngEQ8EyQiOBmGRRRYpyy23XE1Dj5pT4XT0ojQ4nDbyIy3fcPMcTkZeETGjXNLwbM7LKNL6669fpwI5IGRJzzwWx3Ku8i0viy++eB1tQgrd6zk+wyL4zIQyRB4SiQBdNXJBb+hG6EiMINAlekbH2Yl4PmWhoUaEBCMC7jEqO96fWOhHIAps1kgvX8BnkB9fwd8suOCCdZqcL2DTyAhyg7ySv/v4F36Cb0FyTKUjtD5tIr7z/Al/5dMy7uOvYrSKH+FDYkrO+fBv8oIc+c/3yKN0kWXp8kV8Kd8nTflChBAjeiKuTzO5jx9KvBBpJYlxAQPkADgSUwDzzz//c0aphxZz576fhkQgCsgJJ8H5M2rkBJGKxsJ/JEhj4T+H5R7pxeiL4LqpB+lKn2PSy5IW58OJSWvFFVescXw/zP2ckufL8xZbbFG/LSaeNDmk1772tdW5SUt+grjFs0F+ODRfizbq5JmcpDy5hhhxsq5xdIlEgB7SWw0wPdUwa+j8julaZId+vf71r6//l1122Xqfhhpxoo8I/Etf+tIkRaNA+AzkEtFg++wzOnD8h2u+/caHsXVEiA9QF+qKf2PX/BubdvyGN7yhfpsy7vXlflPz4ounngQ+JEaAwo/wE/LCJ/JzrrsnfMgrXvGKWr/O81nSkU/x5Z8+IHTyxw/xW/LOD01kVA/dZuBnZCtJH50YI2j0GShH4EOYHDgj5TQExu2Ys9cTFhAN5zQEer16VI4Zc5CPmN4S1yiNXpXzAWmLHyGIWAw5c2iexWlwfuJwRNJFkKx/2n777cvGG29cjzkljksPUCOlRyhPnIz/rfA856WnUZK2/1EGvTtlDqebSATojZ79OuusU/VFx4DO0W8NnUYROUeIEHoNnt8aWkTf6JHGErFiX0m6RwdyarZbv51jn36zXyMxbJcvQHTIV6dMfSGmiKjz4qsDHUJExbE0+QvBOc/R+TIyrc74O+lCkC7XYmRbunEfH4Ik61CCc/TC8+mCkWj1j4hFBzNGtSf89Fn1ty/0udl1GBAwWIaEFDAQDW0nAgNlXIxxtODAOQVOQ9CL4kQE5zkHvZc11lijpmsBqWkrxr3SSitVJ8P5IzHyEPdJV1rICsKkZ8xpcBgIjuucASLjN2fkmJPinMAzDCVrdMzbI18IinT18PTuOBf5lk/D6Rodw9LWBRiqlm/5lCfBMzzPczybo3Lst3MCUig9jZfhcE42SdH4grw1DGTfSZuRdtjMaOpYA0xf6Aeis95669WRBWkg4XSTvtFn+meKzCiBYyOXGmZpaFDdz3boYLdJkfyw4Zhmaier2Q3SVZ/qdbT2RDZsM+yW/2j2GeyVP+F3+Aq+SicKSUGQ+ATXkRl1YbTG+fBT0uVfnPNbvbombdeXXnrp+iyEiD8QN/yGMigT32ZdkHo2Yo3o8CGe6x7Bb2nxbfREx40v47vkEZlCrK2vBPnwXPlK/B/mePjRx4bVnClTJpe5hipu0pDQnjzltDLtm0eW6bfdXuY5YP8y9x67lTkXXogFPxs7Md7gZBnLYYcdVhf6GUY1CsMANPadcIKead7aYkIEBCH45Cc/WTbbbLPqTNo9k7EzRL0X8+LyyXAtRrQAkXHr6XIqejGcgOuGjJESTsK8OEN3nqF7lsYCQfG2R/SKpWPESBxkRo9Io4RYucdaJGXgcCx45DzXXHPNeo/1TkaGDHXLi8bE/DvHpVzus05Ivk3lcYzS1BuTvnvUh3wrkzzJh/Tdi3SpF3nUwDlWVsfkwknNyEFxkgjZUUcdVX7wgx/UBma33XYr++yzT3WWnFxieKhvhPvQQw+ti1jp4iabbFLrT0PVCahrjZE1c/TMWrT//M//rHrW7pl0BlGmq/JHv4wGsA26qFF2HGRaY4fAq3/6pfE88sgjq87uueeetXwa2dnxBzpc7OyII46onQHP2Xfffavu0fXoZDSDrlrfdPzxx5djjz222of1guxWQ92JxhhpYJ8WGVs3iCAefvjhZfPNN69yagV9MHoStqks7iNffpS8XWNn1gWRo/TdowzSR/SQEqQM0dFJU2fqxr0IDD9CRhbCk8laa61V6xFRNArEpxrtDvtFbqX1wx/+sJIb+kkX5AdBVt98mzpBwqTF75Cx9Oic8sifa/JPn/gbOkdO/nsbWJyx8hvqXL6+//3vVx1Uhr322qu89a1vrf5/vAnY09ffWKYddGh56qqry5SpG5V5PnxAmbziCobwq04/ORSmP/N8CpSkqI/RTIq8dcDAGU30TDoBRsx4ESLP1+DPiBTF6BXDQ1yi18qYw0j1cuSf8SIb0asSP+JyMpE+B+Mejs5597nGaWlUGCen4Dfllzf3iKsMHM13v/vd6vw4BQ6Ns9pqq63KG9/4xpqu/EqPYQfkUXk8T9qRd/HlWzn9dj6e5br8kJs8SDOOOVTljOe0k18z3JekaNbRTIqQBzps5IWetWvYxwKeQS/oOl1EhkYiRXSGjtF5tkI/5Dv0x7E4rtM5ti7/dJxO6iCddtpptTHedddda+MundnBWJAiHQl55KPo6Yx0fVYQ/olda/h1jEYiRfJIhiFb9cEmw2ewSdfIn42So7ph266pC3AOEVEm59yr3t3rueHHHMuXtMgQHIc/kQfx/Cc7Ni7tqVOn1rLoOAnSFN997peWIJ/y5lzohfMhF2WLtsFzIh9jRVbIM0lRBxQ7MTo0kyIjN4yBolM8/zsBSs/ABMY1GlLkHnmNfEWc5vOC40g/4oURxTOb04/0Ip24B5xrTjOuxTESZI8Pvao4r3HUC7P2ifOLfLVC3MhPxIk0msvpOjiO58YxxLnImzAjiJ+kaNbRTIpM02rImuuwE1BnoS9gNHIkUgTuadYlaNYniHSb9Ud5jAgYzTBiYSQXCYl7ZhVjQYqs3Wu2906gVdZGbEYiRdAqR8dCHLeTuwCtdQHORTrOxTHEve3OCQG/kQuj13TWSDKSqwzN6Qutz3DsvGPnAxG/Gc33jQWkn6RoDAWamDlwMM3TZxyVtQac4XAOYHZB6Q3bc5B6HqOZPutFcDQIhcA4OHW9KqM6nerFjgXIP0nRrKOZFJk+o7OmNtjM7I6mDAe9dutPTAEj46a4Z0SKZhXKxy51kIxY0GkN0+xiLEiR3zHNZ7SjEzam/Do63r4zmm2NzYxIUS+C7IwEGWH024gO224n516CvCYpSlLUNTSTInPoHA4nxdl2yul4JqdI4TkfIyv9SIpAj6q1VzXeRjuzkNckRbOOZlJkPZup03e9613VZhCITkAd2VxRfRkt8TZZp0gR/YgQOj0WGAtSpIHfZpttys4771xfF+9EA28qzFICz7Omz3qafiRF0FyX6rEffKu89jsp6u0WIDFqMBgNosV/HA6CxOGPdeBkYhFgPxGgdmCgpgCVxf9eJ0SJsUXYjAX1pkw7ZTPS9taSZ3XaZqRPjxGOXtFn+Yhg9Mo0ED/STlazG8iafxoPWXcazXXZ72XpJ2QrMEBgOAIj6mRgqGmkiX5H2Es02O10fayC9CcqWv1FJ32Uzo3/UbeJxMwiSVGiL2BY1hy7N27iTR7/DZebAkskBgV03dB+q65bRG36z/V+wUQhJlFn1nI115lj5/upziY6khQl+gIaAx9n9Krxd77znXLccceVE044oe5/5JXVdDqJQUA0rl5ft0cNXbc+5uSTT65vS3rV3Lq+RG9Bndjmw0etv/vd79Y6+973vldfgLE3Ff+V6A8kKUr0BYIUWbDqdWM9MOeMEnFIRpG85SP4rWGJY8GxeP7bq8MIk3ix0FpajiMdx0m0Et0A3UOKbLPhlWxvUdFL+ktfQ0cFv8WPY4GOixfn6br/juN8cxqOU9dnD+rGpo9eeLGQ3wJzMg7/1OqPyLz5XNRvc53xU1FnrjXXmXuzzjqDJEWJvgAHYETIkLSFml5r3nTTTes+JK553dmbeN4oiq9Wx7HgWI8NsbKz8KWXXlp3l7VLtmkJn0twrDfuuvOcUCIx3qDPGkXE3x5Dtr3YcMMN6yaMYGdremrzSbpuiwwjps7ZZsB1O6/bZZlOO0enxUOw4jy7cE/q+uxDnSErpjy9mWfnbt9LtN2DY1syqAN1wS+pg/BZSFR83V4dqRv+Sd24j89Dsrz9J640+LMcIe8MkhQl+gYcgF6TVz5tB8BROLb3y9lnn12+9a1vPTdkzXl4Ffib3/xmOfHEE6uTsVmfeF7Z9dsr0hdccEEd9uaITMkdc8wx5ayzzqrkScOUTifRLRglsDbF97ToukYQsT/nnHPKt7/97TpNYzRJY0vHbdNw0kknVV03wkTXzz333GoPdFpAnui+e+n6GWeckbo+hjCiY58oRDO+g6YO+Rx1ZjpU/akHWxuoAz6LH1JPpkzVmfjq5swzz6yESXzxpGEqFUGy1QP/lxhbJClK9BU0FBoIe5DoVcWnDvS8OCGv43rdl7Nw3RoM30ezR4nvT/lmkX1VfMfIfYa7OTA9a70vTs2Gb17THotN7xK9B28n6b3bEM/eWr26vQRd1wGgx/Y3Qv41uDoEiLxvYXkFna67bkTBJpRGlxAdjSm9t3+V/6adffCYrUhT+uLbxiM+/ZCYPfAfSBAZG+VRf0b8+Cbn1IOtH/xHcPkdeqjO+CZ15JpvPtJR9SUYRVKn0ua/BHtc5Rt2Y48kRYm+gl2HfUB1iy22qMPTSFC87sxR2ETSBzc1GBo7BMm3zDQenJNzviFkeNu9phMQKw0LJ+NDjeKLk05n8KA+6ca6665btt566zothTT3IgG21469d+i5T4PYfyz237ERnvOh60iNhpRdmGYzJWw6xz10HfnRYCNOOgN026cjfFPLM1LXxwb0iB+yMafpfX4EuQHEJ6b9fbyVL/PfOdNs/Jg6evWrX12P+Sxrh5BhdaaOLRdwvzqN76klxhZJihJ9BY7Dbt2cSfRwDftzDpwEouM6h2NEwDnxOCQNirUTett6XEgShxUNDYcmruD8RN5bZlChTunO9ttvX/bee++y00471ZFB+tJrDQz9NYqAANHJIC6CES7f6qPr9FZcOk7/4wPFiD5djxEmoOtsRnnFt6mktNyfmH1E3RhpFmKXfz5KnZB3bOQZI5bqFrFVv+pMJ02dmR5zr/PqTD2rW/HphWPXE2OL9PqJvoEGDakxv26u3ZogC02tteAcXPc/guM4pwHQa9MTu/jii+v9hrZ9Ky5Gm5rvTQwm1K1dlY2OGCmJL49rdHoN3j6yaNobl9aXWJSLzEcnQGjWW42sY+UzQqoBNYVmnYqpF42x0QcdBXGb70+MDUxJmibzar7tQyyGv//++6vfaa2vOBbUiTrz3wd9rTtS93yT6TYkKOo37k10BkmKEn0BDoFDN42gp29qQO/XsLJGwHSIqa9o4LyhZnrBt9k4FD0xQ9pCjBr5BtWWW25Zh6sNS8cUhV50YnChYdHLpgMxotgrjYx8hP7SaaRNfo1qIkl0ee211666q8FUDtN/pgFNnxmZEMcba6bSkD/24ZppYfYgiG+ELKfNxgZ0SH3wQdZw0SudNdOY9MwaRr6H71Jn/JQpMnVh5IdPEsfUmDpDjqSjDsUzJcqfIfKuZZ11DkmKEn0BjsSozu67714/4Pn2t7+97LjjjvUcUvOmN72pfvSRgxGXYzE1Ys2EaQZD1xqYrbbaqp53/w477FAdDgelEXnLW95SGw9OLJ1OolsI/X3b295W9txzz7LrrrtWXV1zzTXLsssuW3Xdeih6r/E1wvDmN7+5EiWEyDnrWjSw0vABVrqtURZXPOlphDvdwEo7ghEu00ODCKTIui3Tsu9+97vrh3LViTVfyCdy49ioD//CT+mEWQOpHk2jqTP+KurMR1TVmfMIUtQhAoUoJzqDlGyiL8AJcAYcDOLCSeg9mbfn2DkWvTDkR1znjProRXNCnJZesWOjQgJnI55GyEiS+AiSuIlEt0B/TX0hMPRcoK/0mw3QWyNJsRYIEaK7GlqEyP3R8GqEESnX6XisYZGGY/E73QGQn3gGYiQMGpTRiBy58kvhnxyrM/WFNKkrI4H8lLVi/FHUY2udGRlXR87TB/cbjRqPOpvISFKU6BtwBJwHpxIhHK7/8TuOxY1zcX+cb763+XzETSS6CXrYTtdDT5t1NeK6FmjW6eb4zeeb43cSkc9BR9RDc52FnEPmIYvmemh3LoJzzef9j/iJziBJUSKRSCQSicQQkhQlEolEomPIkY1EP2GOhx99bNgJ3ilTJpe5pkwpk+acszx5ymll2jePLNNvu73Mc8D+Ze49ditzLrwQjX82dmK84TVPr+kedthhdet+a2323XffupjY4mJDrWMNm4l5Ff6zn/1s3VXanPl2222XC5THCdZj2AnXTtzq3ivAFp/vs88+dR2DOkj0Fuw549MMPsPhNWtrQyx0tvDf+pB+AD3zkVqfn/DKuLUufI0FxXyAqZ1W0FU7Np9yyim17DZKtVh4v/32q+ttrOUba3jjyxYEX/ziF+t2BPJp0bINX/tF1v0Mde6tYJ+esR0B+dsPzKJxa6g60SaNhKevv7FMO+jQ8tRVV5cpUzcq83z4gDJ5xRWsjK9t2ZNDYfozz6dAI5OiyTb5SlLUq+g2KfJBQ44tNoAbb4WfqLBXk/1qOB8LNvfYY48kRT2MZlLEZthJ2Ey/dCI0drYEUBbbA1g4jNz0OimSBy9jWASdHbbxAQJt40l64i1KvqknSdFQPp98Eil6/huRI5KiyZMnlbmn2McjSVEvopukyDN9pyc2JUuHM77g7AXOPklRbyNI0dFHH11txh5b/Woz8Uo9ItQPpEgHIv3T+EPdW2iunnuVFCFvTxgpmj4TpGgKUvTsK55JinoP3SBFFMnXnTk5H5Uc1H1H+gVGG+yNYopAryynCHoPvjdmV2o7HLMZDXW/QwNn/yRT5373CimyWaKvzR933HF1el8nLtEdIEW2leCbbJJru4HxJqdjT4qmTC5zDylukqLeRDdIERJkTYut7A2PcnyJ7oHjsX+N3rpRo/HuiSVmDA3zPffcU+66665qM4PQkTBta21U7A3WrrHrBinS0PmshvVP8aHnRHfAF9kXi54gzt0Yxe4IKcqF1r2LbpAi4GjS2fQONEjqOqcIeheDaDN0biQf0w1SBOmfegsz0pNOYlZIUXYrEzMNCh6bk2XofjB1kYSotzGINjOrDV2nR5fTP/VW6BYhmlUkKUokEonEuMAIDlKU0+6JXkWSokQikUh0BEYwY3oXEQpSlEj0KnJNUR+jm2uKvFZsTjYd3KzBlJc3xQwv59RXYhDBN1hHFHs0eUFjxx13LPvvv3/dPqJTb0p6Lv9kgXv6p86BD7PIvt2bh72CXGg9wdAtUmTTwN/85jf1DQ+vF6fjmTkgQd7aWXnlletbGfkafWIQEaTIQusjjzxy3EiR1/J/+9vflttuu61uOJn+qTOwKeY666xT//fquqEkRRMM3SJFXi3+1re+VX76059WgpROZ+agXtZbb73yzne+s6y55pr1tdUcLUoMGrpFiryS73n2U7Pze/qnzmCVVVYp//7v/15WX331OuLdi8i3zxLjAsPS9957b92I7pZbbqm/kSM9tAzDBw2E/Z1+//vflz//+c8Ds2dNItFL0NjZCsBI0R/+8IfaifPZiXY2mWH0gb9COPkwcr3zzjvLtGnTBo505khRH6NbI0W33357Ofjgg8uZZ55Z5+7XWmutsvbaa9eP/+WIR3uYZvQhTR9JRI423XTT8qEPfahsvPHG+V2mxECiWyNFNso89NBD63ORIX6RnfXyNE8/ADEyLanNeeCBB6rP9w3M9ddfv2N7Ts0ucvpsgqEXSBHH5/tHvtRuV+V0Oi8EGelRnXPOOXXaUU9r6tSpSYoSA41eIEW+hbbFFlvUZy677LI9vSi412Eq8owzzijf//736yicqf8kRUmKegq9QIo05nvvvXcNSy65ZJKiNtA46GX5kO4XvvCFOvS8ySabJClKDDR6gRSxO98G/NjHPlZWXHHFJEWzgQcffLCceOKJ9cPGlgCsscYaA0mKsgVLzDY06MhQhuEDGUVIJBLji/RRYxMmgv9KUpRIJBKJRCIxhCRFiUQikRg3mFZLJHoVSYoSiUQi0RHEdEtMHSNESYoSvYwkRYlxRTjFTjlG6dr7x15KgsV08T+dcSIx/rC4OchRr34QNvI0XnnzDC/K8Euj/R5c5M09cV9i7JGkKDEuYMCPPvpofR3dJ0Kuueaa+gbD3/72t0paxgIchlffr7/++vrmyUknnVR+9KMfFd9euvDCC+ubMOlIEonxRYwSBUZDAMYL8mIPMW/G2UfsqquueoFvGuv8Ss9mt5513nnnlZtuumnUmyA+9NBD9UsCp512Wt08V94TY4skRYmOAxHhdH784x+X448/vhq019N9JNK+F/ENteYek//twnBxnNfzQnwuvvji6jiki4QhRpdddlndZyPuj3v8j7Sar410PZFIDA501hAUr5sLJ5xwQt1CAGG5++67nxtlbucTRgqt/qQ52PTWlwDs98NnxTOa72n3DPfZEgVp48/4vLg20r2t1xLDI0lRouPQC7r00kvLD3/4w2rUvpnjQ4IM2rmf/OQntddzxx13VAeBILkHkbJzqt92prWtPJLjnHQEW/hzXP4LnIUeny3pfWx1/vnnrxu4cXwx7MyZeJa0OKbYwl46nu8jknpkjvUWPd8eHfE5E/lOJBKDAX7EZ3eQDV9997FmvkZn6uabb66+gc9wTkcrfBK/4nMi/ITgPD/Bbwn8ET/jvPsdew5fZl+fxRdfvO6dZKdtpIXvEV9a/Ix8iese56XhPptQ8qELLrhgzT/f5h759wz38qHulQ9+qzmNsRqZH1RM+uSBB/73s79fgEmT5qzzwXPOMUeZfsNN5emrf10af3+oTFl37TJ5lZXLHC+Z19jos7ET4w2s30Zlv/zlL6vCMxKf3Fh66aU7+pFRhMFmkRyGZ9jZVEBA2j2T4zj99NOr0dtd1oaFyyyzTDXOyy+/vDodZbn66qur0b785S+vRm7Ky7d2kBRTbj//+c/LlVdeWcvKeTF8I016ea4jVrahN/zNIdjAUjy9MXnjSDgQeRc8Txk4mhiW5kTI7oYbbig/+9nPqoOxP4c0f/3rX9e48uf/zMhXWW+88cZaXo7TRpc+CrvEEkvUTew6VVeJRDeBPJgeYj9sj93zUYhApz4i6jk6YWyY3SERG264YVlooYWqLbdCfFPufCmSYhNcPgaZYKdzzz13ueKKK6o/4AMQDPaqw+Q5/K+OGLvm65T1d7/7XY3LXyFSgt+u6YTNM888NR1B+vyPdARxpc/v2ZzXc6XvmK+QV+RHpw+Z4scuuuiiGlenkD8lW9+l9FkhefFc1z2HL5x33nlneiNLdSkfyqWsiyyySPXnvmTQq5tiPnP/A+XpSy4tz9x9T5m05BJlyvrrljkXGiKTQ3pAdtOfHUFrRo4UJToOBoTczDfffNWQ/H/Zy15WXvva15aXvvSl1VCRoWuvvbY6GUSFESM7dn9Gjs4666zqXDkrw9oxusSJGG1irJyb3aGljbhwgow/HKF8mFpDiDgYhsxRIGycCULlOqfDgV1wwQXVqciX6TdOVu8wkUgMHmIUWccIsUBckCr+4uyzz66+yOiyZQA6UPwEsoSQ+G1ECMnhO/gSHTMEhx/RaZMmP+VeHTVp8Sn+u87HuB/5EJdPQoh0pnTOYsTbPYiQ+zyLL9SJBOk65tf4LR1JeeFjpefazKxhmohIUpToODgbU05IiKAXJPiNsPhvlEvQ02LEnIf7XAsHooflGKHhuDgdzkMaeoI+b7LBBhvU0ReEa+WVV67ESK9JrwAx4xgcG6XRy3EdCeNwjCp5DgfHmXFAns1h6ZkhcD56O7OjRIlEoreBICAe0SFyvNpqq9UOHBJhasp0FrtHKBAg/sdvIy+WAxgBi49i6/w5ft3rXlf9kxGnN7zhDfU8H2fUnM/h0xAvz/NfeuEr3ec8f+cav+NckCYEDlHz3wjXZpttVpZaaqk6gqXz6BnSN6K07rrrVr/oGj+oLIn2SFKU6DiM1ggMWY+FUXMIiIb/RnXMryMxMRxs6Nd5Bs3JcAYcznLLLVe/G7b66qtXZ+S8aTJTY76nhFiZ/tLLM2pkaDoIjOk2DsY597pPPE7IPRyY63pY8iVP8mz4WZ5f/epX1zx0atg/kUh0D3wJf6BDtcMOO5TtttuuLLbYYpWQICk6UKbWdMBWXXXV6kP4ElOBzvMfOk7OxUi1OPyQONJyzMfxM/wO0iP+61//+krC+BYdQp03I96+RI9I6Zzxi6b4gkTpNPJLgLx5pmcph7Q9R3rOS8Oz+UL3uT/RHkmKBgih6Iyh02FmjGqBBRao8/ocgWkxPTHTUoalOZuVVlqp9qSQGgas96NHg5RwNBY+chACkiSueWwOgNGbZzfKoyclPYYfATgJQXyOQdp6hIaYrRuQJofl+a7rFbpX78s9HBHHJT/yIK1EIjHz4DeEdj5lLMPMNvrsnW3zRZtvvnkNiA5ig9AgO3xB+B/+wjGf0+x/wtfESE/85qfi2LNCDuGj3Iu4eJYOWbzU4bl8nbg6kXwXwuO+IF+OkShrfYxwyw+fq6Pn2c15cV88M9EeudC6j8FQYqE1Y2AECASjiLlxxjXWQa/F/LepJvoxo4XWQVz0cGLYVzp6OUaHjPzEgkYjSYLjqVOn1oWZzocjCHAgHIY3QjgAPSqjRIaLDU/LC6fmHsfiG00iI3E4HvmQN8Pa8s8pcjryyTn6CrTycbLy6WvQnKJ7ZhbSzIXWiYkGNh4Lrdmb0VlEw6itaZxW3zIWQaeGfzLazHZntNBaZ01exGX3OkMxTR7x2W/AOT4HEeJHYgTbf0RG4G+QGWkbmZEHhMe0G1t3LH2+RGeLn3FNevwav4fwkJn0PNNokueIw4/xWfyR9J0z3Q/u5a+kLd86lp7hurj8otEw+Z8Zv6MuJ8JC6zkefvSxYSn1lClDjdlQxU0aSuDJU04r0755ZJl+2+1lngP2L3PvsVuZc+GFkhR1EYiC0Y7DDjusLsjTuDIcykrhOwXEhnFYFMiA99lnnxo09O2cDuVzDwKHoDAuiqinJa+CYWvz3IiW4BrHwdG417PMkUvLMxm5MsqHZ8YoEwfCKYL8cApInLgICGesx4V4SctzOAiEyjU9LmSSA+VwOCrHrpPtrIwUKSunZW+mL3zhC/UZiOCHPvSh+iaePCQpSgwa6L3G075k3/72tytJQQzYEVudWTsaLfgXI8HW1WisTYV9/OMfr4SntfGWR/F1rvgXNq9jyR+xSSQCMdHp1GFyzlSVcsg/3yBN/ohfUl6Lntk04uRe52LqTJ6CNHku3yaedBEzxzqB4cP5H88FeUMq+UIdO+uHxJUH8eQVWZI3ftN90vSbP4u1TJYByM/MthHKYQ8n+8vxYTqNn/3sZ2tnEcHrRTx9/Y1l2kGHlqeuurpMmbpRmefDB5TJK65gxKfK64mh9mH69Odv6DsyKao9/CRFvYpmUuQNCIZCOYVONrLIhB4QwsG5vfe97x2RFAHnQwkRD/9BPhE5TkV+xXEdOZIOo3XNec9yzbP1gDgD93AsEHHJRDwQR3zH4jqGSAua8yCuZ8ufZwh+x3HEm1nIf5KixEQDvdeQersTKfLWlHOzakejhWfwT2wcudlxxx2HJUUQPoLvYOd8QrMfi+vhMyKO5/ANbNextPkW59wvnjQdK7Nz0pCe+P4L4kVa4ktHfOlKT3BvyI2Pch9/5nz4POfi3ua8SN+x35EXz59ZnzOQpOjJIVI0JLdmdIaqJ7oCRmJEw3CmUREkpRMh5tObHceMEI7Dgms9LUGvhsGGcfqvDEZjpB/XPMd5PTH3SSMMXbzmuP5LV3A9nhnHAgLlGQKn6Rx4jmPP8d+9zccRL5FIjA5hv/6zH7ZoxMPISjvfMhbBSAibHa29yh+fIG9BNJoR18Nn8CV8A3LhN98Q/ifOie+c9KQrvvyI61g8ccT1O+JJP+K7X3zn+DjxpOEex5Gm846b75XnSNN/aXlepCOvEx1DPNTf+rsZOX3Wx9BDiJEi++sgRG984xvrfDLl7xQMwdo3yNsQDG1G02cTHXqBOVKUmGig96aPYqTINLbRGq+OI0Ua6k7Aq/L2FfJCBx850vRZYvQYtJGiOmMwFKY/83wKlKSoj9FMirzJZSfr97znPdXpdHLO3rz45z//+XLuuefWZyQpGhlJihITEa2kyLodnbY999yzEhQjGJ2ANTZf+tKX6m73pte33377JEVjgIlCirIFGyDoeRlaNYxqUV+ngimsHIJNJBIzg5he0glo51fGKvB/6Z8Ss4okRX0MRq+35c0C64i8scDhIEeudSokEonErCJ8SKtfGcuQSMwqkhT1MRi/Rc+77LJL+cQnPlH22muv5/biGTTHEG9nGI73Sr1XZL16b0jeK66mEhOJRKJb8PaXvYBsPRL+yevztv/guxL9gSRFfQzExx4Uvmvzpje9qWy00UZ1xMjo0SD2ljiXM888sxx00EF1HdXXv/718p3vfKfuSeIVXMQpkUgkugHrBq3ttJ6Jf/rKV75SjjvuuOc+Bos0JXofSYr6HLGOyCuo8TrmoA4fWzTp462+TWbtQOykbfpQTwxp0lMzcsRBcUTORbCPk8V1rtnsLD6YaJRJ8NaKeO4X7P2RRCuRSIwG/IWRISNE3sq1sNv3zGwGCfxLs4/hnxyHv+Hf+DH/bbzIP4kT+w3xbe6NNLIj2BkkKUr0FfS2ED9b13v7wZeobUVgY7hvfetb5Zvf/Gb5xje+Uc4555xywQUXlCOPPLIcfvjh5atf/WrdtsD2/0aXPvOZz5SDDz64HHvssfVVYTu/GoWShh7e9773vfoNttiwLZFIJGYEJMVIvS0HfDTWh6vtMG2a/7vf/W758pe/XN9APemkk6q/8SbX1772teqn+KerrrqqnHzyydVn8U+u//a3v61LBrzte8QRR5TPfe5zdZQ8PlSdxGhskaQo0XfQe7IHyQ9/+MP6X6+K07Crt9dwfZvHN5CMKv34xz+u55EmTsT+JfZXsnWAESPxkSdOy/lTTz21xtfj43ByyDuRSIwW/IVRHFNmfI9vHdoigD8ytcZn8U/8jW8hnn/++TXwT47PO++86n9iJMh3LaXDl7mP//JJJ59Cyim5ziBJUaIvYYqweZrQ8LIpMDt5b7vttnVazW6wXs3VW3PO3k3Ikx1vbei2zTbb1FEnH6v0XSCjQqYjfSB2yy23rGn16v4biUS/wsjGoI5uhE8K/xT7tsUUvREk6z/tT2YJAP/iu432lrM+1CJtU2+bbrpp3V/Jt87sC8c/6cSFf3rLW95SP/yaWw+MPZIUJfoO1k6ZNkNqLDLnXDgGw9a+Iu3r86bXrLVChMzt+4o+BwOcj7f2zPXbwoCzQYikYX2SuIa+xcvN3hKJ2UM02ogQYjDI0z3Kah83bwFvvvnm1ReZPkN+EBgb7PJZ/JR4/JOv8uu48U9kwyfZXkXnzZ5LRoPi7TU+SYePj/K5lOy0jT2SFCX6CnpeHA9HwcFaKO0DiZyJXhTCFAvO47tAyJGAPHE4FjDeeuutdS2Re/XeOCjxESv3663Ffk+JRGLWETYbGOQpH+UM/2SBtCn4Zv/Er/BF/Eyzf+Jz+CAvzOikWaxtTaPfcZ5Pc5/4zd9bS4wtkhQl+gacgpEcC6s5DQsTf/7zn9cpMU7CdgQLLLBAjcdh6IUZDUKGOJPXvva1tZfFWVmL5FV+9xiq1isT1zEHlZ8rSSRmH0ESJkLjjeTwOUZ3TINZT3TppZfW6S/+xOg0/8UXtfonZMl0vZdHEKCbbrqprkvii4wixYdu+aeZ+dhtYuaRnj/RNzDKs8EGG5SddtqpTm8ZPjbkzEmYX99uu+2qAxEPSTIs7VtLhqqd44AcG9Zefvnl6xTc29/+9rLOOuvUa75HtvXWW1fHw2klEonEaBGv4VuPyLfwI+GfEB7n+RpkiH+ylogv4qcQKf7MWiPLAnTeECS/N9xww7ocwP+tttqqEiQdvxwl6gySFCX6AhwAR7LyyitXx7DFFltUEoMkcT6cht+vf/3razzD0jEyxCE5JzjnA4ZTp06tI0Tm5o0uIU2Ilvl+vbnsiSUSiZmBESB+CLHhn/gYa4r4Hz4KIUKEkCRxkRvkyX+Eyjnx+CC+KfyTESajSXyfa9YbIUWJziBJUaJvgKgYTrbYEJExjaYnFnPselt+G6oW1zkOiMOJdQ3IknPu02MTX1wBMZJG9sISicTMIjpu/Eqzf4o1inyL30ahm/2T/+Gf+B5+SBr8nN+xHMC90kCe0j91DkmKEn0FzqA1BJp/B4Y713ovtIubSCQSM4Nm/9LsU9r5l3bnoPXewHDxE2OHJEWJMYM3LDK8MCQSie6jnW1mmLkwETDHw48+NmxJp0yZXOaaMqVMmnPO8uQpp5Vp3zyyTL/t9jLPAfuXuffYrcy58EKo67OxExMF3vyyBb1t6hnKHnvsUYP58Hxrqz1sHWA3W9v02wrAeqgPfehDdf2BIfLsASYGDXyDnZnPOuus+vkdX4632Hjfffeti4hNG3UC3vw69NBDyymnnFJfabcG8f3vf39Zdtll67RVYtbw97//vZx22mnlhBNOqD5MHX72s5+tazR7dY3T09ffWKYddGh56qqry5SpG5V5PnxAmbziCtZi1LeQnxwK0595PgVKUpSYaTSTIlvR++ihBc3208jGvT0YoG38vabrsyQWUSYpSgwyeoEU+Xiqly/sAm2NT9rZrIOv9zFuWwU8+OCDdRF4kqIkRYkhNJMiTscCQA17vsY+PDQQRot8Ddumk7b1T1KUGGT0AinSeMci515tuPsFNqQ08uaba3bY9iZckqIkRYkhIEWHHHJI/ZiqIVXIRn3G0EgIphjtl/TBD34wSVFiYNFNUvSZz3ymfm3+gQceqOfSvsYG4cPAdgNJipIUJYbg44S+Jm9XaD2HMJLE6MBB+zaSj9Tat0TjkE47MWjgF4wk+7K7tXQ6UzYr3G+//Z4jRZ3Qe9PTp59+et1N+tFHH03/1CGYlnzXu97V02u1khQlxgU+nnr//fc/NxWUmHkYHYo9THLxZ2IQEaTonHPOKd/4xjfKH//4xzptjBTZtLBTpEhjZ4TIs+NDqomxhz3e7MLtf6926pIUJcYN2fuafeToUGKQEaTo3HPPLV//+tfHjRRB+qfOox/816yQopHfn069SgwDBpFh9kIikegM2tlbhrENg4oRSVEDK0pilEgkEok+gBEiU/pPPPFEmTZtWoYOBa/nm5rs5xG5fxK7F5K7kafPJk+q34rK6bNEIpFIzAy6MX2mofYiiGd5ttfIE2MPdbfUUkvVj9X6FluvYqTpM7ryhOmz6c/XkVxTlEgkEokxRzdIkVGMn//85+V73/te+f3vf1/XjSTGHgsvvHB55zvfWXcL98JIr06nJSlKJBKJRE+gG6TIFiE+p/PFL36x/O53v6vTaL3aYPcjYrrs1a9+dfnIRz5Sdtlll7LQQgv17OedkhQlEolEoifQC6RI+osvvnj9BFF+l3HWoS7tZH3vvffWrVgWWWSRJEVJihKJRCIxWvQCKVpggQXKe97znvp9RutjE7MGBOKWW26pm2L6/pkps3//939PUpSkKJFIJBKjQS+QoiWWWKJ8+tOfrh9g9g20nEqbNdiw95prrilf+tKXysUXX1zmn3/+gSVFOZ6YSCQSiYEDAiR4O8quywIilmHmA9mR40TYfT9JUSKRSCQ6giAmMZJg9ChCItGLSFKUSCQSiY4gSJEA9g1KQpToZSQpSiQSiUTHEIQokegHJClKJBKJxIRE83Reu2Axrg0gx3Jn7HbPiZDoPpIUJRKJRGLCAQnxVtWDDz5Y7rzzznL77bfXN+T8v+OOO8o999xTXz//xS9+Ue66664x2R07yI9vh/31r38tf/7zn2v429/+VjeaHIkYxb1CTkN2DkmKEolEIjHhgFQgI5dcckk55phjyhe+8IVy+OGH1/9HHnlkufDCC8tFF11UtxRAlpCi2SEiQWjimccee2zdquAb3/hGOeGEE8qvfvWrStB80HY4IE433nhj+eUvf1nJFFKXGFskKUokEonEhIO1TvPOO29Zeumly7LLLlv3OLJBof2MVl555bL88suX9ddfv37fa8kllyyTJ0+uIzQC4mJqzf/mECM4Qms85+zb5NtsJ598ciVaiy66aFlwwQUr0bG/kpGpRx99tN4TaUU6/ttVGqE65ZRTyvXXX18ef/zxej4xdkhSlEgkEokJB6ToJS95SVlmmWXKmmuuWV71qlfV/XiQpHXXXbf+Nzrk0xbIyG233VbOO++8cvbZZ5eTTjqpHH/88eX888+vo0lIzqmnnlp++9vfloceeqiOBl1xxRU1ztFHH10uuOCCOkV36623VlKDHNnAcrvttitvetObyutf//o6Zef+G264ofzsZz+r95vCu/nmm8s555xTyZQRIv+FM888s1x66aV1Gg5pSowNkhQlEolEYkLC/klTpkypnwAxEmRzQsc2KkQ0kBREyKjOH/7wh3LGGWeUH/zgB3WdkfPf+c536jkkxScwnLOTtl2fTzvttHL55ZdXcuOr/QgUwmPa6xWveEUdnfINMaNFr3nNa2p+EDAkKEjR3XffXb/2j1TF9JopM8G6pNmd0ku8EEmKEolEIpFoAVJkKstIzLRp0+pUlVEgU25rrLFG/VI8YoLgrL766nXU6U9/+lO57rrr6mhQTIUhLqblrr766kqI3IN02SkaCUPMYrdo02bxHKNJ1hA5joXYPm7r0yXIlJGmVVZZpX5yo1c/s9GPSEkmEolEYtzQzyMbRpF86+t1r3tdJSYIiVEe018+korwGM25//77K5ERkKKFF164rh1CnKQRIz1IkN+ID7lYz4QgmdpzjJgJfiM+7hcQKs/zfOnlXlBjhyRFiUQikeg4NOzNod25sQozC6SilVjEuebziIlpNiF+IyWCY8/239ok5MlapW233bbsvvvuZcsttywrrbRSWWyxxepI0E033VTXGJmWs15JGkafjDxJ1zom02nWFfltQbW8uOa3NB555JFKrGalzIn2SFKUSCQSiTFHEAokIQiD0RHTQjGKMtbh73//eyUQM0MU5NHUlWmx+eabr47CRJ79ftnLXlZHbwSjNP+/vbMLrSq74vjKxx0r1QfxI+CDM9Zia0KrD2r8SlFU8EEFFY0j43MJxYcQXzpPhXmYR/EtMCAKihgMQtWAL4KlRgx+gEwdEEedStuo9MOOGqpJpve360k1Y5x83Htzk/x+sLnnnrPPPmefhHv+rLX2WggeBAzHZs6cmaw7CBX20xfRg1uLWCGECy617u7udD+4v9auXZssPMQIEZ9E4DbHa2trkxuOlW5YoZgLcUUIJ+B6NIQT90qsEcKK5+kKtMJR9dtPP/3d6+3vUVVV+T+fZ/6fpu9PX0XvtRvx3T//Fbn6FVH9y19ExYwf8x/1ureIiMj/wTXESx0BwIs/E0ds81JnKXohG8vUid3JxAJWFyw0uLsQLkOBqEBI4ZLKAqARPsTxIGCw8CCYEEaMhbhhm2OsUsM1xruSFWws52cMxmK+XBf3GS42BA1jY0UiuJtngZBi/DVr1qSxZs2aNeBm45oLFy5M10Q08cmcEEf0QYAxHsKMaxULng9B352dnSm5JdfjfrlvBNqb1rRyov/xk+j9wx+j/y9/jaqPPozc6vqonDcXk1+aU1++DRbPFU+/fTaknM7lquOD/B+mKj/Ay7b26Gn9Ivq+vh/TDzTFtE8+jsqaeYoiERF5JwQas+qKJIXXr19PL+7MGpNZkgoJLzosRVhZEGQIERIybtq0Kb3IhwJBxL1yDhYfGuCewrqFRQjIZYSY4f4RTPRnXAQMcUHE/yASEEJ8517YR3/ED+cCgdtcj7EzK1UmhHhJs59rMx/GYh8ijH6MxzGunZ1Hn2IKE+Kiurq60rMkqSVisKWlJRobG5PAK6YgGwu9X96Ons8+j1dd1yK3viGmNx+I6rpaLD7pb/6f/Lz6+t62suk+ExGRksCLHDGAaKG9ywU2lsaYCJeRxtkgKrDQYNFBACFUaOzDEoPwoHGcfQghxB0WosyFhgWH7wgqxA/CAcsQq8UQDvRBPNAQM1iVcJURqM25nIOw4ThjcBwXHOdyXcZDNDEO+xibe2FfuVpqJiJaikREpCi8aSkifw+iAZdL5p4qNFg0cO/cvHkzLaXHHTUcS5G8n6lkKVIUiYhIUXhTFBHzQ36fvXv3xtKlSwdcVIUEtxSJD48dO5aSIBKPoygaO7rPRERECgjuqCw4GAsO8T6FboyL24n4G11KMhoURSIiUhKymJmsZbE7hWrZuFxHUSSjQVEkIiIyDAjexu1C/iHSCpBYkUaQNyvGRhLcLeXJD4oitbaIiIyGwZahzIozUUH0EMBNwdcTJ07EyZMnUyFYqtUjkoi9kYmNliIRESkKuLRYbk7iQYKsifshXw/7JyKIIpb9Uz2fwq/kIsryGjEncgghjLKGVWnwd3IP0fhOigJaVt/sXefTVwpPsum9w7D3g6JIY6CIiIwGlt0vWbIk9u/fH83NzbFr1660Imyi5tbJ3GeIIfIKIfJWrlyZ5sicEEqstmtvb4+zZ8/GpUuX4vz589HR0TFgUSIzNCvj6Hf8+PFU6iPL+H3v3r24ePFinDlzJtra2uLKlSupwCxiSQpMcnV+X+FoKRIRkaKA9YQl29T0yspCYDkiWeJEBWGEFefJkyeprAj5lxA6uNVYto7QOXr0aFy4cCEuX74cp0+fjtbW1uRqu3r1aty4cSMJoXPnzqUs36QQQDBx7NatW0lMHTlyJPXhOPFLWotKh6JIRESKAtYghBFL5Cl1gXWFuKKJDsKIwGpcaYghynlQ9oPyG1iRyFSNBQlBmBVspWI+NdEePnyYxBTZqDds2JCEIgKLem0EbT9+/DjlVKI/hWXJCTQZntlEwSctIiIyAnCVUWaDivcbN25MMVPESmEBQwitWrUqGhoaUokPSnqQP2nz5s2pWCwxRLjgOB9BhAsOwYiwQmgx9uLFi5NgWrZsWRJPiqLS4ZMWEREZAVjAsH5R/4yW1TXL9lMPDZHENkIJYYTFh/1ZJm9EEPFCWJsQSYyBIKLRn3H5LHaxV3kbRZGIiMgwwR1Iw+VFzBCB1J2dnfHo0aMkjDJxg5BB0CCCsARxDtu40Kj9dufOnXQucUiZNQkrU1Zglv6KodKjKBIRERkGiB7cWbi1cIUhZoghouYaViFWoRFLtGDBgiSEKDlCgDmB5liOEDt1dXWxbdu2lKIA6xHuM1xrK1asSOevXr16IJYIYSSlRVEkIiIyDBBFs2fPTvE++/btiz179sT27duTkMHSU19fn2KM2MYqRNzQli1bYt26dUlMIXI4n1iknTt3xu7du2PHjh3pOEKKWCKK1zLOnDlzjCUaB3ziIiIiwwSL0Ny5c1O+JcTPokWLkjsMSxDpBjhG4dvMdVZTU5OEECvvcIchjOg7f/78tEqNArl85ziWJ85nnKy/lBZFkYiIyAhArLyvvcm79sH7+sv4oSgSERERyaMoEhGRSQslMljybht9I4M3CShJWjnZqXj67bMhZ5nLVccHuVxUVVbGy7b26Gn9Ivq+vh/TDzTFtE8+jsqaedj6XvcWEREZP54/f57KZBw6dCiV32CJe1NTUyxfvjzF6MjoQBhRr+3UqVOp9AgxUi0tLdHY2JiecbkGhPd+eTt6Pvs8XnVdi9z6hpjefCCq62rJq5CE3st86+t/WwIpikREZFIwWBSRL4is0eX84p4IYCUiyeTdu3dTfiZSDRw8eFBRpCgSEZFyBVFEodXDhw8nUcSLL8sqLWMDNyQlSvgk1UBzc3NKSaAoUhSJiEgZQlFW3DsdHR3x4MGD5PaRwoP7bOvWrSk/E+VIynXFnKJIRESmLJmbp7u7O1mNpkJg8HhAfBa5mRBHuCjLFUWRiIhMaRBGuHgURMWFJJS4zco5r9JoRJGRZyIiMmngRY31AmuGrXhtshasVRSJiIiI5BmV+6zqp4ui8sMFUTFtWn6E151FREREyoTvnv47+m5/Ff1//0fkNq4vXkxR4Ks1lkhERETKmf7+9JHbtKHAoujM76PnyNHov//NwEVEREREyp3c+l/Fj37z66j++c8KI4r6/9Ydfd/8OeLFi4ghzxAREREpLyrmzI6qn3wUFTNmJE/XmEWRiIiIyGRgSFH07PmLIUVRdVVlSo9eqhTe6UZKlFuCpYRZHotSLiucEnMs0fzAORaXUs3TORaPUs0P/DsWl1LPkcZ2qeaZZleiOZLP6tWr3ugfdL2K3t7eIe+glA8jf6GSPYxxYyrMUSYF2Y/iZGYqzFFEhiYJokG/ARX5HwV/FURERGTKY7CQiIiISB5FkYiIiEgeRZGIiIhIHkWRiIiISB5FkYiIiEgeRZGIiIhIRPwXLU9pFJtrmuQAAAAASUVORK5CYII=)"
      ],
      "metadata": {
        "id": "a4o5SmJaz3yG"
      }
    },
    {
      "cell_type": "markdown",
      "source": [
        "## creating custom exceptions"
      ],
      "metadata": {
        "id": "lTsG6v8z85CA"
      }
    },
    {
      "cell_type": "code",
      "source": [
        "class MyException(Exception): # custom class is a child of exception class\n",
        "  def __init__(self,message): # argument message will get print here\n",
        "    print(message)\n",
        "\n",
        "class Bank:\n",
        "\n",
        "  def __init__(self,balance):\n",
        "    self.balance = balance\n",
        "\n",
        "  def withdraw(self,amount):\n",
        "    if amount < 0:\n",
        "      raise MyException('amount cannot be -ve') # creating object of MyException then constructor got triggered\n",
        "    if self.balance < amount:\n",
        "      raise MyException('Insufficient amount')\n",
        "    self.balance = self.balance - amount\n",
        "\n",
        "obj = Bank(10000)\n",
        "try:\n",
        "  obj.withdraw(-5000)\n",
        "except MyException as e:\n",
        "  pass\n",
        "else:\n",
        "  print(obj.balance)"
      ],
      "metadata": {
        "colab": {
          "base_uri": "https://localhost:8080/"
        },
        "id": "DLzBsX5eBSNs",
        "outputId": "a58633c4-9e33-4c02-9881-0d87d85795bb"
      },
      "execution_count": 20,
      "outputs": [
        {
          "output_type": "stream",
          "name": "stdout",
          "text": [
            "amount cannot be -ve\n"
          ]
        }
      ]
    },
    {
      "cell_type": "markdown",
      "source": [
        "## Why we are creating our own custom exception class?\n",
        "When we are trying to do some different task as well apart from just printing the message, in that case we use custom exception."
      ],
      "metadata": {
        "id": "QXk4tqwG1RoN"
      }
    },
    {
      "cell_type": "markdown",
      "source": [
        "# simple example\n",
        "\n",
        "If user login from different device then we logout it from every device."
      ],
      "metadata": {
        "id": "TbAbN7rR8pVC"
      }
    },
    {
      "cell_type": "code",
      "source": [
        "class SecurityError(Exception):\n",
        "\n",
        "  def __init__(self,message):\n",
        "    print(message)\n",
        "\n",
        "  def logout(self):\n",
        "    print('logout')\n",
        "\n",
        "class Google:\n",
        "\n",
        "  def __init__(self,name,email,password,device):\n",
        "    self.name = name\n",
        "    self.email = email\n",
        "    self.password = password\n",
        "    self.device = device\n",
        "\n",
        "  def login(self,email,password,device):\n",
        "    if device != self.device:\n",
        "      raise SecurityError('You are not allowed to login with multiple device.')\n",
        "    if email == self.email and password == self.password:\n",
        "      print('welcome')\n",
        "    else:\n",
        "      print('login error')\n",
        "\n",
        "\n",
        "\n",
        "obj = Google('nitish','nitish@gmail.com','1234','android')\n",
        "\n",
        "try:\n",
        "  obj.login('nitish@gmail.com','1234','android')\n",
        "except SecurityError as e:\n",
        "  e.logout()\n",
        "else:\n",
        "  print(obj.name)\n",
        "finally:\n",
        "  print('database connection closed')\n",
        "\n"
      ],
      "metadata": {
        "colab": {
          "base_uri": "https://localhost:8080/"
        },
        "outputId": "bd150643-e75d-4cbb-927f-ede81c2944fb",
        "id": "cEIUl46w-Hre"
      },
      "execution_count": 21,
      "outputs": [
        {
          "output_type": "stream",
          "name": "stdout",
          "text": [
            "welcome\n",
            "nitish\n",
            "database connection closed\n"
          ]
        }
      ]
    },
    {
      "cell_type": "code",
      "source": [
        "class SecurityError(Exception):\n",
        "\n",
        "  def __init__(self,message):\n",
        "    print(message)\n",
        "\n",
        "  def logout(self):\n",
        "    print('logout')\n",
        "\n",
        "class Google:\n",
        "\n",
        "  def __init__(self,name,email,password,device):\n",
        "    self.name = name\n",
        "    self.email = email\n",
        "    self.password = password\n",
        "    self.device = device\n",
        "\n",
        "  def login(self,email,password,device):\n",
        "    if device != self.device:\n",
        "      raise SecurityError('You are not allowed to login with multiple device.')\n",
        "    if email == self.email and password == self.password:\n",
        "      print('welcome')\n",
        "    else:\n",
        "      print('login error')\n",
        "\n",
        "\n",
        "\n",
        "obj = Google('nitish','nitish@gmail.com','1234','android')\n",
        "\n",
        "try:\n",
        "  obj.login('nitish@gmail.com','1234','windows')\n",
        "except SecurityError as e:\n",
        "  e.logout()\n",
        "else:\n",
        "  print(obj.name)\n",
        "finally:\n",
        "  print('database connection closed')\n",
        "\n"
      ],
      "metadata": {
        "colab": {
          "base_uri": "https://localhost:8080/"
        },
        "id": "YMIbhy3acWX4",
        "outputId": "9eb72a72-6e9d-45f9-a631-20fae54df0ac"
      },
      "execution_count": 22,
      "outputs": [
        {
          "output_type": "stream",
          "name": "stdout",
          "text": [
            "You are not allowed to login with multiple device.\n",
            "logout\n",
            "database connection closed\n"
          ]
        }
      ]
    }
  ]
}