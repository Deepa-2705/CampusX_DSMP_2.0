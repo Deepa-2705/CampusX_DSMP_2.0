{
  "nbformat": 4,
  "nbformat_minor": 0,
  "metadata": {
    "colab": {
      "provenance": []
    },
    "kernelspec": {
      "name": "python3",
      "display_name": "Python 3"
    },
    "language_info": {
      "name": "python"
    }
  },
  "cells": [
    {
      "cell_type": "code",
      "execution_count": null,
      "metadata": {
        "colab": {
          "base_uri": "https://localhost:8080/",
          "height": 205
        },
        "id": "3rwuRliDnX7y",
        "outputId": "6115092b-d6f7-4ef3-91fc-4d46ca119b09"
      },
      "outputs": [
        {
          "output_type": "error",
          "ename": "AttributeError",
          "evalue": "ignored",
          "traceback": [
            "\u001b[0;31m---------------------------------------------------------------------------\u001b[0m",
            "\u001b[0;31mAttributeError\u001b[0m                            Traceback (most recent call last)",
            "\u001b[0;32m<ipython-input-1-af1f83522ab7>\u001b[0m in \u001b[0;36m<module>\u001b[0;34m\u001b[0m\n\u001b[1;32m      1\u001b[0m \u001b[0mL\u001b[0m \u001b[0;34m=\u001b[0m \u001b[0;34m[\u001b[0m\u001b[0;36m1\u001b[0m\u001b[0;34m,\u001b[0m\u001b[0;36m2\u001b[0m\u001b[0;34m,\u001b[0m\u001b[0;36m3\u001b[0m\u001b[0;34m]\u001b[0m\u001b[0;34m\u001b[0m\u001b[0;34m\u001b[0m\u001b[0m\n\u001b[1;32m      2\u001b[0m \u001b[0;34m\u001b[0m\u001b[0m\n\u001b[0;32m----> 3\u001b[0;31m \u001b[0mL\u001b[0m\u001b[0;34m.\u001b[0m\u001b[0mupper\u001b[0m\u001b[0;34m(\u001b[0m\u001b[0;34m)\u001b[0m\u001b[0;34m\u001b[0m\u001b[0;34m\u001b[0m\u001b[0m\n\u001b[0m",
            "\u001b[0;31mAttributeError\u001b[0m: 'list' object has no attribute 'upper'"
          ]
        }
      ],
      "source": [
        "L = [1,2,3]\n",
        "\n",
        "L.upper()"
      ]
    },
    {
      "cell_type": "code",
      "source": [
        "s = 'hello'\n",
        "s.append('x')"
      ],
      "metadata": {
        "colab": {
          "base_uri": "https://localhost:8080/",
          "height": 187
        },
        "id": "96Kwr6nLnyDM",
        "outputId": "9845bb6f-e342-4054-d1ca-bb790b8da96d"
      },
      "execution_count": null,
      "outputs": [
        {
          "output_type": "error",
          "ename": "AttributeError",
          "evalue": "ignored",
          "traceback": [
            "\u001b[0;31m---------------------------------------------------------------------------\u001b[0m",
            "\u001b[0;31mAttributeError\u001b[0m                            Traceback (most recent call last)",
            "\u001b[0;32m<ipython-input-2-2cb7c5babec0>\u001b[0m in \u001b[0;36m<module>\u001b[0;34m\u001b[0m\n\u001b[1;32m      1\u001b[0m \u001b[0ms\u001b[0m \u001b[0;34m=\u001b[0m \u001b[0;34m'hello'\u001b[0m\u001b[0;34m\u001b[0m\u001b[0;34m\u001b[0m\u001b[0m\n\u001b[0;32m----> 2\u001b[0;31m \u001b[0ms\u001b[0m\u001b[0;34m.\u001b[0m\u001b[0mappend\u001b[0m\u001b[0;34m(\u001b[0m\u001b[0;34m'x'\u001b[0m\u001b[0;34m)\u001b[0m\u001b[0;34m\u001b[0m\u001b[0;34m\u001b[0m\u001b[0m\n\u001b[0m",
            "\u001b[0;31mAttributeError\u001b[0m: 'str' object has no attribute 'append'"
          ]
        }
      ]
    },
    {
      "cell_type": "markdown",
      "source": [
        "# OOPS\n",
        "\n",
        "OOP is a programming paradigm using which we can create out own datatype.\n",
        "\n",
        "### Principles of OOP\n",
        "\n",
        "1) Class\n",
        "\n",
        "2) Object\n",
        "\n",
        "3) Inheritance\n",
        "\n",
        "4) polymorphism\n",
        "\n",
        "5) Abstraction\n",
        "\n",
        "6) Encapsulation"
      ],
      "metadata": {
        "id": "zeupcHtgn81s"
      }
    },
    {
      "cell_type": "markdown",
      "source": [
        "# Class\n",
        "\n",
        "It is a buleprint.\n",
        "\n",
        "All datatype of python are in-built classes and when we store this datatype value inside a variable ,that variable is known as object.\n",
        "\n",
        "Class contain 2 things: 1) data or attribute and 2) functions or behaviours"
      ],
      "metadata": {
        "id": "QKIMiy6Io8L_"
      }
    },
    {
      "cell_type": "code",
      "source": [
        "L = [1,2,3]\n",
        "print(type(L))"
      ],
      "metadata": {
        "colab": {
          "base_uri": "https://localhost:8080/"
        },
        "id": "mmHow1wwn9TG",
        "outputId": "ab6a35e4-e395-4fe2-f9fb-b236eefc3526"
      },
      "execution_count": null,
      "outputs": [
        {
          "output_type": "stream",
          "name": "stdout",
          "text": [
            "<class 'list'>\n"
          ]
        }
      ]
    },
    {
      "cell_type": "code",
      "source": [
        "list.str()"
      ],
      "metadata": {
        "id": "LNVEv_aupMCl",
        "outputId": "e8e3ecf5-1152-470c-cd5a-145380bff5e4",
        "colab": {
          "base_uri": "https://localhost:8080/",
          "height": 141
        }
      },
      "execution_count": 1,
      "outputs": [
        {
          "output_type": "error",
          "ename": "AttributeError",
          "evalue": "type object 'list' has no attribute 'str'",
          "traceback": [
            "\u001b[0;31m---------------------------------------------------------------------------\u001b[0m",
            "\u001b[0;31mAttributeError\u001b[0m                            Traceback (most recent call last)",
            "\u001b[0;32m<ipython-input-1-2367e70a8802>\u001b[0m in \u001b[0;36m<cell line: 1>\u001b[0;34m()\u001b[0m\n\u001b[0;32m----> 1\u001b[0;31m \u001b[0mlist\u001b[0m\u001b[0;34m.\u001b[0m\u001b[0mstr\u001b[0m\u001b[0;34m(\u001b[0m\u001b[0;34m)\u001b[0m\u001b[0;34m\u001b[0m\u001b[0;34m\u001b[0m\u001b[0m\n\u001b[0m",
            "\u001b[0;31mAttributeError\u001b[0m: type object 'list' has no attribute 'str'"
          ]
        }
      ]
    },
    {
      "cell_type": "markdown",
      "source": [
        "# Object\n",
        "\n",
        "It is a instance of a class."
      ],
      "metadata": {
        "id": "tq4o3JjrrD_b"
      }
    },
    {
      "cell_type": "code",
      "source": [
        "s = [1,2,3]"
      ],
      "metadata": {
        "id": "uYaUUd8uqh8G"
      },
      "execution_count": null,
      "outputs": []
    },
    {
      "cell_type": "code",
      "source": [
        "# syntax to create an object\n",
        "\n",
        "#objectname = classname()"
      ],
      "metadata": {
        "id": "UrQCJI-xqkyX"
      },
      "execution_count": null,
      "outputs": []
    },
    {
      "cell_type": "code",
      "source": [
        "# object literal\n",
        "L = [1,2,3] # easy way to create a object"
      ],
      "metadata": {
        "id": "BE1pbysesWlD"
      },
      "execution_count": null,
      "outputs": []
    },
    {
      "cell_type": "code",
      "source": [
        "L = list()  #objectname = classname()\n",
        "L"
      ],
      "metadata": {
        "colab": {
          "base_uri": "https://localhost:8080/"
        },
        "id": "EuMPro8hsbB3",
        "outputId": "aad19e46-44ad-4b86-86b2-ded54a6a4a29"
      },
      "execution_count": null,
      "outputs": [
        {
          "output_type": "execute_result",
          "data": {
            "text/plain": [
              "[]"
            ]
          },
          "metadata": {},
          "execution_count": 7
        }
      ]
    },
    {
      "cell_type": "code",
      "source": [
        "s = str()  #objectname = classname()\n",
        "s"
      ],
      "metadata": {
        "colab": {
          "base_uri": "https://localhost:8080/",
          "height": 36
        },
        "id": "F_pB8wsPsdA9",
        "outputId": "ca758fc3-330c-4ec4-bb4f-5863c7c03d7a"
      },
      "execution_count": null,
      "outputs": [
        {
          "output_type": "execute_result",
          "data": {
            "text/plain": [
              "''"
            ],
            "application/vnd.google.colaboratory.intrinsic+json": {
              "type": "string"
            }
          },
          "metadata": {},
          "execution_count": 8
        }
      ]
    },
    {
      "cell_type": "code",
      "source": [
        "# Pascal Case (way to define a class name)\n",
        "\n",
        "HelloWorld"
      ],
      "metadata": {
        "id": "ffVNGUBhtMrL"
      },
      "execution_count": null,
      "outputs": []
    },
    {
      "cell_type": "code",
      "source": [
        "class Atm:\n",
        "\n",
        "  # constructor-> We don't need to call the constructor explicitly for its execution.(When we create object of a class then constructor will call automatically)\n",
        "  # Constructor will be called everytime when a object gets created.\n",
        "  def __init__(self):  # Rule 1: whenever we create variable in a class we create them inside a constructor\n",
        "    self.pin = ''      # Rule 2: We have to put self keyword before every variable\n",
        "    self.balance = 0\n",
        "    self.menu()\n",
        "\n",
        "  def menu(self):\n",
        "    user_input = input(\"\"\"\n",
        "    Hi how can I help you?\n",
        "    1. Press 1 to create pin\n",
        "    2. Press 2 to change pin\n",
        "    3. Press 3 to check balance\n",
        "    4. Press 4 to withdraw\n",
        "    5. Anything else to exit\n",
        "    \"\"\")\n",
        "\n",
        "    if user_input == '1':\n",
        "      self.create_pin()\n",
        "    elif user_input == '2':\n",
        "      self.change_pin()\n",
        "    elif user_input == '3':\n",
        "      self.check_balance()\n",
        "    elif user_input == '4':\n",
        "      self.withdraw()\n",
        "    else:\n",
        "      exit()\n",
        "\n",
        "  def create_pin(self):\n",
        "    user_pin = input('Enter your pin: ')\n",
        "    self.pin = user_pin\n",
        "\n",
        "    user_balance = int(input('Enter balance: '))\n",
        "    self.balance = user_balance\n",
        "\n",
        "    print('Pin created successfully!')\n",
        "    self.menu()\n",
        "\n",
        "  def change_pin(self):\n",
        "    old_pin = input('Enter old pin: ')\n",
        "\n",
        "    if old_pin == self.pin:\n",
        "      # let him change the pin\n",
        "      new_pin = input('Enter new pin: ')\n",
        "      self.pin = new_pin\n",
        "      print('Pin changed successfully!')\n",
        "    else:\n",
        "      print('Incorrect Pin. Try Again!.')\n",
        "    self.menu()\n",
        "\n",
        "  def check_balance(self):\n",
        "    user_pin = input('Enter your pin: ')\n",
        "    if user_pin == self.pin:\n",
        "      print('Your balance is: ',self.balance)\n",
        "    else:\n",
        "      print('Incorrect Pin. Try Again!.')\n",
        "    self.menu()\n",
        "\n",
        "  def withdraw(self):\n",
        "    user_pin = input('Enter the pin: ')\n",
        "    if user_pin == self.pin:\n",
        "      # allow to withdraw\n",
        "      amount = int(input('Enter the amount: '))\n",
        "      if amount <= self.balance:\n",
        "        self.balance = self.balance - amount\n",
        "        print('Withdrawl successful!. Balance is: ',self.balance)\n",
        "      else:\n",
        "        print('Insufficient Balance.')\n",
        "    else:\n",
        "      print('Incorrect Pin. Try Again!.')\n",
        "    self.menu()\n",
        "\n",
        "\n"
      ],
      "metadata": {
        "id": "76IAiCrBshyW"
      },
      "execution_count": 4,
      "outputs": []
    },
    {
      "cell_type": "code",
      "source": [
        "obj1 = Atm() # object"
      ],
      "metadata": {
        "colab": {
          "base_uri": "https://localhost:8080/"
        },
        "id": "nT1VdlNauFYf",
        "outputId": "3cfb47a1-3309-4fd9-ce0d-f109b31758ac"
      },
      "execution_count": 5,
      "outputs": [
        {
          "name": "stdout",
          "output_type": "stream",
          "text": [
            "\n",
            "    Hi how can I help you?\n",
            "    1. Press 1 to create pin\n",
            "    2. Press 2 to change pin\n",
            "    3. Press 3 to check balance\n",
            "    4. Press 4 to withdraw\n",
            "    5. Anything else to exit\n",
            "    1\n",
            "Enter your pin: 1234\n",
            "Enter balance: 10000\n",
            "Pin created successfully!\n",
            "\n",
            "    Hi how can I help you?\n",
            "    1. Press 1 to create pin\n",
            "    2. Press 2 to change pin\n",
            "    3. Press 3 to check balance\n",
            "    4. Press 4 to withdraw\n",
            "    5. Anything else to exit\n",
            "    2\n",
            "Enter old pin: 1234\n",
            "Enter new pin: 3456\n",
            "Pin changed successfully!\n",
            "\n",
            "    Hi how can I help you?\n",
            "    1. Press 1 to create pin\n",
            "    2. Press 2 to change pin\n",
            "    3. Press 3 to check balance\n",
            "    4. Press 4 to withdraw\n",
            "    5. Anything else to exit\n",
            "    3\n",
            "Enter your pin: 3456\n",
            "Your balance is:  10000\n",
            "\n",
            "    Hi how can I help you?\n",
            "    1. Press 1 to create pin\n",
            "    2. Press 2 to change pin\n",
            "    3. Press 3 to check balance\n",
            "    4. Press 4 to withdraw\n",
            "    5. Anything else to exit\n",
            "    4\n",
            "Enter the pin: 3456\n",
            "Enter the amount: 5000\n",
            "Withdrawl successful!. Balance is:  5000\n",
            "\n",
            "    Hi how can I help you?\n",
            "    1. Press 1 to create pin\n",
            "    2. Press 2 to change pin\n",
            "    3. Press 3 to check balance\n",
            "    4. Press 4 to withdraw\n",
            "    5. Anything else to exit\n",
            "    5\n"
          ]
        }
      ]
    },
    {
      "cell_type": "markdown",
      "source": [
        "# Class Diagram\n",
        "\n",
        "![image.png](data:image/png;base64,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)"
      ],
      "metadata": {
        "id": "8Wtjcgdj3FMb"
      }
    },
    {
      "cell_type": "markdown",
      "source": [
        "# Method VS Function\n",
        "\n",
        "Function inside a class is called method."
      ],
      "metadata": {
        "id": "Y1nJsyne1b-i"
      }
    },
    {
      "cell_type": "code",
      "source": [
        "L=[1,2,3]\n",
        "len(L)   # function because it is outside the list class\n",
        "L.append(4) # method because it is inside the list class"
      ],
      "metadata": {
        "id": "DwxJApkv12cS"
      },
      "execution_count": null,
      "outputs": []
    },
    {
      "cell_type": "markdown",
      "source": [
        "# Magic Methods or Dunder Methods\n",
        "\n",
        "Magic methods have a special kind of superpowers. Python has 1500 magic methods.\n",
        "\n",
        "Using magic methods we can create our own datatypes like (fraction, coordinates).\n",
        "\n",
        "_ __init_ _ _\n",
        "\n",
        "_ __name_ _ _"
      ],
      "metadata": {
        "id": "ugPfGECM3Zk_"
      }
    },
    {
      "cell_type": "markdown",
      "source": [
        "# Constructor\n",
        "\n",
        "It is a special kind of method that get executed without calling explicitely.\n",
        "\n",
        "- What is advantage we are getting by not calling constructor explicitely?\n",
        "\n",
        "Constructor only contain that code whose control we dont want to give to user of application.\n",
        "\n",
        "Constructor is used to write configuration related code (configuration code like: connection with database or internet), these codes should not require human intervention to be execute."
      ],
      "metadata": {
        "id": "sgxLbQEu5Jzi"
      }
    },
    {
      "cell_type": "code",
      "source": [
        "class Temp:\n",
        "\n",
        "  def __init__(self):\n",
        "    print('hello')\n",
        "\n",
        "obj = Temp()"
      ],
      "metadata": {
        "colab": {
          "base_uri": "https://localhost:8080/"
        },
        "id": "FT63LIRB4YQM",
        "outputId": "64520926-5f6c-4491-e71d-83b1f63b4cd3"
      },
      "execution_count": null,
      "outputs": [
        {
          "output_type": "stream",
          "name": "stdout",
          "text": [
            "hello\n"
          ]
        }
      ]
    },
    {
      "cell_type": "markdown",
      "source": [
        "# Self Keyword\n",
        "\n",
        "Every method inside a class has a default parameter as self.\n",
        "\n",
        "All variable and methods of a class is used by object of the class.\n",
        "\n",
        "Method of a class cannot call another method of same class within its body.(Not allowed only object can access the methods and data of the class).\n",
        "\n",
        "But we can overcome this restriction using self keyword. Self is also a object and stored in the memory somewhere."
      ],
      "metadata": {
        "id": "Gp4CgJwB_Q7R"
      }
    },
    {
      "cell_type": "code",
      "source": [
        "class Atm:\n",
        "\n",
        "  def __init__(self):\n",
        "    print(id(self))\n",
        "    self.pin = ''\n",
        "    self.balance = 0  # method cannot communicate with data inside class without self\n",
        "    # self.menu()\n",
        "\n",
        "  def menu(self):\n",
        "    user_input = input(\"\"\"\n",
        "    Hi how can I help you?\n",
        "    1. Press 1 to create pin\n",
        "    2. Press 2 to change pin\n",
        "    3. Press 3 to check balance\n",
        "    4. Press 4 to withdraw\n",
        "    5. Anything else to exit\n",
        "    \"\"\")\n",
        "\n",
        "    if user_input == '1':\n",
        "      self.create_pin()\n",
        "    elif user_input == '2':\n",
        "      self.change_pin()\n",
        "    elif user_input == '3':\n",
        "      self.check_balance()\n",
        "    elif user_input == '4':\n",
        "      self.withdraw()\n",
        "    else:\n",
        "      exit()\n",
        "\n",
        "  def create_pin(self):\n",
        "    user_pin = input('Enter your pin: ')\n",
        "    self.pin = user_pin\n",
        "\n",
        "    user_balance = int(input('Enter balance: '))\n",
        "    self.balance = user_balance\n",
        "\n",
        "    print('Pin created successfully!')\n",
        "    self.menu()\n",
        "\n",
        "  def change_pin(self):\n",
        "    old_pin = input('Enter old pin: ')\n",
        "\n",
        "    if old_pin == self.pin:\n",
        "      # let him change the pin\n",
        "      new_pin = input('Enter new pin: ')\n",
        "      self.pin = new_pin\n",
        "      print('Pin changed successfully!')\n",
        "    else:\n",
        "      print('Incorrect Pin. Try Again!.')\n",
        "    self.menu()\n",
        "\n",
        "  def check_balance(self):\n",
        "    user_pin = input('Enter your pin: ')\n",
        "    if user_pin == self.pin:\n",
        "      print('Your balance is: ',self.balance)\n",
        "    else:\n",
        "      print('Incorrect Pin. Try Again!.')\n",
        "    self.menu()\n",
        "\n",
        "  def withdraw(self):\n",
        "    user_pin = input('Enter the pin: ')\n",
        "    if user_pin == self.pin:\n",
        "      # allow to withdraw\n",
        "      amount = int(input('Enter the amount: '))\n",
        "      if amount <= self.balance:\n",
        "        self.balance = self.balance - amount\n",
        "        print('Withdrawl successful!. Balance is: ',self.balance)\n",
        "      else:\n",
        "        print('Insufficient Balance.')\n",
        "    else:\n",
        "      print('Incorrect Pin. Try Again!.')\n",
        "    self.menu()"
      ],
      "metadata": {
        "id": "dLAMV0HEB0Fe"
      },
      "execution_count": 1,
      "outputs": []
    },
    {
      "cell_type": "code",
      "source": [
        "obj2=Atm()"
      ],
      "metadata": {
        "id": "7P6K00JBB_Dm",
        "outputId": "9f7e6166-c7a9-43a9-a850-b202bce143e4",
        "colab": {
          "base_uri": "https://localhost:8080/"
        }
      },
      "execution_count": 4,
      "outputs": [
        {
          "output_type": "stream",
          "name": "stdout",
          "text": [
            "133881732964480\n"
          ]
        }
      ]
    },
    {
      "cell_type": "code",
      "source": [
        "id(obj2)"
      ],
      "metadata": {
        "id": "Yu1MrR9GCOOB",
        "outputId": "e56e3916-b705-4228-dc05-42ac264d65f4",
        "colab": {
          "base_uri": "https://localhost:8080/"
        }
      },
      "execution_count": 5,
      "outputs": [
        {
          "output_type": "execute_result",
          "data": {
            "text/plain": [
              "133881732964480"
            ]
          },
          "metadata": {},
          "execution_count": 5
        }
      ]
    },
    {
      "cell_type": "code",
      "source": [
        "obj3=Atm()"
      ],
      "metadata": {
        "id": "Ck4CJt2YMCIu",
        "outputId": "d062d3b5-541c-45c8-d3ee-e59deb4c6565",
        "colab": {
          "base_uri": "https://localhost:8080/"
        }
      },
      "execution_count": 6,
      "outputs": [
        {
          "output_type": "stream",
          "name": "stdout",
          "text": [
            "133881732964336\n"
          ]
        }
      ]
    },
    {
      "cell_type": "code",
      "source": [
        "id(obj3)  # self contain current object"
      ],
      "metadata": {
        "id": "QCxNBKCAMB6m",
        "outputId": "6d78517f-c9b6-4590-83a4-ca9977f80cb6",
        "colab": {
          "base_uri": "https://localhost:8080/"
        }
      },
      "execution_count": 7,
      "outputs": [
        {
          "output_type": "execute_result",
          "data": {
            "text/plain": [
              "133881732964336"
            ]
          },
          "metadata": {},
          "execution_count": 7
        }
      ]
    },
    {
      "cell_type": "markdown",
      "source": [
        "We can see above the address of self and address of object both are same, it means both self and obj are pointing to same memory address.\n",
        "\n",
        "So self and obj both are same.\n",
        "\n",
        "Now, Our rule was only obj can access the methods and data of class and methods cannot communicate with each other.\n",
        "\n",
        "So, To allow methods and data to be use and communicate with other self keyword is used. Constructor will use obj and then that obj will use methods inside the class.\n",
        "\n",
        "obj.change_pin()  while using this code obj will itself pass to the change_pin as argument and it will receive by the parameter self of that method.\n",
        "\n",
        "Self is the current object and we can write name inplace of self (not unique)."
      ],
      "metadata": {
        "id": "aLk63qo-CU5V"
      }
    },
    {
      "cell_type": "markdown",
      "source": [
        "# Own Data Type (fraction) using OOP"
      ],
      "metadata": {
        "id": "nsH717AVLtiq"
      }
    },
    {
      "cell_type": "code",
      "source": [
        "3/4*1/2"
      ],
      "metadata": {
        "colab": {
          "base_uri": "https://localhost:8080/"
        },
        "id": "w52ABPIX4dbv",
        "outputId": "c35dae21-2ab4-4a1f-ec98-05d962bdf12c"
      },
      "execution_count": null,
      "outputs": [
        {
          "output_type": "execute_result",
          "data": {
            "text/plain": [
              "0.375"
            ]
          },
          "metadata": {},
          "execution_count": 7
        }
      ]
    },
    {
      "cell_type": "code",
      "source": [
        "class Fraction:\n",
        "\n",
        "  # parameterized constructor\n",
        "  def __init__(self,x,y):\n",
        "    self.num = x\n",
        "    self.den = y\n",
        "\n",
        "  def __str__(self): # its magic is when we put obj inside print method this magic method will call automatically\n",
        "    return '{}/{}'.format(self.num,self.den)\n",
        "\n",
        "# this takes 2 fractional object self and other\n",
        "  def __add__(self,other): # its magic is when we put 2 obj inside print with + sign inbetween then this magic method will call automatically\n",
        "    new_num = self.num*other.den + other.num*self.den\n",
        "    new_den = self.den*other.den\n",
        "\n",
        "    return '{}/{}'.format(new_num,new_den)\n",
        "\n",
        "  def __sub__(self,other): # its magic is when we put 2 obj inside print with - sign inbetween then this magic method will call automatically\n",
        "    new_num = self.num*other.den - other.num*self.den\n",
        "    new_den = self.den*other.den\n",
        "\n",
        "    return '{}/{}'.format(new_num,new_den)\n",
        "\n",
        "  def __mul__(self,other): # its magic is when we put 2 obj inside print with * sign inbetween then this magic method will call automatically\n",
        "    new_num = self.num*other.num\n",
        "    new_den = self.den*other.den\n",
        "\n",
        "    return '{}/{}'.format(new_num,new_den)\n",
        "\n",
        "  def __truediv__(self,other): # its magic is when we put 2 obj inside print with / sign inbetween then this magic method will call automatically\n",
        "    new_num = self.num*other.den\n",
        "    new_den = self.den*other.num\n",
        "\n",
        "    return '{}/{}'.format(new_num,new_den)\n",
        "\n",
        "  def convert_to_decimal(self):\n",
        "    return self.num/self.den\n"
      ],
      "metadata": {
        "id": "Q19W8x5Y-KHv"
      },
      "execution_count": null,
      "outputs": []
    },
    {
      "cell_type": "code",
      "source": [
        "fr1 = Fraction(3,4)\n",
        "fr2 = Fraction(1,2)"
      ],
      "metadata": {
        "id": "CpmYQ8mm_N1X"
      },
      "execution_count": null,
      "outputs": []
    },
    {
      "cell_type": "code",
      "source": [
        "print(fr1) # whenever we print our object it will got to str magic function inside class"
      ],
      "metadata": {
        "id": "aWXu0jAaM1A1"
      },
      "execution_count": null,
      "outputs": []
    },
    {
      "cell_type": "code",
      "source": [
        "fr1.convert_to_decimal() # magic methods does not appear in the suggestion after dot\n",
        "# 3/4"
      ],
      "metadata": {
        "colab": {
          "base_uri": "https://localhost:8080/"
        },
        "id": "-DW3uyJq_XAa",
        "outputId": "b8aac211-28f6-463f-aee1-10f5e93590ce"
      },
      "execution_count": null,
      "outputs": [
        {
          "output_type": "execute_result",
          "data": {
            "text/plain": [
              "0.75"
            ]
          },
          "metadata": {},
          "execution_count": 45
        }
      ]
    },
    {
      "cell_type": "code",
      "source": [
        "print(fr1 + fr2)\n",
        "print(fr1 - fr2)\n",
        "print(fr1 * fr2)\n",
        "print(fr1 / fr2)"
      ],
      "metadata": {
        "colab": {
          "base_uri": "https://localhost:8080/"
        },
        "id": "TkfFpVlj_hdf",
        "outputId": "86461b66-070a-4491-a626-a8a0fe9b6e2e"
      },
      "execution_count": null,
      "outputs": [
        {
          "output_type": "stream",
          "name": "stdout",
          "text": [
            "10/8\n",
            "2/8\n",
            "3/8\n",
            "6/4\n"
          ]
        }
      ]
    },
    {
      "cell_type": "code",
      "source": [
        "s1={1,2,3}\n",
        "s2={3,4,5}\n",
        "\n",
        "s1 + s2"
      ],
      "metadata": {
        "colab": {
          "base_uri": "https://localhost:8080/",
          "height": 205
        },
        "id": "85oS9Z7ZAys4",
        "outputId": "c4e8344f-ed23-43ce-ca93-ff973f757680"
      },
      "execution_count": null,
      "outputs": [
        {
          "output_type": "error",
          "ename": "TypeError",
          "evalue": "ignored",
          "traceback": [
            "\u001b[0;31m---------------------------------------------------------------------------\u001b[0m",
            "\u001b[0;31mTypeError\u001b[0m                                 Traceback (most recent call last)",
            "\u001b[0;32m<ipython-input-32-3a417afc75fb>\u001b[0m in \u001b[0;36m<module>\u001b[0;34m\u001b[0m\n\u001b[1;32m      2\u001b[0m \u001b[0ms2\u001b[0m\u001b[0;34m=\u001b[0m\u001b[0;34m{\u001b[0m\u001b[0;36m3\u001b[0m\u001b[0;34m,\u001b[0m\u001b[0;36m4\u001b[0m\u001b[0;34m,\u001b[0m\u001b[0;36m5\u001b[0m\u001b[0;34m}\u001b[0m\u001b[0;34m\u001b[0m\u001b[0;34m\u001b[0m\u001b[0m\n\u001b[1;32m      3\u001b[0m \u001b[0;34m\u001b[0m\u001b[0m\n\u001b[0;32m----> 4\u001b[0;31m \u001b[0ms1\u001b[0m \u001b[0;34m+\u001b[0m \u001b[0ms2\u001b[0m\u001b[0;34m\u001b[0m\u001b[0;34m\u001b[0m\u001b[0m\n\u001b[0m",
            "\u001b[0;31mTypeError\u001b[0m: unsupported operand type(s) for +: 'set' and 'set'"
          ]
        }
      ]
    }
  ]
}