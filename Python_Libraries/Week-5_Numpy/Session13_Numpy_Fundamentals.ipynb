{
  "nbformat": 4,
  "nbformat_minor": 0,
  "metadata": {
    "colab": {
      "provenance": []
    },
    "kernelspec": {
      "name": "python3",
      "display_name": "Python 3"
    },
    "language_info": {
      "name": "python"
    }
  },
  "cells": [
    {
      "cell_type": "markdown",
      "source": [
        "### What is numpy?\n",
        "\n",
        "NumPy is the fundamental package for scientific computing in Python. It is a Python library that provides a multidimensional array object, various derived objects (such as masked arrays and matrices), and an assortment of routines for fast operations on arrays, including mathematical, logical, shape manipulation, sorting, selecting, I/O, discrete Fourier transforms, basic linear algebra, basic statistical operations, random simulation and much more.\n",
        "\n",
        "\n",
        "At the core of the NumPy package, is the ndarray object. This encapsulates n-dimensional arrays of homogeneous data types"
      ],
      "metadata": {
        "id": "lFF783PD7ypT"
      }
    },
    {
      "cell_type": "markdown",
      "source": [
        "Numpy array is build using C language but people build a wrapper around this datatype, so that it can be use in Python language.\n",
        "\n",
        "Numpy package made python so powerful and convinent to perform ML and data science task.\n",
        "\n",
        "Pandas , Scikit learn , Matplotlib and other libraries is internally using numpy array."
      ],
      "metadata": {
        "id": "xxvmxwxpIKyt"
      }
    },
    {
      "cell_type": "markdown",
      "source": [
        "### Numpy Arrays Vs Python Sequences\n",
        "\n",
        "- NumPy arrays have a fixed size at creation, unlike Python lists (which can grow dynamically). Changing the size of an ndarray will create a new array and delete the original.\n",
        "\n",
        "- The elements in a NumPy array are all required to be of the same data type, and thus will be the same size in memory.\n",
        "\n",
        "- NumPy arrays facilitate advanced mathematical and other types of operations on large numbers of data. Typically, such operations are executed more efficiently and with less code than is possible using Python’s built-in sequences.\n",
        "\n",
        "- A growing plethora of scientific and mathematical Python-based packages are using NumPy arrays; though these typically support Python-sequence input, they convert such input to NumPy arrays prior to processing, and they often output NumPy arrays."
      ],
      "metadata": {
        "id": "HPRzhmwiZkOP"
      }
    },
    {
      "cell_type": "markdown",
      "source": [
        "### Creating Numpy Arrays"
      ],
      "metadata": {
        "id": "0PyrZ724szaG"
      }
    },
    {
      "cell_type": "code",
      "source": [
        "# np.array\n",
        "import numpy as np\n",
        "\n",
        "a = np.array([1,2,3])\n",
        "print(a)  # like a vector"
      ],
      "metadata": {
        "colab": {
          "base_uri": "https://localhost:8080/"
        },
        "id": "V4AVNXrts3sL",
        "outputId": "4f1e0267-91d7-4d94-85a2-381cc783b225"
      },
      "execution_count": 2,
      "outputs": [
        {
          "output_type": "stream",
          "name": "stdout",
          "text": [
            "[1 2 3]\n"
          ]
        }
      ]
    },
    {
      "cell_type": "code",
      "source": [
        "# 2D and 3D\n",
        "b = np.array([[1,2,3],[4,5,6]])\n",
        "print(b) # like a matrix"
      ],
      "metadata": {
        "colab": {
          "base_uri": "https://localhost:8080/"
        },
        "id": "AAfxD1kCs6R5",
        "outputId": "e71d27eb-3106-43fd-8147-5a33b645f8b0"
      },
      "execution_count": null,
      "outputs": [
        {
          "output_type": "stream",
          "name": "stdout",
          "text": [
            "[[1 2 3]\n",
            " [4 5 6]]\n"
          ]
        }
      ]
    },
    {
      "cell_type": "code",
      "source": [
        "c = np.array([[[1,2],[3,4]],[[5,6],[7,8]]])\n",
        "print(c) # like a tensor"
      ],
      "metadata": {
        "colab": {
          "base_uri": "https://localhost:8080/"
        },
        "id": "MyrHdd6J6CrF",
        "outputId": "2d7750a8-6e28-424d-bac4-7e61e7e73e9f"
      },
      "execution_count": null,
      "outputs": [
        {
          "output_type": "stream",
          "name": "stdout",
          "text": [
            "[[[1 2]\n",
            "  [3 4]]\n",
            "\n",
            " [[5 6]\n",
            "  [7 8]]]\n"
          ]
        }
      ]
    },
    {
      "cell_type": "code",
      "source": [
        "# dtype\n",
        "np.array([1,2,3],dtype=float)"
      ],
      "metadata": {
        "colab": {
          "base_uri": "https://localhost:8080/"
        },
        "id": "FM8AwUOdFqC7",
        "outputId": "63ee85e6-449e-4e1f-e5a3-563bfae4dc9e"
      },
      "execution_count": null,
      "outputs": [
        {
          "output_type": "execute_result",
          "data": {
            "text/plain": [
              "array([1., 2., 3.])"
            ]
          },
          "metadata": {},
          "execution_count": 74
        }
      ]
    },
    {
      "cell_type": "code",
      "source": [
        "# dtype\n",
        "np.array([1,2,3],dtype=bool)"
      ],
      "metadata": {
        "id": "kPiAQsvGKciC",
        "outputId": "af35e6e4-01ff-4e99-9b43-231943a6b777",
        "colab": {
          "base_uri": "https://localhost:8080/"
        }
      },
      "execution_count": 3,
      "outputs": [
        {
          "output_type": "execute_result",
          "data": {
            "text/plain": [
              "array([ True,  True,  True])"
            ]
          },
          "metadata": {},
          "execution_count": 3
        }
      ]
    },
    {
      "cell_type": "code",
      "source": [
        "# dtype\n",
        "np.array([1,2,3],dtype=complex)"
      ],
      "metadata": {
        "id": "i1m4uy33KmzV",
        "outputId": "06ec99da-4cc7-4db1-b93c-660520c215db",
        "colab": {
          "base_uri": "https://localhost:8080/"
        }
      },
      "execution_count": 4,
      "outputs": [
        {
          "output_type": "execute_result",
          "data": {
            "text/plain": [
              "array([1.+0.j, 2.+0.j, 3.+0.j])"
            ]
          },
          "metadata": {},
          "execution_count": 4
        }
      ]
    },
    {
      "cell_type": "code",
      "source": [
        "# np.arange\n",
        "np.arange(1,11,2) # just like range function"
      ],
      "metadata": {
        "colab": {
          "base_uri": "https://localhost:8080/"
        },
        "id": "ZY187Au_s8vm",
        "outputId": "cb13d451-a431-446f-f3a3-245315da6775"
      },
      "execution_count": null,
      "outputs": [
        {
          "output_type": "execute_result",
          "data": {
            "text/plain": [
              "array([1, 3, 5, 7, 9])"
            ]
          },
          "metadata": {},
          "execution_count": 76
        }
      ]
    },
    {
      "cell_type": "code",
      "source": [
        "# with reshape\n",
        "np.arange(16).reshape(2,2,2,2) # 4-d array"
      ],
      "metadata": {
        "colab": {
          "base_uri": "https://localhost:8080/"
        },
        "id": "3Gc7BaJZwl7e",
        "outputId": "b5de007b-dc2b-4149-a783-8df8382b1a84"
      },
      "execution_count": 17,
      "outputs": [
        {
          "output_type": "execute_result",
          "data": {
            "text/plain": [
              "array([[[[ 0,  1],\n",
              "         [ 2,  3]],\n",
              "\n",
              "        [[ 4,  5],\n",
              "         [ 6,  7]]],\n",
              "\n",
              "\n",
              "       [[[ 8,  9],\n",
              "         [10, 11]],\n",
              "\n",
              "        [[12, 13],\n",
              "         [14, 15]]]])"
            ]
          },
          "metadata": {},
          "execution_count": 17
        }
      ]
    },
    {
      "cell_type": "code",
      "source": [
        "# with reshape\n",
        "np.arange(16).reshape(4,4)"
      ],
      "metadata": {
        "id": "MV-rrbfbL1LH",
        "outputId": "f322c8b9-57de-46b4-8163-5c297fc3c4f1",
        "colab": {
          "base_uri": "https://localhost:8080/"
        }
      },
      "execution_count": 6,
      "outputs": [
        {
          "output_type": "execute_result",
          "data": {
            "text/plain": [
              "array([[ 0,  1,  2,  3],\n",
              "       [ 4,  5,  6,  7],\n",
              "       [ 8,  9, 10, 11],\n",
              "       [12, 13, 14, 15]])"
            ]
          },
          "metadata": {},
          "execution_count": 6
        }
      ]
    },
    {
      "cell_type": "code",
      "source": [
        "# with reshape\n",
        "np.arange(16).reshape(5,2) # product of all parameters of reshape should be equal to total no of elements"
      ],
      "metadata": {
        "id": "1HGKir8kMHOK",
        "outputId": "9ed68b7b-0026-4700-c9bd-623f27e12420",
        "colab": {
          "base_uri": "https://localhost:8080/",
          "height": 159
        }
      },
      "execution_count": 7,
      "outputs": [
        {
          "output_type": "error",
          "ename": "ValueError",
          "evalue": "cannot reshape array of size 16 into shape (5,2)",
          "traceback": [
            "\u001b[0;31m---------------------------------------------------------------------------\u001b[0m",
            "\u001b[0;31mValueError\u001b[0m                                Traceback (most recent call last)",
            "\u001b[0;32m<ipython-input-7-7de8900e31ef>\u001b[0m in \u001b[0;36m<cell line: 2>\u001b[0;34m()\u001b[0m\n\u001b[1;32m      1\u001b[0m \u001b[0;31m# with reshape\u001b[0m\u001b[0;34m\u001b[0m\u001b[0;34m\u001b[0m\u001b[0m\n\u001b[0;32m----> 2\u001b[0;31m \u001b[0mnp\u001b[0m\u001b[0;34m.\u001b[0m\u001b[0marange\u001b[0m\u001b[0;34m(\u001b[0m\u001b[0;36m16\u001b[0m\u001b[0;34m)\u001b[0m\u001b[0;34m.\u001b[0m\u001b[0mreshape\u001b[0m\u001b[0;34m(\u001b[0m\u001b[0;36m5\u001b[0m\u001b[0;34m,\u001b[0m\u001b[0;36m2\u001b[0m\u001b[0;34m)\u001b[0m\u001b[0;34m\u001b[0m\u001b[0;34m\u001b[0m\u001b[0m\n\u001b[0m",
            "\u001b[0;31mValueError\u001b[0m: cannot reshape array of size 16 into shape (5,2)"
          ]
        }
      ]
    },
    {
      "cell_type": "code",
      "source": [
        "# np.ones and np.zeros\n",
        "np.ones((3,4)) # this can be use to initialize arrays"
      ],
      "metadata": {
        "colab": {
          "base_uri": "https://localhost:8080/"
        },
        "id": "R2BYpYcGs-9l",
        "outputId": "992ba3c5-532b-4229-997b-b584de7d36d8"
      },
      "execution_count": null,
      "outputs": [
        {
          "output_type": "execute_result",
          "data": {
            "text/plain": [
              "array([[1., 1., 1., 1.],\n",
              "       [1., 1., 1., 1.],\n",
              "       [1., 1., 1., 1.]])"
            ]
          },
          "metadata": {},
          "execution_count": 84
        }
      ]
    },
    {
      "cell_type": "markdown",
      "source": [
        "![image.png](data:image/png;base64,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)\n",
        "\n",
        "In deep learning we initialize weights using np.ones()"
      ],
      "metadata": {
        "id": "UE3zVmJ1M3ma"
      }
    },
    {
      "cell_type": "code",
      "source": [
        "np.zeros((3,4))"
      ],
      "metadata": {
        "colab": {
          "base_uri": "https://localhost:8080/"
        },
        "id": "vOjv_Euj8HGR",
        "outputId": "85fb7d62-e57f-4935-f33b-0c47a8bca4b3"
      },
      "execution_count": null,
      "outputs": [
        {
          "output_type": "execute_result",
          "data": {
            "text/plain": [
              "array([[0., 0., 0., 0.],\n",
              "       [0., 0., 0., 0.],\n",
              "       [0., 0., 0., 0.]])"
            ]
          },
          "metadata": {},
          "execution_count": 85
        }
      ]
    },
    {
      "cell_type": "code",
      "source": [
        "# np.random\n",
        "np.random.random((3,4)) # initialize by random number"
      ],
      "metadata": {
        "colab": {
          "base_uri": "https://localhost:8080/"
        },
        "id": "fYEeYi7itCRM",
        "outputId": "6a5ead6b-3dbb-45f5-a495-b7d78c2683ba"
      },
      "execution_count": null,
      "outputs": [
        {
          "output_type": "execute_result",
          "data": {
            "text/plain": [
              "array([[0.85721156, 0.31248316, 0.08807828, 0.35230774],\n",
              "       [0.96813914, 0.44681708, 0.56396358, 0.53020065],\n",
              "       [0.03277116, 0.28543753, 0.09521082, 0.87967034]])"
            ]
          },
          "metadata": {},
          "execution_count": 86
        }
      ]
    },
    {
      "cell_type": "code",
      "source": [
        "# np.linspace (linearly spaced)\n",
        "np.linspace(-10,10,10,dtype=int)  # lower range , upper range , no of items\n",
        "# all points are at equal distance between 2 numbers"
      ],
      "metadata": {
        "colab": {
          "base_uri": "https://localhost:8080/"
        },
        "id": "vel7WrgltE3P",
        "outputId": "21b993d2-c91c-42fa-f97c-030b87cc292a"
      },
      "execution_count": null,
      "outputs": [
        {
          "output_type": "execute_result",
          "data": {
            "text/plain": [
              "array([-10,  -8,  -6,  -4,  -2,   1,   3,   5,   7,  10])"
            ]
          },
          "metadata": {},
          "execution_count": 89
        }
      ]
    },
    {
      "cell_type": "code",
      "source": [
        "# np.identity\n",
        "np.identity(3) # we can create identity matrix"
      ],
      "metadata": {
        "colab": {
          "base_uri": "https://localhost:8080/"
        },
        "id": "ewyMuXh1tJzi",
        "outputId": "921cf302-94d7-4d44-d696-881b839ced04"
      },
      "execution_count": null,
      "outputs": [
        {
          "output_type": "execute_result",
          "data": {
            "text/plain": [
              "array([[1., 0., 0.],\n",
              "       [0., 1., 0.],\n",
              "       [0., 0., 1.]])"
            ]
          },
          "metadata": {},
          "execution_count": 88
        }
      ]
    },
    {
      "cell_type": "markdown",
      "source": [
        "### Array Attributes"
      ],
      "metadata": {
        "id": "LphXpjZJtNyI"
      }
    },
    {
      "cell_type": "code",
      "source": [
        "a1 = np.arange(10,dtype=np.int32) # there are 2 types of int in python int32 and int64\n",
        "a2 = np.arange(12,dtype=float).reshape(3,4)\n",
        "a3 = np.arange(8).reshape(2,2,2)\n",
        "\n",
        "print(a1) # vector\n",
        "print(a2) # matrix\n",
        "print(a3) # tensor"
      ],
      "metadata": {
        "colab": {
          "base_uri": "https://localhost:8080/"
        },
        "id": "UXnB5dIEFOgD",
        "outputId": "31d1013e-5fba-48aa-d4d0-f09d11b19e5f"
      },
      "execution_count": 9,
      "outputs": [
        {
          "output_type": "stream",
          "name": "stdout",
          "text": [
            "[0 1 2 3 4 5 6 7 8 9]\n",
            "[[ 0.  1.  2.  3.]\n",
            " [ 4.  5.  6.  7.]\n",
            " [ 8.  9. 10. 11.]]\n",
            "[[[0 1]\n",
            "  [2 3]]\n",
            "\n",
            " [[4 5]\n",
            "  [6 7]]]\n"
          ]
        }
      ]
    },
    {
      "cell_type": "code",
      "source": [
        "# ndim (no of dimention)\n",
        "a3.ndim"
      ],
      "metadata": {
        "colab": {
          "base_uri": "https://localhost:8080/"
        },
        "id": "qib4oDFptRKN",
        "outputId": "f502dd7b-b131-4c8a-c8c5-480b5aa902bb"
      },
      "execution_count": 10,
      "outputs": [
        {
          "output_type": "execute_result",
          "data": {
            "text/plain": [
              "3"
            ]
          },
          "metadata": {},
          "execution_count": 10
        }
      ]
    },
    {
      "cell_type": "code",
      "source": [
        "# shape\n",
        "print(a1.shape) # (rows,columns)\n",
        "a1"
      ],
      "metadata": {
        "id": "yRtRl-yEPJE-",
        "outputId": "7c068712-85ee-42ba-b3fd-5e914177b5f8",
        "colab": {
          "base_uri": "https://localhost:8080/"
        }
      },
      "execution_count": 11,
      "outputs": [
        {
          "output_type": "stream",
          "name": "stdout",
          "text": [
            "(10,)\n"
          ]
        },
        {
          "output_type": "execute_result",
          "data": {
            "text/plain": [
              "array([0, 1, 2, 3, 4, 5, 6, 7, 8, 9], dtype=int32)"
            ]
          },
          "metadata": {},
          "execution_count": 11
        }
      ]
    },
    {
      "cell_type": "code",
      "source": [
        "# shape\n",
        "print(a2.shape) # (rows,columns)\n",
        "a2"
      ],
      "metadata": {
        "id": "VwWxJj7CPI_V",
        "outputId": "d50401e7-e886-4728-91f1-97d01f7dfd3c",
        "colab": {
          "base_uri": "https://localhost:8080/"
        }
      },
      "execution_count": 12,
      "outputs": [
        {
          "output_type": "stream",
          "name": "stdout",
          "text": [
            "(3, 4)\n"
          ]
        },
        {
          "output_type": "execute_result",
          "data": {
            "text/plain": [
              "array([[ 0.,  1.,  2.,  3.],\n",
              "       [ 4.,  5.,  6.,  7.],\n",
              "       [ 8.,  9., 10., 11.]])"
            ]
          },
          "metadata": {},
          "execution_count": 12
        }
      ]
    },
    {
      "cell_type": "code",
      "source": [
        "# shape\n",
        "print(a3.shape) # (rows,columns)\n",
        "a3 # there are 2 2-d arrays of shape 2,2\n",
        "# (2, 2, 2) :  how many 2-d array, rows , and column of that arrays"
      ],
      "metadata": {
        "colab": {
          "base_uri": "https://localhost:8080/"
        },
        "id": "InUvH8KGtSRv",
        "outputId": "d567d4cb-a533-4419-e4de-677dc5dd87bb"
      },
      "execution_count": null,
      "outputs": [
        {
          "output_type": "stream",
          "name": "stdout",
          "text": [
            "(2, 2, 2)\n"
          ]
        },
        {
          "output_type": "execute_result",
          "data": {
            "text/plain": [
              "array([[[0, 1],\n",
              "        [2, 3]],\n",
              "\n",
              "       [[4, 5],\n",
              "        [6, 7]]])"
            ]
          },
          "metadata": {},
          "execution_count": 100
        }
      ]
    },
    {
      "cell_type": "code",
      "source": [
        "# size\n",
        "print(a2.size) # total no of items\n",
        "a2"
      ],
      "metadata": {
        "colab": {
          "base_uri": "https://localhost:8080/"
        },
        "id": "9Dko5610tT-Z",
        "outputId": "5e8fdaa5-d444-4867-8ad0-3acf299c391e"
      },
      "execution_count": null,
      "outputs": [
        {
          "output_type": "stream",
          "name": "stdout",
          "text": [
            "12\n"
          ]
        },
        {
          "output_type": "execute_result",
          "data": {
            "text/plain": [
              "array([[ 0.,  1.,  2.,  3.],\n",
              "       [ 4.,  5.,  6.,  7.],\n",
              "       [ 8.,  9., 10., 11.]])"
            ]
          },
          "metadata": {},
          "execution_count": 103
        }
      ]
    },
    {
      "cell_type": "code",
      "source": [
        "# itemsize (size occupied in memory by every item )\n",
        "a1.itemsize # int32 takes 4 bytes"
      ],
      "metadata": {
        "id": "sHOR4Eh8Qjth",
        "outputId": "495000da-40f2-4232-c462-2313590a0d05",
        "colab": {
          "base_uri": "https://localhost:8080/"
        }
      },
      "execution_count": 13,
      "outputs": [
        {
          "output_type": "execute_result",
          "data": {
            "text/plain": [
              "4"
            ]
          },
          "metadata": {},
          "execution_count": 13
        }
      ]
    },
    {
      "cell_type": "code",
      "source": [
        "# itemsize\n",
        "a3.itemsize  # int64 takes 8 bytes (bydefault is int64)"
      ],
      "metadata": {
        "colab": {
          "base_uri": "https://localhost:8080/"
        },
        "id": "wDFdHtH3tV1Z",
        "outputId": "dd8bf2cd-bc17-4d6c-ae17-06ae052ab711"
      },
      "execution_count": null,
      "outputs": [
        {
          "output_type": "execute_result",
          "data": {
            "text/plain": [
              "8"
            ]
          },
          "metadata": {},
          "execution_count": 112
        }
      ]
    },
    {
      "cell_type": "code",
      "source": [
        "# dtype\n",
        "print(a1.dtype)\n",
        "print(a2.dtype)\n",
        "print(a3.dtype)"
      ],
      "metadata": {
        "colab": {
          "base_uri": "https://localhost:8080/"
        },
        "id": "Pik7FgEVtXDj",
        "outputId": "00b7b1ad-d200-4c7c-e440-ba3c05928073"
      },
      "execution_count": null,
      "outputs": [
        {
          "output_type": "stream",
          "name": "stdout",
          "text": [
            "int32\n",
            "float64\n",
            "int64\n"
          ]
        }
      ]
    },
    {
      "cell_type": "markdown",
      "source": [
        "### Changing Datatype"
      ],
      "metadata": {
        "id": "7Ase0eFWtcFl"
      }
    },
    {
      "cell_type": "code",
      "source": [
        "# astype\n",
        "a3.dtype  # int64 is used to store a very large of integer (if we are storing age then we will not use this as age is generally not more than 100)\n",
        "a3.astype(np.int32)"
      ],
      "metadata": {
        "colab": {
          "base_uri": "https://localhost:8080/"
        },
        "id": "DZPEFqhotbFS",
        "outputId": "ef30523b-170b-46b6-8732-cb3c25211500"
      },
      "execution_count": 15,
      "outputs": [
        {
          "output_type": "execute_result",
          "data": {
            "text/plain": [
              "array([[[0, 1],\n",
              "        [2, 3]],\n",
              "\n",
              "       [[4, 5],\n",
              "        [6, 7]]], dtype=int32)"
            ]
          },
          "metadata": {},
          "execution_count": 15
        }
      ]
    },
    {
      "cell_type": "markdown",
      "source": [
        "### Array Operations"
      ],
      "metadata": {
        "id": "k-y-aaV9u52l"
      }
    },
    {
      "cell_type": "code",
      "source": [
        "a1 = np.arange(12).reshape(3,4)\n",
        "a2 = np.arange(12,24).reshape(3,4)\n",
        "\n",
        "a2"
      ],
      "metadata": {
        "colab": {
          "base_uri": "https://localhost:8080/"
        },
        "id": "mIk8tk53HnOW",
        "outputId": "bd44f3ba-44dd-4b57-a803-f9271c7e1b35"
      },
      "execution_count": 26,
      "outputs": [
        {
          "output_type": "execute_result",
          "data": {
            "text/plain": [
              "array([[12, 13, 14, 15],\n",
              "       [16, 17, 18, 19],\n",
              "       [20, 21, 22, 23]])"
            ]
          },
          "metadata": {},
          "execution_count": 26
        }
      ]
    },
    {
      "cell_type": "code",
      "source": [
        "# scalar operations : We are operating on a single numpy array with a single number\n",
        "\n",
        "# arithmetic\n",
        "a1 * 2"
      ],
      "metadata": {
        "colab": {
          "base_uri": "https://localhost:8080/"
        },
        "id": "vtQrWQKD87Fn",
        "outputId": "3b83cb51-603b-40ce-fbde-5981408c63d2"
      },
      "execution_count": 27,
      "outputs": [
        {
          "output_type": "execute_result",
          "data": {
            "text/plain": [
              "array([[ 0,  2,  4,  6],\n",
              "       [ 8, 10, 12, 14],\n",
              "       [16, 18, 20, 22]])"
            ]
          },
          "metadata": {},
          "execution_count": 27
        }
      ]
    },
    {
      "cell_type": "code",
      "source": [
        "# arithmetic\n",
        "a2 ** 2"
      ],
      "metadata": {
        "id": "RgGohuHHcj6j",
        "outputId": "ac73c543-8aed-4d73-dc58-7070dd9ceaec",
        "colab": {
          "base_uri": "https://localhost:8080/"
        }
      },
      "execution_count": 28,
      "outputs": [
        {
          "output_type": "execute_result",
          "data": {
            "text/plain": [
              "array([[144, 169, 196, 225],\n",
              "       [256, 289, 324, 361],\n",
              "       [400, 441, 484, 529]])"
            ]
          },
          "metadata": {},
          "execution_count": 28
        }
      ]
    },
    {
      "cell_type": "code",
      "source": [
        "# relational\n",
        "a2 < 18"
      ],
      "metadata": {
        "colab": {
          "base_uri": "https://localhost:8080/"
        },
        "id": "mCgPxTzQrtte",
        "outputId": "0988780c-75c2-4e55-99bf-26771768fc76"
      },
      "execution_count": 29,
      "outputs": [
        {
          "output_type": "execute_result",
          "data": {
            "text/plain": [
              "array([[ True,  True,  True,  True],\n",
              "       [ True,  True, False, False],\n",
              "       [False, False, False, False]])"
            ]
          },
          "metadata": {},
          "execution_count": 29
        }
      ]
    },
    {
      "cell_type": "code",
      "source": [
        "# vector operations : We are operating on 2 numpy arrays\n",
        "# arithmetic\n",
        "a1 / a2"
      ],
      "metadata": {
        "colab": {
          "base_uri": "https://localhost:8080/"
        },
        "id": "E2S3xDRxrt5D",
        "outputId": "4f06770e-8468-4b09-f2cc-813cee276a01"
      },
      "execution_count": 31,
      "outputs": [
        {
          "output_type": "execute_result",
          "data": {
            "text/plain": [
              "array([[0.        , 0.07692308, 0.14285714, 0.2       ],\n",
              "       [0.25      , 0.29411765, 0.33333333, 0.36842105],\n",
              "       [0.4       , 0.42857143, 0.45454545, 0.47826087]])"
            ]
          },
          "metadata": {},
          "execution_count": 31
        }
      ]
    },
    {
      "cell_type": "markdown",
      "source": [
        "### Array Functions"
      ],
      "metadata": {
        "id": "AQZgntYTu8ot"
      }
    },
    {
      "cell_type": "code",
      "source": [
        "a1 = np.random.random((3,3))\n",
        "a1 = np.round(a1*100)\n",
        "a1"
      ],
      "metadata": {
        "colab": {
          "base_uri": "https://localhost:8080/"
        },
        "id": "CHUj0a_dIP4F",
        "outputId": "851cd0c4-1c8e-4a0b-f896-ff536916b1d4"
      },
      "execution_count": 33,
      "outputs": [
        {
          "output_type": "execute_result",
          "data": {
            "text/plain": [
              "array([[69., 67., 66.],\n",
              "       [47., 48., 32.],\n",
              "       [16.,  4., 74.]])"
            ]
          },
          "metadata": {},
          "execution_count": 33
        }
      ]
    },
    {
      "cell_type": "code",
      "source": [
        "# max/min/sum/prod\n",
        "np.max(a1)"
      ],
      "metadata": {
        "id": "J6wOZxIzeTmz",
        "outputId": "db12a4f9-96b0-4c53-b9e0-5ffc01654b93",
        "colab": {
          "base_uri": "https://localhost:8080/"
        }
      },
      "execution_count": 34,
      "outputs": [
        {
          "output_type": "execute_result",
          "data": {
            "text/plain": [
              "74.0"
            ]
          },
          "metadata": {},
          "execution_count": 34
        }
      ]
    },
    {
      "cell_type": "code",
      "source": [
        "np.min(a1)"
      ],
      "metadata": {
        "id": "k0r8TBXOeTgp",
        "outputId": "811e08e8-c88a-49fc-845c-0cefc60f893c",
        "colab": {
          "base_uri": "https://localhost:8080/"
        }
      },
      "execution_count": 35,
      "outputs": [
        {
          "output_type": "execute_result",
          "data": {
            "text/plain": [
              "4.0"
            ]
          },
          "metadata": {},
          "execution_count": 35
        }
      ]
    },
    {
      "cell_type": "code",
      "source": [
        "np.sum(a1)"
      ],
      "metadata": {
        "id": "XFcMYMYTeTaE",
        "outputId": "d8186917-7265-4063-e92f-1144a243743c",
        "colab": {
          "base_uri": "https://localhost:8080/"
        }
      },
      "execution_count": 36,
      "outputs": [
        {
          "output_type": "execute_result",
          "data": {
            "text/plain": [
              "423.0"
            ]
          },
          "metadata": {},
          "execution_count": 36
        }
      ]
    },
    {
      "cell_type": "code",
      "source": [
        "np.prod(a1)"
      ],
      "metadata": {
        "id": "cHZLJfKmeiHO",
        "outputId": "8625ec8d-737c-4b11-c1d9-5c449e199442",
        "colab": {
          "base_uri": "https://localhost:8080/"
        }
      },
      "execution_count": 37,
      "outputs": [
        {
          "output_type": "execute_result",
          "data": {
            "text/plain": [
              "104320244514816.0"
            ]
          },
          "metadata": {},
          "execution_count": 37
        }
      ]
    },
    {
      "cell_type": "code",
      "source": [
        "# max/min/sum/prod\n",
        "# 0 -> col and 1 -> row\n",
        "np.max(a1,axis=1) # max item in every column"
      ],
      "metadata": {
        "colab": {
          "base_uri": "https://localhost:8080/"
        },
        "id": "J1EWNET29Urx",
        "outputId": "0b6d38f0-082a-4c10-9cb7-12f2d9fd28d2"
      },
      "execution_count": 42,
      "outputs": [
        {
          "output_type": "execute_result",
          "data": {
            "text/plain": [
              "array([69., 48., 74.])"
            ]
          },
          "metadata": {},
          "execution_count": 42
        }
      ]
    },
    {
      "cell_type": "code",
      "source": [
        "# max/min/sum/prod\n",
        "# 0 -> col and 1 -> row\n",
        "np.min(a1,axis=1) # max item in every column"
      ],
      "metadata": {
        "id": "P_dFgLwUeuoH",
        "outputId": "69b43fbb-86da-4802-e046-e471ce5d77e6",
        "colab": {
          "base_uri": "https://localhost:8080/"
        }
      },
      "execution_count": 43,
      "outputs": [
        {
          "output_type": "execute_result",
          "data": {
            "text/plain": [
              "array([66., 32.,  4.])"
            ]
          },
          "metadata": {},
          "execution_count": 43
        }
      ]
    },
    {
      "cell_type": "code",
      "source": [
        "# max/min/sum/prod\n",
        "# 0 -> col and 1 -> row\n",
        "np.sum(a1,axis=1)  # sum item in every row"
      ],
      "metadata": {
        "id": "fFFjJ44Ieuf2",
        "outputId": "ed13cd78-63b0-43da-e43f-33b050805ffe",
        "colab": {
          "base_uri": "https://localhost:8080/"
        }
      },
      "execution_count": 44,
      "outputs": [
        {
          "output_type": "execute_result",
          "data": {
            "text/plain": [
              "array([202., 127.,  94.])"
            ]
          },
          "metadata": {},
          "execution_count": 44
        }
      ]
    },
    {
      "cell_type": "code",
      "source": [
        "# max/min/sum/prod\n",
        "# 0 -> col and 1 -> row\n",
        "np.prod(a1,axis=1)  # product item in every row"
      ],
      "metadata": {
        "id": "IiJmZn96eucb",
        "outputId": "31cd5830-b6a8-4c16-c79c-2cf4661ec43c",
        "colab": {
          "base_uri": "https://localhost:8080/"
        }
      },
      "execution_count": 45,
      "outputs": [
        {
          "output_type": "execute_result",
          "data": {
            "text/plain": [
              "array([305118.,  72192.,   4736.])"
            ]
          },
          "metadata": {},
          "execution_count": 45
        }
      ]
    },
    {
      "cell_type": "code",
      "source": [
        "# mean/median/std/var\n",
        "np.mean(a1,axis=1)"
      ],
      "metadata": {
        "id": "kj5xrYMbfdTU",
        "outputId": "72873eae-ce20-40b8-9b93-7027bffe73f9",
        "colab": {
          "base_uri": "https://localhost:8080/"
        }
      },
      "execution_count": 46,
      "outputs": [
        {
          "output_type": "execute_result",
          "data": {
            "text/plain": [
              "array([67.33333333, 42.33333333, 31.33333333])"
            ]
          },
          "metadata": {},
          "execution_count": 46
        }
      ]
    },
    {
      "cell_type": "code",
      "source": [
        "# mean/median/std/var\n",
        "np.median(a1,axis=1)"
      ],
      "metadata": {
        "id": "xhoQ7UkOfdNQ",
        "outputId": "6031a821-f07a-4cd7-eeb1-9877c582063f",
        "colab": {
          "base_uri": "https://localhost:8080/"
        }
      },
      "execution_count": 47,
      "outputs": [
        {
          "output_type": "execute_result",
          "data": {
            "text/plain": [
              "array([67., 47., 16.])"
            ]
          },
          "metadata": {},
          "execution_count": 47
        }
      ]
    },
    {
      "cell_type": "code",
      "source": [
        "# mean/median/std/var\n",
        "np.std(a1,axis=1)"
      ],
      "metadata": {
        "id": "gKPsruNFfdH4",
        "outputId": "3bdb285b-b8e4-4e76-8056-acbc5189eade",
        "colab": {
          "base_uri": "https://localhost:8080/"
        }
      },
      "execution_count": 48,
      "outputs": [
        {
          "output_type": "execute_result",
          "data": {
            "text/plain": [
              "array([ 1.24721913,  7.31816613, 30.56504903])"
            ]
          },
          "metadata": {},
          "execution_count": 48
        }
      ]
    },
    {
      "cell_type": "code",
      "source": [
        "# mean/median/std/var\n",
        "np.var(a1,axis=1)"
      ],
      "metadata": {
        "colab": {
          "base_uri": "https://localhost:8080/"
        },
        "id": "JAlMLFkds9KC",
        "outputId": "63636deb-3321-4714-d5a4-388445e1c492"
      },
      "execution_count": null,
      "outputs": [
        {
          "output_type": "execute_result",
          "data": {
            "text/plain": [
              "array([317.55555556, 854.        ,  96.22222222])"
            ]
          },
          "metadata": {},
          "execution_count": 153
        }
      ]
    },
    {
      "cell_type": "code",
      "source": [
        "# trigonomoetric functions\n",
        "np.sin(a1)"
      ],
      "metadata": {
        "colab": {
          "base_uri": "https://localhost:8080/"
        },
        "id": "vwLoQQVqs-m-",
        "outputId": "128781c4-4e3d-4748-c619-cdb874c99d9b"
      },
      "execution_count": null,
      "outputs": [
        {
          "output_type": "execute_result",
          "data": {
            "text/plain": [
              "array([[-0.83177474,  0.27090579,  0.95105465],\n",
              "       [ 0.95637593, -0.94828214, -0.99177885],\n",
              "       [-0.40403765, -0.75098725,  0.6569866 ]])"
            ]
          },
          "metadata": {},
          "execution_count": 154
        }
      ]
    },
    {
      "cell_type": "code",
      "source": [
        "# dot product\n",
        "a2 = np.arange(12).reshape(3,4)\n",
        "a3 = np.arange(12,24).reshape(4,3)\n",
        "\n",
        "np.dot(a2,a3)"
      ],
      "metadata": {
        "colab": {
          "base_uri": "https://localhost:8080/"
        },
        "id": "RoEtYuiytFm1",
        "outputId": "7ab0e6f1-820d-4deb-c7a3-b3301eed9ec4"
      },
      "execution_count": null,
      "outputs": [
        {
          "output_type": "execute_result",
          "data": {
            "text/plain": [
              "array([[114, 120, 126],\n",
              "       [378, 400, 422],\n",
              "       [642, 680, 718]])"
            ]
          },
          "metadata": {},
          "execution_count": 157
        }
      ]
    },
    {
      "cell_type": "code",
      "source": [
        "# log and exponents\n",
        "np.exp(a1)"
      ],
      "metadata": {
        "colab": {
          "base_uri": "https://localhost:8080/"
        },
        "id": "qd7GmrgEtH6i",
        "outputId": "85a52de0-68b1-4838-c462-f28a7e00d4db"
      },
      "execution_count": null,
      "outputs": [
        {
          "output_type": "execute_result",
          "data": {
            "text/plain": [
              "array([[4.72783947e+18, 1.44625706e+12, 6.83767123e+30],\n",
              "       [5.32048241e+11, 2.45124554e+40, 4.31123155e+15],\n",
              "       [2.90488497e+13, 6.56599691e+07, 1.09663316e+03]])"
            ]
          },
          "metadata": {},
          "execution_count": 160
        }
      ]
    },
    {
      "cell_type": "code",
      "source": [
        "# round/floor/ceil\n",
        "\n",
        "np.ceil(np.random.random((2,3))*100)"
      ],
      "metadata": {
        "colab": {
          "base_uri": "https://localhost:8080/"
        },
        "id": "EOXnVCZhtKk1",
        "outputId": "3be37070-696a-46e9-b5e7-6298bf2cdbb9"
      },
      "execution_count": null,
      "outputs": [
        {
          "output_type": "execute_result",
          "data": {
            "text/plain": [
              "array([[48.,  4.,  6.],\n",
              "       [ 3., 18., 82.]])"
            ]
          },
          "metadata": {},
          "execution_count": 165
        }
      ]
    },
    {
      "cell_type": "markdown",
      "source": [
        "### Indexing and Slicing"
      ],
      "metadata": {
        "id": "2pYZJMrAuvuv"
      }
    },
    {
      "cell_type": "code",
      "source": [
        "a1 = np.arange(10)\n",
        "a2 = np.arange(12).reshape(3,4)\n",
        "a3 = np.arange(8).reshape(2,2,2)\n",
        "\n",
        "a3"
      ],
      "metadata": {
        "colab": {
          "base_uri": "https://localhost:8080/"
        },
        "id": "v1LynzX9u2R-",
        "outputId": "87758bbe-4e80-423c-eb35-62a74c1fc92d"
      },
      "execution_count": 51,
      "outputs": [
        {
          "output_type": "execute_result",
          "data": {
            "text/plain": [
              "array([[[0, 1],\n",
              "        [2, 3]],\n",
              "\n",
              "       [[4, 5],\n",
              "        [6, 7]]])"
            ]
          },
          "metadata": {},
          "execution_count": 51
        }
      ]
    },
    {
      "cell_type": "code",
      "source": [
        "a1"
      ],
      "metadata": {
        "colab": {
          "base_uri": "https://localhost:8080/"
        },
        "id": "qyFbwR9Ku2YE",
        "outputId": "4022fc33-5bc2-4d70-8e00-d6026f22b43d"
      },
      "execution_count": 52,
      "outputs": [
        {
          "output_type": "execute_result",
          "data": {
            "text/plain": [
              "array([0, 1, 2, 3, 4, 5, 6, 7, 8, 9])"
            ]
          },
          "metadata": {},
          "execution_count": 52
        }
      ]
    },
    {
      "cell_type": "code",
      "source": [
        "a2"
      ],
      "metadata": {
        "colab": {
          "base_uri": "https://localhost:8080/"
        },
        "id": "Q2IbBdEXu2a5",
        "outputId": "3670a72d-7057-4edf-82bc-30a8926e4e78"
      },
      "execution_count": 53,
      "outputs": [
        {
          "output_type": "execute_result",
          "data": {
            "text/plain": [
              "array([[ 0,  1,  2,  3],\n",
              "       [ 4,  5,  6,  7],\n",
              "       [ 8,  9, 10, 11]])"
            ]
          },
          "metadata": {},
          "execution_count": 53
        }
      ]
    },
    {
      "cell_type": "code",
      "source": [
        "a2[1,0]"
      ],
      "metadata": {
        "colab": {
          "base_uri": "https://localhost:8080/"
        },
        "id": "GIR5YhVzu2dc",
        "outputId": "bbc91b3f-5258-48bf-e8d8-5a9703062458"
      },
      "execution_count": 54,
      "outputs": [
        {
          "output_type": "execute_result",
          "data": {
            "text/plain": [
              "4"
            ]
          },
          "metadata": {},
          "execution_count": 54
        }
      ]
    },
    {
      "cell_type": "code",
      "source": [
        "a3"
      ],
      "metadata": {
        "colab": {
          "base_uri": "https://localhost:8080/"
        },
        "id": "IbM-KNY3HP9-",
        "outputId": "2879ab19-1fe1-4ccb-a5c7-ce8bf837817b"
      },
      "execution_count": 55,
      "outputs": [
        {
          "output_type": "execute_result",
          "data": {
            "text/plain": [
              "array([[[0, 1],\n",
              "        [2, 3]],\n",
              "\n",
              "       [[4, 5],\n",
              "        [6, 7]]])"
            ]
          },
          "metadata": {},
          "execution_count": 55
        }
      ]
    },
    {
      "cell_type": "code",
      "source": [
        "a3[1,0,1]"
      ],
      "metadata": {
        "colab": {
          "base_uri": "https://localhost:8080/"
        },
        "id": "xG7HU0RgHQD-",
        "outputId": "92aa591c-7d35-4082-c874-345a39c8ce73"
      },
      "execution_count": 56,
      "outputs": [
        {
          "output_type": "execute_result",
          "data": {
            "text/plain": [
              "5"
            ]
          },
          "metadata": {},
          "execution_count": 56
        }
      ]
    },
    {
      "cell_type": "code",
      "source": [
        "a3[1,1,0]"
      ],
      "metadata": {
        "colab": {
          "base_uri": "https://localhost:8080/"
        },
        "id": "3EhcikSWHQKO",
        "outputId": "c2dea502-ecf3-4ba3-ee27-67b1ad5adb8c"
      },
      "execution_count": 57,
      "outputs": [
        {
          "output_type": "execute_result",
          "data": {
            "text/plain": [
              "6"
            ]
          },
          "metadata": {},
          "execution_count": 57
        }
      ]
    },
    {
      "cell_type": "markdown",
      "source": [
        "#### slicing"
      ],
      "metadata": {
        "id": "bZDWZlmktzbO"
      }
    },
    {
      "cell_type": "code",
      "source": [
        "a1"
      ],
      "metadata": {
        "colab": {
          "base_uri": "https://localhost:8080/"
        },
        "id": "_cgU2A52HQO0",
        "outputId": "0b090645-de80-441d-a469-a2659d17529e"
      },
      "execution_count": 58,
      "outputs": [
        {
          "output_type": "execute_result",
          "data": {
            "text/plain": [
              "array([0, 1, 2, 3, 4, 5, 6, 7, 8, 9])"
            ]
          },
          "metadata": {},
          "execution_count": 58
        }
      ]
    },
    {
      "cell_type": "code",
      "source": [
        "a1[2:5:2]"
      ],
      "metadata": {
        "colab": {
          "base_uri": "https://localhost:8080/"
        },
        "id": "HnFM0Wa5IMw2",
        "outputId": "622e5bca-a541-42b0-d586-28c721b57d90"
      },
      "execution_count": 59,
      "outputs": [
        {
          "output_type": "execute_result",
          "data": {
            "text/plain": [
              "array([2, 4])"
            ]
          },
          "metadata": {},
          "execution_count": 59
        }
      ]
    },
    {
      "cell_type": "code",
      "source": [
        "a2"
      ],
      "metadata": {
        "colab": {
          "base_uri": "https://localhost:8080/"
        },
        "id": "SDWOK56EIM3n",
        "outputId": "b8328f74-db85-46e3-c546-6b209503171a"
      },
      "execution_count": 60,
      "outputs": [
        {
          "output_type": "execute_result",
          "data": {
            "text/plain": [
              "array([[ 0,  1,  2,  3],\n",
              "       [ 4,  5,  6,  7],\n",
              "       [ 8,  9, 10, 11]])"
            ]
          },
          "metadata": {},
          "execution_count": 60
        }
      ]
    },
    {
      "cell_type": "code",
      "source": [
        "a2[0,:] # row and column"
      ],
      "metadata": {
        "id": "6XKpUIinuC58",
        "outputId": "0e506447-8fe7-4d74-c760-5146fe8b3ab9",
        "colab": {
          "base_uri": "https://localhost:8080/"
        }
      },
      "execution_count": 62,
      "outputs": [
        {
          "output_type": "execute_result",
          "data": {
            "text/plain": [
              "array([0, 1, 2, 3])"
            ]
          },
          "metadata": {},
          "execution_count": 62
        }
      ]
    },
    {
      "cell_type": "code",
      "source": [
        "a2[:,2]"
      ],
      "metadata": {
        "id": "-r1IZLdZu9Lq",
        "outputId": "34c76329-5bf5-4bed-fbe9-a7e2359f8273",
        "colab": {
          "base_uri": "https://localhost:8080/"
        }
      },
      "execution_count": 64,
      "outputs": [
        {
          "output_type": "execute_result",
          "data": {
            "text/plain": [
              "array([ 2,  6, 10])"
            ]
          },
          "metadata": {},
          "execution_count": 64
        }
      ]
    },
    {
      "cell_type": "code",
      "source": [
        "a2[0:2,1::2] # row, column"
      ],
      "metadata": {
        "colab": {
          "base_uri": "https://localhost:8080/"
        },
        "id": "q55x6VoiKmpX",
        "outputId": "9b758dd3-e64b-46c0-e4e3-3c342660d19d"
      },
      "execution_count": null,
      "outputs": [
        {
          "output_type": "execute_result",
          "data": {
            "text/plain": [
              "array([[1, 3],\n",
              "       [5, 7]])"
            ]
          },
          "metadata": {},
          "execution_count": 193
        }
      ]
    },
    {
      "cell_type": "code",
      "source": [
        "a2[::2,::3] # alternate rows and column with 2 gaps"
      ],
      "metadata": {
        "id": "XhhAgRAmvdch",
        "outputId": "3895fcaf-09ea-4802-857d-9b3142970d4f",
        "colab": {
          "base_uri": "https://localhost:8080/"
        }
      },
      "execution_count": 66,
      "outputs": [
        {
          "output_type": "execute_result",
          "data": {
            "text/plain": [
              "array([[ 0,  3],\n",
              "       [ 8, 11]])"
            ]
          },
          "metadata": {},
          "execution_count": 66
        }
      ]
    },
    {
      "cell_type": "code",
      "source": [
        "a2[1:,1:3]"
      ],
      "metadata": {
        "id": "yD1EGahpvSRI",
        "outputId": "8ed9364e-9e03-41a2-9e7f-8ac2c69f682a",
        "colab": {
          "base_uri": "https://localhost:8080/"
        }
      },
      "execution_count": 65,
      "outputs": [
        {
          "output_type": "execute_result",
          "data": {
            "text/plain": [
              "array([[ 5,  6],\n",
              "       [ 9, 10]])"
            ]
          },
          "metadata": {},
          "execution_count": 65
        }
      ]
    },
    {
      "cell_type": "code",
      "source": [
        "a2[::2,1::2]"
      ],
      "metadata": {
        "colab": {
          "base_uri": "https://localhost:8080/"
        },
        "id": "t2hA9ZJNJOBW",
        "outputId": "e6740d01-e110-4b16-cb76-f5f7471eab2d"
      },
      "execution_count": null,
      "outputs": [
        {
          "output_type": "execute_result",
          "data": {
            "text/plain": [
              "array([[ 1,  3],\n",
              "       [ 9, 11]])"
            ]
          },
          "metadata": {},
          "execution_count": 189
        }
      ]
    },
    {
      "cell_type": "code",
      "source": [
        "a2[1,::3]"
      ],
      "metadata": {
        "colab": {
          "base_uri": "https://localhost:8080/"
        },
        "id": "hubSAa0eKSCt",
        "outputId": "fd7f2aef-9c08-4621-9bb7-0877dc98fb8d"
      },
      "execution_count": null,
      "outputs": [
        {
          "output_type": "execute_result",
          "data": {
            "text/plain": [
              "array([4, 7])"
            ]
          },
          "metadata": {},
          "execution_count": 190
        }
      ]
    },
    {
      "cell_type": "code",
      "source": [
        "a2[0,:]"
      ],
      "metadata": {
        "colab": {
          "base_uri": "https://localhost:8080/"
        },
        "id": "mi2B5NN9IM-B",
        "outputId": "673febf9-b6ed-4fb7-d12d-32e9b3a9938a"
      },
      "execution_count": null,
      "outputs": [
        {
          "output_type": "execute_result",
          "data": {
            "text/plain": [
              "array([0, 1, 2, 3])"
            ]
          },
          "metadata": {},
          "execution_count": 184
        }
      ]
    },
    {
      "cell_type": "code",
      "source": [
        "a2[:,2]"
      ],
      "metadata": {
        "colab": {
          "base_uri": "https://localhost:8080/"
        },
        "id": "u7dQcPKpINDS",
        "outputId": "dd032bf5-8e11-4f23-9ec7-5e1807fda319"
      },
      "execution_count": null,
      "outputs": [
        {
          "output_type": "execute_result",
          "data": {
            "text/plain": [
              "array([ 2,  6, 10])"
            ]
          },
          "metadata": {},
          "execution_count": 185
        }
      ]
    },
    {
      "cell_type": "code",
      "source": [
        "a2[1:,1:3]"
      ],
      "metadata": {
        "colab": {
          "base_uri": "https://localhost:8080/"
        },
        "id": "GYjyXNKnINTA",
        "outputId": "d1214ff7-d55d-43e4-94bb-8a6153a07a8a"
      },
      "execution_count": null,
      "outputs": [
        {
          "output_type": "execute_result",
          "data": {
            "text/plain": [
              "array([[ 5,  6],\n",
              "       [ 9, 10]])"
            ]
          },
          "metadata": {},
          "execution_count": 186
        }
      ]
    },
    {
      "cell_type": "code",
      "source": [
        "a2[::2,1::2]"
      ],
      "metadata": {
        "id": "PDj8VcA8xRD5",
        "outputId": "08f5107a-88c0-4c3f-91bd-bfff16e9618b",
        "colab": {
          "base_uri": "https://localhost:8080/"
        }
      },
      "execution_count": 70,
      "outputs": [
        {
          "output_type": "execute_result",
          "data": {
            "text/plain": [
              "array([[ 1,  3],\n",
              "       [ 9, 11]])"
            ]
          },
          "metadata": {},
          "execution_count": 70
        }
      ]
    },
    {
      "cell_type": "code",
      "source": [
        "a3 = np.arange(27).reshape(3,3,3)\n",
        "a3 # this tencor consist of 3 2-d arrays"
      ],
      "metadata": {
        "colab": {
          "base_uri": "https://localhost:8080/"
        },
        "id": "Z-24y62tK7KO",
        "outputId": "02cec9bb-2f08-49b0-b0f2-6d22c766a222"
      },
      "execution_count": 71,
      "outputs": [
        {
          "output_type": "execute_result",
          "data": {
            "text/plain": [
              "array([[[ 0,  1,  2],\n",
              "        [ 3,  4,  5],\n",
              "        [ 6,  7,  8]],\n",
              "\n",
              "       [[ 9, 10, 11],\n",
              "        [12, 13, 14],\n",
              "        [15, 16, 17]],\n",
              "\n",
              "       [[18, 19, 20],\n",
              "        [21, 22, 23],\n",
              "        [24, 25, 26]]])"
            ]
          },
          "metadata": {},
          "execution_count": 71
        }
      ]
    },
    {
      "cell_type": "code",
      "source": [
        "a3[1]"
      ],
      "metadata": {
        "id": "7HS1aFTy6Kyh",
        "outputId": "455a1685-ebeb-4d48-b21d-1b3ab2848cba",
        "colab": {
          "base_uri": "https://localhost:8080/"
        }
      },
      "execution_count": 72,
      "outputs": [
        {
          "output_type": "execute_result",
          "data": {
            "text/plain": [
              "array([[ 9, 10, 11],\n",
              "       [12, 13, 14],\n",
              "       [15, 16, 17]])"
            ]
          },
          "metadata": {},
          "execution_count": 72
        }
      ]
    },
    {
      "cell_type": "code",
      "source": [
        "a3[0,1,:] # first 2-d array, 2nd row , all column"
      ],
      "metadata": {
        "id": "DWO9MXoe8gPN",
        "outputId": "9cb3d48d-bd62-4f01-a674-b7b925381e03",
        "colab": {
          "base_uri": "https://localhost:8080/"
        }
      },
      "execution_count": 75,
      "outputs": [
        {
          "output_type": "execute_result",
          "data": {
            "text/plain": [
              "array([3, 4, 5])"
            ]
          },
          "metadata": {},
          "execution_count": 75
        }
      ]
    },
    {
      "cell_type": "code",
      "source": [
        "a3[1,:,1]"
      ],
      "metadata": {
        "id": "aOoa_cOcAC20",
        "outputId": "a1ca7e5c-c7a4-40fa-9129-31c523c39c79",
        "colab": {
          "base_uri": "https://localhost:8080/"
        }
      },
      "execution_count": 76,
      "outputs": [
        {
          "output_type": "execute_result",
          "data": {
            "text/plain": [
              "array([10, 13, 16])"
            ]
          },
          "metadata": {},
          "execution_count": 76
        }
      ]
    },
    {
      "cell_type": "code",
      "source": [
        "a3[::2]"
      ],
      "metadata": {
        "id": "rMEpRfoy6Pfe",
        "outputId": "48401377-4b29-4128-fbf3-5f93d6e9cb52",
        "colab": {
          "base_uri": "https://localhost:8080/"
        }
      },
      "execution_count": 73,
      "outputs": [
        {
          "output_type": "execute_result",
          "data": {
            "text/plain": [
              "array([[[ 0,  1,  2],\n",
              "        [ 3,  4,  5],\n",
              "        [ 6,  7,  8]],\n",
              "\n",
              "       [[18, 19, 20],\n",
              "        [21, 22, 23],\n",
              "        [24, 25, 26]]])"
            ]
          },
          "metadata": {},
          "execution_count": 73
        }
      ]
    },
    {
      "cell_type": "code",
      "source": [
        "a3[::2,0,::2]"
      ],
      "metadata": {
        "colab": {
          "base_uri": "https://localhost:8080/"
        },
        "id": "DB1bM8NCMTub",
        "outputId": "9d8f91b7-3074-4788-e464-5529082cf4ba"
      },
      "execution_count": null,
      "outputs": [
        {
          "output_type": "execute_result",
          "data": {
            "text/plain": [
              "array([[ 0,  2],\n",
              "       [18, 20]])"
            ]
          },
          "metadata": {},
          "execution_count": 201
        }
      ]
    },
    {
      "cell_type": "code",
      "source": [
        "a3[2,1:,1:]"
      ],
      "metadata": {
        "colab": {
          "base_uri": "https://localhost:8080/"
        },
        "id": "gPOgRWfNLxPF",
        "outputId": "ecbe6944-ed2f-4036-8deb-edc9880285a2"
      },
      "execution_count": null,
      "outputs": [
        {
          "output_type": "execute_result",
          "data": {
            "text/plain": [
              "array([[22, 23],\n",
              "       [25, 26]])"
            ]
          },
          "metadata": {},
          "execution_count": 200
        }
      ]
    },
    {
      "cell_type": "code",
      "source": [
        "a3[0,1,:]"
      ],
      "metadata": {
        "colab": {
          "base_uri": "https://localhost:8080/"
        },
        "id": "S3OJJAMXK7RV",
        "outputId": "b6630bc9-6ffd-4258-fe8f-bc7f988d39fc"
      },
      "execution_count": null,
      "outputs": [
        {
          "output_type": "execute_result",
          "data": {
            "text/plain": [
              "array([3, 4, 5])"
            ]
          },
          "metadata": {},
          "execution_count": 198
        }
      ]
    },
    {
      "cell_type": "markdown",
      "source": [
        "### Iterating"
      ],
      "metadata": {
        "id": "dUv9qM1yuIKJ"
      }
    },
    {
      "cell_type": "code",
      "source": [
        "a1\n",
        "\n",
        "for i in a1: # items\n",
        "  print(i)"
      ],
      "metadata": {
        "colab": {
          "base_uri": "https://localhost:8080/"
        },
        "id": "lNgaCad6uKhm",
        "outputId": "b841e6c6-2d41-4a11-c9c1-7af7bb5dc72c"
      },
      "execution_count": null,
      "outputs": [
        {
          "output_type": "stream",
          "name": "stdout",
          "text": [
            "0\n",
            "1\n",
            "2\n",
            "3\n",
            "4\n",
            "5\n",
            "6\n",
            "7\n",
            "8\n",
            "9\n"
          ]
        }
      ]
    },
    {
      "cell_type": "code",
      "source": [
        "a2"
      ],
      "metadata": {
        "colab": {
          "base_uri": "https://localhost:8080/"
        },
        "id": "jNIsE0YFM6ZN",
        "outputId": "54433740-b3db-4467-a002-c447b8e8ebd7"
      },
      "execution_count": null,
      "outputs": [
        {
          "output_type": "execute_result",
          "data": {
            "text/plain": [
              "array([[ 0,  1,  2,  3],\n",
              "       [ 4,  5,  6,  7],\n",
              "       [ 8,  9, 10, 11]])"
            ]
          },
          "metadata": {},
          "execution_count": 203
        }
      ]
    },
    {
      "cell_type": "code",
      "source": [
        "for i in a2: # rows\n",
        "  print(i)"
      ],
      "metadata": {
        "colab": {
          "base_uri": "https://localhost:8080/"
        },
        "id": "B2Hk-zAONHTY",
        "outputId": "793c2607-7b52-4556-cda0-fd82e60905c8"
      },
      "execution_count": null,
      "outputs": [
        {
          "output_type": "stream",
          "name": "stdout",
          "text": [
            "[0 1 2 3]\n",
            "[4 5 6 7]\n",
            "[ 8  9 10 11]\n"
          ]
        }
      ]
    },
    {
      "cell_type": "code",
      "source": [
        "a3"
      ],
      "metadata": {
        "colab": {
          "base_uri": "https://localhost:8080/"
        },
        "id": "8hfuC98qM-hC",
        "outputId": "0fb1ef2e-f8fd-4701-ba34-28c54527e2ce"
      },
      "execution_count": null,
      "outputs": [
        {
          "output_type": "execute_result",
          "data": {
            "text/plain": [
              "array([[[ 0,  1,  2],\n",
              "        [ 3,  4,  5],\n",
              "        [ 6,  7,  8]],\n",
              "\n",
              "       [[ 9, 10, 11],\n",
              "        [12, 13, 14],\n",
              "        [15, 16, 17]],\n",
              "\n",
              "       [[18, 19, 20],\n",
              "        [21, 22, 23],\n",
              "        [24, 25, 26]]])"
            ]
          },
          "metadata": {},
          "execution_count": 204
        }
      ]
    },
    {
      "cell_type": "code",
      "source": [
        "for i in a3: # 2-d arrays\n",
        "  print(i)"
      ],
      "metadata": {
        "colab": {
          "base_uri": "https://localhost:8080/"
        },
        "id": "DsYEnw2ONOIy",
        "outputId": "e1b309f4-0101-4991-8663-06e5f60597a1"
      },
      "execution_count": null,
      "outputs": [
        {
          "output_type": "stream",
          "name": "stdout",
          "text": [
            "[[0 1 2]\n",
            " [3 4 5]\n",
            " [6 7 8]]\n",
            "[[ 9 10 11]\n",
            " [12 13 14]\n",
            " [15 16 17]]\n",
            "[[18 19 20]\n",
            " [21 22 23]\n",
            " [24 25 26]]\n"
          ]
        }
      ]
    },
    {
      "cell_type": "code",
      "source": [
        "for i in np.nditer(a3): # it will iterate over every item. nditer will flatten higher dimension into 1-d array and provide a iterator as well.\n",
        "  print(i)"
      ],
      "metadata": {
        "colab": {
          "base_uri": "https://localhost:8080/"
        },
        "id": "IuRJ1QiRNZRM",
        "outputId": "438cbd63-6e58-49a8-b8c7-313e40addfce"
      },
      "execution_count": null,
      "outputs": [
        {
          "output_type": "stream",
          "name": "stdout",
          "text": [
            "0\n",
            "1\n",
            "2\n",
            "3\n",
            "4\n",
            "5\n",
            "6\n",
            "7\n",
            "8\n",
            "9\n",
            "10\n",
            "11\n",
            "12\n",
            "13\n",
            "14\n",
            "15\n",
            "16\n",
            "17\n",
            "18\n",
            "19\n",
            "20\n",
            "21\n",
            "22\n",
            "23\n",
            "24\n",
            "25\n",
            "26\n"
          ]
        }
      ]
    },
    {
      "cell_type": "markdown",
      "source": [
        "### Reshaping"
      ],
      "metadata": {
        "id": "ZSS6AF_luNc-"
      }
    },
    {
      "cell_type": "code",
      "source": [
        "# reshape\n",
        "a2 = np.arange(12).reshape(3,4)\n",
        "a2"
      ],
      "metadata": {
        "id": "NeXLsnBb9ko7",
        "outputId": "ac879619-7a3a-42d5-b75a-d14b62c4d730",
        "colab": {
          "base_uri": "https://localhost:8080/"
        }
      },
      "execution_count": 77,
      "outputs": [
        {
          "output_type": "execute_result",
          "data": {
            "text/plain": [
              "array([[ 0,  1,  2,  3],\n",
              "       [ 4,  5,  6,  7],\n",
              "       [ 8,  9, 10, 11]])"
            ]
          },
          "metadata": {},
          "execution_count": 77
        }
      ]
    },
    {
      "cell_type": "code",
      "source": [
        "# Transpose\n",
        "np.transpose(a2)\n",
        "a2.T"
      ],
      "metadata": {
        "colab": {
          "base_uri": "https://localhost:8080/"
        },
        "id": "DBIaUE8duQDz",
        "outputId": "ea99f6b4-b3ef-4cd7-dfee-63f1bcb3f6a3"
      },
      "execution_count": null,
      "outputs": [
        {
          "output_type": "execute_result",
          "data": {
            "text/plain": [
              "array([[ 0,  4,  8],\n",
              "       [ 1,  5,  9],\n",
              "       [ 2,  6, 10],\n",
              "       [ 3,  7, 11]])"
            ]
          },
          "metadata": {},
          "execution_count": 212
        }
      ]
    },
    {
      "cell_type": "code",
      "source": [
        "# ravel\n",
        "a3.ravel() # It will flatten higher dimension into 1-d array"
      ],
      "metadata": {
        "colab": {
          "base_uri": "https://localhost:8080/"
        },
        "id": "IULUNn5OuQMT",
        "outputId": "0588ea26-7e91-4f04-c291-e650892551da"
      },
      "execution_count": null,
      "outputs": [
        {
          "output_type": "execute_result",
          "data": {
            "text/plain": [
              "array([ 0,  1,  2,  3,  4,  5,  6,  7,  8,  9, 10, 11, 12, 13, 14, 15, 16,\n",
              "       17, 18, 19, 20, 21, 22, 23, 24, 25, 26])"
            ]
          },
          "metadata": {},
          "execution_count": 216
        }
      ]
    },
    {
      "cell_type": "markdown",
      "source": [
        "### Stacking"
      ],
      "metadata": {
        "id": "ouKcJQ5EuUQC"
      }
    },
    {
      "cell_type": "markdown",
      "source": [
        "![image.png](data:image/png;base64,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)"
      ],
      "metadata": {
        "id": "uC8KNYmwFLIP"
      }
    },
    {
      "cell_type": "code",
      "source": [
        "# horizontal stacking\n",
        "a4 = np.arange(12).reshape(3,4)\n",
        "a5 = np.arange(12,24).reshape(3,4)\n",
        "a5"
      ],
      "metadata": {
        "colab": {
          "base_uri": "https://localhost:8080/"
        },
        "id": "HHSY1njTuXLi",
        "outputId": "91fce36c-3fd9-4911-c293-2ce7999d1071"
      },
      "execution_count": 88,
      "outputs": [
        {
          "output_type": "execute_result",
          "data": {
            "text/plain": [
              "array([[12, 13, 14, 15],\n",
              "       [16, 17, 18, 19],\n",
              "       [20, 21, 22, 23]])"
            ]
          },
          "metadata": {},
          "execution_count": 88
        }
      ]
    },
    {
      "cell_type": "code",
      "source": [
        "np.hstack((a4,a5))"
      ],
      "metadata": {
        "colab": {
          "base_uri": "https://localhost:8080/"
        },
        "id": "ne9uXt3yPKez",
        "outputId": "01bc932e-9512-46cf-c044-13f00390295a"
      },
      "execution_count": 81,
      "outputs": [
        {
          "output_type": "execute_result",
          "data": {
            "text/plain": [
              "array([[ 0,  1,  2,  3, 12, 13, 14, 15],\n",
              "       [ 4,  5,  6,  7, 16, 17, 18, 19],\n",
              "       [ 8,  9, 10, 11, 20, 21, 22, 23]])"
            ]
          },
          "metadata": {},
          "execution_count": 81
        }
      ]
    },
    {
      "cell_type": "code",
      "source": [
        "# Vertical stacking\n",
        "np.vstack((a4,a5))"
      ],
      "metadata": {
        "colab": {
          "base_uri": "https://localhost:8080/"
        },
        "id": "F6bFFNKuuZW5",
        "outputId": "68632c44-92bf-4097-f0e2-99cbb1b148da"
      },
      "execution_count": 82,
      "outputs": [
        {
          "output_type": "execute_result",
          "data": {
            "text/plain": [
              "array([[ 0,  1,  2,  3],\n",
              "       [ 4,  5,  6,  7],\n",
              "       [ 8,  9, 10, 11],\n",
              "       [12, 13, 14, 15],\n",
              "       [16, 17, 18, 19],\n",
              "       [20, 21, 22, 23]])"
            ]
          },
          "metadata": {},
          "execution_count": 82
        }
      ]
    },
    {
      "cell_type": "markdown",
      "source": [
        "### Splitting"
      ],
      "metadata": {
        "id": "kaY006uXucF5"
      }
    },
    {
      "cell_type": "code",
      "source": [
        "# horizontal splitting\n",
        "a4"
      ],
      "metadata": {
        "colab": {
          "base_uri": "https://localhost:8080/"
        },
        "id": "kgbl6wkD9ll6",
        "outputId": "254228f5-c9c2-4f28-ba8f-948ab08d229c"
      },
      "execution_count": 83,
      "outputs": [
        {
          "output_type": "execute_result",
          "data": {
            "text/plain": [
              "array([[ 0,  1,  2,  3],\n",
              "       [ 4,  5,  6,  7],\n",
              "       [ 8,  9, 10, 11]])"
            ]
          },
          "metadata": {},
          "execution_count": 83
        }
      ]
    },
    {
      "cell_type": "code",
      "source": [
        "np.hsplit(a4,2) # array, no of equal parts"
      ],
      "metadata": {
        "id": "JHasVylOGBvX",
        "outputId": "693a7c52-f8a3-4734-a1ed-6b7eee1d8576",
        "colab": {
          "base_uri": "https://localhost:8080/"
        }
      },
      "execution_count": 84,
      "outputs": [
        {
          "output_type": "execute_result",
          "data": {
            "text/plain": [
              "[array([[0, 1],\n",
              "        [4, 5],\n",
              "        [8, 9]]),\n",
              " array([[ 2,  3],\n",
              "        [ 6,  7],\n",
              "        [10, 11]])]"
            ]
          },
          "metadata": {},
          "execution_count": 84
        }
      ]
    },
    {
      "cell_type": "code",
      "source": [
        "np.hsplit(a4,5) # array, no of equal parts"
      ],
      "metadata": {
        "colab": {
          "base_uri": "https://localhost:8080/",
          "height": 287
        },
        "id": "FIfZM5BsQE5l",
        "outputId": "b5c83a68-88b4-4e13-fa72-849067848660"
      },
      "execution_count": 85,
      "outputs": [
        {
          "output_type": "error",
          "ename": "ValueError",
          "evalue": "array split does not result in an equal division",
          "traceback": [
            "\u001b[0;31m---------------------------------------------------------------------------\u001b[0m",
            "\u001b[0;31mValueError\u001b[0m                                Traceback (most recent call last)",
            "\u001b[0;32m<ipython-input-85-4ea8a7e48ea7>\u001b[0m in \u001b[0;36m<cell line: 1>\u001b[0;34m()\u001b[0m\n\u001b[0;32m----> 1\u001b[0;31m \u001b[0mnp\u001b[0m\u001b[0;34m.\u001b[0m\u001b[0mhsplit\u001b[0m\u001b[0;34m(\u001b[0m\u001b[0ma4\u001b[0m\u001b[0;34m,\u001b[0m\u001b[0;36m5\u001b[0m\u001b[0;34m)\u001b[0m \u001b[0;31m# array, no of equal parts\u001b[0m\u001b[0;34m\u001b[0m\u001b[0;34m\u001b[0m\u001b[0m\n\u001b[0m",
            "\u001b[0;32m/usr/local/lib/python3.10/dist-packages/numpy/lib/shape_base.py\u001b[0m in \u001b[0;36mhsplit\u001b[0;34m(ary, indices_or_sections)\u001b[0m\n\u001b[1;32m    936\u001b[0m         \u001b[0;32mraise\u001b[0m \u001b[0mValueError\u001b[0m\u001b[0;34m(\u001b[0m\u001b[0;34m'hsplit only works on arrays of 1 or more dimensions'\u001b[0m\u001b[0;34m)\u001b[0m\u001b[0;34m\u001b[0m\u001b[0;34m\u001b[0m\u001b[0m\n\u001b[1;32m    937\u001b[0m     \u001b[0;32mif\u001b[0m \u001b[0mary\u001b[0m\u001b[0;34m.\u001b[0m\u001b[0mndim\u001b[0m \u001b[0;34m>\u001b[0m \u001b[0;36m1\u001b[0m\u001b[0;34m:\u001b[0m\u001b[0;34m\u001b[0m\u001b[0;34m\u001b[0m\u001b[0m\n\u001b[0;32m--> 938\u001b[0;31m         \u001b[0;32mreturn\u001b[0m \u001b[0msplit\u001b[0m\u001b[0;34m(\u001b[0m\u001b[0mary\u001b[0m\u001b[0;34m,\u001b[0m \u001b[0mindices_or_sections\u001b[0m\u001b[0;34m,\u001b[0m \u001b[0;36m1\u001b[0m\u001b[0;34m)\u001b[0m\u001b[0;34m\u001b[0m\u001b[0;34m\u001b[0m\u001b[0m\n\u001b[0m\u001b[1;32m    939\u001b[0m     \u001b[0;32melse\u001b[0m\u001b[0;34m:\u001b[0m\u001b[0;34m\u001b[0m\u001b[0;34m\u001b[0m\u001b[0m\n\u001b[1;32m    940\u001b[0m         \u001b[0;32mreturn\u001b[0m \u001b[0msplit\u001b[0m\u001b[0;34m(\u001b[0m\u001b[0mary\u001b[0m\u001b[0;34m,\u001b[0m \u001b[0mindices_or_sections\u001b[0m\u001b[0;34m,\u001b[0m \u001b[0;36m0\u001b[0m\u001b[0;34m)\u001b[0m\u001b[0;34m\u001b[0m\u001b[0;34m\u001b[0m\u001b[0m\n",
            "\u001b[0;32m/usr/local/lib/python3.10/dist-packages/numpy/lib/shape_base.py\u001b[0m in \u001b[0;36msplit\u001b[0;34m(ary, indices_or_sections, axis)\u001b[0m\n\u001b[1;32m    862\u001b[0m         \u001b[0mN\u001b[0m \u001b[0;34m=\u001b[0m \u001b[0mary\u001b[0m\u001b[0;34m.\u001b[0m\u001b[0mshape\u001b[0m\u001b[0;34m[\u001b[0m\u001b[0maxis\u001b[0m\u001b[0;34m]\u001b[0m\u001b[0;34m\u001b[0m\u001b[0;34m\u001b[0m\u001b[0m\n\u001b[1;32m    863\u001b[0m         \u001b[0;32mif\u001b[0m \u001b[0mN\u001b[0m \u001b[0;34m%\u001b[0m \u001b[0msections\u001b[0m\u001b[0;34m:\u001b[0m\u001b[0;34m\u001b[0m\u001b[0;34m\u001b[0m\u001b[0m\n\u001b[0;32m--> 864\u001b[0;31m             raise ValueError(\n\u001b[0m\u001b[1;32m    865\u001b[0m                 'array split does not result in an equal division') from None\n\u001b[1;32m    866\u001b[0m     \u001b[0;32mreturn\u001b[0m \u001b[0marray_split\u001b[0m\u001b[0;34m(\u001b[0m\u001b[0mary\u001b[0m\u001b[0;34m,\u001b[0m \u001b[0mindices_or_sections\u001b[0m\u001b[0;34m,\u001b[0m \u001b[0maxis\u001b[0m\u001b[0;34m)\u001b[0m\u001b[0;34m\u001b[0m\u001b[0;34m\u001b[0m\u001b[0m\n",
            "\u001b[0;31mValueError\u001b[0m: array split does not result in an equal division"
          ]
        }
      ]
    },
    {
      "cell_type": "code",
      "source": [
        "# vertical splitting"
      ],
      "metadata": {
        "id": "nfhKoruOuhK-"
      },
      "execution_count": null,
      "outputs": []
    },
    {
      "cell_type": "code",
      "source": [
        "a5"
      ],
      "metadata": {
        "colab": {
          "base_uri": "https://localhost:8080/"
        },
        "id": "qJ2xEBFUuieB",
        "outputId": "2f440c92-86d0-43d8-86cb-4923f6c46c37"
      },
      "execution_count": 89,
      "outputs": [
        {
          "output_type": "execute_result",
          "data": {
            "text/plain": [
              "array([[12, 13, 14, 15],\n",
              "       [16, 17, 18, 19],\n",
              "       [20, 21, 22, 23]])"
            ]
          },
          "metadata": {},
          "execution_count": 89
        }
      ]
    },
    {
      "cell_type": "code",
      "source": [
        "np.vsplit(a5,3) # array, no of equal parts"
      ],
      "metadata": {
        "id": "PXZUGzHDGVzz",
        "outputId": "d23e88f6-9a67-4540-eff3-461cfd021553",
        "colab": {
          "base_uri": "https://localhost:8080/"
        }
      },
      "execution_count": 90,
      "outputs": [
        {
          "output_type": "execute_result",
          "data": {
            "text/plain": [
              "[array([[12, 13, 14, 15]]),\n",
              " array([[16, 17, 18, 19]]),\n",
              " array([[20, 21, 22, 23]])]"
            ]
          },
          "metadata": {},
          "execution_count": 90
        }
      ]
    },
    {
      "cell_type": "code",
      "source": [
        "np.vsplit(a5,2)"
      ],
      "metadata": {
        "colab": {
          "base_uri": "https://localhost:8080/",
          "height": 287
        },
        "id": "1wxcLLR_QWVu",
        "outputId": "032d4230-8a1f-4811-c2c6-742ac3e12e69"
      },
      "execution_count": 91,
      "outputs": [
        {
          "output_type": "error",
          "ename": "ValueError",
          "evalue": "array split does not result in an equal division",
          "traceback": [
            "\u001b[0;31m---------------------------------------------------------------------------\u001b[0m",
            "\u001b[0;31mValueError\u001b[0m                                Traceback (most recent call last)",
            "\u001b[0;32m<ipython-input-91-5b73f701499e>\u001b[0m in \u001b[0;36m<cell line: 1>\u001b[0;34m()\u001b[0m\n\u001b[0;32m----> 1\u001b[0;31m \u001b[0mnp\u001b[0m\u001b[0;34m.\u001b[0m\u001b[0mvsplit\u001b[0m\u001b[0;34m(\u001b[0m\u001b[0ma5\u001b[0m\u001b[0;34m,\u001b[0m\u001b[0;36m2\u001b[0m\u001b[0;34m)\u001b[0m\u001b[0;34m\u001b[0m\u001b[0;34m\u001b[0m\u001b[0m\n\u001b[0m",
            "\u001b[0;32m/usr/local/lib/python3.10/dist-packages/numpy/lib/shape_base.py\u001b[0m in \u001b[0;36mvsplit\u001b[0;34m(ary, indices_or_sections)\u001b[0m\n\u001b[1;32m    987\u001b[0m     \u001b[0;32mif\u001b[0m \u001b[0m_nx\u001b[0m\u001b[0;34m.\u001b[0m\u001b[0mndim\u001b[0m\u001b[0;34m(\u001b[0m\u001b[0mary\u001b[0m\u001b[0;34m)\u001b[0m \u001b[0;34m<\u001b[0m \u001b[0;36m2\u001b[0m\u001b[0;34m:\u001b[0m\u001b[0;34m\u001b[0m\u001b[0;34m\u001b[0m\u001b[0m\n\u001b[1;32m    988\u001b[0m         \u001b[0;32mraise\u001b[0m \u001b[0mValueError\u001b[0m\u001b[0;34m(\u001b[0m\u001b[0;34m'vsplit only works on arrays of 2 or more dimensions'\u001b[0m\u001b[0;34m)\u001b[0m\u001b[0;34m\u001b[0m\u001b[0;34m\u001b[0m\u001b[0m\n\u001b[0;32m--> 989\u001b[0;31m     \u001b[0;32mreturn\u001b[0m \u001b[0msplit\u001b[0m\u001b[0;34m(\u001b[0m\u001b[0mary\u001b[0m\u001b[0;34m,\u001b[0m \u001b[0mindices_or_sections\u001b[0m\u001b[0;34m,\u001b[0m \u001b[0;36m0\u001b[0m\u001b[0;34m)\u001b[0m\u001b[0;34m\u001b[0m\u001b[0;34m\u001b[0m\u001b[0m\n\u001b[0m\u001b[1;32m    990\u001b[0m \u001b[0;34m\u001b[0m\u001b[0m\n\u001b[1;32m    991\u001b[0m \u001b[0;34m\u001b[0m\u001b[0m\n",
            "\u001b[0;32m/usr/local/lib/python3.10/dist-packages/numpy/lib/shape_base.py\u001b[0m in \u001b[0;36msplit\u001b[0;34m(ary, indices_or_sections, axis)\u001b[0m\n\u001b[1;32m    862\u001b[0m         \u001b[0mN\u001b[0m \u001b[0;34m=\u001b[0m \u001b[0mary\u001b[0m\u001b[0;34m.\u001b[0m\u001b[0mshape\u001b[0m\u001b[0;34m[\u001b[0m\u001b[0maxis\u001b[0m\u001b[0;34m]\u001b[0m\u001b[0;34m\u001b[0m\u001b[0;34m\u001b[0m\u001b[0m\n\u001b[1;32m    863\u001b[0m         \u001b[0;32mif\u001b[0m \u001b[0mN\u001b[0m \u001b[0;34m%\u001b[0m \u001b[0msections\u001b[0m\u001b[0;34m:\u001b[0m\u001b[0;34m\u001b[0m\u001b[0;34m\u001b[0m\u001b[0m\n\u001b[0;32m--> 864\u001b[0;31m             raise ValueError(\n\u001b[0m\u001b[1;32m    865\u001b[0m                 'array split does not result in an equal division') from None\n\u001b[1;32m    866\u001b[0m     \u001b[0;32mreturn\u001b[0m \u001b[0marray_split\u001b[0m\u001b[0;34m(\u001b[0m\u001b[0mary\u001b[0m\u001b[0;34m,\u001b[0m \u001b[0mindices_or_sections\u001b[0m\u001b[0;34m,\u001b[0m \u001b[0maxis\u001b[0m\u001b[0;34m)\u001b[0m\u001b[0;34m\u001b[0m\u001b[0;34m\u001b[0m\u001b[0m\n",
            "\u001b[0;31mValueError\u001b[0m: array split does not result in an equal division"
          ]
        }
      ]
    }
  ]
}