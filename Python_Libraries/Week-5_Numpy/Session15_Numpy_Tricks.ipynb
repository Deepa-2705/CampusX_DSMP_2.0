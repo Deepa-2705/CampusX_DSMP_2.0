{
  "nbformat": 4,
  "nbformat_minor": 0,
  "metadata": {
    "colab": {
      "provenance": []
    },
    "kernelspec": {
      "name": "python3",
      "display_name": "Python 3"
    },
    "language_info": {
      "name": "python"
    }
  },
  "cells": [
    {
      "cell_type": "markdown",
      "source": [
        "### np.sort\n",
        "\n",
        "Return a sorted copy of an array.\n",
        "\n",
        "https://numpy.org/doc/stable/reference/generated/numpy.sort.html"
      ],
      "metadata": {
        "id": "39-UcmoPggtI"
      }
    },
    {
      "cell_type": "code",
      "source": [
        "# code\n",
        "import numpy as np\n",
        "a = np.random.randint(1,100,15)\n",
        "a"
      ],
      "metadata": {
        "colab": {
          "base_uri": "https://localhost:8080/"
        },
        "id": "vJUzuaz7gqTr",
        "outputId": "61a2395d-461f-4ea0-e598-7595c0975f7b"
      },
      "execution_count": 10,
      "outputs": [
        {
          "output_type": "execute_result",
          "data": {
            "text/plain": [
              "array([11, 23,  6, 43, 91, 13, 95, 26,  6, 88, 13, 12, 40, 49, 30])"
            ]
          },
          "metadata": {},
          "execution_count": 10
        }
      ]
    },
    {
      "cell_type": "code",
      "source": [
        "b = np.random.randint(1,100,24).reshape(6,4)\n",
        "b"
      ],
      "metadata": {
        "colab": {
          "base_uri": "https://localhost:8080/"
        },
        "id": "Dfer5zY9-HaK",
        "outputId": "08655dd1-3dc6-46b6-9581-be06f80a7b0b"
      },
      "execution_count": 11,
      "outputs": [
        {
          "output_type": "execute_result",
          "data": {
            "text/plain": [
              "array([[59,  1, 58, 68],\n",
              "       [29, 94, 60,  1],\n",
              "       [91, 63, 14, 87],\n",
              "       [ 9,  2, 59,  4],\n",
              "       [35,  3, 90, 18],\n",
              "       [93, 82,  3, 65]])"
            ]
          },
          "metadata": {},
          "execution_count": 11
        }
      ]
    },
    {
      "cell_type": "code",
      "source": [
        "np.sort(a)[::-1] # descending order"
      ],
      "metadata": {
        "colab": {
          "base_uri": "https://localhost:8080/"
        },
        "id": "dyjeU-C6KznM",
        "outputId": "eeb09397-c98a-4a9f-ff8e-86341895753c"
      },
      "execution_count": 12,
      "outputs": [
        {
          "output_type": "execute_result",
          "data": {
            "text/plain": [
              "array([95, 91, 88, 49, 43, 40, 30, 26, 23, 13, 13, 12, 11,  6,  6])"
            ]
          },
          "metadata": {},
          "execution_count": 12
        }
      ]
    },
    {
      "cell_type": "code",
      "source": [
        "np.sort(b,axis=1) # row wise sorting"
      ],
      "metadata": {
        "id": "zS20Mv-P9z1F",
        "outputId": "b92f1478-b41a-4ef9-8de6-a22573af529a",
        "colab": {
          "base_uri": "https://localhost:8080/"
        }
      },
      "execution_count": 13,
      "outputs": [
        {
          "output_type": "execute_result",
          "data": {
            "text/plain": [
              "array([[ 1, 58, 59, 68],\n",
              "       [ 1, 29, 60, 94],\n",
              "       [14, 63, 87, 91],\n",
              "       [ 2,  4,  9, 59],\n",
              "       [ 3, 18, 35, 90],\n",
              "       [ 3, 65, 82, 93]])"
            ]
          },
          "metadata": {},
          "execution_count": 13
        }
      ]
    },
    {
      "cell_type": "code",
      "source": [
        "np.sort(b,axis=0) # column wise sorting"
      ],
      "metadata": {
        "colab": {
          "base_uri": "https://localhost:8080/"
        },
        "id": "9fAdd5BWLHsq",
        "outputId": "f8492cad-32d4-4694-ebf0-a8b869221af5"
      },
      "execution_count": 14,
      "outputs": [
        {
          "output_type": "execute_result",
          "data": {
            "text/plain": [
              "array([[ 9,  1,  3,  1],\n",
              "       [29,  2, 14,  4],\n",
              "       [35,  3, 58, 18],\n",
              "       [59, 63, 59, 65],\n",
              "       [91, 82, 60, 68],\n",
              "       [93, 94, 90, 87]])"
            ]
          },
          "metadata": {},
          "execution_count": 14
        }
      ]
    },
    {
      "cell_type": "markdown",
      "source": [
        "### np.append\n",
        "\n",
        "The numpy.append() appends values along the mentioned axis at the end of the array\n",
        "\n",
        "https://numpy.org/doc/stable/reference/generated/numpy.append.html"
      ],
      "metadata": {
        "id": "W8tttorjgrVf"
      }
    },
    {
      "cell_type": "code",
      "source": [
        "# code\n",
        "np.append(a,200)"
      ],
      "metadata": {
        "id": "Y3fHkR1gfd1X",
        "colab": {
          "base_uri": "https://localhost:8080/"
        },
        "outputId": "1660c7d0-08e7-43c9-c6cb-273622d9ff28"
      },
      "execution_count": 15,
      "outputs": [
        {
          "output_type": "execute_result",
          "data": {
            "text/plain": [
              "array([ 11,  23,   6,  43,  91,  13,  95,  26,   6,  88,  13,  12,  40,\n",
              "        49,  30, 200])"
            ]
          },
          "metadata": {},
          "execution_count": 15
        }
      ]
    },
    {
      "cell_type": "code",
      "source": [
        "b"
      ],
      "metadata": {
        "colab": {
          "base_uri": "https://localhost:8080/"
        },
        "id": "vmPc3zS3L2LL",
        "outputId": "8f0bd1f6-4cc5-432a-b914-8a6cba9a4d9c"
      },
      "execution_count": 16,
      "outputs": [
        {
          "output_type": "execute_result",
          "data": {
            "text/plain": [
              "array([[59,  1, 58, 68],\n",
              "       [29, 94, 60,  1],\n",
              "       [91, 63, 14, 87],\n",
              "       [ 9,  2, 59,  4],\n",
              "       [35,  3, 90, 18],\n",
              "       [93, 82,  3, 65]])"
            ]
          },
          "metadata": {},
          "execution_count": 16
        }
      ]
    },
    {
      "cell_type": "code",
      "source": [
        "np.append(b,np.ones((b.shape[0],1)),axis=1)"
      ],
      "metadata": {
        "id": "j2WbJknrC5iA",
        "outputId": "783f3557-3e28-43bf-bd10-6171e0116590",
        "colab": {
          "base_uri": "https://localhost:8080/"
        }
      },
      "execution_count": 17,
      "outputs": [
        {
          "output_type": "execute_result",
          "data": {
            "text/plain": [
              "array([[59.,  1., 58., 68.,  1.],\n",
              "       [29., 94., 60.,  1.,  1.],\n",
              "       [91., 63., 14., 87.,  1.],\n",
              "       [ 9.,  2., 59.,  4.,  1.],\n",
              "       [35.,  3., 90., 18.,  1.],\n",
              "       [93., 82.,  3., 65.,  1.]])"
            ]
          },
          "metadata": {},
          "execution_count": 17
        }
      ]
    },
    {
      "cell_type": "code",
      "source": [
        "np.append(b,np.random.random((b.shape[0],1)),axis=1)"
      ],
      "metadata": {
        "colab": {
          "base_uri": "https://localhost:8080/"
        },
        "id": "LsIvCKQ5L-DB",
        "outputId": "041a67fe-7bff-4c9d-8fed-695ba6abb2eb"
      },
      "execution_count": 20,
      "outputs": [
        {
          "output_type": "execute_result",
          "data": {
            "text/plain": [
              "array([[5.90000000e+01, 1.00000000e+00, 5.80000000e+01, 6.80000000e+01,\n",
              "        5.49352295e-01],\n",
              "       [2.90000000e+01, 9.40000000e+01, 6.00000000e+01, 1.00000000e+00,\n",
              "        3.87810154e-01],\n",
              "       [9.10000000e+01, 6.30000000e+01, 1.40000000e+01, 8.70000000e+01,\n",
              "        3.54345714e-01],\n",
              "       [9.00000000e+00, 2.00000000e+00, 5.90000000e+01, 4.00000000e+00,\n",
              "        4.24500147e-01],\n",
              "       [3.50000000e+01, 3.00000000e+00, 9.00000000e+01, 1.80000000e+01,\n",
              "        5.58694583e-02],\n",
              "       [9.30000000e+01, 8.20000000e+01, 3.00000000e+00, 6.50000000e+01,\n",
              "        2.44602284e-01]])"
            ]
          },
          "metadata": {},
          "execution_count": 20
        }
      ]
    },
    {
      "cell_type": "markdown",
      "source": [
        "### np.concatenate\n",
        "\n",
        "numpy.concatenate() function concatenate a sequence of arrays along an existing axis.\n",
        "\n",
        "https://numpy.org/doc/stable/reference/generated/numpy.concatenate.html"
      ],
      "metadata": {
        "id": "meIMn8T9g5-m"
      }
    },
    {
      "cell_type": "code",
      "source": [
        "# code\n",
        "c = np.arange(6).reshape(2,3)\n",
        "d = np.arange(6,12).reshape(2,3)\n",
        "\n",
        "print(c)\n",
        "print(d)"
      ],
      "metadata": {
        "colab": {
          "base_uri": "https://localhost:8080/"
        },
        "id": "Nrj1_QXfWZlV",
        "outputId": "c0877cf8-9856-4216-fd2e-4a1f4b9458f2"
      },
      "execution_count": 21,
      "outputs": [
        {
          "output_type": "stream",
          "name": "stdout",
          "text": [
            "[[0 1 2]\n",
            " [3 4 5]]\n",
            "[[ 6  7  8]\n",
            " [ 9 10 11]]\n"
          ]
        }
      ]
    },
    {
      "cell_type": "code",
      "source": [
        "np.concatenate((c,d),axis=0) # row wise concatination"
      ],
      "metadata": {
        "id": "fDHBrV7VA4yz",
        "colab": {
          "base_uri": "https://localhost:8080/"
        },
        "outputId": "690364a6-ac94-4466-885c-b38e5eef2f1f"
      },
      "execution_count": 22,
      "outputs": [
        {
          "output_type": "execute_result",
          "data": {
            "text/plain": [
              "array([[ 0,  1,  2],\n",
              "       [ 3,  4,  5],\n",
              "       [ 6,  7,  8],\n",
              "       [ 9, 10, 11]])"
            ]
          },
          "metadata": {},
          "execution_count": 22
        }
      ]
    },
    {
      "cell_type": "code",
      "source": [
        "np.concatenate((c,d),axis=1) # column wise concatination"
      ],
      "metadata": {
        "colab": {
          "base_uri": "https://localhost:8080/"
        },
        "id": "GN9DnJ65Mr_b",
        "outputId": "755deb24-3d96-42da-f29a-85a820d3c89c"
      },
      "execution_count": 23,
      "outputs": [
        {
          "output_type": "execute_result",
          "data": {
            "text/plain": [
              "array([[ 0,  1,  2,  6,  7,  8],\n",
              "       [ 3,  4,  5,  9, 10, 11]])"
            ]
          },
          "metadata": {},
          "execution_count": 23
        }
      ]
    },
    {
      "cell_type": "markdown",
      "source": [
        "### np.unique\n",
        "\n",
        "With the help of np.unique() method, we can get the unique values from an array given as parameter in np.unique() method.\n",
        "\n",
        "https://numpy.org/doc/stable/reference/generated/numpy.unique.html/"
      ],
      "metadata": {
        "id": "oHGFqHcohFtB"
      }
    },
    {
      "cell_type": "code",
      "source": [
        "# code\n",
        "e = np.array([1,1,2,2,3,3,4,4,5,5,6,6])"
      ],
      "metadata": {
        "id": "NvG0KHpNWdN_"
      },
      "execution_count": 24,
      "outputs": []
    },
    {
      "cell_type": "code",
      "source": [
        "np.unique(e)"
      ],
      "metadata": {
        "id": "XWr932XeCFz1",
        "colab": {
          "base_uri": "https://localhost:8080/"
        },
        "outputId": "2a3b235e-a3e9-4c5d-f06b-d5e1ff9a6df4"
      },
      "execution_count": 25,
      "outputs": [
        {
          "output_type": "execute_result",
          "data": {
            "text/plain": [
              "array([1, 2, 3, 4, 5, 6])"
            ]
          },
          "metadata": {},
          "execution_count": 25
        }
      ]
    },
    {
      "cell_type": "markdown",
      "source": [
        "### np.expand_dims\n",
        "\n",
        "With the help of Numpy.expand_dims() method, we can get the expanded dimensions of an array\n",
        "\n",
        "https://numpy.org/doc/stable/reference/generated/numpy.expand_dims.html"
      ],
      "metadata": {
        "id": "Wki2yOXaEZV3"
      }
    },
    {
      "cell_type": "code",
      "source": [
        "# code\n",
        "a.shape"
      ],
      "metadata": {
        "id": "Pyvf-oZ0XTvr",
        "colab": {
          "base_uri": "https://localhost:8080/"
        },
        "outputId": "d5746e04-7fac-4381-9fc5-a58556cd5ce0"
      },
      "execution_count": 26,
      "outputs": [
        {
          "output_type": "execute_result",
          "data": {
            "text/plain": [
              "(15,)"
            ]
          },
          "metadata": {},
          "execution_count": 26
        }
      ]
    },
    {
      "cell_type": "code",
      "source": [
        "np.expand_dims(a,axis=0).shape"
      ],
      "metadata": {
        "colab": {
          "base_uri": "https://localhost:8080/"
        },
        "id": "B-Pk9HNzNdrb",
        "outputId": "d0567f06-30f3-438c-97c6-f5e74e70f903"
      },
      "execution_count": 27,
      "outputs": [
        {
          "output_type": "execute_result",
          "data": {
            "text/plain": [
              "(1, 15)"
            ]
          },
          "metadata": {},
          "execution_count": 27
        }
      ]
    },
    {
      "cell_type": "code",
      "source": [
        "np.expand_dims(a,axis=1)"
      ],
      "metadata": {
        "colab": {
          "base_uri": "https://localhost:8080/"
        },
        "id": "5d0Ahp8QNsKO",
        "outputId": "db853805-34f2-4b68-f733-897835c07326"
      },
      "execution_count": 28,
      "outputs": [
        {
          "output_type": "execute_result",
          "data": {
            "text/plain": [
              "array([[11],\n",
              "       [23],\n",
              "       [ 6],\n",
              "       [43],\n",
              "       [91],\n",
              "       [13],\n",
              "       [95],\n",
              "       [26],\n",
              "       [ 6],\n",
              "       [88],\n",
              "       [13],\n",
              "       [12],\n",
              "       [40],\n",
              "       [49],\n",
              "       [30]])"
            ]
          },
          "metadata": {},
          "execution_count": 28
        }
      ]
    },
    {
      "cell_type": "markdown",
      "source": [
        "![image.png](data:image/png;base64,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)"
      ],
      "metadata": {
        "id": "wmHBT4w1Ja0M"
      }
    },
    {
      "cell_type": "markdown",
      "source": [
        "### np.where\n",
        "\n",
        "The numpy.where() function returns the indices of elements in an input array where the given condition is satisfied.\n",
        "\n",
        "https://numpy.org/doc/stable/reference/generated/numpy.where.html"
      ],
      "metadata": {
        "id": "_HmpYNTFERjS"
      }
    },
    {
      "cell_type": "code",
      "source": [
        "a"
      ],
      "metadata": {
        "id": "H8k_ZDXjEo5W",
        "colab": {
          "base_uri": "https://localhost:8080/"
        },
        "outputId": "d44da80d-077c-4b53-aef4-01a9f89d5eb1"
      },
      "execution_count": 29,
      "outputs": [
        {
          "output_type": "execute_result",
          "data": {
            "text/plain": [
              "array([11, 23,  6, 43, 91, 13, 95, 26,  6, 88, 13, 12, 40, 49, 30])"
            ]
          },
          "metadata": {},
          "execution_count": 29
        }
      ]
    },
    {
      "cell_type": "code",
      "source": [
        "# find all indices with value greater than 50\n",
        "np.where(a>50)"
      ],
      "metadata": {
        "colab": {
          "base_uri": "https://localhost:8080/"
        },
        "id": "n9mkvdFdHGLY",
        "outputId": "67bb2dbc-52a7-4363-ab0b-25758203597f"
      },
      "execution_count": 30,
      "outputs": [
        {
          "output_type": "execute_result",
          "data": {
            "text/plain": [
              "(array([4, 6, 9]),)"
            ]
          },
          "metadata": {},
          "execution_count": 30
        }
      ]
    },
    {
      "cell_type": "code",
      "source": [
        "# replace all values > 50 with 0\n",
        "np.where(a>50,0,a) # condition,true,false"
      ],
      "metadata": {
        "id": "zJAUufBOHcu1",
        "colab": {
          "base_uri": "https://localhost:8080/"
        },
        "outputId": "9a9bcc43-0a6d-4998-916f-41886b66383a"
      },
      "execution_count": 31,
      "outputs": [
        {
          "output_type": "execute_result",
          "data": {
            "text/plain": [
              "array([11, 23,  6, 43,  0, 13,  0, 26,  6,  0, 13, 12, 40, 49, 30])"
            ]
          },
          "metadata": {},
          "execution_count": 31
        }
      ]
    },
    {
      "cell_type": "code",
      "source": [
        "np.where(a%2 == 0,0,a)"
      ],
      "metadata": {
        "colab": {
          "base_uri": "https://localhost:8080/"
        },
        "id": "Ygx7fC0BPP9e",
        "outputId": "14529cca-a19e-426b-a6d4-97b5d86ce85c"
      },
      "execution_count": 32,
      "outputs": [
        {
          "output_type": "execute_result",
          "data": {
            "text/plain": [
              "array([11, 23,  0, 43, 91, 13, 95,  0,  0,  0, 13,  0,  0, 49,  0])"
            ]
          },
          "metadata": {},
          "execution_count": 32
        }
      ]
    },
    {
      "cell_type": "markdown",
      "source": [
        "### np.argmax\n",
        "\n",
        "The numpy.argmax() function returns indices of the max element of the array in a particular axis.\n",
        "\n",
        "https://numpy.org/doc/stable/reference/generated/numpy.argmax.html"
      ],
      "metadata": {
        "id": "jsGIGNtCIS5-"
      }
    },
    {
      "cell_type": "code",
      "source": [
        "# code\n",
        "a"
      ],
      "metadata": {
        "colab": {
          "base_uri": "https://localhost:8080/"
        },
        "id": "8YlXmMuaIRpj",
        "outputId": "3a130bad-c90d-4ee0-eff5-10ed25f374d1"
      },
      "execution_count": 33,
      "outputs": [
        {
          "output_type": "execute_result",
          "data": {
            "text/plain": [
              "array([11, 23,  6, 43, 91, 13, 95, 26,  6, 88, 13, 12, 40, 49, 30])"
            ]
          },
          "metadata": {},
          "execution_count": 33
        }
      ]
    },
    {
      "cell_type": "code",
      "source": [
        "np.argmax(a)"
      ],
      "metadata": {
        "colab": {
          "base_uri": "https://localhost:8080/"
        },
        "id": "gdrU6cQ9Pn_A",
        "outputId": "564c4631-31da-473f-cefd-261054fa0ee2"
      },
      "execution_count": 34,
      "outputs": [
        {
          "output_type": "execute_result",
          "data": {
            "text/plain": [
              "6"
            ]
          },
          "metadata": {},
          "execution_count": 34
        }
      ]
    },
    {
      "cell_type": "code",
      "source": [
        "b"
      ],
      "metadata": {
        "colab": {
          "base_uri": "https://localhost:8080/"
        },
        "id": "CohggNGrP5am",
        "outputId": "09161749-9bcd-41f1-b53d-58007b1f113d"
      },
      "execution_count": 35,
      "outputs": [
        {
          "output_type": "execute_result",
          "data": {
            "text/plain": [
              "array([[59,  1, 58, 68],\n",
              "       [29, 94, 60,  1],\n",
              "       [91, 63, 14, 87],\n",
              "       [ 9,  2, 59,  4],\n",
              "       [35,  3, 90, 18],\n",
              "       [93, 82,  3, 65]])"
            ]
          },
          "metadata": {},
          "execution_count": 35
        }
      ]
    },
    {
      "cell_type": "code",
      "source": [
        "np.argmax(b,axis=0)"
      ],
      "metadata": {
        "colab": {
          "base_uri": "https://localhost:8080/"
        },
        "id": "435CD24aIpNA",
        "outputId": "45c35a72-f5d9-4a28-e3bb-6cc20e634352"
      },
      "execution_count": 36,
      "outputs": [
        {
          "output_type": "execute_result",
          "data": {
            "text/plain": [
              "array([5, 1, 4, 2])"
            ]
          },
          "metadata": {},
          "execution_count": 36
        }
      ]
    },
    {
      "cell_type": "code",
      "source": [
        "np.argmax(b,axis=1)"
      ],
      "metadata": {
        "colab": {
          "base_uri": "https://localhost:8080/"
        },
        "id": "PBuZH3mbQE1U",
        "outputId": "d53bfe64-025a-4df9-c432-b5f01642a0fd"
      },
      "execution_count": 37,
      "outputs": [
        {
          "output_type": "execute_result",
          "data": {
            "text/plain": [
              "array([3, 1, 0, 2, 2, 0])"
            ]
          },
          "metadata": {},
          "execution_count": 37
        }
      ]
    },
    {
      "cell_type": "code",
      "source": [
        "# np.argmin\n",
        "np.argmin(a)"
      ],
      "metadata": {
        "id": "T9TrLGNBWjV1",
        "colab": {
          "base_uri": "https://localhost:8080/"
        },
        "outputId": "52e5bcba-b49d-4973-ac84-d57ffbb5dbcc"
      },
      "execution_count": 38,
      "outputs": [
        {
          "output_type": "execute_result",
          "data": {
            "text/plain": [
              "2"
            ]
          },
          "metadata": {},
          "execution_count": 38
        }
      ]
    },
    {
      "cell_type": "markdown",
      "source": [
        "### np.cumsum\n",
        "\n",
        "numpy.cumsum() function is used when we want to compute the cumulative sum of array elements over a given axis.\n",
        "\n",
        "https://numpy.org/doc/stable/reference/generated/numpy.cumsum.html"
      ],
      "metadata": {
        "id": "1OdKi27pa091"
      }
    },
    {
      "cell_type": "code",
      "source": [
        "a"
      ],
      "metadata": {
        "id": "VZmQUWH9bDk_",
        "colab": {
          "base_uri": "https://localhost:8080/"
        },
        "outputId": "cec0745c-522d-461f-ae72-6dc0b1984d8c"
      },
      "execution_count": 39,
      "outputs": [
        {
          "output_type": "execute_result",
          "data": {
            "text/plain": [
              "array([11, 23,  6, 43, 91, 13, 95, 26,  6, 88, 13, 12, 40, 49, 30])"
            ]
          },
          "metadata": {},
          "execution_count": 39
        }
      ]
    },
    {
      "cell_type": "code",
      "source": [
        "np.cumsum(a)"
      ],
      "metadata": {
        "colab": {
          "base_uri": "https://localhost:8080/"
        },
        "id": "O0npD0R_RF-A",
        "outputId": "8c75f33f-5b7c-4347-f5c0-8a5a871a42d7"
      },
      "execution_count": 40,
      "outputs": [
        {
          "output_type": "execute_result",
          "data": {
            "text/plain": [
              "array([ 11,  34,  40,  83, 174, 187, 282, 308, 314, 402, 415, 427, 467,\n",
              "       516, 546])"
            ]
          },
          "metadata": {},
          "execution_count": 40
        }
      ]
    },
    {
      "cell_type": "code",
      "source": [
        "b"
      ],
      "metadata": {
        "colab": {
          "base_uri": "https://localhost:8080/"
        },
        "id": "Ypr5nUGxRJuO",
        "outputId": "78517b6f-072c-4c3a-8911-b3e44e7dce6f"
      },
      "execution_count": 41,
      "outputs": [
        {
          "output_type": "execute_result",
          "data": {
            "text/plain": [
              "array([[59,  1, 58, 68],\n",
              "       [29, 94, 60,  1],\n",
              "       [91, 63, 14, 87],\n",
              "       [ 9,  2, 59,  4],\n",
              "       [35,  3, 90, 18],\n",
              "       [93, 82,  3, 65]])"
            ]
          },
          "metadata": {},
          "execution_count": 41
        }
      ]
    },
    {
      "cell_type": "code",
      "source": [
        "np.cumsum(b)  # it will convert 2-d array in 1-d array and then apply cummulative sum if axis will not given"
      ],
      "metadata": {
        "id": "muAl0NSUN-yS",
        "outputId": "e3013f0a-a080-4aa8-a764-583cf530060f",
        "colab": {
          "base_uri": "https://localhost:8080/"
        }
      },
      "execution_count": 42,
      "outputs": [
        {
          "output_type": "execute_result",
          "data": {
            "text/plain": [
              "array([  59,   60,  118,  186,  215,  309,  369,  370,  461,  524,  538,\n",
              "        625,  634,  636,  695,  699,  734,  737,  827,  845,  938, 1020,\n",
              "       1023, 1088])"
            ]
          },
          "metadata": {},
          "execution_count": 42
        }
      ]
    },
    {
      "cell_type": "code",
      "source": [
        "np.cumsum(b,axis=1)"
      ],
      "metadata": {
        "colab": {
          "base_uri": "https://localhost:8080/"
        },
        "id": "WXRZyWT9RTMw",
        "outputId": "e78f6b62-2e66-4573-d962-f3fefcab0e9a"
      },
      "execution_count": 43,
      "outputs": [
        {
          "output_type": "execute_result",
          "data": {
            "text/plain": [
              "array([[ 59,  60, 118, 186],\n",
              "       [ 29, 123, 183, 184],\n",
              "       [ 91, 154, 168, 255],\n",
              "       [  9,  11,  70,  74],\n",
              "       [ 35,  38, 128, 146],\n",
              "       [ 93, 175, 178, 243]])"
            ]
          },
          "metadata": {},
          "execution_count": 43
        }
      ]
    },
    {
      "cell_type": "code",
      "source": [
        "np.cumsum(b)"
      ],
      "metadata": {
        "colab": {
          "base_uri": "https://localhost:8080/"
        },
        "id": "5WGkAjfjRNOe",
        "outputId": "0eefdb6e-d33a-47fb-b615-aa49e57a1e60"
      },
      "execution_count": 44,
      "outputs": [
        {
          "output_type": "execute_result",
          "data": {
            "text/plain": [
              "array([  59,   60,  118,  186,  215,  309,  369,  370,  461,  524,  538,\n",
              "        625,  634,  636,  695,  699,  734,  737,  827,  845,  938, 1020,\n",
              "       1023, 1088])"
            ]
          },
          "metadata": {},
          "execution_count": 44
        }
      ]
    },
    {
      "cell_type": "code",
      "source": [
        "# np.cumprod\n",
        "np.cumprod(a)"
      ],
      "metadata": {
        "id": "RtGuPGr9WlVV",
        "colab": {
          "base_uri": "https://localhost:8080/"
        },
        "outputId": "80e44d61-f29a-4175-99b6-9852eb4b5d9c"
      },
      "execution_count": 45,
      "outputs": [
        {
          "output_type": "execute_result",
          "data": {
            "text/plain": [
              "array([                  11,                  253,                 1518,\n",
              "                      65274,              5939934,             77219142,\n",
              "                 7335818490,         190731280740,        1144387684440,\n",
              "            100706116230720,     1309179510999360,    15710154131992320,\n",
              "         628406165279692800, -6101586048714156032,  1419859275670835200])"
            ]
          },
          "metadata": {},
          "execution_count": 45
        }
      ]
    },
    {
      "cell_type": "markdown",
      "source": [
        "### np.percentile\n",
        "\n",
        "numpy.percentile()function used to compute the nth percentile of the given data (array elements) along the specified axis.\n",
        "\n",
        "https://numpy.org/doc/stable/reference/generated/numpy.percentile.html"
      ],
      "metadata": {
        "id": "SIuRwLMjcnOl"
      }
    },
    {
      "cell_type": "code",
      "source": [
        "a"
      ],
      "metadata": {
        "colab": {
          "base_uri": "https://localhost:8080/"
        },
        "id": "_o8iH4Evcl8C",
        "outputId": "3cfb0f69-881a-4dda-be70-52242168c27e"
      },
      "execution_count": 46,
      "outputs": [
        {
          "output_type": "execute_result",
          "data": {
            "text/plain": [
              "array([11, 23,  6, 43, 91, 13, 95, 26,  6, 88, 13, 12, 40, 49, 30])"
            ]
          },
          "metadata": {},
          "execution_count": 46
        }
      ]
    },
    {
      "cell_type": "code",
      "source": [
        "np.percentile(a,50)"
      ],
      "metadata": {
        "colab": {
          "base_uri": "https://localhost:8080/"
        },
        "id": "gBH8ZvtrSND9",
        "outputId": "3b5c85fe-c060-4ba9-bc03-6caf9468ae09"
      },
      "execution_count": 47,
      "outputs": [
        {
          "output_type": "execute_result",
          "data": {
            "text/plain": [
              "26.0"
            ]
          },
          "metadata": {},
          "execution_count": 47
        }
      ]
    },
    {
      "cell_type": "markdown",
      "source": [
        "![image.png](data:image/png;base64,iVBORw0KGgoAAAANSUhEUgAAAX4AAADKCAYAAACi9isrAAAAAXNSR0IArs4c6QAAAARnQU1BAACxjwv8YQUAAAAJcEhZcwAADsMAAA7DAcdvqGQAAGgdSURBVHhe7Z0FgB/V1fbPumZ9N66bjXuySSCGuwQCBNcWl1KDttjXtwaFvm1pi/QtFFrcvSVIEiDubsRl47au3/md2Zv8s9kNUdhk77O5mfnPXJfnnHvmztywTl26VckxhLBq5+Hh4eFRO8Krj7sAaXKxvjlP5h4eHh6HB3Cqh4eHh0cDgid+Dw8PjwYGT/weHh4eDQxHDfHv77MH/yzAw8PDY9+AKz2OAMLCwszVhX3d+ybUFvehxOfh4XHkUB/HZr0m/vDwcImIiJSoyCiJ1CPOVeKRrkzSBqTDOY58uGt1YZffqCiJjo7ew29VVZVUVlTaOfddGgcC4gvCRlh85Ik64tzllXOc8+/yEJqXUITeJ88uXy4eF9fBgnhdOx4MCIurK/8HA9dOxBlaTldW7oWm6fweDFw4ji7O/a1T/Lq81AVXFuDScP75jauJ0Gu13Q+FK/v+5vlA4cr3Tfk4UBAvfe5g4iWMCxfaNw60DogjJibGjgcatmb+Cc+5qy8HFzfX9zeP9Zr4y8vKpbi4SAqLCs1VVgWkCVxlHG64io2MDAZPZWWlVeTOnfmafpWUl1donort6OAqmrD4hzxLS0tl06ZNuxpll5/wMAtfWFi0x/X9BfFt37ZdCgry7XdBYYGE6zU6FygtLZMKFS7RUbsJHLj64hjqAEKEPJP34qJiO9bEweQVEAaBXaVtV1Rdby7dfYG8OyFUXl5mjnw5wXmwYCARZ1hYuBQVFUmZ9rFQxMXFWZ5pozJtQ85pS/y6OnAuFDV/h8L5R2BTjorqOqgtntpggl7911Z2V5cuf9Q1IO+UNS4u3tq3Zp27dKnj2NhYqxNQMz+Eq6iosDo4GOyrrUmLMVZSUmKOcu4P9qfOqCvGcEVlxS7/7lgzT+536JF+YX2gLBhPodif9B3wW1hQaG1OHfP7m8Jzn7bjyJhxHBQREWH3aQ94kXxynbjhE65bGpXfnL+IjMysh6rPDRS97qb6dkBhKFSkdoTmzZpLYmKiJCUlWQctLCzc1UldwZ1/nEPoOfdBqB86RnjEbi0uIIOgwa3i9HKldhquN2rUSLKyMq3zp6enSePGjTUfBXuEBTRQQkKibNm8Rc4991w544wzZPr06UZ25CFcSZ9OlJycLLfddquSd4GsXr1a4uPjrdFcfLWBe3SGkpJSC9umTRtZMH+BtG7dWjZu2mhpQ1oJCcRVHhCY/lGQCGYHdr5nHQDOCUsn50i8RdqJIBLCuny7cMHvoK5wnHMNx2/grrlzBh912LJFS+3ISrYqnELrHrg6dPFzJD+0R5MmjY2gyFdk1N6zPheG36H5cAj9zX3ibKR9KisrSwk1fFefCsIH/ls0b2HtBCHR75o0aSLbVOAGae2Zb/yHpuF+hzoIjjpu1qyppVlSWmIDmfCU0/kLDe/KQp7ocygNEBHgHuE5JsQnSMuWLWXrlq1GdimpKZKamirbtm/TPG/V9t89XpxzoC1oa3eN/ATaZNB+jBPqISMjw9Imr6C2uADhXb5xoWWrzaHcNWvWzMb35s2bLf9BHe85i3HXgCt3bXDxMs4QeE213VCKGGuROn4oV836BpxznTQg0jQd5+np6db+xgfV/SI0nDt3ZQ695n6TJuOVci1etFhidVy6OkQ5w5+LA7jwW7ZusXwzZuAiysO4xj99M7FRovXHyMgIu5eT097C79y50xRkJyTqQpBaPQIFo7Ko8MGDB8mrr74qH37woXz++afyz3/+04iOSoxXTQatjUFJIakkGjr4HWnnVCaEAbFSyZwD7icqEdHAaEjxOnAC4sV/lESpvyFDhkinjp1k48aNcv1118uHH35oA+BnP/uZ/PGPfzTNmnwQZyBpA61qqzZYj5495KGHHpJOnTpZxyZvxAsQGMRz8803yiWXXGLlJJ+EJS/4pQy40Gke95j1XHbZpXL33XdJfn6+DB4yWD4e9R+57xf3yYb1G7SD3SYvvviiDVLyTVg0Raf1EDdCAEe+0bA4cp3Bf/nll8v7778v3Xt0tzqKUHLGBQMmIAHXoYL6pdMFwhE/hCEu0iJehA9kl52dLf/+97/ltddf0w6aY1oMZOUGgNNuyA/ldu2IoO3Xt6/l6eSTTpbSslJTAqh7/LgBjLB19URbA9LHEY8D+SQNyPfJp56U//73Y8ntn7vrHvlH2FMXv3/09/Kzn//M6vE3v/mN/N///Z+WEcIJyIH+RJquD9GOQTszSwnqBgFDHskD93Nz+8k777wj/fQImeCf++TZ1R2OeLlOnW7fvl1OOvFEeebZZyQzI9PSIw3uUffk729P/E0eeeQRS2Ob+n/44YflJz/9iZHpFVdcIU2aBuRHPydfgHMUkg4dO8g555xj7YofECgO8XafOn/hhRfkjtvvsD5H/ZE/yuzK6eqefJEHy5/VZaCMEK/z65y7jyB/5ZVX5NKRl1q/pF8QH34YO4Df5I8wxOf6HH0GkB5pJGo/cPGn6Bj7/e8fsfExbOgwLUu5xhGMM/y6fAHCEUejxEaWBv3z4YcfkUfU0RdQUsgneSA8/dKNTZzLB9cID2hT2ihO2/7GG2+ysc7s3PqQtj39x2brmlfioC44ulnPrbfeKs8++0/Lf+9evY1XBg4YKG+/9bb89+P/yFtvvSX9te+2a9dO3n77LXVvy3/+8x9TOMkfce0L9Yr4rRK1UqK0kiEMCpyaliw/uPturYTnpG3b1tK8eXNZtmyZmV0YhDt27JCC/IJqbbjEtB6m05s3bZI1a9ZqhW2TTZs2y1bVfJCMVPD69Xk2YLgWoQ2Rr1Jyy5YtZj7BpNNIpen//u//ykknn2Txjxk7Rq6++mpLY/DgwfLF2C/sOhUMGTLNIm0cnej3j/xevv76a7n7B3eblgbZM4AJAymvW7dOZs6cIz179jRNmMZ2Hc754wjRAzo51zrkdJB7771X/vWvF+Tll1+WAQMG2H0EQOs2re03+V+yZIkNejpkmdYFnRqQX8oMORTo9BPtAMd1BsGA/gOsXmbOnGUdlPriXqhZKRCQYXaNesPsxIAlPNdcvQRT5ArZpvV/0kknSYsWLeSuu35gMxyEIPkiHuoMcgEMTvwTF9NjCL5vv75K9vEyafKkQOPUPBEG8Jsyki7XqEfIgmv8pl3oR/naP9ygwvx2ysmnSO/ePeX++++Tzz77zOLiPoOUeke77tWrh8ybN8+ECvlftGiR9pGtljf6EHVBGEBfJD1mJGitGzas13i2WT8ElIM+0KtnLxvo9N+d+dR9vrUtMw6m7uSV8PRX6h6iou0Q6MuWLZd58+eZwhKUixmZyFlnnS19+/aW119/XdauWysXXDBcBg7sb/33rLPOkl+oUmAzG01ny5bNFo4xgimItr78ssvlgfsfsP5CGdavX19dr5Xmv1u3biq428qMmTNMkEFYHGlnxpjrq9SF6wvknb7MrANQb6SFX47UD0TK7759+2n+MmTylMlB/1LBS//hHnXNkXzRrvSZrVu32liNjUUAUEeRJpCoO+5TZ1bXvXvL6aefqmV7SAX8f63tIW6O1r+0zukX5Id06TOMVfLdSmdPffr0sTKTd+7R5hxpD+JAI+ca45f6AOUqMPO1L3KN+Mk34+2LL8ZqOfvaGKBspEMeBg4caP0E/126dLH4yCPpQPJdu3bVcpXKurx1Vg8onXHxcapU/j9VHhuZYnrnnXdJWmqa/OhHP7K+OmjQoF1jwPXP2lCviJ/Mom2j1SB9Id758xeqpv+sEulSHeDFkrcuT66//np5SjU2pNwDDzxglcHg+FgbePz48UbS1153rXz55RcqBT8y6ZmcnCI/+uEPNa7n5NNPP1VN6HLp2LGjkfR7778nc+fOtcHTUTWg3/3uYW2YKDnt1NM0rmtUYt9oGhINBgkxABvrYPrxj38sL7z4gowZPVpuuOEGGzDnnXee5HTIlr///e82uP/1r3+Z5D7zzLPkqy+/Uo39chu4aOIMIjoADQT5nX766aqlPCq/+p9fqQb3exk8aLAJBGYi+LvrB3cZOTLzYdYAUQMG9tChQ226/+mnn5hW/Yke+/XrZ5rGM888awITrQ2hNerjj+Wll160PH6s59QnA6ipasJZWY2tPH/5y19MAEJWTz75pLz80ss2gOiMxx8/SEaNGiXvvveupdOqdSvrmAhqwo0dM1ZeevElq98TTzpRrr3mWqvPE044QQf9BmnSuInNTDCFNWvaTN5880256qqrTPN86eWXVAN8WX7+i59rf2AKmyNr1+bJ7Fmz5Yfafk89/ZRkZmbKH/7wB2t7BuYPVKCgAVHXl6uGC84//3z7jRZ088032SBHaJyo2vM1115jfrp3726mLbR5/BJ3+/btbYYCJk6cKJ07d9KBHmHxxGs/Y1ChQVJvkCJ5eu65f6qwaCL3qSD56quvZOKEiVq/L0l2u2yL789//pO1/e133C5z5sw2cr3l5lvk9ddek+eff94GLTPYm2+6WT744ANZsGC+3K79GSKFLKjjxx//s/l76603lTAGmODnNyT3xz/+WV7TuDp37iyPPfqYnr9h5ARRJCTEmqAjnn/84x9Wjrd03KAoMC5GXnqxKVennnqqkc1nn34mo7X9f//739vsepD2QVcXCEYIj7FDHOTrk09GmUZLP33/g/dtpkGd0ccw4ZytgolxSb98443X7fjll1/KPffcY1q3q2vy+vnnn8txxx1n4/+nGg+zfcb4tddeawragw8+KO+9957VL+MUIcbs5Cc//ol89OFH1ia33nKrEeL/0xk3OPucs20coujccsstNhYZf7/85S+1rz5u/eHxxx+Xzz/7XNvpcTMr5nTIsfFGmc/R8NRJq1atZKTOSui3jNvhwy+wWSz9/IEH7jfB06tXLx1rzxiP0D+Jw5nRnMAACKw2bduYX+r5iSeelItGXGRjEGUJBfOn9/xUVq1aacrH5EmTTfmAVxDo1B9AeA46/nibDS5dulSVtTCZNHGSJCQGsyb4tC7UP+LXwqDp0iFat25j02Qq6Fe/+n/y4YcfWIX94Q+PKhmsNel51VVXGBEcP+h4iU+Il3fffdfiwdSyYvkKWb58ucV5/fXX6YC/SjW3hUZI3/ve90y6QkZooVOnTjUtECRqxYGHH3nYwg4dOtg0JCofTJ48xQjtuuuukQkTJti1C4YPl9SUVBlx0UWyaOESGTdunAmCWbNmyZAhx6ug+pss1LSfVnJp3ryZdOzUUVavWW0aHv4gdDQNXFbjLDNHMFgRhGgOEAjmp48++kgWL15sBNy9R1eZPn2mdS46TqNGCdZRhg0bpjOLNNOaR4wYYflDG4Xw8pR0EDKQHmkzi6JTky5ax9gxY2SxzhhOPHGY/b7zrjt1StnfNLLOnTtK506dbXC0a9fGnl+8+cabRr7MEO76wQ8kNzdXPlJhS94QRgySlNQkmTZthrynbWNTZBWgtC+zn5GXjlQh2thMaQgBN1DOOfscFWStJLdfrhElfQINCVMPQhPzBzMbNNwbb/qe5SUlJUWuVgGCtvbb3/7atDmECrMaBiEaIX2G/jJnzjwzu2DHDbTHCtPyIfOOHTpanaHl9+jew86ZpZmQ1rx3UmKj3hjszLYQwpiIIANmrAsWLlDhONDKB8GfcMJQI7XY2GjraxD0L+77mSxavMjyc8MN10ljrdOh2m4oPOT5s88/s/6MCe+xxx4zhYYytmjRTJ5UokCIIay++OJLE7bkhRkmZfz703+3ZxIILPrHKCXnX/7yf6ztKHP//n2tbdC8wSeffC5jx461sQWxo1XT/swwu3TprFrpTtm2bZuVnb5InfTs2c3yg9JBX8R16dLJZrq0U6vWLUxwnXnWmSZk5s+fbzMTCIo4IFxmGYw/wMyLmQWzVsbQrbfeLGNVU0b4XHzRxaa4XHjhCCvnP1XQuucBKDfXq9L1ugoV+g7pUZfYwBmHL7zwopldmGUyhlAm6B8oBiiACCzG35q1a6xeUDQ6quCAROfPXyD9c/tLk6ZZlsezzz7LZhvpGekqJP7XlJhZs2epILxMOnTooLOrX1g9vPXmW7Jk8RLrLzgUMvjK8qzpIUCnTJkin4z6RBWzi2zMPvL7R5SPgucazBzgkrZt21ofZxbRT2dGgDgu0vrR7maCJC4+RtbnrTclEaxatcpmDjjGUV2of6YeJW2mxtiZqfzNOu2lwZ5+6v9sSop5BEFGwRjYf/3rE0Yi7du3M40GEoBAqAC0xttvv92kPJpH3roNJnmnTZtm2gSVpTNTs4/SITdvZhq51fIxZfI0je/v1knAfNXC8D937nwbvFdcfoV2wlIb3EznPv3sU9NK0EQ2bd5keWNaP0G1EzBhwiTTsCgfnSM6OlIl91fWESgvZMT0FO2EgUEH//KrL7UzF5rJgOkgNkPyySDs2aOnNf4TTzwhM2bMkEGDj7PyMfAYTLNnzbVBTN19pfG00zpC637k4Yet/HRaNBbAucvTL//nl6ZVFhWWWJoM4uUqQFO0I06aNNWmnT169LC0fvvb38oTTz4heXqNAYqAQ9P50x//ZPEieLGPgt/97nfy4UcfGpm5h9onqyZ6zTXXmBYDgZylA2udzujo9JBnZmaGDTrICsLvrfXDjAihSbshVDFn0A6Y2DCHvP3O2zY4Vq1aY8IMTRYiQ3DTrs5URdkR2igAmKyo8/LyKlm7Zq1piYsXfW11efHFF2te19qDdMIhyM4840yt81lmSuykefmn9i/qGe0arR+SB5QVe/4TTzwlPFMAzLgQLuQZLZ/B+8ILLxlBMItkBsnsFaFD/6FPofww46RPW9/X/+659x5rl9Y62yJfEM8FF15gmj/tSz8rK6uweqdeIOpf3PcL1VhfsnwsWLDABF5JSZn82GYOhXKNzm4xW6CJ076bt2w24Y8mTdqkQz/o2aunzmDGy69//WsjqjXalrRJaWm5zQohb+oPsw1EipYOyQLG6MoVK2W55ok2RWNlxvKbX/9GZ2WF1r/R+gEmtxUrVtizIUwl8AGaOs8wMIexAo3Z6lJtp4cefMjyyMyTduOhNflG0aIfUx9r1qyx+r777rtN0UPY3XjTjTbD4D7p0y+ZUY0bN8FmZ/R/BAjjmdkvM93h5w+3/CEwaLfPPx9jygkkDb+cdtppNn4xQaampqkQbmqzKExijAdMrffdd5/V2coVq+05FumjoFDH9EX4j/E6c+ZMq2OEB20yc8ZMU+ymz5huiiuYOGmi8dS8eQtk2fJl1l++CfWK+AEVgEZHQcGPfvwjI20ettERj9eOsnDhIpsFQKo8aKWDACq3bZts6zjYvSBAbJjt2rU1MwYVxMBg8EFQA7RRd+zIN2I45ZRTrOFSVHtDI0OL6969lz1UhOwRCAwCKhstCGGDxsODL7TVv/3tCWt0OiNTOTpFD208BhWA2Nu1bWeNihbOgPtIiZCOg7bI9d/+9jfWIRisCDlWB9FR0QoBHZ+OibZH3tHc6Qh5eXl2nw6PQKSOuHfhBRealkkH58EiZE6HxMSCSaKpdkgwRrX8U7WzglzVcH7+85/LzFkzJT0t3YTBm2++odPrCaphPm+aCtoi9k9mKRAORNG+fY6FJ78QDJgydYrNkhhQK1euNK2NslDfaGdoWGiyr6gQRviiAWKaY4ZA3WISAtQrQoKB0EtJh6k97bZ69RrTPtGKMRFNnjxJ3n/vfSsXWi/9AS2UeoeEwNAhOgvRMk2bOs2m/sOGDTETBWUw+7cKccLTDxlMTJshBrR88s70GiEKwVyqsxXtqvb8AaEEeIaAsGBA83A0MzPdwt9xxx12n3pFi0T4Pff8c6ptf6rk9LQRJEIOzZiZTrDgoNwUA/KSmppi9npVWO06/Q/NkTYgL5ddepnV6Z/+9GebJUJYaPwQ9VmqBQOUhccee9TOZ2i/4TozMIQWwqZ1m5ZmViVNBC/3mNkxk6L/Uv4c9ctshxkg2jamT5Qi6op8nnXmWTbb4bkYhMvMEwI++eSTTVGhLTFp0r6s2EOAkx4Ck3v0YYiXGRlmFITGo48+ZsKEmQfkyfhEWNM25J02ue322yxdtG1msJivmGHDI9Q/4wszSNeunaW7Ct6f/uSnZlqk/V986UUbs5iTMQlSd5Bnt27dLTxk/AOdzZLXRco9cAmAS0ap1o7QIh/MxFkIwIzjnHPPMS0fUyAKAQ+wiZM6ApgMGeeYxlCI6CuYeriP8HXCj/GGckn/YkUcsyH69KeffrZrzDE2qFMEPsIP7nJCoS7UG+Kncik0Wi0EQOOOHj1WJf5K63R0YCqGFT7YZZ977rldBM9AwpSAZoNEfVs1RDoDBNatezfrLBAdlQMhYJOmoRAI2F5pkOzsdkbgSHYarH1OtgqDk83EAIFACgzwTp062BTs5Vde1vQHmAYyRMmEZZ4MQDoY55DHX//6V/l66deq6d9u01gEB9NVHjrR6DQSzyfQ7NxDWUic60w9edDEwDbbXzVxMf1Gk2zatImRBLMLtBDAtBMSRJuhjnhGwkNkygT5MRBYpsZAhnAhD2Y5mISoY87vU9KGQB5VzZrBvWzZCvn+979vHRRNnJUl1NesWbNNyFBe2g2tf8mSpaZNMY3+058et3J07dpNBctY0zApB7MbhCJlRUNk5sWMZuHChTbwb775ZhNQUyZPsdkPQuPss8/RfhGhU9qNJjTJ64IFC23wY8agTNT1mWeeadPkc849V27R2dWFIy60PsRsjD7FgGLQMhtYvmK5lRsBMnLkSGnTuo188P4HJpTIN/2jTRvtH9pvIETMbgAt/QMVFBAdsxU0W8gCjRQtOF/bEbJA66dOILDbbr/V8o3ZhTTpR+BXv/qVjLzkEiWGgMBWLF9l9UJZsd0zJjCvIOgh5oyMdNNQEd4QAfVDffJc6eprrtQ6/5P29W02c2AWCLhH3aK1Xnf9dSZ8b7vtDuvPaN6QGbMSzAVw0oMPPGhmGtpr6bKl9oyNsjKjo5zNmjczAofkmPnx3I20+E0+L7/icmtXrrVq1Vr7dYHVJ/2RcYRWi+li9pw5lu6mTVtspnL99dfqrP5p65coZk2bNpWn//60ac+sXqEtUGAYYxA5Ji1mLPR1lCee80ycONlmFIwz2nWOpoF/+gR9lLHCrI5ZKuMLYU+fYtbXWoXFbB0/PNCGQPv06aVjLccEdTOts+HDh1v7IOTI44YNm+QnP/mJPT+C6DFd8SwQB3/cp0KaZ1uXXXaJCuz7bfYLISM8WXL9axUQH388yuz32PlpD8zKjCnALGH8+Ik2S0EwomjRh++88w7r0y+awqn9dct2+YXyHHXLLJYZqRuT+8JeG7FgFarbMnRk4YgfWxeFZIrDw1xnLggVDGlpqVbBTBm7dutqmvb6DRtMC2Jm0FY7CgSBHZVpLKYEW9u8bZuZNiAhNHJWBDDY0T7o6ID4IUc6KWky0LCRs6KC+Ok0VDAChPDEiXaDtofGNWzYUOuwEDodD3MNGh0N8uijj5pNDzMJHZZrEBKznFAwnQfURXCMsOcXmACwG2OPpRx0JLQHSBwtP08HMIIH0wekgdAjDbfMEVNHUqMkM9nwwJvZBgOa+qQs1Bn1QTzkDxLhGv7phNjEmQkED8wgp926A+lCVqyyQmAyHe/Zs4fVAVNhyoBdFuKnfWhX4rT8KaFC4CznIyz+6fDWD9QfZg3Il/wy8Ckbsx9mewwSANESjrbmOmXnoR4kigZNOpSF9mSAUz4GI0f8sipiuU6VIWHqa9nSZZZORnqG5K3PM5KFfFm5wmDHpERYTD4893A23FStS/ou7UMd88yItEkXgkXYY4PnN+lS/ygetA33SZPwbvBSpyg4zEbIA7NS+gflwg+2e4TNR9UPoAHjhHPKAfG6sqJY0Gfo/1yDhAD54GE0K1wow1bt09QvD2oR9GjD9P3YuFh7DoHgJD4c9+gnLBulzBAqR0w5jBP6DnVK2tj9GTfETZ4R9qbcaJ1ipqBOCE9bM6YQhOQNxYX+zTiH9JmNcKSfowjxG9MmfY764RrcAenTZwnH+GXBAn4YV4xvtGnqiDFEfAhD3oNg1oAwI39p2t/dGnoUK/oQ/RL/5BfFypaCKnEzS6W8KE/MCDBd3nDD9dYP3CovQPsAnjkwJmgT4nftDv+QJ8xCpE0bkCYzaniG1W/8bqvKK8KCfMCH3AcIYcebtaFeET8dnAECYVJJEASdx4FKoZB0JgaBW0ZIA3CPQhPGaaJ0HMiGxqMhePDGgOFBD4RFGu4a/unY2FQhFjoRJEQHoiHIG/FQoRATjYIWbmv5NT+ck75NwbXj0mHp/OSP33RewqNx0fnR5smHiweEkqgDHYNwdFJWSRAfDU9no+HJF/XglhfSyckvD6HQJKkXQMegc0EgCEiInrJQjwwy8ufIicFMG1Af3CdfaCN0PsiJzs/gcOYI8kdYBjD3qQ8GHO1A2ck72hn1TYdHyOGfeke7Jd/UOcKEAUQZGUSkSznxn5ySbG2LX65zhNgoE3ERnjyy/px6p264B4jPAfJgVQdlg4DJG2EhNAQfbY4f6o24mFXQv+hLri5dP3D9jnomD8RLeRB0CJ+AQLdaPeCPdqLM1Bl5o47JM7NZSNyRnmtT4OoIUwDxQjrYjqlryggQBryoBYmFlhXzJARHfK4PQ5DESbrkASFPPISjDPihbJiLqF8IE3CfPsuzEsLTdykX8RKetnHtQL24vJFn+gnhaFPGCOWkH6DlUk4EHaDs9DEUKeLjHuOR+iYM/Yo4uM74pJ+SJo54qSPSdcqME5CMIUA94Zd+SDoIP+qSc8pM3PRTlALSpy/QL5xgok9TD9QR49YBgiU8YDZDfLQ9z81QQlFuCOfqqy4QLyBf1JebqQAbe1o+8u/ySbnIhysjXASfwSeMEfpNXahXxO9ABTAoaECrLC0MncN1XDoD9yksHYJGZ2DRkV1n4Rrh6IRUHvcJA5z0RigQP42Mf+InDs6pfDqIawz8ULGEcZUNIXEEnJNHbIXkm84KSIdr3IdQOId0HDE6wcP92uDu0dihwqZm3qkX4geunig7IA+uHMDVB52T+Ckn8bl7+IXAyRt1yW/SAm6AWN7VL+A+5wxmN8gID0iHewxK6oU2cGTk8kidO8IiXsLQyRlQnIeW06XJ/5zzViqO0lG3Ll3yaHVbnU/iAaYFado2y6qhWXN06VAW6gW4/Li2dvkHHInLXSM8bU9c1BX1B/iNI4+h4d21mu3vyBCE9n/8kx8XHtDnbRl0CFFw35XNjQsXB3nkOu1POEgGkFcX3vmhLEGYgOhcP4cMuU9dcQ7RUC7OHdw1IyutT8K6/uvCgNA4gQvn4Pw6AUgf4zfhaBPnF3+0v+tLoWkQhvw6DqAvOn+urxE3dcjYJ07q3fVBwlIPoWOfPOPHlQmQpiNg+rYRvrYv4x0QD642uDblSL3SL2gb4uc35A+sT9O3NR4EOPHRXlynDID8WV+vA/WS+PdVMTgazzW6Ixoa2HWI2oD/ukDFAtcha8LF7VAzf+SJgVUTxBt6nfzS4YCLo66yHg44wggFeaUj1rx+JOHyEZofd05+QuuAzg5cWzIAnVByCM0552EHUIVVGgDvOMIeudr/blBb/3ekB2rWN79DUbM/cj90bIXGtS+4eL/JL/dD81Bb/tzvmnHW9OtQWxhQ81pt4zo0Pgi/LoT6I77QunG/Q+Hu1UyjJnbnbXcZOAZKjQqd6vHhSN2UjBrjal+E71Avid8htIJCK8Sd76sSQ/2EhqkNLg781BVfTbh43fGb4Py4+EPT2Vccofe+Ka3a7u/vtSMBlw5HEJpmXfmi4wKEJID4Q/3Zmd7i6IS5i39f2KUo6HlN3wgDB5fW/sQZWrZvwv763d/0a/pzv2uC62iC+4va4sWF5odzd835d6gtP6FhQ1EzXuDC1YwnNK2a58DF5a7XhppxOrhw7r7DvuJycGFd+Jq/g/PdQgF3MLCw1WMjFE55cnBpfhPqNfHXBVewg63EA4VrxEPFt53voxGubkI7udNmANq966OQeW2DoTYQB36dxu/AeU3i39/2ORJ+A391EXVIRhWuPx1puLzvqwz7W75jFTXLX1vbHI76OVz1/M1zgnoICv5tdrLDlda3ne9jHVWmySoh7cNxv0qlBV8s5Bj81UTgExxI+xx+v/SPfWnnxBHqvh24vO+rDAdSF8ciapaf3zXd4cDhiueoJH6PYx82ha12aOqVaOscqzs+/0PtkPZ+OVP1NT77C6Ax2v8ilXrNnX+HrjqPUqXDMtTZMMVkw4M9PbUSuFJ4eBw4jkpTj8exi2/SaDD1oBWHKSE6Erf+SrDQjlv9m8PeMSrlh+kMYNfdas+GXTEq9g555OAIHrLfXRCTA9V5DCxeWmY7cXlz+ffw2H944veoV9gX8WPfZAloJMsZJULJX131PeO+0I7rosEmugcxco7Zp0LPKvR+YC4KyHa3dr1nZEcSLuMQPquXcC4P3CWvQR7dirDycpZScq7XbUlTaPk8PL4Znvg9jirwyYPKcta9RyrvBVp/7bxXsyc7goQs0faVPMPKVXvWc7OfQLbVxGsE7MJy3DMBt1Rv3/b4A0Vo2i59ZiaBgOJZIY4lx3xrKCxc84RA8MTvcRDwxO9xVABtnxeRzjrzbGmS1VgK8otV84/Rvlpt8oEVqxGc1+zJjiAh60CLLivnrdSK4IVA4QWcalfFi20asxI8cfE+Buc8IHbvQLj0mKHwIhQv0AB74SckL/sDXroJs5eyeD+FF/OCnNtMRYlfwivUT5m9Sbt27Rp5+eUXJSMrTcIj1YcJH0/8HgcGT/weRwV4mYZvLv3tL3+T3H4DpKy0QspKeCjL6/JVSprBZyUAZFy3yQi/gfnHXn2Pi5HiIna04vMLMXqbt4Pdm+Finyxg72e+dAmf8yJudLSStfJxYQFvMbNpOzuvxagA4Y1XiDxIoy5Y/iqDNz5ZY5+cHLxBSlgeYldWlle/iVkhsfHRKnDKZGf+dklJTpKVK1fI1VdfJTFxmlg4b39j8vHE73FgqJebrXt41AREim170KAh0qRJM9myaZsSqPZUdTzo5ZMCxYVFUlrCpjaqIetv5/g2O/dx5eWVUlDADmiRMnfuQlm0aJmkpzeRkpIqDVulfvlcRYQUFZYJb9lHRSnLa/yqbNvv7dvLdHxEyI7txEeYCklNiZaFC9bIurVbJTkpRWcjpea3rLRSBUcQD/5w5RoGhzkHYVJVGSk7d5Sapl9QUCJR9rkAPmYXfD5h+w6+WxN8X4aX2fiI3LhxX6rg4Vs/gRDx8DhQBMZKD4/vHKgbdEecUz/2dFg10MT5WNfUKVPlgvMukPPPPl9GXjRSXv73i1KuBB889o2UsEoVCNUugitK9JFhUWYWT4xLkML8Ivnpj++RWTNmS2VZmDrVtHl2oDwaw6c7SouVhMNlw/r18ugjj8jK5Zvkg/f+K9defaXkrd0o6amR8rfH/yz3/vSnei7yf08/LU898TfLfYRm10qhGY6Pjam+FibRGi9HXKRe3Ji3RV59+RW55aab5NNRn0tCTIwKgR3y/HPPy8hLRsoD990nq1etgt3tW/I/uPNO+d/HHtOZRoHExQQf7TITv4fHAYI+6eFRPwCJmRav3bKms64KrYdLYmIjGf3ZaFmxdLncefudkpqcqoT4RyP8mMgYSUpIkqz0THONMzIlMTZRwivD1SnpVkVIfEyCPHT/g3b/+9d+T8IqqqR54zR1qXovQuKiNMnyImkUFy7P/v1vMv6LzyU1KU4+G/WhjJ/1gUz8aoyoN/li9CfqJ1oKtou0aJIp0yaNl+KCfIlSNo6OqJL46EiJ1mxHVJVLWlKkxEZq2cpLVACp5l9cJO+++Zo8+dc/yZRJX0msav8ZaSJ/ePRRdX+QM884Q55//XkVOMtl+bJlctcdd0hO+xwVBCtl1crlOgMoNXHo4XEwYDR5eNQjQGduZcveLjIiSjau3yhTJ0+VW2+5TW64+1LJbtdO2rVtKykqAJISU2T1itXy7lvvy3tvfyCvvPCaLJi3UAk9XooLSyQtOU0+H/WZTJkwWX73P79R7T9G3nz1VXnwF/9P7v3xvfLhu2+pv23SOD1JFsydJR+995b8+pf3S5vsBNmxZYPESJzMnjFZ01gn2/X3ScOOVyIX6ZTTTn9vlIriQonSaUO0uorSQrnztptk7OejlOCflEd++z8qDCKkSmcTelNuufF6ue7Ky6VLTrb07tFV1q8vkjdef02+/73vyQ3X3yBpcen2aWj2Ne7SqbM8xCYprVpJYfk21fb58qSnfo+Dgyd+j/oD4zH+q8XpTADbPdr+mtVrZfHXS2RD3gZ58Yl35D8ffWTbbLLGP0a19elTp8mL/35R3n37XXn++X/J3NlzJSY6xkw5JcWl8vjjf5HmTZtL79xsWb9mvTz/z3/K7JkzZMa0KXLPPT+SvLWrJD0tXu796Y+kX99ecvqZx8uEz2eo9v21DD/5bPU3Wd5Wbb20OF96dOus8Yrda9WiqcTFRumgqpDtWzdLsyaJ0r1rZ7np7utl4vgvZfi5Z0tVZZlEhFVKZZmSvwacNnWStGjWRHJy0mX+vDlSULZTjhvY33ZXioqMkO7du8rkSZNkyJDBsmLFMpk+bapkJDUJPjvt7fseBwlP/B5HDVgBw+odtrGLjoi27ej+9Mc/2h63N9xwg5SUFMvmLTtk0aIFSoqVtjlNVlZj26Jz+44dktgo0TZGmTVnlhGplInMmTvXdmR6+JFH5OZbbrHdydrpDGLqlJm2Oc1dd90phTsrZfac2bb3w2WXX2arcV588UXbdJxd3VC82a4vKyvTNnchH0lJjWT69AW23WV6TIY9sG3eskXwXfbwMFtCunXrFlmwYL4MHTrEVpHOmT1LMhqlSb/cPjJu3BfSXAVC3rq1Mn/xPBk6bIgsWrxQthTmSVJyI/tEr4fHwcITv0c9gxn6g9Nd5+rCgjXrUdFR8tW4cZLZOEveeOMNee31120/4LS0NCPTiMhwOe2M0+Wen90jv/jFL+T222+TRkrCthY/Ilw2btqo84cwSc/MEIkRWbJ0iaSkJts2gGz63qVrN4mOiZH7HnhArrrmKtsXlk2up8+YIe07tJdhJwyTuIR4mbV2im1Mn9k4UyZNniYfjflIvn/TjRIbGyOl5WXmZ+LkSbYt6PsfvCftstup8Nlu+Yf84xMTZG3eOstz7oD+VsTp06ep5p8tRUUF8uYbr8nJJw3T2c1KSYyNV0GSKG+8+apkJTfV2UiaEj8vdTEb8vA4cHji9zg6UKVackSk7Ws7fuJ46d6jm0TFREpRSaERs21TpzwYpaTdqUsXvd9D+vTrLL379pKYuJjg5St1rNsPV+HAvqgSJSpEvpI27dpKWESYrFq9yjTrJ59+SpavWCZXXHmFbZ3Hmv9Jkycaeaekx6qfoZalVm1aS0IjkfsfekBOP+F0GTxkkOzI3yGx8bF2ZOPxW2+/1YTDT+79qbRs3VKFQqnGVikJiXEybvw489eiVQudVYg0a9pUZuosZsRFI6x8Iy+9WBo3yZRG6vfqqy6X1SoEbr/jVi1rmfDycMD7Tkh6eOw//AtcHvUE1T3PPlmwtz7CC1zsj/rww4+YrT4zLUvatWonFWUVZtsnrL31WlElkdW7nrnt7gDPBzCPtG7dVM4772I7HzXqLXnvvdG2GXpaaqrMnjNLevfuJRMmjJemSsKYiNhQni0tx301Ttq0aSMdOnSwPX3/+99Rcu65w+WFF16Qd955W17V2YLba9htm+ds8KGaOW/1VlSyj3KU7cvMvfbtc2Trli12f/mqlVKs6Z166on6q0LWr19rbtHiBXL6mafJ4iWL5O4f/lDvBG8cE5enfo8DhSd+j3qCbyZ+3tz9y1/+ImeecYJsWJsvlaV8s4dPJIQHe8pqOP5gQke2tt0l+wfrsay8XBLi42XlypUqCMqlU6dsQWbs3Bns48obs9FK2olpkZK/NdjsP9iXuFKSW8RK+VZRQVBscUVFxih5h8v06fMkTjX8rl3byYb1OyWcl6/U1Xzwym+XJ47kJTUlQaKTRbavr5C4WEhcJELzg9u8pUDDsHcz5auUmNhIDVglH/73I/mfX//KTFcaER+f8MTvccDwxO9RTwDp0/Mg/b2JH7J03+rJzMiU0qIS1eyVDDUMmj52+zA9d3+hCN2liwfE7FPKw1Y2AUcAcM7nHkpLi02LRgBA1JiW7Gjf0Qni5Ds9tv+pzjrCwiLt+znBW8GYX4K9A/YH+OWtYuA25icvFUrl/PGmGR9jQ+vnm0KVOpOIiAyTOfPmyNwF8yw/7EdAalZtHh4HAE/8HvUE2uuMwSD92nsgpF2shF/JG6v2BwiHnq+/Lby7Wn2fa/Z6a/V1tG0laQjdES7naNcBtxuVcrIL3N+NQMNmdsFH1SB9fmHeqRu70w+FEybMSPhIG/7McGOTFhUulWXqiVkNflUAKfHHxETZQ+qA9D3xexwcPPF71BNU97wQ8q6JQPsOzCj4gOwDBGGcKIA27e5ejLhHV68GfoL47D6rh9x5LQj87fKt/7nZSRDP3gj8Bqg9TuDybqlbHoIviO4GM4wqnW3ozMIEBmYeJf7Q6D089hOe+D3qGVB36+6BTvvGR/D5Y347sg404CA0/4fGE/irCyY2NF2SDmKr3X8gXkjHpflNcPmoPT4Hl371D/UJ6eM/NPxuQWCxVXv38DhQeOL3qGf4ph5Y3V31EPgyCqwmbPc7NA6OgR/nozYExBteI569/TuCdhu37yvOAC4v+/br4g38Auef34EZKDS8J32PQ4Gbp3p41BNAbmi2dblqAoR4zdUkwZqMuJssg3t1OeKpjnuPMHsj8OdQW1yhLhS13XeOeIO4d5eregYShtlnd1lxHh6HAk/8HscAYELTmUP+9qTV0Du1/QW+AuwrTChCr+/775v9Bil6eHw78MTv4eHh0cDgid/Dw8OjgWEv4sd6WZdlNRQsKXPrkPdc57z3bw8PDw+P+oMD1vh5dT4mJsZIn23weLsx0r6VInbOd1O4Fxsbu0sweHh4eHjUHxww8fM52B07dphWzzrqoqJCcxA+r8Bv2brFhMO2bewSVFEdav/hZwseHh4eRxYHRPyVFZX2BcKcnBzbEo6NLlq0aCGZmZlSqOSfnp4mbVq3UU0/XLp07iIpqSm7XosHnMfFxZlzpiJmD/xmhgA48tvNKjw8PDw8Di8iMjKzHqo+3yeg4NLSEmndurU89thj8tVXX0l8fLz89a9/lfXr18vYMWPll7/8pfTu1ds+pnXlVVfKK6+8Yl9UhMwxA/FZ3dWrV9s1wjIj2Lkz376xzgyBa2vXrA1mC5WVEhkZ6cnfw8PD4zDjgDR+vjyISQciX7VqlZx44onSpUsnKS4qlg4dO9i+p889/5z07t3bZgWXXDJSTjn5FHsWUFxcJAP6D5B77rlHrrvuOosjsVEjC3PrrbfK9dddb88KTj/9dNtRafDgQcEXDz3xe3h4eBxWHLCNH2zatElat2otuf1yZcaMWVJUXKwkf4lMmDBB5s6dK3379TWtnk0tnnr6KWnSuLH06tVLfvijH9q+pRA9hJ+SnCxP6/1+Gg9xDD//fPnxT35szxGYPZx22mk6I9i5yzTk4eHh4XHoOCDit2+RV1YYqd9+x+0ye84c+c9//iPDhg2V/v37y+OPPy4dO3aUbt26yb333Gu/eRAMbr/9dmmU2EjmzplrpqBGqu336dNH5s2bJxdeeIG88srLctVVV9lMYtrUafaQNzEh0cw9Hg0LzAZZIOAf9Ht4HBkcEPEzGNHGO3fqbOT+xuuv20PY6667RlatXCUTJ040G//GjRtlxswZprFD5Gj52dnZ8uJLL0pySrI8/PDD8sYbb8opp54i06ZNs40wTj7pZImLj5N33nlHkpKS5JFHfi+fff65mXv8xtINB7Rz3ro8VQ7KPPl7eBwhHJjGr4MSbb1J0yz5+OOPZfGSJaaVsx0dpJ6YmChDhw2TZcuWS1FhkeTm5sqKFSuCDat1AMfHJ0hKSooUFRXZUlCEAeYhiJ7NJYifFUItW7WUtWvWaJhKue222ywM4XlA7HFsg41NLr74YklLS7WH/6wi8/DwOLw4oFU9KF/sNLRp02Z5//33bZUP+51+9eWXMn7CeMlIzzCt/ZNPPjHbfPv27eXTTz+V+fPmy4b1G/R3tmRkZNjvnfk7zWTELAGtHkGxLi9PevTobuad0WNGy4gLR8ill10qL734kgmcQAPkPWKPYxHBjLJSnnrqSWnZsqV88ukn1vH8bM/D4/Bir+/x1wWGXkD+VbJ923Yz2bh9S3FZWY3tyJJNzD+AVUClZaWSoLOCbdu22jLN5ORkG8i2xDOcjbVVmFSv9WepJ8TOev/09HR57bXX5M9/flzeeedtmwl4k8+xDbfk95lnnpFhw4bIk08+LX/645/suRJ9iq0XPTw8Dh0HTPwQL1p/eXmwUTTkHRkVaRtH80JXQOzhqs0XGLkzXWcDa4SCe6gLOI+NjbOBDhAibt0+L4rFxsVK82bNZdnyZZKfn7/rIa8n/mMXEH9e3jr573//K71797Rrn306Wm6+5WaJj4uXsvIyu+bh4XFoOODlnGj8kDZHHNoYD28r9Zy3ebHf8wkHpu3Ya7nOfQDRuxkCYG0/a/fdt34QJsRNnJiKpk+fvktAeMI/9sFzH94TcRuXL1q4RNZv2CBdu3a1N8PpUx4eHoeOvUYS9MrFmm5ftAspY6KpVMJmcDqS5hrODVjucy+UxJ0fhyCuKguDOYnfFRXle4XzOPaARs9DfoT+bbfdYYL/4d/9TiZNnCQJCQne1OPhcZiw18NdqHV/6fVIE7Ef6A0LCHz61JQpU+S9996TzKwsOf2M02X06NG2esz3Bw+Pw4ND2mz9SBE/BODRMEGf4hMfmH14oNu0WVOZPXu2vb3t+4WHx+GBJ36PegXanmc+mPc4Lywskvj4OLt3pGeYHh4NBYHx3cOjngBy51mQO+flPk/4Hh6HF574PeodQmd8aP4eHh6HF574PY4KeK3fw+PwwRO/h4eHRwPDIRH/wTyE9Zqbh4eHx3eLQyJ+SNyW3u2Hw68nfQ8PD4/vHoe0nLO8vGLXW7X7AwRAYmKCfcJhX2H8ck4PDw+PI4eDIn6ImY+qsbsWjg+o8SXO2sCuXZA8n17mi5udOnaSpcuWWvi6CN4Tv4eHh8eRw0GbeiBnvsIZuDD7xopzkL072r3wYCclPrfMuuy6hISHh4eHx5HHQRN/TVMNxF5YUGifVOYrm5hz+JwyDuHAfU/4Hh4eHt89Dnk5J99UAZD6GWecIalpqfbt9PPOO09uv/0OGX7+cNm+fZt9l9/NBPhUs4eHh4fHd4NDMvUANmHBfp/bP1f+/Pif5ZxzzpH2Oe1tr9wZ06fL+eefb3uoFhTutP1T9/VQ18PDw8PjyOOQTD3Bt/SDjVZOO+00ee6556R3r97Spk0b+frrr+WTTz+WX/36V3YvOjrWNljxm2l4eHh4fLc4JI2f1Tx8I71x4yYyZPAQEwDpGRlyxhlnSkpKiuTkdJRrrr5G1q9fb7Z/bP0eHh4eHt8tDnojFjR+Nj/n4W2LFi1kXV6e/OMf/5B169bavrubNm1S4u8glTor+Otf/ypFxUUmDJo1ayarV6+x5ZweHh4eHt8+Dnkd/86dwWbp7J/LQ120fjZdZ8ckHuYWFBRIVlZj21QdAZGbmysTJkyU6OioXc8JaqKu6x4eHh4eh45DMvU4001UVKSkpqTaih20/ebNm9t6fXZNatq0qX1fHVOPh4eHh8d3j4Mmfvdwl082lJaWmpbvjmyWzbGkpMRMQWVl5VKu/ljf7+38Hh4eHt8tDulbPVGRUdKqdSvT8lnSGV4HqWPnRwhgCtq0eZOsXr3aBEdd8KYeDw8PjyOHgyZ+iJsVPZh0YmNjg1U74ToLqPF2rruGxg94LvBN8MTv4eHhceRwSBo/a/Ih/7pI34E3dd0bvjwHAF7j9/Dw8PhucEgGd0gf8uftXVb5cKzNsYIHwt8f0vfw8PDwOLI45CetpvHvh/NavIeHh0f9wCET//7Ca/keHh4e9QPfGvF7eHh4eNQPeOL38PDwaGDwxO/h4eHRwOCJ38PDw6OBwRO/h4eHRwPDd0L8LO3cl/Pw8PDwOHLwGr+Hh4dHA4Mnfg8PD48GBk/8Hh4eHg0Mnvg9PDw8GhjCOnXpetBf5/Tw8PDwOPrgNX4PDw+PBoawjp29xu/h4eHRkOA1fg8PD48GBk/8Hh4eHg0Mnvg9PDw8Ghg88Xt4eHg0MHji9/Dw8Ghg8MTv4eHh0cDgid/Dw8OjgcETv4eHh0cDQ1jHzl38C1weHh4eDQhe4/fw8PBoYAjr0Mlr/B4eHh4NCV7j9/Dw8Ghg8MTv4eHh0cDgid/Dw8OjgcETv4eHh0cDgyd+Dw8PjwYGT/weHh4eDQye+D08PDwaGDzxe3h4eDQweOL38PDwaGAI69Cps39z18PDw6MBwWv8Hh4eHg0MYTkdvcbv4eHh0ZDgNX4PDw+PBgZP/B4eHh4NDJ74PTw8PBoYPPF7eHh4NDB44vfw8PBoYPDE7+Hh4dHA4Infw8PDo4HBE7+Hh4dHA4Mnfg8PD48GhrCcjp38m7t7gRrYo1o8PDw8jhkclMYfHh6p/4dJZUWVhIWFS2RElF2vqgrIkmu7UT/ECHkj30HegRNxYbvyT3lAWNjue7udh4eHx7GBsJwOe2r8oC6agxDLy8vNJSYkSlh4mOTn50tpaYk0apRk5FpVWWl+o6NjpFJ/V1SU2+/vCuQZFxkZaXkFUXquF/ValOYzUgoLiyQuLk6FQriVraKiUssSlMMJs9qwr3seHh4e9RUR6ekZD1Wf70JdxB+lRFlUVCTXXXud3HLrrZKTkyNXXnmlxMXGyfz58yUiIkKSkpPl3nvvkXXr1sry5curtWdmCbtnAe5aaWmphYmIQAuvUhKOlpKSEiNUiBrgF2FSVlZm18iD80Oc/K4MuR+aDteInzi2bdsq3bp1lzPOOEOmTZ0mJ554olx80Qj54osv5ZZbbpaEhARZvHixxMbESmFRoYWLigridvn18PDwOBYQjs4a6uoCRFtRWSFR0VFy/PHHy5w5s+XBBx/U4xw586wz9H5AkBDvuHHjlfjzJD09Xdq0aS2ZmZm7yJN4OE9KSpK2bdvYsUwFAEKgoKBAmjRpIo0bNzZ/ZWWlJgzSMzLML4D0W7VsJc2aNbN48gvyJSE+wa7FxMTY7CNSBUmjRo2kefPmdoS8MfFcdNHFSvgnSXJKkmzbuk3GfvGFxd+vX67s3LlT8vLWSXlFmbRt01aSVYAV6UzAma3Ij4eHh8exgIi0Gho/9FxTv3XadVlZuZJylpx66qny5FNPysKFC+XMM8400v7889FmShl5yUjp0LGDTJs2XR544H7p2KGjDB9+vowfP0EKCwt1xlAsp512mjzy8MOSldVYbrrxJikqLpKZM2faTKFnz15y+umnm7AgzCOPPCIjR47UdJsYEd90000yaPAgGTFihMybN0+aNm0qd9x5h3Tu3EkuueRiGT16rAw8bqD85te/keYtmsv3vneDLFnytc4MIuT666+TTRs3ytw58+Sqq6+SJYuXSHx8vAwZMkSeeOIJm8Hcdttt0qmTxnXxJbJ+Q54sW7ZMYmNjdwks5zw8PDyOVuzXw11nPsFej+bduEljufzyy+WVV16Rbt26yUsvvSjl5RWmXffL7Sdr1qyRk086Ufr06S2vvPqq/OxnP5OtW7fuiqdfv34ybfp0ueXmW2TDxvXSpnUb1cRPkFNOOVXeffdtI9s+ffqYxs69//v73+XWW2/VcH0lMytT7rrrB3L/ffdbnA888IDMnTtH3nr7bWmpWj8zjF69esr8BQvkrjvvkuLiEunatbNs3LRJyssq5NFHHzUzVMeOHWXpsqXSvn17s+tv3rxZrr32Wk2zmfz5z3+W8IhwGdB/oM0wQs1HHh4eHkc79mI0DBo81nTOGTggP+z72e3ay+zZs+XNN9+U99//wEh95cpVkpAQb5pxWmqajBs3Tj4e9bG8/dY7pkFfe+11qiVjcy8300pKSoq8/PLLEqFaOPb9SZMnS26//qrBz5d27bIlMTFRXn31NSNhTDmjx4yR7OxsyW6fUy1kymTipAmS1ChJKisq7eHswIED5fXXX5ctm7eo3/by9ttvSXJKstn5R48eozOCzrJJyX/xkiXSs1cv2bFjh6xdu87MVqNHj5bU1FRp0aKFzJo1S0466SSdsUxVYfKWxMREq8CrqDb1hDoPDw+PoxP7rcpiw+fBJ0Q5ZcoUI8vPP/9Mtu/YJvHxcWaG6d69u8TGxSoRFxj5/uF/H5PJSuqQcnhYhGrfRdKqVUu9184exKJhM0uYMWO6dOnaReap5j527Fj58osv5T//+UjOO2+4bNiwQdavz1OBEWPhIOiBAwbag9rGTbJMIx81apSMHz9O/v3vf0tqWqqZo3j2kJuba3letGiRmY8QBAiJQYMGWbwA09LatWslIyNDcnLay9gxX+wSbMuXL1Mh1Og7X5nk4eHhcTixl42/NoSHh5nJJDMzQ7p17yZjlPR37syXpKRGKhECm3dJSbH0Uk1627ZtqjXPNlMQpptGSpzPPPOMrFq9yrTvk0460ci2adNmJhyeffZZmTt3rs0o+vbra4IlIjxCFi5aKB065MikSZNl7Zo1pqGz5HLokGHStl1bJes18vWSpdK5S2c57rjjpEuXrraKKE4FT1xcvLz77jt2nQfGn372mWRlZWn+s2TLls32XGDSxImyTP03bdrE3KiPR0lyUpKl37dvPzNdrdKZTEWlI32v5Xt4eBwbCGtfyzr+WoGpo7JKEhslGoHzkBazDQYhtHnW9Js39VOuGjIPfFkZg5lkx/bt0khJFZv8vffea/cee+wxSU1Jla3btpoAIfogPjGyZjUNMwn8Ys5x8eMHDbykpNQEBLZ4VvOwAmj3BKZSw5VLVFSErdXHNFRWVqHaf/BuQWDECrd4iI9lmwgsznnYW1RUqOHL9HfwYlddsKg8PDw8jjKoxp/+jRo/wEbP2nYehLI80q2zZw0Q/IcNvLIysIWznDI6JliTD/HHxgYvR0GUQ4cOlTFjxsjKlStNg4+JYcUMS0EDIsY/ceM4txSU9JlVEAd+iIf7boUNxB7Y4MkHL18FzyT0l+WVI3nn3N13q3S4ZktAq+PjnDLxuzrKfeAbPXh4eHjUO6jG3/Eb2Ss8ZIEnpM56fhD6aQZIPyBiCD4g8nD9jV9IFtMJGjd2dtbMO/ORgwsLAnIOiDn4HWQx1A/pgZrXQsPUPHd5c+B6uM4aQGj+gcvDvuGJ38PD4+hDWPucvYl/N83vCUekDqFkGkrODtxzhBq8RIXGXmHaN/7dtVCCrZlGfQX5/GbBcHA4UvF6eHh4gAMi/lA4gnbHuojftH/9c/d3m1zqJrejhfyPBFy98KykvqIqrP7mzcPD45ux359sqIldBLUPAg/MKiEkrl4ryisCUiNYXc7CNFC3qw6+S+zOT+hfcE3/ZyXXd55HDw+Pg0VYdg2Nf/fw/mbUpZnveb36fB8Coia8xq9HnRV9J7Cq391W7mzP1gvap+G2kofH0Y0jSvxm0tEjdnyeme5NJ7Uj0C4bJqqq6yb0IfS3C9Lf3T6VqtrvypPO1KqsdbQ9q3Ch8wAPD4+jBUeM+LlTXlEhVeFVUlxeKmVhZVIRESytDCWWmnBhjwyIufa0687R/tfH4URt+Tn4fOwrpEvJ+dkz5cqwSilXAR6hl2MiYyRColQAhOv/kRKhR0J9F/Xj4eFx8DhCxK//aaxEXFxRLBGJkZLUMkUKw4rswWC4aop1gSWg3xX2pLwA31luvvV60PSoAEuX6Zn+0PMKqbQludEV4bJl9QYJLw+X8MpoiaqKkEjT+gPy9/DwOHpwxIjf9HY92VGyU1JapUmr3LayJWK7vYwFYewLdcV76DBmC07rMVwOaxNERxaashK6qF7vUKECAGqPLKqUOV9MkfCiMIkLizNtP7wyovodj/pfpx4eHruhxN/hsBM/MfCHbX9b6Q7T9pvmtpT1EVvM9BOlhLEHNB5i2rUKaH+Jf38zaqCY1cRfx4yDq6GVUfP3fqNaWz4UhIYmqkNa3Rm6BMedugTsd2hqtE2oYA6XyMpIiS6sknljpkhcSaQ0CouXMGvDCA15aOX08PD49rFv1fsQAB3sWuqpzAVxVSrh8nCwiu/uROg1PVboqTnOVVCU6/VyzVXdjvvVTuMNnMYdGpc6rgUuuL/Lr4UlnsCVKX9xrFCnSmxQI+qYlPCb66H+63KlIecVUVqOkN8H4siPOT0nbVyZZmlf+SDt0PR3OcoWUaXnuMrARVQ7u6auur4rq/Ncqf4r1N8up0KDejCRHKZavrZflLZjhDq97OHhcRTikMYuvF6b2wP8VtZIikmStOgUiSmLkihlpAhlt/BSJQ9lm2j9i6yKVjKJURct4VVRqqSqEz6SVoszP+oqoqSyFL1Tw+Iqo3Y7DR+4yF3nQbx8Y2h3XKTDkXvhGi5S4yRf5QXlUlJYrhWk91W7JS+h+SGcy2dVlZYnLDhWqJQpzC9VktzTn3MuvZpuV/x6vwp//CbdigiJCg/qxMI7/9W/yVt0RKylX15O/bvy6VHzgw0+3JzWtbYFK3FsxmPOjDiW59KSCo0jUirLKrVNdFam9yMruauCurxC04gM3r8o50GvhnPvYuyaQnh4eBwt2OsjbUoH5vYPtfsMTEDq9FhSUSqJqY0kJStV+b9Shg0eKgXb8qVoZ5EkRMfLwNyBUlpcbr+jleDCbKUIRAtpKaGqC9/DKZErQaHWJyckSZ/uvZWgi6W0sESilPywOxPGwmkcwbkjv0BjDUhwT4cGGxXGA0uRhKhYOeGEEyUzs7GsXZcnUVExGg6yU0np/Ltc8mVSvR4TEaPlKJXuXbpJcmKy7Ny6XaIjKU+V+bNwHOtIH2ekrPf5iwpXoi2tlC45naRdq7ayZtUa+xopfvDr0rd8abniY+Pl+P7HSWlRqeRvz1eiRnBo2novKH91OhYmqBvqk7+oiGjNf7SUFhRJp/YdpFFCguzYuk0iNQ/EnRiXyFN6OSF3iMSWR0re8rWSkJBoq300uqCtPTw8jhqEm8JWw9WmxQefXwjO2cykuKhYiouL7eNrmHRC3+C133qsrP6GT0R4mBQrqaQnpcrwbudLXyVrKamUts1bS79uvaV0e6FUFZXrLEAkWolGpYVqm0pNqsFWFOlF/V2pxyoVEGGlFaqRV0pFQbF0aNNeBvTJ1esV6kfTUc01WsksTO+Laq5VGi4M7VX11qqyCqko0bg0fIReI51IDVZZXGZxVpVq3KrNFu0slK4du0innI6yeeNmI9qwiioLG6nVhRaM/wjClpRr+FKLL0L9xCt5Ds4dINnNW5nWHKF5wH84fjX+2HAlY/JVnWa4nkfpfcKTL8uf5oGH31yP0mJ0apMt6SrgSvO1jtQP+cY/+eY3+SjdWSDN07Pk+K799R5xauVr3kTrAT8qKjVdbcMynV3prIq65zkLjvpFrJGvjOQ0FR4DJVKFGbM0jnyCuyC/QLJUCJ5++hm2r3JUJDMKQIcI+oR33nl39LiItLS9Nf7awDfv+QZ+Zma6PPDAg9Krd2+5+OKL7AubX3/9tUREqFYZrtphYoKwW1ZUZKRExURJcXmRxCTESXJWsnTq3llatGwmVapWL5g7Twm2s2qaUTJ35iy55MIRsn3zVqlQohk54hJZziYrSr7nnXm2dO3QSY7r119y2rSTwQOOU4JKkeWLv5beXbtJTtN20jgjQzX/HpK/bYfs2LLVyKtfj94y+DjVgFVIbdu8WS4argKnVy9p07y5bFiTJxGqDacmNpKzTztdunXqLH179pYd27YrUZbJiPOHS0lpqUyZMU3KtMxpKalyyrATZPXXSyW9UZKcNHSYFGzfKf179ZFBAwZIv569pGhHvpSrIOyr55PHT5Ck+EQZfvY5Mk/L1im7vQwbNEgWzV8ovbt1kzNOOVV6deuuhCyybsVqye3VWwb2z5Whg4cY+eetXSeJSq5JMbEyZMBASVHtule3HpKp5Vy1dJl0aNdezjrlNMnt3UeyW7WWhVqX5D8srEKmTpgozbKUpE8+Rbp36iJtW7SR9avXyWknnqYzpBRZvWy1jDj3Atmct1FSEpPkFC3LyqVLpUwFWEpSkhQqsZeVFsswLe+KZcvltNPOlBIVDnFh0bJ0ziKZPGaCJEcnSHmFzt+0s/DMxmv8Hh5HF/ay8aswqBV8VZOtEwcOPM72r2VXLTYoP/nkk20vXoRCkyZN5Mbv3yQ33HCD3HrbbXLOOefojKBSIiLDJS42Vlo0ayaTF0yW6Kgoad+unWSmpSsprZaWWU2kc6ts1eqLJC0uUZJUcETqTOJ4JdadGzfJV59+Lp2TsmX9ilWyePZc6YHA0Iy2VC10ycK5MvbjT6RFRpZkKin37txVeinhzZ48RaJVM+6e3UGykpKlZ7POsnTufJk09kuLu0SJu5+SKXF8+v5HqglXSdecHImLipbI8AiZMnmyavqVZtuOVde1TY6ScbQc16efph0mW9flycbVazSdqdIoKsaIOiU2XhJVkOVv2iodW7eRhHDVtcvKVWtvZ9p/SkycnDxoqCyYPktWqeAa0LOPlr2xDFFBtWnVWhnz4X9lg5YxSdOpKiqxemmSkC4Txnwhc6dNl64qQKJVwz91yFApUAE3+YuvpGPLttKhZRsr49Z16yVMNf3hZ5wlW1R4zBg/UY7r2E/rNEXL2VKP6dKrYy8Z2naI5qWRpc8MYceGTZKsQqZABefXCxbKTj1mpafLlZdepoKvRNatWSsrVqyQV199NfjCKioDqKuzeHh41Gvs18NdzDWYdUCrVq1sI/P58+cLm6cvWDDfbPp8dXP9+vXy7D+fleeff962VPzwo48kUmcCxUoeCQkJ0rRZU5k7d47tgdu1S1fbb3f1qlWSnqKa6JoVslHDd8xpL3kqDCIqK6VRbJxMmTBBeGq5rmi1TJ04USVQuWqredJcCTNNiZ77O1QAVaiGjraf07adVKoQym7dWrX3Ulm/dq20atpMFq6cJzOnTZOS/CIj9AxNM6dNWxn/xReyKW+9xEfH2oyBF8iKVMAtV+2+tKBQojFxqRa+fdtmFQwddcbQQr4aM0Y6tc+RHlqGjkrGMSoY8rdut2v523dISUGBtNQ0161abaamdGYoS762vBFfrAo+7m/WdLdv3mL579guW9qrsIis4MGq6tFa5mTqZ/0qmaxlxJ5frsKgdcuWkqj1Uq4zrTYtWsqSRQslXP1npqbJRhVGPbt2tfjnTJ8pWzdtkq0FWjcqDJYtXi5pSRnSu3sfrcs8LXt7/Z0is6fPkFQ2rdeZTqTGU651Rjz527ZJnArgL8eMlUqtczamSVdhEM63NxSe8z08jl6w0MMGcajDRBzqqpQMWWPPVort27eX2bPmSGZGpnTt2kUWL15sZiCIn313N27cKJtUS2dP3G1bt0l4ZIQRfzMlTAh1jV5fpGHatW0vqWlpslbJvknL5lKghBOmhNVBZxOrVcPMbNxYKjQ3y5avkO49e8r2nTulSONprWS9dt06SdGwUZifysqkV9++UqizhbV56ySrSWOZOn26TJg0ST4bPUYmKGl27NhJtiqRhakmHxkTZX5j4+NtWekGJcd2OdmSlZwlc+fNlc5K5ltUgGzbulWJL9ZWtZSXquCKT5DBgwbL6LFj7aHmSaecLHPmzpUZs2ZJoZZr5epV0lhnPCtWrdQ6q1Ih10zyNm6Q7A7tNa+psmbdWslWoTZvwQKZOHmSjP3yC/ngP/+R1PQ0ee3NN+TTzz+T3L650qRZEykrLbc6b9mylWzdvl0SVEgdP3SwfL10qWRkZmg9FMtX48fLHM3vG2++qfUQLTFxsTJrzhyt5+b2qYy8DRvklNNOldKyUlmtdc6OaD3b97Qwi5YskRP7niyzZs+RzVpWwvNiHat2IpTYhw4ZIu2atJWdO3ZIrN7Dps9XVQtUENoWmGj8dBQPD4+jEvul8bOvLTbdNCVb9radPWe2bbq+Y8dOI360QfMXFiEx7GEbHRXY+aMibf1+WHi4JGely9dKfuEJ8bJ68wZZunG15O3cJuvVbSjMl+TmTeTsSy6UyMREWbt9i2S2ai4rN62XitgoiU1LllmLF0hMSiN1SbJ41QqJSFCtV/M18MSh0mNAX5k6b44UVJbJsvVrpfeggTLiqiukVUcl3aaNJSIxTr5es9LW128vLZaquGjZVLBT1u/YJgNOGCp9Bh0n7335seRt2yJZLZvJYp19FFeWS0VEsH6+SMu8futmuz5l7iyJSkqQDfk7JLt7Fzn+5BNkZ3mJVGo+SyLDJCY12e4v37BOuvTtpfkbJnnbt0p+RZksWrVcUpplyfDLRkq3/v0kslG8dOzVQ0486wzpObC/zF+1VNZt2SxVMZGaV63L1EaS2balDL98pORpXsdOnSSbC3daXKece5YMOe0USdP8lqtfXNsuHWX+iqVSWFUhF119ucSlpcjYKRMkMilGKmIqZfH2xTJ5zmTZXLxVFu5cInOXLZT8ylIpVFFVFhkuO1XAtWjXRrI7dpB/vf2i7CgskLTMTNlZpISvdW27nqkmwPtg+9VxPDw86iXC2rXf883dulBRXma2+UQlZjZNT05OkSaNm6gGv1ry8wvVR6VtWh7GihDAW7iqPeaX50tCs2TpdGIf2RpZJEVKvKXFxZKSlGwzBcxDhMtUguFZARu1g/i4eNXMC6WosEiSkpPsyAoTHnDyEBak6gwEm3NhQYFt54jJiTjZvD0yIkp25u/U2UaxxKk2XFRaJBUqGAo1bTZVd+apFC1HfkG+bbZOPlJTU22Dd/KCH/uyqB4xS7Gipby83K5huuJB9vbtOywv7C9s8al2zrMP0qCuuI5gZCaEySwrK8s2dN+umjwuNjbW4iLtLVu22BdNK1VaapI6y4g3oYl5pUBJmDISb1JSkh1dPl1+qJ8dqqUjoImX88LCQkuf+EmfMlA/FSrIuefKSBpl2sbJyY203vOtvlu1ai0bNm+V4vxySa6KlwWjp0ijwihJrozTtg2TUp0vVpJR/3DXw+Oown4RP4RhQ1sJifNI1S4rytmkvFRiYmMCP3qPmYHbw1bZy0hrpxJ/vBJ/s/4dJC9sh2qOwXr5SiVQHhLapubqPSDUgEB22ZFVeBCf264RkoLcWDFE/JVKXoRwxBWEYUtH1UwVtkm73qtQ7R1+Cletlo3Zw0lT/ZHncvXLw1xMUnpRyjV+0qQsNl2pzpO77jZ+5zdmsAgjPvWm+QuNj7wH37lBJIoJTVCq4UgnQvMVofmgDOQXP4SrLoahrFzLoX4BaUZqHi0NrQ8Hm1VpHAhM1vlTF/ZVVA1H2bW6NbDmRetAI9O6i9B4tV41vvBwwlJ/tBkeq4K60iNtXFpSqveiJVKiJaZAZPFXM6VRsQr/8mgNH2lv+vpVPR4eRx+U+HP2Sfw1h/Wu7RSVOCKUOCAKNFQQEHe1bzhTiScg/hRpe1xX2SAQv/qoCIQEoSpMQARkasFCiM6Rs/mtcW7mBvVjf1Vs6g51oikjBIhLBYDmk6+BEhfn/IWC67vSqU6XPIf+dqh5nd+gpj8Xnzt3QJMHFo7r6odrLg+AcIHQCtLZJUQV/A6+ZUQcu68HexoHsxLnZ8/7CD3NT9juePHPm7tV6jQ2dRxx3NMDZxYP5h0VOFWREllYJXO/nCbxJWGSUIkw4O1hTHzVATw8PI4aHDDx1wXlEyONXWQHRymnFJSXSGxavLTr20nyI0qUgPk0gBJKNYlZ4qEJuPDfCAjf/re/vUHMSnTuzLxYavUcLo+HK6/EE5D+7jgDoRWA89Dfu9PnHV+EU0xErL0QtmDqbKksKpVYJf2oCnX2CQkVINUhPDw8jg7sRfzw4/5Sb90ghkC7hHLCopVAosKkXLXOcjM57E5nb9LYrXXuGzUJ61gBNRLqDhXVcdRWp7uir3kzNN0wW9XDpx6KWNXDFZWikD5vSZtE3a/28vDwqC8Ia5e9N/EfTpSVOft8sCoEGziaJKg9Lc2O3SBbtflw13EHQvy1p1b/wEzINckeTXMI2FfZ60qDMNX39JS5E89BMJ1xlW8b8Q2gAIcrnx4eHt8GjjjxO808KpwvSeo/bEIKo7daEgsu7Q+R4NM5wDE0nLt+tMER//7Uwf5iX3Wxf+nQVtj9g5ypEFAXGHkOd149PDyONPYifnB4KVOJX1mDr0FazJraLrqoNaEDIREicO5YAcSPA/W3XGzKaA9ZdrWmh4fH0YJvgfirY1OWd0Rvh31wBYtO9g8ak0VaHfFRDcqglcI3nusxkfLcZk/U37x6eHjUjrC2tZh6jgSNYh4w67DjNz3smU71DXXByiDO9/QRwF0PdccSKF/9Jf+A+F29H8gzFg8Pj/qCb23k7qJp5Q13vidCic6dc6zLgb1jObZQW7m/a+dwrNe9h8exi29VZQsIn4eC+0JtZBPqQOix/rlAKz5YB4Kaqt/Ow8PjaMVBET9v6EZGBB9mg+R4UzT0bdHgRa49XSj49IBzfHLAvQUbCsw9EZoGDuxtW672Ex7c53zXy2OHCSQZxBu8Gbs/ID/R0XyziDdjqy8eNEhzT2dv3XLU+sbVvE+alm/uV/ulDiNt16zgPm9aB3nbM+z+OQ8Pj6MdYW2z2+9BT/sa3pAFJM0XOvlOT2JikpJKmH2lE8THx6kfbPSOyHdHHVyHdCpl27btRvqQY1FR8BE1PjIWkCypB58uKC0ts7Duo2oBXPx8tyf4zk1CQrx96yfI+R7FOWg4QVNZsTs+NpTZF/ju0M4d+fZxOT7QhgAgGrK+O//fhH3lPygf5ef7RXwGOy4u3q45kB4fZOMeoO74uBtbZFJPkD6CG0G931kKwW4BfBCBPTw86gUOiPghHEi/aZNm0qhRoqxcucq+ncMGHXxxcuHCBRIbEycVSsYBGbmY+ChZpBJ5iaSkpshxxx1vH1urqChX4oqTTZs2y4zp0+2jZawVZ4MXCJ2vTAK+WglRRUUFswp29SKujIxMaZyVJYsWL9K8BR9GCwRKoKETD9eYVbi8BHsEB9e4j1/CkJ+9w1ZIUWGxtG7T2mY4q1atMiLl+0SQvPPLt+rDVQASplevnlamKVOm2r7EkUrCCEegyVpYQH4jTZCEVeepojrOar9KsAgz22BdiZr8kTZgt7P+/XNl69ZtsmDBAhOalAkgkAmXnd3evlq6ctVK6Z/b34TRvHnzJdY+qhd88I10QVA/AVz91IXdxO/h4XG0Yt8qbA1AFnzO94orL5ffPfywxKqmvm3bVrnyyivljDNON+09Qv1AYHyPnyNfoQw+1cxH0zRBPefaCSecIOeff4HExMSa9rpp82ZZt26d7Ni+08ilQjXtq6++Rnr37qsaa759Tnjd2jz1s0HKlWBJa9Cg4+WSkSPt08js+Uv+CpTs+NQzcfEFTfKwefMWu8bnkoOPloUbaZIOvzdt2mTX+ExxXl6eOUiTGQdlvP7661VgBZ9rhoSJMz8/SAe/5RVllkbLli3lpptu1rKG6UyhQv2K5idf1q5dp343yLbt2+yrptRHcXGh5jFIK9DOwyxPeXnr1e/G6s898znmQruO4OEan3nmY3UjRlws7dq1tfLymWziYiZFmdgH+fzzz5fs9u1lg8ZFvlq1amPhyDf1EJQ/mDEheElzw4aNJlTgdmZmxMV5qPPw8Dj6EZGalrbXZutOT68JzASQ3kUXXaTadrppkOxWNXz4efL556Nt03Xuszcv1/kEMo9yqyARDY+ZiGuffPqJaf15eevkt7/5rX2X/pprrpbBgwZJ9x49jAw7deog55x9rn07fuqUKdJDr4+85BIZPHiIxT9//gIj5K+/XiKzZs1WARKtwqBE+vXrK+eec64MGTJEtu/YIRuVzC684AL73atnL1mnaUKM5557rhLyWo0/WS688AKZOXOWatH9ZcSFF8pxAwdKZlaGLF+2Qk4+5RQ5/fTTLK8LFy6iFkzoHH/88SrszlDhM8hMKQjA22673fYd/uyzz2T9hvWmvRPnRSNGSPfuPYyoV65caXsE9OrVSy65+GIZOnSolX+zku8FFww3gThAw2Q1bixLlnyt6RynYbvJ9OkzNM/nWX3s0PSGDRsmr7z8iiTqzOuss86SM888U1q3bi2LFi20vJ133rkqvAo1HxukXXa2jBv3lW2QQ7lPPPFE6dKli9bdUpupXXTRCMntlyv9B+SagN20aeOuZysB6uoRHh4eRyN48x5lfA9XU8vDoRFjuujYoYNphf/97ygZqASZnJyk5JFge/Bib64oLzfiueuuO+W6665Xd42ZSjARmVDQsDk5HaRDhxwl2xmSrgLkoYceVFJsJ9OmT1chMlxatGghKSmpmpUq+fCDD+378nzvZ9r0adK4cZaRXEZ6uvmD9NH20dY7dGgvI3UGkKeaON+9J8w5554jp556qvqbJQMGDlBSHWj+rrjiMiXwIunTp49tII89nrSjY2Jk6bJlcuP3b7R8szEJxDxd08Y0xeyjX9++cuutt8jy5cukWbOmcu2112rFieV54sQJsp1nGEqczBAuuWSkdO7S2cxRN954k7TPyZE+vXvLzTffLIuV2NmY5eKLLzECv1AFBKazDRs3yh133CGpqclyysmnSOfOXWSrCtIzTj9dy99E2rRR7V21dcw3EDdmoBkzplvZIX+3r8GoTz6Rjh07yvnnna8zqe3aFteqAO1uAnr48POtztu3z5bLL79chcwSS2fkyEtMMEZq3fGdf9o+FDX7hXfeeXf0uf029UDafFI5Rwl748YN8vbbb0urlq1MS12+fLlsUM0SWzE2bTTguXPn6YxgnhLSTLPRY95AA8aEAnER38QJE5XIGts+vv/4xzPy5ZdfGgGhPWOnXr16tZLXKI03SsO0tYfJnK9YscK2fiwsLFANeoWZlZhhQODLVEv/5z+flWeffcbiGjBggDzxxJPy7rtvmybLhiXt2mWbNo2pJkeJeOLEiSZImjVtJn/5y19NSKxes1qmTp0qKcmpMmvmTJk0abJtAMOm8yedfLJp4P/+979kwYKFZjphxzAenr737vu2NaUWVpo3a675jZBHH33MykY98GyC8BD1c88FecRUwyb2CKJnnvmnjB8/znbswqzWpEljmTx5knTt1lVSVBCMGTNGunfrtst8xTMO6r1Jk2aWD65RV0uXLpOvvvxKunbtKnPnzZG4+DjJVs3/ySef0jy+a2aznTt2qhDsqHGOlddef8XysnbNuuoW1yJUCxAPD49jC3sRvwqDvQBhQ8QQUdu27WT1qjUye/ZsWbVqpZx99llKGIttqz63S9bs2XNk9OjR8sUXY81BbGjlbjMStFJIhw3QBwzob/fnzZsrQ4cMtQfFixYtMhPJTCVcwtx5553StEkTWbhggd2fP3+eERoPlyE6nhOgOUOeU6dMtucISLXu3bvbDAFtu2/fXCP8cePG2SbxkyZNMqJGA56spI5A275ju5LzZjnhhGEqVIpsG8b2Oe1l/ITxkpaWqkQYLulpaZKRkSGfqDaNwDnFhMB0C88GMGvXrbVw+Toz6NW7l/lhZpObm2uVy+yhbds28oHOZBo1SpbjjjtO8zLRTD/sX7xy5XIZceEImTtnjpl12HZy1qw5NovChr9hw3rpomUn/T69+8htt98m81TIxsfHWj0yI+mmgmHatGn2IB2hOm7ceCX9HGsbZmYnnnSirVDatn2rmdBmzJihecq22cF0PVdv1f3g8C+R9fDw+O5Rq8bPoA91MAHmBPaAzc5uJ4uXLLKHjLOU/AF2awBJ8EAQQk1PT5PMzCxbeYOWDniIy8PSzp07y5y5c8w/AiMhIVFuuOF7cvkVl8moUR/bCh5MKF26dLYZAUSKpn78oOPNJIOpApt+z549zTyB3R3tnwepZ551tjzw4P0mkCBZ4r72mmvk+9//ntm/mZlgtsrN7Sf33nuvmUrQ7o0sVcNnRQ5xTpkyxe6x126/frkWBuEXExtr36fHLHTPT++RFVr2sWPHStcu3WTN2jX2oJjy8hXS9PQMad68qQmuSy65WN59TzXtdetsieill14qd999t9UdM59mzZqZ6eVnP/u5DB02VD7++GMzqZH/888/Vy6/7HLV4r+237RBp04dpa36j4mONYGWm9tflqjgsHbS+m/RvIWm3Vzv8VxhhQq0TRYWE9UVV1wp77//vuWTZzUIcQREXGycrF272oSVE9IeHh7HHsLatNtzOWdtYMpvEkJ9YhOGeO1Bb0SkdOjYQVasWG6aZnRUtHoJogtWjLi3WAOhAPjdQzXxDRs32EoU0FO1znTVot0DVEgHEmzbtq1MGD9emjRtasSEsGFTdJYwpqQkq+beTebo7GKzaumsVsnISDPNGeJCi12/Ps+eJxAXZhaukX6aCpJevXtbfAiHhQsXqr/29rCT3zy7IOzKFSvtoWxySpKZeoJVLlVKqM1UKHW18NNVs16Xt1569exhwom6IX2E0P333W+rdPI0LlYYjR4zRlh5lJGeqULsOKszNPfMzAwVAj+0WRIrd9bprIGH1iXFpZLbv5/Z9Vm9wwyLPLJklIfS5JvZC88WWBk0c8ZMq9eePXuZ0Jo9e5YKiE46I5gvO/OZCXSV5ipgeMDNLILZkNWxCp7WOltq3qK51RH1zwytuun2gGtPDw+Poxf7RfwA2mZ1TkAKEXZ0L3PxVmhg5oHgIYxAW4T4awMPPdE2EQY8iESzhUTR5uPjEuw9ADRX1sWj2ZOWeyEpSoUL69m5VqbxsPafuBwh8ZCX9PHHmnXiYBUQG4snJiZYOFxRUaH5h6R53kB6QVpVu/JH+TgPtOggLOnYTKU6PFo0/rD9cz02JlZ27NxhM5Xf/e53cv/995umjimKPFBfxEc+CRerM4jOnTrLLbfeLPfcc4+sWbNWGiUm2szCvaRF/TALoty8E0B4Zh+UkXcISjVOiBqNHXMUaXA/WmcDPJAO3iQOtyWmLFHFzBOrfomX+zExquHrPfYtZsbjhLQ7hsITv4fH0Y8DIn5HAwx+RwCQQ+D2JgrnpyZXOG/uemiwmtf4XSPaPfwcTNyg5vXQuELjqBkfqC1Od40X1XiZC4EyoP8AexjrNp+BkAH1BOkThhemsrIy1TW2l9gQJGXlCL0yE7QQeSic4Kl5DkLbBLj7odfd79Brzh/Cm3wBtzKoJqqDeXh4HMXYi/gZ7rUP+d1wpOEQEEr1D4UjE9CQiII6YMaAFs/ySUibWQQPxYP7uyvJ1RlHyB+zT0pKkvkNrb9vG0G+vqkHeHh4HM1Q4s8+YOIPBfzkCKwmvivy+q7Bw1veYNYa2K86CMgW81nwOQeH71IAeHh4HLuodVXPgcDxPQRV0zVUYEPnOcP+1gH+sLXXREOuQw8PjyOHQyZ+j71xMIRdy4TJw8PD44jAE7+Hh4dHA0NYm7Z72/g9PDw8PI5deI3fw8PDo4FhL+L3jxM9PDw8jm14jd/Dw8OjgcETv4eHh0cDQzimnVDn4eHh4XEsQ+T/A+aboCJDcG4AAAAAAElFTkSuQmCC)"
      ],
      "metadata": {
        "id": "NeXsgSBxP83H"
      }
    },
    {
      "cell_type": "code",
      "source": [
        "np.median(a)"
      ],
      "metadata": {
        "colab": {
          "base_uri": "https://localhost:8080/"
        },
        "id": "KLIhMJSTScTy",
        "outputId": "59bccb91-9901-4ab1-9a42-0d030dc87de9"
      },
      "execution_count": 48,
      "outputs": [
        {
          "output_type": "execute_result",
          "data": {
            "text/plain": [
              "26.0"
            ]
          },
          "metadata": {},
          "execution_count": 48
        }
      ]
    },
    {
      "cell_type": "markdown",
      "source": [
        "### np.histogram\n",
        "\n",
        "Numpy has a built-in numpy.histogram() function which represents the frequency of data distribution in the graphical form.\n",
        "\n",
        "https://numpy.org/doc/stable/reference/generated/numpy.histogram.html"
      ],
      "metadata": {
        "id": "2C6nGaJHev5N"
      }
    },
    {
      "cell_type": "code",
      "source": [
        "# code\n",
        "a"
      ],
      "metadata": {
        "colab": {
          "base_uri": "https://localhost:8080/"
        },
        "id": "S2pFLU5ZWuTx",
        "outputId": "80269b70-bec7-45b9-dba8-41342bd5a429"
      },
      "execution_count": 49,
      "outputs": [
        {
          "output_type": "execute_result",
          "data": {
            "text/plain": [
              "array([11, 23,  6, 43, 91, 13, 95, 26,  6, 88, 13, 12, 40, 49, 30])"
            ]
          },
          "metadata": {},
          "execution_count": 49
        }
      ]
    },
    {
      "cell_type": "code",
      "source": [
        "np.histogram(a,bins=[0,50,100])"
      ],
      "metadata": {
        "colab": {
          "base_uri": "https://localhost:8080/"
        },
        "id": "wZlQuOFpSbE3",
        "outputId": "46e34a12-dd6e-402c-f587-bd75dc4a629a"
      },
      "execution_count": 50,
      "outputs": [
        {
          "output_type": "execute_result",
          "data": {
            "text/plain": [
              "(array([12,  3]), array([  0,  50, 100]))"
            ]
          },
          "metadata": {},
          "execution_count": 50
        }
      ]
    },
    {
      "cell_type": "markdown",
      "source": [
        "### np.corrcoef\n",
        "\n",
        "Return Pearson product-moment correlation coefficients.\n",
        "\n",
        "https://numpy.org/doc/stable/reference/generated/numpy.corrcoef.html"
      ],
      "metadata": {
        "id": "JxgMS0Zef8oQ"
      }
    },
    {
      "cell_type": "code",
      "source": [
        "salary = np.array([20000,40000,25000,35000,60000])\n",
        "experience = np.array([1,3,2,4,2])\n",
        "\n",
        "np.corrcoef(salary,experience)"
      ],
      "metadata": {
        "id": "ZAMnvEm5WyUp",
        "colab": {
          "base_uri": "https://localhost:8080/"
        },
        "outputId": "99b014c9-8fb6-499a-9874-8ed0df683a24"
      },
      "execution_count": 51,
      "outputs": [
        {
          "output_type": "execute_result",
          "data": {
            "text/plain": [
              "array([[1.        , 0.25344572],\n",
              "       [0.25344572, 1.        ]])"
            ]
          },
          "metadata": {},
          "execution_count": 51
        }
      ]
    },
    {
      "cell_type": "markdown",
      "source": [
        "![image.png](data:image/png;base64,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)"
      ],
      "metadata": {
        "id": "af6yNaZLSp5N"
      }
    },
    {
      "cell_type": "markdown",
      "source": [
        "### np.isin\n",
        "\n",
        "With the help of numpy.isin() method, we can see that one array having values are checked in a different numpy array having different elements with different sizes.\n",
        "\n",
        "https://numpy.org/doc/stable/reference/generated/numpy.isin.html"
      ],
      "metadata": {
        "id": "Ot4h1PdGh-vI"
      }
    },
    {
      "cell_type": "code",
      "source": [
        "# code\n",
        "a\n"
      ],
      "metadata": {
        "colab": {
          "base_uri": "https://localhost:8080/"
        },
        "id": "oyyVo0qnW2Cz",
        "outputId": "ba392e17-2c46-4876-b41c-9fdd7302cfb4"
      },
      "execution_count": 52,
      "outputs": [
        {
          "output_type": "execute_result",
          "data": {
            "text/plain": [
              "array([11, 23,  6, 43, 91, 13, 95, 26,  6, 88, 13, 12, 40, 49, 30])"
            ]
          },
          "metadata": {},
          "execution_count": 52
        }
      ]
    },
    {
      "cell_type": "code",
      "source": [
        "items = [10,20,30,40,50,60,70,80,90,100]\n",
        "\n",
        "a[np.isin(a,items)]"
      ],
      "metadata": {
        "colab": {
          "base_uri": "https://localhost:8080/"
        },
        "id": "lLA0c9z2VE3O",
        "outputId": "9578d9fb-bc07-49de-b818-245269d3d561"
      },
      "execution_count": 53,
      "outputs": [
        {
          "output_type": "execute_result",
          "data": {
            "text/plain": [
              "array([40, 30])"
            ]
          },
          "metadata": {},
          "execution_count": 53
        }
      ]
    },
    {
      "cell_type": "markdown",
      "source": [
        "### np.flip\n",
        "\n",
        "The numpy.flip() function reverses the order of array elements along the specified axis, preserving the shape of the array.\n",
        "\n",
        "https://numpy.org/doc/stable/reference/generated/numpy.flip.html"
      ],
      "metadata": {
        "id": "8VKXXRjmicT-"
      }
    },
    {
      "cell_type": "code",
      "source": [
        "# code\n",
        "a"
      ],
      "metadata": {
        "id": "lMreAl7yEvBa",
        "colab": {
          "base_uri": "https://localhost:8080/"
        },
        "outputId": "d6608c3f-a10e-4c9c-cc61-92778e30e036"
      },
      "execution_count": 54,
      "outputs": [
        {
          "output_type": "execute_result",
          "data": {
            "text/plain": [
              "array([11, 23,  6, 43, 91, 13, 95, 26,  6, 88, 13, 12, 40, 49, 30])"
            ]
          },
          "metadata": {},
          "execution_count": 54
        }
      ]
    },
    {
      "cell_type": "code",
      "source": [
        "np.flip(a)"
      ],
      "metadata": {
        "colab": {
          "base_uri": "https://localhost:8080/"
        },
        "id": "82l_pzDbVfNp",
        "outputId": "54184e65-a798-4780-e72f-fa020176e5ca"
      },
      "execution_count": 55,
      "outputs": [
        {
          "output_type": "execute_result",
          "data": {
            "text/plain": [
              "array([30, 49, 40, 12, 13, 88,  6, 26, 95, 13, 91, 43,  6, 23, 11])"
            ]
          },
          "metadata": {},
          "execution_count": 55
        }
      ]
    },
    {
      "cell_type": "code",
      "source": [
        "b"
      ],
      "metadata": {
        "colab": {
          "base_uri": "https://localhost:8080/"
        },
        "id": "nWp3PQ87Vkin",
        "outputId": "dcea0557-ab5c-4bfb-f5e1-bf552b01d6ba"
      },
      "execution_count": 56,
      "outputs": [
        {
          "output_type": "execute_result",
          "data": {
            "text/plain": [
              "array([[59,  1, 58, 68],\n",
              "       [29, 94, 60,  1],\n",
              "       [91, 63, 14, 87],\n",
              "       [ 9,  2, 59,  4],\n",
              "       [35,  3, 90, 18],\n",
              "       [93, 82,  3, 65]])"
            ]
          },
          "metadata": {},
          "execution_count": 56
        }
      ]
    },
    {
      "cell_type": "code",
      "source": [
        "np.flip(b)  # row fliping and then column fliping on it"
      ],
      "metadata": {
        "id": "d0y2K6DJThJO",
        "outputId": "b3ec1bc8-941c-4ce8-d159-41d26eea19a0",
        "colab": {
          "base_uri": "https://localhost:8080/"
        }
      },
      "execution_count": 57,
      "outputs": [
        {
          "output_type": "execute_result",
          "data": {
            "text/plain": [
              "array([[65,  3, 82, 93],\n",
              "       [18, 90,  3, 35],\n",
              "       [ 4, 59,  2,  9],\n",
              "       [87, 14, 63, 91],\n",
              "       [ 1, 60, 94, 29],\n",
              "       [68, 58,  1, 59]])"
            ]
          },
          "metadata": {},
          "execution_count": 57
        }
      ]
    },
    {
      "cell_type": "code",
      "source": [
        "np.flip(b,axis=1) # column flipping"
      ],
      "metadata": {
        "colab": {
          "base_uri": "https://localhost:8080/"
        },
        "id": "UOU3WOBwVm59",
        "outputId": "06217f3c-073c-4706-e6eb-e367300f461e"
      },
      "execution_count": 58,
      "outputs": [
        {
          "output_type": "execute_result",
          "data": {
            "text/plain": [
              "array([[68, 58,  1, 59],\n",
              "       [ 1, 60, 94, 29],\n",
              "       [87, 14, 63, 91],\n",
              "       [ 4, 59,  2,  9],\n",
              "       [18, 90,  3, 35],\n",
              "       [65,  3, 82, 93]])"
            ]
          },
          "metadata": {},
          "execution_count": 58
        }
      ]
    },
    {
      "cell_type": "code",
      "source": [
        "np.flip(b,axis=0) # row flipping"
      ],
      "metadata": {
        "id": "EUCBlZ0sUezS",
        "outputId": "ccaaf65d-74fc-43aa-9f77-348b29818c13",
        "colab": {
          "base_uri": "https://localhost:8080/"
        }
      },
      "execution_count": 59,
      "outputs": [
        {
          "output_type": "execute_result",
          "data": {
            "text/plain": [
              "array([[93, 82,  3, 65],\n",
              "       [35,  3, 90, 18],\n",
              "       [ 9,  2, 59,  4],\n",
              "       [91, 63, 14, 87],\n",
              "       [29, 94, 60,  1],\n",
              "       [59,  1, 58, 68]])"
            ]
          },
          "metadata": {},
          "execution_count": 59
        }
      ]
    },
    {
      "cell_type": "markdown",
      "source": [
        "### np.put\n",
        "\n",
        "The numpy.put() function replaces specific elements of an array with given values of p_array. Array indexed works on flattened array.\n",
        "\n",
        "https://numpy.org/doc/stable/reference/generated/numpy.put.html\n",
        "\n",
        "This functions do permanent changes."
      ],
      "metadata": {
        "id": "n7jTKF2QjIz4"
      }
    },
    {
      "cell_type": "code",
      "source": [
        "# code\n",
        "a"
      ],
      "metadata": {
        "id": "xZrJHzr0E0zN",
        "colab": {
          "base_uri": "https://localhost:8080/"
        },
        "outputId": "d59040a4-d6e0-40d1-9aab-5a5698508005"
      },
      "execution_count": 61,
      "outputs": [
        {
          "output_type": "execute_result",
          "data": {
            "text/plain": [
              "array([11, 23,  6, 43, 91, 13, 95, 26,  6, 88, 13, 12, 40, 49, 30])"
            ]
          },
          "metadata": {},
          "execution_count": 61
        }
      ]
    },
    {
      "cell_type": "code",
      "source": [
        "np.put(a,[0,1],[110,530])  # array, indices on which we have to changes, the changes"
      ],
      "metadata": {
        "id": "dtl97d4SWHUG"
      },
      "execution_count": 62,
      "outputs": []
    },
    {
      "cell_type": "code",
      "source": [
        "a"
      ],
      "metadata": {
        "id": "Gmck9A0hWm76",
        "outputId": "3dfecd1f-745e-4c3b-a4be-88f3adea902b",
        "colab": {
          "base_uri": "https://localhost:8080/"
        }
      },
      "execution_count": 63,
      "outputs": [
        {
          "output_type": "execute_result",
          "data": {
            "text/plain": [
              "array([110, 530,   6,  43,  91,  13,  95,  26,   6,  88,  13,  12,  40,\n",
              "        49,  30])"
            ]
          },
          "metadata": {},
          "execution_count": 63
        }
      ]
    },
    {
      "cell_type": "markdown",
      "source": [
        "### np.delete\n",
        "\n",
        "The numpy.delete() function returns a new array with the deletion of sub-arrays along with the mentioned axis.\n",
        "\n",
        "https://numpy.org/doc/stable/reference/generated/numpy.delete.html"
      ],
      "metadata": {
        "id": "lYkpJg3kpSWB"
      }
    },
    {
      "cell_type": "code",
      "source": [
        "# code\n",
        "a"
      ],
      "metadata": {
        "id": "VmGLdiy5pQXc",
        "colab": {
          "base_uri": "https://localhost:8080/"
        },
        "outputId": "728b29c4-517a-440f-da4a-8d1aaecbf6e7"
      },
      "execution_count": null,
      "outputs": [
        {
          "output_type": "execute_result",
          "data": {
            "text/plain": [
              "array([110, 530,  28,  50,  38,  37,  94,  92,   5,  30,  68,   9,  78,\n",
              "         2,  21])"
            ]
          },
          "metadata": {},
          "execution_count": 178
        }
      ]
    },
    {
      "cell_type": "code",
      "source": [
        "np.delete(a,[0,2,4])"
      ],
      "metadata": {
        "colab": {
          "base_uri": "https://localhost:8080/"
        },
        "id": "A5Dp974mWeWd",
        "outputId": "b3ef3851-7b46-4a55-8e1b-3a1b77a70cd1"
      },
      "execution_count": null,
      "outputs": [
        {
          "output_type": "execute_result",
          "data": {
            "text/plain": [
              "array([530,  50,  37,  94,  92,   5,  30,  68,   9,  78,   2,  21])"
            ]
          },
          "metadata": {},
          "execution_count": 181
        }
      ]
    },
    {
      "cell_type": "markdown",
      "source": [
        "### Set functions\n",
        "\n",
        "- np.union1d\n",
        "- np.intersect1d\n",
        "- np.setdiff1d\n",
        "- np.setxor1d\n",
        "- np.in1d"
      ],
      "metadata": {
        "id": "Ei94MbFbrjvx"
      }
    },
    {
      "cell_type": "code",
      "source": [
        "m = np.array([1,2,3,4,5])\n",
        "n = np.array([3,4,5,6,7])\n",
        "\n",
        "np.union1d(m,n)"
      ],
      "metadata": {
        "id": "hHSwzU1irY0f",
        "colab": {
          "base_uri": "https://localhost:8080/"
        },
        "outputId": "b342e657-f1e1-4421-9447-e261ec0efc36"
      },
      "execution_count": null,
      "outputs": [
        {
          "output_type": "execute_result",
          "data": {
            "text/plain": [
              "array([1, 2, 3, 4, 5, 6, 7])"
            ]
          },
          "metadata": {},
          "execution_count": 182
        }
      ]
    },
    {
      "cell_type": "code",
      "source": [
        "np.intersect1d(m,n)"
      ],
      "metadata": {
        "colab": {
          "base_uri": "https://localhost:8080/"
        },
        "id": "XSIuF3zWXZXP",
        "outputId": "3cb32023-afe2-4b1a-ba36-a7336083e7f6"
      },
      "execution_count": null,
      "outputs": [
        {
          "output_type": "execute_result",
          "data": {
            "text/plain": [
              "array([3, 4, 5])"
            ]
          },
          "metadata": {},
          "execution_count": 183
        }
      ]
    },
    {
      "cell_type": "code",
      "source": [
        "np.setdiff1d(n,m)"
      ],
      "metadata": {
        "colab": {
          "base_uri": "https://localhost:8080/"
        },
        "id": "HhGH8cskXgR5",
        "outputId": "9fe9818f-5d74-4590-e009-707b73f58a41"
      },
      "execution_count": null,
      "outputs": [
        {
          "output_type": "execute_result",
          "data": {
            "text/plain": [
              "array([6, 7])"
            ]
          },
          "metadata": {},
          "execution_count": 185
        }
      ]
    },
    {
      "cell_type": "code",
      "source": [
        "np.setxor1d(m,n) # it removes the common part of both set and keep remains."
      ],
      "metadata": {
        "colab": {
          "base_uri": "https://localhost:8080/"
        },
        "id": "KaZbcTk0XubR",
        "outputId": "7d086410-d76c-4818-e35f-edf0792d54eb"
      },
      "execution_count": null,
      "outputs": [
        {
          "output_type": "execute_result",
          "data": {
            "text/plain": [
              "array([1, 2, 6, 7])"
            ]
          },
          "metadata": {},
          "execution_count": 186
        }
      ]
    },
    {
      "cell_type": "code",
      "source": [
        "m[np.in1d(m,1)]"
      ],
      "metadata": {
        "colab": {
          "base_uri": "https://localhost:8080/"
        },
        "id": "SqV9rpQ_XzVg",
        "outputId": "ad95c2eb-ed10-46ec-9c99-2a5fa4b3082a"
      },
      "execution_count": null,
      "outputs": [
        {
          "output_type": "execute_result",
          "data": {
            "text/plain": [
              "array([1])"
            ]
          },
          "metadata": {},
          "execution_count": 189
        }
      ]
    },
    {
      "cell_type": "markdown",
      "source": [
        "### np.clip\n",
        "\n",
        "numpy.clip() function is used to Clip (limit) the values in an array.\n",
        "\n",
        "https://numpy.org/doc/stable/reference/generated/numpy.clip.html"
      ],
      "metadata": {
        "id": "uLxS7H2pr-rh"
      }
    },
    {
      "cell_type": "code",
      "source": [
        "# code\n",
        "a"
      ],
      "metadata": {
        "id": "Q3S9gjNzsL73",
        "colab": {
          "base_uri": "https://localhost:8080/"
        },
        "outputId": "536e7835-500c-4493-9f69-0273a967f8b4"
      },
      "execution_count": null,
      "outputs": [
        {
          "output_type": "execute_result",
          "data": {
            "text/plain": [
              "array([110, 530,  28,  50,  38,  37,  94,  92,   5,  30,  68,   9,  78,\n",
              "         2,  21])"
            ]
          },
          "metadata": {},
          "execution_count": 190
        }
      ]
    },
    {
      "cell_type": "code",
      "source": [
        "np.clip(a,a_min=25,a_max=75) # only items between a limit range"
      ],
      "metadata": {
        "colab": {
          "base_uri": "https://localhost:8080/"
        },
        "id": "x08JKAVHYOxF",
        "outputId": "a8ba892e-f2ea-44a3-b48e-9a3996ff81f9"
      },
      "execution_count": null,
      "outputs": [
        {
          "output_type": "execute_result",
          "data": {
            "text/plain": [
              "array([75, 75, 28, 50, 38, 37, 75, 75, 25, 30, 68, 25, 75, 25, 25])"
            ]
          },
          "metadata": {},
          "execution_count": 191
        }
      ]
    },
    {
      "cell_type": "code",
      "source": [
        "# 17. np.swapaxes"
      ],
      "metadata": {
        "id": "INpvUpf9InGT"
      },
      "execution_count": null,
      "outputs": []
    },
    {
      "cell_type": "code",
      "source": [
        "# 18. np.uniform"
      ],
      "metadata": {
        "id": "AEFIFE1vJXDA"
      },
      "execution_count": null,
      "outputs": []
    },
    {
      "cell_type": "code",
      "source": [
        "# 19. np.count_nonzero"
      ],
      "metadata": {
        "id": "y7M0rggRKBIu"
      },
      "execution_count": null,
      "outputs": []
    },
    {
      "cell_type": "code",
      "source": [
        "# 21. np.tile\n",
        "# https://www.kaggle.com/code/abhayparashar31/best-numpy-functions-for-data-science-50?scriptVersionId=98816580"
      ],
      "metadata": {
        "id": "Qy0-pdlOK9tC"
      },
      "execution_count": null,
      "outputs": []
    },
    {
      "cell_type": "code",
      "source": [
        "# 22. np.repeat\n",
        "# https://towardsdatascience.com/10-numpy-functions-you-should-know-1dc4863764c5"
      ],
      "metadata": {
        "id": "5DAEz6cbIdga"
      },
      "execution_count": null,
      "outputs": []
    },
    {
      "cell_type": "code",
      "source": [
        "\n",
        "# 25. np.allclose and equals"
      ],
      "metadata": {
        "id": "DdLxDfsMNfz8"
      },
      "execution_count": null,
      "outputs": []
    }
  ]
}