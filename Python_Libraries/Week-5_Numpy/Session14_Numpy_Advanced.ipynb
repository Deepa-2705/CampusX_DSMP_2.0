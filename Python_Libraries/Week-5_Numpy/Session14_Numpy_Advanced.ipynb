{
  "nbformat": 4,
  "nbformat_minor": 0,
  "metadata": {
    "colab": {
      "provenance": []
    },
    "kernelspec": {
      "name": "python3",
      "display_name": "Python 3"
    },
    "language_info": {
      "name": "python"
    }
  },
  "cells": [
    {
      "cell_type": "markdown",
      "source": [
        "### Numpy array vs Python lists"
      ],
      "metadata": {
        "id": "exouV4nxLocj"
      }
    },
    {
      "cell_type": "markdown",
      "source": [
        "###  1) speed"
      ],
      "metadata": {
        "id": "b8bev5GoPTdD"
      }
    },
    {
      "cell_type": "code",
      "source": [
        "# list\n",
        "a = [i for i in range(10000000)]\n",
        "b = [i for i in range(10000000,20000000)]\n",
        "\n",
        "c = []\n",
        "import time\n",
        "\n",
        "start = time.time()\n",
        "for i in range(len(a)):\n",
        "  c.append(a[i] + b[i])\n",
        "print(time.time()-start)"
      ],
      "metadata": {
        "colab": {
          "base_uri": "https://localhost:8080/"
        },
        "id": "9ITuYx0tLnbc",
        "outputId": "3b2046b3-40a0-427d-d28a-27c0afa55bda"
      },
      "execution_count": null,
      "outputs": [
        {
          "output_type": "stream",
          "name": "stdout",
          "text": [
            "3.2699835300445557\n"
          ]
        }
      ]
    },
    {
      "cell_type": "code",
      "source": [
        "# numpy\n",
        "import numpy as np\n",
        "a = np.arange(10000000)\n",
        "b = np.arange(10000000,20000000)\n",
        "\n",
        "start = time.time()\n",
        "c = a + b\n",
        "print(time.time()-start)"
      ],
      "metadata": {
        "colab": {
          "base_uri": "https://localhost:8080/"
        },
        "id": "EW6ISYk6ZifP",
        "outputId": "16d22f74-8e1a-4533-e346-a109693f3874"
      },
      "execution_count": null,
      "outputs": [
        {
          "output_type": "stream",
          "name": "stdout",
          "text": [
            "0.06481003761291504\n"
          ]
        }
      ]
    },
    {
      "cell_type": "code",
      "source": [
        "3.26/0.06 # numpy array is almost 50 times faster"
      ],
      "metadata": {
        "colab": {
          "base_uri": "https://localhost:8080/"
        },
        "id": "D0rcBlxZB5tb",
        "outputId": "e459d12e-5aac-46b9-b8ea-81a151a386fb"
      },
      "execution_count": null,
      "outputs": [
        {
          "output_type": "execute_result",
          "data": {
            "text/plain": [
              "54.33333333333333"
            ]
          },
          "metadata": {},
          "execution_count": 62
        }
      ]
    },
    {
      "cell_type": "markdown",
      "source": [
        "numpy array is static and not referential array."
      ],
      "metadata": {
        "id": "3DtK3GdeJLLK"
      }
    },
    {
      "cell_type": "markdown",
      "source": [
        "### 2) memory\n"
      ],
      "metadata": {
        "id": "FKhOvA7lPONu"
      }
    },
    {
      "cell_type": "code",
      "source": [
        "a = [i for i in range(10000000)]\n",
        "import sys\n",
        "\n",
        "sys.getsizeof(a)"
      ],
      "metadata": {
        "colab": {
          "base_uri": "https://localhost:8080/"
        },
        "id": "PSC79592SIZz",
        "outputId": "bfd06baa-daaf-47a4-b0e9-1d1d555dadc6"
      },
      "execution_count": null,
      "outputs": [
        {
          "output_type": "execute_result",
          "data": {
            "text/plain": [
              "81528048"
            ]
          },
          "metadata": {},
          "execution_count": 63
        }
      ]
    },
    {
      "cell_type": "code",
      "source": [
        "import sys\n",
        "a = np.arange(10000000)\n",
        "sys.getsizeof(a)"
      ],
      "metadata": {
        "id": "g12S-XP_J_Ho",
        "outputId": "6d69f7cd-6f57-490e-8bb4-ef4d8b1ddb5c",
        "colab": {
          "base_uri": "https://localhost:8080/"
        }
      },
      "execution_count": 4,
      "outputs": [
        {
          "output_type": "execute_result",
          "data": {
            "text/plain": [
              "80000112"
            ]
          },
          "metadata": {},
          "execution_count": 4
        }
      ]
    },
    {
      "cell_type": "markdown",
      "source": [
        "### Numpy array is taking almost equal size of memory as of python list. But we can optimise it using int8 or int32. As colab bydefault store integer in int64."
      ],
      "metadata": {
        "id": "T3wbE884KB2G"
      }
    },
    {
      "cell_type": "code",
      "source": [
        "a = np.arange(10000000,dtype=np.int32)\n",
        "sys.getsizeof(a)"
      ],
      "metadata": {
        "id": "BDNGsedFNVvz",
        "outputId": "e4ee663f-255f-44a3-b4af-23f84584f7b7",
        "colab": {
          "base_uri": "https://localhost:8080/"
        }
      },
      "execution_count": 5,
      "outputs": [
        {
          "output_type": "execute_result",
          "data": {
            "text/plain": [
              "40000112"
            ]
          },
          "metadata": {},
          "execution_count": 5
        }
      ]
    },
    {
      "cell_type": "code",
      "source": [
        "a = np.arange(10000000,dtype=np.int16) # it can store max 32000 numbers\n",
        "sys.getsizeof(a)"
      ],
      "metadata": {
        "id": "2EKVtO7RNVp2",
        "outputId": "a9a12e5d-fa75-4964-beb7-6db78ed78b92",
        "colab": {
          "base_uri": "https://localhost:8080/"
        }
      },
      "execution_count": 6,
      "outputs": [
        {
          "output_type": "execute_result",
          "data": {
            "text/plain": [
              "20000112"
            ]
          },
          "metadata": {},
          "execution_count": 6
        }
      ]
    },
    {
      "cell_type": "code",
      "source": [
        "a = np.arange(10000000,dtype=np.int8) # it can store max 256 numbers\n",
        "sys.getsizeof(a)"
      ],
      "metadata": {
        "colab": {
          "base_uri": "https://localhost:8080/"
        },
        "id": "mk_U1oHuaOSo",
        "outputId": "0c3cc1a7-6dbc-4185-cb06-b66f41fb0d25"
      },
      "execution_count": null,
      "outputs": [
        {
          "output_type": "execute_result",
          "data": {
            "text/plain": [
              "10000104"
            ]
          },
          "metadata": {},
          "execution_count": 67
        }
      ]
    },
    {
      "cell_type": "markdown",
      "source": [
        "### 3) convenience\n",
        "Numpy array is more convenient than python list."
      ],
      "metadata": {
        "id": "mleCKVALO8nP"
      }
    },
    {
      "cell_type": "markdown",
      "source": [
        "### Advanced Indexing"
      ],
      "metadata": {
        "id": "G7gJ1-8fLLEI"
      }
    },
    {
      "cell_type": "code",
      "source": [
        "# Normal Indexing and slicing\n",
        "\n",
        "a = np.arange(24).reshape(6,4)\n",
        "a"
      ],
      "metadata": {
        "colab": {
          "base_uri": "https://localhost:8080/"
        },
        "id": "vTt8xIaa1I1Y",
        "outputId": "26b07714-48c6-4fdb-ef71-8f6ed60747b0"
      },
      "execution_count": 13,
      "outputs": [
        {
          "output_type": "execute_result",
          "data": {
            "text/plain": [
              "array([[ 0,  1,  2,  3],\n",
              "       [ 4,  5,  6,  7],\n",
              "       [ 8,  9, 10, 11],\n",
              "       [12, 13, 14, 15],\n",
              "       [16, 17, 18, 19],\n",
              "       [20, 21, 22, 23]])"
            ]
          },
          "metadata": {},
          "execution_count": 13
        }
      ]
    },
    {
      "cell_type": "code",
      "source": [
        "a[1,2]"
      ],
      "metadata": {
        "colab": {
          "base_uri": "https://localhost:8080/"
        },
        "id": "cl0vYVxEEOLs",
        "outputId": "84acd1b6-0983-4421-e7a2-0c2c9fc4289d"
      },
      "execution_count": 9,
      "outputs": [
        {
          "output_type": "execute_result",
          "data": {
            "text/plain": [
              "6"
            ]
          },
          "metadata": {},
          "execution_count": 9
        }
      ]
    },
    {
      "cell_type": "code",
      "source": [
        "a[1:3,1:3]"
      ],
      "metadata": {
        "colab": {
          "base_uri": "https://localhost:8080/"
        },
        "id": "-4fMAMjwET20",
        "outputId": "e9822fd5-91d2-4923-927a-9fedef7d2517"
      },
      "execution_count": 10,
      "outputs": [
        {
          "output_type": "execute_result",
          "data": {
            "text/plain": [
              "array([[ 5,  6],\n",
              "       [ 9, 10]])"
            ]
          },
          "metadata": {},
          "execution_count": 10
        }
      ]
    },
    {
      "cell_type": "code",
      "source": [
        "# Fancy Indexing\n",
        "\n",
        "# extract 1,3,4 row through indexing\n",
        "a[[0,2,3,5]] # provide index of all rows are want to extract"
      ],
      "metadata": {
        "id": "IxW4h0OlQN3l",
        "outputId": "fbdcaddf-f331-4f46-c6e7-0914098c20be",
        "colab": {
          "base_uri": "https://localhost:8080/"
        }
      },
      "execution_count": 12,
      "outputs": [
        {
          "output_type": "execute_result",
          "data": {
            "text/plain": [
              "array([[ 0,  1,  2,  3],\n",
              "       [ 8,  9, 10, 11],\n",
              "       [12, 13, 14, 15],\n",
              "       [20, 21, 22, 23]])"
            ]
          },
          "metadata": {},
          "execution_count": 12
        }
      ]
    },
    {
      "cell_type": "code",
      "source": [
        "# Fancy Indexing\n",
        "\n",
        "# extract 1,3,4 row through indexing\n",
        "a[:,[0,2,3]] # provide index of all columns are want to extract"
      ],
      "metadata": {
        "colab": {
          "base_uri": "https://localhost:8080/"
        },
        "id": "qxCgXTRo1Lk8",
        "outputId": "ff2d2010-c717-4d89-a40e-374ba8473160"
      },
      "execution_count": null,
      "outputs": [
        {
          "output_type": "execute_result",
          "data": {
            "text/plain": [
              "array([[ 0,  2,  3],\n",
              "       [ 4,  6,  7],\n",
              "       [ 8, 10, 11],\n",
              "       [12, 14, 15],\n",
              "       [16, 18, 19],\n",
              "       [20, 22, 23]])"
            ]
          },
          "metadata": {},
          "execution_count": 81
        }
      ]
    },
    {
      "cell_type": "code",
      "source": [
        "# Boolean Indexing\n",
        "a = np.random.randint(1,100,24).reshape(6,4)\n",
        "a"
      ],
      "metadata": {
        "colab": {
          "base_uri": "https://localhost:8080/"
        },
        "id": "3hrTxRuy1Noi",
        "outputId": "69b0da0d-f1f2-484c-d871-347923816fd9"
      },
      "execution_count": 14,
      "outputs": [
        {
          "output_type": "execute_result",
          "data": {
            "text/plain": [
              "array([[48,  8, 96, 59],\n",
              "       [14, 33, 76, 64],\n",
              "       [68, 39, 54, 58],\n",
              "       [56, 74, 76, 32],\n",
              "       [56,  5, 45, 31],\n",
              "       [56, 37, 95, 19]])"
            ]
          },
          "metadata": {},
          "execution_count": 14
        }
      ]
    },
    {
      "cell_type": "code",
      "source": [
        "# find all numbers greater than 50\n",
        "a[a > 50]"
      ],
      "metadata": {
        "colab": {
          "base_uri": "https://localhost:8080/"
        },
        "id": "zMvMQcm01mcG",
        "outputId": "9d0bd065-3b7c-4ea8-d276-71b87abcec46"
      },
      "execution_count": 15,
      "outputs": [
        {
          "output_type": "execute_result",
          "data": {
            "text/plain": [
              "array([96, 59, 76, 64, 68, 54, 58, 56, 74, 76, 56, 56, 95])"
            ]
          },
          "metadata": {},
          "execution_count": 15
        }
      ]
    },
    {
      "cell_type": "code",
      "source": [
        "# find out even numbers\n",
        "a[a % 2 == 0]"
      ],
      "metadata": {
        "colab": {
          "base_uri": "https://localhost:8080/"
        },
        "id": "_4BwwwxEG68r",
        "outputId": "97d7bb41-546a-4bc8-ffa0-faf15ef29307"
      },
      "execution_count": 16,
      "outputs": [
        {
          "output_type": "execute_result",
          "data": {
            "text/plain": [
              "array([48,  8, 96, 14, 76, 64, 68, 54, 58, 56, 74, 76, 32, 56, 56])"
            ]
          },
          "metadata": {},
          "execution_count": 16
        }
      ]
    },
    {
      "cell_type": "code",
      "source": [
        "# find all numbers greater than 50 and are even\n",
        "\n",
        "a[(a > 50) & (a % 2 == 0)]"
      ],
      "metadata": {
        "colab": {
          "base_uri": "https://localhost:8080/"
        },
        "id": "MIk_GnwQ1sS2",
        "outputId": "8f146d61-a077-42a5-fbcd-6f0dce158ff8"
      },
      "execution_count": 17,
      "outputs": [
        {
          "output_type": "execute_result",
          "data": {
            "text/plain": [
              "array([96, 76, 64, 68, 54, 58, 56, 74, 76, 56, 56])"
            ]
          },
          "metadata": {},
          "execution_count": 17
        }
      ]
    },
    {
      "cell_type": "code",
      "source": [
        "a[(a > 50) and (a % 2 == 0)]"
      ],
      "metadata": {
        "id": "e0KlKX_HS3l3",
        "outputId": "d51230df-b232-4ce5-89d2-4d49bdcdeb4a",
        "colab": {
          "base_uri": "https://localhost:8080/",
          "height": 141
        }
      },
      "execution_count": 18,
      "outputs": [
        {
          "output_type": "error",
          "ename": "ValueError",
          "evalue": "The truth value of an array with more than one element is ambiguous. Use a.any() or a.all()",
          "traceback": [
            "\u001b[0;31m---------------------------------------------------------------------------\u001b[0m",
            "\u001b[0;31mValueError\u001b[0m                                Traceback (most recent call last)",
            "\u001b[0;32m<ipython-input-18-19ea36aea770>\u001b[0m in \u001b[0;36m<cell line: 1>\u001b[0;34m()\u001b[0m\n\u001b[0;32m----> 1\u001b[0;31m \u001b[0ma\u001b[0m\u001b[0;34m[\u001b[0m\u001b[0;34m(\u001b[0m\u001b[0ma\u001b[0m \u001b[0;34m>\u001b[0m \u001b[0;36m50\u001b[0m\u001b[0;34m)\u001b[0m \u001b[0;32mand\u001b[0m \u001b[0;34m(\u001b[0m\u001b[0ma\u001b[0m \u001b[0;34m%\u001b[0m \u001b[0;36m2\u001b[0m \u001b[0;34m==\u001b[0m \u001b[0;36m0\u001b[0m\u001b[0;34m)\u001b[0m\u001b[0;34m]\u001b[0m\u001b[0;34m\u001b[0m\u001b[0;34m\u001b[0m\u001b[0m\n\u001b[0m",
            "\u001b[0;31mValueError\u001b[0m: The truth value of an array with more than one element is ambiguous. Use a.any() or a.all()"
          ]
        }
      ]
    },
    {
      "cell_type": "markdown",
      "source": [
        "### we have applied bitwise and \"&\" here not the logical and \"AND\" because whenever we are working on boolean values we use bitwise and."
      ],
      "metadata": {
        "id": "UHXwdO2iSVeo"
      }
    },
    {
      "cell_type": "code",
      "source": [
        "# find all numbers not divisible by 7\n",
        "a[~(a % 7 == 0)]"
      ],
      "metadata": {
        "colab": {
          "base_uri": "https://localhost:8080/"
        },
        "id": "rhGQtwkl6W7k",
        "outputId": "0080f5f1-c7a5-4495-c1b2-f565560f862d"
      },
      "execution_count": 19,
      "outputs": [
        {
          "output_type": "execute_result",
          "data": {
            "text/plain": [
              "array([48,  8, 96, 59, 33, 76, 64, 68, 39, 54, 58, 74, 76, 32,  5, 45, 31,\n",
              "       37, 95, 19])"
            ]
          },
          "metadata": {},
          "execution_count": 19
        }
      ]
    },
    {
      "cell_type": "markdown",
      "source": [
        "### Broadcasting\n",
        "\n",
        "The term broadcasting describes how NumPy treats arrays with different shapes during arithmetic operations.\n",
        "\n",
        "The smaller array is “broadcast” across the larger array so that they have compatible shapes."
      ],
      "metadata": {
        "id": "n2UP2iZTLPR5"
      }
    },
    {
      "cell_type": "code",
      "source": [
        "# same shape\n",
        "a = np.arange(6).reshape(2,3)\n",
        "b = np.arange(6,12).reshape(2,3)\n",
        "\n",
        "print(a)\n",
        "print(b)\n",
        "\n",
        "print(a+b)"
      ],
      "metadata": {
        "id": "tJTrjKxoCYhT",
        "colab": {
          "base_uri": "https://localhost:8080/"
        },
        "outputId": "efeae6e2-add6-4e95-e1d4-b71c806438f2"
      },
      "execution_count": null,
      "outputs": [
        {
          "output_type": "stream",
          "name": "stdout",
          "text": [
            "[[0 1 2]\n",
            " [3 4 5]]\n",
            "[[ 6  7  8]\n",
            " [ 9 10 11]]\n",
            "[[ 6  8 10]\n",
            " [12 14 16]]\n"
          ]
        }
      ]
    },
    {
      "cell_type": "code",
      "source": [
        "# diff shape\n",
        "a = np.arange(6).reshape(2,3)\n",
        "b = np.arange(3).reshape(1,3)\n",
        "\n",
        "print(a)\n",
        "print(b)\n",
        "\n",
        "print(a+b) # we can add 2 different shapes as well"
      ],
      "metadata": {
        "colab": {
          "base_uri": "https://localhost:8080/"
        },
        "id": "f-mVhFT-N3jF",
        "outputId": "dbd6e2bd-f05b-4113-f2e6-b31ded8873cf"
      },
      "execution_count": null,
      "outputs": [
        {
          "output_type": "stream",
          "name": "stdout",
          "text": [
            "[[0 1 2]\n",
            " [3 4 5]]\n",
            "[[0 1 2]]\n",
            "[[0 2 4]\n",
            " [3 5 7]]\n"
          ]
        }
      ]
    },
    {
      "cell_type": "markdown",
      "source": [
        "### This addition is possible just because of broadcasting. Numpy do broadcasting automatically."
      ],
      "metadata": {
        "id": "FgozksxBUkpR"
      }
    },
    {
      "cell_type": "markdown",
      "source": [
        "#### Broadcasting Rules\n",
        "\n",
        "**1. Make the two arrays have the same number of dimensions.**<br>\n",
        "- If the numbers of dimensions of the two arrays are different, add new dimensions with size 1 to the head of the array with the smaller dimension.<br>\n",
        "\n",
        "![image.png](data:image/png;base64,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)\n",
        "\n",
        "![image.png](data:image/png;base64,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)"
      ],
      "metadata": {
        "id": "XXzDHsndO70t"
      }
    },
    {
      "cell_type": "markdown",
      "source": [
        "**2. Make each dimension of the two arrays the same size.**<br>\n",
        "- If the sizes of each dimension of the two arrays do not match, dimensions with size 1 are stretched to the size of the other array.\n",
        "- If there is a dimension whose size is not 1 in either of the two arrays, it cannot be broadcasted, and an error is raised.\n",
        "\n",
        "![image.png](data:image/png;base64,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)\n",
        "\n"
      ],
      "metadata": {
        "id": "M_ZI1gpEPdwi"
      }
    },
    {
      "cell_type": "markdown",
      "source": [
        "<img src = \"https://jakevdp.github.io/PythonDataScienceHandbook/figures/02.05-broadcasting.png\">"
      ],
      "metadata": {
        "id": "6YxVl8iZVLEh"
      }
    },
    {
      "cell_type": "code",
      "source": [
        "# More examples\n",
        "\n",
        "a = np.arange(12).reshape(4,3)\n",
        "b = np.arange(3)\n",
        "\n",
        "print(a)\n",
        "print(b)\n",
        "\n",
        "print(a+b)"
      ],
      "metadata": {
        "colab": {
          "base_uri": "https://localhost:8080/"
        },
        "id": "0WKia_sDRaNm",
        "outputId": "20e7fd8a-f8f5-4650-f3ef-8d014e8e7c27"
      },
      "execution_count": null,
      "outputs": [
        {
          "output_type": "stream",
          "name": "stdout",
          "text": [
            "[[ 0  1  2]\n",
            " [ 3  4  5]\n",
            " [ 6  7  8]\n",
            " [ 9 10 11]]\n",
            "[0 1 2]\n",
            "[[ 0  2  4]\n",
            " [ 3  5  7]\n",
            " [ 6  8 10]\n",
            " [ 9 11 13]]\n"
          ]
        }
      ]
    },
    {
      "cell_type": "code",
      "source": [
        "a = np.arange(12).reshape(3,4)\n",
        "b = np.arange(3)\n",
        "\n",
        "print(a)\n",
        "print(b)\n",
        "\n",
        "print(a+b)"
      ],
      "metadata": {
        "colab": {
          "base_uri": "https://localhost:8080/",
          "height": 277
        },
        "id": "SqtTHUngRhss",
        "outputId": "37a5dc7b-75b7-4cb3-9348-26197ccdf97c"
      },
      "execution_count": null,
      "outputs": [
        {
          "output_type": "stream",
          "name": "stdout",
          "text": [
            "[[ 0  1  2  3]\n",
            " [ 4  5  6  7]\n",
            " [ 8  9 10 11]]\n",
            "[0 1 2]\n"
          ]
        },
        {
          "output_type": "error",
          "ename": "ValueError",
          "evalue": "ignored",
          "traceback": [
            "\u001b[0;31m---------------------------------------------------------------------------\u001b[0m",
            "\u001b[0;31mValueError\u001b[0m                                Traceback (most recent call last)",
            "\u001b[0;32m<ipython-input-104-fa6cbb589166>\u001b[0m in \u001b[0;36m<module>\u001b[0;34m\u001b[0m\n\u001b[1;32m      5\u001b[0m \u001b[0mprint\u001b[0m\u001b[0;34m(\u001b[0m\u001b[0mb\u001b[0m\u001b[0;34m)\u001b[0m\u001b[0;34m\u001b[0m\u001b[0;34m\u001b[0m\u001b[0m\n\u001b[1;32m      6\u001b[0m \u001b[0;34m\u001b[0m\u001b[0m\n\u001b[0;32m----> 7\u001b[0;31m \u001b[0mprint\u001b[0m\u001b[0;34m(\u001b[0m\u001b[0ma\u001b[0m\u001b[0;34m+\u001b[0m\u001b[0mb\u001b[0m\u001b[0;34m)\u001b[0m\u001b[0;34m\u001b[0m\u001b[0;34m\u001b[0m\u001b[0m\n\u001b[0m",
            "\u001b[0;31mValueError\u001b[0m: operands could not be broadcast together with shapes (3,4) (3,) "
          ]
        }
      ]
    },
    {
      "cell_type": "markdown",
      "source": [
        "![image.png](data:image/png;base64,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)"
      ],
      "metadata": {
        "id": "6Es1reFoWkpo"
      }
    },
    {
      "cell_type": "code",
      "source": [
        "a = np.arange(3).reshape(1,3)\n",
        "b = np.arange(3).reshape(3,1)\n",
        "\n",
        "print(a)\n",
        "print(b)\n",
        "\n",
        "print(a+b)"
      ],
      "metadata": {
        "colab": {
          "base_uri": "https://localhost:8080/"
        },
        "id": "5hQ269ncQedR",
        "outputId": "b6f1ed7f-95da-4e52-cb8e-a58f41a34add"
      },
      "execution_count": null,
      "outputs": [
        {
          "output_type": "stream",
          "name": "stdout",
          "text": [
            "[[0 1 2]]\n",
            "[[0]\n",
            " [1]\n",
            " [2]]\n",
            "[[0 1 2]\n",
            " [1 2 3]\n",
            " [2 3 4]]\n"
          ]
        }
      ]
    },
    {
      "cell_type": "markdown",
      "source": [
        "No need to add 1 to head. We only stretch 1 to largest number.\n",
        "\n",
        "![image.png](data:image/png;base64,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)"
      ],
      "metadata": {
        "id": "IZ9JkqW2WrWp"
      }
    },
    {
      "cell_type": "code",
      "source": [
        "a = np.arange(3).reshape(1,3)\n",
        "b = np.arange(4).reshape(4,1)\n",
        "\n",
        "print(a)\n",
        "print(b)\n",
        "\n",
        "print(a + b)"
      ],
      "metadata": {
        "colab": {
          "base_uri": "https://localhost:8080/"
        },
        "id": "sc4X7IQVRujU",
        "outputId": "97a1aad8-1827-4038-ea8d-1d4516359d36"
      },
      "execution_count": null,
      "outputs": [
        {
          "output_type": "stream",
          "name": "stdout",
          "text": [
            "[[0 1 2]]\n",
            "[[0]\n",
            " [1]\n",
            " [2]\n",
            " [3]]\n",
            "[[0 1 2]\n",
            " [1 2 3]\n",
            " [2 3 4]\n",
            " [3 4 5]]\n"
          ]
        }
      ]
    },
    {
      "cell_type": "markdown",
      "source": [
        "![image.png](data:image/png;base64,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)"
      ],
      "metadata": {
        "id": "6nikYAI2XXRM"
      }
    },
    {
      "cell_type": "code",
      "source": [
        "a = np.array([1])\n",
        "# shape -> (1,1)\n",
        "b = np.arange(4).reshape(2,2)\n",
        "# shape -> (2,2)\n",
        "\n",
        "print(a)\n",
        "print(b)\n",
        "\n",
        "print(a+b)"
      ],
      "metadata": {
        "colab": {
          "base_uri": "https://localhost:8080/"
        },
        "id": "v6EwwULkQuvs",
        "outputId": "48990123-6b83-414c-c42f-5f0b593a4967"
      },
      "execution_count": null,
      "outputs": [
        {
          "output_type": "stream",
          "name": "stdout",
          "text": [
            "[1]\n",
            "[[0 1]\n",
            " [2 3]]\n",
            "[[1 2]\n",
            " [3 4]]\n"
          ]
        }
      ]
    },
    {
      "cell_type": "markdown",
      "source": [
        "![image.png](data:image/png;base64,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)"
      ],
      "metadata": {
        "id": "oI-7feTCXnRc"
      }
    },
    {
      "cell_type": "code",
      "source": [
        "a = np.arange(12).reshape(3,4)\n",
        "b = np.arange(12).reshape(4,3)\n",
        "\n",
        "print(a)\n",
        "print(b)\n",
        "\n",
        "print(a+b)"
      ],
      "metadata": {
        "colab": {
          "base_uri": "https://localhost:8080/",
          "height": 330
        },
        "id": "nEgUi7tnRGI4",
        "outputId": "8de08148-7f3e-4a03-823c-0c4e157a556e"
      },
      "execution_count": null,
      "outputs": [
        {
          "output_type": "stream",
          "name": "stdout",
          "text": [
            "[[ 0  1  2  3]\n",
            " [ 4  5  6  7]\n",
            " [ 8  9 10 11]]\n",
            "[[ 0  1  2]\n",
            " [ 3  4  5]\n",
            " [ 6  7  8]\n",
            " [ 9 10 11]]\n"
          ]
        },
        {
          "output_type": "error",
          "ename": "ValueError",
          "evalue": "ignored",
          "traceback": [
            "\u001b[0;31m---------------------------------------------------------------------------\u001b[0m",
            "\u001b[0;31mValueError\u001b[0m                                Traceback (most recent call last)",
            "\u001b[0;32m<ipython-input-109-c590a65467e5>\u001b[0m in \u001b[0;36m<module>\u001b[0;34m\u001b[0m\n\u001b[1;32m      5\u001b[0m \u001b[0mprint\u001b[0m\u001b[0;34m(\u001b[0m\u001b[0mb\u001b[0m\u001b[0;34m)\u001b[0m\u001b[0;34m\u001b[0m\u001b[0;34m\u001b[0m\u001b[0m\n\u001b[1;32m      6\u001b[0m \u001b[0;34m\u001b[0m\u001b[0m\n\u001b[0;32m----> 7\u001b[0;31m \u001b[0mprint\u001b[0m\u001b[0;34m(\u001b[0m\u001b[0ma\u001b[0m\u001b[0;34m+\u001b[0m\u001b[0mb\u001b[0m\u001b[0;34m)\u001b[0m\u001b[0;34m\u001b[0m\u001b[0;34m\u001b[0m\u001b[0m\n\u001b[0m",
            "\u001b[0;31mValueError\u001b[0m: operands could not be broadcast together with shapes (3,4) (4,3) "
          ]
        }
      ]
    },
    {
      "cell_type": "code",
      "source": [
        "a = np.arange(16).reshape(4,4)\n",
        "b = np.arange(4).reshape(2,2)\n",
        "\n",
        "print(a)\n",
        "print(b)\n",
        "\n",
        "print(a+b)"
      ],
      "metadata": {
        "colab": {
          "base_uri": "https://localhost:8080/",
          "height": 312
        },
        "id": "kelF0GRBR3--",
        "outputId": "233ef62e-b775-4f00-c61d-dd9131067183"
      },
      "execution_count": null,
      "outputs": [
        {
          "output_type": "stream",
          "name": "stdout",
          "text": [
            "[[ 0  1  2  3]\n",
            " [ 4  5  6  7]\n",
            " [ 8  9 10 11]\n",
            " [12 13 14 15]]\n",
            "[[0 1]\n",
            " [2 3]]\n"
          ]
        },
        {
          "output_type": "error",
          "ename": "ValueError",
          "evalue": "ignored",
          "traceback": [
            "\u001b[0;31m---------------------------------------------------------------------------\u001b[0m",
            "\u001b[0;31mValueError\u001b[0m                                Traceback (most recent call last)",
            "\u001b[0;32m<ipython-input-110-57df50a0058a>\u001b[0m in \u001b[0;36m<module>\u001b[0;34m\u001b[0m\n\u001b[1;32m      5\u001b[0m \u001b[0mprint\u001b[0m\u001b[0;34m(\u001b[0m\u001b[0mb\u001b[0m\u001b[0;34m)\u001b[0m\u001b[0;34m\u001b[0m\u001b[0;34m\u001b[0m\u001b[0m\n\u001b[1;32m      6\u001b[0m \u001b[0;34m\u001b[0m\u001b[0m\n\u001b[0;32m----> 7\u001b[0;31m \u001b[0mprint\u001b[0m\u001b[0;34m(\u001b[0m\u001b[0ma\u001b[0m\u001b[0;34m+\u001b[0m\u001b[0mb\u001b[0m\u001b[0;34m)\u001b[0m\u001b[0;34m\u001b[0m\u001b[0;34m\u001b[0m\u001b[0m\n\u001b[0m",
            "\u001b[0;31mValueError\u001b[0m: operands could not be broadcast together with shapes (4,4) (2,2) "
          ]
        }
      ]
    },
    {
      "cell_type": "markdown",
      "source": [
        "### Working with mathematical formulas"
      ],
      "metadata": {
        "id": "UNqpEw03LSl6"
      }
    },
    {
      "cell_type": "code",
      "source": [
        "a = np.arange(10)\n",
        "np.sin(a)"
      ],
      "metadata": {
        "colab": {
          "base_uri": "https://localhost:8080/"
        },
        "id": "U01nMTh-N-h_",
        "outputId": "f78780bf-cea2-4234-f03f-38df6c36f812"
      },
      "execution_count": null,
      "outputs": [
        {
          "output_type": "execute_result",
          "data": {
            "text/plain": [
              "array([ 0.        ,  0.84147098,  0.90929743,  0.14112001, -0.7568025 ,\n",
              "       -0.95892427, -0.2794155 ,  0.6569866 ,  0.98935825,  0.41211849])"
            ]
          },
          "metadata": {},
          "execution_count": 114
        }
      ]
    },
    {
      "cell_type": "code",
      "source": [
        "# sigmoid\n",
        "def sigmoid(array):\n",
        "  return 1/(1 + np.exp(-(array)))\n",
        "\n",
        "\n",
        "a = np.arange(100)\n",
        "\n",
        "sigmoid(a)"
      ],
      "metadata": {
        "id": "Sf6T8s8VCZum",
        "colab": {
          "base_uri": "https://localhost:8080/"
        },
        "outputId": "976e4793-59c8-4590-bc57-5c3df210c1c3"
      },
      "execution_count": null,
      "outputs": [
        {
          "output_type": "execute_result",
          "data": {
            "text/plain": [
              "array([0.5       , 0.73105858, 0.88079708, 0.95257413, 0.98201379,\n",
              "       0.99330715, 0.99752738, 0.99908895, 0.99966465, 0.99987661,\n",
              "       0.9999546 , 0.9999833 , 0.99999386, 0.99999774, 0.99999917,\n",
              "       0.99999969, 0.99999989, 0.99999996, 0.99999998, 0.99999999,\n",
              "       1.        , 1.        , 1.        , 1.        , 1.        ,\n",
              "       1.        , 1.        , 1.        , 1.        , 1.        ,\n",
              "       1.        , 1.        , 1.        , 1.        , 1.        ,\n",
              "       1.        , 1.        , 1.        , 1.        , 1.        ,\n",
              "       1.        , 1.        , 1.        , 1.        , 1.        ,\n",
              "       1.        , 1.        , 1.        , 1.        , 1.        ,\n",
              "       1.        , 1.        , 1.        , 1.        , 1.        ,\n",
              "       1.        , 1.        , 1.        , 1.        , 1.        ,\n",
              "       1.        , 1.        , 1.        , 1.        , 1.        ,\n",
              "       1.        , 1.        , 1.        , 1.        , 1.        ,\n",
              "       1.        , 1.        , 1.        , 1.        , 1.        ,\n",
              "       1.        , 1.        , 1.        , 1.        , 1.        ,\n",
              "       1.        , 1.        , 1.        , 1.        , 1.        ,\n",
              "       1.        , 1.        , 1.        , 1.        , 1.        ,\n",
              "       1.        , 1.        , 1.        , 1.        , 1.        ,\n",
              "       1.        , 1.        , 1.        , 1.        , 1.        ])"
            ]
          },
          "metadata": {},
          "execution_count": 117
        }
      ]
    },
    {
      "cell_type": "code",
      "source": [
        "# mean squared error\n",
        "\n",
        "actual = np.random.randint(1,50,25)\n",
        "predicted = np.random.randint(1,50,25)"
      ],
      "metadata": {
        "id": "3jaule_JOcdc"
      },
      "execution_count": 20,
      "outputs": []
    },
    {
      "cell_type": "code",
      "source": [
        "actual"
      ],
      "metadata": {
        "colab": {
          "base_uri": "https://localhost:8080/"
        },
        "id": "plXemGIXQfmR",
        "outputId": "74125684-7130-402b-f8ff-daeda115f151"
      },
      "execution_count": 21,
      "outputs": [
        {
          "output_type": "execute_result",
          "data": {
            "text/plain": [
              "array([21, 31, 32,  2,  7,  8, 15, 22, 17, 15, 42, 48, 12, 42, 38, 42, 13,\n",
              "       43, 46, 48, 29, 48, 43, 26, 17])"
            ]
          },
          "metadata": {},
          "execution_count": 21
        }
      ]
    },
    {
      "cell_type": "code",
      "source": [
        "predicted"
      ],
      "metadata": {
        "id": "v3utYMVGcv2b",
        "outputId": "1083d2e2-0de5-425b-c0f2-4c7fd7166fc9",
        "colab": {
          "base_uri": "https://localhost:8080/"
        }
      },
      "execution_count": 22,
      "outputs": [
        {
          "output_type": "execute_result",
          "data": {
            "text/plain": [
              "array([40, 12, 11, 14, 12, 20,  1, 49, 22, 25, 30, 15,  7,  3, 39, 16,  5,\n",
              "       21,  8, 10, 43, 13, 47, 24,  5])"
            ]
          },
          "metadata": {},
          "execution_count": 22
        }
      ]
    },
    {
      "cell_type": "code",
      "source": [
        "def mse(actual,predicted):\n",
        "  return np.mean((actual - predicted)**2)\n",
        "\n",
        "mse(actual,predicted)"
      ],
      "metadata": {
        "colab": {
          "base_uri": "https://localhost:8080/"
        },
        "id": "qfoOOAAUQzhY",
        "outputId": "c122d24c-d752-4cc0-a277-9b1a95c9ad0e"
      },
      "execution_count": 23,
      "outputs": [
        {
          "output_type": "execute_result",
          "data": {
            "text/plain": [
              "440.12"
            ]
          },
          "metadata": {},
          "execution_count": 23
        }
      ]
    },
    {
      "cell_type": "markdown",
      "source": [
        "### Working with missing values"
      ],
      "metadata": {
        "id": "d9olU9IoLX8P"
      }
    },
    {
      "cell_type": "code",
      "source": [
        "# Working with missing values -> np.nan\n",
        "a = np.array([1,2,3,4,np.nan,6])\n",
        "a"
      ],
      "metadata": {
        "id": "LhrsmaIfChjL",
        "colab": {
          "base_uri": "https://localhost:8080/"
        },
        "outputId": "7e2c55af-6e86-4dfb-adbb-1f6a0d62099e"
      },
      "execution_count": null,
      "outputs": [
        {
          "output_type": "execute_result",
          "data": {
            "text/plain": [
              "array([ 1.,  2.,  3.,  4., nan,  6.])"
            ]
          },
          "metadata": {},
          "execution_count": 126
        }
      ]
    },
    {
      "cell_type": "markdown",
      "source": [
        "In python, None and np.nan both are different."
      ],
      "metadata": {
        "id": "LhIUNKIflA4u"
      }
    },
    {
      "cell_type": "code",
      "source": [
        "a[~np.isnan(a)]"
      ],
      "metadata": {
        "colab": {
          "base_uri": "https://localhost:8080/"
        },
        "id": "dYI5z7g6S_TI",
        "outputId": "2238d623-f056-497c-844a-e38bd204821f"
      },
      "execution_count": null,
      "outputs": [
        {
          "output_type": "execute_result",
          "data": {
            "text/plain": [
              "array([1., 2., 3., 4., 6.])"
            ]
          },
          "metadata": {},
          "execution_count": 130
        }
      ]
    },
    {
      "cell_type": "markdown",
      "source": [
        "### Plotting Graphs"
      ],
      "metadata": {
        "id": "LdVWeHyeLdw5"
      }
    },
    {
      "cell_type": "code",
      "source": [
        "# plotting a 2D plot\n",
        "# x = y\n",
        "import matplotlib.pyplot as plt\n",
        "\n",
        "x = np.linspace(-10,10,100) # taking 100 equidistant numbers between -10 and 10\n",
        "y = x\n",
        "\n",
        "plt.plot(x,y)"
      ],
      "metadata": {
        "id": "2XjXkt9JCm9q",
        "colab": {
          "base_uri": "https://localhost:8080/",
          "height": 283
        },
        "outputId": "3cf8071a-7fc5-48be-ece4-2b7896fd8a63"
      },
      "execution_count": null,
      "outputs": [
        {
          "output_type": "execute_result",
          "data": {
            "text/plain": [
              "[<matplotlib.lines.Line2D at 0x7f6f78e18f70>]"
            ]
          },
          "metadata": {},
          "execution_count": 134
        },
        {
          "output_type": "display_data",
          "data": {
            "text/plain": [
              "<Figure size 432x288 with 1 Axes>"
            ],
            "image/png": "[encoded data removed]"
          },
          "metadata": {
            "needs_background": "light"
          }
        }
      ]
    },
    {
      "cell_type": "code",
      "source": [
        "# y = x^2\n",
        "x = np.linspace(-10,10,100)\n",
        "y = x**2\n",
        "\n",
        "plt.plot(x,y)"
      ],
      "metadata": {
        "colab": {
          "base_uri": "https://localhost:8080/",
          "height": 283
        },
        "id": "SyYCKM--V7Uw",
        "outputId": "ef8c3245-56e0-4210-e4d3-4f4f784f39ab"
      },
      "execution_count": null,
      "outputs": [
        {
          "output_type": "execute_result",
          "data": {
            "text/plain": [
              "[<matplotlib.lines.Line2D at 0x7f6f87acf100>]"
            ]
          },
          "metadata": {},
          "execution_count": 135
        },
        {
          "output_type": "display_data",
          "data": {
            "text/plain": [
              "<Figure size 432x288 with 1 Axes>"
            ],
            "image/png": "[encoded data removed]"
          },
          "metadata": {
            "needs_background": "light"
          }
        }
      ]
    },
    {
      "cell_type": "code",
      "source": [
        "# y = sin(x)\n",
        "x = np.linspace(-10,10,100)\n",
        "y = np.sin(x)\n",
        "\n",
        "plt.plot(x,y)"
      ],
      "metadata": {
        "colab": {
          "base_uri": "https://localhost:8080/",
          "height": 283
        },
        "id": "lG-QRoWdWHxp",
        "outputId": "11b66200-e2f0-4d23-8b42-02b9d8573e4a"
      },
      "execution_count": null,
      "outputs": [
        {
          "output_type": "execute_result",
          "data": {
            "text/plain": [
              "[<matplotlib.lines.Line2D at 0x7f6f5d1d0100>]"
            ]
          },
          "metadata": {},
          "execution_count": 136
        },
        {
          "output_type": "display_data",
          "data": {
            "text/plain": [
              "<Figure size 432x288 with 1 Axes>"
            ],
            "image/png": "[encoded data removed]"
          },
          "metadata": {
            "needs_background": "light"
          }
        }
      ]
    },
    {
      "cell_type": "code",
      "source": [
        "# y = xlog(x)\n",
        "x = np.linspace(-10,10,100)\n",
        "y = x * np.log(x)\n",
        "\n",
        "plt.plot(x,y)"
      ],
      "metadata": {
        "colab": {
          "base_uri": "https://localhost:8080/",
          "height": 319
        },
        "id": "EpuzrF8YWUqD",
        "outputId": "3e61f24d-a9f9-4d28-a303-3ff9390899cb"
      },
      "execution_count": null,
      "outputs": [
        {
          "output_type": "stream",
          "name": "stderr",
          "text": [
            "<ipython-input-137-4b3958c08378>:3: RuntimeWarning: invalid value encountered in log\n",
            "  y = x * np.log(x)\n"
          ]
        },
        {
          "output_type": "execute_result",
          "data": {
            "text/plain": [
              "[<matplotlib.lines.Line2D at 0x7f6f57ab62e0>]"
            ]
          },
          "metadata": {},
          "execution_count": 137
        },
        {
          "output_type": "display_data",
          "data": {
            "text/plain": [
              "<Figure size 432x288 with 1 Axes>"
            ],
            "image/png": "[encoded data removed]"
          },
          "metadata": {
            "needs_background": "light"
          }
        }
      ]
    },
    {
      "cell_type": "code",
      "source": [
        "# sigmoid\n",
        "x = np.linspace(-10,10,100)\n",
        "y = 1/(1+np.exp(-x))\n",
        "\n",
        "plt.plot(x,y)"
      ],
      "metadata": {
        "colab": {
          "base_uri": "https://localhost:8080/",
          "height": 283
        },
        "id": "LidUuDKVW5De",
        "outputId": "651766f0-8f17-4b64-d436-1aca8ad7ee73"
      },
      "execution_count": null,
      "outputs": [
        {
          "output_type": "execute_result",
          "data": {
            "text/plain": [
              "[<matplotlib.lines.Line2D at 0x7f6f5401e100>]"
            ]
          },
          "metadata": {},
          "execution_count": 138
        },
        {
          "output_type": "display_data",
          "data": {
            "text/plain": [
              "<Figure size 432x288 with 1 Axes>"
            ],
            "image/png": "[encoded data removed]"
          },
          "metadata": {
            "needs_background": "light"
          }
        }
      ]
    },
    {
      "cell_type": "markdown",
      "source": [
        "### Meshgrids"
      ],
      "metadata": {
        "id": "1sw0TeY7LiGK"
      }
    },
    {
      "cell_type": "code",
      "source": [
        "# Meshgrids"
      ],
      "metadata": {
        "id": "xQP6c_ISE75r"
      },
      "execution_count": null,
      "outputs": []
    }
  ]
}